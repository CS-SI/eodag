{
 "cells": [
  {
   "cell_type": "markdown",
   "metadata": {},
   "source": [
    "Eodag basics\n",
    "===========\n",
    "\n",
    "We present the two basic features of eodag : search and download.\n",
    "\n",
    "Let's start by creating a workspace directory where all our files and configuration will live:"
   ]
  },
  {
   "cell_type": "code",
   "execution_count": 1,
   "metadata": {},
   "outputs": [],
   "source": [
    "import os\n",
    "\n",
    "workspace = 'eodag_workspace'\n",
    "if not os.path.isdir(workspace):\n",
    "    os.mkdir(workspace)"
   ]
  },
  {
   "cell_type": "markdown",
   "metadata": {},
   "source": [
    "Set your personal credentials to access [peps service](https://peps.cnes.fr):"
   ]
  },
  {
   "cell_type": "code",
   "execution_count": 1,
   "metadata": {},
   "outputs": [],
   "source": [
    "os.environ[\"EODAG__PEPS__AUTH__CREDENTIALS__USERNAME\"] = \"PLEASE_CHANGE_ME\"\n",
    "os.environ[\"EODAG__PEPS__AUTH__CREDENTIALS__PASSWORD\"] = \"PLEASE_CHANGE_ME\""
   ]
  },
  {
   "cell_type": "markdown",
   "metadata": {},
   "source": [
    "Next, we consider that we have a configuration file sitting in our workspace called `eodag_conf.yml`, with this minimalist content:\n",
    "\n",
    "    peps:\n",
    "        download:\n",
    "            outputs_prefix: <absolute_path_to_eodag_workspace>\n",
    "            extract: true\n",
    "    \n",
    "The rest of the configuration is the providers credentials given as described in the documentation.\n",
    "\n",
    "The first step is to initialize the session by creating an `EODataAccessGateway` instance, with the previous configuration file:"
   ]
  },
  {
   "cell_type": "code",
   "execution_count": 2,
   "metadata": {},
   "outputs": [
    {
     "name": "stderr",
     "output_type": "stream",
     "text": [
      "2019-04-15 16:30:09,186-15s eodag.config                     [INFO    ] Loading user configuration from: /tmp/eodag_workspace/eodag_conf.yml\n"
     ]
    }
   ],
   "source": [
    "# To have some basic feedback on what eodag is doing, we configure logging to output minimum information\n",
    "from eodag.utils.logging import setup_logging\n",
    "setup_logging(verbose=1)\n",
    "\n",
    "from eodag.api.core import EODataAccessGateway\n",
    "\n",
    "dag = EODataAccessGateway()"
   ]
  },
  {
   "cell_type": "markdown",
   "metadata": {},
   "source": [
    "Now let's search for Sentinel 2 L1C products in the South of France:"
   ]
  },
  {
   "cell_type": "code",
   "execution_count": 3,
   "metadata": {},
   "outputs": [
    {
     "name": "stderr",
     "output_type": "stream",
     "text": [
      "2019-04-15 16:36:12,426-15s eodag.core                       [INFO    ] Searching product type 'S2_MSI_L1C' on provider: peps\n",
      "2019-04-15 16:36:12,428-15s eodag.plugins.search.qssearch    [INFO    ] Sending count request: https://peps.cnes.fr/resto/api/collections/S2ST/search.json?box=-1.999512,42.763146,4.570313,46.754917&startDate=2018-06-01&productType=S2MSI1C&completionDate=2019-04-15&maxRecords=1&page=1\n",
      "2019-04-15 16:36:14,423-15s eodag.plugins.search.qssearch    [INFO    ] Sending search request: https://peps.cnes.fr/resto/api/collections/S2ST/search.json?box=-1.999512,42.763146,4.570313,46.754917&startDate=2018-06-01&productType=S2MSI1C&completionDate=2019-04-15&maxRecords=20&page=1\n",
      "2019-04-15 16:36:17,106-15s eodag.core                       [INFO    ] Found 2090 result(s) on provider 'peps'\n"
     ]
    }
   ],
   "source": [
    "from datetime import date\n",
    "\n",
    "product_type = 'S2_MSI_L1C'\n",
    "extent = {\n",
    "    'lonmin': -1.999512,\n",
    "    'lonmax': 4.570313,\n",
    "    'latmin': 42.763146,\n",
    "    'latmax': 46.754917\n",
    "}\n",
    "\n",
    "products, estimated_total_nbr_of_results = dag.search(\n",
    "    productType=product_type,\n",
    "    start='2018-06-01',\n",
    "    end=date.today().isoformat(),\n",
    "    box=extent\n",
    ")"
   ]
  },
  {
   "cell_type": "markdown",
   "metadata": {},
   "source": [
    "Now that we have found some products, we can store the search result in a geojson file that will be used for later download:"
   ]
  },
  {
   "cell_type": "code",
   "execution_count": 4,
   "metadata": {
    "scrolled": true
   },
   "outputs": [],
   "source": [
    "search_result_file = dag.serialize(products, filename=os.path.join(workspace, 'search_results.geojson'))"
   ]
  },
  {
   "cell_type": "markdown",
   "metadata": {},
   "source": [
    "We can check the extents of the products before downloading them by using ipyleaflet API:"
   ]
  },
  {
   "cell_type": "code",
   "execution_count": 5,
   "metadata": {},
   "outputs": [
    {
     "data": {
      "application/vnd.jupyter.widget-view+json": {
       "model_id": "409c04e3d43a497bb3c83fea310d22d9",
       "version_major": 2,
       "version_minor": 0
      },
      "text/plain": [
       "TWFwKGJhc2VtYXA9eyd1cmwnOiAnaHR0cHM6Ly97c30udGlsZS5vcGVuc3RyZWV0bWFwLm9yZy97en0ve3h9L3t5fS5wbmcnLCAnbWF4X3pvb20nOiAxOSwgJ2F0dHJpYnV0aW9uJzogJ01hcCDigKY=\n"
      ]
     },
     "metadata": {},
     "output_type": "display_data"
    }
   ],
   "source": [
    "import ipyleaflet as ipyl\n",
    "\n",
    "m = ipyl.Map(center=[43.6, 1.5], zoom=5)\n",
    "layer = ipyl.GeoJSON(data=products.as_geojson_object(), hover_style={'fillColor': 'yellow'})\n",
    "\n",
    "m.add_layer(layer)\n",
    "m"
   ]
  },
  {
   "cell_type": "markdown",
   "metadata": {},
   "source": [
    "Finally, we can download from the eodag SearchResult object `products`, (or from the GeoJson previously created):"
   ]
  },
  {
   "cell_type": "code",
   "execution_count": 6,
   "metadata": {
    "scrolled": true
   },
   "outputs": [
    {
     "name": "stderr",
     "output_type": "stream",
     "text": [
      "2019-04-15 16:37:01,419-15s eodag.plugins.download.http      [INFO    ] Download url: https://peps.cnes.fr/resto/collections/S2ST/1c43894b-1248-5768-af70-e38a59ca8601/download\n"
     ]
    },
    {
     "data": {
      "application/vnd.jupyter.widget-view+json": {
       "model_id": "9faed18dba48486eb7aa5188f7e816cc",
       "version_major": 2,
       "version_minor": 0
      },
      "text/plain": [
       "HBox(children=(IntProgress(value=0, max=636458138), HTML(value=u'')))"
      ]
     },
     "metadata": {},
     "output_type": "display_data"
    },
    {
     "name": "stderr",
     "output_type": "stream",
     "text": [
      "2019-04-15 16:41:34,195-15s eodag.plugins.download.http      [INFO    ] Extraction activated\n",
      "Extracting files from S2B_MSIL1C_20190414T105629_N0207_R094_T30TXP_20190414T120932.zip: 100%|██████████| 115/115 [00:58<00:00,  1.96file/s]\n",
      "2019-04-15 16:42:32,964-15s eodag.api.product                [INFO    ] Remote location of the product is still available through its 'remote_location' property: https://peps.cnes.fr/resto/collections/S2ST/1c43894b-1248-5768-af70-e38a59ca8601/download\n"
     ]
    }
   ],
   "source": [
    "from eodag.utils import ProgressCallback\n",
    "from tqdm import tqdm_notebook\n",
    "\n",
    "# Create a custom progressbar callback\n",
    "class NotebookProgressCallback(ProgressCallback):\n",
    "    \n",
    "    def __call__(self, current_size, max_size):\n",
    "        if self.pb is None:\n",
    "            self.pb = tqdm_notebook(total=max_size, unit='KB', unit_scale=True)\n",
    "        self.pb.update(current_size)\n",
    "\n",
    "\n",
    "# Download the first product found\n",
    "path = dag.download(products[0], progress_callback=NotebookProgressCallback())"
   ]
  },
  {
   "cell_type": "markdown",
   "metadata": {},
   "source": [
    "This concludes the tutorial for the basic usage of eodag."
   ]
  }
 ],
 "metadata": {
  "kernelspec": {
   "display_name": "Python (eodag27)",
   "language": "python",
   "name": "eodag27"
  },
  "language_info": {
   "codemirror_mode": {
    "name": "ipython",
    "version": 2
   },
   "file_extension": ".py",
   "mimetype": "text/x-python",
   "name": "python",
   "nbconvert_exporter": "python",
   "pygments_lexer": "ipython2",
   "version": "2.7.15rc1"
  },
  "widgets": {
   "application/vnd.jupyter.widget-state+json": {
    "state": {
     "1eeef6ab3388424e84e5b1e8df8d5f84": {
      "model_module": "@jupyter-widgets/controls",
      "model_module_version": "1.4.0",
      "model_name": "DescriptionStyleModel",
      "state": {
       "description_width": ""
      }
     },
     "389da86350ee4ef89c400b17b0a780a3": {
      "model_module": "jupyter-leaflet",
      "model_module_version": "~0.10.0",
      "model_name": "LeafletGeoJSONModel",
      "state": {
       "_model_module_version": "~0.10.0",
       "_view_count": null,
       "_view_module_version": "~0.10.0",
       "data": {
        "features": [
         {
          "geometry": {
           "coordinates": [
            [
             [
              -0.41619873000002,
              43.235600960154
             ],
             [
              -0.37335204999999,
              44.223209740436
             ],
             [
              -1.7475281,
              44.246550934949
             ],
             [
              -1.7679749,
              43.25815531909
             ],
             [
              -0.41619873000002,
              43.235600960154
             ]
            ]
           ],
           "type": "Polygon"
          },
          "id": "1c43894b-1248-5768-af70-e38a59ca8601",
          "properties": {
           "abstract": null,
           "bareSoil": null,
           "cloudCover": 99.5575,
           "completionTimeFromAscendingNode": "2019-04-14T10:56:29.024Z",
           "creationDate": "2019-04-14T15:25:13.552Z",
           "downloadLink": "https://peps.cnes.fr/resto/collections/S2ST/1c43894b-1248-5768-af70-e38a59ca8601/download",
           "eodag_product_type": "S2_MSI_L1C",
           "eodag_provider": "peps",
           "eodag_search_intersection": {
            "coordinates": [
             [
              [
               -0.41619873000002,
               43.235600960154
              ],
              [
               -1.7679749,
               43.25815531909
              ],
              [
               -1.7475281,
               44.246550934949
              ],
              [
               -0.37335204999999,
               44.223209740436
              ],
              [
               -0.41619873000002,
               43.235600960154
              ]
             ]
            ],
            "type": "Polygon"
           },
           "highProbaClouds": null,
           "instrument": "MSI",
           "isNrt": 0,
           "keyword": {
            "2bf8710c0c56a40": {
             "href": "https://peps.cnes.fr/resto/api/collections/S2ST/search.json?&lang=en&q=April",
             "name": "April",
             "parentHash": "bd69cb806e20886",
             "type": "month"
            },
            "3af7f479d8e1e5a": {
             "href": "https://peps.cnes.fr/resto/api/collections/S2ST/search.json?&lang=en&q=Landes",
             "name": "Landes",
             "normalized": "landes",
             "parentHash": "db06f1d6088ec4f",
             "type": "state",
             "value": 51.52
            },
            "3be01aa3157cfbf": {
             "href": "https://peps.cnes.fr/resto/api/collections/S2ST/search.json?&lang=en&q=Gironde",
             "name": "Gironde",
             "normalized": "gironde",
             "parentHash": "db06f1d6088ec4f",
             "type": "state",
             "value": 0.01
            },
            "44b15c0a6e62129": {
             "href": "https://peps.cnes.fr/resto/api/collections/S2ST/search.json?&lang=en&q=LEVEL1C",
             "name": "LEVEL1C",
             "type": "processingLevel"
            },
            "45038f3c2322ea3": {
             "href": "https://peps.cnes.fr/resto/api/collections/S2ST/search.json?&lang=en&q=S2ST",
             "name": "S2ST",
             "type": "collection"
            },
            "56bf819406cae6b": {
             "href": "https://peps.cnes.fr/resto/api/collections/S2ST/search.json?&lang=en&q=s2B",
             "name": "s2B",
             "type": "platform"
            },
            "6219554ecf5905c": {
             "href": "https://peps.cnes.fr/resto/api/collections/S2ST/search.json?&lang=en&q=S2MSI1C",
             "name": "S2MSI1C",
             "type": "productType"
            },
            "780bca3744e24aa": {
             "href": "https://peps.cnes.fr/resto/api/collections/S2ST/search.json?&lang=en&q=%22Foral%20de%20Navarra%22",
             "name": "Foral de Navarra",
             "normalized": "foral-de-navarra",
             "parentHash": "e95d1eb633b4dd1",
             "type": "region",
             "value": 0.61
            },
            "8537cb03801d45c": {
             "href": "https://peps.cnes.fr/resto/api/collections/S2ST/search.json?&lang=en&q=14",
             "name": "14",
             "parentHash": "2bf8710c0c56a40",
             "type": "day"
            },
            "8e973c5726ef929": {
             "href": "https://peps.cnes.fr/resto/api/collections/S2ST/search.json?&lang=en&q=Coastal",
             "name": "Coastal",
             "type": "location"
            },
            "8f43f01f9586bac": {
             "href": "https://peps.cnes.fr/resto/api/collections/S2ST/search.json?&lang=en&q=Ascending",
             "name": "Ascending",
             "type": "orbitDirection"
            },
            "936bcbcf5c43fbd": {
             "href": "https://peps.cnes.fr/resto/api/collections/S2ST/search.json?&lang=en&q=France",
             "name": "France",
             "normalized": "france",
             "parentHash": "bce097de57d1ab7",
             "type": "country",
             "value": 78.26
            },
            "a0e4a10aa754ab4": {
             "href": "https://peps.cnes.fr/resto/api/collections/S2ST/search.json?&lang=en&q=Northern",
             "name": "Northern",
             "type": "location"
            },
            "a56dfb1210d361d": {
             "href": "https://peps.cnes.fr/resto/api/collections/S2ST/search.json?&lang=en&q=Nominal",
             "name": "Nominal",
             "type": "realtime"
            },
            "aca78422271631a": {
             "href": "https://peps.cnes.fr/resto/api/collections/S2ST/search.json?&lang=en&q=INS-NOBS",
             "name": "INS-NOBS",
             "parentHash": "f841767ba5c92d4",
             "type": "sensorMode"
            },
            "b4de51064131332": {
             "href": "https://peps.cnes.fr/resto/api/collections/S2ST/search.json?&lang=en&q=Spring",
             "name": "Spring",
             "type": "season"
            },
            "bce097de57d1ab7": {
             "href": "https://peps.cnes.fr/resto/api/collections/S2ST/search.json?&lang=en&q=Europe",
             "name": "Europe",
             "normalized": "europe",
             "type": "continent"
            },
            "bd69cb806e20886": {
             "href": "https://peps.cnes.fr/resto/api/collections/S2ST/search.json?&lang=en&q=2019",
             "name": "2019",
             "type": "year"
            },
            "cb311e1a7554343": {
             "href": "https://peps.cnes.fr/resto/api/collections/S2ST/search.json?&lang=en&q=Navarra",
             "name": "Navarra",
             "normalized": "navarra",
             "parentHash": "780bca3744e24aa",
             "type": "state",
             "value": 0.59
            },
            "d52b1d36804487b": {
             "href": "https://peps.cnes.fr/resto/api/collections/S2ST/search.json?&lang=en&q=Gipuzkoa",
             "name": "Gipuzkoa",
             "normalized": "gipuzkoa",
             "parentHash": "e3a9c4dec35e1c6",
             "type": "state",
             "value": 0.03
            },
            "d5a7d91bc589eaf": {
             "href": "https://peps.cnes.fr/resto/api/collections/S2ST/search.json?&lang=en&q=Pyr%C3%A9n%C3%A9es-Atlantiques",
             "name": "Pyrénées-Atlantiques",
             "normalized": "pyrenees-atlantiques",
             "parentHash": "db06f1d6088ec4f",
             "type": "state",
             "value": 26.72
            },
            "db06f1d6088ec4f": {
             "href": "https://peps.cnes.fr/resto/api/collections/S2ST/search.json?&lang=en&q=Aquitaine",
             "name": "Aquitaine",
             "normalized": "aquitaine",
             "parentHash": "936bcbcf5c43fbd",
             "type": "region",
             "value": 78.19
            },
            "e3a9c4dec35e1c6": {
             "href": "https://peps.cnes.fr/resto/api/collections/S2ST/search.json?&lang=en&q=%22Pa%C3%ADs%20Vasco%22",
             "name": "País Vasco",
             "normalized": "pais-vasco",
             "parentHash": "e95d1eb633b4dd1",
             "type": "region",
             "value": 0.02
            },
            "e95d1eb633b4dd1": {
             "href": "https://peps.cnes.fr/resto/api/collections/S2ST/search.json?&lang=en&q=Spain",
             "name": "Spain",
             "normalized": "spain",
             "parentHash": "bce097de57d1ab7",
             "type": "country",
             "value": 0.62
            },
            "f841767ba5c92d4": {
             "href": "https://peps.cnes.fr/resto/api/collections/S2ST/search.json?&lang=en&q=msi",
             "name": "msi",
             "parentHash": "56bf819406cae6b",
             "type": "instrument"
            }
           },
           "lowProbaClouds": null,
           "mediumProbaClouds": null,
           "mgrs": "30TXP",
           "modificationDate": "2019-04-14T15:39:30.102Z",
           "newVersion": null,
           "orbitDirection": "ascending",
           "orbitNumber": 10988,
           "organisationName": null,
           "parentIdentifier": "urn:ogc:def:EOP:ESA::SENTINEL-2:",
           "platform": "S2ST",
           "platformSerialIdentifier": "S2B",
           "processingLevel": "LEVEL1C",
           "productType": "S2MSI1C",
           "publicationDate": "2019-04-14T15:39:30.102Z",
           "quicklook": "https://peps.cnes.fr/quicklook/2019/04/14/S2B/S2B_MSIL1C_20190414T105629_N0207_R094_T30TXP_20190414T120932_quicklook.jpg",
           "realtime": "Nominal",
           "relativeOrbitNumber": 94,
           "resolution": null,
           "resourceChecksum": "DBC4E2F02A4F50B09956BF1636E0112D",
           "resourceSize": 636458138,
           "s2TakeId": "GS2B_20190414T105629_010988_N02.07",
           "sensorMode": "INS-NOBS",
           "snowCover": null,
           "snowIce": null,
           "startTimeFromAscendingNode": "2019-04-14T10:56:29.024Z",
           "storage": {
            "mode": "disk"
           },
           "thumbnail": null,
           "title": "S2B_MSIL1C_20190414T105629_N0207_R094_T30TXP_20190414T120932",
           "vegetation": null,
           "visible": 1,
           "water": null
          },
          "type": "Feature"
         },
         {
          "geometry": {
           "coordinates": [
            [
             [
              -0.29373170000002,
              45.933496504885
             ],
             [
              -0.24441528,
              46.920536388192
             ],
             [
              -1.6859741,
              46.946168253975
             ],
             [
              -1.7095032,
              45.958264518392
             ],
             [
              -0.29373170000002,
              45.933496504885
             ]
            ]
           ],
           "type": "Polygon"
          },
          "id": "21d0d40a-ff62-5d31-83e8-9e9d11bdb56e",
          "properties": {
           "abstract": null,
           "bareSoil": null,
           "cloudCover": 33.7125,
           "completionTimeFromAscendingNode": "2019-04-14T10:56:29.024Z",
           "creationDate": "2019-04-14T15:25:35.783Z",
           "downloadLink": "https://peps.cnes.fr/resto/collections/S2ST/21d0d40a-ff62-5d31-83e8-9e9d11bdb56e/download",
           "eodag_product_type": "S2_MSI_L1C",
           "eodag_provider": "peps",
           "eodag_search_intersection": {
            "coordinates": [
             [
              [
               -0.2526902802774534,
               46.754917
              ],
              [
               -0.29373170000002,
               45.933496504885
              ],
              [
               -1.7095032,
               45.958264518392
              ],
              [
               -1.690529169201401,
               46.754917
              ],
              [
               -0.2526902802774534,
               46.754917
              ]
             ]
            ],
            "type": "Polygon"
           },
           "highProbaClouds": null,
           "instrument": "MSI",
           "isNrt": 0,
           "keyword": {
            "2bf8710c0c56a40": {
             "href": "https://peps.cnes.fr/resto/api/collections/S2ST/search.json?&lang=en&q=April",
             "name": "April",
             "parentHash": "bd69cb806e20886",
             "type": "month"
            },
            "34144f336d27e53": {
             "href": "https://peps.cnes.fr/resto/api/collections/S2ST/search.json?&lang=en&q=Charente-Maritime",
             "name": "Charente-Maritime",
             "normalized": "charente-maritime",
             "parentHash": "f0e6a6daa0e9f47",
             "type": "state",
             "value": 18.01
            },
            "36c432b3f9379dd": {
             "href": "https://peps.cnes.fr/resto/api/collections/S2ST/search.json?&lang=en&q=Vend%C3%A9e",
             "name": "Vendée",
             "normalized": "vendee",
             "parentHash": "e4d7be6100917a7",
             "type": "state",
             "value": 41.13
            },
            "44b15c0a6e62129": {
             "href": "https://peps.cnes.fr/resto/api/collections/S2ST/search.json?&lang=en&q=LEVEL1C",
             "name": "LEVEL1C",
             "type": "processingLevel"
            },
            "45038f3c2322ea3": {
             "href": "https://peps.cnes.fr/resto/api/collections/S2ST/search.json?&lang=en&q=S2ST",
             "name": "S2ST",
             "type": "collection"
            },
            "56bf819406cae6b": {
             "href": "https://peps.cnes.fr/resto/api/collections/S2ST/search.json?&lang=en&q=s2B",
             "name": "s2B",
             "type": "platform"
            },
            "6219554ecf5905c": {
             "href": "https://peps.cnes.fr/resto/api/collections/S2ST/search.json?&lang=en&q=S2MSI1C",
             "name": "S2MSI1C",
             "type": "productType"
            },
            "8537cb03801d45c": {
             "href": "https://peps.cnes.fr/resto/api/collections/S2ST/search.json?&lang=en&q=14",
             "name": "14",
             "parentHash": "2bf8710c0c56a40",
             "type": "day"
            },
            "8e973c5726ef929": {
             "href": "https://peps.cnes.fr/resto/api/collections/S2ST/search.json?&lang=en&q=Coastal",
             "name": "Coastal",
             "type": "location"
            },
            "8f43f01f9586bac": {
             "href": "https://peps.cnes.fr/resto/api/collections/S2ST/search.json?&lang=en&q=Ascending",
             "name": "Ascending",
             "type": "orbitDirection"
            },
            "936bcbcf5c43fbd": {
             "href": "https://peps.cnes.fr/resto/api/collections/S2ST/search.json?&lang=en&q=France",
             "name": "France",
             "normalized": "france",
             "parentHash": "bce097de57d1ab7",
             "type": "country",
             "value": 84.17
            },
            "a0e4a10aa754ab4": {
             "href": "https://peps.cnes.fr/resto/api/collections/S2ST/search.json?&lang=en&q=Northern",
             "name": "Northern",
             "type": "location"
            },
            "a56dfb1210d361d": {
             "href": "https://peps.cnes.fr/resto/api/collections/S2ST/search.json?&lang=en&q=Nominal",
             "name": "Nominal",
             "type": "realtime"
            },
            "aca78422271631a": {
             "href": "https://peps.cnes.fr/resto/api/collections/S2ST/search.json?&lang=en&q=INS-NOBS",
             "name": "INS-NOBS",
             "parentHash": "f841767ba5c92d4",
             "type": "sensorMode"
            },
            "b291feb5c1ad6a1": {
             "href": "https://peps.cnes.fr/resto/api/collections/S2ST/search.json?&lang=en&q=Loire-Atlantique",
             "name": "Loire-Atlantique",
             "normalized": "loire-atlantique",
             "parentHash": "e4d7be6100917a7",
             "type": "state",
             "value": 0.88
            },
            "b4de51064131332": {
             "href": "https://peps.cnes.fr/resto/api/collections/S2ST/search.json?&lang=en&q=Spring",
             "name": "Spring",
             "type": "season"
            },
            "bce097de57d1ab7": {
             "href": "https://peps.cnes.fr/resto/api/collections/S2ST/search.json?&lang=en&q=Europe",
             "name": "Europe",
             "normalized": "europe",
             "type": "continent"
            },
            "bd69cb806e20886": {
             "href": "https://peps.cnes.fr/resto/api/collections/S2ST/search.json?&lang=en&q=2019",
             "name": "2019",
             "type": "year"
            },
            "e4d7be6100917a7": {
             "href": "https://peps.cnes.fr/resto/api/collections/S2ST/search.json?&lang=en&q=%22Pays%20de%20la%20Loire%22",
             "name": "Pays de la Loire",
             "normalized": "pays-de-la-loire",
             "parentHash": "936bcbcf5c43fbd",
             "type": "region",
             "value": 42.01
            },
            "f0e6a6daa0e9f47": {
             "href": "https://peps.cnes.fr/resto/api/collections/S2ST/search.json?&lang=en&q=Poitou-Charentes",
             "name": "Poitou-Charentes",
             "normalized": "poitou-charentes",
             "parentHash": "936bcbcf5c43fbd",
             "type": "region",
             "value": 41.87
            },
            "f1b1991da466f5c": {
             "href": "https://peps.cnes.fr/resto/api/collections/S2ST/search.json?&lang=en&q=Deux-S%C3%A8vres",
             "name": "Deux-Sèvres",
             "normalized": "deux-sevres",
             "parentHash": "f0e6a6daa0e9f47",
             "type": "state",
             "value": 24.01
            },
            "f841767ba5c92d4": {
             "href": "https://peps.cnes.fr/resto/api/collections/S2ST/search.json?&lang=en&q=msi",
             "name": "msi",
             "parentHash": "56bf819406cae6b",
             "type": "instrument"
            }
           },
           "lowProbaClouds": null,
           "mediumProbaClouds": null,
           "mgrs": "30TXS",
           "modificationDate": "2019-04-14T15:36:07.338Z",
           "newVersion": null,
           "orbitDirection": "ascending",
           "orbitNumber": 10988,
           "organisationName": null,
           "parentIdentifier": "urn:ogc:def:EOP:ESA::SENTINEL-2:",
           "platform": "S2ST",
           "platformSerialIdentifier": "S2B",
           "processingLevel": "LEVEL1C",
           "productType": "S2MSI1C",
           "publicationDate": "2019-04-14T15:36:07.338Z",
           "quicklook": "https://peps.cnes.fr/quicklook/2019/04/14/S2B/S2B_MSIL1C_20190414T105629_N0207_R094_T30TXS_20190414T120932_quicklook.jpg",
           "realtime": "Nominal",
           "relativeOrbitNumber": 94,
           "resolution": null,
           "resourceChecksum": "0DE7CD6E6251BF91640BB31E418143A0",
           "resourceSize": 798382347,
           "s2TakeId": "GS2B_20190414T105629_010988_N02.07",
           "sensorMode": "INS-NOBS",
           "snowCover": null,
           "snowIce": null,
           "startTimeFromAscendingNode": "2019-04-14T10:56:29.024Z",
           "storage": {
            "mode": "disk"
           },
           "thumbnail": null,
           "title": "S2B_MSIL1C_20190414T105629_N0207_R094_T30TXS_20190414T120932",
           "vegetation": null,
           "visible": 1,
           "water": null
          },
          "type": "Feature"
         },
         {
          "geometry": {
           "coordinates": [
            [
             [
              -0.37725829999999,
              44.135250725163
             ],
             [
              -0.33236693999999,
              45.122671880515
             ],
             [
              -1.7279663,
              45.146752855558
             ],
             [
              -1.7493896,
              44.158520786394
             ],
             [
              -0.37725829999999,
              44.135250725163
             ]
            ]
           ],
           "type": "Polygon"
          },
          "id": "2b1cfc81-9047-5f94-8d31-7d6aa14b0fb7",
          "properties": {
           "abstract": null,
           "bareSoil": null,
           "cloudCover": 79.2381,
           "completionTimeFromAscendingNode": "2019-04-14T10:56:29.024Z",
           "creationDate": "2019-04-14T15:25:46.588Z",
           "downloadLink": "https://peps.cnes.fr/resto/collections/S2ST/2b1cfc81-9047-5f94-8d31-7d6aa14b0fb7/download",
           "eodag_product_type": "S2_MSI_L1C",
           "eodag_provider": "peps",
           "eodag_search_intersection": {
            "coordinates": [
             [
              [
               -0.37725829999999,
               44.135250725163
              ],
              [
               -1.7493896,
               44.158520786394
              ],
              [
               -1.7279663,
               45.146752855558
              ],
              [
               -0.33236693999999,
               45.122671880515
              ],
              [
               -0.37725829999999,
               44.135250725163
              ]
             ]
            ],
            "type": "Polygon"
           },
           "highProbaClouds": null,
           "instrument": "MSI",
           "isNrt": 0,
           "keyword": {
            "2bf8710c0c56a40": {
             "href": "https://peps.cnes.fr/resto/api/collections/S2ST/search.json?&lang=en&q=April",
             "name": "April",
             "parentHash": "bd69cb806e20886",
             "type": "month"
            },
            "3af7f479d8e1e5a": {
             "href": "https://peps.cnes.fr/resto/api/collections/S2ST/search.json?&lang=en&q=Landes",
             "name": "Landes",
             "normalized": "landes",
             "parentHash": "db06f1d6088ec4f",
             "type": "state",
             "value": 19
            },
            "3be01aa3157cfbf": {
             "href": "https://peps.cnes.fr/resto/api/collections/S2ST/search.json?&lang=en&q=Gironde",
             "name": "Gironde",
             "normalized": "gironde",
             "parentHash": "db06f1d6088ec4f",
             "type": "state",
             "value": 43.62
            },
            "44b15c0a6e62129": {
             "href": "https://peps.cnes.fr/resto/api/collections/S2ST/search.json?&lang=en&q=LEVEL1C",
             "name": "LEVEL1C",
             "type": "processingLevel"
            },
            "45038f3c2322ea3": {
             "href": "https://peps.cnes.fr/resto/api/collections/S2ST/search.json?&lang=en&q=S2ST",
             "name": "S2ST",
             "type": "collection"
            },
            "56bf819406cae6b": {
             "href": "https://peps.cnes.fr/resto/api/collections/S2ST/search.json?&lang=en&q=s2B",
             "name": "s2B",
             "type": "platform"
            },
            "6219554ecf5905c": {
             "href": "https://peps.cnes.fr/resto/api/collections/S2ST/search.json?&lang=en&q=S2MSI1C",
             "name": "S2MSI1C",
             "type": "productType"
            },
            "8537cb03801d45c": {
             "href": "https://peps.cnes.fr/resto/api/collections/S2ST/search.json?&lang=en&q=14",
             "name": "14",
             "parentHash": "2bf8710c0c56a40",
             "type": "day"
            },
            "8e973c5726ef929": {
             "href": "https://peps.cnes.fr/resto/api/collections/S2ST/search.json?&lang=en&q=Coastal",
             "name": "Coastal",
             "type": "location"
            },
            "8f43f01f9586bac": {
             "href": "https://peps.cnes.fr/resto/api/collections/S2ST/search.json?&lang=en&q=Ascending",
             "name": "Ascending",
             "type": "orbitDirection"
            },
            "936bcbcf5c43fbd": {
             "href": "https://peps.cnes.fr/resto/api/collections/S2ST/search.json?&lang=en&q=France",
             "name": "France",
             "normalized": "france",
             "parentHash": "bce097de57d1ab7",
             "type": "country",
             "value": 62.62
            },
            "a0e4a10aa754ab4": {
             "href": "https://peps.cnes.fr/resto/api/collections/S2ST/search.json?&lang=en&q=Northern",
             "name": "Northern",
             "type": "location"
            },
            "a56dfb1210d361d": {
             "href": "https://peps.cnes.fr/resto/api/collections/S2ST/search.json?&lang=en&q=Nominal",
             "name": "Nominal",
             "type": "realtime"
            },
            "aca78422271631a": {
             "href": "https://peps.cnes.fr/resto/api/collections/S2ST/search.json?&lang=en&q=INS-NOBS",
             "name": "INS-NOBS",
             "parentHash": "f841767ba5c92d4",
             "type": "sensorMode"
            },
            "b4de51064131332": {
             "href": "https://peps.cnes.fr/resto/api/collections/S2ST/search.json?&lang=en&q=Spring",
             "name": "Spring",
             "type": "season"
            },
            "bce097de57d1ab7": {
             "href": "https://peps.cnes.fr/resto/api/collections/S2ST/search.json?&lang=en&q=Europe",
             "name": "Europe",
             "normalized": "europe",
             "type": "continent"
            },
            "bd69cb806e20886": {
             "href": "https://peps.cnes.fr/resto/api/collections/S2ST/search.json?&lang=en&q=2019",
             "name": "2019",
             "type": "year"
            },
            "db06f1d6088ec4f": {
             "href": "https://peps.cnes.fr/resto/api/collections/S2ST/search.json?&lang=en&q=Aquitaine",
             "name": "Aquitaine",
             "normalized": "aquitaine",
             "parentHash": "936bcbcf5c43fbd",
             "type": "region",
             "value": 62.67
            },
            "f841767ba5c92d4": {
             "href": "https://peps.cnes.fr/resto/api/collections/S2ST/search.json?&lang=en&q=msi",
             "name": "msi",
             "parentHash": "56bf819406cae6b",
             "type": "instrument"
            }
           },
           "lowProbaClouds": null,
           "mediumProbaClouds": null,
           "mgrs": "30TXQ",
           "modificationDate": "2019-04-14T15:39:14.220Z",
           "newVersion": null,
           "orbitDirection": "ascending",
           "orbitNumber": 10988,
           "organisationName": null,
           "parentIdentifier": "urn:ogc:def:EOP:ESA::SENTINEL-2:",
           "platform": "S2ST",
           "platformSerialIdentifier": "S2B",
           "processingLevel": "LEVEL1C",
           "productType": "S2MSI1C",
           "publicationDate": "2019-04-14T15:39:14.220Z",
           "quicklook": "https://peps.cnes.fr/quicklook/2019/04/14/S2B/S2B_MSIL1C_20190414T105629_N0207_R094_T30TXQ_20190414T120932_quicklook.jpg",
           "realtime": "Nominal",
           "relativeOrbitNumber": 94,
           "resolution": null,
           "resourceChecksum": "0EDF8E136ED97D41B3092DAB8911DE9A",
           "resourceSize": 720133113,
           "s2TakeId": "GS2B_20190414T105629_010988_N02.07",
           "sensorMode": "INS-NOBS",
           "snowCover": null,
           "snowIce": null,
           "startTimeFromAscendingNode": "2019-04-14T10:56:29.024Z",
           "storage": {
            "mode": "disk"
           },
           "thumbnail": null,
           "title": "S2B_MSIL1C_20190414T105629_N0207_R094_T30TXQ_20190414T120932",
           "vegetation": null,
           "visible": 1,
           "water": null
          },
          "type": "Feature"
         },
         {
          "geometry": {
           "coordinates": [
            [
             [
              -0.15322875999999,
              42.327048018514
             ],
             [
              -0.115234375,
              42.426233985364
             ],
             [
              -0.059204099999988,
              42.572024498764
             ],
             [
              -0.00387573239999,
              42.718066677744
             ],
             [
              0,
              42.72818076179
             ],
             [
              0.00912335266231,
              42.751988998808
             ],
             [
              0.051598347315993,
              42.863279209426
             ],
             [
              0.10850702919413,
              43.008989893213
             ],
             [
              0.14409131680755,
              43.096637278791
             ],
             [
              0.16773152128199,
              43.155028348957
             ],
             [
              0.22525120175561,
              43.300742831898
             ],
             [
              0.22705000322568,
              43.305336204435
             ],
             [
              0,
              43.311579942239
             ],
             [
              -0.53372189999999,
              43.326256971778
             ],
             [
              -0.57269289999999,
              42.338372101891
             ],
             [
              -0.15322875999999,
              42.327048018514
             ]
            ]
           ],
           "type": "Polygon"
          },
          "id": "60342e0d-d223-5480-b988-370ef27d45df",
          "properties": {
           "abstract": null,
           "bareSoil": null,
           "cloudCover": 98.714,
           "completionTimeFromAscendingNode": "2019-04-14T10:56:29.024Z",
           "creationDate": "2019-04-14T15:25:45.254Z",
           "downloadLink": "https://peps.cnes.fr/resto/collections/S2ST/60342e0d-d223-5480-b988-370ef27d45df/download",
           "eodag_product_type": "S2_MSI_L1C",
           "eodag_provider": "peps",
           "eodag_search_intersection": {
            "coordinates": [
             [
              [
               -0.5559360246921422,
               42.763146
              ],
              [
               -0.53372189999999,
               43.326256971778
              ],
              [
               0,
               43.311579942239
              ],
              [
               0.22705000322568,
               43.305336204435
              ],
              [
               0.22525120175561,
               43.300742831898
              ],
              [
               0.16773152128199,
               43.155028348957
              ],
              [
               0.14409131680755,
               43.096637278791
              ],
              [
               0.10850702919413,
               43.008989893213
              ],
              [
               0.051598347315993,
               42.863279209426
              ],
              [
               0.013381531017348226,
               42.763146
              ],
              [
               -0.5559360246921422,
               42.763146
              ]
             ]
            ],
            "type": "Polygon"
           },
           "highProbaClouds": null,
           "instrument": "MSI",
           "isNrt": 0,
           "keyword": {
            "2bf8710c0c56a40": {
             "href": "https://peps.cnes.fr/resto/api/collections/S2ST/search.json?&lang=en&q=April",
             "name": "April",
             "parentHash": "bd69cb806e20886",
             "type": "month"
            },
            "44b15c0a6e62129": {
             "href": "https://peps.cnes.fr/resto/api/collections/S2ST/search.json?&lang=en&q=LEVEL1C",
             "name": "LEVEL1C",
             "type": "processingLevel"
            },
            "45038f3c2322ea3": {
             "href": "https://peps.cnes.fr/resto/api/collections/S2ST/search.json?&lang=en&q=S2ST",
             "name": "S2ST",
             "type": "collection"
            },
            "56bf819406cae6b": {
             "href": "https://peps.cnes.fr/resto/api/collections/S2ST/search.json?&lang=en&q=s2B",
             "name": "s2B",
             "type": "platform"
            },
            "6219554ecf5905c": {
             "href": "https://peps.cnes.fr/resto/api/collections/S2ST/search.json?&lang=en&q=S2MSI1C",
             "name": "S2MSI1C",
             "type": "productType"
            },
            "8537cb03801d45c": {
             "href": "https://peps.cnes.fr/resto/api/collections/S2ST/search.json?&lang=en&q=14",
             "name": "14",
             "parentHash": "2bf8710c0c56a40",
             "type": "day"
            },
            "8f43f01f9586bac": {
             "href": "https://peps.cnes.fr/resto/api/collections/S2ST/search.json?&lang=en&q=Ascending",
             "name": "Ascending",
             "type": "orbitDirection"
            },
            "936bcbcf5c43fbd": {
             "href": "https://peps.cnes.fr/resto/api/collections/S2ST/search.json?&lang=en&q=France",
             "name": "France",
             "normalized": "france",
             "parentHash": "bce097de57d1ab7",
             "type": "country",
             "value": 61.88
            },
            "a0e4a10aa754ab4": {
             "href": "https://peps.cnes.fr/resto/api/collections/S2ST/search.json?&lang=en&q=Northern",
             "name": "Northern",
             "type": "location"
            },
            "a0ee1300cfffc4d": {
             "href": "https://peps.cnes.fr/resto/api/collections/S2ST/search.json?&lang=en&q=Hautes-Pyr%C3%A9n%C3%A9es",
             "name": "Hautes-Pyrénées",
             "normalized": "hautes-pyrenees",
             "parentHash": "fa018f4f7b20706",
             "type": "state",
             "value": 30.94
            },
            "a56dfb1210d361d": {
             "href": "https://peps.cnes.fr/resto/api/collections/S2ST/search.json?&lang=en&q=Nominal",
             "name": "Nominal",
             "type": "realtime"
            },
            "aca78422271631a": {
             "href": "https://peps.cnes.fr/resto/api/collections/S2ST/search.json?&lang=en&q=INS-NOBS",
             "name": "INS-NOBS",
             "parentHash": "f841767ba5c92d4",
             "type": "sensorMode"
            },
            "b4de51064131332": {
             "href": "https://peps.cnes.fr/resto/api/collections/S2ST/search.json?&lang=en&q=Spring",
             "name": "Spring",
             "type": "season"
            },
            "bce097de57d1ab7": {
             "href": "https://peps.cnes.fr/resto/api/collections/S2ST/search.json?&lang=en&q=Europe",
             "name": "Europe",
             "normalized": "europe",
             "type": "continent"
            },
            "bd69cb806e20886": {
             "href": "https://peps.cnes.fr/resto/api/collections/S2ST/search.json?&lang=en&q=2019",
             "name": "2019",
             "type": "year"
            },
            "d4d5543bfdf20e1": {
             "href": "https://peps.cnes.fr/resto/api/collections/S2ST/search.json?&lang=en&q=Arag%C3%B3n",
             "name": "Aragón",
             "normalized": "aragon",
             "parentHash": "e95d1eb633b4dd1",
             "type": "region",
             "value": 38.15
            },
            "d5a7d91bc589eaf": {
             "href": "https://peps.cnes.fr/resto/api/collections/S2ST/search.json?&lang=en&q=Pyr%C3%A9n%C3%A9es-Atlantiques",
             "name": "Pyrénées-Atlantiques",
             "normalized": "pyrenees-atlantiques",
             "parentHash": "db06f1d6088ec4f",
             "type": "state",
             "value": 30.93
            },
            "db06f1d6088ec4f": {
             "href": "https://peps.cnes.fr/resto/api/collections/S2ST/search.json?&lang=en&q=Aquitaine",
             "name": "Aquitaine",
             "normalized": "aquitaine",
             "parentHash": "936bcbcf5c43fbd",
             "type": "region",
             "value": 31.06
            },
            "e710bcc83eae505": {
             "href": "https://peps.cnes.fr/resto/api/collections/S2ST/search.json?&lang=en&q=Huesca",
             "name": "Huesca",
             "normalized": "huesca",
             "parentHash": "d4d5543bfdf20e1",
             "type": "state",
             "value": 38.1
            },
            "e95d1eb633b4dd1": {
             "href": "https://peps.cnes.fr/resto/api/collections/S2ST/search.json?&lang=en&q=Spain",
             "name": "Spain",
             "normalized": "spain",
             "parentHash": "bce097de57d1ab7",
             "type": "country",
             "value": 38.1
            },
            "f841767ba5c92d4": {
             "href": "https://peps.cnes.fr/resto/api/collections/S2ST/search.json?&lang=en&q=msi",
             "name": "msi",
             "parentHash": "56bf819406cae6b",
             "type": "instrument"
            },
            "fa018f4f7b20706": {
             "href": "https://peps.cnes.fr/resto/api/collections/S2ST/search.json?&lang=en&q=Midi-Pyr%C3%A9n%C3%A9es",
             "name": "Midi-Pyrénées",
             "normalized": "midi-pyrenees",
             "parentHash": "936bcbcf5c43fbd",
             "type": "region",
             "value": 30.78
            }
           },
           "lowProbaClouds": null,
           "mediumProbaClouds": null,
           "mgrs": "30TYN",
           "modificationDate": "2019-04-14T15:35:56.188Z",
           "newVersion": null,
           "orbitDirection": "ascending",
           "orbitNumber": 10988,
           "organisationName": null,
           "parentIdentifier": "urn:ogc:def:EOP:ESA::SENTINEL-2:",
           "platform": "S2ST",
           "platformSerialIdentifier": "S2B",
           "processingLevel": "LEVEL1C",
           "productType": "S2MSI1C",
           "publicationDate": "2019-04-14T15:35:56.188Z",
           "quicklook": "https://peps.cnes.fr/quicklook/2019/04/14/S2B/S2B_MSIL1C_20190414T105629_N0207_R094_T30TYN_20190414T120932_quicklook.jpg",
           "realtime": "Nominal",
           "relativeOrbitNumber": 94,
           "resolution": null,
           "resourceChecksum": "7DD734820049601288C2174FE30DFAF2",
           "resourceSize": 295788615,
           "s2TakeId": "GS2B_20190414T105629_010988_N02.07",
           "sensorMode": "INS-NOBS",
           "snowCover": null,
           "snowIce": null,
           "startTimeFromAscendingNode": "2019-04-14T10:56:29.024Z",
           "storage": {
            "mode": "disk"
           },
           "thumbnail": null,
           "title": "S2B_MSIL1C_20190414T105629_N0207_R094_T30TYN_20190414T120932",
           "vegetation": null,
           "visible": 1,
           "water": null
          },
          "type": "Feature"
         },
         {
          "geometry": {
           "coordinates": [
            [
             [
              -1.5833435,
              45.956769859076
             ],
             [
              -1.5574951,
              46.944621441403
             ],
             [
              -2.2877808,
              46.94922137062
             ],
             [
              -2.3032532,
              46.905973166413
             ],
             [
              -2.3553467,
              46.759510675377
             ],
             [
              -2.407318,
              46.613031230585
             ],
             [
              -2.459137,
              46.466510321629
             ],
             [
              -2.5109253,
              46.319945895744
             ],
             [
              -2.562622,
              46.173366829542
             ],
             [
              -2.6140442,
              46.026778679009
             ],
             [
              -2.6141663,
              46.026416906255
             ],
             [
              -2.6361694,
              45.96329471216
             ],
             [
              -1.5833435,
              45.956769859076
             ]
            ]
           ],
           "type": "Polygon"
          },
          "id": "61424c63-c12d-5ea6-99dd-f10e30d45d2a",
          "properties": {
           "abstract": null,
           "bareSoil": null,
           "cloudCover": 79.3026,
           "completionTimeFromAscendingNode": "2019-04-14T10:56:29.024Z",
           "creationDate": "2019-04-14T15:22:57.312Z",
           "downloadLink": "https://peps.cnes.fr/resto/collections/S2ST/61424c63-c12d-5ea6-99dd-f10e30d45d2a/download",
           "eodag_product_type": "S2_MSI_L1C",
           "eodag_provider": "peps",
           "eodag_search_intersection": {
            "coordinates": [
             [
              [
               -1.5624589593194438,
               46.754917
              ],
              [
               -1.5833435,
               45.956769859076
              ],
              [
               -1.999512,
               45.959349049349235
              ],
              [
               -1.999512,
               46.754917
              ],
              [
               -1.5624589593194438,
               46.754917
              ]
             ]
            ],
            "type": "Polygon"
           },
           "highProbaClouds": null,
           "instrument": "MSI",
           "isNrt": 0,
           "keyword": {
            "2bf8710c0c56a40": {
             "href": "https://peps.cnes.fr/resto/api/collections/S2ST/search.json?&lang=en&q=April",
             "name": "April",
             "parentHash": "bd69cb806e20886",
             "type": "month"
            },
            "36c432b3f9379dd": {
             "href": "https://peps.cnes.fr/resto/api/collections/S2ST/search.json?&lang=en&q=Vend%C3%A9e",
             "name": "Vendée",
             "normalized": "vendee",
             "parentHash": "e4d7be6100917a7",
             "type": "state",
             "value": 20.1
            },
            "44b15c0a6e62129": {
             "href": "https://peps.cnes.fr/resto/api/collections/S2ST/search.json?&lang=en&q=LEVEL1C",
             "name": "LEVEL1C",
             "type": "processingLevel"
            },
            "45038f3c2322ea3": {
             "href": "https://peps.cnes.fr/resto/api/collections/S2ST/search.json?&lang=en&q=S2ST",
             "name": "S2ST",
             "type": "collection"
            },
            "56bf819406cae6b": {
             "href": "https://peps.cnes.fr/resto/api/collections/S2ST/search.json?&lang=en&q=s2B",
             "name": "s2B",
             "type": "platform"
            },
            "6219554ecf5905c": {
             "href": "https://peps.cnes.fr/resto/api/collections/S2ST/search.json?&lang=en&q=S2MSI1C",
             "name": "S2MSI1C",
             "type": "productType"
            },
            "8537cb03801d45c": {
             "href": "https://peps.cnes.fr/resto/api/collections/S2ST/search.json?&lang=en&q=14",
             "name": "14",
             "parentHash": "2bf8710c0c56a40",
             "type": "day"
            },
            "8e973c5726ef929": {
             "href": "https://peps.cnes.fr/resto/api/collections/S2ST/search.json?&lang=en&q=Coastal",
             "name": "Coastal",
             "type": "location"
            },
            "8f43f01f9586bac": {
             "href": "https://peps.cnes.fr/resto/api/collections/S2ST/search.json?&lang=en&q=Ascending",
             "name": "Ascending",
             "type": "orbitDirection"
            },
            "936bcbcf5c43fbd": {
             "href": "https://peps.cnes.fr/resto/api/collections/S2ST/search.json?&lang=en&q=France",
             "name": "France",
             "normalized": "france",
             "parentHash": "bce097de57d1ab7",
             "type": "country",
             "value": 21.72
            },
            "a0e4a10aa754ab4": {
             "href": "https://peps.cnes.fr/resto/api/collections/S2ST/search.json?&lang=en&q=Northern",
             "name": "Northern",
             "type": "location"
            },
            "a56dfb1210d361d": {
             "href": "https://peps.cnes.fr/resto/api/collections/S2ST/search.json?&lang=en&q=Nominal",
             "name": "Nominal",
             "type": "realtime"
            },
            "aca78422271631a": {
             "href": "https://peps.cnes.fr/resto/api/collections/S2ST/search.json?&lang=en&q=INS-NOBS",
             "name": "INS-NOBS",
             "parentHash": "f841767ba5c92d4",
             "type": "sensorMode"
            },
            "b291feb5c1ad6a1": {
             "href": "https://peps.cnes.fr/resto/api/collections/S2ST/search.json?&lang=en&q=Loire-Atlantique",
             "name": "Loire-Atlantique",
             "normalized": "loire-atlantique",
             "parentHash": "e4d7be6100917a7",
             "type": "state",
             "value": 1.6
            },
            "b4de51064131332": {
             "href": "https://peps.cnes.fr/resto/api/collections/S2ST/search.json?&lang=en&q=Spring",
             "name": "Spring",
             "type": "season"
            },
            "bce097de57d1ab7": {
             "href": "https://peps.cnes.fr/resto/api/collections/S2ST/search.json?&lang=en&q=Europe",
             "name": "Europe",
             "normalized": "europe",
             "type": "continent"
            },
            "bd69cb806e20886": {
             "href": "https://peps.cnes.fr/resto/api/collections/S2ST/search.json?&lang=en&q=2019",
             "name": "2019",
             "type": "year"
            },
            "e4d7be6100917a7": {
             "href": "https://peps.cnes.fr/resto/api/collections/S2ST/search.json?&lang=en&q=%22Pays%20de%20la%20Loire%22",
             "name": "Pays de la Loire",
             "normalized": "pays-de-la-loire",
             "parentHash": "936bcbcf5c43fbd",
             "type": "region",
             "value": 21.51
            },
            "f841767ba5c92d4": {
             "href": "https://peps.cnes.fr/resto/api/collections/S2ST/search.json?&lang=en&q=msi",
             "name": "msi",
             "parentHash": "56bf819406cae6b",
             "type": "instrument"
            }
           },
           "lowProbaClouds": null,
           "mediumProbaClouds": null,
           "mgrs": "30TWS",
           "modificationDate": "2019-04-14T15:28:05.823Z",
           "newVersion": null,
           "orbitDirection": "ascending",
           "orbitNumber": 10988,
           "organisationName": null,
           "parentIdentifier": "urn:ogc:def:EOP:ESA::SENTINEL-2:",
           "platform": "S2ST",
           "platformSerialIdentifier": "S2B",
           "processingLevel": "LEVEL1C",
           "productType": "S2MSI1C",
           "publicationDate": "2019-04-14T15:28:05.823Z",
           "quicklook": "https://peps.cnes.fr/quicklook/2019/04/14/S2B/S2B_MSIL1C_20190414T105629_N0207_R094_T30TWS_20190414T120932_quicklook.jpg",
           "realtime": "Nominal",
           "relativeOrbitNumber": 94,
           "resolution": null,
           "resourceChecksum": "CECF660EBD562EF46E755B89971429F4",
           "resourceSize": 471417590,
           "s2TakeId": "GS2B_20190414T105629_010988_N02.07",
           "sensorMode": "INS-NOBS",
           "snowCover": null,
           "snowIce": null,
           "startTimeFromAscendingNode": "2019-04-14T10:56:29.024Z",
           "storage": {
            "mode": "disk"
           },
           "thumbnail": null,
           "title": "S2B_MSIL1C_20190414T105629_N0207_R094_T30TWS_20190414T120932",
           "vegetation": null,
           "visible": 1,
           "water": null
          },
          "type": "Feature"
         },
         {
          "geometry": {
           "coordinates": [
            [
             [
              -0.45336914000001,
              42.335782239262
             ],
             [
              -0.41247559999999,
              43.323576596361
             ],
             [
              -1.7661743,
              43.34620000984
             ],
             [
              -1.7857056,
              42.357641453175
             ],
             [
              -0.45336914000001,
              42.335782239262
             ]
            ]
           ],
           "type": "Polygon"
          },
          "id": "67fa646e-346a-5bc7-9a2e-24939fe1e2df",
          "properties": {
           "abstract": null,
           "bareSoil": null,
           "cloudCover": 97.5393,
           "completionTimeFromAscendingNode": "2019-04-14T10:56:29.024Z",
           "creationDate": "2019-04-14T15:23:07.817Z",
           "downloadLink": "https://peps.cnes.fr/resto/collections/S2ST/67fa646e-346a-5bc7-9a2e-24939fe1e2df/download",
           "eodag_product_type": "S2_MSI_L1C",
           "eodag_provider": "peps",
           "eodag_search_intersection": {
            "coordinates": [
             [
              [
               -1.777693903675078,
               42.763146
              ],
              [
               -1.7661743,
               43.34620000984
              ],
              [
               -0.41247559999999,
               43.323576596361
              ],
              [
               -0.4356767762820963,
               42.763146
              ],
              [
               -1.777693903675078,
               42.763146
              ]
             ]
            ],
            "type": "Polygon"
           },
           "highProbaClouds": null,
           "instrument": "MSI",
           "isNrt": 0,
           "keyword": {
            "2bf8710c0c56a40": {
             "href": "https://peps.cnes.fr/resto/api/collections/S2ST/search.json?&lang=en&q=April",
             "name": "April",
             "parentHash": "bd69cb806e20886",
             "type": "month"
            },
            "44b15c0a6e62129": {
             "href": "https://peps.cnes.fr/resto/api/collections/S2ST/search.json?&lang=en&q=LEVEL1C",
             "name": "LEVEL1C",
             "type": "processingLevel"
            },
            "45038f3c2322ea3": {
             "href": "https://peps.cnes.fr/resto/api/collections/S2ST/search.json?&lang=en&q=S2ST",
             "name": "S2ST",
             "type": "collection"
            },
            "56bf819406cae6b": {
             "href": "https://peps.cnes.fr/resto/api/collections/S2ST/search.json?&lang=en&q=s2B",
             "name": "s2B",
             "type": "platform"
            },
            "6219554ecf5905c": {
             "href": "https://peps.cnes.fr/resto/api/collections/S2ST/search.json?&lang=en&q=S2MSI1C",
             "name": "S2MSI1C",
             "type": "productType"
            },
            "62f6d2c048d37f3": {
             "href": "https://peps.cnes.fr/resto/api/collections/S2ST/search.json?&lang=en&q=Zaragoza",
             "name": "Zaragoza",
             "normalized": "zaragoza",
             "parentHash": "d4d5543bfdf20e1",
             "type": "state",
             "value": 9.21
            },
            "780bca3744e24aa": {
             "href": "https://peps.cnes.fr/resto/api/collections/S2ST/search.json?&lang=en&q=%22Foral%20de%20Navarra%22",
             "name": "Foral de Navarra",
             "normalized": "foral-de-navarra",
             "parentHash": "e95d1eb633b4dd1",
             "type": "region",
             "value": 43.06
            },
            "8537cb03801d45c": {
             "href": "https://peps.cnes.fr/resto/api/collections/S2ST/search.json?&lang=en&q=14",
             "name": "14",
             "parentHash": "2bf8710c0c56a40",
             "type": "day"
            },
            "8f43f01f9586bac": {
             "href": "https://peps.cnes.fr/resto/api/collections/S2ST/search.json?&lang=en&q=Ascending",
             "name": "Ascending",
             "type": "orbitDirection"
            },
            "936bcbcf5c43fbd": {
             "href": "https://peps.cnes.fr/resto/api/collections/S2ST/search.json?&lang=en&q=France",
             "name": "France",
             "normalized": "france",
             "parentHash": "bce097de57d1ab7",
             "type": "country",
             "value": 31.22
            },
            "a0e4a10aa754ab4": {
             "href": "https://peps.cnes.fr/resto/api/collections/S2ST/search.json?&lang=en&q=Northern",
             "name": "Northern",
             "type": "location"
            },
            "a56dfb1210d361d": {
             "href": "https://peps.cnes.fr/resto/api/collections/S2ST/search.json?&lang=en&q=Nominal",
             "name": "Nominal",
             "type": "realtime"
            },
            "aca78422271631a": {
             "href": "https://peps.cnes.fr/resto/api/collections/S2ST/search.json?&lang=en&q=INS-NOBS",
             "name": "INS-NOBS",
             "parentHash": "f841767ba5c92d4",
             "type": "sensorMode"
            },
            "b4de51064131332": {
             "href": "https://peps.cnes.fr/resto/api/collections/S2ST/search.json?&lang=en&q=Spring",
             "name": "Spring",
             "type": "season"
            },
            "bce097de57d1ab7": {
             "href": "https://peps.cnes.fr/resto/api/collections/S2ST/search.json?&lang=en&q=Europe",
             "name": "Europe",
             "normalized": "europe",
             "type": "continent"
            },
            "bd69cb806e20886": {
             "href": "https://peps.cnes.fr/resto/api/collections/S2ST/search.json?&lang=en&q=2019",
             "name": "2019",
             "type": "year"
            },
            "cb311e1a7554343": {
             "href": "https://peps.cnes.fr/resto/api/collections/S2ST/search.json?&lang=en&q=Navarra",
             "name": "Navarra",
             "normalized": "navarra",
             "parentHash": "780bca3744e24aa",
             "type": "state",
             "value": 43.03
            },
            "d4d5543bfdf20e1": {
             "href": "https://peps.cnes.fr/resto/api/collections/S2ST/search.json?&lang=en&q=Arag%C3%B3n",
             "name": "Aragón",
             "normalized": "aragon",
             "parentHash": "e95d1eb633b4dd1",
             "type": "region",
             "value": 25.86
            },
            "d52b1d36804487b": {
             "href": "https://peps.cnes.fr/resto/api/collections/S2ST/search.json?&lang=en&q=Gipuzkoa",
             "name": "Gipuzkoa",
             "normalized": "gipuzkoa",
             "parentHash": "e3a9c4dec35e1c6",
             "type": "state",
             "value": 0.03
            },
            "d5a7d91bc589eaf": {
             "href": "https://peps.cnes.fr/resto/api/collections/S2ST/search.json?&lang=en&q=Pyr%C3%A9n%C3%A9es-Atlantiques",
             "name": "Pyrénées-Atlantiques",
             "normalized": "pyrenees-atlantiques",
             "parentHash": "db06f1d6088ec4f",
             "type": "state",
             "value": 31.22
            },
            "db06f1d6088ec4f": {
             "href": "https://peps.cnes.fr/resto/api/collections/S2ST/search.json?&lang=en&q=Aquitaine",
             "name": "Aquitaine",
             "normalized": "aquitaine",
             "parentHash": "936bcbcf5c43fbd",
             "type": "region",
             "value": 31.24
            },
            "e3a9c4dec35e1c6": {
             "href": "https://peps.cnes.fr/resto/api/collections/S2ST/search.json?&lang=en&q=%22Pa%C3%ADs%20Vasco%22",
             "name": "País Vasco",
             "normalized": "pais-vasco",
             "parentHash": "e95d1eb633b4dd1",
             "type": "region",
             "value": 0.02
            },
            "e710bcc83eae505": {
             "href": "https://peps.cnes.fr/resto/api/collections/S2ST/search.json?&lang=en&q=Huesca",
             "name": "Huesca",
             "normalized": "huesca",
             "parentHash": "d4d5543bfdf20e1",
             "type": "state",
             "value": 16.61
            },
            "e95d1eb633b4dd1": {
             "href": "https://peps.cnes.fr/resto/api/collections/S2ST/search.json?&lang=en&q=Spain",
             "name": "Spain",
             "normalized": "spain",
             "parentHash": "bce097de57d1ab7",
             "type": "country",
             "value": 68.78
            },
            "f841767ba5c92d4": {
             "href": "https://peps.cnes.fr/resto/api/collections/S2ST/search.json?&lang=en&q=msi",
             "name": "msi",
             "parentHash": "56bf819406cae6b",
             "type": "instrument"
            }
           },
           "lowProbaClouds": null,
           "mediumProbaClouds": null,
           "mgrs": "30TXN",
           "modificationDate": "2019-04-14T15:27:21.251Z",
           "newVersion": null,
           "orbitDirection": "ascending",
           "orbitNumber": 10988,
           "organisationName": null,
           "parentIdentifier": "urn:ogc:def:EOP:ESA::SENTINEL-2:",
           "platform": "S2ST",
           "platformSerialIdentifier": "S2B",
           "processingLevel": "LEVEL1C",
           "productType": "S2MSI1C",
           "publicationDate": "2019-04-14T15:27:21.251Z",
           "quicklook": "https://peps.cnes.fr/quicklook/2019/04/14/S2B/S2B_MSIL1C_20190414T105629_N0207_R094_T30TXN_20190414T120932_quicklook.jpg",
           "realtime": "Nominal",
           "relativeOrbitNumber": 94,
           "resolution": null,
           "resourceChecksum": "DCC174A4C3A937AD02B5D77A8C27ED62",
           "resourceSize": 719091369,
           "s2TakeId": "GS2B_20190414T105629_010988_N02.07",
           "sensorMode": "INS-NOBS",
           "snowCover": null,
           "snowIce": null,
           "startTimeFromAscendingNode": "2019-04-14T10:56:29.024Z",
           "storage": {
            "mode": "disk"
           },
           "thumbnail": null,
           "title": "S2B_MSIL1C_20190414T105629_N0207_R094_T30TXN_20190414T120932",
           "vegetation": null,
           "visible": 1,
           "water": null
          },
          "type": "Feature"
         },
         {
          "geometry": {
           "coordinates": [
            [
             [
              -0.33648682000001,
              45.034190140253
             ],
             [
              -0.28945922999998,
              46.02142174251
             ],
             [
              -1.7074585,
              46.046265456303
             ],
             [
              -1.7299194,
              45.058197320583
             ],
             [
              -0.33648682000001,
              45.034190140253
             ]
            ]
           ],
           "type": "Polygon"
          },
          "id": "7d10598e-c1fd-5d76-ba3b-64e97d7583fc",
          "properties": {
           "abstract": null,
           "bareSoil": null,
           "cloudCover": 56.8895,
           "completionTimeFromAscendingNode": "2019-04-14T10:56:29.024Z",
           "creationDate": "2019-04-14T15:25:35.264Z",
           "downloadLink": "https://peps.cnes.fr/resto/collections/S2ST/7d10598e-c1fd-5d76-ba3b-64e97d7583fc/download",
           "eodag_product_type": "S2_MSI_L1C",
           "eodag_provider": "peps",
           "eodag_search_intersection": {
            "coordinates": [
             [
              [
               -0.33648682000001,
               45.034190140253
              ],
              [
               -1.7299194,
               45.058197320583
              ],
              [
               -1.7074585,
               46.046265456303
              ],
              [
               -0.28945922999998,
               46.02142174251
              ],
              [
               -0.33648682000001,
               45.034190140253
              ]
             ]
            ],
            "type": "Polygon"
           },
           "highProbaClouds": null,
           "instrument": "MSI",
           "isNrt": 0,
           "keyword": {
            "2bf8710c0c56a40": {
             "href": "https://peps.cnes.fr/resto/api/collections/S2ST/search.json?&lang=en&q=April",
             "name": "April",
             "parentHash": "bd69cb806e20886",
             "type": "month"
            },
            "34144f336d27e53": {
             "href": "https://peps.cnes.fr/resto/api/collections/S2ST/search.json?&lang=en&q=Charente-Maritime",
             "name": "Charente-Maritime",
             "normalized": "charente-maritime",
             "parentHash": "f0e6a6daa0e9f47",
             "type": "state",
             "value": 36.4
            },
            "3be01aa3157cfbf": {
             "href": "https://peps.cnes.fr/resto/api/collections/S2ST/search.json?&lang=en&q=Gironde",
             "name": "Gironde",
             "normalized": "gironde",
             "parentHash": "db06f1d6088ec4f",
             "type": "state",
             "value": 18.69
            },
            "44b15c0a6e62129": {
             "href": "https://peps.cnes.fr/resto/api/collections/S2ST/search.json?&lang=en&q=LEVEL1C",
             "name": "LEVEL1C",
             "type": "processingLevel"
            },
            "45038f3c2322ea3": {
             "href": "https://peps.cnes.fr/resto/api/collections/S2ST/search.json?&lang=en&q=S2ST",
             "name": "S2ST",
             "type": "collection"
            },
            "56bf819406cae6b": {
             "href": "https://peps.cnes.fr/resto/api/collections/S2ST/search.json?&lang=en&q=s2B",
             "name": "s2B",
             "type": "platform"
            },
            "6219554ecf5905c": {
             "href": "https://peps.cnes.fr/resto/api/collections/S2ST/search.json?&lang=en&q=S2MSI1C",
             "name": "S2MSI1C",
             "type": "productType"
            },
            "8537cb03801d45c": {
             "href": "https://peps.cnes.fr/resto/api/collections/S2ST/search.json?&lang=en&q=14",
             "name": "14",
             "parentHash": "2bf8710c0c56a40",
             "type": "day"
            },
            "8e973c5726ef929": {
             "href": "https://peps.cnes.fr/resto/api/collections/S2ST/search.json?&lang=en&q=Coastal",
             "name": "Coastal",
             "type": "location"
            },
            "8f43f01f9586bac": {
             "href": "https://peps.cnes.fr/resto/api/collections/S2ST/search.json?&lang=en&q=Ascending",
             "name": "Ascending",
             "type": "orbitDirection"
            },
            "936bcbcf5c43fbd": {
             "href": "https://peps.cnes.fr/resto/api/collections/S2ST/search.json?&lang=en&q=France",
             "name": "France",
             "normalized": "france",
             "parentHash": "bce097de57d1ab7",
             "type": "country",
             "value": 56.69
            },
            "a0e4a10aa754ab4": {
             "href": "https://peps.cnes.fr/resto/api/collections/S2ST/search.json?&lang=en&q=Northern",
             "name": "Northern",
             "type": "location"
            },
            "a56dfb1210d361d": {
             "href": "https://peps.cnes.fr/resto/api/collections/S2ST/search.json?&lang=en&q=Nominal",
             "name": "Nominal",
             "type": "realtime"
            },
            "aca78422271631a": {
             "href": "https://peps.cnes.fr/resto/api/collections/S2ST/search.json?&lang=en&q=INS-NOBS",
             "name": "INS-NOBS",
             "parentHash": "f841767ba5c92d4",
             "type": "sensorMode"
            },
            "b2da689507e17c1": {
             "href": "https://peps.cnes.fr/resto/api/collections/S2ST/search.json?&lang=en&q=Charente",
             "name": "Charente",
             "normalized": "charente",
             "parentHash": "f0e6a6daa0e9f47",
             "type": "state",
             "value": 1.6
            },
            "b4de51064131332": {
             "href": "https://peps.cnes.fr/resto/api/collections/S2ST/search.json?&lang=en&q=Spring",
             "name": "Spring",
             "type": "season"
            },
            "bce097de57d1ab7": {
             "href": "https://peps.cnes.fr/resto/api/collections/S2ST/search.json?&lang=en&q=Europe",
             "name": "Europe",
             "normalized": "europe",
             "type": "continent"
            },
            "bd69cb806e20886": {
             "href": "https://peps.cnes.fr/resto/api/collections/S2ST/search.json?&lang=en&q=2019",
             "name": "2019",
             "type": "year"
            },
            "db06f1d6088ec4f": {
             "href": "https://peps.cnes.fr/resto/api/collections/S2ST/search.json?&lang=en&q=Aquitaine",
             "name": "Aquitaine",
             "normalized": "aquitaine",
             "parentHash": "936bcbcf5c43fbd",
             "type": "region",
             "value": 18.58
            },
            "f0e6a6daa0e9f47": {
             "href": "https://peps.cnes.fr/resto/api/collections/S2ST/search.json?&lang=en&q=Poitou-Charentes",
             "name": "Poitou-Charentes",
             "normalized": "poitou-charentes",
             "parentHash": "936bcbcf5c43fbd",
             "type": "region",
             "value": 37.93
            },
            "f841767ba5c92d4": {
             "href": "https://peps.cnes.fr/resto/api/collections/S2ST/search.json?&lang=en&q=msi",
             "name": "msi",
             "parentHash": "56bf819406cae6b",
             "type": "instrument"
            }
           },
           "lowProbaClouds": null,
           "mediumProbaClouds": null,
           "mgrs": "30TXR",
           "modificationDate": "2019-04-14T15:35:20.868Z",
           "newVersion": null,
           "orbitDirection": "ascending",
           "orbitNumber": 10988,
           "organisationName": null,
           "parentIdentifier": "urn:ogc:def:EOP:ESA::SENTINEL-2:",
           "platform": "S2ST",
           "platformSerialIdentifier": "S2B",
           "processingLevel": "LEVEL1C",
           "productType": "S2MSI1C",
           "publicationDate": "2019-04-14T15:35:20.868Z",
           "quicklook": "https://peps.cnes.fr/quicklook/2019/04/14/S2B/S2B_MSIL1C_20190414T105629_N0207_R094_T30TXR_20190414T120932_quicklook.jpg",
           "realtime": "Nominal",
           "relativeOrbitNumber": 94,
           "resolution": null,
           "resourceChecksum": "6F1A14A8C9EDFB33C73F54A937A5C6FF",
           "resourceSize": 776933667,
           "s2TakeId": "GS2B_20190414T105629_010988_N02.07",
           "sensorMode": "INS-NOBS",
           "snowCover": null,
           "snowIce": null,
           "startTimeFromAscendingNode": "2019-04-14T10:56:29.024Z",
           "storage": {
            "mode": "disk"
           },
           "thumbnail": null,
           "title": "S2B_MSIL1C_20190414T105629_N0207_R094_T30TXR_20190414T120932",
           "vegetation": null,
           "visible": 1,
           "water": null
          },
          "type": "Feature"
         },
         {
          "geometry": {
           "coordinates": [
            [
             [
              0.4200250786305,
              45.936419229244
             ],
             [
              1.3009079437012,
              45.95085453743
             ],
             [
              1.3496558250107,
              46.066603840488
             ],
             [
              1.4117949183275,
              46.211806843911
             ],
             [
              1.4741275343181,
              46.357026073831
             ],
             [
              1.5368181805182,
              46.502218754808
             ],
             [
              1.5714046769897,
              46.581649802872
             ],
             [
              1.5996151702932,
              46.646517022628
             ],
             [
              1.6627041835198,
              46.791749658174
             ],
             [
              1.7261756110735,
              46.936913180014
             ],
             [
              1.7302568086588,
              46.9461670344
             ],
             [
              0.37298980760992,
              46.923561008515
             ],
             [
              0.4200250786305,
              45.936419229244
             ]
            ]
           ],
           "type": "Polygon"
          },
          "id": "7f4f4bc2-985f-54bc-97b7-544373e43eda",
          "properties": {
           "abstract": null,
           "bareSoil": null,
           "cloudCover": 28.6501,
           "completionTimeFromAscendingNode": "2019-04-14T10:56:29.024Z",
           "creationDate": "2019-04-14T15:29:37.795Z",
           "downloadLink": "https://peps.cnes.fr/resto/collections/S2ST/7f4f4bc2-985f-54bc-97b7-544373e43eda/download",
           "eodag_product_type": "S2_MSI_L1C",
           "eodag_provider": "peps",
           "eodag_search_intersection": {
            "coordinates": [
             [
              [
               1.6467040878803165,
               46.754917
              ],
              [
               1.5996151702932,
               46.646517022628
              ],
              [
               1.5714046769897,
               46.581649802872
              ],
              [
               1.5368181805182,
               46.502218754808
              ],
              [
               1.4741275343181,
               46.357026073831
              ],
              [
               1.4117949183275,
               46.211806843911
              ],
              [
               1.3496558250107,
               46.066603840488
              ],
              [
               1.3009079437012,
               45.95085453743
              ],
              [
               0.4200250786305,
               45.936419229244
              ],
              [
               0.3810253469955167,
               46.754917
              ],
              [
               1.6467040878803165,
               46.754917
              ]
             ]
            ],
            "type": "Polygon"
           },
           "highProbaClouds": null,
           "instrument": "MSI",
           "isNrt": 0,
           "keyword": {
            "0c43e04eafa851d": {
             "href": "https://peps.cnes.fr/resto/api/collections/S2ST/search.json?&lang=en&q=Indre",
             "name": "Indre",
             "normalized": "indre",
             "parentHash": "5dad82438287f41",
             "type": "state",
             "value": 29.6
            },
            "2bf8710c0c56a40": {
             "href": "https://peps.cnes.fr/resto/api/collections/S2ST/search.json?&lang=en&q=April",
             "name": "April",
             "parentHash": "bd69cb806e20886",
             "type": "month"
            },
            "44b15c0a6e62129": {
             "href": "https://peps.cnes.fr/resto/api/collections/S2ST/search.json?&lang=en&q=LEVEL1C",
             "name": "LEVEL1C",
             "type": "processingLevel"
            },
            "44d2e150997e6d7": {
             "href": "https://peps.cnes.fr/resto/api/collections/S2ST/search.json?&lang=en&q=Haute-Vienne",
             "name": "Haute-Vienne",
             "normalized": "haute-vienne",
             "parentHash": "595a2a0433fc5be",
             "type": "state",
             "value": 19.18
            },
            "45038f3c2322ea3": {
             "href": "https://peps.cnes.fr/resto/api/collections/S2ST/search.json?&lang=en&q=S2ST",
             "name": "S2ST",
             "type": "collection"
            },
            "56bf819406cae6b": {
             "href": "https://peps.cnes.fr/resto/api/collections/S2ST/search.json?&lang=en&q=s2B",
             "name": "s2B",
             "type": "platform"
            },
            "595a2a0433fc5be": {
             "href": "https://peps.cnes.fr/resto/api/collections/S2ST/search.json?&lang=en&q=Limousin",
             "name": "Limousin",
             "normalized": "limousin",
             "parentHash": "936bcbcf5c43fbd",
             "type": "region",
             "value": 19.84
            },
            "5dad82438287f41": {
             "href": "https://peps.cnes.fr/resto/api/collections/S2ST/search.json?&lang=en&q=Centre",
             "name": "Centre",
             "normalized": "centre",
             "parentHash": "936bcbcf5c43fbd",
             "type": "region",
             "value": 33.45
            },
            "6219554ecf5905c": {
             "href": "https://peps.cnes.fr/resto/api/collections/S2ST/search.json?&lang=en&q=S2MSI1C",
             "name": "S2MSI1C",
             "type": "productType"
            },
            "73fa6c0cfc7e3f4": {
             "href": "https://peps.cnes.fr/resto/api/collections/S2ST/search.json?&lang=en&q=Creuse",
             "name": "Creuse",
             "normalized": "creuse",
             "parentHash": "595a2a0433fc5be",
             "type": "state",
             "value": 0.49
            },
            "8537cb03801d45c": {
             "href": "https://peps.cnes.fr/resto/api/collections/S2ST/search.json?&lang=en&q=14",
             "name": "14",
             "parentHash": "2bf8710c0c56a40",
             "type": "day"
            },
            "8f43f01f9586bac": {
             "href": "https://peps.cnes.fr/resto/api/collections/S2ST/search.json?&lang=en&q=Ascending",
             "name": "Ascending",
             "type": "orbitDirection"
            },
            "936bcbcf5c43fbd": {
             "href": "https://peps.cnes.fr/resto/api/collections/S2ST/search.json?&lang=en&q=France",
             "name": "France",
             "normalized": "france",
             "parentHash": "bce097de57d1ab7",
             "type": "country",
             "value": 100
            },
            "9a933b20c4fb7c8": {
             "href": "https://peps.cnes.fr/resto/api/collections/S2ST/search.json?&lang=en&q=Vienne",
             "name": "Vienne",
             "normalized": "vienne",
             "parentHash": "f0e6a6daa0e9f47",
             "type": "state",
             "value": 39.98
            },
            "a0e4a10aa754ab4": {
             "href": "https://peps.cnes.fr/resto/api/collections/S2ST/search.json?&lang=en&q=Northern",
             "name": "Northern",
             "type": "location"
            },
            "a56dfb1210d361d": {
             "href": "https://peps.cnes.fr/resto/api/collections/S2ST/search.json?&lang=en&q=Nominal",
             "name": "Nominal",
             "type": "realtime"
            },
            "aca78422271631a": {
             "href": "https://peps.cnes.fr/resto/api/collections/S2ST/search.json?&lang=en&q=INS-NOBS",
             "name": "INS-NOBS",
             "parentHash": "f841767ba5c92d4",
             "type": "sensorMode"
            },
            "b2da689507e17c1": {
             "href": "https://peps.cnes.fr/resto/api/collections/S2ST/search.json?&lang=en&q=Charente",
             "name": "Charente",
             "normalized": "charente",
             "parentHash": "f0e6a6daa0e9f47",
             "type": "state",
             "value": 6.77
            },
            "b4de51064131332": {
             "href": "https://peps.cnes.fr/resto/api/collections/S2ST/search.json?&lang=en&q=Spring",
             "name": "Spring",
             "type": "season"
            },
            "bce097de57d1ab7": {
             "href": "https://peps.cnes.fr/resto/api/collections/S2ST/search.json?&lang=en&q=Europe",
             "name": "Europe",
             "normalized": "europe",
             "type": "continent"
            },
            "bd69cb806e20886": {
             "href": "https://peps.cnes.fr/resto/api/collections/S2ST/search.json?&lang=en&q=2019",
             "name": "2019",
             "type": "year"
            },
            "e12705c0601e2fe": {
             "href": "https://peps.cnes.fr/resto/api/collections/S2ST/search.json?&lang=en&q=Indre-et-Loire",
             "name": "Indre-et-Loire",
             "normalized": "indre-et-loire",
             "parentHash": "5dad82438287f41",
             "type": "state",
             "value": 3.86
            },
            "f0e6a6daa0e9f47": {
             "href": "https://peps.cnes.fr/resto/api/collections/S2ST/search.json?&lang=en&q=Poitou-Charentes",
             "name": "Poitou-Charentes",
             "normalized": "poitou-charentes",
             "parentHash": "936bcbcf5c43fbd",
             "type": "region",
             "value": 46.67
            },
            "f841767ba5c92d4": {
             "href": "https://peps.cnes.fr/resto/api/collections/S2ST/search.json?&lang=en&q=msi",
             "name": "msi",
             "parentHash": "56bf819406cae6b",
             "type": "instrument"
            }
           },
           "lowProbaClouds": null,
           "mediumProbaClouds": null,
           "mgrs": "31TCM",
           "modificationDate": "2019-04-14T15:33:18.423Z",
           "newVersion": null,
           "orbitDirection": "ascending",
           "orbitNumber": 10988,
           "organisationName": null,
           "parentIdentifier": "urn:ogc:def:EOP:ESA::SENTINEL-2:",
           "platform": "S2ST",
           "platformSerialIdentifier": "S2B",
           "processingLevel": "LEVEL1C",
           "productType": "S2MSI1C",
           "publicationDate": "2019-04-14T15:33:18.423Z",
           "quicklook": "https://peps.cnes.fr/quicklook/2019/04/14/S2B/S2B_MSIL1C_20190414T105629_N0207_R094_T31TCM_20190414T120932_quicklook.jpg",
           "realtime": "Nominal",
           "relativeOrbitNumber": 94,
           "resolution": null,
           "resourceChecksum": "01E3D24F5ED10C18ADD87BDB638FBD39",
           "resourceSize": 631187557,
           "s2TakeId": "GS2B_20190414T105629_010988_N02.07",
           "sensorMode": "INS-NOBS",
           "snowCover": null,
           "snowIce": null,
           "startTimeFromAscendingNode": "2019-04-14T10:56:29.024Z",
           "storage": {
            "mode": "disk"
           },
           "thumbnail": null,
           "title": "S2B_MSIL1C_20190414T105629_N0207_R094_T31TCM_20190414T120932",
           "vegetation": null,
           "visible": 1,
           "water": null
          },
          "type": "Feature"
         },
         {
          "geometry": {
           "coordinates": [
            [
             [
              -1.6271057,
              44.157116557384
             ],
             [
              -1.6035767,
              45.145299673094
             ],
             [
              -2.914917,
              45.15331554388
             ],
             [
              -2.9170837,
              45.14694992297
             ],
             [
              -2.9667664,
              45.000303305946
             ],
             [
              -3.0002441,
              44.90113571068
             ],
             [
              -3.0002441,
              44.165366495507
             ],
             [
              -1.6271057,
              44.157116557384
             ]
            ]
           ],
           "type": "Polygon"
          },
          "id": "80d7d87d-9d57-5a9c-99ec-5c0fa00b55a1",
          "properties": {
           "abstract": null,
           "bareSoil": null,
           "cloudCover": 87.7629,
           "completionTimeFromAscendingNode": "2019-04-14T10:56:29.024Z",
           "creationDate": "2019-04-14T15:23:06.256Z",
           "downloadLink": "https://peps.cnes.fr/resto/collections/S2ST/80d7d87d-9d57-5a9c-99ec-5c0fa00b55a1/download",
           "eodag_product_type": "S2_MSI_L1C",
           "eodag_provider": "peps",
           "eodag_search_intersection": {
            "coordinates": [
             [
              [
               -1.999512,
               45.147719919161645
              ],
              [
               -1.6035767,
               45.145299673094
              ],
              [
               -1.6271057,
               44.157116557384
              ],
              [
               -1.999512,
               44.159354007688805
              ],
              [
               -1.999512,
               45.147719919161645
              ]
             ]
            ],
            "type": "Polygon"
           },
           "highProbaClouds": null,
           "instrument": "MSI",
           "isNrt": 0,
           "keyword": {
            "2bf8710c0c56a40": {
             "href": "https://peps.cnes.fr/resto/api/collections/S2ST/search.json?&lang=en&q=April",
             "name": "April",
             "parentHash": "bd69cb806e20886",
             "type": "month"
            },
            "44b15c0a6e62129": {
             "href": "https://peps.cnes.fr/resto/api/collections/S2ST/search.json?&lang=en&q=LEVEL1C",
             "name": "LEVEL1C",
             "type": "processingLevel"
            },
            "45038f3c2322ea3": {
             "href": "https://peps.cnes.fr/resto/api/collections/S2ST/search.json?&lang=en&q=S2ST",
             "name": "S2ST",
             "type": "collection"
            },
            "56bf819406cae6b": {
             "href": "https://peps.cnes.fr/resto/api/collections/S2ST/search.json?&lang=en&q=s2B",
             "name": "s2B",
             "type": "platform"
            },
            "6219554ecf5905c": {
             "href": "https://peps.cnes.fr/resto/api/collections/S2ST/search.json?&lang=en&q=S2MSI1C",
             "name": "S2MSI1C",
             "type": "productType"
            },
            "8537cb03801d45c": {
             "href": "https://peps.cnes.fr/resto/api/collections/S2ST/search.json?&lang=en&q=14",
             "name": "14",
             "parentHash": "2bf8710c0c56a40",
             "type": "day"
            },
            "8f43f01f9586bac": {
             "href": "https://peps.cnes.fr/resto/api/collections/S2ST/search.json?&lang=en&q=Ascending",
             "name": "Ascending",
             "type": "orbitDirection"
            },
            "a0e4a10aa754ab4": {
             "href": "https://peps.cnes.fr/resto/api/collections/S2ST/search.json?&lang=en&q=Northern",
             "name": "Northern",
             "type": "location"
            },
            "a56dfb1210d361d": {
             "href": "https://peps.cnes.fr/resto/api/collections/S2ST/search.json?&lang=en&q=Nominal",
             "name": "Nominal",
             "type": "realtime"
            },
            "aca78422271631a": {
             "href": "https://peps.cnes.fr/resto/api/collections/S2ST/search.json?&lang=en&q=INS-NOBS",
             "name": "INS-NOBS",
             "parentHash": "f841767ba5c92d4",
             "type": "sensorMode"
            },
            "b4de51064131332": {
             "href": "https://peps.cnes.fr/resto/api/collections/S2ST/search.json?&lang=en&q=Spring",
             "name": "Spring",
             "type": "season"
            },
            "bd69cb806e20886": {
             "href": "https://peps.cnes.fr/resto/api/collections/S2ST/search.json?&lang=en&q=2019",
             "name": "2019",
             "type": "year"
            },
            "f841767ba5c92d4": {
             "href": "https://peps.cnes.fr/resto/api/collections/S2ST/search.json?&lang=en&q=msi",
             "name": "msi",
             "parentHash": "56bf819406cae6b",
             "type": "instrument"
            }
           },
           "lowProbaClouds": null,
           "mediumProbaClouds": null,
           "mgrs": "30TWQ",
           "modificationDate": "2019-04-14T15:28:22.325Z",
           "newVersion": null,
           "orbitDirection": "ascending",
           "orbitNumber": 10988,
           "organisationName": null,
           "parentIdentifier": "urn:ogc:def:EOP:ESA::SENTINEL-2:",
           "platform": "S2ST",
           "platformSerialIdentifier": "S2B",
           "processingLevel": "LEVEL1C",
           "productType": "S2MSI1C",
           "publicationDate": "2019-04-14T15:28:22.325Z",
           "quicklook": "https://peps.cnes.fr/quicklook/2019/04/14/S2B/S2B_MSIL1C_20190414T105629_N0207_R094_T30TWQ_20190414T120932_quicklook.jpg",
           "realtime": "Nominal",
           "relativeOrbitNumber": 94,
           "resolution": null,
           "resourceChecksum": "19B5B34F194025C6AA8806DEF72B2041",
           "resourceSize": 673866876,
           "s2TakeId": "GS2B_20190414T105629_010988_N02.07",
           "sensorMode": "INS-NOBS",
           "snowCover": null,
           "snowIce": null,
           "startTimeFromAscendingNode": "2019-04-14T10:56:29.024Z",
           "storage": {
            "mode": "disk"
           },
           "thumbnail": null,
           "title": "S2B_MSIL1C_20190414T105629_N0207_R094_T30TWQ_20190414T120932",
           "vegetation": null,
           "visible": 1,
           "water": null
          },
          "type": "Feature"
         },
         {
          "geometry": {
           "coordinates": [
            [
             [
              0.46078579300118,
              45.037023116804
             ],
             [
              0.9231189317396,
              45.044484545758
             ],
             [
              0.92446488283938,
              45.04777364423
             ],
             [
              0.9848807788937,
              45.19322081881
             ],
             [
              1.0034577714366,
              45.237896829035
             ],
             [
              1.0456037850113,
              45.339585826815
             ],
             [
              1.1056445191118,
              45.485192772911
             ],
             [
              1.1663161369439,
              45.630629077294
             ],
             [
              1.2274370965394,
              45.775925358466
             ],
             [
              1.2884469816227,
              45.921266632535
             ],
             [
              1.3382366784741,
              46.03948967229
             ],
             [
              0.41593487960282,
              46.02435339629
             ],
             [
              0.46078579300118,
              45.037023116804
             ]
            ]
           ],
           "type": "Polygon"
          },
          "id": "82359952-443c-5e6c-a5b1-72b64d873529",
          "properties": {
           "abstract": null,
           "bareSoil": null,
           "cloudCover": 16.2916,
           "completionTimeFromAscendingNode": "2019-04-14T10:56:29.024Z",
           "creationDate": "2019-04-14T15:29:44.388Z",
           "downloadLink": "https://peps.cnes.fr/resto/collections/S2ST/82359952-443c-5e6c-a5b1-72b64d873529/download",
           "eodag_product_type": "S2_MSI_L1C",
           "eodag_provider": "peps",
           "eodag_search_intersection": {
            "coordinates": [
             [
              [
               0.46078579300118,
               45.037023116804
              ],
              [
               0.41593487960282,
               46.02435339629
              ],
              [
               1.3382366784741,
               46.03948967229
              ],
              [
               1.2884469816227,
               45.921266632535
              ],
              [
               1.2274370965394,
               45.775925358466
              ],
              [
               1.1663161369439,
               45.630629077294
              ],
              [
               1.1056445191118,
               45.485192772911
              ],
              [
               1.0456037850113,
               45.339585826815
              ],
              [
               1.0034577714366,
               45.237896829035
              ],
              [
               0.9848807788937,
               45.19322081881
              ],
              [
               0.92446488283938,
               45.04777364423
              ],
              [
               0.9231189317396,
               45.044484545758
              ],
              [
               0.46078579300118,
               45.037023116804
              ]
             ]
            ],
            "type": "Polygon"
           },
           "highProbaClouds": null,
           "instrument": "MSI",
           "isNrt": 0,
           "keyword": {
            "1eb8a6dcbdf3b74": {
             "href": "https://peps.cnes.fr/resto/api/collections/S2ST/search.json?&lang=en&q=Dordogne",
             "name": "Dordogne",
             "normalized": "dordogne",
             "parentHash": "db06f1d6088ec4f",
             "type": "state",
             "value": 50.31
            },
            "2bf8710c0c56a40": {
             "href": "https://peps.cnes.fr/resto/api/collections/S2ST/search.json?&lang=en&q=April",
             "name": "April",
             "parentHash": "bd69cb806e20886",
             "type": "month"
            },
            "44b15c0a6e62129": {
             "href": "https://peps.cnes.fr/resto/api/collections/S2ST/search.json?&lang=en&q=LEVEL1C",
             "name": "LEVEL1C",
             "type": "processingLevel"
            },
            "44d2e150997e6d7": {
             "href": "https://peps.cnes.fr/resto/api/collections/S2ST/search.json?&lang=en&q=Haute-Vienne",
             "name": "Haute-Vienne",
             "normalized": "haute-vienne",
             "parentHash": "595a2a0433fc5be",
             "type": "state",
             "value": 29.58
            },
            "45038f3c2322ea3": {
             "href": "https://peps.cnes.fr/resto/api/collections/S2ST/search.json?&lang=en&q=S2ST",
             "name": "S2ST",
             "type": "collection"
            },
            "56bf819406cae6b": {
             "href": "https://peps.cnes.fr/resto/api/collections/S2ST/search.json?&lang=en&q=s2B",
             "name": "s2B",
             "type": "platform"
            },
            "595a2a0433fc5be": {
             "href": "https://peps.cnes.fr/resto/api/collections/S2ST/search.json?&lang=en&q=Limousin",
             "name": "Limousin",
             "normalized": "limousin",
             "parentHash": "936bcbcf5c43fbd",
             "type": "region",
             "value": 29.66
            },
            "6219554ecf5905c": {
             "href": "https://peps.cnes.fr/resto/api/collections/S2ST/search.json?&lang=en&q=S2MSI1C",
             "name": "S2MSI1C",
             "type": "productType"
            },
            "8537cb03801d45c": {
             "href": "https://peps.cnes.fr/resto/api/collections/S2ST/search.json?&lang=en&q=14",
             "name": "14",
             "parentHash": "2bf8710c0c56a40",
             "type": "day"
            },
            "8f43f01f9586bac": {
             "href": "https://peps.cnes.fr/resto/api/collections/S2ST/search.json?&lang=en&q=Ascending",
             "name": "Ascending",
             "type": "orbitDirection"
            },
            "936bcbcf5c43fbd": {
             "href": "https://peps.cnes.fr/resto/api/collections/S2ST/search.json?&lang=en&q=France",
             "name": "France",
             "normalized": "france",
             "parentHash": "bce097de57d1ab7",
             "type": "country",
             "value": 100
            },
            "a0e4a10aa754ab4": {
             "href": "https://peps.cnes.fr/resto/api/collections/S2ST/search.json?&lang=en&q=Northern",
             "name": "Northern",
             "type": "location"
            },
            "a56dfb1210d361d": {
             "href": "https://peps.cnes.fr/resto/api/collections/S2ST/search.json?&lang=en&q=Nominal",
             "name": "Nominal",
             "type": "realtime"
            },
            "aca78422271631a": {
             "href": "https://peps.cnes.fr/resto/api/collections/S2ST/search.json?&lang=en&q=INS-NOBS",
             "name": "INS-NOBS",
             "parentHash": "f841767ba5c92d4",
             "type": "sensorMode"
            },
            "b2da689507e17c1": {
             "href": "https://peps.cnes.fr/resto/api/collections/S2ST/search.json?&lang=en&q=Charente",
             "name": "Charente",
             "normalized": "charente",
             "parentHash": "f0e6a6daa0e9f47",
             "type": "state",
             "value": 20.04
            },
            "b4de51064131332": {
             "href": "https://peps.cnes.fr/resto/api/collections/S2ST/search.json?&lang=en&q=Spring",
             "name": "Spring",
             "type": "season"
            },
            "bce097de57d1ab7": {
             "href": "https://peps.cnes.fr/resto/api/collections/S2ST/search.json?&lang=en&q=Europe",
             "name": "Europe",
             "normalized": "europe",
             "type": "continent"
            },
            "bd69cb806e20886": {
             "href": "https://peps.cnes.fr/resto/api/collections/S2ST/search.json?&lang=en&q=2019",
             "name": "2019",
             "type": "year"
            },
            "db06f1d6088ec4f": {
             "href": "https://peps.cnes.fr/resto/api/collections/S2ST/search.json?&lang=en&q=Aquitaine",
             "name": "Aquitaine",
             "normalized": "aquitaine",
             "parentHash": "936bcbcf5c43fbd",
             "type": "region",
             "value": 50.37
            },
            "f0e6a6daa0e9f47": {
             "href": "https://peps.cnes.fr/resto/api/collections/S2ST/search.json?&lang=en&q=Poitou-Charentes",
             "name": "Poitou-Charentes",
             "normalized": "poitou-charentes",
             "parentHash": "936bcbcf5c43fbd",
             "type": "region",
             "value": 19.85
            },
            "f841767ba5c92d4": {
             "href": "https://peps.cnes.fr/resto/api/collections/S2ST/search.json?&lang=en&q=msi",
             "name": "msi",
             "parentHash": "56bf819406cae6b",
             "type": "instrument"
            }
           },
           "lowProbaClouds": null,
           "mediumProbaClouds": null,
           "mgrs": "31TCL",
           "modificationDate": "2019-04-14T15:34:11.412Z",
           "newVersion": null,
           "orbitDirection": "ascending",
           "orbitNumber": 10988,
           "organisationName": null,
           "parentIdentifier": "urn:ogc:def:EOP:ESA::SENTINEL-2:",
           "platform": "S2ST",
           "platformSerialIdentifier": "S2B",
           "processingLevel": "LEVEL1C",
           "productType": "S2MSI1C",
           "publicationDate": "2019-04-14T15:34:11.412Z",
           "quicklook": "https://peps.cnes.fr/quicklook/2019/04/14/S2B/S2B_MSIL1C_20190414T105629_N0207_R094_T31TCL_20190414T120932_quicklook.jpg",
           "realtime": "Nominal",
           "relativeOrbitNumber": 94,
           "resolution": null,
           "resourceChecksum": "06CBE2D11651AA084F775C9CAF155C1B",
           "resourceSize": 412733577,
           "s2TakeId": "GS2B_20190414T105629_010988_N02.07",
           "sensorMode": "INS-NOBS",
           "snowCover": null,
           "snowIce": null,
           "startTimeFromAscendingNode": "2019-04-14T10:56:29.024Z",
           "storage": {
            "mode": "disk"
           },
           "thumbnail": null,
           "title": "S2B_MSIL1C_20190414T105629_N0207_R094_T31TCL_20190414T120932",
           "vegetation": null,
           "visible": 1,
           "water": null
          },
          "type": "Feature"
         },
         {
          "geometry": {
           "coordinates": [
            [
             [
              0.49965161310688,
              44.137996748197
             ],
             [
              0.55634949530898,
              44.13889745284
             ],
             [
              0.5707863180471,
              44.175111618876
             ],
             [
              0.62876528843921,
              44.320759309072
             ],
             [
              0.68761015537745,
              44.466289305157
             ],
             [
              0.74655588071251,
              44.611853852197
             ],
             [
              0.77564231308055,
              44.6832682503
             ],
             [
              0.80542720056696,
              44.756537173405
             ],
             [
              0.86486739638946,
              44.902135365373
             ],
             [
              0.92446488283938,
              45.04777364423
             ],
             [
              0.96013545971469,
              45.133648140199
             ],
             [
              0.45686051699677,
              45.125513562024
             ],
             [
              0.49965161310688,
              44.137996748197
             ]
            ]
           ],
           "type": "Polygon"
          },
          "id": "85704188-8f02-544d-a8d4-905eb32588d1",
          "properties": {
           "abstract": null,
           "bareSoil": null,
           "cloudCover": 72.282,
           "completionTimeFromAscendingNode": "2019-04-14T10:56:29.024Z",
           "creationDate": "2019-04-14T15:25:20.055Z",
           "downloadLink": "https://peps.cnes.fr/resto/collections/S2ST/85704188-8f02-544d-a8d4-905eb32588d1/download",
           "eodag_product_type": "S2_MSI_L1C",
           "eodag_provider": "peps",
           "eodag_search_intersection": {
            "coordinates": [
             [
              [
               0.49965161310688,
               44.137996748197
              ],
              [
               0.45686051699677,
               45.125513562024
              ],
              [
               0.96013545971469,
               45.133648140199
              ],
              [
               0.92446488283938,
               45.04777364423
              ],
              [
               0.86486739638946,
               44.902135365373
              ],
              [
               0.80542720056696,
               44.756537173405
              ],
              [
               0.77564231308055,
               44.6832682503
              ],
              [
               0.74655588071251,
               44.611853852197
              ],
              [
               0.68761015537745,
               44.466289305157
              ],
              [
               0.62876528843921,
               44.320759309072
              ],
              [
               0.5707863180471,
               44.175111618876
              ],
              [
               0.55634949530898,
               44.13889745284
              ],
              [
               0.49965161310688,
               44.137996748197
              ]
             ]
            ],
            "type": "Polygon"
           },
           "highProbaClouds": null,
           "instrument": "MSI",
           "isNrt": 0,
           "keyword": {
            "1eb8a6dcbdf3b74": {
             "href": "https://peps.cnes.fr/resto/api/collections/S2ST/search.json?&lang=en&q=Dordogne",
             "name": "Dordogne",
             "normalized": "dordogne",
             "parentHash": "db06f1d6088ec4f",
             "type": "state",
             "value": 64.89
            },
            "2bf8710c0c56a40": {
             "href": "https://peps.cnes.fr/resto/api/collections/S2ST/search.json?&lang=en&q=April",
             "name": "April",
             "parentHash": "bd69cb806e20886",
             "type": "month"
            },
            "44b15c0a6e62129": {
             "href": "https://peps.cnes.fr/resto/api/collections/S2ST/search.json?&lang=en&q=LEVEL1C",
             "name": "LEVEL1C",
             "type": "processingLevel"
            },
            "45038f3c2322ea3": {
             "href": "https://peps.cnes.fr/resto/api/collections/S2ST/search.json?&lang=en&q=S2ST",
             "name": "S2ST",
             "type": "collection"
            },
            "4b1f69fd85f2eff": {
             "href": "https://peps.cnes.fr/resto/api/collections/S2ST/search.json?&lang=en&q=Lot-et-Garonne",
             "name": "Lot-et-Garonne",
             "normalized": "lot-et-garonne",
             "parentHash": "db06f1d6088ec4f",
             "type": "state",
             "value": 35.13
            },
            "56bf819406cae6b": {
             "href": "https://peps.cnes.fr/resto/api/collections/S2ST/search.json?&lang=en&q=s2B",
             "name": "s2B",
             "type": "platform"
            },
            "6219554ecf5905c": {
             "href": "https://peps.cnes.fr/resto/api/collections/S2ST/search.json?&lang=en&q=S2MSI1C",
             "name": "S2MSI1C",
             "type": "productType"
            },
            "8537cb03801d45c": {
             "href": "https://peps.cnes.fr/resto/api/collections/S2ST/search.json?&lang=en&q=14",
             "name": "14",
             "parentHash": "2bf8710c0c56a40",
             "type": "day"
            },
            "8f43f01f9586bac": {
             "href": "https://peps.cnes.fr/resto/api/collections/S2ST/search.json?&lang=en&q=Ascending",
             "name": "Ascending",
             "type": "orbitDirection"
            },
            "936bcbcf5c43fbd": {
             "href": "https://peps.cnes.fr/resto/api/collections/S2ST/search.json?&lang=en&q=France",
             "name": "France",
             "normalized": "france",
             "parentHash": "bce097de57d1ab7",
             "type": "country",
             "value": 99.99
            },
            "a0e4a10aa754ab4": {
             "href": "https://peps.cnes.fr/resto/api/collections/S2ST/search.json?&lang=en&q=Northern",
             "name": "Northern",
             "type": "location"
            },
            "a56dfb1210d361d": {
             "href": "https://peps.cnes.fr/resto/api/collections/S2ST/search.json?&lang=en&q=Nominal",
             "name": "Nominal",
             "type": "realtime"
            },
            "aca78422271631a": {
             "href": "https://peps.cnes.fr/resto/api/collections/S2ST/search.json?&lang=en&q=INS-NOBS",
             "name": "INS-NOBS",
             "parentHash": "f841767ba5c92d4",
             "type": "sensorMode"
            },
            "b4de51064131332": {
             "href": "https://peps.cnes.fr/resto/api/collections/S2ST/search.json?&lang=en&q=Spring",
             "name": "Spring",
             "type": "season"
            },
            "bce097de57d1ab7": {
             "href": "https://peps.cnes.fr/resto/api/collections/S2ST/search.json?&lang=en&q=Europe",
             "name": "Europe",
             "normalized": "europe",
             "type": "continent"
            },
            "bd69cb806e20886": {
             "href": "https://peps.cnes.fr/resto/api/collections/S2ST/search.json?&lang=en&q=2019",
             "name": "2019",
             "type": "year"
            },
            "db06f1d6088ec4f": {
             "href": "https://peps.cnes.fr/resto/api/collections/S2ST/search.json?&lang=en&q=Aquitaine",
             "name": "Aquitaine",
             "normalized": "aquitaine",
             "parentHash": "936bcbcf5c43fbd",
             "type": "region",
             "value": 99.99
            },
            "f841767ba5c92d4": {
             "href": "https://peps.cnes.fr/resto/api/collections/S2ST/search.json?&lang=en&q=msi",
             "name": "msi",
             "parentHash": "56bf819406cae6b",
             "type": "instrument"
            }
           },
           "lowProbaClouds": null,
           "mediumProbaClouds": null,
           "mgrs": "31TCK",
           "modificationDate": "2019-04-14T15:30:43.873Z",
           "newVersion": null,
           "orbitDirection": "ascending",
           "orbitNumber": 10988,
           "organisationName": null,
           "parentIdentifier": "urn:ogc:def:EOP:ESA::SENTINEL-2:",
           "platform": "S2ST",
           "platformSerialIdentifier": "S2B",
           "processingLevel": "LEVEL1C",
           "productType": "S2MSI1C",
           "publicationDate": "2019-04-14T15:30:43.873Z",
           "quicklook": "https://peps.cnes.fr/quicklook/2019/04/14/S2B/S2B_MSIL1C_20190414T105629_N0207_R094_T31TCK_20190414T120932_quicklook.jpg",
           "realtime": "Nominal",
           "relativeOrbitNumber": 94,
           "resolution": null,
           "resourceChecksum": "83434125D4A3D70BABD657106BC8C3C9",
           "resourceSize": 165823358,
           "s2TakeId": "GS2B_20190414T105629_010988_N02.07",
           "sensorMode": "INS-NOBS",
           "snowCover": null,
           "snowIce": null,
           "startTimeFromAscendingNode": "2019-04-14T10:56:29.024Z",
           "storage": {
            "mode": "disk"
           },
           "thumbnail": null,
           "title": "S2B_MSIL1C_20190414T105629_N0207_R094_T31TCK_20190414T120932",
           "vegetation": null,
           "visible": 1,
           "water": null
          },
          "type": "Feature"
         },
         {
          "geometry": {
           "coordinates": [
            [
             [
              -1.6669922,
              42.356322390074
             ],
             [
              -1.6455383,
              43.344834816464
             ],
             [
              -3.0002441,
              43.352855392346
             ],
             [
              -3.0002441,
              42.364071920416
             ],
             [
              -1.6669922,
              42.356322390074
             ]
            ]
           ],
           "type": "Polygon"
          },
          "id": "aa694bb5-6a46-5224-b09a-52c758d5983a",
          "properties": {
           "abstract": null,
           "bareSoil": null,
           "cloudCover": 97.9102,
           "completionTimeFromAscendingNode": "2019-04-14T10:56:29.024Z",
           "creationDate": "2019-04-14T15:23:09.407Z",
           "downloadLink": "https://peps.cnes.fr/resto/collections/S2ST/aa694bb5-6a46-5224-b09a-52c758d5983a/download",
           "eodag_product_type": "S2_MSI_L1C",
           "eodag_provider": "peps",
           "eodag_search_intersection": {
            "coordinates": [
             [
              [
               -1.999512,
               43.34693052825698
              ],
              [
               -1.6455383,
               43.344834816464
              ],
              [
               -1.6581628187884097,
               42.763146
              ],
              [
               -1.999512,
               42.763146
              ],
              [
               -1.999512,
               43.34693052825698
              ]
             ]
            ],
            "type": "Polygon"
           },
           "highProbaClouds": null,
           "instrument": "MSI",
           "isNrt": 0,
           "keyword": {
            "0a7c039e34da7ff": {
             "href": "https://peps.cnes.fr/resto/api/collections/S2ST/search.json?&lang=en&q=Burgos",
             "name": "Burgos",
             "normalized": "burgos",
             "parentHash": "c29786d39a6c160",
             "type": "state",
             "value": 3.32
            },
            "2bf8710c0c56a40": {
             "href": "https://peps.cnes.fr/resto/api/collections/S2ST/search.json?&lang=en&q=April",
             "name": "April",
             "parentHash": "bd69cb806e20886",
             "type": "month"
            },
            "44b15c0a6e62129": {
             "href": "https://peps.cnes.fr/resto/api/collections/S2ST/search.json?&lang=en&q=LEVEL1C",
             "name": "LEVEL1C",
             "type": "processingLevel"
            },
            "45038f3c2322ea3": {
             "href": "https://peps.cnes.fr/resto/api/collections/S2ST/search.json?&lang=en&q=S2ST",
             "name": "S2ST",
             "type": "collection"
            },
            "56bf819406cae6b": {
             "href": "https://peps.cnes.fr/resto/api/collections/S2ST/search.json?&lang=en&q=s2B",
             "name": "s2B",
             "type": "platform"
            },
            "6219554ecf5905c": {
             "href": "https://peps.cnes.fr/resto/api/collections/S2ST/search.json?&lang=en&q=S2MSI1C",
             "name": "S2MSI1C",
             "type": "productType"
            },
            "780bca3744e24aa": {
             "href": "https://peps.cnes.fr/resto/api/collections/S2ST/search.json?&lang=en&q=%22Foral%20de%20Navarra%22",
             "name": "Foral de Navarra",
             "normalized": "foral-de-navarra",
             "parentHash": "e95d1eb633b4dd1",
             "type": "region",
             "value": 35.06
            },
            "7d13ac1e248493b": {
             "href": "https://peps.cnes.fr/resto/api/collections/S2ST/search.json?&lang=en&q=%C3%81lava",
             "name": "Álava",
             "normalized": "alava",
             "parentHash": "e3a9c4dec35e1c6",
             "type": "state",
             "value": 20.15
            },
            "8537cb03801d45c": {
             "href": "https://peps.cnes.fr/resto/api/collections/S2ST/search.json?&lang=en&q=14",
             "name": "14",
             "parentHash": "2bf8710c0c56a40",
             "type": "day"
            },
            "8e973c5726ef929": {
             "href": "https://peps.cnes.fr/resto/api/collections/S2ST/search.json?&lang=en&q=Coastal",
             "name": "Coastal",
             "type": "location"
            },
            "8f43f01f9586bac": {
             "href": "https://peps.cnes.fr/resto/api/collections/S2ST/search.json?&lang=en&q=Ascending",
             "name": "Ascending",
             "type": "orbitDirection"
            },
            "936bcbcf5c43fbd": {
             "href": "https://peps.cnes.fr/resto/api/collections/S2ST/search.json?&lang=en&q=France",
             "name": "France",
             "normalized": "france",
             "parentHash": "bce097de57d1ab7",
             "type": "country",
             "value": 0.42
            },
            "9efa9aa70983557": {
             "href": "https://peps.cnes.fr/resto/api/collections/S2ST/search.json?&lang=en&q=%22La%20Rioja%22",
             "name": "La Rioja",
             "normalized": "la-rioja",
             "parentHash": "e95d1eb633b4dd1",
             "type": "region",
             "value": 12.3
            },
            "a0e4a10aa754ab4": {
             "href": "https://peps.cnes.fr/resto/api/collections/S2ST/search.json?&lang=en&q=Northern",
             "name": "Northern",
             "type": "location"
            },
            "a56dfb1210d361d": {
             "href": "https://peps.cnes.fr/resto/api/collections/S2ST/search.json?&lang=en&q=Nominal",
             "name": "Nominal",
             "type": "realtime"
            },
            "aca78422271631a": {
             "href": "https://peps.cnes.fr/resto/api/collections/S2ST/search.json?&lang=en&q=INS-NOBS",
             "name": "INS-NOBS",
             "parentHash": "f841767ba5c92d4",
             "type": "sensorMode"
            },
            "b4de51064131332": {
             "href": "https://peps.cnes.fr/resto/api/collections/S2ST/search.json?&lang=en&q=Spring",
             "name": "Spring",
             "type": "season"
            },
            "bce097de57d1ab7": {
             "href": "https://peps.cnes.fr/resto/api/collections/S2ST/search.json?&lang=en&q=Europe",
             "name": "Europe",
             "normalized": "europe",
             "type": "continent"
            },
            "bd69cb806e20886": {
             "href": "https://peps.cnes.fr/resto/api/collections/S2ST/search.json?&lang=en&q=2019",
             "name": "2019",
             "type": "year"
            },
            "c29786d39a6c160": {
             "href": "https://peps.cnes.fr/resto/api/collections/S2ST/search.json?&lang=en&q=%22Castilla%20y%20Le%C3%B3n%22",
             "name": "Castilla y León",
             "normalized": "castilla-y-leon",
             "parentHash": "e95d1eb633b4dd1",
             "type": "region",
             "value": 3.17
            },
            "c5e3ddc34a72431": {
             "href": "https://peps.cnes.fr/resto/api/collections/S2ST/search.json?&lang=en&q=%22La%20Rioja%22",
             "name": "La Rioja",
             "normalized": "la-rioja",
             "parentHash": "9efa9aa70983557",
             "type": "state",
             "value": 12.32
            },
            "cb311e1a7554343": {
             "href": "https://peps.cnes.fr/resto/api/collections/S2ST/search.json?&lang=en&q=Navarra",
             "name": "Navarra",
             "normalized": "navarra",
             "parentHash": "780bca3744e24aa",
             "type": "state",
             "value": 35.09
            },
            "d52b1d36804487b": {
             "href": "https://peps.cnes.fr/resto/api/collections/S2ST/search.json?&lang=en&q=Gipuzkoa",
             "name": "Gipuzkoa",
             "normalized": "gipuzkoa",
             "parentHash": "e3a9c4dec35e1c6",
             "type": "state",
             "value": 16.05
            },
            "d5a7d91bc589eaf": {
             "href": "https://peps.cnes.fr/resto/api/collections/S2ST/search.json?&lang=en&q=Pyr%C3%A9n%C3%A9es-Atlantiques",
             "name": "Pyrénées-Atlantiques",
             "normalized": "pyrenees-atlantiques",
             "parentHash": "db06f1d6088ec4f",
             "type": "state",
             "value": 0.42
            },
            "db06f1d6088ec4f": {
             "href": "https://peps.cnes.fr/resto/api/collections/S2ST/search.json?&lang=en&q=Aquitaine",
             "name": "Aquitaine",
             "normalized": "aquitaine",
             "parentHash": "936bcbcf5c43fbd",
             "type": "region",
             "value": 0.42
            },
            "e15b46aa9793ab0": {
             "href": "https://peps.cnes.fr/resto/api/collections/S2ST/search.json?&lang=en&q=Bizkaia",
             "name": "Bizkaia",
             "normalized": "bizkaia",
             "parentHash": "e3a9c4dec35e1c6",
             "type": "state",
             "value": 11.24
            },
            "e3a9c4dec35e1c6": {
             "href": "https://peps.cnes.fr/resto/api/collections/S2ST/search.json?&lang=en&q=%22Pa%C3%ADs%20Vasco%22",
             "name": "País Vasco",
             "normalized": "pais-vasco",
             "parentHash": "e95d1eb633b4dd1",
             "type": "region",
             "value": 47.6
            },
            "e95d1eb633b4dd1": {
             "href": "https://peps.cnes.fr/resto/api/collections/S2ST/search.json?&lang=en&q=Spain",
             "name": "Spain",
             "normalized": "spain",
             "parentHash": "bce097de57d1ab7",
             "type": "country",
             "value": 98.14
            },
            "f841767ba5c92d4": {
             "href": "https://peps.cnes.fr/resto/api/collections/S2ST/search.json?&lang=en&q=msi",
             "name": "msi",
             "parentHash": "56bf819406cae6b",
             "type": "instrument"
            }
           },
           "lowProbaClouds": null,
           "mediumProbaClouds": null,
           "mgrs": "30TWN",
           "modificationDate": "2019-04-14T15:29:13.290Z",
           "newVersion": null,
           "orbitDirection": "ascending",
           "orbitNumber": 10988,
           "organisationName": null,
           "parentIdentifier": "urn:ogc:def:EOP:ESA::SENTINEL-2:",
           "platform": "S2ST",
           "platformSerialIdentifier": "S2B",
           "processingLevel": "LEVEL1C",
           "productType": "S2MSI1C",
           "publicationDate": "2019-04-14T15:29:13.290Z",
           "quicklook": "https://peps.cnes.fr/quicklook/2019/04/14/S2B/S2B_MSIL1C_20190414T105629_N0207_R094_T30TWN_20190414T120932_quicklook.jpg",
           "realtime": "Nominal",
           "relativeOrbitNumber": 94,
           "resolution": null,
           "resourceChecksum": "40C006706B83FB4EC1C10EF06A4F0666",
           "resourceSize": 753814147,
           "s2TakeId": "GS2B_20190414T105629_010988_N02.07",
           "sensorMode": "INS-NOBS",
           "snowCover": null,
           "snowIce": null,
           "startTimeFromAscendingNode": "2019-04-14T10:56:29.024Z",
           "storage": {
            "mode": "disk"
           },
           "thumbnail": null,
           "title": "S2B_MSIL1C_20190414T105629_N0207_R094_T30TWN_20190414T120932",
           "vegetation": null,
           "visible": 1,
           "water": null
          },
          "type": "Feature"
         },
         {
          "geometry": {
           "coordinates": [
            [
             [
              0.50487270135959,
              44.009673669178
             ],
             [
              0.512757316976,
              44.029548296683
             ],
             [
              0.5707863180471,
              44.175111618876
             ],
             [
              0.59163572135988,
              44.227486944169
             ],
             [
              0.49592859290379,
              44.225964154763
             ],
             [
              0.50487270135959,
              44.009673669178
             ]
            ]
           ],
           "type": "Polygon"
          },
          "id": "d360f3f0-22fd-5f8b-b2e4-3d164afa1e5e",
          "properties": {
           "abstract": null,
           "bareSoil": null,
           "cloudCover": 96.0703,
           "completionTimeFromAscendingNode": "2019-04-14T10:56:29.024Z",
           "creationDate": "2019-04-14T15:25:35.664Z",
           "downloadLink": "https://peps.cnes.fr/resto/collections/S2ST/d360f3f0-22fd-5f8b-b2e4-3d164afa1e5e/download",
           "eodag_product_type": "S2_MSI_L1C",
           "eodag_provider": "peps",
           "eodag_search_intersection": {
            "coordinates": [
             [
              [
               0.50487270135959,
               44.009673669178
              ],
              [
               0.49592859290379,
               44.225964154763
              ],
              [
               0.59163572135988,
               44.227486944169
              ],
              [
               0.5707863180471,
               44.175111618876
              ],
              [
               0.512757316976,
               44.029548296683
              ],
              [
               0.50487270135959,
               44.009673669178
              ]
             ]
            ],
            "type": "Polygon"
           },
           "highProbaClouds": null,
           "instrument": "MSI",
           "isNrt": 0,
           "keyword": {
            "2bf8710c0c56a40": {
             "href": "https://peps.cnes.fr/resto/api/collections/S2ST/search.json?&lang=en&q=April",
             "name": "April",
             "parentHash": "bd69cb806e20886",
             "type": "month"
            },
            "44b15c0a6e62129": {
             "href": "https://peps.cnes.fr/resto/api/collections/S2ST/search.json?&lang=en&q=LEVEL1C",
             "name": "LEVEL1C",
             "type": "processingLevel"
            },
            "45038f3c2322ea3": {
             "href": "https://peps.cnes.fr/resto/api/collections/S2ST/search.json?&lang=en&q=S2ST",
             "name": "S2ST",
             "type": "collection"
            },
            "4b1f69fd85f2eff": {
             "href": "https://peps.cnes.fr/resto/api/collections/S2ST/search.json?&lang=en&q=Lot-et-Garonne",
             "name": "Lot-et-Garonne",
             "normalized": "lot-et-garonne",
             "parentHash": "db06f1d6088ec4f",
             "type": "state",
             "value": 95.89
            },
            "56bf819406cae6b": {
             "href": "https://peps.cnes.fr/resto/api/collections/S2ST/search.json?&lang=en&q=s2B",
             "name": "s2B",
             "type": "platform"
            },
            "6219554ecf5905c": {
             "href": "https://peps.cnes.fr/resto/api/collections/S2ST/search.json?&lang=en&q=S2MSI1C",
             "name": "S2MSI1C",
             "type": "productType"
            },
            "8537cb03801d45c": {
             "href": "https://peps.cnes.fr/resto/api/collections/S2ST/search.json?&lang=en&q=14",
             "name": "14",
             "parentHash": "2bf8710c0c56a40",
             "type": "day"
            },
            "8f43f01f9586bac": {
             "href": "https://peps.cnes.fr/resto/api/collections/S2ST/search.json?&lang=en&q=Ascending",
             "name": "Ascending",
             "type": "orbitDirection"
            },
            "936bcbcf5c43fbd": {
             "href": "https://peps.cnes.fr/resto/api/collections/S2ST/search.json?&lang=en&q=France",
             "name": "France",
             "normalized": "france",
             "parentHash": "bce097de57d1ab7",
             "type": "country",
             "value": 100
            },
            "a0e4a10aa754ab4": {
             "href": "https://peps.cnes.fr/resto/api/collections/S2ST/search.json?&lang=en&q=Northern",
             "name": "Northern",
             "type": "location"
            },
            "a56dfb1210d361d": {
             "href": "https://peps.cnes.fr/resto/api/collections/S2ST/search.json?&lang=en&q=Nominal",
             "name": "Nominal",
             "type": "realtime"
            },
            "aca78422271631a": {
             "href": "https://peps.cnes.fr/resto/api/collections/S2ST/search.json?&lang=en&q=INS-NOBS",
             "name": "INS-NOBS",
             "parentHash": "f841767ba5c92d4",
             "type": "sensorMode"
            },
            "b4de51064131332": {
             "href": "https://peps.cnes.fr/resto/api/collections/S2ST/search.json?&lang=en&q=Spring",
             "name": "Spring",
             "type": "season"
            },
            "bce097de57d1ab7": {
             "href": "https://peps.cnes.fr/resto/api/collections/S2ST/search.json?&lang=en&q=Europe",
             "name": "Europe",
             "normalized": "europe",
             "type": "continent"
            },
            "bd69cb806e20886": {
             "href": "https://peps.cnes.fr/resto/api/collections/S2ST/search.json?&lang=en&q=2019",
             "name": "2019",
             "type": "year"
            },
            "d8c2acfe38c3ff4": {
             "href": "https://peps.cnes.fr/resto/api/collections/S2ST/search.json?&lang=en&q=Gers",
             "name": "Gers",
             "normalized": "gers",
             "parentHash": "fa018f4f7b20706",
             "type": "state",
             "value": 4.12
            },
            "db06f1d6088ec4f": {
             "href": "https://peps.cnes.fr/resto/api/collections/S2ST/search.json?&lang=en&q=Aquitaine",
             "name": "Aquitaine",
             "normalized": "aquitaine",
             "parentHash": "936bcbcf5c43fbd",
             "type": "region",
             "value": 94.07
            },
            "f841767ba5c92d4": {
             "href": "https://peps.cnes.fr/resto/api/collections/S2ST/search.json?&lang=en&q=msi",
             "name": "msi",
             "parentHash": "56bf819406cae6b",
             "type": "instrument"
            },
            "fa018f4f7b20706": {
             "href": "https://peps.cnes.fr/resto/api/collections/S2ST/search.json?&lang=en&q=Midi-Pyr%C3%A9n%C3%A9es",
             "name": "Midi-Pyrénées",
             "normalized": "midi-pyrenees",
             "parentHash": "936bcbcf5c43fbd",
             "type": "region",
             "value": 5.95
            }
           },
           "lowProbaClouds": null,
           "mediumProbaClouds": null,
           "mgrs": "31TCJ",
           "modificationDate": "2019-04-14T15:29:27.765Z",
           "newVersion": null,
           "orbitDirection": "ascending",
           "orbitNumber": 10988,
           "organisationName": null,
           "parentIdentifier": "urn:ogc:def:EOP:ESA::SENTINEL-2:",
           "platform": "S2ST",
           "platformSerialIdentifier": "S2B",
           "processingLevel": "LEVEL1C",
           "productType": "S2MSI1C",
           "publicationDate": "2019-04-14T15:29:27.765Z",
           "quicklook": "https://peps.cnes.fr/quicklook/2019/04/14/S2B/S2B_MSIL1C_20190414T105629_N0207_R094_T31TCJ_20190414T120932_quicklook.jpg",
           "realtime": "Nominal",
           "relativeOrbitNumber": 94,
           "resolution": null,
           "resourceChecksum": "45BAD1B9AE70A5916DC25D240664332F",
           "resourceSize": 30218242,
           "s2TakeId": "GS2B_20190414T105629_010988_N02.07",
           "sensorMode": "INS-NOBS",
           "snowCover": null,
           "snowIce": null,
           "startTimeFromAscendingNode": "2019-04-14T10:56:29.024Z",
           "storage": {
            "mode": "disk"
           },
           "thumbnail": null,
           "title": "S2B_MSIL1C_20190414T105629_N0207_R094_T31TCJ_20190414T120932",
           "vegetation": null,
           "visible": 1,
           "water": null
          },
          "type": "Feature"
         },
         {
          "geometry": {
           "coordinates": [
            [
             [
              -1.6474915,
              43.256794294202
             ],
             [
              -1.625061,
              44.245142411824
             ],
             [
              -3.0002441,
              44.253417581078
             ],
             [
              -3.0002441,
              43.264790377373
             ],
             [
              -1.6474915,
              43.256794294202
             ]
            ]
           ],
           "type": "Polygon"
          },
          "id": "e2b59d2f-0d43-5652-b6e3-d8033015bec4",
          "properties": {
           "abstract": null,
           "bareSoil": null,
           "cloudCover": 96.0372,
           "completionTimeFromAscendingNode": "2019-04-14T10:56:29.024Z",
           "creationDate": "2019-04-14T15:23:04.333Z",
           "downloadLink": "https://peps.cnes.fr/resto/collections/S2ST/e2b59d2f-0d43-5652-b6e3-d8033015bec4/download",
           "eodag_product_type": "S2_MSI_L1C",
           "eodag_provider": "peps",
           "eodag_search_intersection": {
            "coordinates": [
             [
              [
               -1.999512,
               44.24739567206427
              ],
              [
               -1.625061,
               44.245142411824
              ],
              [
               -1.6474915,
               43.256794294202
              ],
              [
               -1.999512,
               43.25887507763269
              ],
              [
               -1.999512,
               44.24739567206427
              ]
             ]
            ],
            "type": "Polygon"
           },
           "highProbaClouds": null,
           "instrument": "MSI",
           "isNrt": 0,
           "keyword": {
            "2bf8710c0c56a40": {
             "href": "https://peps.cnes.fr/resto/api/collections/S2ST/search.json?&lang=en&q=April",
             "name": "April",
             "parentHash": "bd69cb806e20886",
             "type": "month"
            },
            "44b15c0a6e62129": {
             "href": "https://peps.cnes.fr/resto/api/collections/S2ST/search.json?&lang=en&q=LEVEL1C",
             "name": "LEVEL1C",
             "type": "processingLevel"
            },
            "45038f3c2322ea3": {
             "href": "https://peps.cnes.fr/resto/api/collections/S2ST/search.json?&lang=en&q=S2ST",
             "name": "S2ST",
             "type": "collection"
            },
            "56bf819406cae6b": {
             "href": "https://peps.cnes.fr/resto/api/collections/S2ST/search.json?&lang=en&q=s2B",
             "name": "s2B",
             "type": "platform"
            },
            "6219554ecf5905c": {
             "href": "https://peps.cnes.fr/resto/api/collections/S2ST/search.json?&lang=en&q=S2MSI1C",
             "name": "S2MSI1C",
             "type": "productType"
            },
            "780bca3744e24aa": {
             "href": "https://peps.cnes.fr/resto/api/collections/S2ST/search.json?&lang=en&q=%22Foral%20de%20Navarra%22",
             "name": "Foral de Navarra",
             "normalized": "foral-de-navarra",
             "parentHash": "e95d1eb633b4dd1",
             "type": "region",
             "value": 0.42
            },
            "8537cb03801d45c": {
             "href": "https://peps.cnes.fr/resto/api/collections/S2ST/search.json?&lang=en&q=14",
             "name": "14",
             "parentHash": "2bf8710c0c56a40",
             "type": "day"
            },
            "8e973c5726ef929": {
             "href": "https://peps.cnes.fr/resto/api/collections/S2ST/search.json?&lang=en&q=Coastal",
             "name": "Coastal",
             "type": "location"
            },
            "8f43f01f9586bac": {
             "href": "https://peps.cnes.fr/resto/api/collections/S2ST/search.json?&lang=en&q=Ascending",
             "name": "Ascending",
             "type": "orbitDirection"
            },
            "936bcbcf5c43fbd": {
             "href": "https://peps.cnes.fr/resto/api/collections/S2ST/search.json?&lang=en&q=France",
             "name": "France",
             "normalized": "france",
             "parentHash": "bce097de57d1ab7",
             "type": "country",
             "value": 0.95
            },
            "a0e4a10aa754ab4": {
             "href": "https://peps.cnes.fr/resto/api/collections/S2ST/search.json?&lang=en&q=Northern",
             "name": "Northern",
             "type": "location"
            },
            "a56dfb1210d361d": {
             "href": "https://peps.cnes.fr/resto/api/collections/S2ST/search.json?&lang=en&q=Nominal",
             "name": "Nominal",
             "type": "realtime"
            },
            "aca78422271631a": {
             "href": "https://peps.cnes.fr/resto/api/collections/S2ST/search.json?&lang=en&q=INS-NOBS",
             "name": "INS-NOBS",
             "parentHash": "f841767ba5c92d4",
             "type": "sensorMode"
            },
            "b4de51064131332": {
             "href": "https://peps.cnes.fr/resto/api/collections/S2ST/search.json?&lang=en&q=Spring",
             "name": "Spring",
             "type": "season"
            },
            "bce097de57d1ab7": {
             "href": "https://peps.cnes.fr/resto/api/collections/S2ST/search.json?&lang=en&q=Europe",
             "name": "Europe",
             "normalized": "europe",
             "type": "continent"
            },
            "bd69cb806e20886": {
             "href": "https://peps.cnes.fr/resto/api/collections/S2ST/search.json?&lang=en&q=2019",
             "name": "2019",
             "type": "year"
            },
            "cb311e1a7554343": {
             "href": "https://peps.cnes.fr/resto/api/collections/S2ST/search.json?&lang=en&q=Navarra",
             "name": "Navarra",
             "normalized": "navarra",
             "parentHash": "780bca3744e24aa",
             "type": "state",
             "value": 0.42
            },
            "d52b1d36804487b": {
             "href": "https://peps.cnes.fr/resto/api/collections/S2ST/search.json?&lang=en&q=Gipuzkoa",
             "name": "Gipuzkoa",
             "normalized": "gipuzkoa",
             "parentHash": "e3a9c4dec35e1c6",
             "type": "state",
             "value": 3.2
            },
            "d5a7d91bc589eaf": {
             "href": "https://peps.cnes.fr/resto/api/collections/S2ST/search.json?&lang=en&q=Pyr%C3%A9n%C3%A9es-Atlantiques",
             "name": "Pyrénées-Atlantiques",
             "normalized": "pyrenees-atlantiques",
             "parentHash": "db06f1d6088ec4f",
             "type": "state",
             "value": 0.95
            },
            "db06f1d6088ec4f": {
             "href": "https://peps.cnes.fr/resto/api/collections/S2ST/search.json?&lang=en&q=Aquitaine",
             "name": "Aquitaine",
             "normalized": "aquitaine",
             "parentHash": "936bcbcf5c43fbd",
             "type": "region",
             "value": 0.91
            },
            "e15b46aa9793ab0": {
             "href": "https://peps.cnes.fr/resto/api/collections/S2ST/search.json?&lang=en&q=Bizkaia",
             "name": "Bizkaia",
             "normalized": "bizkaia",
             "parentHash": "e3a9c4dec35e1c6",
             "type": "state",
             "value": 6.25
            },
            "e3a9c4dec35e1c6": {
             "href": "https://peps.cnes.fr/resto/api/collections/S2ST/search.json?&lang=en&q=%22Pa%C3%ADs%20Vasco%22",
             "name": "País Vasco",
             "normalized": "pais-vasco",
             "parentHash": "e95d1eb633b4dd1",
             "type": "region",
             "value": 9.4
            },
            "e95d1eb633b4dd1": {
             "href": "https://peps.cnes.fr/resto/api/collections/S2ST/search.json?&lang=en&q=Spain",
             "name": "Spain",
             "normalized": "spain",
             "parentHash": "bce097de57d1ab7",
             "type": "country",
             "value": 9.77
            },
            "f841767ba5c92d4": {
             "href": "https://peps.cnes.fr/resto/api/collections/S2ST/search.json?&lang=en&q=msi",
             "name": "msi",
             "parentHash": "56bf819406cae6b",
             "type": "instrument"
            }
           },
           "lowProbaClouds": null,
           "mediumProbaClouds": null,
           "mgrs": "30TWP",
           "modificationDate": "2019-04-14T15:28:03.585Z",
           "newVersion": null,
           "orbitDirection": "ascending",
           "orbitNumber": 10988,
           "organisationName": null,
           "parentIdentifier": "urn:ogc:def:EOP:ESA::SENTINEL-2:",
           "platform": "S2ST",
           "platformSerialIdentifier": "S2B",
           "processingLevel": "LEVEL1C",
           "productType": "S2MSI1C",
           "publicationDate": "2019-04-14T15:28:03.585Z",
           "quicklook": "https://peps.cnes.fr/quicklook/2019/04/14/S2B/S2B_MSIL1C_20190414T105629_N0207_R094_T30TWP_20190414T120932_quicklook.jpg",
           "realtime": "Nominal",
           "relativeOrbitNumber": 94,
           "resolution": null,
           "resourceChecksum": "2C53BC70D77B9DD9EB959839FC4B24F8",
           "resourceSize": 672972187,
           "s2TakeId": "GS2B_20190414T105629_010988_N02.07",
           "sensorMode": "INS-NOBS",
           "snowCover": null,
           "snowIce": null,
           "startTimeFromAscendingNode": "2019-04-14T10:56:29.024Z",
           "storage": {
            "mode": "disk"
           },
           "thumbnail": null,
           "title": "S2B_MSIL1C_20190414T105629_N0207_R094_T30TWP_20190414T120932",
           "vegetation": null,
           "visible": 1,
           "water": null
          },
          "type": "Feature"
         },
         {
          "geometry": {
           "coordinates": [
            [
             [
              -1.6057434,
              45.056748593058
             ],
             [
              -1.5810852,
              46.044766226836
             ],
             [
              -2.6054993,
              46.051124281964
             ],
             [
              -2.6140442,
              46.026778679009
             ],
             [
              -2.6141663,
              46.026416906255
             ],
             [
              -2.6651917,
              45.880000104126
             ],
             [
              -2.71344,
              45.741270300585
             ],
             [
              -2.7161255,
              45.733529546033
             ],
             [
              -2.7667542,
              45.58689907063
             ],
             [
              -2.8170776,
              45.440262061174
             ],
             [
              -2.867218,
              45.293594749984
             ],
             [
              -2.9170837,
              45.14694992297
             ],
             [
              -2.9448547,
              45.064921914733
             ],
             [
              -1.6057434,
              45.056748593058
             ]
            ]
           ],
           "type": "Polygon"
          },
          "id": "e41eb05f-b536-57e4-a008-79c2bf9e70e4",
          "properties": {
           "abstract": null,
           "bareSoil": null,
           "cloudCover": 50.0874,
           "completionTimeFromAscendingNode": "2019-04-14T10:56:29.024Z",
           "creationDate": "2019-04-14T15:23:04.762Z",
           "downloadLink": "https://peps.cnes.fr/resto/collections/S2ST/e41eb05f-b536-57e4-a008-79c2bf9e70e4/download",
           "eodag_product_type": "S2_MSI_L1C",
           "eodag_provider": "peps",
           "eodag_search_intersection": {
            "coordinates": [
             [
              [
               -1.999512,
               46.047363204622066
              ],
              [
               -1.5810852,
               46.044766226836
              ],
              [
               -1.6057434,
               45.056748593058
              ],
              [
               -1.999512,
               45.05915197613252
              ],
              [
               -1.999512,
               46.047363204622066
              ]
             ]
            ],
            "type": "Polygon"
           },
           "highProbaClouds": null,
           "instrument": "MSI",
           "isNrt": 0,
           "keyword": {
            "2bf8710c0c56a40": {
             "href": "https://peps.cnes.fr/resto/api/collections/S2ST/search.json?&lang=en&q=April",
             "name": "April",
             "parentHash": "bd69cb806e20886",
             "type": "month"
            },
            "44b15c0a6e62129": {
             "href": "https://peps.cnes.fr/resto/api/collections/S2ST/search.json?&lang=en&q=LEVEL1C",
             "name": "LEVEL1C",
             "type": "processingLevel"
            },
            "45038f3c2322ea3": {
             "href": "https://peps.cnes.fr/resto/api/collections/S2ST/search.json?&lang=en&q=S2ST",
             "name": "S2ST",
             "type": "collection"
            },
            "56bf819406cae6b": {
             "href": "https://peps.cnes.fr/resto/api/collections/S2ST/search.json?&lang=en&q=s2B",
             "name": "s2B",
             "type": "platform"
            },
            "6219554ecf5905c": {
             "href": "https://peps.cnes.fr/resto/api/collections/S2ST/search.json?&lang=en&q=S2MSI1C",
             "name": "S2MSI1C",
             "type": "productType"
            },
            "8537cb03801d45c": {
             "href": "https://peps.cnes.fr/resto/api/collections/S2ST/search.json?&lang=en&q=14",
             "name": "14",
             "parentHash": "2bf8710c0c56a40",
             "type": "day"
            },
            "8f43f01f9586bac": {
             "href": "https://peps.cnes.fr/resto/api/collections/S2ST/search.json?&lang=en&q=Ascending",
             "name": "Ascending",
             "type": "orbitDirection"
            },
            "a0e4a10aa754ab4": {
             "href": "https://peps.cnes.fr/resto/api/collections/S2ST/search.json?&lang=en&q=Northern",
             "name": "Northern",
             "type": "location"
            },
            "a56dfb1210d361d": {
             "href": "https://peps.cnes.fr/resto/api/collections/S2ST/search.json?&lang=en&q=Nominal",
             "name": "Nominal",
             "type": "realtime"
            },
            "aca78422271631a": {
             "href": "https://peps.cnes.fr/resto/api/collections/S2ST/search.json?&lang=en&q=INS-NOBS",
             "name": "INS-NOBS",
             "parentHash": "f841767ba5c92d4",
             "type": "sensorMode"
            },
            "b4de51064131332": {
             "href": "https://peps.cnes.fr/resto/api/collections/S2ST/search.json?&lang=en&q=Spring",
             "name": "Spring",
             "type": "season"
            },
            "bd69cb806e20886": {
             "href": "https://peps.cnes.fr/resto/api/collections/S2ST/search.json?&lang=en&q=2019",
             "name": "2019",
             "type": "year"
            },
            "f841767ba5c92d4": {
             "href": "https://peps.cnes.fr/resto/api/collections/S2ST/search.json?&lang=en&q=msi",
             "name": "msi",
             "parentHash": "56bf819406cae6b",
             "type": "instrument"
            }
           },
           "lowProbaClouds": null,
           "mediumProbaClouds": null,
           "mgrs": "30TWR",
           "modificationDate": "2019-04-14T15:28:32.861Z",
           "newVersion": null,
           "orbitDirection": "ascending",
           "orbitNumber": 10988,
           "organisationName": null,
           "parentIdentifier": "urn:ogc:def:EOP:ESA::SENTINEL-2:",
           "platform": "S2ST",
           "platformSerialIdentifier": "S2B",
           "processingLevel": "LEVEL1C",
           "productType": "S2MSI1C",
           "publicationDate": "2019-04-14T15:28:32.861Z",
           "quicklook": "https://peps.cnes.fr/quicklook/2019/04/14/S2B/S2B_MSIL1C_20190414T105629_N0207_R094_T30TWR_20190414T120932_quicklook.jpg",
           "realtime": "Nominal",
           "relativeOrbitNumber": 94,
           "resolution": null,
           "resourceChecksum": "D806E2A24A54E4A1C1CEB05842BFBA68",
           "resourceSize": 614729592,
           "s2TakeId": "GS2B_20190414T105629_010988_N02.07",
           "sensorMode": "INS-NOBS",
           "snowCover": null,
           "snowIce": null,
           "startTimeFromAscendingNode": "2019-04-14T10:56:29.024Z",
           "storage": {
            "mode": "disk"
           },
           "thumbnail": null,
           "title": "S2B_MSIL1C_20190414T105629_N0207_R094_T30TWR_20190414T120932",
           "vegetation": null,
           "visible": 1,
           "water": null
          },
          "type": "Feature"
         },
         {
          "geometry": {
           "coordinates": [
            [
             [
              4.3524940324834,
              43.256794294202
             ],
             [
              4.3749400587493,
              44.245142411824
             ],
             [
              2.9997494741209,
              44.253417581078
             ],
             [
              2.9997535655119,
              43.264790377373
             ],
             [
              4.3524940324834,
              43.256794294202
             ]
            ]
           ],
           "type": "Polygon"
          },
          "id": "0bc9a783-3bc5-5e40-8720-fb6b5dae88df",
          "properties": {
           "abstract": null,
           "bareSoil": null,
           "cloudCover": 1.6907,
           "completionTimeFromAscendingNode": "2019-04-13T10:40:21.024Z",
           "creationDate": "2019-04-13T17:39:36.468Z",
           "downloadLink": "https://peps.cnes.fr/resto/collections/S2ST/0bc9a783-3bc5-5e40-8720-fb6b5dae88df/download",
           "eodag_product_type": "S2_MSI_L1C",
           "eodag_provider": "peps",
           "eodag_search_intersection": {
            "coordinates": [
             [
              [
               4.3524940324834,
               43.256794294202
              ],
              [
               2.9997535655119,
               43.264790377373
              ],
              [
               2.9997494741209,
               44.253417581078
              ],
              [
               4.3749400587493,
               44.245142411824
              ],
              [
               4.3524940324834,
               43.256794294202
              ]
             ]
            ],
            "type": "Polygon"
           },
           "highProbaClouds": null,
           "instrument": "MSI",
           "isNrt": 0,
           "keyword": {
            "2bf8710c0c56a40": {
             "href": "https://peps.cnes.fr/resto/api/collections/S2ST/search.json?&lang=en&q=April",
             "name": "April",
             "parentHash": "bd69cb806e20886",
             "type": "month"
            },
            "3f85bb5d775e1fc": {
             "href": "https://peps.cnes.fr/resto/api/collections/S2ST/search.json?&lang=en&q=INS-NOBS",
             "name": "INS-NOBS",
             "parentHash": "503f8f6199f3e44",
             "type": "sensorMode"
            },
            "44b15c0a6e62129": {
             "href": "https://peps.cnes.fr/resto/api/collections/S2ST/search.json?&lang=en&q=LEVEL1C",
             "name": "LEVEL1C",
             "type": "processingLevel"
            },
            "45038f3c2322ea3": {
             "href": "https://peps.cnes.fr/resto/api/collections/S2ST/search.json?&lang=en&q=S2ST",
             "name": "S2ST",
             "type": "collection"
            },
            "455ae3d75f982e8": {
             "href": "https://peps.cnes.fr/resto/api/collections/S2ST/search.json?&lang=en&q=Languedoc-Roussillon",
             "name": "Languedoc-Roussillon",
             "normalized": "languedoc-roussillon",
             "parentHash": "936bcbcf5c43fbd",
             "type": "region",
             "value": 75.96
            },
            "4562ae7650b1934": {
             "href": "https://peps.cnes.fr/resto/api/collections/S2ST/search.json?&lang=en&q=H%C3%A9rault",
             "name": "Hérault",
             "normalized": "herault",
             "parentHash": "455ae3d75f982e8",
             "type": "state",
             "value": 41.17
            },
            "503f8f6199f3e44": {
             "href": "https://peps.cnes.fr/resto/api/collections/S2ST/search.json?&lang=en&q=msi",
             "name": "msi",
             "parentHash": "afe9ad14455c260",
             "type": "instrument"
            },
            "6219554ecf5905c": {
             "href": "https://peps.cnes.fr/resto/api/collections/S2ST/search.json?&lang=en&q=S2MSI1C",
             "name": "S2MSI1C",
             "type": "productType"
            },
            "66e647674d54134": {
             "href": "https://peps.cnes.fr/resto/api/collections/S2ST/search.json?&lang=en&q=Provence-Alpes-C%C3%B4te-d%27Azur",
             "name": "Provence-Alpes-Côte-d'Azur",
             "normalized": "provence-alpes-cote-d-azur",
             "parentHash": "936bcbcf5c43fbd",
             "type": "region",
             "value": 0.58
            },
            "6eb61f247678431": {
             "href": "https://peps.cnes.fr/resto/api/collections/S2ST/search.json?&lang=en&q=Gard",
             "name": "Gard",
             "normalized": "gard",
             "parentHash": "455ae3d75f982e8",
             "type": "state",
             "value": 29.32
            },
            "70db2751c3c6c3d": {
             "href": "https://peps.cnes.fr/resto/api/collections/S2ST/search.json?&lang=en&q=Aude",
             "name": "Aude",
             "normalized": "aude",
             "parentHash": "455ae3d75f982e8",
             "type": "state",
             "value": 0.09
            },
            "720a0e9e551d34d": {
             "href": "https://peps.cnes.fr/resto/api/collections/S2ST/search.json?&lang=en&q=13",
             "name": "13",
             "parentHash": "2bf8710c0c56a40",
             "type": "day"
            },
            "777847c20f344f7": {
             "href": "https://peps.cnes.fr/resto/api/collections/S2ST/search.json?&lang=en&q=Bouches-du-Rh%C3%B4ne",
             "name": "Bouches-du-Rhône",
             "normalized": "bouches-du-rhone",
             "parentHash": "66e647674d54134",
             "type": "state",
             "value": 0.58
            },
            "8e973c5726ef929": {
             "href": "https://peps.cnes.fr/resto/api/collections/S2ST/search.json?&lang=en&q=Coastal",
             "name": "Coastal",
             "type": "location"
            },
            "936bcbcf5c43fbd": {
             "href": "https://peps.cnes.fr/resto/api/collections/S2ST/search.json?&lang=en&q=France",
             "name": "France",
             "normalized": "france",
             "parentHash": "bce097de57d1ab7",
             "type": "country",
             "value": 87.43
            },
            "a0e4a10aa754ab4": {
             "href": "https://peps.cnes.fr/resto/api/collections/S2ST/search.json?&lang=en&q=Northern",
             "name": "Northern",
             "type": "location"
            },
            "a507bd46cbf5398": {
             "href": "https://peps.cnes.fr/resto/api/collections/S2ST/search.json?&lang=en&q=Aveyron",
             "name": "Aveyron",
             "normalized": "aveyron",
             "parentHash": "fa018f4f7b20706",
             "type": "state",
             "value": 10.91
            },
            "a56dfb1210d361d": {
             "href": "https://peps.cnes.fr/resto/api/collections/S2ST/search.json?&lang=en&q=Nominal",
             "name": "Nominal",
             "type": "realtime"
            },
            "afe9ad14455c260": {
             "href": "https://peps.cnes.fr/resto/api/collections/S2ST/search.json?&lang=en&q=s2A",
             "name": "s2A",
             "type": "platform"
            },
            "b4de51064131332": {
             "href": "https://peps.cnes.fr/resto/api/collections/S2ST/search.json?&lang=en&q=Spring",
             "name": "Spring",
             "type": "season"
            },
            "bce097de57d1ab7": {
             "href": "https://peps.cnes.fr/resto/api/collections/S2ST/search.json?&lang=en&q=Europe",
             "name": "Europe",
             "normalized": "europe",
             "type": "continent"
            },
            "bd69cb806e20886": {
             "href": "https://peps.cnes.fr/resto/api/collections/S2ST/search.json?&lang=en&q=2019",
             "name": "2019",
             "type": "year"
            },
            "c34df802ddfe137": {
             "href": "https://peps.cnes.fr/resto/api/collections/S2ST/search.json?&lang=en&q=Loz%C3%A8re",
             "name": "Lozère",
             "normalized": "lozere",
             "parentHash": "455ae3d75f982e8",
             "type": "state",
             "value": 5.23
            },
            "e8f96b7c46c0d54": {
             "href": "https://peps.cnes.fr/resto/api/collections/S2ST/search.json?&lang=en&q=Descending",
             "name": "Descending",
             "type": "orbitDirection"
            },
            "fa018f4f7b20706": {
             "href": "https://peps.cnes.fr/resto/api/collections/S2ST/search.json?&lang=en&q=Midi-Pyr%C3%A9n%C3%A9es",
             "name": "Midi-Pyrénées",
             "normalized": "midi-pyrenees",
             "parentHash": "936bcbcf5c43fbd",
             "type": "region",
             "value": 10.92
            }
           },
           "lowProbaClouds": null,
           "mediumProbaClouds": null,
           "mgrs": "31TEJ",
           "modificationDate": "2019-04-15T09:48:07.602Z",
           "newVersion": null,
           "orbitDirection": "descending",
           "orbitNumber": 19882,
           "organisationName": null,
           "parentIdentifier": "urn:ogc:def:EOP:ESA::SENTINEL-2:",
           "platform": "S2ST",
           "platformSerialIdentifier": "S2A",
           "processingLevel": "LEVEL1C",
           "productType": "S2MSI1C",
           "publicationDate": "2019-04-15T09:48:07.602Z",
           "quicklook": "https://peps.cnes.fr/quicklook/2019/04/13/S2A/S2A_MSIL1C_20190413T104021_N0207_R008_T31TEJ_20190413T141321_quicklook.jpg",
           "realtime": "Nominal",
           "relativeOrbitNumber": 8,
           "resolution": null,
           "resourceChecksum": "6999ED9E0D49F0CD1C675492D2600837",
           "resourceSize": 825457829,
           "s2TakeId": "GS2A_20190413T104021_019882_N02.07",
           "sensorMode": "INS-NOBS",
           "snowCover": null,
           "snowIce": null,
           "startTimeFromAscendingNode": "2019-04-13T10:40:21.024Z",
           "storage": {
            "mode": "disk"
           },
           "thumbnail": null,
           "title": "S2A_MSIL1C_20190413T104021_N0207_R008_T31TEJ_20190413T141321",
           "vegetation": null,
           "visible": 1,
           "water": null
          },
          "type": "Feature"
         },
         {
          "geometry": {
           "coordinates": [
            [
             [
              1.7674745987137,
              43.25815001081
             ],
             [
              3.1202599002638,
              43.264727163899
             ],
             [
              3.1222564908653,
              44.253352160972
             ],
             [
              1.8199104938086,
              44.24690622038
             ],
             [
              1.7854440948758,
              44.144368148172
             ],
             [
              1.7512908548928,
              44.040104895418
             ],
             [
              1.7674745987137,
              43.25815001081
             ]
            ]
           ],
           "type": "Polygon"
          },
          "id": "0e29546a-6438-5cbe-b3cd-181fb4d8014f",
          "properties": {
           "abstract": null,
           "bareSoil": null,
           "cloudCover": 5.3669,
           "completionTimeFromAscendingNode": "2019-04-13T10:40:21.024Z",
           "creationDate": "2019-04-13T17:36:24.004Z",
           "downloadLink": "https://peps.cnes.fr/resto/collections/S2ST/0e29546a-6438-5cbe-b3cd-181fb4d8014f/download",
           "eodag_product_type": "S2_MSI_L1C",
           "eodag_provider": "peps",
           "eodag_search_intersection": {
            "coordinates": [
             [
              [
               1.7674745987137,
               43.25815001081
              ],
              [
               1.7512908548928,
               44.040104895418
              ],
              [
               1.7854440948758,
               44.144368148172
              ],
              [
               1.8199104938086,
               44.24690622038
              ],
              [
               3.1222564908653,
               44.253352160972
              ],
              [
               3.1202599002638,
               43.264727163899
              ],
              [
               1.7674745987137,
               43.25815001081
              ]
             ]
            ],
            "type": "Polygon"
           },
           "highProbaClouds": null,
           "instrument": "MSI",
           "isNrt": 0,
           "keyword": {
            "2bf8710c0c56a40": {
             "href": "https://peps.cnes.fr/resto/api/collections/S2ST/search.json?&lang=en&q=April",
             "name": "April",
             "parentHash": "bd69cb806e20886",
             "type": "month"
            },
            "3f85bb5d775e1fc": {
             "href": "https://peps.cnes.fr/resto/api/collections/S2ST/search.json?&lang=en&q=INS-NOBS",
             "name": "INS-NOBS",
             "parentHash": "503f8f6199f3e44",
             "type": "sensorMode"
            },
            "44b15c0a6e62129": {
             "href": "https://peps.cnes.fr/resto/api/collections/S2ST/search.json?&lang=en&q=LEVEL1C",
             "name": "LEVEL1C",
             "type": "processingLevel"
            },
            "45038f3c2322ea3": {
             "href": "https://peps.cnes.fr/resto/api/collections/S2ST/search.json?&lang=en&q=S2ST",
             "name": "S2ST",
             "type": "collection"
            },
            "455ae3d75f982e8": {
             "href": "https://peps.cnes.fr/resto/api/collections/S2ST/search.json?&lang=en&q=Languedoc-Roussillon",
             "name": "Languedoc-Roussillon",
             "normalized": "languedoc-roussillon",
             "parentHash": "936bcbcf5c43fbd",
             "type": "region",
             "value": 24.76
            },
            "4562ae7650b1934": {
             "href": "https://peps.cnes.fr/resto/api/collections/S2ST/search.json?&lang=en&q=H%C3%A9rault",
             "name": "Hérault",
             "normalized": "herault",
             "parentHash": "455ae3d75f982e8",
             "type": "state",
             "value": 14.2
            },
            "503f8f6199f3e44": {
             "href": "https://peps.cnes.fr/resto/api/collections/S2ST/search.json?&lang=en&q=msi",
             "name": "msi",
             "parentHash": "afe9ad14455c260",
             "type": "instrument"
            },
            "6219554ecf5905c": {
             "href": "https://peps.cnes.fr/resto/api/collections/S2ST/search.json?&lang=en&q=S2MSI1C",
             "name": "S2MSI1C",
             "type": "productType"
            },
            "638f34fab02f39d": {
             "href": "https://peps.cnes.fr/resto/api/collections/S2ST/search.json?&lang=en&q=Haute-Garonne",
             "name": "Haute-Garonne",
             "normalized": "haute-garonne",
             "parentHash": "fa018f4f7b20706",
             "type": "state",
             "value": 2.69
            },
            "70db2751c3c6c3d": {
             "href": "https://peps.cnes.fr/resto/api/collections/S2ST/search.json?&lang=en&q=Aude",
             "name": "Aude",
             "normalized": "aude",
             "parentHash": "455ae3d75f982e8",
             "type": "state",
             "value": 10.68
            },
            "720a0e9e551d34d": {
             "href": "https://peps.cnes.fr/resto/api/collections/S2ST/search.json?&lang=en&q=13",
             "name": "13",
             "parentHash": "2bf8710c0c56a40",
             "type": "day"
            },
            "936bcbcf5c43fbd": {
             "href": "https://peps.cnes.fr/resto/api/collections/S2ST/search.json?&lang=en&q=France",
             "name": "France",
             "normalized": "france",
             "parentHash": "bce097de57d1ab7",
             "type": "country",
             "value": 100
            },
            "a0e4a10aa754ab4": {
             "href": "https://peps.cnes.fr/resto/api/collections/S2ST/search.json?&lang=en&q=Northern",
             "name": "Northern",
             "type": "location"
            },
            "a507bd46cbf5398": {
             "href": "https://peps.cnes.fr/resto/api/collections/S2ST/search.json?&lang=en&q=Aveyron",
             "name": "Aveyron",
             "normalized": "aveyron",
             "parentHash": "fa018f4f7b20706",
             "type": "state",
             "value": 27.09
            },
            "a56dfb1210d361d": {
             "href": "https://peps.cnes.fr/resto/api/collections/S2ST/search.json?&lang=en&q=Nominal",
             "name": "Nominal",
             "type": "realtime"
            },
            "afe9ad14455c260": {
             "href": "https://peps.cnes.fr/resto/api/collections/S2ST/search.json?&lang=en&q=s2A",
             "name": "s2A",
             "type": "platform"
            },
            "b4de51064131332": {
             "href": "https://peps.cnes.fr/resto/api/collections/S2ST/search.json?&lang=en&q=Spring",
             "name": "Spring",
             "type": "season"
            },
            "bce097de57d1ab7": {
             "href": "https://peps.cnes.fr/resto/api/collections/S2ST/search.json?&lang=en&q=Europe",
             "name": "Europe",
             "normalized": "europe",
             "type": "continent"
            },
            "bd69cb806e20886": {
             "href": "https://peps.cnes.fr/resto/api/collections/S2ST/search.json?&lang=en&q=2019",
             "name": "2019",
             "type": "year"
            },
            "c6319beaa1b6cdd": {
             "href": "https://peps.cnes.fr/resto/api/collections/S2ST/search.json?&lang=en&q=Tarn-et-Garonne",
             "name": "Tarn-et-Garonne",
             "normalized": "tarn-et-garonne",
             "parentHash": "fa018f4f7b20706",
             "type": "state",
             "value": 1.05
            },
            "e8f96b7c46c0d54": {
             "href": "https://peps.cnes.fr/resto/api/collections/S2ST/search.json?&lang=en&q=Descending",
             "name": "Descending",
             "type": "orbitDirection"
            },
            "e966218f208fcca": {
             "href": "https://peps.cnes.fr/resto/api/collections/S2ST/search.json?&lang=en&q=Tarn",
             "name": "Tarn",
             "normalized": "tarn",
             "parentHash": "fa018f4f7b20706",
             "type": "state",
             "value": 44.31
            },
            "fa018f4f7b20706": {
             "href": "https://peps.cnes.fr/resto/api/collections/S2ST/search.json?&lang=en&q=Midi-Pyr%C3%A9n%C3%A9es",
             "name": "Midi-Pyrénées",
             "normalized": "midi-pyrenees",
             "parentHash": "936bcbcf5c43fbd",
             "type": "region",
             "value": 75.25
            }
           },
           "lowProbaClouds": null,
           "mediumProbaClouds": null,
           "mgrs": "31TDJ",
           "modificationDate": "2019-04-15T09:49:44.646Z",
           "newVersion": null,
           "orbitDirection": "descending",
           "orbitNumber": 19882,
           "organisationName": null,
           "parentIdentifier": "urn:ogc:def:EOP:ESA::SENTINEL-2:",
           "platform": "S2ST",
           "platformSerialIdentifier": "S2A",
           "processingLevel": "LEVEL1C",
           "productType": "S2MSI1C",
           "publicationDate": "2019-04-15T09:49:44.646Z",
           "quicklook": "https://peps.cnes.fr/quicklook/2019/04/13/S2A/S2A_MSIL1C_20190413T104021_N0207_R008_T31TDJ_20190413T141321_quicklook.jpg",
           "realtime": "Nominal",
           "relativeOrbitNumber": 8,
           "resolution": null,
           "resourceChecksum": "F16D285D8C61CA10E94B6F65E6F99AEA",
           "resourceSize": 828905109,
           "s2TakeId": "GS2A_20190413T104021_019882_N02.07",
           "sensorMode": "INS-NOBS",
           "snowCover": null,
           "snowIce": null,
           "startTimeFromAscendingNode": "2019-04-13T10:40:21.024Z",
           "storage": {
            "mode": "disk"
           },
           "thumbnail": null,
           "title": "S2A_MSIL1C_20190413T104021_N0207_R008_T31TDJ_20190413T141321",
           "vegetation": null,
           "visible": 1,
           "water": null
          },
          "type": "Feature"
         },
         {
          "geometry": {
           "coordinates": [
            [
             [
              1.2070185581056,
              42.348117739804
             ],
             [
              1.904690752833,
              42.358839917707
             ],
             [
              1.8870778350223,
              43.347440388825
             ],
             [
              1.5226805911383,
              43.341735917796
             ],
             [
              1.4973412825604,
              43.263641971627
             ],
             [
              1.4495677219378,
              43.116656298779
             ],
             [
              1.4028102187784,
              42.969408210568
             ],
             [
              1.3575896975198,
              42.82172107786
             ],
             [
              1.310358843809,
              42.674657230381
             ],
             [
              1.2625261922969,
              42.527864550816
             ],
             [
              1.2174500668652,
              42.380395482456
             ],
             [
              1.2070185581056,
              42.348117739804
             ]
            ]
           ],
           "type": "Polygon"
          },
          "id": "2172db26-f765-556a-9c68-27d844f54beb",
          "properties": {
           "abstract": null,
           "bareSoil": null,
           "cloudCover": 45.8985,
           "completionTimeFromAscendingNode": "2019-04-13T10:40:21.024Z",
           "creationDate": "2019-04-13T17:35:56.075Z",
           "downloadLink": "https://peps.cnes.fr/resto/collections/S2ST/2172db26-f765-556a-9c68-27d844f54beb/download",
           "eodag_product_type": "S2_MSI_L1C",
           "eodag_provider": "peps",
           "eodag_search_intersection": {
            "coordinates": [
             [
              [
               1.3387777938403493,
               42.763146
              ],
              [
               1.3575896975198,
               42.82172107786
              ],
              [
               1.4028102187784,
               42.969408210568
              ],
              [
               1.4495677219378,
               43.116656298779
              ],
              [
               1.4973412825604,
               43.263641971627
              ],
              [
               1.5226805911383,
               43.341735917796
              ],
              [
               1.8870778350223,
               43.347440388825
              ],
              [
               1.8974876308379847,
               42.763146
              ],
              [
               1.3387777938403493,
               42.763146
              ]
             ]
            ],
            "type": "Polygon"
           },
           "highProbaClouds": null,
           "instrument": "MSI",
           "isNrt": 0,
           "keyword": {
            "2bf8710c0c56a40": {
             "href": "https://peps.cnes.fr/resto/api/collections/S2ST/search.json?&lang=en&q=April",
             "name": "April",
             "parentHash": "bd69cb806e20886",
             "type": "month"
            },
            "3655904d8935c83": {
             "href": "https://peps.cnes.fr/resto/api/collections/S2ST/search.json?&lang=en&q=Pyr%C3%A9n%C3%A9es-Orientales",
             "name": "Pyrénées-Orientales",
             "normalized": "pyrenees-orientales",
             "parentHash": "455ae3d75f982e8",
             "type": "state",
             "value": 3.6
            },
            "3f85bb5d775e1fc": {
             "href": "https://peps.cnes.fr/resto/api/collections/S2ST/search.json?&lang=en&q=INS-NOBS",
             "name": "INS-NOBS",
             "parentHash": "503f8f6199f3e44",
             "type": "sensorMode"
            },
            "44b15c0a6e62129": {
             "href": "https://peps.cnes.fr/resto/api/collections/S2ST/search.json?&lang=en&q=LEVEL1C",
             "name": "LEVEL1C",
             "type": "processingLevel"
            },
            "45038f3c2322ea3": {
             "href": "https://peps.cnes.fr/resto/api/collections/S2ST/search.json?&lang=en&q=S2ST",
             "name": "S2ST",
             "type": "collection"
            },
            "45116aa2b037808": {
             "href": "https://peps.cnes.fr/resto/api/collections/S2ST/search.json?&lang=en&q=%22Sant%20Juli%C3%A0%20de%20L%C3%B2ria%22",
             "name": "Sant Julià de Lòria",
             "normalized": "sant-julia-de-loria",
             "parentHash": "a349829430acb13",
             "type": "state",
             "value": 1.61
            },
            "455ae3d75f982e8": {
             "href": "https://peps.cnes.fr/resto/api/collections/S2ST/search.json?&lang=en&q=Languedoc-Roussillon",
             "name": "Languedoc-Roussillon",
             "normalized": "languedoc-roussillon",
             "parentHash": "936bcbcf5c43fbd",
             "type": "region",
             "value": 9.86
            },
            "46be63b66d40300": {
             "href": "https://peps.cnes.fr/resto/api/collections/S2ST/search.json?&lang=en&q=%22La%20Massana%22",
             "name": "La Massana",
             "normalized": "la-massana",
             "parentHash": "a349829430acb13",
             "type": "state",
             "value": 1.51
            },
            "503f8f6199f3e44": {
             "href": "https://peps.cnes.fr/resto/api/collections/S2ST/search.json?&lang=en&q=msi",
             "name": "msi",
             "parentHash": "afe9ad14455c260",
             "type": "instrument"
            },
            "6219554ecf5905c": {
             "href": "https://peps.cnes.fr/resto/api/collections/S2ST/search.json?&lang=en&q=S2MSI1C",
             "name": "S2MSI1C",
             "type": "productType"
            },
            "638f34fab02f39d": {
             "href": "https://peps.cnes.fr/resto/api/collections/S2ST/search.json?&lang=en&q=Haute-Garonne",
             "name": "Haute-Garonne",
             "normalized": "haute-garonne",
             "parentHash": "fa018f4f7b20706",
             "type": "state",
             "value": 3.21
            },
            "70db2751c3c6c3d": {
             "href": "https://peps.cnes.fr/resto/api/collections/S2ST/search.json?&lang=en&q=Aude",
             "name": "Aude",
             "normalized": "aude",
             "parentHash": "455ae3d75f982e8",
             "type": "state",
             "value": 6.54
            },
            "720a0e9e551d34d": {
             "href": "https://peps.cnes.fr/resto/api/collections/S2ST/search.json?&lang=en&q=13",
             "name": "13",
             "parentHash": "2bf8710c0c56a40",
             "type": "day"
            },
            "897e7ca8057fcd4": {
             "href": "https://peps.cnes.fr/resto/api/collections/S2ST/search.json?&lang=en&q=Ordino",
             "name": "Ordino",
             "normalized": "ordino",
             "parentHash": "a349829430acb13",
             "type": "state",
             "value": 1.6
            },
            "936bcbcf5c43fbd": {
             "href": "https://peps.cnes.fr/resto/api/collections/S2ST/search.json?&lang=en&q=France",
             "name": "France",
             "normalized": "france",
             "parentHash": "bce097de57d1ab7",
             "type": "country",
             "value": 70.53
            },
            "9e8d9cf11d4f170": {
             "href": "https://peps.cnes.fr/resto/api/collections/S2ST/search.json?&lang=en&q=Gerona",
             "name": "Gerona",
             "normalized": "gerona",
             "parentHash": "a5eef88d9f8ffa2",
             "type": "state",
             "value": 2.62
            },
            "a0e4a10aa754ab4": {
             "href": "https://peps.cnes.fr/resto/api/collections/S2ST/search.json?&lang=en&q=Northern",
             "name": "Northern",
             "type": "location"
            },
            "a349829430acb13": {
             "href": "https://peps.cnes.fr/resto/api/collections/S2ST/search.json?&lang=en&q=_all",
             "name": "_all",
             "normalized": "_all",
             "parentHash": "a5120c86778181f",
             "type": "region"
            },
            "a5120c86778181f": {
             "href": "https://peps.cnes.fr/resto/api/collections/S2ST/search.json?&lang=en&q=Andorra",
             "name": "Andorra",
             "normalized": "andorra",
             "parentHash": "bce097de57d1ab7",
             "type": "country",
             "value": 9.46
            },
            "a56dfb1210d361d": {
             "href": "https://peps.cnes.fr/resto/api/collections/S2ST/search.json?&lang=en&q=Nominal",
             "name": "Nominal",
             "type": "realtime"
            },
            "a5eef88d9f8ffa2": {
             "href": "https://peps.cnes.fr/resto/api/collections/S2ST/search.json?&lang=en&q=Catalu%C3%B1a",
             "name": "Cataluña",
             "normalized": "cataluna",
             "parentHash": "e95d1eb633b4dd1",
             "type": "region",
             "value": 20.13
            },
            "afe9ad14455c260": {
             "href": "https://peps.cnes.fr/resto/api/collections/S2ST/search.json?&lang=en&q=s2A",
             "name": "s2A",
             "type": "platform"
            },
            "b4de51064131332": {
             "href": "https://peps.cnes.fr/resto/api/collections/S2ST/search.json?&lang=en&q=Spring",
             "name": "Spring",
             "type": "season"
            },
            "b9f5eec8dcb2cb5": {
             "href": "https://peps.cnes.fr/resto/api/collections/S2ST/search.json?&lang=en&q=Ari%C3%A8ge",
             "name": "Ariège",
             "normalized": "ariege",
             "parentHash": "fa018f4f7b20706",
             "type": "state",
             "value": 57.15
            },
            "bce097de57d1ab7": {
             "href": "https://peps.cnes.fr/resto/api/collections/S2ST/search.json?&lang=en&q=Europe",
             "name": "Europe",
             "normalized": "europe",
             "type": "continent"
            },
            "bd69cb806e20886": {
             "href": "https://peps.cnes.fr/resto/api/collections/S2ST/search.json?&lang=en&q=2019",
             "name": "2019",
             "type": "year"
            },
            "ca66c16a1ec7b1b": {
             "href": "https://peps.cnes.fr/resto/api/collections/S2ST/search.json?&lang=en&q=Escaldes-Engordany",
             "name": "Escaldes-Engordany",
             "normalized": "escaldes-engordany",
             "parentHash": "a349829430acb13",
             "type": "state",
             "value": 1.38
            },
            "d88039c4e772157": {
             "href": "https://peps.cnes.fr/resto/api/collections/S2ST/search.json?&lang=en&q=Canillo",
             "name": "Canillo",
             "normalized": "canillo",
             "parentHash": "a349829430acb13",
             "type": "state",
             "value": 1.55
            },
            "da8f2bebc0fe455": {
             "href": "https://peps.cnes.fr/resto/api/collections/S2ST/search.json?&lang=en&q=L%C3%A9rida",
             "name": "Lérida",
             "normalized": "lerida",
             "parentHash": "a5eef88d9f8ffa2",
             "type": "state",
             "value": 17.39
            },
            "e34aa3856477b00": {
             "href": "https://peps.cnes.fr/resto/api/collections/S2ST/search.json?&lang=en&q=%22Andorra%20la%20Vella%22",
             "name": "Andorra la Vella",
             "normalized": "andorra-la-vella",
             "parentHash": "a349829430acb13",
             "type": "state",
             "value": 0.3
            },
            "e80a5167d45e930": {
             "href": "https://peps.cnes.fr/resto/api/collections/S2ST/search.json?&lang=en&q=Encamp",
             "name": "Encamp",
             "normalized": "encamp",
             "parentHash": "a349829430acb13",
             "type": "state",
             "value": 1.49
            },
            "e8f96b7c46c0d54": {
             "href": "https://peps.cnes.fr/resto/api/collections/S2ST/search.json?&lang=en&q=Descending",
             "name": "Descending",
             "type": "orbitDirection"
            },
            "e95d1eb633b4dd1": {
             "href": "https://peps.cnes.fr/resto/api/collections/S2ST/search.json?&lang=en&q=Spain",
             "name": "Spain",
             "normalized": "spain",
             "parentHash": "bce097de57d1ab7",
             "type": "country",
             "value": 20
            },
            "fa018f4f7b20706": {
             "href": "https://peps.cnes.fr/resto/api/collections/S2ST/search.json?&lang=en&q=Midi-Pyr%C3%A9n%C3%A9es",
             "name": "Midi-Pyrénées",
             "normalized": "midi-pyrenees",
             "parentHash": "936bcbcf5c43fbd",
             "type": "region",
             "value": 60.44
            }
           },
           "lowProbaClouds": null,
           "mediumProbaClouds": null,
           "mgrs": "31TCH",
           "modificationDate": "2019-04-15T09:45:23.757Z",
           "newVersion": null,
           "orbitDirection": "descending",
           "orbitNumber": 19882,
           "organisationName": null,
           "parentIdentifier": "urn:ogc:def:EOP:ESA::SENTINEL-2:",
           "platform": "S2ST",
           "platformSerialIdentifier": "S2A",
           "processingLevel": "LEVEL1C",
           "productType": "S2MSI1C",
           "publicationDate": "2019-04-15T09:45:23.757Z",
           "quicklook": "https://peps.cnes.fr/quicklook/2019/04/13/S2A/S2A_MSIL1C_20190413T104021_N0207_R008_T31TCH_20190413T141321_quicklook.jpg",
           "realtime": "Nominal",
           "relativeOrbitNumber": 8,
           "resolution": null,
           "resourceChecksum": "6C9426FB16C7E81440820D90FDBB3DA4",
           "resourceSize": 385722315,
           "s2TakeId": "GS2A_20190413T104021_019882_N02.07",
           "sensorMode": "INS-NOBS",
           "snowCover": null,
           "snowIce": null,
           "startTimeFromAscendingNode": "2019-04-13T10:40:21.024Z",
           "storage": {
            "mode": "disk"
           },
           "thumbnail": null,
           "title": "S2A_MSIL1C_20190413T104021_N0207_R008_T31TCH_20190413T141321",
           "vegetation": null,
           "visible": 1,
           "water": null
          },
          "type": "Feature"
         },
         {
          "geometry": {
           "coordinates": [
            [
             [
              4.3330146088045,
              42.356322390074
             ],
             [
              4.3544473299808,
              43.344834816464
             ],
             [
              2.999753209474,
              43.352855392346
             ],
             [
              2.9997571160984,
              42.364071920416
             ],
             [
              4.3330146088045,
              42.356322390074
             ]
            ]
           ],
           "type": "Polygon"
          },
          "id": "29dfeb9b-ddaa-51a2-8d7c-820e2afbdcd8",
          "properties": {
           "abstract": null,
           "bareSoil": null,
           "cloudCover": 1.4768,
           "completionTimeFromAscendingNode": "2019-04-13T10:40:21.024Z",
           "creationDate": "2019-04-13T17:38:59.157Z",
           "downloadLink": "https://peps.cnes.fr/resto/collections/S2ST/29dfeb9b-ddaa-51a2-8d7c-820e2afbdcd8/download",
           "eodag_product_type": "S2_MSI_L1C",
           "eodag_provider": "peps",
           "eodag_search_intersection": {
            "coordinates": [
             [
              [
               2.9997555393805633,
               42.763146
              ],
              [
               2.999753209474,
               43.352855392346
              ],
              [
               4.3544473299808,
               43.344834816464
              ],
              [
               4.341835273842897,
               42.763146
              ],
              [
               2.9997555393805633,
               42.763146
              ]
             ]
            ],
            "type": "Polygon"
           },
           "highProbaClouds": null,
           "instrument": "MSI",
           "isNrt": 0,
           "keyword": {
            "2bf8710c0c56a40": {
             "href": "https://peps.cnes.fr/resto/api/collections/S2ST/search.json?&lang=en&q=April",
             "name": "April",
             "parentHash": "bd69cb806e20886",
             "type": "month"
            },
            "3655904d8935c83": {
             "href": "https://peps.cnes.fr/resto/api/collections/S2ST/search.json?&lang=en&q=Pyr%C3%A9n%C3%A9es-Orientales",
             "name": "Pyrénées-Orientales",
             "normalized": "pyrenees-orientales",
             "parentHash": "455ae3d75f982e8",
             "type": "state",
             "value": 2.17
            },
            "3f85bb5d775e1fc": {
             "href": "https://peps.cnes.fr/resto/api/collections/S2ST/search.json?&lang=en&q=INS-NOBS",
             "name": "INS-NOBS",
             "parentHash": "503f8f6199f3e44",
             "type": "sensorMode"
            },
            "44b15c0a6e62129": {
             "href": "https://peps.cnes.fr/resto/api/collections/S2ST/search.json?&lang=en&q=LEVEL1C",
             "name": "LEVEL1C",
             "type": "processingLevel"
            },
            "45038f3c2322ea3": {
             "href": "https://peps.cnes.fr/resto/api/collections/S2ST/search.json?&lang=en&q=S2ST",
             "name": "S2ST",
             "type": "collection"
            },
            "455ae3d75f982e8": {
             "href": "https://peps.cnes.fr/resto/api/collections/S2ST/search.json?&lang=en&q=Languedoc-Roussillon",
             "name": "Languedoc-Roussillon",
             "normalized": "languedoc-roussillon",
             "parentHash": "936bcbcf5c43fbd",
             "type": "region",
             "value": 9.28
            },
            "4562ae7650b1934": {
             "href": "https://peps.cnes.fr/resto/api/collections/S2ST/search.json?&lang=en&q=H%C3%A9rault",
             "name": "Hérault",
             "normalized": "herault",
             "parentHash": "455ae3d75f982e8",
             "type": "state",
             "value": 3.54
            },
            "503f8f6199f3e44": {
             "href": "https://peps.cnes.fr/resto/api/collections/S2ST/search.json?&lang=en&q=msi",
             "name": "msi",
             "parentHash": "afe9ad14455c260",
             "type": "instrument"
            },
            "6219554ecf5905c": {
             "href": "https://peps.cnes.fr/resto/api/collections/S2ST/search.json?&lang=en&q=S2MSI1C",
             "name": "S2MSI1C",
             "type": "productType"
            },
            "70db2751c3c6c3d": {
             "href": "https://peps.cnes.fr/resto/api/collections/S2ST/search.json?&lang=en&q=Aude",
             "name": "Aude",
             "normalized": "aude",
             "parentHash": "455ae3d75f982e8",
             "type": "state",
             "value": 3.5
            },
            "720a0e9e551d34d": {
             "href": "https://peps.cnes.fr/resto/api/collections/S2ST/search.json?&lang=en&q=13",
             "name": "13",
             "parentHash": "2bf8710c0c56a40",
             "type": "day"
            },
            "8e973c5726ef929": {
             "href": "https://peps.cnes.fr/resto/api/collections/S2ST/search.json?&lang=en&q=Coastal",
             "name": "Coastal",
             "type": "location"
            },
            "936bcbcf5c43fbd": {
             "href": "https://peps.cnes.fr/resto/api/collections/S2ST/search.json?&lang=en&q=France",
             "name": "France",
             "normalized": "france",
             "parentHash": "bce097de57d1ab7",
             "type": "country",
             "value": 9.22
            },
            "9e8d9cf11d4f170": {
             "href": "https://peps.cnes.fr/resto/api/collections/S2ST/search.json?&lang=en&q=Gerona",
             "name": "Gerona",
             "normalized": "gerona",
             "parentHash": "a5eef88d9f8ffa2",
             "type": "state",
             "value": 0.98
            },
            "a0e4a10aa754ab4": {
             "href": "https://peps.cnes.fr/resto/api/collections/S2ST/search.json?&lang=en&q=Northern",
             "name": "Northern",
             "type": "location"
            },
            "a56dfb1210d361d": {
             "href": "https://peps.cnes.fr/resto/api/collections/S2ST/search.json?&lang=en&q=Nominal",
             "name": "Nominal",
             "type": "realtime"
            },
            "a5eef88d9f8ffa2": {
             "href": "https://peps.cnes.fr/resto/api/collections/S2ST/search.json?&lang=en&q=Catalu%C3%B1a",
             "name": "Cataluña",
             "normalized": "cataluna",
             "parentHash": "e95d1eb633b4dd1",
             "type": "region",
             "value": 1.02
            },
            "afe9ad14455c260": {
             "href": "https://peps.cnes.fr/resto/api/collections/S2ST/search.json?&lang=en&q=s2A",
             "name": "s2A",
             "type": "platform"
            },
            "b4de51064131332": {
             "href": "https://peps.cnes.fr/resto/api/collections/S2ST/search.json?&lang=en&q=Spring",
             "name": "Spring",
             "type": "season"
            },
            "bce097de57d1ab7": {
             "href": "https://peps.cnes.fr/resto/api/collections/S2ST/search.json?&lang=en&q=Europe",
             "name": "Europe",
             "normalized": "europe",
             "type": "continent"
            },
            "bd69cb806e20886": {
             "href": "https://peps.cnes.fr/resto/api/collections/S2ST/search.json?&lang=en&q=2019",
             "name": "2019",
             "type": "year"
            },
            "e8f96b7c46c0d54": {
             "href": "https://peps.cnes.fr/resto/api/collections/S2ST/search.json?&lang=en&q=Descending",
             "name": "Descending",
             "type": "orbitDirection"
            },
            "e95d1eb633b4dd1": {
             "href": "https://peps.cnes.fr/resto/api/collections/S2ST/search.json?&lang=en&q=Spain",
             "name": "Spain",
             "normalized": "spain",
             "parentHash": "bce097de57d1ab7",
             "type": "country",
             "value": 0.98
            }
           },
           "lowProbaClouds": null,
           "mediumProbaClouds": null,
           "mgrs": "31TEH",
           "modificationDate": "2019-04-13T17:51:39.074Z",
           "newVersion": null,
           "orbitDirection": "descending",
           "orbitNumber": 19882,
           "organisationName": null,
           "parentIdentifier": "urn:ogc:def:EOP:ESA::SENTINEL-2:",
           "platform": "S2ST",
           "platformSerialIdentifier": "S2A",
           "processingLevel": "LEVEL1C",
           "productType": "S2MSI1C",
           "publicationDate": "2019-04-13T17:51:39.074Z",
           "quicklook": "https://peps.cnes.fr/quicklook/2019/04/13/S2A/S2A_MSIL1C_20190413T104021_N0207_R008_T31TEH_20190413T141321_quicklook.jpg",
           "realtime": "Nominal",
           "relativeOrbitNumber": 8,
           "resolution": null,
           "resourceChecksum": "6A65584D7B6DC4CD70422C40319AEA36",
           "resourceSize": 723834435,
           "s2TakeId": "GS2A_20190413T104021_019882_N02.07",
           "sensorMode": "INS-NOBS",
           "snowCover": null,
           "snowIce": null,
           "startTimeFromAscendingNode": "2019-04-13T10:40:21.024Z",
           "storage": {
            "mode": "disk"
           },
           "thumbnail": null,
           "title": "S2A_MSIL1C_20190413T104021_N0207_R008_T31TEH_20190413T141321",
           "vegetation": null,
           "visible": 1,
           "water": null
          },
          "type": "Feature"
         },
         {
          "geometry": {
           "coordinates": [
            [
             [
              4.3728940004546,
              44.157116557384
             ],
             [
              4.3964111731489,
              45.145299673094
             ],
             [
              2.9997455603619,
              45.153837250892
             ],
             [
              2.9997498470732,
              44.165366495507
             ],
             [
              4.3728940004546,
              44.157116557384
             ]
            ]
           ],
           "type": "Polygon"
          },
          "id": "2a856e2f-27f8-501e-9577-2a873e943546",
          "properties": {
           "abstract": null,
           "bareSoil": null,
           "cloudCover": 0,
           "completionTimeFromAscendingNode": "2019-04-13T10:40:21.024Z",
           "creationDate": "2019-04-13T17:39:01.708Z",
           "downloadLink": "https://peps.cnes.fr/resto/collections/S2ST/2a856e2f-27f8-501e-9577-2a873e943546/download",
           "eodag_product_type": "S2_MSI_L1C",
           "eodag_provider": "peps",
           "eodag_search_intersection": {
            "coordinates": [
             [
              [
               4.3728940004546,
               44.157116557384
              ],
              [
               2.9997498470732,
               44.165366495507
              ],
              [
               2.9997455603619,
               45.153837250892
              ],
              [
               4.3964111731489,
               45.145299673094
              ],
              [
               4.3728940004546,
               44.157116557384
              ]
             ]
            ],
            "type": "Polygon"
           },
           "highProbaClouds": null,
           "instrument": "MSI",
           "isNrt": 0,
           "keyword": {
            "1b88e8c1f779f73": {
             "href": "https://peps.cnes.fr/resto/api/collections/S2ST/search.json?&lang=en&q=Ard%C3%A8che",
             "name": "Ardèche",
             "normalized": "ardeche",
             "parentHash": "f1bdb1abc6323b5",
             "type": "state",
             "value": 19.27
            },
            "2bf8710c0c56a40": {
             "href": "https://peps.cnes.fr/resto/api/collections/S2ST/search.json?&lang=en&q=April",
             "name": "April",
             "parentHash": "bd69cb806e20886",
             "type": "month"
            },
            "36b380ec75fcb73": {
             "href": "https://peps.cnes.fr/resto/api/collections/S2ST/search.json?&lang=en&q=Cantal",
             "name": "Cantal",
             "normalized": "cantal",
             "parentHash": "c958f1cb7878712",
             "type": "state",
             "value": 6.68
            },
            "3f85bb5d775e1fc": {
             "href": "https://peps.cnes.fr/resto/api/collections/S2ST/search.json?&lang=en&q=INS-NOBS",
             "name": "INS-NOBS",
             "parentHash": "503f8f6199f3e44",
             "type": "sensorMode"
            },
            "44b15c0a6e62129": {
             "href": "https://peps.cnes.fr/resto/api/collections/S2ST/search.json?&lang=en&q=LEVEL1C",
             "name": "LEVEL1C",
             "type": "processingLevel"
            },
            "45038f3c2322ea3": {
             "href": "https://peps.cnes.fr/resto/api/collections/S2ST/search.json?&lang=en&q=S2ST",
             "name": "S2ST",
             "type": "collection"
            },
            "455ae3d75f982e8": {
             "href": "https://peps.cnes.fr/resto/api/collections/S2ST/search.json?&lang=en&q=Languedoc-Roussillon",
             "name": "Languedoc-Roussillon",
             "normalized": "languedoc-roussillon",
             "parentHash": "936bcbcf5c43fbd",
             "type": "region",
             "value": 47.96
            },
            "503f8f6199f3e44": {
             "href": "https://peps.cnes.fr/resto/api/collections/S2ST/search.json?&lang=en&q=msi",
             "name": "msi",
             "parentHash": "afe9ad14455c260",
             "type": "instrument"
            },
            "602890c0f9acf7a": {
             "href": "https://peps.cnes.fr/resto/api/collections/S2ST/search.json?&lang=en&q=Haute-Loire",
             "name": "Haute-Loire",
             "normalized": "haute-loire",
             "parentHash": "c958f1cb7878712",
             "type": "state",
             "value": 21.54
            },
            "6219554ecf5905c": {
             "href": "https://peps.cnes.fr/resto/api/collections/S2ST/search.json?&lang=en&q=S2MSI1C",
             "name": "S2MSI1C",
             "type": "productType"
            },
            "6eb61f247678431": {
             "href": "https://peps.cnes.fr/resto/api/collections/S2ST/search.json?&lang=en&q=Gard",
             "name": "Gard",
             "normalized": "gard",
             "parentHash": "455ae3d75f982e8",
             "type": "state",
             "value": 6.04
            },
            "720a0e9e551d34d": {
             "href": "https://peps.cnes.fr/resto/api/collections/S2ST/search.json?&lang=en&q=13",
             "name": "13",
             "parentHash": "2bf8710c0c56a40",
             "type": "day"
            },
            "936bcbcf5c43fbd": {
             "href": "https://peps.cnes.fr/resto/api/collections/S2ST/search.json?&lang=en&q=France",
             "name": "France",
             "normalized": "france",
             "parentHash": "bce097de57d1ab7",
             "type": "country",
             "value": 100
            },
            "a0e4a10aa754ab4": {
             "href": "https://peps.cnes.fr/resto/api/collections/S2ST/search.json?&lang=en&q=Northern",
             "name": "Northern",
             "type": "location"
            },
            "a507bd46cbf5398": {
             "href": "https://peps.cnes.fr/resto/api/collections/S2ST/search.json?&lang=en&q=Aveyron",
             "name": "Aveyron",
             "normalized": "aveyron",
             "parentHash": "fa018f4f7b20706",
             "type": "state",
             "value": 4.55
            },
            "a56dfb1210d361d": {
             "href": "https://peps.cnes.fr/resto/api/collections/S2ST/search.json?&lang=en&q=Nominal",
             "name": "Nominal",
             "type": "realtime"
            },
            "afe9ad14455c260": {
             "href": "https://peps.cnes.fr/resto/api/collections/S2ST/search.json?&lang=en&q=s2A",
             "name": "s2A",
             "type": "platform"
            },
            "b4de51064131332": {
             "href": "https://peps.cnes.fr/resto/api/collections/S2ST/search.json?&lang=en&q=Spring",
             "name": "Spring",
             "type": "season"
            },
            "bce097de57d1ab7": {
             "href": "https://peps.cnes.fr/resto/api/collections/S2ST/search.json?&lang=en&q=Europe",
             "name": "Europe",
             "normalized": "europe",
             "type": "continent"
            },
            "bd69cb806e20886": {
             "href": "https://peps.cnes.fr/resto/api/collections/S2ST/search.json?&lang=en&q=2019",
             "name": "2019",
             "type": "year"
            },
            "c34df802ddfe137": {
             "href": "https://peps.cnes.fr/resto/api/collections/S2ST/search.json?&lang=en&q=Loz%C3%A8re",
             "name": "Lozère",
             "normalized": "lozere",
             "parentHash": "455ae3d75f982e8",
             "type": "state",
             "value": 41.96
            },
            "c958f1cb7878712": {
             "href": "https://peps.cnes.fr/resto/api/collections/S2ST/search.json?&lang=en&q=Auvergne",
             "name": "Auvergne",
             "normalized": "auvergne",
             "parentHash": "936bcbcf5c43fbd",
             "type": "region",
             "value": 28.16
            },
            "e8f96b7c46c0d54": {
             "href": "https://peps.cnes.fr/resto/api/collections/S2ST/search.json?&lang=en&q=Descending",
             "name": "Descending",
             "type": "orbitDirection"
            },
            "f1bdb1abc6323b5": {
             "href": "https://peps.cnes.fr/resto/api/collections/S2ST/search.json?&lang=en&q=Rh%C3%B4ne-Alpes",
             "name": "Rhône-Alpes",
             "normalized": "rhone-alpes",
             "parentHash": "936bcbcf5c43fbd",
             "type": "region",
             "value": 19.35
            },
            "fa018f4f7b20706": {
             "href": "https://peps.cnes.fr/resto/api/collections/S2ST/search.json?&lang=en&q=Midi-Pyr%C3%A9n%C3%A9es",
             "name": "Midi-Pyrénées",
             "normalized": "midi-pyrenees",
             "parentHash": "936bcbcf5c43fbd",
             "type": "region",
             "value": 4.5
            }
           },
           "lowProbaClouds": null,
           "mediumProbaClouds": null,
           "mgrs": "31TEK",
           "modificationDate": "2019-04-13T17:48:47.236Z",
           "newVersion": null,
           "orbitDirection": "descending",
           "orbitNumber": 19882,
           "organisationName": null,
           "parentIdentifier": "urn:ogc:def:EOP:ESA::SENTINEL-2:",
           "platform": "S2ST",
           "platformSerialIdentifier": "S2A",
           "processingLevel": "LEVEL1C",
           "productType": "S2MSI1C",
           "publicationDate": "2019-04-13T17:48:47.236Z",
           "quicklook": "https://peps.cnes.fr/quicklook/2019/04/13/S2A/S2A_MSIL1C_20190413T104021_N0207_R008_T31TEK_20190413T141321_quicklook.jpg",
           "realtime": "Nominal",
           "relativeOrbitNumber": 8,
           "resolution": null,
           "resourceChecksum": "E29A6D9ACCA15FD7796BB9AFB5A99815",
           "resourceSize": 843549952,
           "s2TakeId": "GS2A_20190413T104021_019882_N02.07",
           "sensorMode": "INS-NOBS",
           "snowCover": null,
           "snowIce": null,
           "startTimeFromAscendingNode": "2019-04-13T10:40:21.024Z",
           "storage": {
            "mode": "disk"
           },
           "thumbnail": null,
           "title": "S2A_MSIL1C_20190413T104021_N0207_R008_T31TEK_20190413T141321",
           "vegetation": null,
           "visible": 1,
           "water": null
          },
          "type": "Feature"
         }
        ],
        "type": "FeatureCollection"
       },
       "hover_style": {
        "fillColor": "yellow"
       }
      }
     },
     "409c04e3d43a497bb3c83fea310d22d9": {
      "model_module": "jupyter-leaflet",
      "model_module_version": "~0.10.0",
      "model_name": "LeafletMapModel",
      "state": {
       "_dom_classes": [],
       "_model_module_version": "~0.10.0",
       "_view_count": null,
       "_view_module_version": "~0.10.0",
       "basemap": {
        "attribution": "Map data (c) <a href=\"https://openstreetmap.org\">OpenStreetMap</a> contributors",
        "max_zoom": 19,
        "url": "https://{s}.tile.openstreetmap.org/{z}/{x}/{y}.png"
       },
       "center": [
        43.6,
        1.5
       ],
       "east": 22.543945312500004,
       "interpolation": "bilinear",
       "layers": [
        "IPY_MODEL_8226a7ba42c04dd58fd45e7b4c0d5dd9",
        "IPY_MODEL_389da86350ee4ef89c400b17b0a780a3"
       ],
       "layout": "IPY_MODEL_6ff7555e139f47de8894500517723b71",
       "modisdate": "yesterday",
       "north": 49.63917719651036,
       "options": [
        "keyboard_pan_offset",
        "tap",
        "attribution_control",
        "max_zoom",
        "min_zoom",
        "bounce_at_zoom_limits",
        "keyboard",
        "scroll_wheel_zoom",
        "dragging",
        "inertia_max_speed",
        "close_popup_on_click",
        "zoom_control",
        "box_zoom",
        "double_click_zoom",
        "interpolation",
        "tap_tolerance",
        "zoom_start",
        "keyboard_zoom_offset",
        "inertia_deceleration",
        "inertia",
        "center",
        "zoom",
        "world_copy_jump",
        "zoom_animation_threshold",
        "touch_zoom",
        "basemap"
       ],
       "south": 36.914764288955936,
       "west": -19.555664062500004,
       "zoom": 5
      }
     },
     "5598a7fd05bb48f2a0536445efd9435e": {
      "model_module": "@jupyter-widgets/base",
      "model_module_version": "1.1.0",
      "model_name": "LayoutModel",
      "state": {}
     },
     "68aaa22218624f4880de9d4e90b46dc9": {
      "model_module": "@jupyter-widgets/base",
      "model_module_version": "1.1.0",
      "model_name": "LayoutModel",
      "state": {}
     },
     "6ff7555e139f47de8894500517723b71": {
      "model_module": "@jupyter-widgets/base",
      "model_module_version": "1.1.0",
      "model_name": "LayoutModel",
      "state": {}
     },
     "8226a7ba42c04dd58fd45e7b4c0d5dd9": {
      "model_module": "jupyter-leaflet",
      "model_module_version": "~0.10.0",
      "model_name": "LeafletTileLayerModel",
      "state": {
       "_model_module_version": "~0.10.0",
       "_view_count": null,
       "_view_module_version": "~0.10.0",
       "base": true,
       "max_zoom": 19,
       "min_zoom": 1,
       "options": [
        "attribution",
        "tile_size",
        "min_zoom",
        "max_zoom",
        "detect_retina"
       ]
      }
     },
     "961568fabb974f1e90264aff6ed3e99b": {
      "model_module": "@jupyter-widgets/controls",
      "model_module_version": "1.4.0",
      "model_name": "IntProgressModel",
      "state": {
       "layout": "IPY_MODEL_dddb1ed221d54bbebbdba862f9381a2b",
       "max": 636458138,
       "style": "IPY_MODEL_fe185657a47f4ef49a61112616f487dd",
       "value": 636458138
      }
     },
     "9faed18dba48486eb7aa5188f7e816cc": {
      "model_module": "@jupyter-widgets/controls",
      "model_module_version": "1.4.0",
      "model_name": "HBoxModel",
      "state": {
       "children": [
        "IPY_MODEL_961568fabb974f1e90264aff6ed3e99b",
        "IPY_MODEL_c4d4f5a06d264237bbd35b526d87d382"
       ],
       "layout": "IPY_MODEL_5598a7fd05bb48f2a0536445efd9435e"
      }
     },
     "c4d4f5a06d264237bbd35b526d87d382": {
      "model_module": "@jupyter-widgets/controls",
      "model_module_version": "1.4.0",
      "model_name": "HTMLModel",
      "state": {
       "layout": "IPY_MODEL_68aaa22218624f4880de9d4e90b46dc9",
       "style": "IPY_MODEL_1eeef6ab3388424e84e5b1e8df8d5f84",
       "value": "100% 636M/636M [04:40&lt;00:00, 984kKB/s]"
      }
     },
     "dddb1ed221d54bbebbdba862f9381a2b": {
      "model_module": "@jupyter-widgets/base",
      "model_module_version": "1.1.0",
      "model_name": "LayoutModel",
      "state": {}
     },
     "fe185657a47f4ef49a61112616f487dd": {
      "model_module": "@jupyter-widgets/controls",
      "model_module_version": "1.4.0",
      "model_name": "ProgressStyleModel",
      "state": {
       "description_width": ""
      }
     }
    },
    "version_major": 2,
    "version_minor": 0
   }
  }
 },
 "nbformat": 4,
 "nbformat_minor": 2
}
