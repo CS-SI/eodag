{
 "cells": [
  {
   "cell_type": "markdown",
   "metadata": {},
   "source": [
    "# EODAG\n",
    "\n",
    "![EODAG diagram](https://eodag.readthedocs.io/en/latest/_images/eodag_overview.png)\n",
    "\n",
    "## API User Guide\n",
    "\n",
    "* [Overview](api_user_guide/1_overview.ipynb)\n",
    "* [Providers and products](api_user_guide/2_providers_products_available.ipynb)\n",
    "* [Configuration](api_user_guide/3_configuration.ipynb)\n",
    "* [Search](api_user_guide/4_search.ipynb)\n",
    "* [Queryables](api_user_guide/5_queryables.ipynb)\n",
    "* [Serialize/Deserialize](api_user_guide/6_serialize_deserialize.ipynb)\n",
    "* [Crunch](api_user_guide/7_crunch.ipynb)\n",
    "* [Download](api_user_guide/8_download.ipynb)\n",
    "* [Post-process](api_user_guide/9_post_process.ipynb)\n",
    "\n",
    "## Tutorials/Examples\n",
    "\n",
    "* [STAC Client](tutos/tuto_stac_client.ipynb)\n",
    "* [Search for products by tile](tutos/tuto_search_location_tile.ipynb)\n"
   ]
  },
  {
   "cell_type": "code",
   "execution_count": null,
   "metadata": {},
   "outputs": [],
   "source": []
  }
 ],
 "metadata": {
  "kernelspec": {
   "display_name": "Python 3 (ipykernel)",
   "language": "python",
   "name": "python3"
  },
  "language_info": {
   "codemirror_mode": {
    "name": "ipython",
    "version": 3
   },
   "file_extension": ".py",
   "mimetype": "text/x-python",
   "name": "python",
   "nbconvert_exporter": "python",
   "pygments_lexer": "ipython3",
   "version": "3.13.1"
  }
 },
 "nbformat": 4,
 "nbformat_minor": 4
}
