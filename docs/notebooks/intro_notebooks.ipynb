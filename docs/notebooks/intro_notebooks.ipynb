{
 "cells": [
  {
   "cell_type": "markdown",
   "metadata": {},
   "source": [
    "# EODAG\n",
    "\n",
    "![EODAG diagram](https://eodag.readthedocs.io/en/latest/_images/eodag_overview.png)\n",
    "\n",
    "## API User Guide\n",
    "\n",
    "* [Overview](api_user_guide/1_overview.ipynb)\n",
    "* [Providers and products](api_user_guide/2_providers_products_available.ipynb)\n",
    "* [Configuration](api_user_guide/3_configuration.ipynb)\n",
    "* [Search](api_user_guide/4_search.ipynb)\n",
    "* [Serialize/Deserialize](api_user_guide/5_serialize_deserialize.ipynb)\n",
    "* [Crunch](api_user_guide/6_crunch.ipynb)\n",
    "* [Download](api_user_guide/7_download.ipynb)\n",
    "* [Post-process](api_user_guide/8_post_process.ipynb)\n",
    "\n",
    "## Tutorials/Examples\n",
    "\n",
    "* [STAC Client](tutos/tuto_stac_client.ipynb)\n",
    "* [Search for products by tile](tutos/tuto_search_location_tile.ipynb)\n"
   ]
  }
 ],
 "metadata": {
  "kernelspec": {
   "display_name": "Python 3",
   "language": "python",
   "name": "python3"
  },
  "language_info": {
   "codemirror_mode": {
    "name": "ipython",
    "version": 3
   },
   "file_extension": ".py",
   "mimetype": "text/x-python",
   "name": "python",
   "nbconvert_exporter": "python",
   "pygments_lexer": "ipython3",
   "version": "3.8.6"
  }
 },
 "nbformat": 4,
 "nbformat_minor": 2
}
