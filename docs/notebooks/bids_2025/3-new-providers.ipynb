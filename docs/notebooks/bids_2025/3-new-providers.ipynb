{
 "cells": [
  {
   "cell_type": "markdown",
   "id": "5b1f9470-c442-479d-9fc5-7a55e91b3a33",
   "metadata": {},
   "source": [
    "# Add your own providers to EODAG"
   ]
  },
  {
   "cell_type": "markdown",
   "id": "39e3a792",
   "metadata": {},
   "source": [
    "Even though EODAG natively supports the connection to multiple providers, it is built as an extensible framework. It means that you can interface it with your own providers. This is what we are going to demonstrate in this section.\n",
    "\n",
    "The most straightforward way to achieve this is to reuse the existing plugins and configure them for your new provider.\n",
    "\n",
    "See [Add a provider](https://eodag.readthedocs.io/en/latest/add_provider.html) for documentation.\n",
    "\n",
    "1. [Add a STAC provider](#1.-Add-a-STAC-provider)\n",
    "2. [Add a provider](#2.-Add-a-provider)\n",
    "3. [Add a provider with custom plugins](#3.-Add-a-provider-with-custom-plugins)\n",
    "4. [Contribute](#4.-Contribute)\n",
    "\n",
    "- - -\n",
    "## 1. Add a STAC provider\n",
    "\n",
    "You can add the configuration needed for the provider directly in your YAML user configuration file, or dynamically using [add_provider()](https://eodag.readthedocs.io/en/latest/api_reference/core.html#eodag.api.core.EODataAccessGateway.add_provider) or [update_providers_config()](https://eodag.readthedocs.io/en/latest/notebooks/api_user_guide/2_configuration.html#Add-or-update-a-provider).\n",
    "\n",
    "See [STAC client](https://eodag.readthedocs.io/en/latest/notebooks/tutos/tuto_stac_client.html) documentation.\n",
    "\n",
    "STAC providers only need a minimal configuration as they will reuse by default the configuration from [stac_provider.yml](https://github.com/CS-SI/eodag/blob/develop/eodag/resources/stac_provider.yml).\n",
    "\n",
    "Add a new custom STAC provider for UVT STAC Catalog.\n",
    "- API endpoint is https://stac.sage.uvt.ro\n",
    "- Download through HTTP\n",
    "- No authentication plugin needed\n",
    "\n",
    "&rarr; Add using [add_provider()](https://eodag.readthedocs.io/en/latest/api_reference/core.html#eodag.api.core.EODataAccessGateway.add_provider)\n",
    "\n",
    "&rarr; Add using [update_providers_config()](https://eodag.readthedocs.io/en/latest/notebooks/api_user_guide/2_configuration.html#Add-or-update-a-provider)\n",
    "\n",
    "&rarr; Add by updating your user configuration file\n",
    "\n",
    "&rarr; Search and download on these providers for the data of your choice"
   ]
  },
  {
   "cell_type": "code",
   "execution_count": null,
   "id": "265e2928-2f09-461b-8543-5d8375444080",
   "metadata": {},
   "outputs": [],
   "source": [
    "\n",
    "\n",
    "\n",
    "\n",
    "\n",
    "\n",
    "\n",
    "\n",
    "\n",
    "\n"
   ]
  },
  {
   "cell_type": "markdown",
   "id": "dad36af7-7822-44bf-a7f0-ae83223020b3",
   "metadata": {},
   "source": [
    "- - -\n",
    "## 2. Add a provider\n",
    "\n",
    "Like for STAC providers, you can add a new non-STAC provider by adding its configuration to EODAG, using the same methods.\n",
    "\n",
    "&rarr; Add a new custom provider `bids_peps` derived from `peps` with lighter configuration (check [peps configuration](https://github.com/CS-SI/eodag/blob/v3.9.0/eodag/resources/providers.yml#L539))\n",
    "\n",
    "For Search plugin metadata_mapping (see [how to configure](https://eodag.readthedocs.io/en/latest/params_mapping.html)):\n",
    "only keep `id`, `productType`, `cloudCover`, `geometry`, `downloadLink`, and map `orbitNumber` to `someBigNumber`.\n",
    "\n",
    "\n",
    "&rarr; Search and download for the data of your choice. Try filtering using `someBigNumber`.\n"
   ]
  },
  {
   "cell_type": "code",
   "execution_count": null,
   "id": "195ee9be-bf0f-4497-805f-e818e7f41840",
   "metadata": {},
   "outputs": [],
   "source": [
    "\n",
    "\n",
    "\n",
    "\n",
    "\n",
    "\n",
    "\n",
    "\n"
   ]
  },
  {
   "cell_type": "markdown",
   "id": "83673d8f-1719-474b-87d2-6f45be166eed",
   "metadata": {},
   "source": [
    "- - -\n",
    "## 3. Add a provider with custom plugins\n",
    "\n",
    "&rarr; Create a new provider using a new *mock* search plugin, following the [example in documentation](https://eodag.readthedocs.io/en/latest/plugins.html#a-sample-mock-search-plugin) (beware of example indentation).\n",
    "\n",
    "&rarr; Search for a given product type and check obtained results"
   ]
  },
  {
   "cell_type": "code",
   "execution_count": null,
   "id": "31508597-8b2e-4f06-82fd-809071dd2686",
   "metadata": {},
   "outputs": [],
   "source": [
    "\n",
    "\n"
   ]
  },
  {
   "cell_type": "markdown",
   "id": "b0cdca4e-5b3c-41cf-baec-a0b099df4c9e",
   "metadata": {
    "tags": []
   },
   "source": [
    "- - -\n",
    "## 4. Contribute\n",
    "\n",
    "If you want to implement a new provider, contributions through Pull Requests are welcome. Guidelines for contributors are available in [Contribute](https://eodag.readthedocs.io/en/latest/contribute.html) documentation.\n",
    "\n",
    "Thank you."
   ]
  }
 ],
 "metadata": {
  "kernelspec": {
   "display_name": "Python 3 (ipykernel)",
   "language": "python",
   "name": "python3"
  },
  "language_info": {
   "codemirror_mode": {
    "name": "ipython",
    "version": 3
   },
   "file_extension": ".py",
   "mimetype": "text/x-python",
   "name": "python",
   "nbconvert_exporter": "python",
   "pygments_lexer": "ipython3",
   "version": "3.9.20"
  },
  "widgets": {
   "application/vnd.jupyter.widget-state+json": {
    "state": {},
    "version_major": 2,
    "version_minor": 0
   }
  }
 },
 "nbformat": 4,
 "nbformat_minor": 5
}
