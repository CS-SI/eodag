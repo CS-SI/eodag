{
 "cells": [
  {
   "cell_type": "markdown",
   "metadata": {},
   "source": [
    "# EODAG features overview"
   ]
  },
  {
   "cell_type": "markdown",
   "metadata": {},
   "source": [
    "- [EODAG ecosystem](#EODAG-ecosystem)\n",
    "- [Installation](#Installation)\n",
    "- [Configuration](#Configuration)\n",
    "    - [Logging and init](#Logging-and-init)\n",
    "- [Labextension usage](#Labextension-usage): see how to quicky generated EODAG snippets\n",
    "- [Providers and product types](#Providers-and-product-types)\n",
    "- [Search](#Search)\n",
    "- [Serialize](#Serialize)\n",
    "- [Crunch](#Crunch)\n",
    "- [Download](#Download)\n",
    "    - [Download quicklooks](#Download-quicklooks)\n",
    "    - [Download products](#Download-products)\n",
    "    - [Download an asset](#Download-an-asset)\n",
    "- [Xarray data access](#Xarray-data-access) using [eodag-cube](https://github.com/CS-SI/eodag-cube)\n",
    "- [CLI](#CLI)\n",
    "- [Server-mode](#Server-mode)\n",
    "- [Contribute](#Contribute)"
   ]
  },
  {
   "cell_type": "markdown",
   "metadata": {
    "tags": []
   },
   "source": [
    "## Installation\n",
    "\n",
    "EODAG is really simple to install with `pip`:\n",
    "```sh\n",
    "pip install eodag\n",
    "```\n",
    "Or with `conda` from the conda-forge channel:\n",
    "```\n",
    "conda install -c conda-forge eodag\n",
    "```\n",
    "\n",
    "**_NOTE:_** If the tutorial is run from an already-configured jupyterlab environment, you do not need to install EODAG.\n",
    "\n",
    "EODAG comes with a minimal set of dependencies. If you want more features, please install using one of the following extras:\n",
    "- `eodag[all]`, includes everything that would be needed to run EODAG and associated tutorials with all features\n",
    "- `eodag[all-providers]`, includes dependencies required to have all providers available\n",
    "- `eodag[csw]`, includes dependencies for plugins using CSW\n",
    "- `eodag[ecmwf]`, includes dependencies for EcmwfApi (ecmwf provider)\n",
    "- `eodag[usgs]`, includes dependencies for UsgsApi (usgs provider)\n",
    "- `eodag[server]`, includes dependencies for server-mode (deprecated in favor of [stac-fastapi-eodag](https://github.com/CS-SI/stac-fastapi-eodag))\n",
    "\n"
   ]
  },
  {
   "cell_type": "markdown",
   "metadata": {},
   "source": [
    "- - -\n",
    "## Configuration\n",
    "\n",
    "&rarr; We will configure `eodag` to be able to download using `cop_dataspace`. For that we need to fill our credentials. Check [Documentation / Featured providers](https://eodag.readthedocs.io/en/stable/providers.html#cop-dataspace) if you don't already have an account."
   ]
  },
  {
   "cell_type": "code",
   "execution_count": null,
   "metadata": {},
   "outputs": [],
   "source": [
    "\n",
    "\n"
   ]
  },
  {
   "cell_type": "markdown",
   "metadata": {},
   "source": [
    "Credentials and other providers settings can be set:\n",
    "- by editing the user configuration file `~/.config/eodag/eodag.yml` that was automatically created, and will contain:\n",
    "```yaml\n",
    "cop_dataspace:\n",
    "    priority: # Lower value means lower priority (Default: 0)\n",
    "    search:  # Search parameters configuration\n",
    "    download:\n",
    "        extract:  # whether to extract the downloaded products (true or false, Default: true).\n",
    "        output_dir: # where to store downloaded products.\n",
    "        delete_archive: # whether to delete the downloaded archives (true or false, Default: true).\n",
    "    auth:\n",
    "        credentials:\n",
    "            username: PLEASE_CHANGE_ME\n",
    "            password: PLEASE_CHANGE_ME\n",
    "```\n",
    "\n",
    "- by setting environment variables following the pattern `EODAG__KEY1__KEY2__[...]__KEYN` (note the double underscore between the keys). For example, `EODAG__COP_DATASPACE__DOWNLOAD__OUTPUT_DIR` can be used to change the download directory.\n",
    "\n",
    "Check [documentation](https://eodag.readthedocs.io/en/latest/getting_started_guide/configure.html) for more information on how to configure EODAG."
   ]
  },
  {
   "cell_type": "markdown",
   "metadata": {},
   "source": [
    "### Logging and init\n",
    "\n",
    "Logging is then activated with the [setup_logging()](https://eodag.readthedocs.io/en/latest/api_reference/utils.html#eodag.utils.logging.setup_logging) method. It's a useful way to see what `eodag` does under the hood, e.g. requesting the provider, adapting the response. It's also useful to detect when things go wrong, and, if relevant, create an [issue on GitHub](https://github.com/CS-SI/eodag/issues) with the log messages.\n",
    "\n",
    "After setting the logging, the next object to import, and this is certainly one of the most important objects provided by `eodag`, is the [EODataAccessGateway](https://eodag.readthedocs.io/en/latest/api_reference/core.html#eodag.api.core.EODataAccessGateway) class. The creation of a single instance of this class is enough in a workflow, it is going to take care of configuring the providers, exposing the products configured off-the-shelf by `eodag`, and many more things.\n",
    "\n",
    "&rarr; Try setting different levels of logging and instanciate `EODataAccessGateway` in a `dag` variable, to check the different displayed information"
   ]
  },
  {
   "cell_type": "code",
   "execution_count": null,
   "metadata": {},
   "outputs": [],
   "source": [
    "\n",
    "\n",
    "\n",
    "\n",
    "\n"
   ]
  },
  {
   "cell_type": "markdown",
   "metadata": {},
   "source": [
    "- - -\n",
    "## Labextension usage"
   ]
  },
  {
   "cell_type": "markdown",
   "metadata": {
    "tags": []
   },
   "source": [
    "![extension logo](https://raw.githubusercontent.com/CS-SI/eodag-labextension/develop/notebooks/images/eodag_labext_icon.png)\n",
    "Click on this icon in the left of JupyterLab interface to open EODAG-Labextension tab.\n",
    "\n",
    "Please refer to [eodag-labextension user manual](https://github.com/CS-SI/eodag-labextension/blob/develop/notebooks/user_manual.ipynb).\n",
    "\n",
    "&rarr; Configure map to be centered on Riga, Latvia (Lat: 56.95, Lon: 24.11)\n",
    "\n",
    "&rarr; Change providers priority in [EODAG configuration](#Configuration), reload environment through labextension button, and observe the providers order change in the dropdown list\n",
    "\n",
    "&rarr; Search and preview results for last week `Sentinel-2 L2A` on `cop_dataspace` over Estonia having less than 50% over cloud coverage\n",
    "\n",
    "&rarr; Same search as previous but on tile `35VLD`, using parameter `tileIdentifier`"
   ]
  },
  {
   "cell_type": "code",
   "execution_count": null,
   "metadata": {},
   "outputs": [],
   "source": [
    "\n",
    "\n",
    "\n",
    "\n",
    "\n",
    "\n",
    "\n"
   ]
  },
  {
   "cell_type": "markdown",
   "metadata": {},
   "source": [
    "- - -\n",
    "## Providers and product types"
   ]
  },
  {
   "cell_type": "markdown",
   "metadata": {
    "tags": []
   },
   "source": [
    "See [Python API User Guide / Providers and products](https://eodag.readthedocs.io/en/latest/notebooks/api_user_guide/2_providers_products_available.html) for documentation.\n",
    "\n",
    "The method `EODataAccessGateway` [available_providers()](https://eodag.readthedocs.io/en/latest/api_reference/core.html#eodag.api.core.EODataAccessGateway.available_providers) returns a list of the pre-configured providers.\n",
    "\n",
    "Note that if a provider is configured to need authentication for search, and has no credentials set, it will be pruned on EODAG initialization, and will not appear in available providers list.\n",
    "\n",
    "\n",
    "&rarr; List all available providers from your previous `dag` (`EODataAccessGateway`) object, then the list of providers supporting `S1_SAR_GRD` product type"
   ]
  },
  {
   "cell_type": "code",
   "execution_count": null,
   "metadata": {},
   "outputs": [],
   "source": [
    "\n",
    "\n",
    "\n",
    "\n"
   ]
  },
  {
   "cell_type": "markdown",
   "metadata": {},
   "source": [
    "The method [list_product_types()](https://eodag.readthedocs.io/en/latest/api_reference/core.html#eodag.api.core.EODataAccessGateway.list_product_types) returns a dictionary that represents `eodag`'s internal product type catalog if used with `fetch_providers=False`. It will fetch providers for new product types and return an extended list if used with `fetch_providers=True` (default behavior).\n",
    "\n",
    "&rarr; Check how many product types are available from internal catalog, then from extended catalog when fetching from providers. Check how many product types are available for provider `planetary_computer`."
   ]
  },
  {
   "cell_type": "code",
   "execution_count": null,
   "metadata": {},
   "outputs": [],
   "source": [
    "\n",
    "\n",
    "\n",
    "\n"
   ]
  },
  {
   "cell_type": "markdown",
   "metadata": {},
   "source": [
    "- - -\n",
    "## Search\n",
    "\n",
    "See [Python API User Guide / Search](https://eodag.readthedocs.io/en/latest/notebooks/api_user_guide/4_search.html) for documentation."
   ]
  },
  {
   "cell_type": "markdown",
   "metadata": {},
   "source": [
    "The [EODataAccessGateway](https://eodag.readthedocs.io/en/latest/api_reference/core.html#eodag.api.core.EODataAccessGateway) class provides three search methods which have a similar signature but behave in different ways:\n",
    "\n",
    "- [search()](https://eodag.readthedocs.io/en/latest/api_reference/core.html#eodag.api.core.EODataAccessGateway.search) returns a [SearchResult](https://eodag.readthedocs.io/en/latest/api_reference/searchresult.html#eodag.api.search_result.SearchResult) that stores the products obtained from a given **page** (default: `page=1`) and a given maximum **number of items per page** (default: `items_per_page=20`). The attribute [SearchResult.number_matched](https://eodag.readthedocs.io/en/latest/api_reference/searchresult.html#eodag.api.search_result.SearchResult) optionally stores the **estimated** total number of products matching the search criteria.\n",
    "- [search_all()](https://eodag.readthedocs.io/en/latest/api_reference/core.html#eodag.api.core.EODataAccessGateway.search_all) returns a [SearchResult](https://eodag.readthedocs.io/en/latest/api_reference/searchresult.html#eodag.api.search_result.SearchResult) that contains **all** the products matching the search criteria. It takes the pain away from thinking about pagination.\n",
    "- [search_iter_page()](https://eodag.readthedocs.io/en/latest/api_reference/core.html#eodag.api.core.EODataAccessGateway.search_iter_page) is a generator that returns a [SearchResult](https://eodag.readthedocs.io/en/latest/api_reference/searchresult.html#eodag.api.search_result.SearchResult) page per page.\n",
    "\n",
    "&rarr; search (1st page), **without** count, for `S2_MSI_L2A` products on `creodias` provider during May 2024 over a given bbox\n",
    "\n",
    "&rarr; search (2nd page), **with** count, for `S2_MSI_L2A` products on `creodias` provider during May 2024 over a given bbox\n",
    "\n",
    "&rarr; search (all) for `S2_MSI_L2A` products on `creodias` provider during May 2024 over a given bbox\n",
    "\n",
    "&rarr; search (1st page) for `S2_MSI_L2A` products on `creodias` provider during May 2024 over Estonia (using `locations` and `EST` country code)\n",
    "\n",
    "&rarr; plot search result geometries on a map using `folium`"
   ]
  },
  {
   "cell_type": "code",
   "execution_count": null,
   "metadata": {},
   "outputs": [],
   "source": [
    "\n",
    "\n",
    "\n",
    "\n",
    "\n",
    "\n"
   ]
  },
  {
   "cell_type": "markdown",
   "metadata": {},
   "source": [
    "- - -\n",
    "## Serialize\n",
    "\n",
    "See [Python API User Guide / Serialize/Deserialize](https://eodag.readthedocs.io/en/latest/notebooks/api_user_guide/5_serialize_deserialize.html) for documentation.\n",
    "\n",
    "&rarr; Serialize/Deserialize previous results"
   ]
  },
  {
   "cell_type": "code",
   "execution_count": null,
   "metadata": {},
   "outputs": [],
   "source": [
    "\n",
    "\n",
    "\n",
    "\n"
   ]
  },
  {
   "cell_type": "markdown",
   "metadata": {},
   "source": [
    "- - -\n",
    "## Crunch\n",
    "\n",
    "See [Python API User Guide / Crunch](https://eodag.readthedocs.io/en/latest/notebooks/api_user_guide/6_crunch.html) for documentation.\n",
    "\n",
    "&rarr; Use [SearchResult.filter_property()](https://eodag.readthedocs.io/en/latest/api_reference/searchresult.html#eodag.api.search_result.SearchResult.filter_property) to filter previous results and only keep products having `relativeOrbitNumber` greater than 80"
   ]
  },
  {
   "cell_type": "code",
   "execution_count": null,
   "metadata": {},
   "outputs": [],
   "source": [
    "\n",
    "\n",
    "\n"
   ]
  },
  {
   "cell_type": "code",
   "execution_count": 80,
   "metadata": {
    "tags": []
   },
   "outputs": [
    {
     "data": {
      "image/svg+xml": [
       "<svg xmlns=\"http://www.w3.org/2000/svg\" xmlns:xlink=\"http://www.w3.org/1999/xlink\" width=\"100.0\" height=\"100.0\" viewBox=\"23.148119207458922 57.28285215110411 5.17525620119255 2.5199144043069452\" preserveAspectRatio=\"xMinYMin meet\"><g transform=\"matrix(1,0,0,-1,0,117.08561870651516)\"><path fill-rule=\"evenodd\" fill=\"#66cc99\" stroke=\"#555555\" stroke-width=\"0.103505124023851\" opacity=\"0.6\" d=\"M 27.981126857000987,59.47537333432527 L 27.981120000000033,59.47537000000011 L 28.13169925305175,59.300825100330925 L 27.42015000000015,58.72457000000014 L 27.71668582531572,57.79189911562436 L 27.288184848751513,57.47452830670383 L 26.463532342237787,57.47638865826633 L 25.60280968598437,57.84752879498657 L 25.16459354014927,57.97015696881519 L 24.312862583114622,57.79342357037697 L 24.42892785004216,58.38341339785329 L 24.061198357853186,58.25737457949341 L 23.426560092876684,58.612753404364625 L 23.339795363058645,59.187240302153384 L 24.604214308376186,59.46585378685502 L 25.86418908051664,59.61109039981133 L 26.949135776484525,59.445803331125774 L 27.981114129353244,59.475388088612874 L 27.981126857000987,59.47537333432527 z\" /></g></svg>"
      ],
      "text/plain": [
       "<POLYGON ((27.981 59.475, 27.981 59.475, 28.132 59.301, 27.42 58.725, 27.717...>"
      ]
     },
     "execution_count": 80,
     "metadata": {},
     "output_type": "execute_result"
    }
   ],
   "source": [
    "# Get Estonia geometry\n",
    "from eodag.utils import get_geometry_from_various\n",
    "\n",
    "est_geom = get_geometry_from_various(dag.locations_config, locations={\"country\": \"EST\"})\n",
    "est_geom"
   ]
  },
  {
   "cell_type": "markdown",
   "metadata": {},
   "source": [
    "&rarr; Filter `search_all` results using [SearchResult.filter_latest_intersect()](https://eodag.readthedocs.io/en/latest/api_reference/searchresult.html#eodag.api.search_result.SearchResult.filter_latest_intersect) to only keep latest products that intersect Estonia geometry and plot them on a map"
   ]
  },
  {
   "cell_type": "code",
   "execution_count": null,
   "metadata": {},
   "outputs": [],
   "source": [
    "\n",
    "\n"
   ]
  },
  {
   "cell_type": "markdown",
   "metadata": {
    "tags": []
   },
   "source": [
    "&rarr; Filter previous crunched results using [SearchResult.filter_overlap()](https://eodag.readthedocs.io/en/latest/api_reference/searchresult.html#eodag.api.search_result.SearchResult.filter_overlap) to only products that overlap at least of 90% Estonia geometry and plot them on a map"
   ]
  },
  {
   "cell_type": "code",
   "execution_count": null,
   "metadata": {},
   "outputs": [],
   "source": [
    "\n",
    "\n"
   ]
  },
  {
   "cell_type": "markdown",
   "metadata": {},
   "source": [
    "- - -\n",
    "## Download\n",
    "\n",
    "See [Python API User Guide / Download](https://eodag.readthedocs.io/en/latest/notebooks/api_user_guide/7_download.html) for documentation.\n",
    "\n",
    "*Make sure that you configured EODAG with `cop_dataspace` credentials.*\n",
    "\n",
    "&rarr; perform a new search on `cop_dataspace`"
   ]
  },
  {
   "cell_type": "code",
   "execution_count": null,
   "metadata": {},
   "outputs": [],
   "source": [
    "\n",
    "\n",
    "\n"
   ]
  },
  {
   "cell_type": "markdown",
   "metadata": {},
   "source": [
    "### Download quicklooks\n",
    "\n",
    "&rarr; Download and display quicklooks using [EOProduct.get_quicklook()](https://eodag.readthedocs.io/en/latest/api_reference/eoproduct.html#eodag.api.product._product.EOProduct.get_quicklook) and `matplotlib.image` (see [Download quicklooks documentation](https://eodag.readthedocs.io/en/latest/notebooks/api_user_guide/7_download.html#Download-quicklooks))"
   ]
  },
  {
   "cell_type": "code",
   "execution_count": null,
   "metadata": {},
   "outputs": [],
   "source": [
    "\n",
    "\n",
    "\n"
   ]
  },
  {
   "cell_type": "markdown",
   "metadata": {},
   "source": [
    "### Download products\n",
    "\n",
    "&rarr; download a single product, using [EODataAccessGateway.download()](https://eodag.readthedocs.io/en/latest/api_reference/core.html#eodag.api.core.EODataAccessGateway.download) or [EOProduct.download()](https://eodag.readthedocs.io/en/latest/api_reference/eoproduct.html#eodag.api.product._product.EOProduct.download)\n",
    "\n",
    "&rarr; try downloading it again at the same place and see that EODAG will not download it again: it will be skipped as the successful download was recorded in the `.downloaded` directory created in the download directory\n",
    "\n",
    "&rarr; check that `EOProduct.location` was changed to downloaded directory after its download"
   ]
  },
  {
   "cell_type": "code",
   "execution_count": null,
   "metadata": {},
   "outputs": [],
   "source": [
    "\n",
    "\n",
    "\n"
   ]
  },
  {
   "cell_type": "markdown",
   "metadata": {},
   "source": [
    "&rarr; download several products, using [EODataAccessGateway.download_all()](https://eodag.readthedocs.io/en/latest/api_reference/core.html#eodag.api.core.EODataAccessGateway.download_all). Slice search result before downloading it, in order to avoid waiting for ages. See [documentation](https://eodag.readthedocs.io/en/latest/notebooks/api_user_guide/7_download.html#Download-multiple-products-at-once)"
   ]
  },
  {
   "cell_type": "code",
   "execution_count": null,
   "metadata": {},
   "outputs": [],
   "source": [
    "\n"
   ]
  },
  {
   "cell_type": "markdown",
   "metadata": {},
   "source": [
    "### Download an asset\n",
    "\n",
    "Searching on some providers (mainly STAC providers) returns products having an `assets` attribute listing single files that can be individually donwloaded. See [documentation](https://eodag.readthedocs.io/en/latest/notebooks/api_user_guide/7_download.html#Download-assets).\n",
    "\n",
    "&rarr; search for `S2_MSI_L2A_COG` product type and check first product `assets` attribute (no authentication needed for it, you will not need another account)"
   ]
  },
  {
   "cell_type": "code",
   "execution_count": null,
   "metadata": {},
   "outputs": [],
   "source": [
    "\n"
   ]
  },
  {
   "cell_type": "markdown",
   "metadata": {},
   "source": [
    "&rarr; download an asset by executing\n",
    "```py\n",
    "search_results[0].assets[\"some-key\"].download()\n",
    "```"
   ]
  },
  {
   "cell_type": "code",
   "execution_count": null,
   "metadata": {},
   "outputs": [],
   "source": [
    "\n"
   ]
  },
  {
   "cell_type": "markdown",
   "metadata": {},
   "source": [
    "- - -\n",
    "## Xarray data access"
   ]
  },
  {
   "cell_type": "markdown",
   "metadata": {},
   "source": [
    "At some point `eodag` had some capabilities to directly post-process a product, i.e. to access its data. These capabilities, which relied on [rasterio](https://rasterio.readthedocs.io/en/latest/), have been ported to the Python package [eodag-cube](https://github.com/CS-SI/eodag-cube) to avoid the heavy dependencies associated with  *GDAL* in particular. Installing this package is enough to benefit from its capabilities, it is going to extend [EOProduct](../../api_reference/eoproduct.rst#eodag.api.product._product.EOProduct) with a `get_data()` method which returns a product's image band as a `xarray.DataArray`.\n",
    "\n",
    "The capabilities of [eodag-cube](https://github.com/CS-SI/eodag-cube) are used hereafter to compute the NDVI of the downloaded product over a sub-extent of the original product (this is actually Tartu, Estonia).\n",
    "\n",
    "&rarr; Search for `S2_MSI_L2A_COG` (bands are directly available as individual assets) with less than 10% of cloud cover and using the following geometry (bbox over Tartu):\n",
    "```py\n",
    "geometry = \"POLYGON ((26.663818 58.323866, 26.663818 58.390869, 26.802521 58.390869, 26.802521 58.323866, 26.663818 58.323866))\"\n",
    "```"
   ]
  },
  {
   "cell_type": "code",
   "execution_count": null,
   "metadata": {},
   "outputs": [],
   "source": [
    "\n"
   ]
  },
  {
   "cell_type": "markdown",
   "metadata": {},
   "source": [
    "&rarr; Follow [documentation example](https://eodag.readthedocs.io/en/latest/notebooks/api_user_guide/8_post_process.html#Data-access-with-eodag-cube) to compute and plot a NDVI using similar `common_params`, with Tartu bbox as `extent`, `VIR band` as `r\"red$\"` and `NIR band` as `r\"nir$\"` (regex used in order to prevent matching other bands `nir08`, `rededge1`,...)"
   ]
  },
  {
   "cell_type": "code",
   "execution_count": null,
   "metadata": {},
   "outputs": [],
   "source": [
    "\n",
    "\n",
    "\n"
   ]
  },
  {
   "cell_type": "markdown",
   "metadata": {},
   "source": [
    "- - -\n",
    "## CLI\n",
    "\n",
    "EODAG comes with a Command Line Interface, available by executing in your terminal:\n",
    "```sh\n",
    "eodag --help\n",
    "```\n",
    "See [CLI User Guide](https://eodag.readthedocs.io/en/latest/cli_user_guide.html) for documentation.\n",
    "\n",
    "&rarr; search for `S2_MSI_L1C` product type on a bbox and time interval of your choice, using `cop_dataspace` provider (provider can be specified through `--query` option)."
   ]
  },
  {
   "cell_type": "code",
   "execution_count": null,
   "metadata": {},
   "outputs": [],
   "source": [
    "\n"
   ]
  },
  {
   "cell_type": "markdown",
   "metadata": {},
   "source": [
    "&rarr; perform the same search with only one item per page, then download from the generated `geojson` (download is performed using the whole geojson)"
   ]
  },
  {
   "cell_type": "code",
   "execution_count": null,
   "metadata": {},
   "outputs": [],
   "source": [
    "\n"
   ]
  },
  {
   "cell_type": "markdown",
   "metadata": {},
   "source": [
    "- - -\n",
    "## Server-mode\n",
    "\n",
    "EODAG has a STAC compliant REST API. It can serve configured providers data through this STAC API.\n",
    "\n",
    "It will be available once the needed dependencies are installed with:\n",
    "```sh\n",
    "pip install --pre \"eodag[server]\"\n",
    "```\n",
    "\n",
    "To run the server (with max verbosity), do:\n",
    "```sh\n",
    "eodag -vvv serve-rest\n",
    "```\n",
    "See [STAC Support / STAC REST API](https://eodag.readthedocs.io/en/latest/stac_rest.html) for documentation.\n",
    "\n",
    "&rarr; check server documentation from http://127.0.0.1:5000/service-doc\n",
    "\n",
    "&rarr; Try searching and downloading a product from `cop_dataspace` provider\n",
    "\n"
   ]
  },
  {
   "cell_type": "code",
   "execution_count": null,
   "metadata": {},
   "outputs": [],
   "source": [
    "\n",
    "\n"
   ]
  },
  {
   "cell_type": "markdown",
   "metadata": {},
   "source": [
    "&rarr; Try it with STAC browser on https://radiantearth.github.io/stac-browser/#/external/http:/127.0.0.1:5000/ with the server running using:\n",
    "```sh\n",
    "EODAG_CORS_ALLOWED_ORIGINS=\"https://radiantearth.github.io\" eodag -vvv serve-rest\n",
    "```"
   ]
  },
  {
   "cell_type": "code",
   "execution_count": null,
   "metadata": {},
   "outputs": [],
   "source": [
    "\n",
    "\n"
   ]
  },
  {
   "cell_type": "markdown",
   "metadata": {},
   "source": [
    "- - -\n",
    "## Contribute\n",
    "\n",
    "If you find a bug, or have a feature request, please post in https://github.com/CS-SI/eodag/issues.\n",
    "\n",
    "Also, contributions are welcome, and guidelines for contributors are available in [Contribute](https://eodag.readthedocs.io/en/latest/contribute.html) documentation.\n",
    "\n",
    "Thank you."
   ]
  },
  {
   "cell_type": "code",
   "execution_count": null,
   "metadata": {},
   "outputs": [],
   "source": []
  }
 ],
 "metadata": {
  "kernelspec": {
   "display_name": "Python 3 (ipykernel)",
   "language": "python",
   "name": "python3"
  },
  "language_info": {
   "codemirror_mode": {
    "name": "ipython",
    "version": 3
   },
   "file_extension": ".py",
   "mimetype": "text/x-python",
   "name": "python",
   "nbconvert_exporter": "python",
   "pygments_lexer": "ipython3",
   "version": "3.9.20"
  },
  "widgets": {
   "application/vnd.jupyter.widget-state+json": {
    "state": {},
    "version_major": 2,
    "version_minor": 0
   }
  }
 },
 "nbformat": 4,
 "nbformat_minor": 4
}
