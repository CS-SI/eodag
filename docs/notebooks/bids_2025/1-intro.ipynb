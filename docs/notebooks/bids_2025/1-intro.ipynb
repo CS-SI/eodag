{
 "cells": [
  {
   "cell_type": "markdown",
   "id": "28866979-417d-4be0-84c5-5af4c3b2d7c1",
   "metadata": {},
   "source": [
    "# Introduction to EODAG"
   ]
  },
  {
   "cell_type": "markdown",
   "id": "bf19b663-4eb3-4519-9daf-badd598d19fb",
   "metadata": {},
   "source": [
    "The use of multi-provenance Earth Observation data increases the capability for algorithms to provide insightful and relevant information\n",
    "in many applications. The availability of data is always\n",
    "increasing and fueling the cross domain and multi-\n",
    "provenance data usage.\n",
    "\n",
    "However, each platform providing data has a different data access policy in terms of discovery and downloads, different APIs, even different available\n",
    "metadata for the same underlying data, authentication mechanism are not homogeneous, etc., making the use of all those data very complicated.\n",
    "\n",
    "EODAG comes to meet such a challenge. It is an open-source library, available through Apache 2.0 license on Github and distributed on PyPI or Conda Forge. It is a command line tool and a Python SDK for searching, aggregating, and downloading remote sensed\n",
    "products (image, radar, multi-spectral, altimetry...), weather forecast, climatology products while offering a unified API\n",
    "for data access regardless of the data provider.\n",
    "\n",
    "<img src=\"https://eodag.readthedocs.io/en/latest/_images/eodag_overview.png\" alt=\"EODAG\" width=\"800\"/>\n",
    "\n",
    "It simplifies authentication, data discovery, and download mechanisms through basic `search` and `download` commands.\n",
    "\n",
    "For **authentication**, the user must only set his credentials once for all the desired providers. EODAG will\n",
    "then use these credentials to authenticate transparently regardless of the authentication mechanism and without needing any other interaction from the user.\n",
    "\n",
    "EODAG comes pre-configured with many heterogenous data providers, ranging from national space agencies\n",
    "or space programmes to commercial providers:\n",
    "\n",
    "- AWS / GCS EO catalogs (Earth Search, EOSDA)\n",
    "- Copernicus (DataSpace Ecosystem, ADS, CDS, EWDS, Marine, WEkEO, Creodias)\n",
    "- CNES (Geodes, Hydroweb.next, PEPS)\n",
    "- Destination Earth (DEDL, DEDT Lumi)\n",
    "- ECMWF\n",
    "- ESA (FedEO CEDA)\n",
    "- EUMETSAT data store\n",
    "- Meteoblue\n",
    "- Planetary Computer\n",
    "- USGS,\n",
    "- ..., and this list of supported providers keeps growing"
   ]
  },
  {
   "cell_type": "markdown",
   "id": "95641d82-2e65-442b-87dc-f9d56f60beaa",
   "metadata": {},
   "source": [
    "Several related projects extend EODAG’s capabilities to support broader Earth Observation data workflows:\n",
    "\n",
    "- [EODAG-Cube](https://github.com/CS-SI/eodag-cube): Adds advanced data access and manipulation features using `Xarray`. It was been split to a separate project to avoid conflicts with unneeded libraries when using only EODAG basic functionalities.\n",
    "- [EODAG-Labextension](https://github.com/CS-SI/eodag-labextension): A JupyterLab extension that brings a friendly UI to your notebook and helps you search and browse for EO products using EODAG.\n",
    "- [STAC-FastAPI-EODAG](https://github.com/CS-SI/stac-fastapi-eodag): Makes EODAG available as a fully compliant [STAC API](https://github.com/radiantearth/stac-api-spec), exposing its search and discovery features through a standard, interoperable interface..\n",
    "- [EO Catalog](https://github.com/csgroup-oss/eo-catalog): A production-grade catalog to process, store, and publish your remote-sensing imagery. When used with EODAG, it allows you to complement existing data provider offerings with your own datasets.\n",
    "\n",
    "<img src=\"https://gosmic.eu/images/projects/eocatalog.png\" alt=\"EOCATALOG\" style=\"height: 150px; margin-left: 50px;\">"
   ]
  }
 ],
 "metadata": {
  "kernelspec": {
   "display_name": "Python 3 (ipykernel)",
   "language": "python",
   "name": "python3"
  },
  "language_info": {
   "codemirror_mode": {
    "name": "ipython",
    "version": 3
   },
   "file_extension": ".py",
   "mimetype": "text/x-python",
   "name": "python",
   "nbconvert_exporter": "python",
   "pygments_lexer": "ipython3",
   "version": "3.9.20"
  },
  "widgets": {
   "application/vnd.jupyter.widget-state+json": {
    "state": {},
    "version_major": 2,
    "version_minor": 0
   }
  }
 },
 "nbformat": 4,
 "nbformat_minor": 5
}
