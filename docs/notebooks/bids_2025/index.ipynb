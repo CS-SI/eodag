{
 "cells": [
  {
   "cell_type": "markdown",
   "id": "79a5343b-3eb0-42de-9b02-fc03d1091ad4",
   "metadata": {},
   "source": [
    "# BiDS 2025 Satellite event - EODAG library usage for cross-providers Earth Observation data access\n",
    "<img src=\"https://www.copernicus.eu/sites/default/files/styles/image_img_fluid/public/2023-07/2023_11_BiDS.jpg\" alt=\"FOSS4G\" style=\"height: 200px;\"><img src=\"https://eodag.readthedocs.io/en/stable/_static/eodag_logo_160.png\" alt=\"EODAG\" style=\"height: 150px; margin-left: 50px;\">"
   ]
  },
  {
   "cell_type": "markdown",
   "id": "3d2e967b-c9c3-4fc7-b939-e7cf9bd0e4e2",
   "metadata": {},
   "source": [
    "## 1. [Introduction to EODAG](1-intro.ipynb)\n",
    "## 2. [EODAG features overview](2-features.ipynb)\n",
    "## 3. [Add your own providers](3-new-providers.ipynb)\n",
    "## 4. [Upcoming features roadmap](4-roadmap.md)\n",
    "> these notebooks are available in https://github.com/CS-SI/eodag/tree/bids-2025/docs/notebooks/bids_2025\n",
    "> \n",
    "> (https://github.com/CS-SI/eodag - branch `bids-2025` - `docs/notebooks/bids_2025`)"
   ]
  },
  {
   "cell_type": "code",
   "execution_count": null,
   "id": "888d46d3-d258-4840-8dc3-37c61e22a74f",
   "metadata": {},
   "outputs": [],
   "source": []
  }
 ],
 "metadata": {
  "kernelspec": {
   "display_name": "Python 3 (ipykernel)",
   "language": "python",
   "name": "python3"
  },
  "language_info": {
   "codemirror_mode": {
    "name": "ipython",
    "version": 3
   },
   "file_extension": ".py",
   "mimetype": "text/x-python",
   "name": "python",
   "nbconvert_exporter": "python",
   "pygments_lexer": "ipython3",
   "version": "3.9.20"
  },
  "widgets": {
   "application/vnd.jupyter.widget-state+json": {
    "state": {},
    "version_major": 2,
    "version_minor": 0
   }
  }
 },
 "nbformat": 4,
 "nbformat_minor": 5
}
