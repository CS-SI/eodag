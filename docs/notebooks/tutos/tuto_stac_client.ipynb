{
 "cells": [
  {
   "cell_type": "markdown",
   "id": "weird-cleveland",
   "metadata": {},
   "source": [
    "# EODAG as STAC client"
   ]
  },
  {
   "cell_type": "markdown",
   "id": "reverse-sailing",
   "metadata": {},
   "source": [
    "## STAC API\n",
    "EODAG can perform an item search over a STAC compliant API. Found STAC items are returned as [EOProduct](../../api_reference/eoproduct.rst#eodag.api.product._product.EOProduct) objects with STAC metadata mapped to OGC OpenSearch Extension for Earth Observation.\n",
    "\n",
    "EODAG comes with already configured providers, but you can also add new ones dynamically."
   ]
  },
  {
   "cell_type": "code",
   "execution_count": 1,
   "id": "pending-circumstances",
   "metadata": {},
   "outputs": [
    {
     "name": "stderr",
     "output_type": "stream",
     "text": [
      "2021-03-08 18:07:00,193-15s eodag.config                     [INFO    ] Loading user configuration from: /home/sylvain/.config/eodag/eodag.yml\n",
      "2021-03-08 18:07:00,405-15s eodag.core                       [INFO    ] Locations configuration loaded from /home/sylvain/.config/eodag/locations.yml\n"
     ]
    }
   ],
   "source": [
    "import os\n",
    "# To have some basic feedback on what eodag is doing, we configure logging to output minimum information\n",
    "from eodag import setup_logging\n",
    "setup_logging(verbose=2)\n",
    "\n",
    "from eodag.api.core import EODataAccessGateway\n",
    "\n",
    "dag = EODataAccessGateway()"
   ]
  },
  {
   "cell_type": "markdown",
   "id": "signal-finland",
   "metadata": {},
   "source": [
    "List already configured providers providing a STAC API compliant service:"
   ]
  },
  {
   "cell_type": "code",
   "execution_count": 2,
   "id": "naughty-speaker",
   "metadata": {},
   "outputs": [
    {
     "data": {
      "text/plain": [
       "['astraea_eod', 'earth_search', 'usgs_satapi_aws']"
      ]
     },
     "execution_count": 2,
     "metadata": {},
     "output_type": "execute_result"
    }
   ],
   "source": [
    "[p.name for p in dag.providers_config.values() if hasattr(p, \"search\") and p.search.type == 'StacSearch']"
   ]
  },
  {
   "cell_type": "markdown",
   "id": "suspended-wrapping",
   "metadata": {},
   "source": [
    "Then, let's update EODAG's configuration with a new STAC provider"
   ]
  },
  {
   "cell_type": "code",
   "execution_count": 3,
   "id": "romance-midnight",
   "metadata": {},
   "outputs": [
    {
     "name": "stderr",
     "output_type": "stream",
     "text": [
      "2021-03-08 18:07:00,425-15s eodag.config                     [INFO    ] tamn: unknown provider found in user conf, trying to use provided configuration\n"
     ]
    }
   ],
   "source": [
    "dag.update_providers_config(\"\"\"\n",
    "    tamn:\n",
    "        search:\n",
    "            type: StacSearch\n",
    "            api_endpoint: https://tamn.snapplanet.io/search\n",
    "        products:\n",
    "            S2_MSI_L1C:\n",
    "                productType: S2\n",
    "            GENERIC_PRODUCT_TYPE:\n",
    "                productType: '{productType}'\n",
    "        download:\n",
    "            type: AwsDownload\n",
    "            base_uri: https://tamn.snapplanet.io\n",
    "            flatten_top_dirs: True\n",
    "        auth:\n",
    "            type: AwsAuth\n",
    "            credentials:\n",
    "                aws_access_key_id: PLEASE_CHANGE_ME\n",
    "                aws_secret_access_key: PLEASE_CHANGE_ME\n",
    "\"\"\")\n",
    "dag.set_preferred_provider(\"tamn\")"
   ]
  },
  {
   "cell_type": "markdown",
   "id": "accredited-heath",
   "metadata": {},
   "source": [
    "Search some S2_MSI_L1C products over Luxembourg:"
   ]
  },
  {
   "cell_type": "code",
   "execution_count": 4,
   "id": "annual-scale",
   "metadata": {},
   "outputs": [
    {
     "name": "stderr",
     "output_type": "stream",
     "text": [
      "2021-03-08 18:07:00,602-15s eodag.core                       [INFO    ] Searching product type 'S2_MSI_L1C' on provider: tamn\n",
      "2021-03-08 18:07:00,603-15s eodag.plugins.search.qssearch    [INFO    ] Sending count request: https://tamn.snapplanet.io/search?datetime=2020-05-01T00:00:00.000Z/2020-05-15T00:00:00.000Z&bbox=5.674051954784829,49.44266714130711,6.242751092156993,50.128051662794235&collections=S2&limit=1&page=1\n",
      "2021-03-08 18:07:00,821-15s eodag.plugins.search.qssearch    [INFO    ] Sending search request: https://tamn.snapplanet.io/search?datetime=2020-05-01T00:00:00.000Z/2020-05-15T00:00:00.000Z&bbox=5.674051954784829,49.44266714130711,6.242751092156993,50.128051662794235&collections=S2&limit=50&page=1\n",
      "2021-03-08 18:07:01,525-15s eodag.core                       [INFO    ] Found 35 result(s) on provider 'tamn'\n"
     ]
    }
   ],
   "source": [
    "prods_S2L1C, _ = dag.search(productType=\"S2_MSI_L1C\", locations=dict(country=\"LUX\"), start=\"2020-05-01\", end=\"2020-05-15\", items_per_page=50)"
   ]
  },
  {
   "cell_type": "markdown",
   "id": "surgical-condition",
   "metadata": {},
   "source": [
    "Filter over any item property using crunchers:"
   ]
  },
  {
   "cell_type": "code",
   "execution_count": 5,
   "id": "widespread-january",
   "metadata": {},
   "outputs": [
    {
     "name": "stderr",
     "output_type": "stream",
     "text": [
      "2021-03-08 18:07:01,528-15s eodag.plugins.crunch.filter_property [INFO    ] Finished filtering products. 11 resulting products\n"
     ]
    },
    {
     "data": {
      "text/plain": [
       "11"
      ]
     },
     "execution_count": 5,
     "metadata": {},
     "output_type": "execute_result"
    }
   ],
   "source": [
    "from eodag.plugins.crunch.filter_property import FilterProperty\n",
    "\n",
    "prods_S2L1C_filtered = prods_S2L1C.crunch(FilterProperty({\"cloudCover\": 10, \"operator\": \"lt\"}))\n",
    "len(prods_S2L1C_filtered)"
   ]
  },
  {
   "cell_type": "markdown",
   "id": "sound-collective",
   "metadata": {},
   "source": [
    "List available assets from the first retrieved product"
   ]
  },
  {
   "cell_type": "code",
   "execution_count": 6,
   "id": "chief-destination",
   "metadata": {
    "scrolled": true
   },
   "outputs": [
    {
     "data": {
      "text/plain": [
       "[('thumbnail',\n",
       "  'https://roda.sentinel-hub.com/sentinel-s2-l1c/tiles/31/U/GQ/2020/5/14/0/preview.jpg'),\n",
       " ('metadata',\n",
       "  'https://roda.sentinel-hub.com/sentinel-s2-l1c/tiles/31/U/GQ/2020/5/14/0/metadata.xml'),\n",
       " ('tileInfo',\n",
       "  'https://roda.sentinel-hub.com/sentinel-s2-l1c/tiles/31/U/GQ/2020/5/14/0/tileInfo.json'),\n",
       " ('productInfo',\n",
       "  'https://roda.sentinel-hub.com/sentinel-s2-l1c/tiles/31/U/GQ/2020/5/14/0/productInfo.json'),\n",
       " ('B1', 's3://sentinel-s2-l1c/tiles/31/U/GQ/2020/5/14/0/B1.jp2'),\n",
       " ('B2', 's3://sentinel-s2-l1c/tiles/31/U/GQ/2020/5/14/0/B2.jp2'),\n",
       " ('B3', 's3://sentinel-s2-l1c/tiles/31/U/GQ/2020/5/14/0/B3.jp2'),\n",
       " ('B4', 's3://sentinel-s2-l1c/tiles/31/U/GQ/2020/5/14/0/B4.jp2'),\n",
       " ('B5', 's3://sentinel-s2-l1c/tiles/31/U/GQ/2020/5/14/0/B5.jp2'),\n",
       " ('B6', 's3://sentinel-s2-l1c/tiles/31/U/GQ/2020/5/14/0/B6.jp2'),\n",
       " ('B7', 's3://sentinel-s2-l1c/tiles/31/U/GQ/2020/5/14/0/B7.jp2'),\n",
       " ('B8', 's3://sentinel-s2-l1c/tiles/31/U/GQ/2020/5/14/0/B8.jp2'),\n",
       " ('B8A', 's3://sentinel-s2-l1c/tiles/31/U/GQ/2020/5/14/0/B8A.jp2'),\n",
       " ('B9', 's3://sentinel-s2-l1c/tiles/31/U/GQ/2020/5/14/0/B9.jp2'),\n",
       " ('B10', 's3://sentinel-s2-l1c/tiles/31/U/GQ/2020/5/14/0/B10.jp2'),\n",
       " ('B11', 's3://sentinel-s2-l1c/tiles/31/U/GQ/2020/5/14/0/B11.jp2'),\n",
       " ('B12', 's3://sentinel-s2-l1c/tiles/31/U/GQ/2020/5/14/0/B12.jp2')]"
      ]
     },
     "execution_count": 6,
     "metadata": {},
     "output_type": "execute_result"
    }
   ],
   "source": [
    "[(key, asset[\"href\"]) for key, asset in prods_S2L1C[0].assets.items()]"
   ]
  },
  {
   "cell_type": "markdown",
   "id": "american-rolling",
   "metadata": {},
   "source": [
    "Same thing with an unconfigured product type (should match available collections). \n",
    "\n",
    "For Tamn Landsat-8 products are available in L8 Collection. Let's search them over Spain:"
   ]
  },
  {
   "cell_type": "code",
   "execution_count": 7,
   "id": "alpha-denver",
   "metadata": {
    "scrolled": true
   },
   "outputs": [
    {
     "name": "stderr",
     "output_type": "stream",
     "text": [
      "2021-03-08 18:07:01,562-15s eodag.plugins.manager            [INFO    ] UnsupportedProductType: L8, using generic settings\n",
      "2021-03-08 18:07:01,562-15s eodag.core                       [INFO    ] Searching product type 'L8' on provider: tamn\n",
      "2021-03-08 18:07:01,563-15s eodag.plugins.search.qssearch    [INFO    ] Sending count request: https://tamn.snapplanet.io/search?datetime=2020-05-01T00:00:00.000Z/2020-05-15T00:00:00.000Z&bbox=-9.392883673530648,35.946850083961465,3.0394840836805486,43.74833771420099&collections=L8&limit=1&page=1\n",
      "2021-03-08 18:07:01,830-15s eodag.plugins.search.qssearch    [INFO    ] Sending search request: https://tamn.snapplanet.io/search?datetime=2020-05-01T00:00:00.000Z/2020-05-15T00:00:00.000Z&bbox=-9.392883673530648,35.946850083961465,3.0394840836805486,43.74833771420099&collections=L8&limit=20&page=1\n",
      "2021-03-08 18:07:02,393-15s eodag.core                       [INFO    ] Found 98 result(s) on provider 'tamn'\n"
     ]
    }
   ],
   "source": [
    "prods_L8, _ = dag.search(productType=\"L8\", country=\"ESP\", start=\"2020-05-01\", end=\"2020-05-15\")"
   ]
  },
  {
   "cell_type": "code",
   "execution_count": 8,
   "id": "racial-statement",
   "metadata": {},
   "outputs": [
    {
     "data": {
      "text/plain": [
       "[('thumbnail',\n",
       "  'https://landsat-pds.s3.amazonaws.com/c1/L8/196/035/LC08_L1TP_196035_20200514_20200527_01_T1/LC08_L1TP_196035_20200514_20200527_01_T1_thumb_large.jpg'),\n",
       " ('metadata',\n",
       "  'https://landsat-pds.s3.amazonaws.com/c1/L8/196/035/LC08_L1TP_196035_20200514_20200527_01_T1/LC08_L1TP_196035_20200514_20200527_01_T1_MTL.txt'),\n",
       " ('B1',\n",
       "  'https://landsat-pds.s3.amazonaws.com/c1/L8/196/035/LC08_L1TP_196035_20200514_20200527_01_T1/LC08_L1TP_196035_20200514_20200527_01_T1_B1.TIF'),\n",
       " ('B2',\n",
       "  'https://landsat-pds.s3.amazonaws.com/c1/L8/196/035/LC08_L1TP_196035_20200514_20200527_01_T1/LC08_L1TP_196035_20200514_20200527_01_T1_B2.TIF'),\n",
       " ('B3',\n",
       "  'https://landsat-pds.s3.amazonaws.com/c1/L8/196/035/LC08_L1TP_196035_20200514_20200527_01_T1/LC08_L1TP_196035_20200514_20200527_01_T1_B3.TIF'),\n",
       " ('B4',\n",
       "  'https://landsat-pds.s3.amazonaws.com/c1/L8/196/035/LC08_L1TP_196035_20200514_20200527_01_T1/LC08_L1TP_196035_20200514_20200527_01_T1_B4.TIF'),\n",
       " ('B5',\n",
       "  'https://landsat-pds.s3.amazonaws.com/c1/L8/196/035/LC08_L1TP_196035_20200514_20200527_01_T1/LC08_L1TP_196035_20200514_20200527_01_T1_B5.TIF'),\n",
       " ('B6',\n",
       "  'https://landsat-pds.s3.amazonaws.com/c1/L8/196/035/LC08_L1TP_196035_20200514_20200527_01_T1/LC08_L1TP_196035_20200514_20200527_01_T1_B6.TIF'),\n",
       " ('B7',\n",
       "  'https://landsat-pds.s3.amazonaws.com/c1/L8/196/035/LC08_L1TP_196035_20200514_20200527_01_T1/LC08_L1TP_196035_20200514_20200527_01_T1_B7.TIF'),\n",
       " ('B8',\n",
       "  'https://landsat-pds.s3.amazonaws.com/c1/L8/196/035/LC08_L1TP_196035_20200514_20200527_01_T1/LC08_L1TP_196035_20200514_20200527_01_T1_B8.TIF'),\n",
       " ('B9',\n",
       "  'https://landsat-pds.s3.amazonaws.com/c1/L8/196/035/LC08_L1TP_196035_20200514_20200527_01_T1/LC08_L1TP_196035_20200514_20200527_01_T1_B9.TIF'),\n",
       " ('B10',\n",
       "  'https://landsat-pds.s3.amazonaws.com/c1/L8/196/035/LC08_L1TP_196035_20200514_20200527_01_T1/LC08_L1TP_196035_20200514_20200527_01_T1_B10.TIF'),\n",
       " ('B11',\n",
       "  'https://landsat-pds.s3.amazonaws.com/c1/L8/196/035/LC08_L1TP_196035_20200514_20200527_01_T1/LC08_L1TP_196035_20200514_20200527_01_T1_B11.TIF')]"
      ]
     },
     "execution_count": 8,
     "metadata": {},
     "output_type": "execute_result"
    }
   ],
   "source": [
    "[(key, asset[\"href\"]) for key, asset in prods_L8[0].assets.items()]"
   ]
  },
  {
   "cell_type": "markdown",
   "id": "offshore-stereo",
   "metadata": {},
   "source": [
    "## STAC Static catalog"
   ]
  },
  {
   "cell_type": "markdown",
   "id": "seasonal-internet",
   "metadata": {},
   "source": [
    "EODAG can search for items over a STAC static catalog. Path to the catalog must be set as `provider.search.api_endpoint` with `provider.search.type=StaticStacSearch`. A download plugin must also be set, and depends of the provider.\n",
    "\n",
    "Here is an example with a catalog from https://stacindex.org/catalogs/spot-orthoimages-canada-2005, which will use \n",
    " `HTTPDownload` as download plugin, without credentials as no authentication needed for download.\n",
    " \n",
    "See [download plugins documentation](../../plugins_reference/download.rst) for other available plugins.\n",
    "\n",
    "<div class=\"alert alert-warning\">\n",
    "\n",
    "Warning\n",
    "\n",
    "Please note that `StaticStacSearch` plugin development is still at an early stage. If search is too slow using this plugin, please use a catalog with less elements.\n",
    "\n",
    "</div>"
   ]
  },
  {
   "cell_type": "code",
   "execution_count": 9,
   "id": "greek-seminar",
   "metadata": {},
   "outputs": [],
   "source": [
    "# Decrease logging level\n",
    "setup_logging(verbose=1)\n",
    "\n",
    "# create a workspace\n",
    "workspace = 'eodag_workspace_stac_client'\n",
    "if not os.path.isdir(workspace):\n",
    "    os.mkdir(workspace)\n",
    "\n",
    "# add the provider\n",
    "dag.update_providers_config(\"\"\"\n",
    "stac_http_provider:\n",
    "    search:\n",
    "        type: StaticStacSearch\n",
    "        api_endpoint: https://canada-spot-ortho.s3.amazonaws.com/canada_spot_orthoimages/canada_spot5_orthoimages/S5_2007/catalog.json\n",
    "    products:\n",
    "        GENERIC_PRODUCT_TYPE:\n",
    "            productType: '{productType}'\n",
    "    download:\n",
    "        type: HTTPDownload\n",
    "        base_uri: https://fake-endpoint\n",
    "        flatten_top_dirs: True\n",
    "        outputs_prefix: %s\n",
    "\"\"\" % os.path.abspath(workspace))\n",
    "\n",
    "dag.set_preferred_provider(\"stac_http_provider\")"
   ]
  },
  {
   "cell_type": "markdown",
   "id": "changing-tooth",
   "metadata": {},
   "source": [
    "Let's perform search :"
   ]
  },
  {
   "cell_type": "code",
   "execution_count": 10,
   "id": "elder-convenience",
   "metadata": {},
   "outputs": [
    {
     "name": "stdout",
     "output_type": "stream",
     "text": [
      "3 product(s) found\n"
     ]
    }
   ],
   "source": [
    "from shapely.geometry import Polygon\n",
    "\n",
    "search_polygon = Polygon([(-70, 45), (-75, 47), (-80, 47), (-80, 44)])\n",
    "query_args = {\"start\": \"2007-05-01\", \"end\": \"2007-05-06\" , \"geom\": search_polygon}\n",
    "\n",
    "products, found = dag.search(**query_args)\n",
    "print(\"%s product(s) found\" % found)"
   ]
  },
  {
   "cell_type": "markdown",
   "id": "aerial-contrast",
   "metadata": {},
   "source": [
    "Before downloading, make some cleanup in the products as `canada-spot-ortho.s3.amazonaws.com` thumbnails are not available for download :\n",
    "- remove thumbnail assets\n",
    "- remove products with no assets"
   ]
  },
  {
   "cell_type": "code",
   "execution_count": 11,
   "id": "executive-reserve",
   "metadata": {},
   "outputs": [
    {
     "name": "stdout",
     "output_type": "stream",
     "text": [
      "2 product(s) with valid assets\n"
     ]
    }
   ],
   "source": [
    "for idx, product in enumerate(products):\n",
    "    # remove thumbnail\n",
    "    if \"thumbnail\" in product.assets:\n",
    "        del products[idx].assets[\"thumbnail\"]\n",
    "    # remove items with empty assets\n",
    "    if not product.assets:\n",
    "        del products[idx]\n",
    "print(\"%s product(s) with valid assets\" % len(products))"
   ]
  },
  {
   "cell_type": "code",
   "execution_count": 12,
   "id": "specialized-excuse",
   "metadata": {
    "scrolled": false
   },
   "outputs": [
    {
     "data": {
      "application/vnd.jupyter.widget-view+json": {
       "model_id": "83fc933de3794e3db81b3da0a087541c",
       "version_major": 2,
       "version_minor": 0
      },
      "text/plain": [
       "Map(center=[45, -75], controls=(ZoomControl(options=['position', 'zoom_in_text', 'zoom_in_title', 'zoom_out_te…"
      ]
     },
     "metadata": {},
     "output_type": "display_data"
    }
   ],
   "source": [
    "# plot products and search polygon on map\n",
    "import ipyleaflet as ipyl\n",
    "\n",
    "m = ipyl.Map(center=(45, -75), zoom=5)\n",
    "\n",
    "polygon_layer = ipyl.GeoJSON(data=search_polygon.__geo_interface__, style=dict(color='blue'))\n",
    "m.add_layer(polygon_layer)\n",
    "\n",
    "items_layer = ipyl.GeoJSON(data=products.as_geojson_object(), style=dict(color='green'))\n",
    "m.add_layer(items_layer)\n",
    "m"
   ]
  },
  {
   "cell_type": "markdown",
   "id": "optional-flower",
   "metadata": {},
   "source": [
    "Download items from the filtered search results:"
   ]
  },
  {
   "cell_type": "code",
   "execution_count": 13,
   "id": "becoming-mason",
   "metadata": {
    "scrolled": false
   },
   "outputs": [
    {
     "data": {
      "application/vnd.jupyter.widget-view+json": {
       "model_id": "24be9c35efb7433ea14b3fae9112305f",
       "version_major": 2,
       "version_minor": 0
      },
      "text/plain": [
       "Downloaded products:   0%|          | 0/2 [00:00<?, ?product/s]"
      ]
     },
     "metadata": {},
     "output_type": "display_data"
    },
    {
     "data": {
      "text/plain": [
       "['/home/sylvain/workspace/eodag/examples/eodag_workspace_stac_client/S5_07702_4605_20070505',\n",
       " '/home/sylvain/workspace/eodag/examples/eodag_workspace_stac_client/S5_07724_4507_20070505']"
      ]
     },
     "execution_count": 13,
     "metadata": {},
     "output_type": "execute_result"
    }
   ],
   "source": [
    "paths = dag.download_all(products)\n",
    "paths"
   ]
  },
  {
   "cell_type": "code",
   "execution_count": 14,
   "id": "excellent-hardware",
   "metadata": {},
   "outputs": [
    {
     "name": "stdout",
     "output_type": "stream",
     "text": [
      "S5_07702_4605_20070505\n",
      "S5_07702_4605_20070505_m20_1_lcc00_cog.tif\n",
      "S5_07702_4605_20070505_m20_2_lcc00_cog.tif\n",
      "S5_07702_4605_20070505_m20_3_lcc00_cog.tif\n",
      "S5_07702_4605_20070505_m20_4_lcc00_cog.tif\n",
      "S5_07702_4605_20070505_p10_1_lcc00_cog.tif\n",
      "S5_07724_4507_20070505\n",
      "s5_07724_4507_20070505_m20_1_lcc00_cog.tif\n",
      "s5_07724_4507_20070505_m20_2_lcc00_cog.tif\n",
      "s5_07724_4507_20070505_m20_3_lcc00_cog.tif\n",
      "s5_07724_4507_20070505_m20_4_lcc00_cog.tif\n",
      "s5_07724_4507_20070505_p10_1_lcc00_cog.tif\n"
     ]
    }
   ],
   "source": [
    "for path in paths:\n",
    "    !basename $path\n",
    "    !ls {path.replace(\"file://\",\"\")}"
   ]
  },
  {
   "cell_type": "markdown",
   "id": "temporal-riverside",
   "metadata": {},
   "source": [
    "### "
   ]
  }
 ],
 "metadata": {
  "kernelspec": {
   "display_name": "Python 3",
   "language": "python",
   "name": "python3"
  },
  "language_info": {
   "codemirror_mode": {
    "name": "ipython",
    "version": 3
   },
   "file_extension": ".py",
   "mimetype": "text/x-python",
   "name": "python",
   "nbconvert_exporter": "python",
   "pygments_lexer": "ipython3",
   "version": "3.8.5"
  },
  "widgets": {
   "application/vnd.jupyter.widget-state+json": {
    "state": {
     "0bf1843ff6684d7787f6ce9976ce7f2d": {
      "model_module": "@jupyter-widgets/base",
      "model_module_version": "1.2.0",
      "model_name": "LayoutModel",
      "state": {}
     },
     "190958b10c884c5182ba32b553920002": {
      "model_module": "@jupyter-widgets/controls",
      "model_module_version": "1.5.0",
      "model_name": "HTMLModel",
      "state": {
       "layout": "IPY_MODEL_c6458f5de21f44d9ad41a7ea387facaa",
       "style": "IPY_MODEL_68758772cbf742f49fccaa596e1f53f8",
       "value": "Downloaded products: 100%"
      }
     },
     "24be9c35efb7433ea14b3fae9112305f": {
      "model_module": "@jupyter-widgets/controls",
      "model_module_version": "1.5.0",
      "model_name": "HBoxModel",
      "state": {
       "children": [
        "IPY_MODEL_190958b10c884c5182ba32b553920002",
        "IPY_MODEL_ffbc6071f967480ca810a2368e73350a",
        "IPY_MODEL_27168c195a9d4e65a1af4cfdd45f249c"
       ],
       "layout": "IPY_MODEL_420ab239a39845f188789adb69c05875"
      }
     },
     "27168c195a9d4e65a1af4cfdd45f249c": {
      "model_module": "@jupyter-widgets/controls",
      "model_module_version": "1.5.0",
      "model_name": "HTMLModel",
      "state": {
       "layout": "IPY_MODEL_d1e4c12023f24db399f58fae2c19c17f",
       "style": "IPY_MODEL_ed71241e2d9b4fa3824cf30b298e9b51",
       "value": " 2/2 [00:00&lt;00:00, 129.12product/s]"
      }
     },
     "41c1bfbad2ae4854bc19d0f870b81b31": {
      "model_module": "@jupyter-widgets/controls",
      "model_module_version": "1.5.0",
      "model_name": "ProgressStyleModel",
      "state": {
       "description_width": ""
      }
     },
     "420ab239a39845f188789adb69c05875": {
      "model_module": "@jupyter-widgets/base",
      "model_module_version": "1.2.0",
      "model_name": "LayoutModel",
      "state": {
       "display": "inline-flex",
       "flex_flow": "row wrap",
       "width": "100%"
      }
     },
     "48c065d7d10b444a90f932d05fb22c53": {
      "model_module": "jupyter-leaflet",
      "model_module_version": "^0.13.5",
      "model_name": "LeafletMapStyleModel",
      "state": {
       "_model_module_version": "^0.13.5",
       "cursor": "move"
      }
     },
     "4bf30fde9b9a4428ab1e5de0c351b4db": {
      "model_module": "jupyter-leaflet",
      "model_module_version": "^0.13.5",
      "model_name": "LeafletTileLayerModel",
      "state": {
       "_model_module_version": "^0.13.5",
       "_view_module_version": "^0.13.5",
       "base": true,
       "max_native_zoom": 18,
       "max_zoom": 19,
       "min_native_zoom": 0,
       "min_zoom": 1,
       "options": [
        "attribution",
        "detect_retina",
        "max_native_zoom",
        "max_zoom",
        "min_native_zoom",
        "min_zoom",
        "no_wrap",
        "tile_size",
        "tms"
       ]
      }
     },
     "68758772cbf742f49fccaa596e1f53f8": {
      "model_module": "@jupyter-widgets/controls",
      "model_module_version": "1.5.0",
      "model_name": "DescriptionStyleModel",
      "state": {
       "description_width": ""
      }
     },
     "69311ec9e6614a3f9ad7fbd75bf66418": {
      "model_module": "@jupyter-widgets/base",
      "model_module_version": "1.2.0",
      "model_name": "LayoutModel",
      "state": {}
     },
     "7266c21d09484691a77de1b23d86a07c": {
      "model_module": "jupyter-leaflet",
      "model_module_version": "^0.13.5",
      "model_name": "LeafletAttributionControlModel",
      "state": {
       "_model_module_version": "^0.13.5",
       "_view_module_version": "^0.13.5",
       "options": [
        "position",
        "prefix"
       ],
       "position": "bottomright",
       "prefix": "ipyleaflet"
      }
     },
     "74fe8720b98c45019b65ed5df48bf358": {
      "model_module": "jupyter-leaflet",
      "model_module_version": "^0.13.5",
      "model_name": "LeafletGeoJSONModel",
      "state": {
       "_model_module": "jupyter-leaflet",
       "_model_module_version": "^0.13.5",
       "_view_count": null,
       "_view_module": "jupyter-leaflet",
       "_view_module_version": "^0.13.5",
       "base": false,
       "bottom": false,
       "data": {
        "coordinates": [
         [
          [
           -70,
           45
          ],
          [
           -75,
           47
          ],
          [
           -80,
           47
          ],
          [
           -80,
           44
          ],
          [
           -70,
           45
          ]
         ]
        ],
        "type": "Polygon"
       },
       "name": "",
       "options": [],
       "popup": null,
       "popup_max_height": null,
       "popup_max_width": 300,
       "popup_min_width": 50,
       "style": {
        "color": "blue"
       }
      }
     },
     "7a277ed7768d4dc4a5be7b922e20658e": {
      "model_module": "jupyter-leaflet",
      "model_module_version": "^0.13.5",
      "model_name": "LeafletMapStyleModel",
      "state": {
       "_model_module_version": "^0.13.5"
      }
     },
     "80a16be64813457c86c223bd2ec1e900": {
      "model_module": "jupyter-leaflet",
      "model_module_version": "^0.13.5",
      "model_name": "LeafletGeoJSONModel",
      "state": {
       "_model_module": "jupyter-leaflet",
       "_model_module_version": "^0.13.5",
       "_view_count": null,
       "_view_module": "jupyter-leaflet",
       "_view_module_version": "^0.13.5",
       "base": false,
       "bottom": false,
       "data": {
        "features": [
         {
          "geometry": {
           "coordinates": [
            [
             [
              -77.5086458,
              45.89066339999992
             ],
             [
              -77.3097434,
              46.411011399999936
             ],
             [
              -76.56018450000002,
              46.27010199999995
             ],
             [
              -76.766165,
              45.75074559999991
             ],
             [
              -77.5086458,
              45.89066339999992
             ]
            ]
           ],
           "type": "Polygon"
          },
          "id": "S5_07702_4605_20070505",
          "properties": {
           "abstract": null,
           "downloadLink": "https://fake-endpoint/collections/canada_spot5_orthoimages/items/S5_07702_4605_20070505",
           "eo:bands": [
            {
             "common_name": "panchromatic",
             "description": "Panchromatic: 480-710 nm",
             "name": "Panchromatic"
            },
            {
             "common_name": "green",
             "description": "Green: 500-590 nm",
             "name": "Green"
            },
            {
             "common_name": "red",
             "description": "Red: 610-680 nm",
             "name": "Red"
            },
            {
             "common_name": "nir",
             "description": "Near Infrared: 780-890 nm",
             "name": "Near Infrared"
            },
            {
             "common_name": "swir",
             "description": "ShortWave Infrared: 1580-1750 nm",
             "name": "ShortWave Infrared"
            }
           ],
           "eodag_product_type": null,
           "eodag_provider": "stac_http_provider",
           "eodag_search_intersection": {
            "coordinates": [
             [
              [
               -77.5086458,
               45.89066339999992
              ],
              [
               -77.3097434,
               46.411011399999936
              ],
              [
               -76.56018450000002,
               46.27010199999995
              ],
              [
               -76.766165,
               45.75074559999991
              ],
              [
               -77.5086458,
               45.89066339999992
              ]
             ]
            ],
            "type": "Polygon"
           },
           "instrument": null,
           "license": null,
           "missionStartDate": null,
           "platform": null,
           "platformSerialIdentifier": null,
           "processingLevel": null,
           "productType": "canada_spot5_orthoimages",
           "proj:epsg": 3979,
           "resolution": 20,
           "sensorType": null,
           "startTimeFromAscendingNode": "2007-05-05T00:00:00Z",
           "storageStatus": "ONLINE",
           "style": {
            "color": "green"
           },
           "thumbnail": "https://canada-spot-ortho.s3.amazonaws.com/canada_spot_orthoimages/canada_spot5_orthoimages/S5_2007/S5_07702_4605_20070505/s5_07702_4605_20070505_tn.jpg",
           "title": "S5_07702_4605_20070505"
          },
          "type": "Feature"
         },
         {
          "geometry": {
           "coordinates": [
            [
             [
              -77.8688576,
              44.92858479999993
             ],
             [
              -77.6751065,
              45.44990809999991
             ],
             [
              -76.9381127,
              45.3104741999999
             ],
             [
              -77.13831010000001,
              44.790157899999905
             ],
             [
              -77.8688576,
              44.92858479999993
             ]
            ]
           ],
           "type": "Polygon"
          },
          "id": "S5_07724_4507_20070505",
          "properties": {
           "abstract": null,
           "downloadLink": "https://fake-endpoint/collections/canada_spot5_orthoimages/items/S5_07724_4507_20070505",
           "eo:bands": [
            {
             "common_name": "panchromatic",
             "description": "Panchromatic: 480-710 nm",
             "name": "Panchromatic"
            },
            {
             "common_name": "green",
             "description": "Green: 500-590 nm",
             "name": "Green"
            },
            {
             "common_name": "red",
             "description": "Red: 610-680 nm",
             "name": "Red"
            },
            {
             "common_name": "nir",
             "description": "Near Infrared: 780-890 nm",
             "name": "Near Infrared"
            },
            {
             "common_name": "swir",
             "description": "ShortWave Infrared: 1580-1750 nm",
             "name": "ShortWave Infrared"
            }
           ],
           "eodag_product_type": null,
           "eodag_provider": "stac_http_provider",
           "eodag_search_intersection": {
            "coordinates": [
             [
              [
               -77.8688576,
               44.92858479999993
              ],
              [
               -77.6751065,
               45.44990809999991
              ],
              [
               -76.9381127,
               45.3104741999999
              ],
              [
               -77.13831010000001,
               44.790157899999905
              ],
              [
               -77.8688576,
               44.92858479999993
              ]
             ]
            ],
            "type": "Polygon"
           },
           "instrument": null,
           "license": null,
           "missionStartDate": null,
           "platform": null,
           "platformSerialIdentifier": null,
           "processingLevel": null,
           "productType": "canada_spot5_orthoimages",
           "proj:epsg": 3979,
           "resolution": 20,
           "sensorType": null,
           "startTimeFromAscendingNode": "2007-05-05T00:00:00Z",
           "storageStatus": "ONLINE",
           "style": {
            "color": "green"
           },
           "thumbnail": "https://canada-spot-ortho.s3.amazonaws.com/canada_spot_orthoimages/canada_spot5_orthoimages/S5_2007/S5_07724_4507_20070505/s5_07724_4507_20070505_tn.jpg",
           "title": "S5_07724_4507_20070505"
          },
          "type": "Feature"
         }
        ],
        "type": "FeatureCollection"
       },
       "name": "",
       "options": [],
       "popup": null,
       "popup_max_height": null,
       "popup_max_width": 300,
       "popup_min_width": 50,
       "style": {
        "color": "green"
       }
      }
     },
     "83fc933de3794e3db81b3da0a087541c": {
      "model_module": "jupyter-leaflet",
      "model_module_version": "^0.13.5",
      "model_name": "LeafletMapModel",
      "state": {
       "_model_module_version": "^0.13.5",
       "_view_module_version": "^0.13.5",
       "bottom": 3147,
       "center": [
        45,
        -75
       ],
       "controls": [
        "IPY_MODEL_f2a0b3d3479b47ddb07f1dff3608a11d",
        "IPY_MODEL_7266c21d09484691a77de1b23d86a07c"
       ],
       "default_style": "IPY_MODEL_ca7b607ef76b4e679562af0d0cfbb128",
       "dragging_style": "IPY_MODEL_48c065d7d10b444a90f932d05fb22c53",
       "east": -53.83300781250001,
       "fullscreen": false,
       "interpolation": "bilinear",
       "layers": [
        "IPY_MODEL_4bf30fde9b9a4428ab1e5de0c351b4db",
        "IPY_MODEL_74fe8720b98c45019b65ed5df48bf358",
        "IPY_MODEL_80a16be64813457c86c223bd2ec1e900"
       ],
       "layout": "IPY_MODEL_0bf1843ff6684d7787f6ce9976ce7f2d",
       "left": 1908,
       "modisdate": "yesterday",
       "north": 50.875311142200765,
       "options": [
        "bounce_at_zoom_limits",
        "box_zoom",
        "center",
        "close_popup_on_click",
        "double_click_zoom",
        "dragging",
        "fullscreen",
        "inertia",
        "inertia_deceleration",
        "inertia_max_speed",
        "interpolation",
        "keyboard",
        "keyboard_pan_offset",
        "keyboard_zoom_offset",
        "max_zoom",
        "min_zoom",
        "scroll_wheel_zoom",
        "tap",
        "tap_tolerance",
        "touch_zoom",
        "world_copy_jump",
        "zoom",
        "zoom_animation_threshold",
        "zoom_delta",
        "zoom_snap",
        "zoom_start"
       ],
       "right": 2871,
       "south": 38.44498466889473,
       "style": "IPY_MODEL_7a277ed7768d4dc4a5be7b922e20658e",
       "top": 2747,
       "west": -96.15234375,
       "window_url": "http://localhost:8888/notebooks/tuto_stac_client.ipynb",
       "zoom": 5
      }
     },
     "bbb839a90ef347cb9de821c80354726d": {
      "model_module": "@jupyter-widgets/controls",
      "model_module_version": "1.5.0",
      "model_name": "DescriptionStyleModel",
      "state": {
       "description_width": ""
      }
     },
     "c6458f5de21f44d9ad41a7ea387facaa": {
      "model_module": "@jupyter-widgets/base",
      "model_module_version": "1.2.0",
      "model_name": "LayoutModel",
      "state": {}
     },
     "ca7b607ef76b4e679562af0d0cfbb128": {
      "model_module": "jupyter-leaflet",
      "model_module_version": "^0.13.5",
      "model_name": "LeafletMapStyleModel",
      "state": {
       "_model_module_version": "^0.13.5"
      }
     },
     "cf91bef8bee740efbff017e54933499b": {
      "model_module": "@jupyter-widgets/controls",
      "model_module_version": "1.5.0",
      "model_name": "HTMLModel",
      "state": {
       "layout": "IPY_MODEL_69311ec9e6614a3f9ad7fbd75bf66418",
       "style": "IPY_MODEL_bbb839a90ef347cb9de821c80354726d"
      }
     },
     "d1e4c12023f24db399f58fae2c19c17f": {
      "model_module": "@jupyter-widgets/base",
      "model_module_version": "1.2.0",
      "model_name": "LayoutModel",
      "state": {}
     },
     "ed71241e2d9b4fa3824cf30b298e9b51": {
      "model_module": "@jupyter-widgets/controls",
      "model_module_version": "1.5.0",
      "model_name": "DescriptionStyleModel",
      "state": {
       "description_width": ""
      }
     },
     "f2a0b3d3479b47ddb07f1dff3608a11d": {
      "model_module": "jupyter-leaflet",
      "model_module_version": "^0.13.5",
      "model_name": "LeafletZoomControlModel",
      "state": {
       "_model_module_version": "^0.13.5",
       "_view_module_version": "^0.13.5",
       "options": [
        "position",
        "zoom_in_text",
        "zoom_in_title",
        "zoom_out_text",
        "zoom_out_title"
       ]
      }
     },
     "f592b109ebe748e69902e8e7dd9bf60b": {
      "model_module": "@jupyter-widgets/base",
      "model_module_version": "1.2.0",
      "model_name": "LayoutModel",
      "state": {
       "flex": "2"
      }
     },
     "ffbc6071f967480ca810a2368e73350a": {
      "model_module": "@jupyter-widgets/controls",
      "model_module_version": "1.5.0",
      "model_name": "FloatProgressModel",
      "state": {
       "bar_style": "success",
       "layout": "IPY_MODEL_f592b109ebe748e69902e8e7dd9bf60b",
       "max": 2,
       "style": "IPY_MODEL_41c1bfbad2ae4854bc19d0f870b81b31",
       "value": 2
      }
     }
    },
    "version_major": 2,
    "version_minor": 0
   }
  }
 },
 "nbformat": 4,
 "nbformat_minor": 5
}
