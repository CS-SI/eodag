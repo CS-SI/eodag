{
 "cells": [
  {
   "cell_type": "markdown",
   "metadata": {},
   "source": [
    "# The wekeo provider in EODAG\n",
    "\n",
    "This tutorial will show you how use EODAG to download data from [WEkEO](https://www.wekeo.eu/) using `eodag`. WEkEO offers a wide range of Copernicus and Sentinel products decomposed into three providers classified according to their kind of data:\n",
    "\n",
    "* `wekeo_main`: Sentinel and some Copernicus data\n",
    "* `wekeo_ecmwf`: Copernicus data from ECMWF\n",
    "* `wekeo_cmems`: Copernicus Marine data"
   ]
  },
  {
   "cell_type": "markdown",
   "metadata": {},
   "source": [
    "## Registration\n",
    "\n",
    "For both, searching and downloading data, authentication is required. Therefore, you first have to create an account on [https://www.wekeo.eu/](https://www.wekeo.eu/) to get a `username` and a `password` which have to be added to the EODAG configuration (see [Configure EODAG](../../getting_started_guide/configure.rst)). After registration you also have to accept the Terms and Conditions for the datasets you want to use to be able to retrieve data from EODAG. This has to be done once per user and licence by executing the following code where licence_name has to be set to the desired licence (see list below):"
   ]
  },
  {
   "cell_type": "code",
   "execution_count": 1,
   "metadata": {
    "tags": []
   },
   "outputs": [],
   "source": [
    "import requests\n",
    "from eodag import EODataAccessGateway\n",
    "\n",
    "# instantiate EODAG API\n",
    "dag = EODataAccessGateway()\n",
    "\n",
    "# Authenticate on the wekeo adapted to your request, here wekeo_main\n",
    "search_plugin = next(dag._plugins_manager.get_search_plugins(provider=\"wekeo_main\"))\n",
    "auth = dag._plugins_manager.get_auth_plugin(search_plugin).authenticate()\n",
    "licence_name = \"EUMETSAT_Copernicus_Data_Licence\"\n",
    "\n",
    "# Use your authentication to accept Terms and Conditions\n",
    "response = requests.put(\n",
    "    f\"https://gateway.prod.wekeo2.eu/hda-broker/api/v1/termsaccepted/{licence_name}\",\n",
    "    auth=auth,\n",
    ")"
   ]
  },
  {
   "cell_type": "markdown",
   "metadata": {},
   "source": [
    "Depending on which data you want to use, different licences have to be accepted. If you want to use all the collections available in EODAG for the provider `wekeo_main`, the following licences have to be accepted:\n",
    "      \n",
    "* EUMETSAT_Copernicus_Data_Licence\n",
    "* Copernicus_Land_Monitoring_Service_Data_Policy\n",
    "* Copernicus_Sentinel_License\n",
    "* Copernicus_DEM_Instance_COP-DEM-GLO-30-F_Global_30m\n",
    "* Copernicus_DEM_Instance_COP-DEM-GLO-90-F_Global_90m\n",
    "\n",
    "To access the products of the provider `wekeo_ecmwf` or `wekeo_cmems` the licence Copernicus_ECMWF_License or Copernicus_Marine_Service_Product_License have to be accepted respectively."
   ]
  },
  {
   "cell_type": "markdown",
   "metadata": {},
   "source": [
    "## Search and download data"
   ]
  },
  {
   "cell_type": "markdown",
   "metadata": {},
   "source": [
    "Many collections are available for the three `wekeo` providers, here let's see for `wekeo_ecmwf`:"
   ]
  },
  {
   "cell_type": "code",
   "execution_count": 2,
   "metadata": {
    "tags": []
   },
   "outputs": [
    {
     "data": {
      "text/plain": [
       "37"
      ]
     },
     "execution_count": 2,
     "metadata": {},
     "output_type": "execute_result"
    }
   ],
   "source": [
    "wekeo_collections = dag.list_collections(\"wekeo_ecmwf\")\n",
    "len(wekeo_collections)"
   ]
  },
  {
   "cell_type": "code",
   "execution_count": 3,
   "metadata": {
    "tags": []
   },
   "outputs": [
    {
     "data": {
      "text/plain": [
       "['AG_ERA5',\n",
       " 'CAMS_EAC4',\n",
       " 'CAMS_EAC4_MONTHLY',\n",
       " 'CAMS_EU_AIR_QUALITY_FORECAST',\n",
       " 'CAMS_EU_AIR_QUALITY_RE',\n",
       " 'CAMS_GAC_FORECAST',\n",
       " 'CAMS_GFE_GFAS',\n",
       " 'CAMS_GLOBAL_EMISSIONS',\n",
       " 'CAMS_GREENHOUSE_EGG4',\n",
       " 'CAMS_GREENHOUSE_EGG4_MONTHLY',\n",
       " 'CAMS_GREENHOUSE_INVERSION',\n",
       " 'CAMS_GRF',\n",
       " 'CAMS_GRF_AUX',\n",
       " 'CAMS_SOLAR_RADIATION',\n",
       " 'ERA5_LAND',\n",
       " 'ERA5_LAND_MONTHLY',\n",
       " 'ERA5_PL',\n",
       " 'ERA5_PL_MONTHLY',\n",
       " 'ERA5_SL',\n",
       " 'ERA5_SL_MONTHLY',\n",
       " 'FIRE_HISTORICAL',\n",
       " 'GLACIERS_DIST_RANDOLPH',\n",
       " 'GRIDDED_GLACIERS_MASS_CHANGE',\n",
       " 'SATELLITE_CARBON_DIOXIDE',\n",
       " 'SATELLITE_FIRE_BURNED_AREA',\n",
       " 'SATELLITE_METHANE',\n",
       " 'SATELLITE_SEA_ICE_CONCENTRATION',\n",
       " 'SATELLITE_SEA_ICE_EDGE_TYPE',\n",
       " 'SATELLITE_SEA_ICE_THICKNESS',\n",
       " 'SATELLITE_SEA_LEVEL_GLOBAL',\n",
       " 'SEASONAL_MONTHLY_PL',\n",
       " 'SEASONAL_MONTHLY_SL',\n",
       " 'SEASONAL_ORIGINAL_PL',\n",
       " 'SEASONAL_ORIGINAL_SL',\n",
       " 'SEASONAL_POSTPROCESSED_PL',\n",
       " 'SEASONAL_POSTPROCESSED_SL',\n",
       " 'UERRA_EUROPE_SL']"
      ]
     },
     "execution_count": 3,
     "metadata": {},
     "output_type": "execute_result"
    }
   ],
   "source": [
    "[pt[\"ID\"] for pt in wekeo_collections]"
   ]
  },
  {
   "cell_type": "markdown",
   "metadata": {},
   "source": [
    "Check queryables for data on one of these collections:"
   ]
  },
  {
   "cell_type": "code",
   "execution_count": 13,
   "metadata": {},
   "outputs": [
    {
     "data": {
      "text/html": [
       "<table><thead><tr><td style='text-align: left; color: grey;'>\n",
       "                QueryablesDict&ensp;(4)&ensp;-&ensp;additional_properties=False\n",
       "            </td></tr></thead><tbody><tr ><td style='text-align: left;'>\n",
       "                        <details><summary style='color: grey;'>\n",
       "                        <span style='color: black'>'ecmwf:variable'</span>:&ensp;\n",
       "                        typing.Annotated[<span style='color: black'>Literal['altitude_of_plume_bottom', ...]</span>,&ensp;\n",
       "                    FieldInfo(\n",
       "                            'required': <span style='color: black'>True</span>,\n",
       "                            ...\n",
       "                        )]\n",
       "                    </summary>\n",
       "                        <span style='color: grey'>typing.Annotated[</span><table style='margin: 0;'>\n",
       "                            <tr style='background-color: transparent;'>\n",
       "                                <td style='padding: 5px 0 0 10px; text-align: left; vertical-align:top;'>\n",
       "                                typing.Literal['altitude_of_plume_bottom', 'altitude_of_plume_top', 'injection_height', 'mean_altitude_of_maximum_injection', 'wildfire_combustion_rate', 'wildfire_flux_of_acetaldehyde', 'wildfire_flux_of_acetone', 'wildfire_flux_of_ammonia', 'wildfire_flux_of_benzene', 'wildfire_flux_of_black_carbon', 'wildfire_flux_of_butanes', 'wildfire_flux_of_butenes', 'wildfire_flux_of_carbon_dioxide', 'wildfire_flux_of_carbon_monoxide', 'wildfire_flux_of_dimethyl_sulfide', 'wildfire_flux_of_ethane', 'wildfire_flux_of_ethanol', 'wildfire_flux_of_ethene', 'wildfire_flux_of_formaldehyde', 'wildfire_flux_of_heptane', 'wildfire_flux_of_hexanes', 'wildfire_flux_of_hexene', 'wildfire_flux_of_higher_alkanes', 'wildfire_flux_of_higher_alkenes', 'wildfire_flux_of_hydrogen', 'wildfire_flux_of_isoprene', 'wildfire_flux_of_methane', 'wildfire_flux_of_methanol', 'wildfire_flux_of_nitrogen_oxides', 'wildfire_flux_of_nitrous_oxide', 'wildfire_flux_of_non_methane_hydrocarbons', 'wildfire_flux_of_octene', 'wildfire_flux_of_organic_carbon', 'wildfire_flux_of_particulate_matter_d_2_5_µm', 'wildfire_flux_of_pentanes', 'wildfire_flux_of_pentenes', 'wildfire_flux_of_propane', 'wildfire_flux_of_propene', 'wildfire_flux_of_sulphur_dioxide', 'wildfire_flux_of_terpenes', 'wildfire_flux_of_toluene', 'wildfire_flux_of_toluene_lump', 'wildfire_flux_of_total_carbon_in_aerosols', 'wildfire_flux_of_total_particulate_matter', 'wildfire_flux_of_xylene', 'wildfire_fraction_of_area_observed', 'wildfire_overall_flux_of_burnt_carbon', 'wildfire_radiative_power'],</td>\n",
       "                            </tr><tr style='background-color: transparent;'>\n",
       "                                <td style='padding: 5px 0 0 10px; text-align: left; vertical-align:top;'>\n",
       "                                FieldInfo(annotation=NoneType, required=True, title='variable')</td>\n",
       "                            </tr>\n",
       "                        </table><span style='color: grey'>]</span>\n",
       "                    </details>\n",
       "                    </td></tr>\n",
       "                    <tr ><td style='text-align: left;'>\n",
       "                        <details><summary style='color: grey;'>\n",
       "                        <span style='color: black'>'ecmwf:data_format'</span>:&ensp;\n",
       "                        typing.Annotated[<span style='color: black'>Literal['grib', ...]</span>,&ensp;\n",
       "                    FieldInfo(\n",
       "                            'required': <span style='color: black'>True</span>,\n",
       "                            ...\n",
       "                        )]\n",
       "                    </summary>\n",
       "                        <span style='color: grey'>typing.Annotated[</span><table style='margin: 0;'>\n",
       "                            <tr style='background-color: transparent;'>\n",
       "                                <td style='padding: 5px 0 0 10px; text-align: left; vertical-align:top;'>\n",
       "                                typing.Literal['grib', 'netcdf'],</td>\n",
       "                            </tr><tr style='background-color: transparent;'>\n",
       "                                <td style='padding: 5px 0 0 10px; text-align: left; vertical-align:top;'>\n",
       "                                FieldInfo(annotation=NoneType, required=True, title='data_format')</td>\n",
       "                            </tr>\n",
       "                        </table><span style='color: grey'>]</span>\n",
       "                    </details>\n",
       "                    </td></tr>\n",
       "                    <tr ><td style='text-align: left;'>\n",
       "                        <details><summary style='color: grey;'>\n",
       "                        <span style='color: black'>'start'</span>:&ensp;\n",
       "                        typing.Annotated[<span style='color: black'>str</span>,&ensp;\n",
       "                    FieldInfo('default': '<span style='color: black'>2003-01-01T00:00:00Z</span>',&ensp;\n",
       "                            'required': <span style='color: black'>False</span>,\n",
       "                            ...\n",
       "                        )]\n",
       "                    </summary>\n",
       "                        <span style='color: grey'>typing.Annotated[</span><table style='margin: 0;'>\n",
       "                            <tr style='background-color: transparent;'>\n",
       "                                <td style='padding: 5px 0 0 10px; text-align: left; vertical-align:top;'>\n",
       "                                str,</td>\n",
       "                            </tr><tr style='background-color: transparent;'>\n",
       "                                <td style='padding: 5px 0 0 10px; text-align: left; vertical-align:top;'>\n",
       "                                FieldInfo(annotation=NoneType, required=False, default='2003-01-01T00:00:00Z', alias='start_datetime', alias_priority=2, description=\"Date/time as string in ISO 8601 format (e.g. '2024-06-10T12:00:00Z')\")</td>\n",
       "                            </tr>\n",
       "                        </table><span style='color: grey'>]</span>\n",
       "                    </details>\n",
       "                    </td></tr>\n",
       "                    <tr ><td style='text-align: left;'>\n",
       "                        <details><summary style='color: grey;'>\n",
       "                        <span style='color: black'>'end'</span>:&ensp;\n",
       "                        typing.Annotated[<span style='color: black'>str</span>,&ensp;\n",
       "                    FieldInfo('default': '<span style='color: black'>2003-01-01T00:00:00Z</span>',&ensp;\n",
       "                            'required': <span style='color: black'>False</span>,\n",
       "                            ...\n",
       "                        )]\n",
       "                    </summary>\n",
       "                        <span style='color: grey'>typing.Annotated[</span><table style='margin: 0;'>\n",
       "                            <tr style='background-color: transparent;'>\n",
       "                                <td style='padding: 5px 0 0 10px; text-align: left; vertical-align:top;'>\n",
       "                                str,</td>\n",
       "                            </tr><tr style='background-color: transparent;'>\n",
       "                                <td style='padding: 5px 0 0 10px; text-align: left; vertical-align:top;'>\n",
       "                                FieldInfo(annotation=NoneType, required=False, default='2003-01-01T00:00:00Z', alias='end_datetime', alias_priority=2, description=\"Date/time as string in ISO 8601 format (e.g. '2024-06-10T12:00:00Z')\")</td>\n",
       "                            </tr>\n",
       "                        </table><span style='color: grey'>]</span>\n",
       "                    </details>\n",
       "                    </td></tr>\n",
       "                    </tbody></table>"
      ],
      "text/plain": [
       "{'ecmwf:variable': typing.Annotated[typing.Literal['altitude_of_plume_bottom', 'altitude_of_plume_top', 'injection_height', 'mean_altitude_of_maximum_injection', 'wildfire_combustion_rate', 'wildfire_flux_of_acetaldehyde', 'wildfire_flux_of_acetone', 'wildfire_flux_of_ammonia', 'wildfire_flux_of_benzene', 'wildfire_flux_of_black_carbon', 'wildfire_flux_of_butanes', 'wildfire_flux_of_butenes', 'wildfire_flux_of_carbon_dioxide', 'wildfire_flux_of_carbon_monoxide', 'wildfire_flux_of_dimethyl_sulfide', 'wildfire_flux_of_ethane', 'wildfire_flux_of_ethanol', 'wildfire_flux_of_ethene', 'wildfire_flux_of_formaldehyde', 'wildfire_flux_of_heptane', 'wildfire_flux_of_hexanes', 'wildfire_flux_of_hexene', 'wildfire_flux_of_higher_alkanes', 'wildfire_flux_of_higher_alkenes', 'wildfire_flux_of_hydrogen', 'wildfire_flux_of_isoprene', 'wildfire_flux_of_methane', 'wildfire_flux_of_methanol', 'wildfire_flux_of_nitrogen_oxides', 'wildfire_flux_of_nitrous_oxide', 'wildfire_flux_of_non_methane_hydrocarbons', 'wildfire_flux_of_octene', 'wildfire_flux_of_organic_carbon', 'wildfire_flux_of_particulate_matter_d_2_5_µm', 'wildfire_flux_of_pentanes', 'wildfire_flux_of_pentenes', 'wildfire_flux_of_propane', 'wildfire_flux_of_propene', 'wildfire_flux_of_sulphur_dioxide', 'wildfire_flux_of_terpenes', 'wildfire_flux_of_toluene', 'wildfire_flux_of_toluene_lump', 'wildfire_flux_of_total_carbon_in_aerosols', 'wildfire_flux_of_total_particulate_matter', 'wildfire_flux_of_xylene', 'wildfire_fraction_of_area_observed', 'wildfire_overall_flux_of_burnt_carbon', 'wildfire_radiative_power'], FieldInfo(annotation=NoneType, required=True, title='variable'), 'json_schema_required'], 'ecmwf:data_format': typing.Annotated[typing.Literal['grib', 'netcdf'], FieldInfo(annotation=NoneType, required=True, title='data_format'), 'json_schema_required'], 'start': typing.Annotated[str, FieldInfo(annotation=NoneType, required=False, default='2003-01-01T00:00:00Z', alias='start_datetime', alias_priority=2, description=\"Date/time as string in ISO 8601 format (e.g. '2024-06-10T12:00:00Z')\")], 'end': typing.Annotated[str, FieldInfo(annotation=NoneType, required=False, default='2003-01-01T00:00:00Z', alias='end_datetime', alias_priority=2, description=\"Date/time as string in ISO 8601 format (e.g. '2024-06-10T12:00:00Z')\")]}"
      ]
     },
     "execution_count": 13,
     "metadata": {},
     "output_type": "execute_result"
    }
   ],
   "source": [
    "dag.list_queryables(\n",
    "    collection=\"CAMS_GFE_GFAS\", \n",
    "    provider=\"wekeo_ecmwf\"\n",
    ")"
   ]
  },
  {
   "cell_type": "markdown",
   "metadata": {},
   "source": [
    "Search for data on this collection:"
   ]
  },
  {
   "cell_type": "code",
   "execution_count": 14,
   "metadata": {},
   "outputs": [
    {
     "data": {
      "text/html": [
       "<table>\n",
       "                <thead><tr><td style='text-align: left; color: grey;'>\n",
       "                 SearchResult&ensp;(1)\n",
       "                </td></tr></thead>\n",
       "            <tr><td style='text-align: left;'>\n",
       "                <details><summary style='color: grey; font-family: monospace;'>\n",
       "                    0&ensp;\n",
       "                    EOProduct(id=<span style='color: black;'>CAMS_GFE_GFAS_ORDERABLE_e6bed340557b2d9d6f914c7810c14cde</span>, provider=wekeo_ecmwf)\n",
       "                </summary>\n",
       "                <table>\n",
       "                <thead><tr style='background-color: transparent;'><td style='text-align: left; color: grey;'>\n",
       "                EOProduct\n",
       "                </td></tr></thead>\n",
       "\n",
       "                <tr style='background-color: transparent;'>\n",
       "                    <td style='text-align: left; vertical-align: top;'>\n",
       "                        <table style='margin: 0;'><tr style='background-color: transparent;'>\n",
       "                    <td style='padding: 5px 0 0 0; text-align: left; color: grey; vertical-align:top;'>provider:</td>\n",
       "                    <td style='padding: 5px 0 0 10px; text-align: left;'>'wekeo_ecmwf',</td>\n",
       "                </tr>\n",
       "                <tr style='background-color: transparent;'>\n",
       "                    <td style='padding: 5px 0 0 0; text-align: left; color: grey; vertical-align:top;'>collection:</td>\n",
       "                    <td style='padding: 5px 0 0 10px; text-align: left;'>'CAMS_GFE_GFAS',</td>\n",
       "                </tr>\n",
       "                <tr style='background-color: transparent;'>\n",
       "                    <td style='padding: 5px 0 0 0; text-align: left; color: grey; vertical-align:top;'>properties[&quot;id&quot;]:</td>\n",
       "                    <td style='padding: 5px 0 0 10px; text-align: left;'>'CAMS_GFE_GFAS_ORDERABLE_e6bed340557b2d9d6f914c7810c14cde',</td>\n",
       "                </tr>\n",
       "                <tr style='background-color: transparent;'>\n",
       "                    <td style='padding: 5px 0 0 0; text-align: left; color: grey; vertical-align:top;'>properties[&quot;start_datetime&quot;]:</td>\n",
       "                    <td style='padding: 5px 0 0 10px; text-align: left;'>'2018-01-01T00:00:00Z',</td>\n",
       "                </tr>\n",
       "                <tr style='background-color: transparent;'>\n",
       "                    <td style='padding: 5px 0 0 0; text-align: left; color: grey; vertical-align:top;'>properties[&quot;end_datetime&quot;]:</td>\n",
       "                    <td style='padding: 5px 0 0 10px; text-align: left;'>'2018-01-02T00:00:00Z',</td>\n",
       "                </tr>\n",
       "                </table>\n",
       "                        <details><summary style='color: grey; margin-top: 10px;'>properties:&ensp;(20)</summary><span style='color: grey;'>{</span><table style='margin: 0;'><tr style='background-color: transparent;'>\n",
       "                    <td style='padding: 5px 0 0 10px; text-align: left; color: grey; vertical-align:top;'>ecmwf:dataset:</td>\n",
       "                    <td style='padding: 5px 0 0 10px; text-align: left;'>'EO:ECMWF:DAT:CAMS_GLOBAL_FIRE_EMISSIONS_GFAS',</td>\n",
       "                </tr>\n",
       "                <tr style='background-color: transparent;'>\n",
       "                    <td style='padding: 5px 0 0 10px; text-align: left; color: grey; vertical-align:top;'>end_datetime:</td>\n",
       "                    <td style='padding: 5px 0 0 10px; text-align: left;'>'2018-01-02T00:00:00Z',</td>\n",
       "                </tr>\n",
       "                <tr style='background-color: transparent;'>\n",
       "                    <td style='padding: 5px 0 0 10px; text-align: left; color: grey; vertical-align:top;'>id:</td>\n",
       "                    <td style='padding: 5px 0 0 10px; text-align: left;'>'CAMS_GFE_GFAS_ORDERABLE_e6bed340557b2d9d6f914c7810c14cde',</td>\n",
       "                </tr>\n",
       "                <tr style='background-color: transparent;'>\n",
       "                    <td style='padding: 5px 0 0 10px; text-align: left; color: grey; vertical-align:top;'>start_datetime:</td>\n",
       "                    <td style='padding: 5px 0 0 10px; text-align: left;'>'2018-01-01T00:00:00Z',</td>\n",
       "                </tr>\n",
       "                <tr style='background-color: transparent;'>\n",
       "                    <td style='padding: 5px 0 0 10px; text-align: left; color: grey; vertical-align:top;'>title:</td>\n",
       "                    <td style='padding: 5px 0 0 10px; text-align: left;'>'CAMS_GFE_GFAS_ORDERABLE_e6bed340557b2d9d6f914c7810c14cde',</td>\n",
       "                </tr>\n",
       "                <tr style='background-color: transparent;'>\n",
       "                    <td style='padding: 5px 0 0 10px; text-align: left; color: grey; vertical-align:top;'>ecmwf:type:</td>\n",
       "                    <td style='padding: 5px 0 0 10px; text-align: left;'>'Feature',</td>\n",
       "                </tr>\n",
       "                <tr style='background-color: transparent;'>\n",
       "                    <td style='padding: 5px 0 0 10px; text-align: left; color: grey; vertical-align:top;'>eodag:default_geometry:</td>\n",
       "                    <td style='padding: 5px 0 0 10px; text-align: left;'>'POLYGON((180 -90, 180 90, -180 90, -180 -90, 180 -90))',</td>\n",
       "                </tr>\n",
       "                <tr style='background-color: transparent;'>\n",
       "                    <td style='padding: 5px 0 0 10px; text-align: left; color: grey; vertical-align:top;'>eodag:download_link:</td>\n",
       "                    <td style='padding: 5px 0 0 10px; text-align: left;'>'%7B%22variable%22%3A%20%22wildfire_flux_of_total_carbon_in_aerosols%22%2C%20%22data_format%22%3A%20%22grib%22%2C%20%22area%22%3A%20%5B43.9%2C%200.25%2C%2043.2%2C%202.8%5D%2C%20%22date%22%3A%20%222018-01-01/2018-01-02%22%7D',</td>\n",
       "                </tr>\n",
       "                <tr style='background-color: transparent;'>\n",
       "                    <td style='padding: 5px 0 0 10px; text-align: left; color: grey; vertical-align:top;'>eodag:order_link:</td>\n",
       "                    <td style='padding: 5px 0 0 10px; text-align: left;'>'<a href='https://gateway.prod.wekeo2.eu/hda-broker/api/v1/dataaccess/download?{\"location\": \"%7B%22variable%22%3A%20%22wildfire_flux_of_total_carbon_in_aerosols%22%2C%20%22data_format%22%3A%20%22grib%22%2C%20%22area%22%3A%20%5B43.9%2C%200.25%2C%2043.2%2C%202.8%5D%2C%20%22date%22%3A%20%222018-01-01/2018-01-02%22%7D\",\"product_id\":\"cams-global-fire-emissions-gfas-e6bed340557b2d9d6f914c7810c14cde\", \"dataset_id\": \"EO:ECMWF:DAT:CAMS_GLOBAL_FIRE_EMISSIONS_GFAS\"}' target='_blank'>https://gateway.prod.wekeo2.eu/hda-broker/api/v1/dataaccess/download?{\"location\": \"%7B%22variable%22%3A%20%22wildfire_flux_of_total_carbon_in_aerosols%22%2C%20%22data_format%22%3A%20%22grib%22%2C%20%22area%22%3A%20%5B43.9%2C%200.25%2C%2043.2%2C%202.8%5D%2C%20%22date%22%3A%20%222018-01-01/2018-01-02%22%7D\",\"product_id\":\"cams-global-fire-emissions-gfas-e6bed340557b2d9d6f914c7810c14cde\", \"dataset_id\": \"EO:ECMWF:DAT:CAMS_GLOBAL_FIRE_EMISSIONS_GFAS\"}</a>',</td>\n",
       "                </tr>\n",
       "                <tr style='background-color: transparent;'>\n",
       "                    <td style='padding: 5px 0 0 10px; text-align: left; color: grey; vertical-align:top;'>order:status:</td>\n",
       "                    <td style='padding: 5px 0 0 10px; text-align: left;'>'orderable',</td>\n",
       "                </tr>\n",
       "                <tr style='background-color: transparent;'>\n",
       "                    <td style='padding: 5px 0 0 10px; text-align: left; color: grey; vertical-align:top;'>product:type:</td>\n",
       "                    <td style='padding: 5px 0 0 10px; text-align: left;'>'EO:ECMWF:DAT:CAMS_GLOBAL_FIRE_EMISSIONS_GFAS',</td>\n",
       "                </tr>\n",
       "                <tr style='background-color: transparent;'>\n",
       "                    <td style='padding: 5px 0 0 10px; text-align: left; color: grey; vertical-align:top;'>startdate:</td>\n",
       "                    <td style='padding: 5px 0 0 10px; text-align: left;'>'2018-01-01T00:00:00.000Z',</td>\n",
       "                </tr>\n",
       "                <tr style='background-color: transparent;'>\n",
       "                    <td style='padding: 5px 0 0 10px; text-align: left; color: grey; vertical-align:top;'>enddate:</td>\n",
       "                    <td style='padding: 5px 0 0 10px; text-align: left;'>'2018-01-02T00:00:00.000Z',</td>\n",
       "                </tr>\n",
       "                <tr style='background-color: transparent;'>\n",
       "                    <td style='padding: 5px 0 0 10px; text-align: left; color: grey; vertical-align:top;'>ecmwf:variable:</td>\n",
       "                    <td style='padding: 5px 0 0 10px; text-align: left;'>'wildfire_flux_of_total_carbon_in_aerosols',</td>\n",
       "                </tr>\n",
       "                <tr style='background-color: transparent;'>\n",
       "                    <td style='padding: 5px 0 0 10px; text-align: left; color: grey; vertical-align:top;'>ecmwf:data_format:</td>\n",
       "                    <td style='padding: 5px 0 0 10px; text-align: left;'>'grib',</td>\n",
       "                </tr>\n",
       "                <tr style='background-color: transparent;'>\n",
       "                    <td style='padding: 5px 0 0 10px; text-align: left; color: grey; vertical-align:top;'>bbox:</td>\n",
       "                    <td style='padding: 5px 0 0 10px; text-align: left;'><span style='color: grey;'>[</span><span style='text-align: left;'>0.25</span>\n",
       "            , <span style='text-align: left;'>43.2</span>\n",
       "            , <span style='text-align: left;'>2.8</span>\n",
       "            , <span style='text-align: left;'>43.9</span>\n",
       "            <span style='color: grey;'>]</span>,</td>\n",
       "                </tr>\n",
       "                <tr style='background-color: transparent;'>\n",
       "                    <td style='padding: 5px 0 0 10px; text-align: left; color: grey; vertical-align:top;'>dataset_id:</td>\n",
       "                    <td style='padding: 5px 0 0 10px; text-align: left;'>'EO:ECMWF:DAT:CAMS_GLOBAL_FIRE_EMISSIONS_GFAS',</td>\n",
       "                </tr>\n",
       "                <tr style='background-color: transparent;'>\n",
       "                    <td style='padding: 5px 0 0 10px; text-align: left; color: grey; vertical-align:top;'>itemsPerPage:</td>\n",
       "                    <td style='padding: 5px 0 0 10px; text-align: left;'>20,</td>\n",
       "                </tr>\n",
       "                <tr style='background-color: transparent;'>\n",
       "                    <td style='padding: 5px 0 0 10px; text-align: left; color: grey; vertical-align:top;'>startIndex:</td>\n",
       "                    <td style='padding: 5px 0 0 10px; text-align: left;'>0,</td>\n",
       "                </tr>\n",
       "                <tr style='background-color: transparent;'>\n",
       "                    <td style='padding: 5px 0 0 10px; text-align: left; color: grey; vertical-align:top;'>_dc_qs:</td>\n",
       "                    <td style='padding: 5px 0 0 10px; text-align: left;'>'%7B%22startdate%22%3A%222018-01-01T00%3A00%3A00.000Z%22%2C%22enddate%22%3A%222018-01-02T00%3A00%3A00.000Z%22%2C%22variable%22%3A%22wildfire_flux_of_total_carbon_in_aerosols%22%2C%22data_format%22%3A%22grib%22%2C%22bbox%22%3A%5B0.25%2C43.2%2C2.8%2C43.9%5D%2C%22dataset_id%22%3A%22EO%3AECMWF%3ADAT%3ACAMS_GLOBAL_FIRE_EMISSIONS_GFAS%22%2C%22itemsPerPage%22%3A20%2C%22startIndex%22%3A0%7D',</td>\n",
       "                </tr>\n",
       "                </table><span style='color: grey;'>}</span></details>\n",
       "                        <details><summary style='color: grey; margin-top: 10px;'>assets:&ensp;(0)</summary><table></table></details>\n",
       "                    </td>\n",
       "                    <td style='color: grey; text-align: center; min-width:100px; vertical-align: top;' title='geometry'>geometry<br /><svg xmlns=\"http://www.w3.org/2000/svg\" xmlns:xlink=\"http://www.w3.org/1999/xlink\" width=\"100.0\" height=\"100.0\" viewBox=\"0.14800000000000002 43.098000000000006 2.7539999999999996 0.9039999999999893\" preserveAspectRatio=\"xMinYMin meet\"><g transform=\"matrix(1,0,0,-1,0,87.1)\"><path fill-rule=\"evenodd\" fill=\"#66cc99\" stroke=\"#555555\" stroke-width=\"0.05507999999999999\" opacity=\"0.6\" d=\"M 0.25,43.9 L 0.25,43.2 L 2.8,43.2 L 2.8,43.9 L 0.25,43.9 z\" /></g></svg></td>\n",
       "                    <td style='padding-top: 1.5em; min-width:100px; vertical-align: top;' title='properties[&quot;thumbnail&quot;]'></td>\n",
       "                </tr>\n",
       "            </table>\n",
       "                </details>\n",
       "                </td></tr>\n",
       "                </table>"
      ],
      "text/plain": [
       "SearchResult([EOProduct(id=CAMS_GFE_GFAS_ORDERABLE_e6bed340557b2d9d6f914c7810c14cde, provider=wekeo_ecmwf)])"
      ]
     },
     "execution_count": 14,
     "metadata": {},
     "output_type": "execute_result"
    }
   ],
   "source": [
    "products = dag.search(\n",
    "    collection=\"CAMS_GFE_GFAS\", \n",
    "    start=\"2018-01-01\", \n",
    "    end=\"2018-01-02\", \n",
    "    geom=[0.25, 43.2, 2.8, 43.9],\n",
    "    provider=\"wekeo_ecmwf\",\n",
    "    **{\n",
    "        'ecmwf:variable': 'wildfire_flux_of_total_carbon_in_aerosols',\n",
    "        'ecmwf:data_format': 'grib',\n",
    "    }\n",
    ")\n",
    "products"
   ]
  },
  {
   "cell_type": "markdown",
   "metadata": {},
   "source": [
    "Download found product to `/tmp`, changing wait time to 12s (0.2') between product order and download retries:"
   ]
  },
  {
   "cell_type": "code",
   "execution_count": 15,
   "metadata": {},
   "outputs": [
    {
     "data": {
      "application/vnd.jupyter.widget-view+json": {
       "model_id": "bc996fb6dc9f4641b625c410e690da3b",
       "version_major": 2,
       "version_minor": 0
      },
      "text/plain": [
       "0.00B [00:00, ?B/s]"
      ]
     },
     "metadata": {},
     "output_type": "display_data"
    },
    {
     "data": {
      "text/html": [
       "[Retry #3] Waiting 11.709685s until next order status check (retry every 0.2' for 10')"
      ],
      "text/plain": [
       "<IPython.core.display.HTML object>"
      ]
     },
     "metadata": {},
     "output_type": "display_data"
    },
    {
     "data": {
      "text/plain": [
       "'/tmp/CAMS_GFE_GFAS_68f62e55b6f16ef4c6509884'"
      ]
     },
     "execution_count": 15,
     "metadata": {},
     "output_type": "execute_result"
    }
   ],
   "source": [
    "path = products[0].download(output_dir=\"/tmp\", wait=0.2)\n",
    "path"
   ]
  },
  {
   "cell_type": "markdown",
   "metadata": {},
   "source": [
    "## The WEkEO data viewer\n",
    "\n",
    "If you go to the WEkEO [homepage](https://www.wekeo.eu) and click on \"Data\" in the top menu, you can search for products online. You can choose a collection (called dataset in WEkEO) by clicking on the \"+\" button next to \"Layers\" on the left side. Then you can choose some filter parameters and create a data request job which will show up in the next tab where the products can be downloaded. The data viewer currently still uses the old version of the API where data requests have to be created to search product. In contrast, the latest version of EODAG already uses the new API (https://gateway.prod.wekeo2.eu/hda-broker/api/v1) where a direct search without data requests is possible."
   ]
  }
 ],
 "metadata": {
  "kernelspec": {
   "display_name": "Python 3 (ipykernel)",
   "language": "python",
   "name": "python3"
  },
  "language_info": {
   "codemirror_mode": {
    "name": "ipython",
    "version": 3
   },
   "file_extension": ".py",
   "mimetype": "text/x-python",
   "name": "python",
   "nbconvert_exporter": "python",
   "pygments_lexer": "ipython3",
   "version": "3.9.20"
  },
  "widgets": {
   "application/vnd.jupyter.widget-state+json": {
    "state": {
     "02fd431bf8d34ea98e9ed6b622913c66": {
      "model_module": "@jupyter-widgets/base",
      "model_module_version": "2.0.0",
      "model_name": "LayoutModel",
      "state": {
       "display": "inline-flex",
       "flex_flow": "row wrap",
       "width": "100%"
      }
     },
     "0a4dde8a10524c02a5a8c6e5487b6ab1": {
      "model_module": "@jupyter-widgets/controls",
      "model_module_version": "2.0.0",
      "model_name": "HTMLModel",
      "state": {
       "layout": "IPY_MODEL_db972175f403467398058828ae530e1a",
       "style": "IPY_MODEL_1b1eda45d71c4e3c83b4b0663abec756",
       "value": " 0.00/? [00:00&lt;?, ?B/s]"
      }
     },
     "167df194d8db456f95c9b2179c63ebb8": {
      "model_module": "@jupyter-widgets/controls",
      "model_module_version": "2.0.0",
      "model_name": "FloatProgressModel",
      "state": {
       "bar_style": "info",
       "layout": "IPY_MODEL_4507aea7b7ba45109d5fe63abcebd3a9",
       "max": 1,
       "style": "IPY_MODEL_ccffd86dc9e649dea7b850a4830e525c"
      }
     },
     "1a004f611e1d4d029c3ae1ba1182c08c": {
      "model_module": "@jupyter-widgets/controls",
      "model_module_version": "2.0.0",
      "model_name": "HTMLModel",
      "state": {
       "layout": "IPY_MODEL_d64bf9fad2ce4d20a61c0e36279c0f74",
       "style": "IPY_MODEL_e3ec276e64114c6184ef0dc8f848ebf4",
       "value": "UERRA_EUROPE_SL_ORDERABLE_ed0bb04e2c85b8f34ac184ba27028471: "
      }
     },
     "1b1eda45d71c4e3c83b4b0663abec756": {
      "model_module": "@jupyter-widgets/controls",
      "model_module_version": "2.0.0",
      "model_name": "HTMLStyleModel",
      "state": {
       "description_width": "",
       "font_size": null,
       "text_color": null
      }
     },
     "20d63c36de6b465786ddb1fd19fde525": {
      "model_module": "@jupyter-widgets/base",
      "model_module_version": "2.0.0",
      "model_name": "LayoutModel",
      "state": {}
     },
     "32c748b9537a4c46b7d2e41e8af53a9d": {
      "model_module": "@jupyter-widgets/base",
      "model_module_version": "2.0.0",
      "model_name": "LayoutModel",
      "state": {}
     },
     "337d3228c8a048e08443d69f1bb2d230": {
      "model_module": "@jupyter-widgets/controls",
      "model_module_version": "2.0.0",
      "model_name": "HTMLStyleModel",
      "state": {
       "description_width": "",
       "font_size": null,
       "text_color": null
      }
     },
     "348af215e1184e1fb03a62a868140467": {
      "model_module": "@jupyter-widgets/controls",
      "model_module_version": "2.0.0",
      "model_name": "ProgressStyleModel",
      "state": {
       "description_width": ""
      }
     },
     "3510da0a87454934994490a41d0d2212": {
      "model_module": "@jupyter-widgets/controls",
      "model_module_version": "2.0.0",
      "model_name": "FloatProgressModel",
      "state": {
       "bar_style": "success",
       "layout": "IPY_MODEL_c24298b8bd8244e09a5687e09bc55740",
       "max": 1880,
       "style": "IPY_MODEL_348af215e1184e1fb03a62a868140467",
       "value": 1880
      }
     },
     "3782cf0be7fc4083af33ca5fe9b3a938": {
      "model_module": "@jupyter-widgets/base",
      "model_module_version": "2.0.0",
      "model_name": "LayoutModel",
      "state": {}
     },
     "40b3ccdfab954cf8a477232c13fe29bd": {
      "model_module": "@jupyter-widgets/controls",
      "model_module_version": "2.0.0",
      "model_name": "HTMLStyleModel",
      "state": {
       "description_width": "",
       "font_size": null,
       "text_color": null
      }
     },
     "4189685215324058b6e5a02659d5eb3c": {
      "model_module": "@jupyter-widgets/base",
      "model_module_version": "2.0.0",
      "model_name": "LayoutModel",
      "state": {}
     },
     "4507aea7b7ba45109d5fe63abcebd3a9": {
      "model_module": "@jupyter-widgets/base",
      "model_module_version": "2.0.0",
      "model_name": "LayoutModel",
      "state": {
       "flex": "2"
      }
     },
     "4cc398d28f0442d5b703227596f7b1c1": {
      "model_module": "@jupyter-widgets/controls",
      "model_module_version": "2.0.0",
      "model_name": "FloatProgressModel",
      "state": {
       "bar_style": "info",
       "layout": "IPY_MODEL_9b4de86871d2413a85e516973746a4aa",
       "max": 1,
       "style": "IPY_MODEL_a5aa03ac8ff245ddb80befd0e0668869"
      }
     },
     "5694be402a294374b2a0b4381216c508": {
      "model_module": "@jupyter-widgets/controls",
      "model_module_version": "2.0.0",
      "model_name": "FloatProgressModel",
      "state": {
       "bar_style": "info",
       "layout": "IPY_MODEL_b13d5ee4c39b44d1bf9f11b9b0486b6b",
       "max": 1,
       "style": "IPY_MODEL_e65b5d6292184950add9fb8fdb0f48e0"
      }
     },
     "58e4760f622247d7bf76ce8b08c80d30": {
      "model_module": "@jupyter-widgets/base",
      "model_module_version": "2.0.0",
      "model_name": "LayoutModel",
      "state": {
       "display": "inline-flex",
       "flex_flow": "row wrap",
       "width": "100%"
      }
     },
     "6c7ab8ee4fac46bc9b73c94b23c1fa0f": {
      "model_module": "@jupyter-widgets/controls",
      "model_module_version": "2.0.0",
      "model_name": "HBoxModel",
      "state": {
       "children": [
        "IPY_MODEL_fc7865c44d214a06a2c9c7a33931b55c",
        "IPY_MODEL_4cc398d28f0442d5b703227596f7b1c1",
        "IPY_MODEL_0a4dde8a10524c02a5a8c6e5487b6ab1"
       ],
       "layout": "IPY_MODEL_fa20248010e14ebaa21c10da9693e4c8"
      }
     },
     "706e070d3adf44b585adab0e955979e5": {
      "model_module": "@jupyter-widgets/base",
      "model_module_version": "2.0.0",
      "model_name": "LayoutModel",
      "state": {
       "display": "inline-flex",
       "flex_flow": "row wrap",
       "width": "100%"
      }
     },
     "7430f1f3e59147889962db611503f914": {
      "model_module": "@jupyter-widgets/controls",
      "model_module_version": "2.0.0",
      "model_name": "HBoxModel",
      "state": {
       "children": [
        "IPY_MODEL_99bdeaafd8d44be8ae6adcfe01c24b97",
        "IPY_MODEL_5694be402a294374b2a0b4381216c508",
        "IPY_MODEL_97bb725809664ab691999d97e6127cb9"
       ],
       "layout": "IPY_MODEL_58e4760f622247d7bf76ce8b08c80d30"
      }
     },
     "7e35c221edb9440884d05e3fe8a0abda": {
      "model_module": "@jupyter-widgets/controls",
      "model_module_version": "2.0.0",
      "model_name": "HTMLStyleModel",
      "state": {
       "description_width": "",
       "font_size": null,
       "text_color": null
      }
     },
     "94309821221a4bfda72d6118633a13b9": {
      "model_module": "@jupyter-widgets/controls",
      "model_module_version": "2.0.0",
      "model_name": "HBoxModel",
      "state": {
       "children": [
        "IPY_MODEL_1a004f611e1d4d029c3ae1ba1182c08c",
        "IPY_MODEL_167df194d8db456f95c9b2179c63ebb8",
        "IPY_MODEL_fcf7defce92b4a7097083f1b1c83e04c"
       ],
       "layout": "IPY_MODEL_02fd431bf8d34ea98e9ed6b622913c66"
      }
     },
     "97bb725809664ab691999d97e6127cb9": {
      "model_module": "@jupyter-widgets/controls",
      "model_module_version": "2.0.0",
      "model_name": "HTMLModel",
      "state": {
       "layout": "IPY_MODEL_20d63c36de6b465786ddb1fd19fde525",
       "style": "IPY_MODEL_7e35c221edb9440884d05e3fe8a0abda",
       "value": " 0.00/? [00:00&lt;?, ?B/s]"
      }
     },
     "99bdeaafd8d44be8ae6adcfe01c24b97": {
      "model_module": "@jupyter-widgets/controls",
      "model_module_version": "2.0.0",
      "model_name": "HTMLModel",
      "state": {
       "layout": "IPY_MODEL_e23852eef73e48c7b22e48393cbeed48",
       "style": "IPY_MODEL_a6b72ad65d5745258dc0d0ff34fe8dfe",
       "value": "UERRA_EUROPE_SL_ORDERABLE_ed0bb04e2c85b8f34ac184ba27028471: "
      }
     },
     "9b4de86871d2413a85e516973746a4aa": {
      "model_module": "@jupyter-widgets/base",
      "model_module_version": "2.0.0",
      "model_name": "LayoutModel",
      "state": {
       "flex": "2"
      }
     },
     "9e717b0686c94727bcfa10f6ec96e6e2": {
      "model_module": "@jupyter-widgets/controls",
      "model_module_version": "2.0.0",
      "model_name": "HTMLModel",
      "state": {
       "layout": "IPY_MODEL_c3db67a9375d427292d456701a727537",
       "style": "IPY_MODEL_d0e182090b594b7b8cb86552c86f7748",
       "value": "CAMS_GFE_GFAS_ORDERABLE_e6bed340557b2d9d6f914c7810c14cde: 100%"
      }
     },
     "a51821bf10a5490287a94c1629630959": {
      "model_module": "@jupyter-widgets/controls",
      "model_module_version": "2.0.0",
      "model_name": "HTMLModel",
      "state": {
       "layout": "IPY_MODEL_32c748b9537a4c46b7d2e41e8af53a9d",
       "style": "IPY_MODEL_40b3ccdfab954cf8a477232c13fe29bd",
       "value": " 1.88k/1.88k [00:00&lt;00:00, 183kB/s]"
      }
     },
     "a5aa03ac8ff245ddb80befd0e0668869": {
      "model_module": "@jupyter-widgets/controls",
      "model_module_version": "2.0.0",
      "model_name": "ProgressStyleModel",
      "state": {
       "description_width": ""
      }
     },
     "a6b72ad65d5745258dc0d0ff34fe8dfe": {
      "model_module": "@jupyter-widgets/controls",
      "model_module_version": "2.0.0",
      "model_name": "HTMLStyleModel",
      "state": {
       "description_width": "",
       "font_size": null,
       "text_color": null
      }
     },
     "b13d5ee4c39b44d1bf9f11b9b0486b6b": {
      "model_module": "@jupyter-widgets/base",
      "model_module_version": "2.0.0",
      "model_name": "LayoutModel",
      "state": {
       "flex": "2"
      }
     },
     "bc996fb6dc9f4641b625c410e690da3b": {
      "model_module": "@jupyter-widgets/controls",
      "model_module_version": "2.0.0",
      "model_name": "HBoxModel",
      "state": {
       "children": [
        "IPY_MODEL_9e717b0686c94727bcfa10f6ec96e6e2",
        "IPY_MODEL_3510da0a87454934994490a41d0d2212",
        "IPY_MODEL_a51821bf10a5490287a94c1629630959"
       ],
       "layout": "IPY_MODEL_706e070d3adf44b585adab0e955979e5"
      }
     },
     "c24298b8bd8244e09a5687e09bc55740": {
      "model_module": "@jupyter-widgets/base",
      "model_module_version": "2.0.0",
      "model_name": "LayoutModel",
      "state": {
       "flex": "2"
      }
     },
     "c3db67a9375d427292d456701a727537": {
      "model_module": "@jupyter-widgets/base",
      "model_module_version": "2.0.0",
      "model_name": "LayoutModel",
      "state": {}
     },
     "ccffd86dc9e649dea7b850a4830e525c": {
      "model_module": "@jupyter-widgets/controls",
      "model_module_version": "2.0.0",
      "model_name": "ProgressStyleModel",
      "state": {
       "description_width": ""
      }
     },
     "d0e182090b594b7b8cb86552c86f7748": {
      "model_module": "@jupyter-widgets/controls",
      "model_module_version": "2.0.0",
      "model_name": "HTMLStyleModel",
      "state": {
       "description_width": "",
       "font_size": null,
       "text_color": null
      }
     },
     "d64bf9fad2ce4d20a61c0e36279c0f74": {
      "model_module": "@jupyter-widgets/base",
      "model_module_version": "2.0.0",
      "model_name": "LayoutModel",
      "state": {}
     },
     "db972175f403467398058828ae530e1a": {
      "model_module": "@jupyter-widgets/base",
      "model_module_version": "2.0.0",
      "model_name": "LayoutModel",
      "state": {}
     },
     "e23852eef73e48c7b22e48393cbeed48": {
      "model_module": "@jupyter-widgets/base",
      "model_module_version": "2.0.0",
      "model_name": "LayoutModel",
      "state": {}
     },
     "e3ec276e64114c6184ef0dc8f848ebf4": {
      "model_module": "@jupyter-widgets/controls",
      "model_module_version": "2.0.0",
      "model_name": "HTMLStyleModel",
      "state": {
       "description_width": "",
       "font_size": null,
       "text_color": null
      }
     },
     "e65b5d6292184950add9fb8fdb0f48e0": {
      "model_module": "@jupyter-widgets/controls",
      "model_module_version": "2.0.0",
      "model_name": "ProgressStyleModel",
      "state": {
       "description_width": ""
      }
     },
     "f76e35f433974838b893b5f3fff9bf35": {
      "model_module": "@jupyter-widgets/controls",
      "model_module_version": "2.0.0",
      "model_name": "HTMLStyleModel",
      "state": {
       "description_width": "",
       "font_size": null,
       "text_color": null
      }
     },
     "fa20248010e14ebaa21c10da9693e4c8": {
      "model_module": "@jupyter-widgets/base",
      "model_module_version": "2.0.0",
      "model_name": "LayoutModel",
      "state": {
       "display": "inline-flex",
       "flex_flow": "row wrap",
       "width": "100%"
      }
     },
     "fc7865c44d214a06a2c9c7a33931b55c": {
      "model_module": "@jupyter-widgets/controls",
      "model_module_version": "2.0.0",
      "model_name": "HTMLModel",
      "state": {
       "layout": "IPY_MODEL_3782cf0be7fc4083af33ca5fe9b3a938",
       "style": "IPY_MODEL_337d3228c8a048e08443d69f1bb2d230",
       "value": "UERRA_EUROPE_SL_ORDERABLE_ed0bb04e2c85b8f34ac184ba27028471: "
      }
     },
     "fcf7defce92b4a7097083f1b1c83e04c": {
      "model_module": "@jupyter-widgets/controls",
      "model_module_version": "2.0.0",
      "model_name": "HTMLModel",
      "state": {
       "layout": "IPY_MODEL_4189685215324058b6e5a02659d5eb3c",
       "style": "IPY_MODEL_f76e35f433974838b893b5f3fff9bf35",
       "value": " 0.00/? [00:00&lt;?, ?B/s]"
      }
     }
    },
    "version_major": 2,
    "version_minor": 0
   }
  }
 },
 "nbformat": 4,
 "nbformat_minor": 4
}
