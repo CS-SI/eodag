{
 "cells": [
  {
   "cell_type": "markdown",
   "metadata": {},
   "source": [
    "# The wekeo provider in EODAG\n",
    "\n",
    "This tutorial will show you how use EODAG to download data from [WEkEO](https://www.wekeo.eu/) using `eodag`. WEkEO offers a wide range of Copernicus and Sentinel products."
   ]
  },
  {
   "cell_type": "markdown",
   "metadata": {},
   "source": [
    "## Registration\n",
    "\n",
    "For both, searching and downloading data, authentication is required. Therefore, you first have to create an account on [https://www.wekeo.eu/](https://www.wekeo.eu/) to get a username and a password which have to be added to the EODAG configuration (see [Configure EODAG](https://eodag.readthedocs.io/en/stable/getting_started_guide/configure.html#configure)). After registration you also have to accept the Terms and Conditions to be able to retrieve data from EODAG. This has to be done once per user by sending the following API requests:\n",
    "\n",
    "At first you have to get an access token using your credentials:\n",
    "\n",
    "    curl -X GET --header 'Authorization: Basic <credentials>' 'https://wekeo-broker.apps.mercator.dpi.wekeo.eu/databroker/gettoken'\n",
    "\n",
    "Then you can send another request to accept the Terms and Conditions using the token:\n",
    "\n",
    "    curl --request PUT --header 'accept: application/json' --header 'authorization: <access_token>' --data 'accepted=true' https://wekeo-broker.apps.mercator.dpi.wekeo.eu/databroker/termsaccepted/Copernicus_General_License"
   ]
  },
  {
   "cell_type": "markdown",
   "metadata": {},
   "source": [
    "## Searching data\n",
    "\n",
    "Currently 22 product types offered by wekeo can be browsed with EODAG (mainly Sentinel data). More product types will be added in the future. You can list the currently available product types with "
   ]
  },
  {
   "cell_type": "code",
   "execution_count": null,
   "metadata": {},
   "outputs": [],
   "source": [
    "from eodag import EODataAccessGateway\n",
    "dag = EODataAccessGateway()\n",
    "dag.list_product_types(\"wekeo\")"
   ]
  },
  {
   "cell_type": "markdown",
   "metadata": {},
   "source": [
    "using the python API or"
   ]
  },
  {
   "cell_type": "markdown",
   "metadata": {},
   "source": [
    "    eodag list -p wekeo\n",
    "\n",
    "using the CLI."
   ]
  },
  {
   "cell_type": "markdown",
   "metadata": {},
   "source": [
    "NOTE: Not all of the product types support all standard EODAG filter parameters used in the search request. For example, for the EUMETSAT Sentinel-3 products (e.g. S3_WAT) the bbox filter is not available. For COP_DEM_GLO30 no datetime filter is available (because the data only inlcudes one model). "
   ]
  },
  {
   "cell_type": "markdown",
   "metadata": {},
   "source": [
    "When a search request is sent to EODAG, EODAG will automatically create a data request job in WEkEO, check its status and retrieve the data when it is ready. The created data request jobs can also be checked in the WEkEO data viewer (see next chapter)."
   ]
  },
  {
   "cell_type": "markdown",
   "metadata": {},
   "source": [
    "## The WEkEO data viewer\n",
    "\n",
    "If you go to the WEkEO [homepage](https://www.wekeo.eu) and click on \"Data\" in the top menu, you can search for products online. You can choose a product type (called dataset in WEkEO) by clicking on the \"+\" button next to \"Layers\" on the left side. Then you can choose some filter parameters and create a data request job which will show up in the next tab. If you are logged in with the same user that is configured for EODAG, you can also see the jobs created by EODAG. You can use this functionality to check their status and to directly download the products that have been found."
   ]
  },
  {
   "cell_type": "markdown",
   "metadata": {},
   "source": [
    "## Download products\n",
    "\n",
    "To download products from WEkEO an order request job has to be created. When this job is completed, the product can be downloaded. EODAG will automatically do these steps for you when you send a download request to its API."
   ]
  }
 ],
 "metadata": {
  "language_info": {
   "name": "python"
  },
  "orig_nbformat": 4
 },
 "nbformat": 4,
 "nbformat_minor": 2
}
