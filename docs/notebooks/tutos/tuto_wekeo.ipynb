{
 "cells": [
  {
   "cell_type": "markdown",
   "metadata": {},
   "source": [
    "# The wekeo provider in EODAG\n",
    "\n",
    "This tutorial will show you how use EODAG to download data from [WEkEO](https://www.wekeo.eu/) using `eodag`. WEkEO offers a wide range of Copernicus and Sentinel products."
   ]
  },
  {
   "cell_type": "markdown",
   "metadata": {},
   "source": [
    "## Registration\n",
    "\n",
    "For both, searching and downloading data, authentication is required. Therefore, you first have to create an account on [https://www.wekeo.eu/](https://www.wekeo.eu/) to get a `username` and a `password` which have to be added to the EODAG configuration (see [Configure EODAG](https://eodag.readthedocs.io/en/stable/getting_started_guide/configure.html#configure)). After registration you also have to accept the Terms and Conditions for the datasets you want to use to be able to retrieve data from EODAG. This has to be done once per user and licence by executing the following code where licence_name has to be set to the desired licence (see list below):"
   ]
  },
  {
   "cell_type": "code",
   "execution_count": 1,
   "metadata": {
    "tags": []
   },
   "outputs": [],
   "source": [
    "import requests\n",
    "from eodag import EODataAccessGateway\n",
    "\n",
    "# instantiate EODAG API\n",
    "dag = EODataAccessGateway()\n",
    "\n",
    "# Authenticate on wekeo\n",
    "auth = dag._plugins_manager.get_auth_plugin(\"wekeo\").authenticate()\n",
    "licence_name = \"EUMETSAT_Copernicus_Data_Licence\"\n",
    "\n",
    "# Use your authentication to accept Terms and Conditions\n",
    "response = requests.put(\n",
    "    f\"https://gateway.prod.wekeo2.eu/hda-broker/api/v1/termsaccepted/{licence_name}\",\n",
    "    auth=auth,\n",
    ")"
   ]
  },
  {
   "cell_type": "markdown",
   "metadata": {},
   "source": [
    "Depending on which data you want to use, different licences have to be accepted. If you want to use all the product types available in EODAG for the provider `wekeo`, the following licences have to be accepted:\n",
    "      \n",
    "* EUMETSAT_Copernicus_Data_Licence\n",
    "* Copernicus_Land_Monitoring_Service_Data_Policy\n",
    "* Copernicus_Sentinel_License\n",
    "* Copernicus_ECMWF_License\n",
    "* Copernicus_DEM_Instance_COP-DEM-GLO-30-F_Global_30m\n",
    "* Copernicus_DEM_Instance_COP-DEM-GLO-90-F_Global_90m\n",
    "\n",
    "To access the products of the provider `wekeo_cmems` the licence Copernicus_Marine_Service_Product_License has to be accepted."
   ]
  },
  {
   "cell_type": "markdown",
   "metadata": {},
   "source": [
    "## Search and download data"
   ]
  },
  {
   "cell_type": "markdown",
   "metadata": {},
   "source": [
    "Many product types are available for `wekeo` provider:"
   ]
  },
  {
   "cell_type": "code",
   "execution_count": 2,
   "metadata": {
    "tags": []
   },
   "outputs": [
    {
     "data": {
      "text/plain": [
       "81"
      ]
     },
     "execution_count": 2,
     "metadata": {},
     "output_type": "execute_result"
    }
   ],
   "source": [
    "wekeo_product_types = dag.list_product_types(\"wekeo\")\n",
    "len(wekeo_product_types)"
   ]
  },
  {
   "cell_type": "code",
   "execution_count": 3,
   "metadata": {
    "tags": []
   },
   "outputs": [
    {
     "data": {
      "text/plain": [
       "['CAMS_EAC4',\n",
       " 'CAMS_EAC4_MONTHLY',\n",
       " 'CAMS_EU_AIR_QUALITY_FORECAST',\n",
       " 'CAMS_EU_AIR_QUALITY_RE',\n",
       " 'CAMS_GAC_FORECAST',\n",
       " 'CAMS_GLOBAL_EMISSIONS',\n",
       " 'CAMS_GREENHOUSE_EGG4',\n",
       " 'CAMS_GREENHOUSE_EGG4_MONTHLY',\n",
       " 'CAMS_GREENHOUSE_INVERSION',\n",
       " 'CAMS_GRF',\n",
       " 'CAMS_GRF_AUX',\n",
       " 'CAMS_SOLAR_RADIATION',\n",
       " 'CLMS_CORINE',\n",
       " 'CLMS_GLO_DMP_333M',\n",
       " 'CLMS_GLO_FAPAR_333M',\n",
       " 'CLMS_GLO_FCOVER_333M',\n",
       " 'CLMS_GLO_GDMP_333M',\n",
       " 'CLMS_GLO_LAI_333M',\n",
       " 'CLMS_GLO_NDVI_1KM_LTS',\n",
       " 'CLMS_GLO_NDVI_333M',\n",
       " 'COP_DEM_GLO30_DGED',\n",
       " 'COP_DEM_GLO30_DTED',\n",
       " 'COP_DEM_GLO90_DGED',\n",
       " 'COP_DEM_GLO90_DTED',\n",
       " 'EEA_DAILY_VI',\n",
       " 'EFAS_FORECAST',\n",
       " 'EFAS_HISTORICAL',\n",
       " 'EFAS_REFORECAST',\n",
       " 'EFAS_SEASONAL',\n",
       " 'EFAS_SEASONAL_REFORECAST',\n",
       " 'ERA5_LAND',\n",
       " 'ERA5_LAND_MONTHLY',\n",
       " 'ERA5_PL',\n",
       " 'ERA5_PL_MONTHLY',\n",
       " 'ERA5_SL',\n",
       " 'ERA5_SL_MONTHLY',\n",
       " 'FIRE_HISTORICAL',\n",
       " 'GLACIERS_DIST_RANDOLPH',\n",
       " 'GLOFAS_FORECAST',\n",
       " 'GLOFAS_HISTORICAL',\n",
       " 'GLOFAS_REFORECAST',\n",
       " 'GLOFAS_SEASONAL',\n",
       " 'GLOFAS_SEASONAL_REFORECAST',\n",
       " 'GRIDDED_GLACIERS_MASS_CHANGE',\n",
       " 'S1_SAR_GRD',\n",
       " 'S1_SAR_OCN',\n",
       " 'S1_SAR_RAW',\n",
       " 'S1_SAR_SLC',\n",
       " 'S2_MSI_L1C',\n",
       " 'S2_MSI_L2A',\n",
       " 'S2_MSI_L2AP',\n",
       " 'S3_EFR',\n",
       " 'S3_ERR',\n",
       " 'S3_LAN_HY',\n",
       " 'S3_LAN_LI',\n",
       " 'S3_LAN_SI',\n",
       " 'S3_OLCI_L2LFR',\n",
       " 'S3_OLCI_L2LRR',\n",
       " 'S3_OLCI_L2WFR',\n",
       " 'S3_OLCI_L2WRR',\n",
       " 'S3_SLSTR_L1RBT',\n",
       " 'S3_SLSTR_L2',\n",
       " 'S3_SRA',\n",
       " 'S3_SRA_A',\n",
       " 'S3_SRA_BS',\n",
       " 'S3_WAT',\n",
       " 'S5P_L1B_IR_ALL',\n",
       " 'S5P_L2_IR_ALL',\n",
       " 'SATELLITE_CARBON_DIOXIDE',\n",
       " 'SATELLITE_METHANE',\n",
       " 'SATELLITE_SEA_ICE_EDGE_TYPE',\n",
       " 'SATELLITE_SEA_LEVEL_BLACK_SEA',\n",
       " 'SATELLITE_SEA_LEVEL_GLOBAL',\n",
       " 'SATELLITE_SEA_LEVEL_MEDITERRANEAN',\n",
       " 'SEASONAL_MONTHLY_PL',\n",
       " 'SEASONAL_MONTHLY_SL',\n",
       " 'SEASONAL_ORIGINAL_PL',\n",
       " 'SEASONAL_ORIGINAL_SL',\n",
       " 'SEASONAL_POSTPROCESSED_PL',\n",
       " 'SEASONAL_POSTPROCESSED_SL',\n",
       " 'UERRA_EUROPE_SL']"
      ]
     },
     "execution_count": 3,
     "metadata": {},
     "output_type": "execute_result"
    }
   ],
   "source": [
    "[pt[\"ID\"] for pt in wekeo_product_types]"
   ]
  },
  {
   "cell_type": "markdown",
   "metadata": {},
   "source": [
    "Search for data on one these product types:"
   ]
  },
  {
   "cell_type": "code",
   "execution_count": 4,
   "metadata": {},
   "outputs": [
    {
     "data": {
      "text/plain": [
       "SearchResult([EOProduct(id=4bd37b17b45d146f378e349ab3f90464, provider=wekeo)])"
      ]
     },
     "execution_count": 4,
     "metadata": {},
     "output_type": "execute_result"
    }
   ],
   "source": [
    "products = dag.search(\n",
    "    productType=\"GLOFAS_FORECAST\", \n",
    "    start=\"2023-01-01\", \n",
    "    end=\"2023-01-02\", \n",
    "    geom=[0.25, 43.2, 2.8, 43.9],\n",
    "    provider=\"wekeo\"\n",
    ")\n",
    "products"
   ]
  },
  {
   "cell_type": "markdown",
   "metadata": {},
   "source": [
    "Download found product to `/tmp`, changing wait time to 12s (0.2') between product order and download retries:"
   ]
  },
  {
   "cell_type": "code",
   "execution_count": 5,
   "metadata": {},
   "outputs": [
    {
     "data": {
      "application/vnd.jupyter.widget-view+json": {
       "model_id": "9925bcf0ed804fd0bbec2f5efe4ea519",
       "version_major": 2,
       "version_minor": 0
      },
      "text/plain": [
       "0.00B [00:00, ?B/s]"
      ]
     },
     "metadata": {},
     "output_type": "display_data"
    },
    {
     "data": {
      "text/html": [
       "[Retry #1] Waiting 11.999954s until next download try for ordered product (retry every 0.2' for 20')"
      ],
      "text/plain": [
       "<IPython.core.display.HTML object>"
      ]
     },
     "metadata": {},
     "output_type": "display_data"
    },
    {
     "data": {
      "text/plain": [
       "'/tmp/4bd37b17b45d146f378e349ab3f90464'"
      ]
     },
     "execution_count": 5,
     "metadata": {},
     "output_type": "execute_result"
    }
   ],
   "source": [
    "path = products[0].download(outputs_prefix=\"/tmp\", wait=0.2)\n",
    "path"
   ]
  },
  {
   "cell_type": "markdown",
   "metadata": {},
   "source": [
    "## The WEkEO data viewer\n",
    "\n",
    "If you go to the WEkEO [homepage](https://www.wekeo.eu) and click on \"Data\" in the top menu, you can search for products online. You can choose a product type (called dataset in WEkEO) by clicking on the \"+\" button next to \"Layers\" on the left side. Then you can choose some filter parameters and create a data request job which will show up in the next tab where the products can be downloaded. The data viewer currently still uses the old version of the API where data requests have to be created to search product. In contrast, the latest version of EODAG already uses the new API (https://gateway.prod.wekeo2.eu/hda-broker/api/v1) where a direct search without data requests is possible."
   ]
  }
 ],
 "metadata": {
  "kernelspec": {
   "display_name": "Python 3 (ipykernel)",
   "language": "python",
   "name": "python3"
  },
  "language_info": {
   "codemirror_mode": {
    "name": "ipython",
    "version": 3
   },
   "file_extension": ".py",
   "mimetype": "text/x-python",
   "name": "python",
   "nbconvert_exporter": "python",
   "pygments_lexer": "ipython3",
   "version": "3.10.12"
  },
  "widgets": {
   "application/vnd.jupyter.widget-state+json": {
    "state": {
     "21473516ad1d4c068c3a5e545c8dfcf1": {
      "model_module": "@jupyter-widgets/controls",
      "model_module_version": "2.0.0",
      "model_name": "ProgressStyleModel",
      "state": {
       "description_width": ""
      }
     },
     "36968842fea54ba98d0cfd6c58e526b4": {
      "model_module": "@jupyter-widgets/controls",
      "model_module_version": "2.0.0",
      "model_name": "HTMLStyleModel",
      "state": {
       "description_width": "",
       "font_size": null,
       "text_color": null
      }
     },
     "6aff6dba5b9d48bc8c1fc085987d5b44": {
      "model_module": "@jupyter-widgets/base",
      "model_module_version": "2.0.0",
      "model_name": "LayoutModel",
      "state": {
       "display": "inline-flex",
       "flex_flow": "row wrap",
       "width": "100%"
      }
     },
     "7ddb60a045a6443ba92e17175e30656a": {
      "model_module": "@jupyter-widgets/base",
      "model_module_version": "2.0.0",
      "model_name": "LayoutModel",
      "state": {
       "flex": "2"
      }
     },
     "8769c5368c334dd69b0c04bdbcc06812": {
      "model_module": "@jupyter-widgets/controls",
      "model_module_version": "2.0.0",
      "model_name": "HTMLStyleModel",
      "state": {
       "description_width": "",
       "font_size": null,
       "text_color": null
      }
     },
     "91cd62f3d8e941b9ac8b7750d43b9fcf": {
      "model_module": "@jupyter-widgets/controls",
      "model_module_version": "2.0.0",
      "model_name": "HTMLModel",
      "state": {
       "layout": "IPY_MODEL_e0b39382c4764717b02317df3dfa7c87",
       "style": "IPY_MODEL_8769c5368c334dd69b0c04bdbcc06812",
       "value": "4bd37b17b45d146f378e349ab3f90464: "
      }
     },
     "9925bcf0ed804fd0bbec2f5efe4ea519": {
      "model_module": "@jupyter-widgets/controls",
      "model_module_version": "2.0.0",
      "model_name": "HBoxModel",
      "state": {
       "children": [
        "IPY_MODEL_91cd62f3d8e941b9ac8b7750d43b9fcf",
        "IPY_MODEL_f6d232de7f064cc7885528a9b41acb3a",
        "IPY_MODEL_f38e4e2ab3c149a680153e368eb198ab"
       ],
       "layout": "IPY_MODEL_6aff6dba5b9d48bc8c1fc085987d5b44"
      }
     },
     "c2ae4ebd11714f98b099dcd87ee08af6": {
      "model_module": "@jupyter-widgets/base",
      "model_module_version": "2.0.0",
      "model_name": "LayoutModel",
      "state": {}
     },
     "e0b39382c4764717b02317df3dfa7c87": {
      "model_module": "@jupyter-widgets/base",
      "model_module_version": "2.0.0",
      "model_name": "LayoutModel",
      "state": {}
     },
     "f38e4e2ab3c149a680153e368eb198ab": {
      "model_module": "@jupyter-widgets/controls",
      "model_module_version": "2.0.0",
      "model_name": "HTMLModel",
      "state": {
       "layout": "IPY_MODEL_c2ae4ebd11714f98b099dcd87ee08af6",
       "style": "IPY_MODEL_36968842fea54ba98d0cfd6c58e526b4",
       "value": " 1.08k/? [00:00&lt;00:00, 809kB/s]"
      }
     },
     "f6d232de7f064cc7885528a9b41acb3a": {
      "model_module": "@jupyter-widgets/controls",
      "model_module_version": "2.0.0",
      "model_name": "FloatProgressModel",
      "state": {
       "bar_style": "success",
       "layout": "IPY_MODEL_7ddb60a045a6443ba92e17175e30656a",
       "max": 1,
       "style": "IPY_MODEL_21473516ad1d4c068c3a5e545c8dfcf1",
       "value": 1
      }
     }
    },
    "version_major": 2,
    "version_minor": 0
   }
  }
 },
 "nbformat": 4,
 "nbformat_minor": 4
}
