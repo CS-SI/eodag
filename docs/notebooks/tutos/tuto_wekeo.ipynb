{
 "cells": [
  {
   "cell_type": "markdown",
   "metadata": {},
   "source": [
    "# The wekeo provider in EODAG\n",
    "\n",
    "This tutorial will show you how use EODAG to download data from [WEkEO](https://www.wekeo.eu/) using `eodag`. WEkEO offers a wide range of Copernicus and Sentinel products."
   ]
  },
  {
   "cell_type": "markdown",
   "metadata": {},
   "source": [
    "## Registration\n",
    "\n",
    "For both, searching and downloading data, authentication is required. Therefore, you first have to create an account on [https://www.wekeo.eu/](https://www.wekeo.eu/) to get a `username` and a `password` which have to be added to the EODAG configuration (see [Configure EODAG](https://eodag.readthedocs.io/en/stable/getting_started_guide/configure.html#configure)). After registration you also have to accept the Terms and Conditions to be able to retrieve data from EODAG. This has to be done once per user by executing the following:"
   ]
  },
  {
   "cell_type": "code",
   "execution_count": 1,
   "metadata": {},
   "outputs": [],
   "source": [
    "import requests\n",
    "from eodag import EODataAccessGateway\n",
    "\n",
    "# instantiate EODAG API\n",
    "dag = EODataAccessGateway()\n",
    "\n",
    "# Authenticate on wekeo\n",
    "auth = dag._plugins_manager.get_auth_plugin(\"wekeo\").authenticate()\n",
    "\n",
    "# Use your authentication to accept Copernicus Terms and Conditions\n",
    "# (needed only once)\n",
    "response = requests.put(\n",
    "    \"https://wekeo-broker.apps.mercator.dpi.wekeo.eu/databroker/termsaccepted/Copernicus_General_License\",\n",
    "    data={\"accepted\": \"true\"},\n",
    "    auth=auth,\n",
    ")"
   ]
  },
  {
   "cell_type": "markdown",
   "metadata": {},
   "source": [
    "## Search and download data"
   ]
  },
  {
   "cell_type": "markdown",
   "metadata": {},
   "source": [
    "Many product types are available for `wekeo` provider:"
   ]
  },
  {
   "cell_type": "code",
   "execution_count": 2,
   "metadata": {},
   "outputs": [
    {
     "data": {
      "text/plain": [
       "64"
      ]
     },
     "execution_count": 2,
     "metadata": {},
     "output_type": "execute_result"
    }
   ],
   "source": [
    "wekeo_product_types = dag.list_product_types(\"wekeo\")\n",
    "len(wekeo_product_types)"
   ]
  },
  {
   "cell_type": "code",
   "execution_count": 3,
   "metadata": {},
   "outputs": [
    {
     "data": {
      "text/plain": [
       "['CLMS_CORINE',\n",
       " 'CLMS_GLO_DMP_333M',\n",
       " 'CLMS_GLO_FAPAR_333M',\n",
       " 'CLMS_GLO_FCOVER_333M',\n",
       " 'CLMS_GLO_GDMP_333M',\n",
       " 'CLMS_GLO_LAI_333M',\n",
       " 'CLMS_GLO_NDVI_1KM_LTS',\n",
       " 'CLMS_GLO_NDVI_333M',\n",
       " 'COP_DEM_GLO30',\n",
       " 'EEA_DAILY_SSM_1KM',\n",
       " 'EEA_DAILY_SWI_1KM',\n",
       " 'EEA_DAILY_VI',\n",
       " 'EFAS_FORECAST',\n",
       " 'EFAS_HISTORICAL',\n",
       " 'EFAS_REFORECAST',\n",
       " 'EFAS_SEASONAL',\n",
       " 'EFAS_SEASONAL_REFORECAST',\n",
       " 'ERA5_LAND',\n",
       " 'ERA5_LAND_MONTHLY',\n",
       " 'ERA5_PL',\n",
       " 'ERA5_PL_MONTHLY',\n",
       " 'ERA5_SL',\n",
       " 'ERA5_SL_MONTHLY',\n",
       " 'FIRE_HISTORICAL',\n",
       " 'GLACIERS_DIST_RANDOLPH',\n",
       " 'GLACIERS_ELEVATION_AND_MASS_CHANGE',\n",
       " 'GLOFAS_FORECAST',\n",
       " 'GLOFAS_HISTORICAL',\n",
       " 'GLOFAS_REFORECAST',\n",
       " 'GLOFAS_SEASONAL',\n",
       " 'GLOFAS_SEASONAL_REFORECAST',\n",
       " 'S1_SAR_GRD',\n",
       " 'S1_SAR_SLC',\n",
       " 'S2_MSI_L1C',\n",
       " 'S2_MSI_L2A',\n",
       " 'S3_EFR',\n",
       " 'S3_ERR',\n",
       " 'S3_LAN',\n",
       " 'S3_OLCI_L2LFR',\n",
       " 'S3_OLCI_L2LRR',\n",
       " 'S3_OLCI_L2WFR',\n",
       " 'S3_OLCI_L2WRR',\n",
       " 'S3_SLSTR_L1RBT',\n",
       " 'S3_SLSTR_L2',\n",
       " 'S3_SLSTR_L2AOD',\n",
       " 'S3_SLSTR_L2FRP',\n",
       " 'S3_SLSTR_L2WST',\n",
       " 'S3_SRA',\n",
       " 'S3_SRA_A',\n",
       " 'S3_SRA_BS',\n",
       " 'S3_SY_SYN',\n",
       " 'S3_WAT',\n",
       " 'S5P_L1B2_IR_ALL',\n",
       " 'SATELLITE_CARBON_DIOXIDE',\n",
       " 'SATELLITE_METHANE',\n",
       " 'SATELLITE_SEA_LEVEL_BLACK_SEA',\n",
       " 'SEASONAL_MONTHLY_PL',\n",
       " 'SEASONAL_MONTHLY_SL',\n",
       " 'SEASONAL_ORIGINAL_PL',\n",
       " 'SEASONAL_ORIGINAL_SL',\n",
       " 'SEASONAL_POSTPROCESSED_PL',\n",
       " 'SEASONAL_POSTPROCESSED_SL',\n",
       " 'SIS_HYDRO_MET_PROJ',\n",
       " 'UERRA_EUROPE_SL']"
      ]
     },
     "execution_count": 3,
     "metadata": {},
     "output_type": "execute_result"
    }
   ],
   "source": [
    "[pt[\"ID\"] for pt in wekeo_product_types]"
   ]
  },
  {
   "cell_type": "markdown",
   "metadata": {},
   "source": [
    "Search for data on one these product types:"
   ]
  },
  {
   "cell_type": "code",
   "execution_count": 4,
   "metadata": {},
   "outputs": [
    {
     "data": {
      "text/plain": [
       "SearchResult([EOProduct(id=47ec0e9810aa8304e8204780c10dbc5a, provider=wekeo)])"
      ]
     },
     "execution_count": 4,
     "metadata": {},
     "output_type": "execute_result"
    }
   ],
   "source": [
    "products, total_count = dag.search(\n",
    "    productType=\"GLOFAS_FORECAST\", \n",
    "    start=\"2023-01-01\", \n",
    "    end=\"2023-01-02\", \n",
    "    geom=[0.25, 43.2, 2.8, 43.9],\n",
    "    provider=\"wekeo\"\n",
    ")\n",
    "products"
   ]
  },
  {
   "cell_type": "markdown",
   "metadata": {},
   "source": [
    "Download found product to `/tmp`:"
   ]
  },
  {
   "cell_type": "code",
   "execution_count": 5,
   "metadata": {},
   "outputs": [
    {
     "data": {
      "application/vnd.jupyter.widget-view+json": {
       "model_id": "843e3800f88d4848917bb5aea70909fd",
       "version_major": 2,
       "version_minor": 0
      },
      "text/plain": [
       "0.00B [00:00, ?B/s]"
      ]
     },
     "metadata": {},
     "output_type": "display_data"
    },
    {
     "name": "stderr",
     "output_type": "stream",
     "text": [
      "Downloaded product is not a Zip File. Please check its file type before using it\n"
     ]
    },
    {
     "data": {
      "text/plain": [
       "'/tmp/47ec0e9810aa8304e8204780c10dbc5a'"
      ]
     },
     "execution_count": 5,
     "metadata": {},
     "output_type": "execute_result"
    }
   ],
   "source": [
    "path = products[0].download(outputs_prefix=\"/tmp\")\n",
    "path"
   ]
  },
  {
   "cell_type": "markdown",
   "metadata": {},
   "source": [
    "## The WEkEO data viewer\n",
    "\n",
    "If you go to the WEkEO [homepage](https://www.wekeo.eu) and click on \"Data\" in the top menu, you can search for products online. You can choose a product type (called dataset in WEkEO) by clicking on the \"+\" button next to \"Layers\" on the left side. Then you can choose some filter parameters and create a data request job which will show up in the next tab. If you are logged in with the same user that is configured for EODAG, you can also see the jobs created by EODAG. You can use this functionality to check their status and to directly download the products that have been found."
   ]
  }
 ],
 "metadata": {
  "kernelspec": {
   "display_name": "Python 3 (ipykernel)",
   "language": "python",
   "name": "python3"
  },
  "language_info": {
   "codemirror_mode": {
    "name": "ipython",
    "version": 3
   },
   "file_extension": ".py",
   "mimetype": "text/x-python",
   "name": "python",
   "nbconvert_exporter": "python",
   "pygments_lexer": "ipython3",
   "version": "3.10.12"
  }
 },
 "nbformat": 4,
 "nbformat_minor": 4
}
