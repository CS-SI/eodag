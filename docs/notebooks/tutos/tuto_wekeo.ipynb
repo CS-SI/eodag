{
 "cells": [
  {
   "cell_type": "markdown",
   "metadata": {},
   "source": [
    "# The wekeo provider in EODAG\n",
    "\n",
    "This tutorial will show you how use EODAG to download data from [WEkEO](https://www.wekeo.eu/) using `eodag`. WEkEO offers a wide range of Copernicus and Sentinel products decomposed into three providers classified according to their kind of data:\n",
    "\n",
    "* `wekeo_main`: Sentinel and some Copernicus data\n",
    "* `wekeo_ecmwf`: Copernicus data from ECMWF\n",
    "* `wekeo_cmems`: Copernicus Marine data"
   ]
  },
  {
   "cell_type": "markdown",
   "metadata": {},
   "source": [
    "## Registration\n",
    "\n",
    "For both, searching and downloading data, authentication is required. Therefore, you first have to create an account on [https://www.wekeo.eu/](https://www.wekeo.eu/) to get a `username` and a `password` which have to be added to the EODAG configuration (see [Configure EODAG](https://eodag.readthedocs.io/en/stable/getting_started_guide/configure.html#configure)). After registration you also have to accept the Terms and Conditions for the datasets you want to use to be able to retrieve data from EODAG. This has to be done once per user and licence by executing the following code where licence_name has to be set to the desired licence (see list below):"
   ]
  },
  {
   "cell_type": "code",
   "execution_count": 1,
   "metadata": {
    "tags": []
   },
   "outputs": [],
   "source": [
    "import requests\n",
    "from eodag import EODataAccessGateway\n",
    "\n",
    "# instantiate EODAG API\n",
    "dag = EODataAccessGateway()\n",
    "\n",
    "# Authenticate on the wekeo adapted to your request, here wekeo_main\n",
    "auth = dag._plugins_manager.get_auth_plugin(\"wekeo_main\").authenticate()\n",
    "licence_name = \"EUMETSAT_Copernicus_Data_Licence\"\n",
    "\n",
    "# Use your authentication to accept Terms and Conditions\n",
    "response = requests.put(\n",
    "    f\"https://gateway.prod.wekeo2.eu/hda-broker/api/v1/termsaccepted/{licence_name}\",\n",
    "    auth=auth,\n",
    ")"
   ]
  },
  {
   "cell_type": "markdown",
   "metadata": {},
   "source": [
    "Depending on which data you want to use, different licences have to be accepted. If you want to use all the product types available in EODAG for the provider `wekeo_main`, the following licences have to be accepted:\n",
    "      \n",
    "* EUMETSAT_Copernicus_Data_Licence\n",
    "* Copernicus_Land_Monitoring_Service_Data_Policy\n",
    "* Copernicus_Sentinel_License\n",
    "* Copernicus_DEM_Instance_COP-DEM-GLO-30-F_Global_30m\n",
    "* Copernicus_DEM_Instance_COP-DEM-GLO-90-F_Global_90m\n",
    "\n",
    "To access the products of the provider `wekeo_ecmwf` or `wekeo_cmems` the licence Copernicus_ECMWF_License or Copernicus_Marine_Service_Product_License have to be accepted respectively."
   ]
  },
  {
   "cell_type": "markdown",
   "metadata": {},
   "source": [
    "## Search and download data"
   ]
  },
  {
   "cell_type": "markdown",
   "metadata": {},
   "source": [
    "Many product types are available for the three `wekeo` providers, here let's see for `wekeo_ecmwf`:"
   ]
  },
  {
   "cell_type": "code",
   "execution_count": 2,
   "metadata": {
    "tags": []
   },
   "outputs": [
    {
     "data": {
      "text/plain": [
       "48"
      ]
     },
     "execution_count": 2,
     "metadata": {},
     "output_type": "execute_result"
    }
   ],
   "source": [
    "wekeo_product_types = dag.list_product_types(\"wekeo_ecmwf\")\n",
    "len(wekeo_product_types)"
   ]
  },
  {
   "cell_type": "code",
   "execution_count": 3,
   "metadata": {
    "tags": []
   },
   "outputs": [
    {
     "data": {
      "text/plain": [
       "['AG_ERA5',\n",
       " 'CAMS_EAC4',\n",
       " 'CAMS_EAC4_MONTHLY',\n",
       " 'CAMS_EU_AIR_QUALITY_FORECAST',\n",
       " 'CAMS_EU_AIR_QUALITY_RE',\n",
       " 'CAMS_GAC_FORECAST',\n",
       " 'CAMS_GLOBAL_EMISSIONS',\n",
       " 'CAMS_GREENHOUSE_EGG4',\n",
       " 'CAMS_GREENHOUSE_EGG4_MONTHLY',\n",
       " 'CAMS_GREENHOUSE_INVERSION',\n",
       " 'CAMS_GRF',\n",
       " 'CAMS_GRF_AUX',\n",
       " 'CAMS_SOLAR_RADIATION',\n",
       " 'EFAS_FORECAST',\n",
       " 'EFAS_HISTORICAL',\n",
       " 'EFAS_REFORECAST',\n",
       " 'EFAS_SEASONAL',\n",
       " 'EFAS_SEASONAL_REFORECAST',\n",
       " 'ERA5_LAND',\n",
       " 'ERA5_LAND_MONTHLY',\n",
       " 'ERA5_PL',\n",
       " 'ERA5_PL_MONTHLY',\n",
       " 'ERA5_SL',\n",
       " 'ERA5_SL_MONTHLY',\n",
       " 'FIRE_HISTORICAL',\n",
       " 'GLACIERS_DIST_RANDOLPH',\n",
       " 'GLOFAS_FORECAST',\n",
       " 'GLOFAS_HISTORICAL',\n",
       " 'GLOFAS_REFORECAST',\n",
       " 'GLOFAS_SEASONAL',\n",
       " 'GLOFAS_SEASONAL_REFORECAST',\n",
       " 'GRIDDED_GLACIERS_MASS_CHANGE',\n",
       " 'SATELLITE_CARBON_DIOXIDE',\n",
       " 'SATELLITE_FIRE_BURNED_AREA',\n",
       " 'SATELLITE_METHANE',\n",
       " 'SATELLITE_SEA_ICE_CONCENTRATION',\n",
       " 'SATELLITE_SEA_ICE_EDGE_TYPE',\n",
       " 'SATELLITE_SEA_ICE_THICKNESS',\n",
       " 'SATELLITE_SEA_LEVEL_BLACK_SEA',\n",
       " 'SATELLITE_SEA_LEVEL_GLOBAL',\n",
       " 'SATELLITE_SEA_LEVEL_MEDITERRANEAN',\n",
       " 'SEASONAL_MONTHLY_PL',\n",
       " 'SEASONAL_MONTHLY_SL',\n",
       " 'SEASONAL_ORIGINAL_PL',\n",
       " 'SEASONAL_ORIGINAL_SL',\n",
       " 'SEASONAL_POSTPROCESSED_PL',\n",
       " 'SEASONAL_POSTPROCESSED_SL',\n",
       " 'UERRA_EUROPE_SL']"
      ]
     },
     "execution_count": 3,
     "metadata": {},
     "output_type": "execute_result"
    }
   ],
   "source": [
    "[pt[\"ID\"] for pt in wekeo_product_types]"
   ]
  },
  {
   "cell_type": "markdown",
   "metadata": {},
   "source": [
    "Search for data on one these product types:"
   ]
  },
  {
   "cell_type": "code",
   "execution_count": 4,
   "metadata": {},
   "outputs": [
    {
     "data": {
      "text/plain": [
       "SearchResult([EOProduct(id=cems-glofas-forecast-9ef890e45d8d9c86746601c50f9f20a7, provider=wekeo_ecmwf)])"
      ]
     },
     "execution_count": 4,
     "metadata": {},
     "output_type": "execute_result"
    }
   ],
   "source": [
    "products = dag.search(\n",
    "    productType=\"GLOFAS_FORECAST\", \n",
    "    start=\"2023-01-01\", \n",
    "    end=\"2023-01-02\", \n",
    "    geom=[0.25, 43.2, 2.8, 43.9],\n",
    "    provider=\"wekeo_ecmwf\"\n",
    ")\n",
    "products"
   ]
  },
  {
   "cell_type": "markdown",
   "metadata": {},
   "source": [
    "Download found product to `/tmp`, changing wait time to 12s (0.2') between product order and download retries:"
   ]
  },
  {
   "cell_type": "code",
   "execution_count": 5,
   "metadata": {},
   "outputs": [
    {
     "data": {
      "application/vnd.jupyter.widget-view+json": {
       "model_id": "92740041a22f496ab5d85297a1748a8c",
       "version_major": 2,
       "version_minor": 0
      },
      "text/plain": [
       "0.00B [00:00, ?B/s]"
      ]
     },
     "metadata": {},
     "output_type": "display_data"
    },
    {
     "data": {
      "text/plain": [
       "'/tmp/cems-glofas-forecast-9ef890e45d8d9c86746601c50f9f20a7'"
      ]
     },
     "execution_count": 5,
     "metadata": {},
     "output_type": "execute_result"
    }
   ],
   "source": [
    "path = products[0].download(output_dir=\"/tmp\", wait=0.2)\n",
    "path"
   ]
  },
  {
   "cell_type": "markdown",
   "metadata": {},
   "source": [
    "## The WEkEO data viewer\n",
    "\n",
    "If you go to the WEkEO [homepage](https://www.wekeo.eu) and click on \"Data\" in the top menu, you can search for products online. You can choose a product type (called dataset in WEkEO) by clicking on the \"+\" button next to \"Layers\" on the left side. Then you can choose some filter parameters and create a data request job which will show up in the next tab where the products can be downloaded. The data viewer currently still uses the old version of the API where data requests have to be created to search product. In contrast, the latest version of EODAG already uses the new API (https://gateway.prod.wekeo2.eu/hda-broker/api/v1) where a direct search without data requests is possible."
   ]
  }
 ],
 "metadata": {
  "kernelspec": {
   "display_name": "Python 3 (ipykernel)",
   "language": "python",
   "name": "python3"
  },
  "language_info": {
   "codemirror_mode": {
    "name": "ipython",
    "version": 3
   },
   "file_extension": ".py",
   "mimetype": "text/x-python",
   "name": "python",
   "nbconvert_exporter": "python",
   "pygments_lexer": "ipython3",
   "version": "3.8.10"
  },
  "widgets": {
   "application/vnd.jupyter.widget-state+json": {
    "state": {
     "21473516ad1d4c068c3a5e545c8dfcf1": {
      "model_module": "@jupyter-widgets/controls",
      "model_module_version": "2.0.0",
      "model_name": "ProgressStyleModel",
      "state": {
       "description_width": ""
      }
     },
     "36968842fea54ba98d0cfd6c58e526b4": {
      "model_module": "@jupyter-widgets/controls",
      "model_module_version": "2.0.0",
      "model_name": "HTMLStyleModel",
      "state": {
       "description_width": "",
       "font_size": null,
       "text_color": null
      }
     },
     "6aff6dba5b9d48bc8c1fc085987d5b44": {
      "model_module": "@jupyter-widgets/base",
      "model_module_version": "2.0.0",
      "model_name": "LayoutModel",
      "state": {
       "display": "inline-flex",
       "flex_flow": "row wrap",
       "width": "100%"
      }
     },
     "7ddb60a045a6443ba92e17175e30656a": {
      "model_module": "@jupyter-widgets/base",
      "model_module_version": "2.0.0",
      "model_name": "LayoutModel",
      "state": {
       "flex": "2"
      }
     },
     "8769c5368c334dd69b0c04bdbcc06812": {
      "model_module": "@jupyter-widgets/controls",
      "model_module_version": "2.0.0",
      "model_name": "HTMLStyleModel",
      "state": {
       "description_width": "",
       "font_size": null,
       "text_color": null
      }
     },
     "91cd62f3d8e941b9ac8b7750d43b9fcf": {
      "model_module": "@jupyter-widgets/controls",
      "model_module_version": "2.0.0",
      "model_name": "HTMLModel",
      "state": {
       "layout": "IPY_MODEL_e0b39382c4764717b02317df3dfa7c87",
       "style": "IPY_MODEL_8769c5368c334dd69b0c04bdbcc06812",
       "value": "4bd37b17b45d146f378e349ab3f90464: "
      }
     },
     "9925bcf0ed804fd0bbec2f5efe4ea519": {
      "model_module": "@jupyter-widgets/controls",
      "model_module_version": "2.0.0",
      "model_name": "HBoxModel",
      "state": {
       "children": [
        "IPY_MODEL_91cd62f3d8e941b9ac8b7750d43b9fcf",
        "IPY_MODEL_f6d232de7f064cc7885528a9b41acb3a",
        "IPY_MODEL_f38e4e2ab3c149a680153e368eb198ab"
       ],
       "layout": "IPY_MODEL_6aff6dba5b9d48bc8c1fc085987d5b44"
      }
     },
     "c2ae4ebd11714f98b099dcd87ee08af6": {
      "model_module": "@jupyter-widgets/base",
      "model_module_version": "2.0.0",
      "model_name": "LayoutModel",
      "state": {}
     },
     "e0b39382c4764717b02317df3dfa7c87": {
      "model_module": "@jupyter-widgets/base",
      "model_module_version": "2.0.0",
      "model_name": "LayoutModel",
      "state": {}
     },
     "f38e4e2ab3c149a680153e368eb198ab": {
      "model_module": "@jupyter-widgets/controls",
      "model_module_version": "2.0.0",
      "model_name": "HTMLModel",
      "state": {
       "layout": "IPY_MODEL_c2ae4ebd11714f98b099dcd87ee08af6",
       "style": "IPY_MODEL_36968842fea54ba98d0cfd6c58e526b4",
       "value": " 1.08k/? [00:00&lt;00:00, 809kB/s]"
      }
     },
     "f6d232de7f064cc7885528a9b41acb3a": {
      "model_module": "@jupyter-widgets/controls",
      "model_module_version": "2.0.0",
      "model_name": "FloatProgressModel",
      "state": {
       "bar_style": "success",
       "layout": "IPY_MODEL_7ddb60a045a6443ba92e17175e30656a",
       "max": 1,
       "style": "IPY_MODEL_21473516ad1d4c068c3a5e545c8dfcf1",
       "value": 1
      }
     }
    },
    "version_major": 2,
    "version_minor": 0
   }
  }
 },
 "nbformat": 4,
 "nbformat_minor": 4
}
