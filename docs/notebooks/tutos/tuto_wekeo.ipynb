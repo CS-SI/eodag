{
 "cells": [
  {
   "cell_type": "markdown",
   "metadata": {},
   "source": [
    "# The wekeo provider in EODAG\n",
    "\n",
    "This tutorial will show you how use EODAG to download data from [WEkEO](https://www.wekeo.eu/) using `eodag`. WEkEO offers a wide range of Copernicus and Sentinel products."
   ]
  },
  {
   "cell_type": "markdown",
   "metadata": {},
   "source": [
    "## Registration\n",
    "\n",
    "For both, searching and downloading data, authentication is required. Therefore, you first have to create an account on [https://www.wekeo.eu/](https://www.wekeo.eu/) to get a `username` and a `password` which have to be added to the EODAG configuration (see [Configure EODAG](https://eodag.readthedocs.io/en/stable/getting_started_guide/configure.html#configure)). After registration you also have to accept the Terms and Conditions for the datasets you want to use to be able to retrieve data from EODAG. This has to be done once per user and licence by executing the following code where licence_name has to be set to the desired licence (see list below):"
   ]
  },
  {
   "cell_type": "code",
   "execution_count": null,
   "metadata": {},
   "outputs": [],
   "source": [
    "import requests\n",
    "from eodag import EODataAccessGateway\n",
    "\n",
    "# instantiate EODAG API\n",
    "dag = EODataAccessGateway()\n",
    "\n",
    "# Authenticate on wekeo\n",
    "auth = dag._plugins_manager.get_auth_plugin(\"wekeo\").authenticate()\n",
    "licence_name = \"EUMETSAT_Copernicus_Data_Licence\"\n",
    "\n",
    "# Use your authentication to accept Terms and Conditions\n",
    "response = requests.put(\n",
    "    f\"https://gateway.prod.wekeo2.eu/hda-broker/api/v1/termsaccepted/{licence_name}\",\n",
    "    auth=auth,\n",
    ")"
   ]
  },
  {
   "cell_type": "markdown",
   "metadata": {},
   "source": [
    "Depending on which data you want to use, different licences have to be accepted. If you want to use all the product types available in EODAG, the following licences have to be accepted:\n",
    "      \n",
    "* EUMETSAT_Copernicus_Data_Licence\n",
    "* Copernicus_Land_Monitoring_Service_Data_Policy\n",
    "* Copernicus_Sentinel_License\n",
    "* Copernicus_ECMWF_License\n",
    "* Copernicus_Marine_Service_Product_License\n",
    "* Copernicus_DEM_Instance_COP-DEM-GLO-30-F_Global_30m\n",
    "* Copernicus_DEM_Instance_COP-DEM-GLO-90-F_Global_90m"
   ]
  },
  {
   "cell_type": "markdown",
   "metadata": {},
   "source": [
    "## Search and download data"
   ]
  },
  {
   "cell_type": "markdown",
   "metadata": {},
   "source": [
    "Many product types are available for `wekeo` provider:"
   ]
  },
  {
   "cell_type": "code",
   "execution_count": 2,
   "metadata": {},
   "outputs": [
    {
     "data": {
      "text/plain": [
       "251"
      ]
     },
     "execution_count": 2,
     "metadata": {},
     "output_type": "execute_result"
    }
   ],
   "source": [
    "wekeo_product_types = dag.list_product_types(\"wekeo\")\n",
    "len(wekeo_product_types)"
   ]
  },
  {
   "cell_type": "code",
   "execution_count": 3,
   "metadata": {},
   "outputs": [
    {
     "data": {
      "text/plain": [
       "['CAMS_EAC4',\n",
       " 'CAMS_EAC4_MONTHLY',\n",
       " 'CAMS_EU_AIR_QUALITY_FORECAST',\n",
       " 'CAMS_EU_AIR_QUALITY_RE',\n",
       " 'CAMS_GAC_FORECAST',\n",
       " 'CAMS_GLOBAL_EMISSIONS',\n",
       " 'CAMS_GREENHOUSE_EGG4',\n",
       " 'CAMS_GREENHOUSE_EGG4_MONTHLY',\n",
       " 'CAMS_GREENHOUSE_INVERSION',\n",
       " 'CAMS_GRF',\n",
       " 'CAMS_GRF_AUX',\n",
       " 'CAMS_SOLAR_RADIATION',\n",
       " 'CLMS_CORINE',\n",
       " 'CLMS_GLO_DMP_333M',\n",
       " 'CLMS_GLO_FAPAR_333M',\n",
       " 'CLMS_GLO_FCOVER_333M',\n",
       " 'CLMS_GLO_GDMP_333M',\n",
       " 'CLMS_GLO_LAI_333M',\n",
       " 'CLMS_GLO_NDVI_1KM_LTS',\n",
       " 'CLMS_GLO_NDVI_333M',\n",
       " 'CMEMS_GLOBAL_BGC__anfc_0_25deg_static_202311',\n",
       " 'CMEMS_GLOBAL_BGC__bio_anfc_0_25deg_P1D-m_202311',\n",
       " 'CMEMS_GLOBAL_BGC__bio_anfc_0_25deg_P1M-m_202311',\n",
       " 'CMEMS_GLOBAL_BGC__car_anfc_0_25deg_P1D-m_202311',\n",
       " 'CMEMS_GLOBAL_BGC__car_anfc_0_25deg_P1M-m_202311',\n",
       " 'CMEMS_GLOBAL_BGC__co2_anfc_0_25deg_P1D-m_202311',\n",
       " 'CMEMS_GLOBAL_BGC__co2_anfc_0_25deg_P1M-m_202311',\n",
       " 'CMEMS_GLOBAL_BGC__nut_anfc_0_25deg_P1D-m_202311',\n",
       " 'CMEMS_GLOBAL_BGC__nut_anfc_0_25deg_P1M-m_202311',\n",
       " 'CMEMS_GLOBAL_BGC__optics_anfc_0_25deg_P1D-m_202311',\n",
       " 'CMEMS_GLOBAL_BGC__optics_anfc_0_25deg_P1M-m_202311',\n",
       " 'CMEMS_GLOBAL_BGC__pft_anfc_0_25deg_P1D-m_202311',\n",
       " 'CMEMS_GLOBAL_BGC__pft_anfc_0_25deg_P1M-m_202311',\n",
       " 'CMEMS_GLOBAL_MULTIYEAR_BGC__my_0_083deg-lmtl-Fphy_PT1D-i_202211',\n",
       " 'CMEMS_GLOBAL_MULTIYEAR_BGC__my_0_083deg-lmtl_PT1D-i_202211',\n",
       " 'CMEMS_GLOBAL_MULTIYEAR_PHY__my_0_083deg_P1D-m_202311',\n",
       " 'CMEMS_GLOBAL_MULTIYEAR_PHY__my_0_083deg_P1M-m_202311',\n",
       " 'CMEMS_GLOBAL_MULTIYEAR_PHY__my_0_083deg_static_202311',\n",
       " 'CMEMS_GLOBAL_MULTIYEAR_PHY__myint_0_083deg_P1D-m_202311',\n",
       " 'CMEMS_GLOBAL_MULTIYEAR_PHY__myint_0_083deg_P1M-m_202311',\n",
       " 'CMEMS_GLOBAL_MULTIYEAR_WAV__my_0_2deg_PT3H-i_202311',\n",
       " 'CMEMS_GLOBAL_MULTIYEAR_WAV__myint_0_2deg_PT3H-i_202311',\n",
       " 'CMEMS_GLOBAL_PHY__anfc_0_083deg_P1D-m_202211',\n",
       " 'CMEMS_GLOBAL_PHY__anfc_0_083deg_P1M-m_202211',\n",
       " 'CMEMS_GLOBAL_PHY__anfc_0_083deg_PT1H-m_202211',\n",
       " 'CMEMS_GLOBAL_PHY__anfc_0_083deg_static_202211',\n",
       " 'CMEMS_GLOBAL_PHY__anfc_merged-uv_PT1H-i_202211',\n",
       " 'CMEMS_GLOBAL_PHY__cur_anfc_0_083deg_P1D',\n",
       " 'CMEMS_GLOBAL_PHY__cur_anfc_0_083deg_P1M',\n",
       " 'CMEMS_GLOBAL_PHY__cur_anfc_0_083deg_PT6H',\n",
       " 'CMEMS_GLOBAL_PHY__so_anfc_0_083deg_P1D',\n",
       " 'CMEMS_GLOBAL_PHY__so_anfc_0_083deg_P1M',\n",
       " 'CMEMS_GLOBAL_PHY__so_anfc_0_083deg_PT6H',\n",
       " 'CMEMS_GLOBAL_PHY__thetao_anfc_0_083deg_P1D',\n",
       " 'CMEMS_GLOBAL_PHY__thetao_anfc_0_083deg_P1M',\n",
       " 'CMEMS_GLOBAL_PHY__thetao_anfc_0_083deg_PT6H',\n",
       " 'CMEMS_GLOBAL_PHY__wcur_anfc_0_083deg_P1D',\n",
       " 'CMEMS_GLOBAL_PHY__wcur_anfc_0_083deg_P1M',\n",
       " 'CMEMS_GLOBAL_WAV',\n",
       " 'CMEMS_GLO_SEAICE_CONC_REP__CONT_TIMESERIES-NH-LA-OBS_202003',\n",
       " 'CMEMS_GLO_SEAICE_CONC_REP__CONT_TIMESERIES-SH-LA-OBS_202003',\n",
       " 'CMEMS_GLO_SEAICE_CONC_REP__TIMESERIES-NH-LA-OBS_202003',\n",
       " 'CMEMS_GLO_SEAICE_CONC_REP__TIMESERIES-SH-LA-OBS_202003',\n",
       " 'CMEMS_GLO_SEAICE_DRIFT_SAR__DTU-GLO-SEAICE_DRIFT-NORTH-L4-NRT-OBS',\n",
       " 'CMEMS_GLO_SEAICE_DRIFT_SAR__DTU-GLO-SEAICE_DRIFT-SOUTH-L4-NRT-OBS',\n",
       " 'CMEMS_GLO_SEAICE_DRIFT_SAR__cmems_sat-si_glo_drift_nrt_north_d_202007',\n",
       " 'CMEMS_GLO_SEAICE_DRIFT_SAR__cmems_sat-si_glo_drift_nrt_south_d_202007',\n",
       " 'CMEMS_GLO_SEAICE_L4_NRT_CONC__north_nrt_amsr2_l4_P1D-m_202304',\n",
       " 'CMEMS_GLO_SEAICE_L4_NRT_CONC__north_nrt_ssmis_l4_P1D-m_202304',\n",
       " 'CMEMS_GLO_SEAICE_L4_NRT_CONC__south_nrt_amsr2_l4_P1D-m_202304',\n",
       " 'CMEMS_GLO_SEAICE_L4_NRT_CONC__south_nrt_ssmis_l4_P1D-m_202304',\n",
       " 'CMEMS_GLO_SEAICE_L4_NRT_DRIFT__NORTH-L4-NRT-OBS',\n",
       " 'CMEMS_GLO_SEAICE_L4_NRT_DRIFT__SOUTH-L4-NRT-OBS',\n",
       " 'CMEMS_GLO_SEAICE_L4_NRT_EDGE__nrt_nh-P1D_202107',\n",
       " 'CMEMS_GLO_SEAICE_L4_NRT_EDGE__nrt_sh-P1D_202107',\n",
       " 'CMEMS_GLO_SEAICE_L4_NRT_TYPE__nrt_nh-P1D_202107',\n",
       " 'CMEMS_GLO_SEAICE_L4_NRT_TYPE__nrt_sh-P1D_202107',\n",
       " 'CMEMS_GLO_SEALEVEL_PHY_L4_NRT',\n",
       " 'CMEMS_GLO_SEALEVEL_PHY_MDT',\n",
       " 'CMEMS_GLO_SST_L3S_NRT__IFREMER-GLOB-SST-L3-NRT-OBS_FULL_TIME_SERIE_202211',\n",
       " 'CMEMS_GLO_SST_L3S_NRT__cmems_obs-sst_glo_phy_l3s_gir_P1D-m_202311',\n",
       " 'CMEMS_GLO_SST_L3S_NRT__cmems_obs-sst_glo_phy_l3s_pir_P1D-m_202311',\n",
       " 'CMEMS_GLO_SST_L3S_NRT__cmems_obs-sst_glo_phy_l3s_pmw_P1D-m_202311',\n",
       " 'CMEMS_GLO_SST_L4_NRT',\n",
       " 'CMEMS_GLO_SST_L4_REP',\n",
       " 'CMEMS_GLO_SST_L4_REP_C3S',\n",
       " 'CMEMS_GLO_SST_L4_REP_CCI',\n",
       " 'CMEMS_GLO_WAVE_SPC_L4_NRT',\n",
       " 'CMEMS_GLO_WAVE_SWH_L3_NRT__swh_nrt_al-l3_PT1S_202211',\n",
       " 'CMEMS_GLO_WAVE_SWH_L3_NRT__swh_nrt_c2-l3_PT1S_202211',\n",
       " 'CMEMS_GLO_WAVE_SWH_L3_NRT__swh_nrt_cfo-l3_PT1S_202211',\n",
       " 'CMEMS_GLO_WAVE_SWH_L3_NRT__swh_nrt_h2b-l3_PT1S_202211',\n",
       " 'CMEMS_GLO_WAVE_SWH_L3_NRT__swh_nrt_h2c-l3_PT1S_202211',\n",
       " 'CMEMS_GLO_WAVE_SWH_L3_NRT__swh_nrt_j3-l3_PT1S_202211',\n",
       " 'CMEMS_GLO_WAVE_SWH_L3_NRT__swh_nrt_s3a-l3_PT1S_202211',\n",
       " 'CMEMS_GLO_WAVE_SWH_L3_NRT__swh_nrt_s3b-l3_PT1S_202211',\n",
       " 'CMEMS_GLO_WAVE_SWH_L3_NRT__swh_nrt_s6a-l3_PT1S_202211',\n",
       " 'CMEMS_GLO_WAVE_SWH_L3_NRT__swh_nrt_swon-l3_PT1S_202211',\n",
       " 'CMEMS_GLO_WAVE_SWH_L4_NRT',\n",
       " 'CMEMS_GLO_WIND_L3_NRT___HY-2B_HSCAT_25_ASC_V2_202012',\n",
       " 'CMEMS_GLO_WIND_L3_NRT___HY-2B_HSCAT_25_DES_V2_202012',\n",
       " 'CMEMS_GLO_WIND_L3_NRT___HY-2B_HSCAT_50_ASC_V2_202012',\n",
       " 'CMEMS_GLO_WIND_L3_NRT___HY-2B_HSCAT_50_DES_V2_202012',\n",
       " 'CMEMS_GLO_WIND_L3_NRT___HY-2C_HSCAT_25_ASC_V2_202112',\n",
       " 'CMEMS_GLO_WIND_L3_NRT___HY-2C_HSCAT_25_DES_V2_202112',\n",
       " 'CMEMS_GLO_WIND_L3_NRT___HY-2C_HSCAT_50_ASC_V2_202112',\n",
       " 'CMEMS_GLO_WIND_L3_NRT___HY-2C_HSCAT_50_DES_V2_202112',\n",
       " 'CMEMS_GLO_WIND_L3_NRT___HY-2D_HSCAT_25_ASC_V2_202211',\n",
       " 'CMEMS_GLO_WIND_L3_NRT___HY-2D_HSCAT_25_DES_V2_202211',\n",
       " 'CMEMS_GLO_WIND_L3_NRT___HY-2D_HSCAT_50_ASC_V2_202211',\n",
       " 'CMEMS_GLO_WIND_L3_NRT___HY-2D_HSCAT_50_DES_V2_202211',\n",
       " 'CMEMS_GLO_WIND_L3_NRT___METOP-A_ASCAT_12_ASC_V2',\n",
       " 'CMEMS_GLO_WIND_L3_NRT___METOP-A_ASCAT_12_DES_V2',\n",
       " 'CMEMS_GLO_WIND_L3_NRT___METOP-A_ASCAT_25_ASC_V2',\n",
       " 'CMEMS_GLO_WIND_L3_NRT___METOP-A_ASCAT_25_DES_V2',\n",
       " 'CMEMS_GLO_WIND_L3_NRT___METOP-B_ASCAT_12_ASC_V2',\n",
       " 'CMEMS_GLO_WIND_L3_NRT___METOP-B_ASCAT_12_DES_V2',\n",
       " 'CMEMS_GLO_WIND_L3_NRT___METOP-B_ASCAT_25_ASC_V2',\n",
       " 'CMEMS_GLO_WIND_L3_NRT___METOP-B_ASCAT_25_DES_V2',\n",
       " 'CMEMS_GLO_WIND_L3_NRT___METOP-C_ASCAT_12_ASC_V2_201912',\n",
       " 'CMEMS_GLO_WIND_L3_NRT___METOP-C_ASCAT_12_DES_V2_201912',\n",
       " 'CMEMS_GLO_WIND_L3_NRT___METOP-C_ASCAT_25_ASC_V2_201912',\n",
       " 'CMEMS_GLO_WIND_L3_NRT___METOP-C_ASCAT_25_DES_V2_201912',\n",
       " 'CMEMS_GLO_WIND_L3_NRT___SCATSAT-1_OSCAT_25_ASC_V2_201811',\n",
       " 'CMEMS_GLO_WIND_L3_NRT___SCATSAT-1_OSCAT_25_DES_V2_201811',\n",
       " 'CMEMS_GLO_WIND_L3_NRT___SCATSAT-1_OSCAT_50_ASC_V2_201811',\n",
       " 'CMEMS_GLO_WIND_L3_NRT___SCATSAT-1_OSCAT_50_DES_V2_201811',\n",
       " 'CMEMS_GLO_WIND_L3_REP___ERS-1_SCAT_25_ASC_202007',\n",
       " 'CMEMS_GLO_WIND_L3_REP___ERS-1_SCAT_25_DES_202007',\n",
       " 'CMEMS_GLO_WIND_L3_REP___ERS-2_SCAT_25_ASC_202007',\n",
       " 'CMEMS_GLO_WIND_L3_REP___ERS-2_SCAT_25_DES_202007',\n",
       " 'CMEMS_GLO_WIND_L3_REP___METOP-A_ASCAT_12_ASC_202007',\n",
       " 'CMEMS_GLO_WIND_L3_REP___METOP-A_ASCAT_12_DES_202007',\n",
       " 'CMEMS_GLO_WIND_L3_REP___METOP-A_ASCAT_25_ASC_202007',\n",
       " 'CMEMS_GLO_WIND_L3_REP___METOP-A_ASCAT_25_DES_202007',\n",
       " 'CMEMS_GLO_WIND_L3_REP___METOP-B_ASCAT_12_ASC_202112',\n",
       " 'CMEMS_GLO_WIND_L3_REP___METOP-B_ASCAT_12_DES_202112',\n",
       " 'CMEMS_GLO_WIND_L3_REP___METOP-B_ASCAT_25_ASC_202112',\n",
       " 'CMEMS_GLO_WIND_L3_REP___METOP-B_ASCAT_25_DES_202112',\n",
       " 'CMEMS_GLO_WIND_L3_REP___OCEANSAT2_OSCAT_25_ASC_202007',\n",
       " 'CMEMS_GLO_WIND_L3_REP___OCEANSAT2_OSCAT_25_DES_202007',\n",
       " 'CMEMS_GLO_WIND_L3_REP___OCEANSAT2_OSCAT_50_ASC_202007',\n",
       " 'CMEMS_GLO_WIND_L3_REP___OCEANSAT2_OSCAT_50_DES_202007',\n",
       " 'CMEMS_GLO_WIND_L3_REP___QUIKSCAT_SEAWINDS_25_ASC_202007',\n",
       " 'CMEMS_GLO_WIND_L3_REP___QUIKSCAT_SEAWINDS_25_DES_202007',\n",
       " 'CMEMS_GLO_WIND_L3_REP___QUIKSCAT_SEAWINDS_50_ASC_202007',\n",
       " 'CMEMS_GLO_WIND_L3_REP___QUIKSCAT_SEAWINDS_50_DES_202007',\n",
       " 'CMEMS_GLO_WIND_L4_MY',\n",
       " 'CMEMS_GLO_WIND_L4_NRT',\n",
       " 'CMEMS_MULTIOBS_GLO_BGC_NUTRIENTS_CARBON',\n",
       " 'CMEMS_MULTIOBS_GLO_BIO_BGC_3D_REP__3d_rep_clim_202112',\n",
       " 'CMEMS_MULTIOBS_GLO_BIO_BGC_3D_REP__3d_rep_weekly_202112',\n",
       " 'CMEMS_MULTIOBS_GLO_BIO_CARBON_SURFACE_REP',\n",
       " 'CMEMS_MULTIOBS_GLO_PHY_MY__cur_my_0_25deg_P1D-i_202311',\n",
       " 'CMEMS_MULTIOBS_GLO_PHY_MY__cur_my_0_25deg_P1M-i_202311',\n",
       " 'CMEMS_MULTIOBS_GLO_PHY_MY__cur_my_0_25deg_PT1H-i_202311',\n",
       " 'CMEMS_MULTIOBS_GLO_PHY_NRT__cur_nrt_0_25deg_P1D-i_202311',\n",
       " 'CMEMS_MULTIOBS_GLO_PHY_NRT__cur_nrt_0_25deg_P1M-i_202311',\n",
       " 'CMEMS_MULTIOBS_GLO_PHY_NRT__cur_nrt_0_25deg_PT1H-i_202311',\n",
       " 'CMEMS_MULTIOBS_GLO_PHY_SSS_L3_MYNRT',\n",
       " 'CMEMS_MULTIOBS_GLO_PHY_TSUV_3D_MYNRT__3d-nrt-monthly_202012',\n",
       " 'CMEMS_MULTIOBS_GLO_PHY_TSUV_3D_MYNRT__3d-nrt-weekly_202012',\n",
       " 'CMEMS_MULTIOBS_GLO_PHY_TSUV_3D_MYNRT__3d-rep-monthly_202012',\n",
       " 'CMEMS_MULTIOBS_GLO_PHY_TSUV_3D_MYNRT__3d-rep-weekly_202012',\n",
       " 'CMEMS_MULTIOBS_GLO_PHY_W_3D_REP',\n",
       " 'CMEMS_OCEANCOLOUR_GLO_BGC_L3_MY_DAILY_PLANKTON',\n",
       " 'CMEMS_OCEANCOLOUR_GLO_BGC_L3_MY_DAILY_REFLECTANCE',\n",
       " 'CMEMS_OCEANCOLOUR_GLO_BGC_L3_MY_OPTICS',\n",
       " 'CMEMS_OCEANCOLOUR_GLO_BGC_L3_MY_PLANKTON__l3-multi-4km_P1D_202311',\n",
       " 'CMEMS_OCEANCOLOUR_GLO_BGC_L3_MY_PLANKTON__l3-olci-300m_P1D_202207',\n",
       " 'CMEMS_OCEANCOLOUR_GLO_BGC_L3_MY_PLANKTON__l3-olci-4km_P1D_202207',\n",
       " 'CMEMS_OCEANCOLOUR_GLO_BGC_L3_NRT_OPTICS',\n",
       " 'CMEMS_OCEANCOLOUR_GLO_BGC_L3_NRT_PLANKTON__l3-olci-300m_P1D_202207',\n",
       " 'CMEMS_OCEANCOLOUR_GLO_BGC_L3_NRT_PLANKTON__l3-olci-4km_P1D_202207',\n",
       " 'CMEMS_OCEANCOLOUR_GLO_BGC_L3_NRT_PLANKTON__nrt_l3-multi-4km_P1D_202311',\n",
       " 'CMEMS_OCEANCOLOUR_GLO_BGC_L4_MY_MONTHLY',\n",
       " 'CMEMS_OCEANCOLOUR_GLO_BGC_L4_MY_OPTICS__l4-multi-4km_P1M_202311',\n",
       " 'CMEMS_OCEANCOLOUR_GLO_BGC_L4_MY_OPTICS__l4-olci-300m_P1M_202211',\n",
       " 'CMEMS_OCEANCOLOUR_GLO_BGC_L4_MY_OPTICS__l4-olci-4km_P1M_202207',\n",
       " 'CMEMS_OCEANCOLOUR_GLO_BGC_L4_MY_PLANKTON__l4-gapfree-multi-4km_P1D_202311',\n",
       " 'CMEMS_OCEANCOLOUR_GLO_BGC_L4_MY_PLANKTON__l4-multi-4km_P1M_202311',\n",
       " 'CMEMS_OCEANCOLOUR_GLO_BGC_L4_MY_PLANKTON__l4-olci-300m_P1M_202207',\n",
       " 'CMEMS_OCEANCOLOUR_GLO_BGC_L4_MY_PLANKTON__l4-olci-4km_P1M_202207',\n",
       " 'CMEMS_OCEANCOLOUR_GLO_BGC_L4_NRT_OPTICS__l4-multi-4km_P1M_202311',\n",
       " 'CMEMS_OCEANCOLOUR_GLO_BGC_L4_NRT_OPTICS__l4-olci-300m_P1M_202211',\n",
       " 'CMEMS_OCEANCOLOUR_GLO_BGC_L4_NRT_OPTICS__l4-olci-4km_P1M_202207',\n",
       " 'CMEMS_OCEANCOLOUR_GLO_BGC_L4_NRT_PLANKTON__l4-gapfree-multi-4km_P1D_202311',\n",
       " 'CMEMS_OCEANCOLOUR_GLO_BGC_L4_NRT_PLANKTON__l4-multi-4km_P1M_202311',\n",
       " 'CMEMS_OCEANCOLOUR_GLO_BGC_L4_NRT_PLANKTON__l4-olci-300m_P1M_202207',\n",
       " 'CMEMS_OCEANCOLOUR_GLO_BGC_L4_NRT_PLANKTON__l4-olci-4km_P1M_202207',\n",
       " 'COP_DEM_GLO30_DGED',\n",
       " 'COP_DEM_GLO30_DTED',\n",
       " 'COP_DEM_GLO90_DGED',\n",
       " 'COP_DEM_GLO90_DTED',\n",
       " 'EEA_DAILY_VI',\n",
       " 'EFAS_FORECAST',\n",
       " 'EFAS_HISTORICAL',\n",
       " 'EFAS_REFORECAST',\n",
       " 'EFAS_SEASONAL',\n",
       " 'EFAS_SEASONAL_REFORECAST',\n",
       " 'ERA5_LAND',\n",
       " 'ERA5_LAND_MONTHLY',\n",
       " 'ERA5_PL',\n",
       " 'ERA5_PL_MONTHLY',\n",
       " 'ERA5_SL',\n",
       " 'ERA5_SL_MONTHLY',\n",
       " 'FIRE_HISTORICAL',\n",
       " 'GLACIERS_DIST_RANDOLPH',\n",
       " 'GLOFAS_FORECAST',\n",
       " 'GLOFAS_HISTORICAL',\n",
       " 'GLOFAS_REFORECAST',\n",
       " 'GLOFAS_SEASONAL',\n",
       " 'GLOFAS_SEASONAL_REFORECAST',\n",
       " 'GRIDDED_GLACIERS_MASS_CHANGE',\n",
       " 'S1_SAR_GRD',\n",
       " 'S1_SAR_OCN',\n",
       " 'S1_SAR_RAW',\n",
       " 'S1_SAR_SLC',\n",
       " 'S2_MSI_L1C',\n",
       " 'S2_MSI_L2A',\n",
       " 'S2_MSI_L2AP',\n",
       " 'S3_EFR',\n",
       " 'S3_ERR',\n",
       " 'S3_LAN_HY',\n",
       " 'S3_LAN_LI',\n",
       " 'S3_LAN_SI',\n",
       " 'S3_OLCI_L2LFR',\n",
       " 'S3_OLCI_L2LRR',\n",
       " 'S3_OLCI_L2WFR',\n",
       " 'S3_OLCI_L2WRR',\n",
       " 'S3_SLSTR_L1RBT',\n",
       " 'S3_SLSTR_L2',\n",
       " 'S3_SRA',\n",
       " 'S3_SRA_A',\n",
       " 'S3_SRA_BS',\n",
       " 'S3_WAT',\n",
       " 'S5P_L1B_IR_ALL',\n",
       " 'S5P_L2_IR_ALL',\n",
       " 'SATELLITE_CARBON_DIOXIDE',\n",
       " 'SATELLITE_METHANE',\n",
       " 'SATELLITE_SEA_ICE_EDGE_TYPE',\n",
       " 'SATELLITE_SEA_LEVEL_BLACK_SEA',\n",
       " 'SATELLITE_SEA_LEVEL_GLOBAL',\n",
       " 'SATELLITE_SEA_LEVEL_MEDITERRANEAN',\n",
       " 'SEASONAL_MONTHLY_PL',\n",
       " 'SEASONAL_MONTHLY_SL',\n",
       " 'SEASONAL_ORIGINAL_PL',\n",
       " 'SEASONAL_ORIGINAL_SL',\n",
       " 'SEASONAL_POSTPROCESSED_PL',\n",
       " 'SEASONAL_POSTPROCESSED_SL',\n",
       " 'UERRA_EUROPE_SL']"
      ]
     },
     "execution_count": 3,
     "metadata": {},
     "output_type": "execute_result"
    }
   ],
   "source": [
    "[pt[\"ID\"] for pt in wekeo_product_types]"
   ]
  },
  {
   "cell_type": "markdown",
   "metadata": {},
   "source": [
    "Search for data on one these product types:"
   ]
  },
  {
   "cell_type": "code",
   "execution_count": 4,
   "metadata": {},
   "outputs": [
    {
     "data": {
      "text/plain": [
       "SearchResult([EOProduct(id=4bd37b17b45d146f378e349ab3f90464, provider=wekeo)])"
      ]
     },
     "execution_count": 4,
     "metadata": {},
     "output_type": "execute_result"
    }
   ],
   "source": [
    "products, total_count = dag.search(\n",
    "    productType=\"GLOFAS_FORECAST\", \n",
    "    start=\"2023-01-01\", \n",
    "    end=\"2023-01-02\", \n",
    "    geom=[0.25, 43.2, 2.8, 43.9],\n",
    "    provider=\"wekeo\"\n",
    ")\n",
    "products"
   ]
  },
  {
   "cell_type": "markdown",
   "metadata": {},
   "source": [
    "Download found product to `/tmp`:"
   ]
  },
  {
   "cell_type": "code",
   "execution_count": 5,
   "metadata": {},
   "outputs": [
    {
     "data": {
      "application/vnd.jupyter.widget-view+json": {
       "model_id": "73f7efd0ef104cb8932124d531430b0f",
       "version_major": 2,
       "version_minor": 0
      },
      "text/plain": [
       "0.00B [00:00, ?B/s]"
      ]
     },
     "metadata": {},
     "output_type": "display_data"
    },
    {
     "data": {
      "text/html": [
       "[Retry #3] Waiting 118.618292s until next download try for ordered product (retry every 2' for 20')"
      ],
      "text/plain": [
       "<IPython.core.display.HTML object>"
      ]
     },
     "metadata": {},
     "output_type": "display_data"
    },
    {
     "name": "stderr",
     "output_type": "stream",
     "text": [
      "Downloaded product is not a Zip File. Please check its file type before using it\n"
     ]
    },
    {
     "data": {
      "text/plain": [
       "'/tmp/4bd37b17b45d146f378e349ab3f90464'"
      ]
     },
     "execution_count": 5,
     "metadata": {},
     "output_type": "execute_result"
    }
   ],
   "source": [
    "path = products[0].download(outputs_prefix=\"/tmp\")\n",
    "path"
   ]
  },
  {
   "cell_type": "markdown",
   "metadata": {},
   "source": [
    "## The WEkEO data viewer\n",
    "\n",
    "If you go to the WEkEO [homepage](https://www.wekeo.eu) and click on \"Data\" in the top menu, you can search for products online. You can choose a product type (called dataset in WEkEO) by clicking on the \"+\" button next to \"Layers\" on the left side. Then you can choose some filter parameters and create a data request job which will show up in the next tab where the products can be downloaded. The data viewer currently still uses the old version of the API where data requests have to be created to search product. In contrast, the latest version of EODAG already uses the new API (https://gateway.prod.wekeo2.eu/hda-broker/api/v1) where a direct search without data requests is possible."
   ]
  }
 ],
 "metadata": {
  "kernelspec": {
   "display_name": "Python 3 (ipykernel)",
   "language": "python",
   "name": "python3"
  },
  "language_info": {
   "codemirror_mode": {
    "name": "ipython",
    "version": 3
   },
   "file_extension": ".py",
   "mimetype": "text/x-python",
   "name": "python",
   "nbconvert_exporter": "python",
   "pygments_lexer": "ipython3",
   "version": "3.8.10"
  }
 },
 "nbformat": 4,
 "nbformat_minor": 4
}
