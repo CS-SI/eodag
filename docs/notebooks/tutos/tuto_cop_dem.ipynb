{
 "cells": [
  {
   "cell_type": "markdown",
   "metadata": {},
   "source": [
    "# Get Copernicus DEM using EODAG\n",
    "\n",
    "This tutorial will help you to search and download Copernicus DEM using EODAG"
   ]
  },
  {
   "cell_type": "code",
   "execution_count": 1,
   "metadata": {},
   "outputs": [],
   "source": [
    "import os\n",
    "from eodag import EODataAccessGateway"
   ]
  },
  {
   "cell_type": "markdown",
   "metadata": {},
   "source": [
    "Create a workspace directory `eodag_workspace_copdem` where all our files will live:"
   ]
  },
  {
   "cell_type": "code",
   "execution_count": 2,
   "metadata": {},
   "outputs": [],
   "source": [
    "workspace = 'eodag_workspace_copdem'\n",
    "if not os.path.isdir(workspace):\n",
    "    os.mkdir(workspace)"
   ]
  },
  {
   "cell_type": "markdown",
   "metadata": {},
   "source": [
    "## Search products"
   ]
  },
  {
   "cell_type": "markdown",
   "metadata": {},
   "source": [
    "Init EODAG and get available product types from Copernicus DEM"
   ]
  },
  {
   "cell_type": "code",
   "execution_count": 3,
   "metadata": {},
   "outputs": [
    {
     "data": {
      "text/plain": [
       "['COP_DEM_GLO30_DGED',\n",
       " 'COP_DEM_GLO30_DTED',\n",
       " 'COP_DEM_GLO90_DGED',\n",
       " 'COP_DEM_GLO90_DTED']"
      ]
     },
     "execution_count": 3,
     "metadata": {},
     "output_type": "execute_result"
    }
   ],
   "source": [
    "dag = EODataAccessGateway()\n",
    "\n",
    "dag.guess_product_type(keywords=\"DEM\")"
   ]
  },
  {
   "cell_type": "markdown",
   "metadata": {},
   "source": [
    "Check which providers support `COP_DEM_GLO30_DGED`"
   ]
  },
  {
   "cell_type": "code",
   "execution_count": 4,
   "metadata": {},
   "outputs": [
    {
     "data": {
      "text/plain": [
       "['creodias', 'wekeo']"
      ]
     },
     "execution_count": 4,
     "metadata": {},
     "output_type": "execute_result"
    }
   ],
   "source": [
    "product_type = \"COP_DEM_GLO30_DGED\"\n",
    "dag.available_providers(product_type)"
   ]
  },
  {
   "cell_type": "code",
   "execution_count": 5,
   "metadata": {},
   "outputs": [
    {
     "name": "stderr",
     "output_type": "stream",
     "text": [
      "Product type 'COP_DEM_GLO30_DGED' is not available with provider 'peps'. Searching it on provider 'creodias' instead.\n"
     ]
    },
    {
     "data": {
      "text/plain": [
       "SearchResult([EOProduct(id=DEM1_SAR_DGE_30_20110216T174143_20140906T174215_ADS_000000_jSLP, provider=creodias),\n",
       "              EOProduct(id=DEM1_SAR_DGE_30_20110417T175032_20140906T174215_ADS_000000_PIJx, provider=creodias),\n",
       "              EOProduct(id=DEM1_SAR_DGE_30_20110428T174952_20140831T175054_ADS_000000_Q3FX, provider=creodias)])"
      ]
     },
     "execution_count": 5,
     "metadata": {},
     "output_type": "execute_result"
    }
   ],
   "source": [
    "search_geom = [0.25, 43.2, 2.8, 43.9]\n",
    "search_result = dag.search(productType=product_type, geom=search_geom)\n",
    "search_result"
   ]
  },
  {
   "cell_type": "markdown",
   "metadata": {},
   "source": [
    "Draw results geometries on a map:"
   ]
  },
  {
   "cell_type": "code",
   "execution_count": 6,
   "metadata": {},
   "outputs": [
    {
     "data": {
      "text/html": [
       "<div style=\"width:100%;\"><div style=\"position:relative;width:100%;height:0;padding-bottom:60%;\"><span style=\"color:#565656\">Make this Notebook Trusted to load map: File -> Trust Notebook</span><iframe srcdoc=\"&lt;!DOCTYPE html&gt;\n",
       "&lt;html&gt;\n",
       "&lt;head&gt;\n",
       "    \n",
       "    &lt;meta http-equiv=&quot;content-type&quot; content=&quot;text/html; charset=UTF-8&quot; /&gt;\n",
       "    \n",
       "        &lt;script&gt;\n",
       "            L_NO_TOUCH = false;\n",
       "            L_DISABLE_3D = false;\n",
       "        &lt;/script&gt;\n",
       "    \n",
       "    &lt;style&gt;html, body {width: 100%;height: 100%;margin: 0;padding: 0;}&lt;/style&gt;\n",
       "    &lt;style&gt;#map {position:absolute;top:0;bottom:0;right:0;left:0;}&lt;/style&gt;\n",
       "    &lt;script src=&quot;https://cdn.jsdelivr.net/npm/leaflet@1.9.3/dist/leaflet.js&quot;&gt;&lt;/script&gt;\n",
       "    &lt;script src=&quot;https://code.jquery.com/jquery-1.12.4.min.js&quot;&gt;&lt;/script&gt;\n",
       "    &lt;script src=&quot;https://cdn.jsdelivr.net/npm/bootstrap@5.2.2/dist/js/bootstrap.bundle.min.js&quot;&gt;&lt;/script&gt;\n",
       "    &lt;script src=&quot;https://cdnjs.cloudflare.com/ajax/libs/Leaflet.awesome-markers/2.0.2/leaflet.awesome-markers.js&quot;&gt;&lt;/script&gt;\n",
       "    &lt;link rel=&quot;stylesheet&quot; href=&quot;https://cdn.jsdelivr.net/npm/leaflet@1.9.3/dist/leaflet.css&quot;/&gt;\n",
       "    &lt;link rel=&quot;stylesheet&quot; href=&quot;https://cdn.jsdelivr.net/npm/bootstrap@5.2.2/dist/css/bootstrap.min.css&quot;/&gt;\n",
       "    &lt;link rel=&quot;stylesheet&quot; href=&quot;https://netdna.bootstrapcdn.com/bootstrap/3.0.0/css/bootstrap.min.css&quot;/&gt;\n",
       "    &lt;link rel=&quot;stylesheet&quot; href=&quot;https://cdn.jsdelivr.net/npm/@fortawesome/fontawesome-free@6.2.0/css/all.min.css&quot;/&gt;\n",
       "    &lt;link rel=&quot;stylesheet&quot; href=&quot;https://cdnjs.cloudflare.com/ajax/libs/Leaflet.awesome-markers/2.0.2/leaflet.awesome-markers.css&quot;/&gt;\n",
       "    &lt;link rel=&quot;stylesheet&quot; href=&quot;https://cdn.jsdelivr.net/gh/python-visualization/folium/folium/templates/leaflet.awesome.rotate.min.css&quot;/&gt;\n",
       "    \n",
       "            &lt;meta name=&quot;viewport&quot; content=&quot;width=device-width,\n",
       "                initial-scale=1.0, maximum-scale=1.0, user-scalable=no&quot; /&gt;\n",
       "            &lt;style&gt;\n",
       "                #map_84ab30d78c52ea1611de8ac88326b1de {\n",
       "                    position: relative;\n",
       "                    width: 100.0%;\n",
       "                    height: 100.0%;\n",
       "                    left: 0.0%;\n",
       "                    top: 0.0%;\n",
       "                }\n",
       "                .leaflet-container { font-size: 1rem; }\n",
       "            &lt;/style&gt;\n",
       "        \n",
       "    \n",
       "                    &lt;style&gt;\n",
       "                        .foliumtooltip {\n",
       "                            \n",
       "                        }\n",
       "                       .foliumtooltip table{\n",
       "                            margin: auto;\n",
       "                        }\n",
       "                        .foliumtooltip tr{\n",
       "                            text-align: left;\n",
       "                        }\n",
       "                        .foliumtooltip th{\n",
       "                            padding: 2px; padding-right: 8px;\n",
       "                        }\n",
       "                    &lt;/style&gt;\n",
       "            \n",
       "&lt;/head&gt;\n",
       "&lt;body&gt;\n",
       "    \n",
       "    \n",
       "            &lt;div class=&quot;folium-map&quot; id=&quot;map_84ab30d78c52ea1611de8ac88326b1de&quot; &gt;&lt;/div&gt;\n",
       "        \n",
       "&lt;/body&gt;\n",
       "&lt;script&gt;\n",
       "    \n",
       "    \n",
       "            var map_84ab30d78c52ea1611de8ac88326b1de = L.map(\n",
       "                &quot;map_84ab30d78c52ea1611de8ac88326b1de&quot;,\n",
       "                {\n",
       "                    center: [43.5, 1.5],\n",
       "                    crs: L.CRS.EPSG3857,\n",
       "                    zoom: 8,\n",
       "                    zoomControl: true,\n",
       "                    preferCanvas: false,\n",
       "                }\n",
       "            );\n",
       "\n",
       "            \n",
       "\n",
       "        \n",
       "    \n",
       "            var tile_layer_31b1cc1e3471d62bb5b24aa3ac5434a5 = L.tileLayer(\n",
       "                &quot;https://{s}.tile.openstreetmap.org/{z}/{x}/{y}.png&quot;,\n",
       "                {&quot;attribution&quot;: &quot;Data by \\u0026copy; \\u003ca target=\\&quot;_blank\\&quot; href=\\&quot;http://openstreetmap.org\\&quot;\\u003eOpenStreetMap\\u003c/a\\u003e, under \\u003ca target=\\&quot;_blank\\&quot; href=\\&quot;http://www.openstreetmap.org/copyright\\&quot;\\u003eODbL\\u003c/a\\u003e.&quot;, &quot;detectRetina&quot;: false, &quot;maxNativeZoom&quot;: 18, &quot;maxZoom&quot;: 18, &quot;minZoom&quot;: 0, &quot;noWrap&quot;: false, &quot;opacity&quot;: 1, &quot;subdomains&quot;: &quot;abc&quot;, &quot;tms&quot;: false}\n",
       "            ).addTo(map_84ab30d78c52ea1611de8ac88326b1de);\n",
       "        \n",
       "    \n",
       "            var rectangle_931ab6873b8224d56c615214fb24e8e5 = L.rectangle(\n",
       "                [[43.2, 0.25], [43.9, 2.8]],\n",
       "                {&quot;bubblingMouseEvents&quot;: true, &quot;color&quot;: &quot;red&quot;, &quot;dashArray&quot;: null, &quot;dashOffset&quot;: null, &quot;fill&quot;: false, &quot;fillColor&quot;: &quot;red&quot;, &quot;fillOpacity&quot;: 0.2, &quot;fillRule&quot;: &quot;evenodd&quot;, &quot;lineCap&quot;: &quot;round&quot;, &quot;lineJoin&quot;: &quot;round&quot;, &quot;noClip&quot;: false, &quot;opacity&quot;: 1.0, &quot;smoothFactor&quot;: 1.0, &quot;stroke&quot;: true, &quot;weight&quot;: 3}\n",
       "            ).addTo(map_84ab30d78c52ea1611de8ac88326b1de);\n",
       "        \n",
       "    \n",
       "            rectangle_931ab6873b8224d56c615214fb24e8e5.bindTooltip(\n",
       "                `&lt;div&gt;\n",
       "                     Search extent\n",
       "                 &lt;/div&gt;`,\n",
       "                {&quot;sticky&quot;: true}\n",
       "            );\n",
       "        \n",
       "    \n",
       "\n",
       "        function geo_json_1cafae43389544b0a95bbbb978333112_onEachFeature(feature, layer) {\n",
       "            layer.on({\n",
       "            });\n",
       "        };\n",
       "        var geo_json_1cafae43389544b0a95bbbb978333112 = L.geoJson(null, {\n",
       "                onEachFeature: geo_json_1cafae43389544b0a95bbbb978333112_onEachFeature,\n",
       "            \n",
       "        });\n",
       "\n",
       "        function geo_json_1cafae43389544b0a95bbbb978333112_add (data) {\n",
       "            geo_json_1cafae43389544b0a95bbbb978333112\n",
       "                .addData(data)\n",
       "                .addTo(map_84ab30d78c52ea1611de8ac88326b1de);\n",
       "        }\n",
       "            geo_json_1cafae43389544b0a95bbbb978333112_add({&quot;features&quot;: [{&quot;geometry&quot;: {&quot;coordinates&quot;: [[[2.0, 43.0], [3.0, 43.0], [3.0, 44.0], [2.0, 44.0], [2.0, 43.0]]], &quot;type&quot;: &quot;Polygon&quot;}, &quot;id&quot;: &quot;DEM1_SAR_DGE_30_20110216T174143_20140906T174215_ADS_000000_jSLP&quot;, &quot;properties&quot;: {&quot;abstract&quot;: &quot;The Copernicus DEM is a Digital Surface Model (DSM) that represents the surface of the Earth including buildings, infrastructure and vegetation. Data were acquired through the TanDEM-X mission between 2011 and 2015 [https://spacedata.copernicus.eu/collections/copernicus-digital-elevation-model].&quot;, &quot;accessConstraint&quot;: {&quot;description&quot;: {&quot;shortName&quot;: &quot;No license&quot;}, &quot;grantedCountries&quot;: null, &quot;grantedFlags&quot;: null, &quot;grantedOrganizationCountries&quot;: null, &quot;hasToBeSigned&quot;: &quot;never&quot;, &quot;licenseId&quot;: &quot;unlicensed&quot;, &quot;signatureQuota&quot;: -1, &quot;viewService&quot;: &quot;public&quot;}, &quot;centroid&quot;: {&quot;coordinates&quot;: [2.5, 43.5], &quot;type&quot;: &quot;Point&quot;}, &quot;completionTimeFromAscendingNode&quot;: &quot;2014-09-06T17:42:15.000Z&quot;, &quot;downloadLink&quot;: &quot;https://zipper.creodias.eu/download/e2d2e6dd-198f-53b0-9b93-f898ab28cf8c&quot;, &quot;eodag_product_type&quot;: &quot;COP_DEM_GLO30_DGED&quot;, &quot;eodag_provider&quot;: &quot;creodias&quot;, &quot;eodag_search_intersection&quot;: {&quot;coordinates&quot;: [[[2.0, 43.9], [2.8, 43.9], [2.8, 43.2], [2.0, 43.2], [2.0, 43.9]]], &quot;type&quot;: &quot;Polygon&quot;}, &quot;gmlgeometry&quot;: &quot;\\u003cgml:Polygon srsName=\\&quot;EPSG:4326\\&quot;\\u003e\\u003cgml:outerBoundaryIs\\u003e\\u003cgml:LinearRing\\u003e\\u003cgml:coordinates\\u003e2,43 3,43 3,44 2,44 2,43\\u003c/gml:coordinates\\u003e\\u003c/gml:LinearRing\\u003e\\u003c/gml:outerBoundaryIs\\u003e\\u003c/gml:Polygon\\u003e&quot;, &quot;instrument&quot;: null, &quot;keywords&quot;: &quot;TerraSAR,TanDEM-X,DEM,surface,GLO-30,DSM,GDGED&quot;, &quot;license&quot;: &quot;proprietary&quot;, &quot;links&quot;: [{&quot;href&quot;: &quot;https://datahub.creodias.eu/resto/collections/COP-DEM/e2d2e6dd-198f-53b0-9b93-f898ab28cf8c.json&quot;, &quot;rel&quot;: &quot;self&quot;, &quot;title&quot;: &quot;GeoJSON link for e2d2e6dd-198f-53b0-9b93-f898ab28cf8c&quot;, &quot;type&quot;: &quot;application/json&quot;}], &quot;missionStartDate&quot;: &quot;2010-06-21T00:00:00Z&quot;, &quot;modificationDate&quot;: &quot;2021-06-21T22:01:44.918Z&quot;, &quot;orbitNumber&quot;: 0, &quot;organisationName&quot;: &quot;ESA&quot;, &quot;parentIdentifier&quot;: null, &quot;platform&quot;: &quot;COP-DEM&quot;, &quot;platformSerialIdentifier&quot;: &quot;&quot;, &quot;polarizationMode&quot;: &quot;HH&quot;, &quot;processingLevel&quot;: null, &quot;productIdentifier&quot;: &quot;/eodata/auxdata/CopDEM/COP-DEM_GLO-30-DGED/DEM1_SAR_DGE_30_20110216T174143_20140906T174215_ADS_000000_jSLP.DEM&quot;, &quot;productType&quot;: &quot;DGE_30&quot;, &quot;publicationDate&quot;: &quot;2021-06-21T22:01:44.918Z&quot;, &quot;quicklook&quot;: null, &quot;resolution&quot;: 30.0, &quot;sensorMode&quot;: null, &quot;sensorType&quot;: &quot;ALTIMETRIC&quot;, &quot;services&quot;: {&quot;download&quot;: {&quot;mimeType&quot;: &quot;application/octet-stream&quot;, &quot;size&quot;: 0, &quot;url&quot;: &quot;https://datahub.creodias.eu/download/e2d2e6dd-198f-53b0-9b93-f898ab28cf8c&quot;}}, &quot;snowCover&quot;: 0, &quot;startTimeFromAscendingNode&quot;: &quot;2011-02-16T17:41:43.000Z&quot;, &quot;storageStatus&quot;: &quot;ONLINE&quot;, &quot;thumbnail&quot;: &quot;https://datahub.creodias.eu/get-object?path=/auxdata/CopDEM/COP-DEM_GLO-30-DGED/DEM1_SAR_DGE_30_20110216T174143_20140906T174215_ADS_000000_jSLP.DEM/DEM1_SAR_DGE_30_20110216T174143_20140906T174215_ADS_000000_jSLP-ql.jpg&quot;, &quot;title&quot;: &quot;DEM1_SAR_DGE_30_20110216T174143_20140906T174215_ADS_000000_jSLP&quot;, &quot;uid&quot;: &quot;e2d2e6dd-198f-53b0-9b93-f898ab28cf8c&quot;}, &quot;type&quot;: &quot;Feature&quot;}, {&quot;geometry&quot;: {&quot;coordinates&quot;: [[[1.0, 43.0], [2.0, 43.0], [2.0, 44.0], [1.0, 44.0], [1.0, 43.0]]], &quot;type&quot;: &quot;Polygon&quot;}, &quot;id&quot;: &quot;DEM1_SAR_DGE_30_20110417T175032_20140906T174215_ADS_000000_PIJx&quot;, &quot;properties&quot;: {&quot;abstract&quot;: &quot;The Copernicus DEM is a Digital Surface Model (DSM) that represents the surface of the Earth including buildings, infrastructure and vegetation. Data were acquired through the TanDEM-X mission between 2011 and 2015 [https://spacedata.copernicus.eu/collections/copernicus-digital-elevation-model].&quot;, &quot;accessConstraint&quot;: {&quot;description&quot;: {&quot;shortName&quot;: &quot;No license&quot;}, &quot;grantedCountries&quot;: null, &quot;grantedFlags&quot;: null, &quot;grantedOrganizationCountries&quot;: null, &quot;hasToBeSigned&quot;: &quot;never&quot;, &quot;licenseId&quot;: &quot;unlicensed&quot;, &quot;signatureQuota&quot;: -1, &quot;viewService&quot;: &quot;public&quot;}, &quot;centroid&quot;: {&quot;coordinates&quot;: [1.5, 43.5], &quot;type&quot;: &quot;Point&quot;}, &quot;completionTimeFromAscendingNode&quot;: &quot;2014-09-06T17:42:15.000Z&quot;, &quot;downloadLink&quot;: &quot;https://zipper.creodias.eu/download/6aead0d1-5def-5c1d-a20d-f1597e1e4b6c&quot;, &quot;eodag_product_type&quot;: &quot;COP_DEM_GLO30_DGED&quot;, &quot;eodag_provider&quot;: &quot;creodias&quot;, &quot;eodag_search_intersection&quot;: {&quot;coordinates&quot;: [[[2.0, 43.2], [1.0, 43.2], [1.0, 43.9], [2.0, 43.9], [2.0, 43.2]]], &quot;type&quot;: &quot;Polygon&quot;}, &quot;gmlgeometry&quot;: &quot;\\u003cgml:Polygon srsName=\\&quot;EPSG:4326\\&quot;\\u003e\\u003cgml:outerBoundaryIs\\u003e\\u003cgml:LinearRing\\u003e\\u003cgml:coordinates\\u003e1,43 2,43 2,44 1,44 1,43\\u003c/gml:coordinates\\u003e\\u003c/gml:LinearRing\\u003e\\u003c/gml:outerBoundaryIs\\u003e\\u003c/gml:Polygon\\u003e&quot;, &quot;instrument&quot;: null, &quot;keywords&quot;: &quot;TerraSAR,TanDEM-X,DEM,surface,GLO-30,DSM,GDGED&quot;, &quot;license&quot;: &quot;proprietary&quot;, &quot;links&quot;: [{&quot;href&quot;: &quot;https://datahub.creodias.eu/resto/collections/COP-DEM/6aead0d1-5def-5c1d-a20d-f1597e1e4b6c.json&quot;, &quot;rel&quot;: &quot;self&quot;, &quot;title&quot;: &quot;GeoJSON link for 6aead0d1-5def-5c1d-a20d-f1597e1e4b6c&quot;, &quot;type&quot;: &quot;application/json&quot;}], &quot;missionStartDate&quot;: &quot;2010-06-21T00:00:00Z&quot;, &quot;modificationDate&quot;: &quot;2021-06-21T19:59:05.813Z&quot;, &quot;orbitNumber&quot;: 0, &quot;organisationName&quot;: &quot;ESA&quot;, &quot;parentIdentifier&quot;: null, &quot;platform&quot;: &quot;COP-DEM&quot;, &quot;platformSerialIdentifier&quot;: &quot;&quot;, &quot;polarizationMode&quot;: &quot;HH&quot;, &quot;processingLevel&quot;: null, &quot;productIdentifier&quot;: &quot;/eodata/auxdata/CopDEM/COP-DEM_GLO-30-DGED/DEM1_SAR_DGE_30_20110417T175032_20140906T174215_ADS_000000_PIJx.DEM&quot;, &quot;productType&quot;: &quot;DGE_30&quot;, &quot;publicationDate&quot;: &quot;2021-06-21T19:59:05.813Z&quot;, &quot;quicklook&quot;: null, &quot;resolution&quot;: 30.0, &quot;sensorMode&quot;: null, &quot;sensorType&quot;: &quot;ALTIMETRIC&quot;, &quot;services&quot;: {&quot;download&quot;: {&quot;mimeType&quot;: &quot;application/octet-stream&quot;, &quot;size&quot;: 0, &quot;url&quot;: &quot;https://datahub.creodias.eu/download/6aead0d1-5def-5c1d-a20d-f1597e1e4b6c&quot;}}, &quot;snowCover&quot;: 0, &quot;startTimeFromAscendingNode&quot;: &quot;2011-04-17T17:50:32.000Z&quot;, &quot;storageStatus&quot;: &quot;ONLINE&quot;, &quot;thumbnail&quot;: &quot;https://datahub.creodias.eu/get-object?path=/auxdata/CopDEM/COP-DEM_GLO-30-DGED/DEM1_SAR_DGE_30_20110417T175032_20140906T174215_ADS_000000_PIJx.DEM/DEM1_SAR_DGE_30_20110417T175032_20140906T174215_ADS_000000_PIJx-ql.jpg&quot;, &quot;title&quot;: &quot;DEM1_SAR_DGE_30_20110417T175032_20140906T174215_ADS_000000_PIJx&quot;, &quot;uid&quot;: &quot;6aead0d1-5def-5c1d-a20d-f1597e1e4b6c&quot;}, &quot;type&quot;: &quot;Feature&quot;}, {&quot;geometry&quot;: {&quot;coordinates&quot;: [[[-0.0, 43.0], [1.0, 43.0], [1.0, 44.0], [-0.0, 44.0], [-0.0, 43.0]]], &quot;type&quot;: &quot;Polygon&quot;}, &quot;id&quot;: &quot;DEM1_SAR_DGE_30_20110428T174952_20140831T175054_ADS_000000_Q3FX&quot;, &quot;properties&quot;: {&quot;abstract&quot;: &quot;The Copernicus DEM is a Digital Surface Model (DSM) that represents the surface of the Earth including buildings, infrastructure and vegetation. Data were acquired through the TanDEM-X mission between 2011 and 2015 [https://spacedata.copernicus.eu/collections/copernicus-digital-elevation-model].&quot;, &quot;accessConstraint&quot;: {&quot;description&quot;: {&quot;shortName&quot;: &quot;No license&quot;}, &quot;grantedCountries&quot;: null, &quot;grantedFlags&quot;: null, &quot;grantedOrganizationCountries&quot;: null, &quot;hasToBeSigned&quot;: &quot;never&quot;, &quot;licenseId&quot;: &quot;unlicensed&quot;, &quot;signatureQuota&quot;: -1, &quot;viewService&quot;: &quot;public&quot;}, &quot;centroid&quot;: {&quot;coordinates&quot;: [0.5, 43.5], &quot;type&quot;: &quot;Point&quot;}, &quot;completionTimeFromAscendingNode&quot;: &quot;2014-08-31T17:50:54.000Z&quot;, &quot;downloadLink&quot;: &quot;https://zipper.creodias.eu/download/2f73582e-a3ea-53c9-8578-73f333d9e14b&quot;, &quot;eodag_product_type&quot;: &quot;COP_DEM_GLO30_DGED&quot;, &quot;eodag_provider&quot;: &quot;creodias&quot;, &quot;eodag_search_intersection&quot;: {&quot;coordinates&quot;: [[[1.0, 43.2], [0.25, 43.2], [0.25, 43.9], [1.0, 43.9], [1.0, 43.2]]], &quot;type&quot;: &quot;Polygon&quot;}, &quot;gmlgeometry&quot;: &quot;\\u003cgml:Polygon srsName=\\&quot;EPSG:4326\\&quot;\\u003e\\u003cgml:outerBoundaryIs\\u003e\\u003cgml:LinearRing\\u003e\\u003cgml:coordinates\\u003e0,43 1,43 1,44 0,44 0,43\\u003c/gml:coordinates\\u003e\\u003c/gml:LinearRing\\u003e\\u003c/gml:outerBoundaryIs\\u003e\\u003c/gml:Polygon\\u003e&quot;, &quot;instrument&quot;: null, &quot;keywords&quot;: &quot;TerraSAR,TanDEM-X,DEM,surface,GLO-30,DSM,GDGED&quot;, &quot;license&quot;: &quot;proprietary&quot;, &quot;links&quot;: [{&quot;href&quot;: &quot;https://datahub.creodias.eu/resto/collections/COP-DEM/2f73582e-a3ea-53c9-8578-73f333d9e14b.json&quot;, &quot;rel&quot;: &quot;self&quot;, &quot;title&quot;: &quot;GeoJSON link for 2f73582e-a3ea-53c9-8578-73f333d9e14b&quot;, &quot;type&quot;: &quot;application/json&quot;}], &quot;missionStartDate&quot;: &quot;2010-06-21T00:00:00Z&quot;, &quot;modificationDate&quot;: &quot;2021-06-21T19:39:33.821Z&quot;, &quot;orbitNumber&quot;: 0, &quot;organisationName&quot;: &quot;ESA&quot;, &quot;parentIdentifier&quot;: null, &quot;platform&quot;: &quot;COP-DEM&quot;, &quot;platformSerialIdentifier&quot;: &quot;&quot;, &quot;polarizationMode&quot;: &quot;HH&quot;, &quot;processingLevel&quot;: null, &quot;productIdentifier&quot;: &quot;/eodata/auxdata/CopDEM/COP-DEM_GLO-30-DGED/DEM1_SAR_DGE_30_20110428T174952_20140831T175054_ADS_000000_Q3FX.DEM&quot;, &quot;productType&quot;: &quot;DGE_30&quot;, &quot;publicationDate&quot;: &quot;2021-06-21T19:39:33.821Z&quot;, &quot;quicklook&quot;: null, &quot;resolution&quot;: 30.0, &quot;sensorMode&quot;: null, &quot;sensorType&quot;: &quot;ALTIMETRIC&quot;, &quot;services&quot;: {&quot;download&quot;: {&quot;mimeType&quot;: &quot;application/octet-stream&quot;, &quot;size&quot;: 0, &quot;url&quot;: &quot;https://datahub.creodias.eu/download/2f73582e-a3ea-53c9-8578-73f333d9e14b&quot;}}, &quot;snowCover&quot;: 0, &quot;startTimeFromAscendingNode&quot;: &quot;2011-04-28T17:49:52.000Z&quot;, &quot;storageStatus&quot;: &quot;ONLINE&quot;, &quot;thumbnail&quot;: &quot;https://datahub.creodias.eu/get-object?path=/auxdata/CopDEM/COP-DEM_GLO-30-DGED/DEM1_SAR_DGE_30_20110428T174952_20140831T175054_ADS_000000_Q3FX.DEM/DEM1_SAR_DGE_30_20110428T174952_20140831T175054_ADS_000000_Q3FX-ql.jpg&quot;, &quot;title&quot;: &quot;DEM1_SAR_DGE_30_20110428T174952_20140831T175054_ADS_000000_Q3FX&quot;, &quot;uid&quot;: &quot;2f73582e-a3ea-53c9-8578-73f333d9e14b&quot;}, &quot;type&quot;: &quot;Feature&quot;}], &quot;type&quot;: &quot;FeatureCollection&quot;});\n",
       "\n",
       "        \n",
       "    \n",
       "    geo_json_1cafae43389544b0a95bbbb978333112.bindTooltip(\n",
       "    function(layer){\n",
       "    let div = L.DomUtil.create(&#x27;div&#x27;);\n",
       "    \n",
       "    let handleObject = feature=&gt;typeof(feature)==&#x27;object&#x27; ? JSON.stringify(feature) : feature;\n",
       "    let fields = [&quot;title&quot;];\n",
       "    let aliases = [&quot;title&quot;];\n",
       "    let table = &#x27;&lt;table&gt;&#x27; +\n",
       "        String(\n",
       "        fields.map(\n",
       "        (v,i)=&gt;\n",
       "        `&lt;tr&gt;\n",
       "            &lt;th&gt;${aliases[i]}&lt;/th&gt;\n",
       "            \n",
       "            &lt;td&gt;${handleObject(layer.feature.properties[v])}&lt;/td&gt;\n",
       "        &lt;/tr&gt;`).join(&#x27;&#x27;))\n",
       "    +&#x27;&lt;/table&gt;&#x27;;\n",
       "    div.innerHTML=table;\n",
       "    \n",
       "    return div\n",
       "    }\n",
       "    ,{&quot;className&quot;: &quot;foliumtooltip&quot;, &quot;sticky&quot;: true});\n",
       "                     \n",
       "&lt;/script&gt;\n",
       "&lt;/html&gt;\" style=\"position:absolute;width:100%;height:100%;left:0;top:0;border:none !important;\" allowfullscreen webkitallowfullscreen mozallowfullscreen></iframe></div></div>"
      ],
      "text/plain": [
       "<folium.folium.Map at 0x7fc9201c95b0>"
      ]
     },
     "execution_count": 6,
     "metadata": {},
     "output_type": "execute_result"
    }
   ],
   "source": [
    "import folium\n",
    "\n",
    "# Create a map zoomed over the search area\n",
    "fmap = folium.Map([43.5, 1.5], zoom_start=8)\n",
    "# Create a layer that represents the search area in red\n",
    "folium.Rectangle(\n",
    "    bounds=[search_geom[0:2][::-1], search_geom[2:4][::-1]],\n",
    "    color=\"red\",\n",
    "    tooltip=\"Search extent\"\n",
    ").add_to(fmap)\n",
    "# Create a layer that maps the products found\n",
    "folium.GeoJson(\n",
    "    data=search_result,  # SearchResult has a __geo_interface__ interface used by folium to get its GeoJSON representation\n",
    "    tooltip=folium.GeoJsonTooltip(fields=[\"title\"])\n",
    ").add_to(fmap)\n",
    "fmap\n"
   ]
  },
  {
   "cell_type": "markdown",
   "metadata": {},
   "source": [
    "## Download the DEM files to workspace"
   ]
  },
  {
   "cell_type": "markdown",
   "metadata": {},
   "source": [
    "Make sure credentials were set for the provider. Here we will download on `creodias` that needs an additionnal [TOTP](https://eodag.readthedocs.io/en/latest/getting_started_guide/configure.html?#use-otp-through-python-code) key:"
   ]
  },
  {
   "cell_type": "code",
   "execution_count": 7,
   "metadata": {},
   "outputs": [],
   "source": [
    "dag.update_providers_config(\n",
    "   \"\"\"\n",
    "   creodias:\n",
    "      auth:\n",
    "         credentials:\n",
    "            totp: PLEASE_CHANGE_ME\n",
    "   \"\"\"\n",
    ")"
   ]
  },
  {
   "cell_type": "code",
   "execution_count": 8,
   "metadata": {},
   "outputs": [
    {
     "data": {
      "application/vnd.jupyter.widget-view+json": {
       "model_id": "bceae7c481814fa3af1325f55e2d32f0",
       "version_major": 2,
       "version_minor": 0
      },
      "text/plain": [
       "Downloaded products:   0%|          | 0/3 [00:00<?, ?product/s]"
      ]
     },
     "metadata": {},
     "output_type": "display_data"
    },
    {
     "data": {
      "application/vnd.jupyter.widget-view+json": {
       "model_id": "5566993cf631403aa4616c8d9eb4c700",
       "version_major": 2,
       "version_minor": 0
      },
      "text/plain": [
       "0.00B [00:00, ?B/s]"
      ]
     },
     "metadata": {},
     "output_type": "display_data"
    },
    {
     "data": {
      "application/vnd.jupyter.widget-view+json": {
       "model_id": "b1c96c2bbcaf4a6f86fd3b6d6d2fd720",
       "version_major": 2,
       "version_minor": 0
      },
      "text/plain": [
       "0.00B [00:00, ?B/s]"
      ]
     },
     "metadata": {},
     "output_type": "display_data"
    },
    {
     "data": {
      "application/vnd.jupyter.widget-view+json": {
       "model_id": "5654a2346f6d4b3188de6ccb399ef772",
       "version_major": 2,
       "version_minor": 0
      },
      "text/plain": [
       "0.00B [00:00, ?B/s]"
      ]
     },
     "metadata": {},
     "output_type": "display_data"
    },
    {
     "data": {
      "text/plain": [
       "['/home/anesson/workspace/EODAG/dev/eodag/docs/notebooks/tutos/eodag_workspace_copdem/DEM1_SAR_DGE_30_20110216T174143_20140906T174215_ADS_000000_jSLP',\n",
       " '/home/anesson/workspace/EODAG/dev/eodag/docs/notebooks/tutos/eodag_workspace_copdem/DEM1_SAR_DGE_30_20110428T174952_20140831T175054_ADS_000000_Q3FX',\n",
       " '/home/anesson/workspace/EODAG/dev/eodag/docs/notebooks/tutos/eodag_workspace_copdem/DEM1_SAR_DGE_30_20110417T175032_20140906T174215_ADS_000000_PIJx']"
      ]
     },
     "execution_count": 8,
     "metadata": {},
     "output_type": "execute_result"
    }
   ],
   "source": [
    "paths = dag.download_all(\n",
    "    search_result, \n",
    "    output_dir=workspace,\n",
    ")\n",
    "paths"
   ]
  },
  {
   "cell_type": "code",
   "execution_count": null,
   "metadata": {},
   "outputs": [],
   "source": []
  }
 ],
 "metadata": {
  "kernelspec": {
   "display_name": "Python 3 (ipykernel)",
   "language": "python",
   "name": "python3"
  },
  "language_info": {
   "codemirror_mode": {
    "name": "ipython",
    "version": 3
   },
   "file_extension": ".py",
   "mimetype": "text/x-python",
   "name": "python",
   "nbconvert_exporter": "python",
   "pygments_lexer": "ipython3",
   "version": "3.8.10"
  },
  "widgets": {
   "application/vnd.jupyter.widget-state+json": {
    "state": {
     "00097cf0c1a04d4192b08f5c7db58336": {
      "model_module": "jupyter-leaflet",
      "model_module_version": "^0.13.5",
      "model_name": "LeafletZoomControlModel",
      "state": {
       "_model_module_version": "^0.13.5",
       "_view_module_version": "^0.13.5",
       "options": [
        "position",
        "zoom_in_text",
        "zoom_in_title",
        "zoom_out_text",
        "zoom_out_title"
       ]
      }
     },
     "019f9b4bc1034a978f056917f38df26e": {
      "model_module": "jupyter-leaflet",
      "model_module_version": "^0.13.5",
      "model_name": "LeafletMapStyleModel",
      "state": {
       "_model_module_version": "^0.13.5",
       "cursor": "move"
      }
     },
     "085ee26efb8a41abbd0685bf7dd768db": {
      "model_module": "@jupyter-widgets/controls",
      "model_module_version": "1.5.0",
      "model_name": "DescriptionStyleModel",
      "state": {
       "description_width": ""
      }
     },
     "0a905e212bbb486aa0c7624605f18b1e": {
      "model_module": "@jupyter-widgets/controls",
      "model_module_version": "1.5.0",
      "model_name": "HBoxModel",
      "state": {
       "children": [
        "IPY_MODEL_c8213b947924430ba04bbf9b6dc48696",
        "IPY_MODEL_d519a94f9aeb4c7a821e6953e2b20094",
        "IPY_MODEL_26bcb11ae5574473bb5399cf3d90d95a"
       ],
       "layout": "IPY_MODEL_5b6b9a8a28734031b8272e31031bb629"
      }
     },
     "0e5615b19620499c8b7ea4535fa3f5e6": {
      "model_module": "@jupyter-widgets/base",
      "model_module_version": "1.2.0",
      "model_name": "LayoutModel",
      "state": {}
     },
     "1a5b5ffe45b0459688402bc50c153349": {
      "model_module": "@jupyter-widgets/base",
      "model_module_version": "1.2.0",
      "model_name": "LayoutModel",
      "state": {}
     },
     "26bcb11ae5574473bb5399cf3d90d95a": {
      "model_module": "@jupyter-widgets/controls",
      "model_module_version": "1.5.0",
      "model_name": "HTMLModel",
      "state": {
       "layout": "IPY_MODEL_fc65f8e7b90344b5b247e51ad36bce14",
       "style": "IPY_MODEL_6f21eb5f57bd421284f81b9f85acb0cc",
       "value": " 2.24M/2.24M [00:00&lt;00:00, 6.43MB/s]"
      }
     },
     "2ae1faa69f934cbb9994c831cce38fb2": {
      "model_module": "@jupyter-widgets/controls",
      "model_module_version": "1.5.0",
      "model_name": "HTMLModel",
      "state": {
       "layout": "IPY_MODEL_1a5b5ffe45b0459688402bc50c153349",
       "style": "IPY_MODEL_6ce923bb15b94e75913774997dd34d7d"
      }
     },
     "30f3126b80bd46039018585f7e0ae4c4": {
      "model_module": "@jupyter-widgets/controls",
      "model_module_version": "1.5.0",
      "model_name": "HTMLModel",
      "state": {
       "layout": "IPY_MODEL_d478f9df15b94d6893f8a1206452c2ee",
       "style": "IPY_MODEL_db717fcb9db14edc970642a3c5ee4ccf",
       "value": "Copernicus_DSM_COG_10_N42_00_E002_00_DEM: 100%"
      }
     },
     "38a0da7181cb4d7ebad2da055ae4b679": {
      "model_module": "@jupyter-widgets/base",
      "model_module_version": "1.2.0",
      "model_name": "LayoutModel",
      "state": {
       "display": "inline-flex",
       "flex_flow": "row wrap",
       "width": "100%"
      }
     },
     "3e3781ab2b9d4378978f9b4dfa392953": {
      "model_module": "@jupyter-widgets/controls",
      "model_module_version": "1.5.0",
      "model_name": "HTMLModel",
      "state": {
       "layout": "IPY_MODEL_ad2bcb9eae7a44b18738e2d9b409359b",
       "style": "IPY_MODEL_a3768e2426dd4c2da93696127f302c02",
       "value": " 44.9M/44.9M [00:23&lt;00:00, 5.26MB/s]"
      }
     },
     "416b526c991e44128a0a71a748afc97c": {
      "model_module": "@jupyter-widgets/controls",
      "model_module_version": "1.5.0",
      "model_name": "FloatProgressModel",
      "state": {
       "bar_style": "success",
       "layout": "IPY_MODEL_9881f916fa08482fa6b352763e369789",
       "max": 44889465,
       "style": "IPY_MODEL_e102b825e0e2412892ac64f9d10b60f1",
       "value": 44889465
      }
     },
     "430da10c703a44899c577e47fad4f245": {
      "model_module": "@jupyter-widgets/base",
      "model_module_version": "1.2.0",
      "model_name": "LayoutModel",
      "state": {}
     },
     "4eb810a61bd648ada6b4780668223512": {
      "model_module": "@jupyter-widgets/controls",
      "model_module_version": "1.5.0",
      "model_name": "DescriptionStyleModel",
      "state": {
       "description_width": ""
      }
     },
     "4f000e30fea544cba25e89f1b1823183": {
      "model_module": "jupyter-leaflet",
      "model_module_version": "^0.13.5",
      "model_name": "LeafletAttributionControlModel",
      "state": {
       "_model_module_version": "^0.13.5",
       "_view_module_version": "^0.13.5",
       "options": [
        "position",
        "prefix"
       ],
       "position": "bottomright",
       "prefix": "ipyleaflet"
      }
     },
     "5520af788f9f403f93214263ff6486d1": {
      "model_module": "jupyter-leaflet",
      "model_module_version": "^0.13.5",
      "model_name": "LeafletGeoJSONModel",
      "state": {
       "_model_module": "jupyter-leaflet",
       "_model_module_version": "^0.13.5",
       "_view_count": null,
       "_view_module": "jupyter-leaflet",
       "_view_module_version": "^0.13.5",
       "base": false,
       "bottom": false,
       "data": {
        "features": [
         {
          "geometry": {
           "coordinates": [
            [
             [
              0.999861,
              42.000139
             ],
             [
              1.999861,
              42.000139
             ],
             [
              1.999861,
              43.000139
             ],
             [
              0.999861,
              43.000139
             ],
             [
              0.999861,
              42.000139
             ]
            ]
           ],
           "type": "Polygon"
          },
          "id": "Copernicus_DSM_COG_10_N42_00_E001_00_DEM",
          "properties": {
           "downloadLink": "s3://copernicus-dem-30m/Copernicus_DSM_COG_10_N42_00_E001_00_DEM",
           "eodag_product_type": "COP_DEM",
           "eodag_provider": "cop_dem_aws",
           "eodag_search_intersection": {
            "coordinates": [],
            "type": "Polygon"
           },
           "style": {
            "color": "green"
           },
           "title": "Copernicus_DSM_COG_10_N42_00_E001_00_DEM"
          },
          "type": "Feature"
         },
         {
          "geometry": {
           "coordinates": [
            [
             [
              1.999861,
              42.000139
             ],
             [
              2.999861,
              42.000139
             ],
             [
              2.999861,
              43.000139
             ],
             [
              1.999861,
              43.000139
             ],
             [
              1.999861,
              42.000139
             ]
            ]
           ],
           "type": "Polygon"
          },
          "id": "Copernicus_DSM_COG_10_N42_00_E002_00_DEM",
          "properties": {
           "downloadLink": "s3://copernicus-dem-30m/Copernicus_DSM_COG_10_N42_00_E002_00_DEM",
           "eodag_product_type": "COP_DEM",
           "eodag_provider": "cop_dem_aws",
           "eodag_search_intersection": {
            "coordinates": [],
            "type": "Polygon"
           },
           "style": {
            "color": "green"
           },
           "title": "Copernicus_DSM_COG_10_N42_00_E002_00_DEM"
          },
          "type": "Feature"
         },
         {
          "geometry": {
           "coordinates": [
            [
             [
              0.999861,
              43.000139
             ],
             [
              1.999861,
              43.000139
             ],
             [
              1.999861,
              44.000139
             ],
             [
              0.999861,
              44.000139
             ],
             [
              0.999861,
              43.000139
             ]
            ]
           ],
           "type": "Polygon"
          },
          "id": "Copernicus_DSM_COG_10_N43_00_E001_00_DEM",
          "properties": {
           "downloadLink": "s3://copernicus-dem-30m/Copernicus_DSM_COG_10_N43_00_E001_00_DEM",
           "eodag_product_type": "COP_DEM",
           "eodag_provider": "cop_dem_aws",
           "eodag_search_intersection": {
            "coordinates": [],
            "type": "Polygon"
           },
           "style": {
            "color": "green"
           },
           "title": "Copernicus_DSM_COG_10_N43_00_E001_00_DEM"
          },
          "type": "Feature"
         }
        ],
        "type": "FeatureCollection"
       },
       "name": "",
       "options": [],
       "popup": null,
       "popup_max_height": null,
       "popup_max_width": 300,
       "popup_min_width": 50,
       "style": {
        "color": "green"
       }
      }
     },
     "562166e129f946aca4bf7c084ec9c2be": {
      "model_module": "@jupyter-widgets/controls",
      "model_module_version": "1.5.0",
      "model_name": "HBoxModel",
      "state": {
       "children": [
        "IPY_MODEL_30f3126b80bd46039018585f7e0ae4c4",
        "IPY_MODEL_416b526c991e44128a0a71a748afc97c",
        "IPY_MODEL_3e3781ab2b9d4378978f9b4dfa392953"
       ],
       "layout": "IPY_MODEL_38a0da7181cb4d7ebad2da055ae4b679"
      }
     },
     "5657d3dfb13148af87d7be1cb652cc8c": {
      "model_module": "@jupyter-widgets/controls",
      "model_module_version": "1.5.0",
      "model_name": "HTMLModel",
      "state": {
       "layout": "IPY_MODEL_5c8ea0609eff4fbc861c8f36329b013c",
       "style": "IPY_MODEL_4eb810a61bd648ada6b4780668223512",
       "value": " 3/3 [00:57&lt;00:00, 20.76s/product]"
      }
     },
     "5b6b9a8a28734031b8272e31031bb629": {
      "model_module": "@jupyter-widgets/base",
      "model_module_version": "1.2.0",
      "model_name": "LayoutModel",
      "state": {
       "display": "inline-flex",
       "flex_flow": "row wrap",
       "width": "100%"
      }
     },
     "5c8ea0609eff4fbc861c8f36329b013c": {
      "model_module": "@jupyter-widgets/base",
      "model_module_version": "1.2.0",
      "model_name": "LayoutModel",
      "state": {}
     },
     "6bbf4dc70e564a3990d77c95f5ca924e": {
      "model_module": "@jupyter-widgets/base",
      "model_module_version": "1.2.0",
      "model_name": "LayoutModel",
      "state": {}
     },
     "6ce923bb15b94e75913774997dd34d7d": {
      "model_module": "@jupyter-widgets/controls",
      "model_module_version": "1.5.0",
      "model_name": "DescriptionStyleModel",
      "state": {
       "description_width": ""
      }
     },
     "6f21eb5f57bd421284f81b9f85acb0cc": {
      "model_module": "@jupyter-widgets/controls",
      "model_module_version": "1.5.0",
      "model_name": "DescriptionStyleModel",
      "state": {
       "description_width": ""
      }
     },
     "6fe6674bbcd24accbd9851137e7667da": {
      "model_module": "jupyter-leaflet",
      "model_module_version": "^0.13.5",
      "model_name": "LeafletMapStyleModel",
      "state": {
       "_model_module_version": "^0.13.5"
      }
     },
     "76eead823fc0442dbe2cf0d337abe5c3": {
      "model_module": "@jupyter-widgets/controls",
      "model_module_version": "1.5.0",
      "model_name": "HTMLModel",
      "state": {
       "layout": "IPY_MODEL_6bbf4dc70e564a3990d77c95f5ca924e",
       "style": "IPY_MODEL_976d59bda24b40b3800e2c04df375060"
      }
     },
     "77aba39de89d4310b7f560cb0f42cc2e": {
      "model_module": "@jupyter-widgets/base",
      "model_module_version": "1.2.0",
      "model_name": "LayoutModel",
      "state": {
       "display": "inline-flex",
       "flex_flow": "row wrap",
       "width": "100%"
      }
     },
     "877491d2ed464f698a9eac66b7ecfb81": {
      "model_module": "jupyter-leaflet",
      "model_module_version": "^0.13.5",
      "model_name": "LeafletMapStyleModel",
      "state": {
       "_model_module_version": "^0.13.5",
       "cursor": "move"
      }
     },
     "8fafcf737b164e8688e07dfb22bdbddb": {
      "model_module": "jupyter-leaflet",
      "model_module_version": "^0.13.5",
      "model_name": "LeafletMapModel",
      "state": {
       "_model_module_version": "^0.13.5",
       "_view_module_version": "^0.13.5",
       "bottom": 6187,
       "center": [
        43.53,
        1.33
       ],
       "controls": [
        "IPY_MODEL_b8aa5d5012264810b11de1b911611124",
        "IPY_MODEL_4f000e30fea544cba25e89f1b1823183",
        "IPY_MODEL_cadd2ace6ec249cf90ed88861f32ccbe"
       ],
       "default_style": "IPY_MODEL_d33a052b9e9046d9814182349455be0e",
       "dragging_style": "IPY_MODEL_877491d2ed464f698a9eac66b7ecfb81",
       "east": 11.909179687500002,
       "fullscreen": false,
       "interpolation": "bilinear",
       "layers": [
        "IPY_MODEL_fd4a27df60fc4770ba53870dc9582560",
        "IPY_MODEL_5520af788f9f403f93214263ff6486d1"
       ],
       "layout": "IPY_MODEL_430da10c703a44899c577e47fad4f245",
       "left": 7771,
       "modisdate": "yesterday",
       "north": 46.63435070293566,
       "options": [
        "bounce_at_zoom_limits",
        "box_zoom",
        "center",
        "close_popup_on_click",
        "double_click_zoom",
        "dragging",
        "fullscreen",
        "inertia",
        "inertia_deceleration",
        "inertia_max_speed",
        "interpolation",
        "keyboard",
        "keyboard_pan_offset",
        "keyboard_zoom_offset",
        "max_zoom",
        "min_zoom",
        "scroll_wheel_zoom",
        "tap",
        "tap_tolerance",
        "touch_zoom",
        "world_copy_jump",
        "zoom",
        "zoom_animation_threshold",
        "zoom_delta",
        "zoom_snap",
        "zoom_start"
       ],
       "right": 8734,
       "south": 40.26276066437183,
       "style": "IPY_MODEL_6fe6674bbcd24accbd9851137e7667da",
       "top": 5787,
       "west": -9.250488281250002,
       "window_url": "http://localhost:8888/notebooks/tuto_cop_dem.ipynb#",
       "zoom": 6
      }
     },
     "933fb7aeb68c4262958585dcb39aad00": {
      "model_module": "@jupyter-widgets/controls",
      "model_module_version": "1.5.0",
      "model_name": "HBoxModel",
      "state": {
       "children": [
        "IPY_MODEL_f0cea6321e80404c83f99cb347aebd4f",
        "IPY_MODEL_e74ada9b66ef4b8c93ddaa418ee25109",
        "IPY_MODEL_5657d3dfb13148af87d7be1cb652cc8c"
       ],
       "layout": "IPY_MODEL_77aba39de89d4310b7f560cb0f42cc2e"
      }
     },
     "976d59bda24b40b3800e2c04df375060": {
      "model_module": "@jupyter-widgets/controls",
      "model_module_version": "1.5.0",
      "model_name": "DescriptionStyleModel",
      "state": {
       "description_width": ""
      }
     },
     "98631b29b4484c41aba79874c5f98d42": {
      "model_module": "jupyter-leaflet",
      "model_module_version": "^0.13.5",
      "model_name": "LeafletMapStyleModel",
      "state": {
       "_model_module_version": "^0.13.5"
      }
     },
     "9881f916fa08482fa6b352763e369789": {
      "model_module": "@jupyter-widgets/base",
      "model_module_version": "1.2.0",
      "model_name": "LayoutModel",
      "state": {
       "flex": "2"
      }
     },
     "9e5a62f3ab114cc5a685aafed1cff52c": {
      "model_module": "@jupyter-widgets/controls",
      "model_module_version": "1.5.0",
      "model_name": "ProgressStyleModel",
      "state": {
       "description_width": ""
      }
     },
     "9e96e563f75b4fc5ad3bcffb40f2fde3": {
      "model_module": "jupyter-leaflet",
      "model_module_version": "^0.13.5",
      "model_name": "LeafletTileLayerModel",
      "state": {
       "_model_module_version": "^0.13.5",
       "_view_module_version": "^0.13.5",
       "base": true,
       "max_native_zoom": 18,
       "max_zoom": 19,
       "min_native_zoom": 0,
       "min_zoom": 1,
       "options": [
        "attribution",
        "detect_retina",
        "max_native_zoom",
        "max_zoom",
        "min_native_zoom",
        "min_zoom",
        "no_wrap",
        "tile_size",
        "tms"
       ]
      }
     },
     "a3768e2426dd4c2da93696127f302c02": {
      "model_module": "@jupyter-widgets/controls",
      "model_module_version": "1.5.0",
      "model_name": "DescriptionStyleModel",
      "state": {
       "description_width": ""
      }
     },
     "ad2bcb9eae7a44b18738e2d9b409359b": {
      "model_module": "@jupyter-widgets/base",
      "model_module_version": "1.2.0",
      "model_name": "LayoutModel",
      "state": {}
     },
     "b82f4b8912424294bc86f9acfc8d7bf2": {
      "model_module": "@jupyter-widgets/base",
      "model_module_version": "1.2.0",
      "model_name": "LayoutModel",
      "state": {
       "flex": "2"
      }
     },
     "b8aa5d5012264810b11de1b911611124": {
      "model_module": "jupyter-leaflet",
      "model_module_version": "^0.13.5",
      "model_name": "LeafletZoomControlModel",
      "state": {
       "_model_module_version": "^0.13.5",
       "_view_module_version": "^0.13.5",
       "options": [
        "position",
        "zoom_in_text",
        "zoom_in_title",
        "zoom_out_text",
        "zoom_out_title"
       ]
      }
     },
     "b99d773330634909a66233b68494908c": {
      "model_module": "jupyter-leaflet",
      "model_module_version": "^0.13.5",
      "model_name": "LeafletGeoJSONModel",
      "state": {
       "_model_module": "jupyter-leaflet",
       "_model_module_version": "^0.13.5",
       "_view_count": null,
       "_view_module": "jupyter-leaflet",
       "_view_module_version": "^0.13.5",
       "base": false,
       "bottom": false,
       "data": {
        "features": [
         {
          "geometry": {
           "coordinates": [
            [
             [
              0.9338256356879,
              45.051551318417
             ],
             [
              0.99932055993755,
              45.983545206926
             ],
             [
              -0.41644287000003,
              46.024365075689
             ],
             [
              -0.46130369999997,
              45.037034403064
             ],
             [
              0.9118730730221,
              44.9981024925
             ],
             [
              0.9338256356879,
              45.051551318417
             ]
            ]
           ],
           "type": "Polygon"
          },
          "id": "S2A_MSIL1C_20181130T110411_N0207_R094_T30TYR_20181130T113958",
          "properties": {
           "abstract": null,
           "bands": [
            {
             "center_wavelength": 0.4439,
             "common_name": "coastal",
             "full_width_half_max": 0.027,
             "gsd": 60,
             "name": "B01"
            },
            {
             "center_wavelength": 0.4966,
             "common_name": "blue",
             "full_width_half_max": 0.098,
             "gsd": 10,
             "name": "B02"
            },
            {
             "center_wavelength": 0.56,
             "common_name": "green",
             "full_width_half_max": 0.045,
             "gsd": 10,
             "name": "B03"
            },
            {
             "center_wavelength": 0.6645,
             "common_name": "red",
             "full_width_half_max": 0.038,
             "gsd": 10,
             "name": "B04"
            },
            {
             "center_wavelength": 0.7039,
             "full_width_half_max": 0.019,
             "gsd": 20,
             "name": "B05"
            },
            {
             "center_wavelength": 0.7402,
             "full_width_half_max": 0.018,
             "gsd": 20,
             "name": "B06"
            },
            {
             "center_wavelength": 0.7825,
             "full_width_half_max": 0.028,
             "gsd": 20,
             "name": "B07"
            },
            {
             "center_wavelength": 0.8351,
             "common_name": "nir",
             "full_width_half_max": 0.145,
             "gsd": 10,
             "name": "B08"
            },
            {
             "center_wavelength": 0.8648,
             "full_width_half_max": 0.033,
             "gsd": 20,
             "name": "B8A"
            },
            {
             "center_wavelength": 0.945,
             "full_width_half_max": 0.026,
             "gsd": 60,
             "name": "B09"
            },
            {
             "center_wavelength": 0.13735,
             "common_name": "cirrus",
             "full_width_half_max": 0.075,
             "gsd": 60,
             "name": "B10"
            },
            {
             "center_wavelength": 0.16137,
             "common_name": "swir16",
             "full_width_half_max": 0.075,
             "gsd": 20,
             "name": "B11"
            },
            {
             "center_wavelength": 0.22024,
             "common_name": "swir22",
             "full_width_half_max": 0.242,
             "gsd": 20,
             "name": "B12"
            }
           ],
           "bareSoil": null,
           "cloudCover": 28.2247,
           "completionTimeFromAscendingNode": "2018-11-30T11:04:11.024Z",
           "creationDate": "2018-11-30T14:11:40.761Z",
           "downloadLink": "https://peps.cnes.fr/resto/collections/S2ST/07888392-4fff-5741-9028-50a972ce87df/download",
           "eodag_product_type": "S2_MSI_L1C",
           "eodag_provider": "peps",
           "eodag_search_intersection": {
            "coordinates": [
             [
              [
               0.9126524194640069,
               45
              ],
              [
               0.9118730730221,
               44.9981024925
              ],
              [
               0.8449456300098123,
               45
              ],
              [
               0.9126524194640069,
               45
              ]
             ]
            ],
            "type": "Polygon"
           },
           "highProbaClouds": null,
           "instrument": "MSI",
           "isNrt": 0,
           "keyword": {
            "1c1c403216da1fd": {
             "href": "https://peps.cnes.fr/resto/api/collections/S2ST/search.json?&lang=en&q=30",
             "name": "30",
             "parentHash": "a5a24c795b91dd3",
             "type": "day"
            },
            "1eb8a6dcbdf3b74": {
             "href": "https://peps.cnes.fr/resto/api/collections/S2ST/search.json?&lang=en&q=Dordogne",
             "name": "Dordogne",
             "normalized": "dordogne",
             "parentHash": "db06f1d6088ec4f",
             "type": "state",
             "value": 32.74
            },
            "34144f336d27e53": {
             "href": "https://peps.cnes.fr/resto/api/collections/S2ST/search.json?&lang=en&q=Charente-Maritime",
             "name": "Charente-Maritime",
             "normalized": "charente-maritime",
             "parentHash": "f0e6a6daa0e9f47",
             "type": "state",
             "value": 13.18
            },
            "3be01aa3157cfbf": {
             "href": "https://peps.cnes.fr/resto/api/collections/S2ST/search.json?&lang=en&q=Gironde",
             "name": "Gironde",
             "normalized": "gironde",
             "parentHash": "db06f1d6088ec4f",
             "type": "state",
             "value": 4.04
            },
            "3f85bb5d775e1fc": {
             "href": "https://peps.cnes.fr/resto/api/collections/S2ST/search.json?&lang=en&q=INS-NOBS",
             "name": "INS-NOBS",
             "parentHash": "503f8f6199f3e44",
             "type": "sensorMode"
            },
            "429f9571d35a7f4": {
             "href": "https://peps.cnes.fr/resto/api/collections/S2ST/search.json?&lang=en&q=2018",
             "name": "2018",
             "type": "year"
            },
            "44b15c0a6e62129": {
             "href": "https://peps.cnes.fr/resto/api/collections/S2ST/search.json?&lang=en&q=LEVEL1C",
             "name": "LEVEL1C",
             "type": "processingLevel"
            },
            "44d2e150997e6d7": {
             "href": "https://peps.cnes.fr/resto/api/collections/S2ST/search.json?&lang=en&q=Haute-Vienne",
             "name": "Haute-Vienne",
             "normalized": "haute-vienne",
             "parentHash": "595a2a0433fc5be",
             "type": "state",
             "value": 5.8
            },
            "45038f3c2322ea3": {
             "href": "https://peps.cnes.fr/resto/api/collections/S2ST/search.json?&lang=en&q=S2ST",
             "name": "S2ST",
             "type": "collection"
            },
            "503f8f6199f3e44": {
             "href": "https://peps.cnes.fr/resto/api/collections/S2ST/search.json?&lang=en&q=msi",
             "name": "msi",
             "parentHash": "afe9ad14455c260",
             "type": "instrument"
            },
            "595a2a0433fc5be": {
             "href": "https://peps.cnes.fr/resto/api/collections/S2ST/search.json?&lang=en&q=Limousin",
             "name": "Limousin",
             "normalized": "limousin",
             "parentHash": "936bcbcf5c43fbd",
             "type": "region",
             "value": 5.82
            },
            "6219554ecf5905c": {
             "href": "https://peps.cnes.fr/resto/api/collections/S2ST/search.json?&lang=en&q=S2MSI1C",
             "name": "S2MSI1C",
             "type": "productType"
            },
            "936bcbcf5c43fbd": {
             "href": "https://peps.cnes.fr/resto/api/collections/S2ST/search.json?&lang=en&q=France",
             "name": "France",
             "normalized": "france",
             "parentHash": "bce097de57d1ab7",
             "type": "country",
             "value": 99.99
            },
            "a0e4a10aa754ab4": {
             "href": "https://peps.cnes.fr/resto/api/collections/S2ST/search.json?&lang=en&q=Northern",
             "name": "Northern",
             "type": "location"
            },
            "a5a24c795b91dd3": {
             "href": "https://peps.cnes.fr/resto/api/collections/S2ST/search.json?&lang=en&q=November",
             "name": "November",
             "parentHash": "429f9571d35a7f4",
             "type": "month"
            },
            "adbd1cc9d2fe94b": {
             "href": "https://peps.cnes.fr/resto/api/collections/S2ST/search.json?&lang=en&q=Nominal",
             "name": "Nominal",
             "parentHash": "c0706bb19e22342",
             "type": "realtime"
            },
            "afe9ad14455c260": {
             "href": "https://peps.cnes.fr/resto/api/collections/S2ST/search.json?&lang=en&q=s2A",
             "name": "s2A",
             "type": "platform"
            },
            "b2da689507e17c1": {
             "href": "https://peps.cnes.fr/resto/api/collections/S2ST/search.json?&lang=en&q=Charente",
             "name": "Charente",
             "normalized": "charente",
             "parentHash": "f0e6a6daa0e9f47",
             "type": "state",
             "value": 43.93
            },
            "bce097de57d1ab7": {
             "href": "https://peps.cnes.fr/resto/api/collections/S2ST/search.json?&lang=en&q=Europe",
             "name": "Europe",
             "normalized": "europe",
             "type": "continent"
            },
            "c0706bb19e22342": {
             "href": "https://peps.cnes.fr/resto/api/collections/S2ST/search.json?&lang=en&q=0",
             "name": "0",
             "type": "isNrt"
            },
            "db06f1d6088ec4f": {
             "href": "https://peps.cnes.fr/resto/api/collections/S2ST/search.json?&lang=en&q=Aquitaine",
             "name": "Aquitaine",
             "normalized": "aquitaine",
             "parentHash": "936bcbcf5c43fbd",
             "type": "region",
             "value": 36.75
            },
            "e8f96b7c46c0d54": {
             "href": "https://peps.cnes.fr/resto/api/collections/S2ST/search.json?&lang=en&q=Descending",
             "name": "Descending",
             "type": "orbitDirection"
            },
            "f0e6a6daa0e9f47": {
             "href": "https://peps.cnes.fr/resto/api/collections/S2ST/search.json?&lang=en&q=Poitou-Charentes",
             "name": "Poitou-Charentes",
             "normalized": "poitou-charentes",
             "parentHash": "936bcbcf5c43fbd",
             "type": "region",
             "value": 57.35
            },
            "f1b1991da466f5c": {
             "href": "https://peps.cnes.fr/resto/api/collections/S2ST/search.json?&lang=en&q=Deux-S%C3%A8vres",
             "name": "Deux-Sèvres",
             "normalized": "deux-sevres",
             "parentHash": "f0e6a6daa0e9f47",
             "type": "state",
             "value": 0.27
            },
            "f3221bcc6ca49ca": {
             "href": "https://peps.cnes.fr/resto/api/collections/S2ST/search.json?&lang=en&q=Autumn",
             "name": "Autumn",
             "type": "season"
            }
           },
           "license": "proprietary",
           "links": [
            {
             "href": "https://peps.cnes.fr/resto/collections/S2ST/07888392-4fff-5741-9028-50a972ce87df.json?&lang=en",
             "rel": "alternate",
             "title": "GeoJSON link for 07888392-4fff-5741-9028-50a972ce87df",
             "type": "application/json"
            },
            {
             "href": "https://peps.cnes.fr/resto/collections/S2ST/07888392-4fff-5741-9028-50a972ce87df.atom?&lang=en",
             "rel": "alternate",
             "title": "ATOM link for 07888392-4fff-5741-9028-50a972ce87df",
             "type": "application/atom+xml"
            }
           ],
           "lowProbaClouds": null,
           "mediumProbaClouds": null,
           "mgrs": "30TYR",
           "missionStartDate": "2015-06-23T00:00:00Z",
           "modificationDate": "2018-11-30T14:18:48.899Z",
           "newVersion": null,
           "orbitDirection": "descending",
           "orbitNumber": 17966,
           "organisationName": null,
           "parentIdentifier": "urn:ogc:def:EOP:ESA::SENTINEL-2:",
           "platform": "S2ST",
           "platformSerialIdentifier": "S2A",
           "processingLevel": "LEVEL1C",
           "productType": "S2MSI1C",
           "publicationDate": "2018-11-30T14:18:48.899Z",
           "quicklook": "https://peps.cnes.fr/quicklook/2018/11/30/S2A/S2A_MSIL1C_20181130T110411_N0207_R094_T30TYR_20181130T113958_quicklook.jpg",
           "realtime": "Nominal",
           "relativeOrbitNumber": 94,
           "resolution": null,
           "resourceChecksum": "AE0AB63097077DBCAE46935AAC4A6B78",
           "resourceSize": 814006974,
           "s2TakeId": "GS2A_20181130T110411_017966_N02.07",
           "sensorMode": "INS-NOBS",
           "sensorType": "OPTICAL",
           "services": {
            "browse": {
             "layer": {
              "layers": "",
              "type": "WMS",
              "url": "https://peps.cnes.fr/cgi-bin/mapserver?map=WMS_S2ST&data=2018/11/30/S2A/S2A_MSIL1C_20181130T110411_N0207_R094_T30TYR_20181130T113958"
             },
             "title": "Display full resolution product on map"
            },
            "download": {
             "checksum": "AE0AB63097077DBCAE46935AAC4A6B78",
             "mimeType": "application/zip",
             "size": 814006974,
             "url": "https://peps.cnes.fr/resto/collections/S2ST/07888392-4fff-5741-9028-50a972ce87df/download"
            }
           },
           "snowCover": null,
           "snowIce": null,
           "startTimeFromAscendingNode": "2018-11-30T11:04:11.024Z",
           "storage": {
            "mode": "tape"
           },
           "storageStatus": "OFFLINE",
           "thumbnail": null,
           "title": "S2A_MSIL1C_20181130T110411_N0207_R094_T30TYR_20181130T113958",
           "uid": "07888392-4fff-5741-9028-50a972ce87df",
           "vegetation": null,
           "visible": 1,
           "water": null
          },
          "type": "Feature"
         },
         {
          "geometry": {
           "coordinates": [
            [
             [
              0.60046568322216,
              44.227627437073
             ],
             [
              0.49592859290379,
              44.225964154763
             ],
             [
              0.5056702791387,
              43.990386281733
             ],
             [
              0.52602167474636,
              44.041645587771
             ],
             [
              0.58443321611484,
              44.187235765762
             ],
             [
              0.60046568322216,
              44.227627437073
             ]
            ]
           ],
           "type": "Polygon"
          },
          "id": "S2A_MSIL1C_20181130T110411_N0207_R094_T31TCJ_20181130T113958",
          "properties": {
           "abstract": null,
           "bands": [
            {
             "center_wavelength": 0.4439,
             "common_name": "coastal",
             "full_width_half_max": 0.027,
             "gsd": 60,
             "name": "B01"
            },
            {
             "center_wavelength": 0.4966,
             "common_name": "blue",
             "full_width_half_max": 0.098,
             "gsd": 10,
             "name": "B02"
            },
            {
             "center_wavelength": 0.56,
             "common_name": "green",
             "full_width_half_max": 0.045,
             "gsd": 10,
             "name": "B03"
            },
            {
             "center_wavelength": 0.6645,
             "common_name": "red",
             "full_width_half_max": 0.038,
             "gsd": 10,
             "name": "B04"
            },
            {
             "center_wavelength": 0.7039,
             "full_width_half_max": 0.019,
             "gsd": 20,
             "name": "B05"
            },
            {
             "center_wavelength": 0.7402,
             "full_width_half_max": 0.018,
             "gsd": 20,
             "name": "B06"
            },
            {
             "center_wavelength": 0.7825,
             "full_width_half_max": 0.028,
             "gsd": 20,
             "name": "B07"
            },
            {
             "center_wavelength": 0.8351,
             "common_name": "nir",
             "full_width_half_max": 0.145,
             "gsd": 10,
             "name": "B08"
            },
            {
             "center_wavelength": 0.8648,
             "full_width_half_max": 0.033,
             "gsd": 20,
             "name": "B8A"
            },
            {
             "center_wavelength": 0.945,
             "full_width_half_max": 0.026,
             "gsd": 60,
             "name": "B09"
            },
            {
             "center_wavelength": 0.13735,
             "common_name": "cirrus",
             "full_width_half_max": 0.075,
             "gsd": 60,
             "name": "B10"
            },
            {
             "center_wavelength": 0.16137,
             "common_name": "swir16",
             "full_width_half_max": 0.075,
             "gsd": 20,
             "name": "B11"
            },
            {
             "center_wavelength": 0.22024,
             "common_name": "swir22",
             "full_width_half_max": 0.242,
             "gsd": 20,
             "name": "B12"
            }
           ],
           "bareSoil": null,
           "cloudCover": 31.9356,
           "completionTimeFromAscendingNode": "2018-11-30T11:04:11.024Z",
           "creationDate": "2018-11-30T14:21:37.008Z",
           "downloadLink": "https://peps.cnes.fr/resto/collections/S2ST/849bf704-d60b-5263-af6d-493784eb5cff/download",
           "eodag_product_type": "S2_MSI_L1C",
           "eodag_provider": "peps",
           "eodag_search_intersection": {
            "coordinates": [
             [
              [
               0.60046568322216,
               44.227627437073
              ],
              [
               0.58443321611484,
               44.187235765762
              ],
              [
               0.52602167474636,
               44.041645587771
              ],
              [
               0.5056702791387,
               43.990386281733
              ],
              [
               0.49592859290379,
               44.225964154763
              ],
              [
               0.60046568322216,
               44.227627437073
              ]
             ]
            ],
            "type": "Polygon"
           },
           "highProbaClouds": null,
           "instrument": "MSI",
           "isNrt": 0,
           "keyword": {
            "1c1c403216da1fd": {
             "href": "https://peps.cnes.fr/resto/api/collections/S2ST/search.json?&lang=en&q=30",
             "name": "30",
             "parentHash": "a5a24c795b91dd3",
             "type": "day"
            },
            "3f85bb5d775e1fc": {
             "href": "https://peps.cnes.fr/resto/api/collections/S2ST/search.json?&lang=en&q=INS-NOBS",
             "name": "INS-NOBS",
             "parentHash": "503f8f6199f3e44",
             "type": "sensorMode"
            },
            "429f9571d35a7f4": {
             "href": "https://peps.cnes.fr/resto/api/collections/S2ST/search.json?&lang=en&q=2018",
             "name": "2018",
             "type": "year"
            },
            "44b15c0a6e62129": {
             "href": "https://peps.cnes.fr/resto/api/collections/S2ST/search.json?&lang=en&q=LEVEL1C",
             "name": "LEVEL1C",
             "type": "processingLevel"
            },
            "45038f3c2322ea3": {
             "href": "https://peps.cnes.fr/resto/api/collections/S2ST/search.json?&lang=en&q=S2ST",
             "name": "S2ST",
             "type": "collection"
            },
            "4b1f69fd85f2eff": {
             "href": "https://peps.cnes.fr/resto/api/collections/S2ST/search.json?&lang=en&q=Lot-et-Garonne",
             "name": "Lot-et-Garonne",
             "normalized": "lot-et-garonne",
             "parentHash": "db06f1d6088ec4f",
             "type": "state",
             "value": 92.58
            },
            "503f8f6199f3e44": {
             "href": "https://peps.cnes.fr/resto/api/collections/S2ST/search.json?&lang=en&q=msi",
             "name": "msi",
             "parentHash": "afe9ad14455c260",
             "type": "instrument"
            },
            "6219554ecf5905c": {
             "href": "https://peps.cnes.fr/resto/api/collections/S2ST/search.json?&lang=en&q=S2MSI1C",
             "name": "S2MSI1C",
             "type": "productType"
            },
            "936bcbcf5c43fbd": {
             "href": "https://peps.cnes.fr/resto/api/collections/S2ST/search.json?&lang=en&q=France",
             "name": "France",
             "normalized": "france",
             "parentHash": "bce097de57d1ab7",
             "type": "country",
             "value": 100
            },
            "a0e4a10aa754ab4": {
             "href": "https://peps.cnes.fr/resto/api/collections/S2ST/search.json?&lang=en&q=Northern",
             "name": "Northern",
             "type": "location"
            },
            "a5a24c795b91dd3": {
             "href": "https://peps.cnes.fr/resto/api/collections/S2ST/search.json?&lang=en&q=November",
             "name": "November",
             "parentHash": "429f9571d35a7f4",
             "type": "month"
            },
            "adbd1cc9d2fe94b": {
             "href": "https://peps.cnes.fr/resto/api/collections/S2ST/search.json?&lang=en&q=Nominal",
             "name": "Nominal",
             "parentHash": "c0706bb19e22342",
             "type": "realtime"
            },
            "afe9ad14455c260": {
             "href": "https://peps.cnes.fr/resto/api/collections/S2ST/search.json?&lang=en&q=s2A",
             "name": "s2A",
             "type": "platform"
            },
            "bce097de57d1ab7": {
             "href": "https://peps.cnes.fr/resto/api/collections/S2ST/search.json?&lang=en&q=Europe",
             "name": "Europe",
             "normalized": "europe",
             "type": "continent"
            },
            "c0706bb19e22342": {
             "href": "https://peps.cnes.fr/resto/api/collections/S2ST/search.json?&lang=en&q=0",
             "name": "0",
             "type": "isNrt"
            },
            "d8c2acfe38c3ff4": {
             "href": "https://peps.cnes.fr/resto/api/collections/S2ST/search.json?&lang=en&q=Gers",
             "name": "Gers",
             "normalized": "gers",
             "parentHash": "fa018f4f7b20706",
             "type": "state",
             "value": 7.43
            },
            "db06f1d6088ec4f": {
             "href": "https://peps.cnes.fr/resto/api/collections/S2ST/search.json?&lang=en&q=Aquitaine",
             "name": "Aquitaine",
             "normalized": "aquitaine",
             "parentHash": "936bcbcf5c43fbd",
             "type": "region",
             "value": 90.55
            },
            "e8f96b7c46c0d54": {
             "href": "https://peps.cnes.fr/resto/api/collections/S2ST/search.json?&lang=en&q=Descending",
             "name": "Descending",
             "type": "orbitDirection"
            },
            "f3221bcc6ca49ca": {
             "href": "https://peps.cnes.fr/resto/api/collections/S2ST/search.json?&lang=en&q=Autumn",
             "name": "Autumn",
             "type": "season"
            },
            "fa018f4f7b20706": {
             "href": "https://peps.cnes.fr/resto/api/collections/S2ST/search.json?&lang=en&q=Midi-Pyr%C3%A9n%C3%A9es",
             "name": "Midi-Pyrénées",
             "normalized": "midi-pyrenees",
             "parentHash": "936bcbcf5c43fbd",
             "type": "region",
             "value": 9.46
            }
           },
           "license": "proprietary",
           "links": [
            {
             "href": "https://peps.cnes.fr/resto/collections/S2ST/849bf704-d60b-5263-af6d-493784eb5cff.json?&lang=en",
             "rel": "alternate",
             "title": "GeoJSON link for 849bf704-d60b-5263-af6d-493784eb5cff",
             "type": "application/json"
            },
            {
             "href": "https://peps.cnes.fr/resto/collections/S2ST/849bf704-d60b-5263-af6d-493784eb5cff.atom?&lang=en",
             "rel": "alternate",
             "title": "ATOM link for 849bf704-d60b-5263-af6d-493784eb5cff",
             "type": "application/atom+xml"
            }
           ],
           "lowProbaClouds": null,
           "mediumProbaClouds": null,
           "mgrs": "31TCJ",
           "missionStartDate": "2015-06-23T00:00:00Z",
           "modificationDate": "2018-11-30T14:32:43.999Z",
           "newVersion": null,
           "orbitDirection": "descending",
           "orbitNumber": 17966,
           "organisationName": null,
           "parentIdentifier": "urn:ogc:def:EOP:ESA::SENTINEL-2:",
           "platform": "S2ST",
           "platformSerialIdentifier": "S2A",
           "processingLevel": "LEVEL1C",
           "productType": "S2MSI1C",
           "publicationDate": "2018-11-30T14:32:43.999Z",
           "quicklook": "https://peps.cnes.fr/quicklook/2018/11/30/S2A/S2A_MSIL1C_20181130T110411_N0207_R094_T31TCJ_20181130T113958_quicklook.jpg",
           "realtime": "Nominal",
           "relativeOrbitNumber": 94,
           "resolution": null,
           "resourceChecksum": "D4433F15CCD05461B8ADEF95C82DC845",
           "resourceSize": 24728739,
           "s2TakeId": "GS2A_20181130T110411_017966_N02.07",
           "sensorMode": "INS-NOBS",
           "sensorType": "OPTICAL",
           "services": {
            "browse": {
             "layer": {
              "layers": "",
              "type": "WMS",
              "url": "https://peps.cnes.fr/cgi-bin/mapserver?map=WMS_S2ST&data=2018/11/30/S2A/S2A_MSIL1C_20181130T110411_N0207_R094_T31TCJ_20181130T113958"
             },
             "title": "Display full resolution product on map"
            },
            "download": {
             "checksum": "D4433F15CCD05461B8ADEF95C82DC845",
             "mimeType": "application/zip",
             "size": 24728739,
             "url": "https://peps.cnes.fr/resto/collections/S2ST/849bf704-d60b-5263-af6d-493784eb5cff/download"
            }
           },
           "snowCover": null,
           "snowIce": null,
           "startTimeFromAscendingNode": "2018-11-30T11:04:11.024Z",
           "storage": {
            "mode": "disk"
           },
           "storageStatus": "ONLINE",
           "thumbnail": null,
           "title": "S2A_MSIL1C_20181130T110411_N0207_R094_T31TCJ_20181130T113958",
           "uid": "849bf704-d60b-5263-af6d-493784eb5cff",
           "vegetation": null,
           "visible": 1,
           "water": null
          },
          "type": "Feature"
         },
         {
          "geometry": {
           "coordinates": [
            [
             [
              0.93378437657697,
              45.051450863128
             ],
             [
              0.93609755608639,
              45.0859569605
             ],
             [
              -0.45736693999999,
              45.125524882965
             ],
             [
              -0.50015259999998,
              44.138007688027
             ],
             [
              0.55289222039699,
              44.108620151912
             ],
             [
              0.58443321611484,
              44.187235765762
             ],
             [
              0.64226101634863,
              44.332925227282
             ],
             [
              0.7009346129259,
              44.478404678491
             ],
             [
              0.7594095682992,
              44.623949713686
             ],
             [
              0.81816354092022,
              44.769532631952
             ],
             [
              0.87776300482127,
              44.91505327747
             ],
             [
              0.93378437657697,
              45.051450863128
             ]
            ]
           ],
           "type": "Polygon"
          },
          "id": "S2A_MSIL1C_20181130T110411_N0207_R094_T30TYQ_20181130T113958",
          "properties": {
           "abstract": null,
           "bands": [
            {
             "center_wavelength": 0.4439,
             "common_name": "coastal",
             "full_width_half_max": 0.027,
             "gsd": 60,
             "name": "B01"
            },
            {
             "center_wavelength": 0.4966,
             "common_name": "blue",
             "full_width_half_max": 0.098,
             "gsd": 10,
             "name": "B02"
            },
            {
             "center_wavelength": 0.56,
             "common_name": "green",
             "full_width_half_max": 0.045,
             "gsd": 10,
             "name": "B03"
            },
            {
             "center_wavelength": 0.6645,
             "common_name": "red",
             "full_width_half_max": 0.038,
             "gsd": 10,
             "name": "B04"
            },
            {
             "center_wavelength": 0.7039,
             "full_width_half_max": 0.019,
             "gsd": 20,
             "name": "B05"
            },
            {
             "center_wavelength": 0.7402,
             "full_width_half_max": 0.018,
             "gsd": 20,
             "name": "B06"
            },
            {
             "center_wavelength": 0.7825,
             "full_width_half_max": 0.028,
             "gsd": 20,
             "name": "B07"
            },
            {
             "center_wavelength": 0.8351,
             "common_name": "nir",
             "full_width_half_max": 0.145,
             "gsd": 10,
             "name": "B08"
            },
            {
             "center_wavelength": 0.8648,
             "full_width_half_max": 0.033,
             "gsd": 20,
             "name": "B8A"
            },
            {
             "center_wavelength": 0.945,
             "full_width_half_max": 0.026,
             "gsd": 60,
             "name": "B09"
            },
            {
             "center_wavelength": 0.13735,
             "common_name": "cirrus",
             "full_width_half_max": 0.075,
             "gsd": 60,
             "name": "B10"
            },
            {
             "center_wavelength": 0.16137,
             "common_name": "swir16",
             "full_width_half_max": 0.075,
             "gsd": 20,
             "name": "B11"
            },
            {
             "center_wavelength": 0.22024,
             "common_name": "swir22",
             "full_width_half_max": 0.242,
             "gsd": 20,
             "name": "B12"
            }
           ],
           "bareSoil": null,
           "cloudCover": 28.1269,
           "completionTimeFromAscendingNode": "2018-11-30T11:04:11.024Z",
           "creationDate": "2018-11-30T14:20:37.245Z",
           "downloadLink": "https://peps.cnes.fr/resto/collections/S2ST/88fbba55-7dfb-566c-a787-4f5655cf847b/download",
           "eodag_product_type": "S2_MSI_L1C",
           "eodag_provider": "peps",
           "eodag_search_intersection": {
            "coordinates": [
             [
              [
               0.9126524194639434,
               45
              ],
              [
               0.87776300482127,
               44.91505327747
              ],
              [
               0.81816354092022,
               44.769532631952
              ],
              [
               0.7594095682992,
               44.623949713686
              ],
              [
               0.7009346129259,
               44.478404678491
              ],
              [
               0.64226101634863,
               44.332925227282
              ],
              [
               0.58443321611484,
               44.187235765762
              ],
              [
               0.55289222039699,
               44.108620151912
              ],
              [
               0,
               44.124049827629406
              ],
              [
               0,
               45
              ],
              [
               0.9126524194639434,
               45
              ]
             ]
            ],
            "type": "Polygon"
           },
           "highProbaClouds": null,
           "instrument": "MSI",
           "isNrt": 0,
           "keyword": {
            "1c1c403216da1fd": {
             "href": "https://peps.cnes.fr/resto/api/collections/S2ST/search.json?&lang=en&q=30",
             "name": "30",
             "parentHash": "a5a24c795b91dd3",
             "type": "day"
            },
            "1eb8a6dcbdf3b74": {
             "href": "https://peps.cnes.fr/resto/api/collections/S2ST/search.json?&lang=en&q=Dordogne",
             "name": "Dordogne",
             "normalized": "dordogne",
             "parentHash": "db06f1d6088ec4f",
             "type": "state",
             "value": 25.15
            },
            "34144f336d27e53": {
             "href": "https://peps.cnes.fr/resto/api/collections/S2ST/search.json?&lang=en&q=Charente-Maritime",
             "name": "Charente-Maritime",
             "normalized": "charente-maritime",
             "parentHash": "f0e6a6daa0e9f47",
             "type": "state",
             "value": 0.1
            },
            "3af7f479d8e1e5a": {
             "href": "https://peps.cnes.fr/resto/api/collections/S2ST/search.json?&lang=en&q=Landes",
             "name": "Landes",
             "normalized": "landes",
             "parentHash": "db06f1d6088ec4f",
             "type": "state",
             "value": 3.82
            },
            "3be01aa3157cfbf": {
             "href": "https://peps.cnes.fr/resto/api/collections/S2ST/search.json?&lang=en&q=Gironde",
             "name": "Gironde",
             "normalized": "gironde",
             "parentHash": "db06f1d6088ec4f",
             "type": "state",
             "value": 38.77
            },
            "3f85bb5d775e1fc": {
             "href": "https://peps.cnes.fr/resto/api/collections/S2ST/search.json?&lang=en&q=INS-NOBS",
             "name": "INS-NOBS",
             "parentHash": "503f8f6199f3e44",
             "type": "sensorMode"
            },
            "429f9571d35a7f4": {
             "href": "https://peps.cnes.fr/resto/api/collections/S2ST/search.json?&lang=en&q=2018",
             "name": "2018",
             "type": "year"
            },
            "44b15c0a6e62129": {
             "href": "https://peps.cnes.fr/resto/api/collections/S2ST/search.json?&lang=en&q=LEVEL1C",
             "name": "LEVEL1C",
             "type": "processingLevel"
            },
            "45038f3c2322ea3": {
             "href": "https://peps.cnes.fr/resto/api/collections/S2ST/search.json?&lang=en&q=S2ST",
             "name": "S2ST",
             "type": "collection"
            },
            "4b1f69fd85f2eff": {
             "href": "https://peps.cnes.fr/resto/api/collections/S2ST/search.json?&lang=en&q=Lot-et-Garonne",
             "name": "Lot-et-Garonne",
             "normalized": "lot-et-garonne",
             "parentHash": "db06f1d6088ec4f",
             "type": "state",
             "value": 32.07
            },
            "503f8f6199f3e44": {
             "href": "https://peps.cnes.fr/resto/api/collections/S2ST/search.json?&lang=en&q=msi",
             "name": "msi",
             "parentHash": "afe9ad14455c260",
             "type": "instrument"
            },
            "6219554ecf5905c": {
             "href": "https://peps.cnes.fr/resto/api/collections/S2ST/search.json?&lang=en&q=S2MSI1C",
             "name": "S2MSI1C",
             "type": "productType"
            },
            "936bcbcf5c43fbd": {
             "href": "https://peps.cnes.fr/resto/api/collections/S2ST/search.json?&lang=en&q=France",
             "name": "France",
             "normalized": "france",
             "parentHash": "bce097de57d1ab7",
             "type": "country",
             "value": 100
            },
            "a0e4a10aa754ab4": {
             "href": "https://peps.cnes.fr/resto/api/collections/S2ST/search.json?&lang=en&q=Northern",
             "name": "Northern",
             "type": "location"
            },
            "a5a24c795b91dd3": {
             "href": "https://peps.cnes.fr/resto/api/collections/S2ST/search.json?&lang=en&q=November",
             "name": "November",
             "parentHash": "429f9571d35a7f4",
             "type": "month"
            },
            "adbd1cc9d2fe94b": {
             "href": "https://peps.cnes.fr/resto/api/collections/S2ST/search.json?&lang=en&q=Nominal",
             "name": "Nominal",
             "parentHash": "c0706bb19e22342",
             "type": "realtime"
            },
            "afe9ad14455c260": {
             "href": "https://peps.cnes.fr/resto/api/collections/S2ST/search.json?&lang=en&q=s2A",
             "name": "s2A",
             "type": "platform"
            },
            "bce097de57d1ab7": {
             "href": "https://peps.cnes.fr/resto/api/collections/S2ST/search.json?&lang=en&q=Europe",
             "name": "Europe",
             "normalized": "europe",
             "type": "continent"
            },
            "c0706bb19e22342": {
             "href": "https://peps.cnes.fr/resto/api/collections/S2ST/search.json?&lang=en&q=0",
             "name": "0",
             "type": "isNrt"
            },
            "db06f1d6088ec4f": {
             "href": "https://peps.cnes.fr/resto/api/collections/S2ST/search.json?&lang=en&q=Aquitaine",
             "name": "Aquitaine",
             "normalized": "aquitaine",
             "parentHash": "936bcbcf5c43fbd",
             "type": "region",
             "value": 99.82
            },
            "e8f96b7c46c0d54": {
             "href": "https://peps.cnes.fr/resto/api/collections/S2ST/search.json?&lang=en&q=Descending",
             "name": "Descending",
             "type": "orbitDirection"
            },
            "f0e6a6daa0e9f47": {
             "href": "https://peps.cnes.fr/resto/api/collections/S2ST/search.json?&lang=en&q=Poitou-Charentes",
             "name": "Poitou-Charentes",
             "normalized": "poitou-charentes",
             "parentHash": "936bcbcf5c43fbd",
             "type": "region",
             "value": 0.07
            },
            "f3221bcc6ca49ca": {
             "href": "https://peps.cnes.fr/resto/api/collections/S2ST/search.json?&lang=en&q=Autumn",
             "name": "Autumn",
             "type": "season"
            }
           },
           "license": "proprietary",
           "links": [
            {
             "href": "https://peps.cnes.fr/resto/collections/S2ST/88fbba55-7dfb-566c-a787-4f5655cf847b.json?&lang=en",
             "rel": "alternate",
             "title": "GeoJSON link for 88fbba55-7dfb-566c-a787-4f5655cf847b",
             "type": "application/json"
            },
            {
             "href": "https://peps.cnes.fr/resto/collections/S2ST/88fbba55-7dfb-566c-a787-4f5655cf847b.atom?&lang=en",
             "rel": "alternate",
             "title": "ATOM link for 88fbba55-7dfb-566c-a787-4f5655cf847b",
             "type": "application/atom+xml"
            }
           ],
           "lowProbaClouds": null,
           "mediumProbaClouds": null,
           "mgrs": "30TYQ",
           "missionStartDate": "2015-06-23T00:00:00Z",
           "modificationDate": "2018-11-30T14:40:21.442Z",
           "newVersion": null,
           "orbitDirection": "descending",
           "orbitNumber": 17966,
           "organisationName": null,
           "parentIdentifier": "urn:ogc:def:EOP:ESA::SENTINEL-2:",
           "platform": "S2ST",
           "platformSerialIdentifier": "S2A",
           "processingLevel": "LEVEL1C",
           "productType": "S2MSI1C",
           "publicationDate": "2018-11-30T14:40:21.442Z",
           "quicklook": "https://peps.cnes.fr/quicklook/2018/11/30/S2A/S2A_MSIL1C_20181130T110411_N0207_R094_T30TYQ_20181130T113958_quicklook.jpg",
           "realtime": "Nominal",
           "relativeOrbitNumber": 94,
           "resolution": null,
           "resourceChecksum": "B539FF1347B260CC26F9CB8B45EA1459",
           "resourceSize": 755410039,
           "s2TakeId": "GS2A_20181130T110411_017966_N02.07",
           "sensorMode": "INS-NOBS",
           "sensorType": "OPTICAL",
           "services": {
            "browse": {
             "layer": {
              "layers": "",
              "type": "WMS",
              "url": "https://peps.cnes.fr/cgi-bin/mapserver?map=WMS_S2ST&data=2018/11/30/S2A/S2A_MSIL1C_20181130T110411_N0207_R094_T30TYQ_20181130T113958"
             },
             "title": "Display full resolution product on map"
            },
            "download": {
             "checksum": "B539FF1347B260CC26F9CB8B45EA1459",
             "mimeType": "application/zip",
             "size": 755410039,
             "url": "https://peps.cnes.fr/resto/collections/S2ST/88fbba55-7dfb-566c-a787-4f5655cf847b/download"
            }
           },
           "snowCover": null,
           "snowIce": null,
           "startTimeFromAscendingNode": "2018-11-30T11:04:11.024Z",
           "storage": {
            "mode": "tape"
           },
           "storageStatus": "OFFLINE",
           "thumbnail": null,
           "title": "S2A_MSIL1C_20181130T110411_N0207_R094_T30TYQ_20181130T113958",
           "uid": "88fbba55-7dfb-566c-a787-4f5655cf847b",
           "vegetation": null,
           "visible": 1,
           "water": null
          },
          "type": "Feature"
         },
         {
          "geometry": {
           "coordinates": [
            [
             [
              0.23497614639789,
              43.305118237127
             ],
             [
              -0.53372189999999,
              43.326256971778
             ],
             [
              -0.57269289999999,
              42.338372101891
             ],
             [
              -0.14395142000001,
              42.326797411867
             ],
             [
              -0.1015625,
              42.438379245919
             ],
             [
              -0.045776366999974,
              42.584149516473
             ],
             [
              0.008255327814024,
              42.730355436988
             ],
             [
              0.064108559104547,
              42.876139194439
             ],
             [
              0.12208012432123,
              43.021464199148
             ],
             [
              0.18030838261031,
              43.166932943689
             ],
             [
              0.23497614639789,
              43.305118237127
             ]
            ]
           ],
           "type": "Polygon"
          },
          "id": "S2A_MSIL1C_20181130T110411_N0207_R094_T30TYN_20181130T113958",
          "properties": {
           "abstract": null,
           "bands": [
            {
             "center_wavelength": 0.4439,
             "common_name": "coastal",
             "full_width_half_max": 0.027,
             "gsd": 60,
             "name": "B01"
            },
            {
             "center_wavelength": 0.4966,
             "common_name": "blue",
             "full_width_half_max": 0.098,
             "gsd": 10,
             "name": "B02"
            },
            {
             "center_wavelength": 0.56,
             "common_name": "green",
             "full_width_half_max": 0.045,
             "gsd": 10,
             "name": "B03"
            },
            {
             "center_wavelength": 0.6645,
             "common_name": "red",
             "full_width_half_max": 0.038,
             "gsd": 10,
             "name": "B04"
            },
            {
             "center_wavelength": 0.7039,
             "full_width_half_max": 0.019,
             "gsd": 20,
             "name": "B05"
            },
            {
             "center_wavelength": 0.7402,
             "full_width_half_max": 0.018,
             "gsd": 20,
             "name": "B06"
            },
            {
             "center_wavelength": 0.7825,
             "full_width_half_max": 0.028,
             "gsd": 20,
             "name": "B07"
            },
            {
             "center_wavelength": 0.8351,
             "common_name": "nir",
             "full_width_half_max": 0.145,
             "gsd": 10,
             "name": "B08"
            },
            {
             "center_wavelength": 0.8648,
             "full_width_half_max": 0.033,
             "gsd": 20,
             "name": "B8A"
            },
            {
             "center_wavelength": 0.945,
             "full_width_half_max": 0.026,
             "gsd": 60,
             "name": "B09"
            },
            {
             "center_wavelength": 0.13735,
             "common_name": "cirrus",
             "full_width_half_max": 0.075,
             "gsd": 60,
             "name": "B10"
            },
            {
             "center_wavelength": 0.16137,
             "common_name": "swir16",
             "full_width_half_max": 0.075,
             "gsd": 20,
             "name": "B11"
            },
            {
             "center_wavelength": 0.22024,
             "common_name": "swir22",
             "full_width_half_max": 0.242,
             "gsd": 20,
             "name": "B12"
            }
           ],
           "bareSoil": null,
           "cloudCover": 63.3476,
           "completionTimeFromAscendingNode": "2018-11-30T11:04:11.024Z",
           "creationDate": "2018-11-30T14:14:14.869Z",
           "downloadLink": "https://peps.cnes.fr/resto/collections/S2ST/8cd1a648-7e31-5007-aa60-119c1825dc23/download",
           "eodag_product_type": "S2_MSI_L1C",
           "eodag_provider": "peps",
           "eodag_search_intersection": {
            "coordinates": [
             [
              [
               0,
               43.31157994004311
              ],
              [
               0.23497614639789,
               43.305118237127
              ],
              [
               0.18030838261031,
               43.166932943689
              ],
              [
               0.12208012432123,
               43.021464199148
              ],
              [
               0.11351784542625434,
               43
              ],
              [
               0,
               43
              ],
              [
               0,
               43.31157994004311
              ]
             ]
            ],
            "type": "Polygon"
           },
           "highProbaClouds": null,
           "instrument": "MSI",
           "isNrt": 0,
           "keyword": {
            "1c1c403216da1fd": {
             "href": "https://peps.cnes.fr/resto/api/collections/S2ST/search.json?&lang=en&q=30",
             "name": "30",
             "parentHash": "a5a24c795b91dd3",
             "type": "day"
            },
            "3f85bb5d775e1fc": {
             "href": "https://peps.cnes.fr/resto/api/collections/S2ST/search.json?&lang=en&q=INS-NOBS",
             "name": "INS-NOBS",
             "parentHash": "503f8f6199f3e44",
             "type": "sensorMode"
            },
            "429f9571d35a7f4": {
             "href": "https://peps.cnes.fr/resto/api/collections/S2ST/search.json?&lang=en&q=2018",
             "name": "2018",
             "type": "year"
            },
            "44b15c0a6e62129": {
             "href": "https://peps.cnes.fr/resto/api/collections/S2ST/search.json?&lang=en&q=LEVEL1C",
             "name": "LEVEL1C",
             "type": "processingLevel"
            },
            "45038f3c2322ea3": {
             "href": "https://peps.cnes.fr/resto/api/collections/S2ST/search.json?&lang=en&q=S2ST",
             "name": "S2ST",
             "type": "collection"
            },
            "503f8f6199f3e44": {
             "href": "https://peps.cnes.fr/resto/api/collections/S2ST/search.json?&lang=en&q=msi",
             "name": "msi",
             "parentHash": "afe9ad14455c260",
             "type": "instrument"
            },
            "6219554ecf5905c": {
             "href": "https://peps.cnes.fr/resto/api/collections/S2ST/search.json?&lang=en&q=S2MSI1C",
             "name": "S2MSI1C",
             "type": "productType"
            },
            "936bcbcf5c43fbd": {
             "href": "https://peps.cnes.fr/resto/api/collections/S2ST/search.json?&lang=en&q=France",
             "name": "France",
             "normalized": "france",
             "parentHash": "bce097de57d1ab7",
             "type": "country",
             "value": 61.87
            },
            "a0e4a10aa754ab4": {
             "href": "https://peps.cnes.fr/resto/api/collections/S2ST/search.json?&lang=en&q=Northern",
             "name": "Northern",
             "type": "location"
            },
            "a0ee1300cfffc4d": {
             "href": "https://peps.cnes.fr/resto/api/collections/S2ST/search.json?&lang=en&q=Hautes-Pyr%C3%A9n%C3%A9es",
             "name": "Hautes-Pyrénées",
             "normalized": "hautes-pyrenees",
             "parentHash": "fa018f4f7b20706",
             "type": "state",
             "value": 31.33
            },
            "a5a24c795b91dd3": {
             "href": "https://peps.cnes.fr/resto/api/collections/S2ST/search.json?&lang=en&q=November",
             "name": "November",
             "parentHash": "429f9571d35a7f4",
             "type": "month"
            },
            "adbd1cc9d2fe94b": {
             "href": "https://peps.cnes.fr/resto/api/collections/S2ST/search.json?&lang=en&q=Nominal",
             "name": "Nominal",
             "parentHash": "c0706bb19e22342",
             "type": "realtime"
            },
            "afe9ad14455c260": {
             "href": "https://peps.cnes.fr/resto/api/collections/S2ST/search.json?&lang=en&q=s2A",
             "name": "s2A",
             "type": "platform"
            },
            "bce097de57d1ab7": {
             "href": "https://peps.cnes.fr/resto/api/collections/S2ST/search.json?&lang=en&q=Europe",
             "name": "Europe",
             "normalized": "europe",
             "type": "continent"
            },
            "c0706bb19e22342": {
             "href": "https://peps.cnes.fr/resto/api/collections/S2ST/search.json?&lang=en&q=0",
             "name": "0",
             "type": "isNrt"
            },
            "d4d5543bfdf20e1": {
             "href": "https://peps.cnes.fr/resto/api/collections/S2ST/search.json?&lang=en&q=Arag%C3%B3n",
             "name": "Aragón",
             "normalized": "aragon",
             "parentHash": "e95d1eb633b4dd1",
             "type": "region",
             "value": 38.16
            },
            "d5a7d91bc589eaf": {
             "href": "https://peps.cnes.fr/resto/api/collections/S2ST/search.json?&lang=en&q=Pyr%C3%A9n%C3%A9es-Atlantiques",
             "name": "Pyrénées-Atlantiques",
             "normalized": "pyrenees-atlantiques",
             "parentHash": "db06f1d6088ec4f",
             "type": "state",
             "value": 30.5
            },
            "db06f1d6088ec4f": {
             "href": "https://peps.cnes.fr/resto/api/collections/S2ST/search.json?&lang=en&q=Aquitaine",
             "name": "Aquitaine",
             "normalized": "aquitaine",
             "parentHash": "936bcbcf5c43fbd",
             "type": "region",
             "value": 30.63
            },
            "e710bcc83eae505": {
             "href": "https://peps.cnes.fr/resto/api/collections/S2ST/search.json?&lang=en&q=Huesca",
             "name": "Huesca",
             "normalized": "huesca",
             "parentHash": "d4d5543bfdf20e1",
             "type": "state",
             "value": 38.11
            },
            "e8f96b7c46c0d54": {
             "href": "https://peps.cnes.fr/resto/api/collections/S2ST/search.json?&lang=en&q=Descending",
             "name": "Descending",
             "type": "orbitDirection"
            },
            "e95d1eb633b4dd1": {
             "href": "https://peps.cnes.fr/resto/api/collections/S2ST/search.json?&lang=en&q=Spain",
             "name": "Spain",
             "normalized": "spain",
             "parentHash": "bce097de57d1ab7",
             "type": "country",
             "value": 38.11
            },
            "f3221bcc6ca49ca": {
             "href": "https://peps.cnes.fr/resto/api/collections/S2ST/search.json?&lang=en&q=Autumn",
             "name": "Autumn",
             "type": "season"
            },
            "fa018f4f7b20706": {
             "href": "https://peps.cnes.fr/resto/api/collections/S2ST/search.json?&lang=en&q=Midi-Pyr%C3%A9n%C3%A9es",
             "name": "Midi-Pyrénées",
             "normalized": "midi-pyrenees",
             "parentHash": "936bcbcf5c43fbd",
             "type": "region",
             "value": 31.17
            }
           },
           "license": "proprietary",
           "links": [
            {
             "href": "https://peps.cnes.fr/resto/collections/S2ST/8cd1a648-7e31-5007-aa60-119c1825dc23.json?&lang=en",
             "rel": "alternate",
             "title": "GeoJSON link for 8cd1a648-7e31-5007-aa60-119c1825dc23",
             "type": "application/json"
            },
            {
             "href": "https://peps.cnes.fr/resto/collections/S2ST/8cd1a648-7e31-5007-aa60-119c1825dc23.atom?&lang=en",
             "rel": "alternate",
             "title": "ATOM link for 8cd1a648-7e31-5007-aa60-119c1825dc23",
             "type": "application/atom+xml"
            }
           ],
           "lowProbaClouds": null,
           "mediumProbaClouds": null,
           "mgrs": "30TYN",
           "missionStartDate": "2015-06-23T00:00:00Z",
           "modificationDate": "2018-11-30T14:23:29.018Z",
           "newVersion": null,
           "orbitDirection": "descending",
           "orbitNumber": 17966,
           "organisationName": null,
           "parentIdentifier": "urn:ogc:def:EOP:ESA::SENTINEL-2:",
           "platform": "S2ST",
           "platformSerialIdentifier": "S2A",
           "processingLevel": "LEVEL1C",
           "productType": "S2MSI1C",
           "publicationDate": "2018-11-30T14:23:29.018Z",
           "quicklook": "https://peps.cnes.fr/quicklook/2018/11/30/S2A/S2A_MSIL1C_20181130T110411_N0207_R094_T30TYN_20181130T113958_quicklook.jpg",
           "realtime": "Nominal",
           "relativeOrbitNumber": 94,
           "resolution": null,
           "resourceChecksum": "DD584128EB7845545376F2A757513A5E",
           "resourceSize": 352222351,
           "s2TakeId": "GS2A_20181130T110411_017966_N02.07",
           "sensorMode": "INS-NOBS",
           "sensorType": "OPTICAL",
           "services": {
            "browse": {
             "layer": {
              "layers": "",
              "type": "WMS",
              "url": "https://peps.cnes.fr/cgi-bin/mapserver?map=WMS_S2ST&data=2018/11/30/S2A/S2A_MSIL1C_20181130T110411_N0207_R094_T30TYN_20181130T113958"
             },
             "title": "Display full resolution product on map"
            },
            "download": {
             "checksum": "DD584128EB7845545376F2A757513A5E",
             "mimeType": "application/zip",
             "size": 352222351,
             "url": "https://peps.cnes.fr/resto/collections/S2ST/8cd1a648-7e31-5007-aa60-119c1825dc23/download"
            }
           },
           "snowCover": null,
           "snowIce": null,
           "startTimeFromAscendingNode": "2018-11-30T11:04:11.024Z",
           "storage": {
            "mode": "tape"
           },
           "storageStatus": "OFFLINE",
           "thumbnail": null,
           "title": "S2A_MSIL1C_20181130T110411_N0207_R094_T30TYN_20181130T113958",
           "uid": "8cd1a648-7e31-5007-aa60-119c1825dc23",
           "vegetation": null,
           "visible": 1,
           "water": null
          },
          "type": "Feature"
         },
         {
          "geometry": {
           "coordinates": [
            [
             [
              0.58778109849715,
              44.19567031073
             ],
             [
              -0.49642943999999,
              44.225975128025
             ],
             [
              -0.53726196000002,
              43.238273156784
             ],
             [
              0.20051789741056,
              43.218017120897
             ],
             [
              0.23797746663318,
              43.312704761409
             ],
             [
              0.2951548227563,
              43.458645393128
             ],
             [
              0.35282910400913,
              43.60444275654
             ],
             [
              0.41052070698451,
              43.750196803978
             ],
             [
              0.46817407918293,
              43.89594414981
             ],
             [
              0.52602167474636,
              44.041645587771
             ],
             [
              0.58443321611484,
              44.187235765762
             ],
             [
              0.58778109849715,
              44.19567031073
             ]
            ]
           ],
           "type": "Polygon"
          },
          "id": "S2A_MSIL1C_20181130T110411_N0207_R094_T30TYP_20181130T113958",
          "properties": {
           "abstract": null,
           "bands": [
            {
             "center_wavelength": 0.4439,
             "common_name": "coastal",
             "full_width_half_max": 0.027,
             "gsd": 60,
             "name": "B01"
            },
            {
             "center_wavelength": 0.4966,
             "common_name": "blue",
             "full_width_half_max": 0.098,
             "gsd": 10,
             "name": "B02"
            },
            {
             "center_wavelength": 0.56,
             "common_name": "green",
             "full_width_half_max": 0.045,
             "gsd": 10,
             "name": "B03"
            },
            {
             "center_wavelength": 0.6645,
             "common_name": "red",
             "full_width_half_max": 0.038,
             "gsd": 10,
             "name": "B04"
            },
            {
             "center_wavelength": 0.7039,
             "full_width_half_max": 0.019,
             "gsd": 20,
             "name": "B05"
            },
            {
             "center_wavelength": 0.7402,
             "full_width_half_max": 0.018,
             "gsd": 20,
             "name": "B06"
            },
            {
             "center_wavelength": 0.7825,
             "full_width_half_max": 0.028,
             "gsd": 20,
             "name": "B07"
            },
            {
             "center_wavelength": 0.8351,
             "common_name": "nir",
             "full_width_half_max": 0.145,
             "gsd": 10,
             "name": "B08"
            },
            {
             "center_wavelength": 0.8648,
             "full_width_half_max": 0.033,
             "gsd": 20,
             "name": "B8A"
            },
            {
             "center_wavelength": 0.945,
             "full_width_half_max": 0.026,
             "gsd": 60,
             "name": "B09"
            },
            {
             "center_wavelength": 0.13735,
             "common_name": "cirrus",
             "full_width_half_max": 0.075,
             "gsd": 60,
             "name": "B10"
            },
            {
             "center_wavelength": 0.16137,
             "common_name": "swir16",
             "full_width_half_max": 0.075,
             "gsd": 20,
             "name": "B11"
            },
            {
             "center_wavelength": 0.22024,
             "common_name": "swir22",
             "full_width_half_max": 0.242,
             "gsd": 20,
             "name": "B12"
            }
           ],
           "bareSoil": null,
           "cloudCover": 15.7417,
           "completionTimeFromAscendingNode": "2018-11-30T11:04:11.024Z",
           "creationDate": "2018-11-30T14:17:36.714Z",
           "downloadLink": "https://peps.cnes.fr/resto/collections/S2ST/afc8b011-9564-585d-859e-e279408c14ab/download",
           "eodag_product_type": "S2_MSI_L1C",
           "eodag_provider": "peps",
           "eodag_search_intersection": {
            "coordinates": [
             [
              [
               0,
               44.212099406525454
              ],
              [
               0.58778109849715,
               44.19567031073
              ],
              [
               0.58443321611484,
               44.187235765762
              ],
              [
               0.52602167474636,
               44.041645587771
              ],
              [
               0.46817407918293,
               43.89594414981
              ],
              [
               0.41052070698451,
               43.750196803978
              ],
              [
               0.35282910400913,
               43.60444275654
              ],
              [
               0.2951548227563,
               43.458645393128
              ],
              [
               0.23797746663318,
               43.312704761409
              ],
              [
               0.20051789741056,
               43.218017120897
              ],
              [
               0,
               43.22352241856152
              ],
              [
               0,
               44.212099406525454
              ]
             ]
            ],
            "type": "Polygon"
           },
           "highProbaClouds": null,
           "instrument": "MSI",
           "isNrt": 0,
           "keyword": {
            "1c1c403216da1fd": {
             "href": "https://peps.cnes.fr/resto/api/collections/S2ST/search.json?&lang=en&q=30",
             "name": "30",
             "parentHash": "a5a24c795b91dd3",
             "type": "day"
            },
            "3af7f479d8e1e5a": {
             "href": "https://peps.cnes.fr/resto/api/collections/S2ST/search.json?&lang=en&q=Landes",
             "name": "Landes",
             "normalized": "landes",
             "parentHash": "db06f1d6088ec4f",
             "type": "state",
             "value": 28.68
            },
            "3be01aa3157cfbf": {
             "href": "https://peps.cnes.fr/resto/api/collections/S2ST/search.json?&lang=en&q=Gironde",
             "name": "Gironde",
             "normalized": "gironde",
             "parentHash": "db06f1d6088ec4f",
             "type": "state",
             "value": 0.3
            },
            "3f85bb5d775e1fc": {
             "href": "https://peps.cnes.fr/resto/api/collections/S2ST/search.json?&lang=en&q=INS-NOBS",
             "name": "INS-NOBS",
             "parentHash": "503f8f6199f3e44",
             "type": "sensorMode"
            },
            "429f9571d35a7f4": {
             "href": "https://peps.cnes.fr/resto/api/collections/S2ST/search.json?&lang=en&q=2018",
             "name": "2018",
             "type": "year"
            },
            "44b15c0a6e62129": {
             "href": "https://peps.cnes.fr/resto/api/collections/S2ST/search.json?&lang=en&q=LEVEL1C",
             "name": "LEVEL1C",
             "type": "processingLevel"
            },
            "45038f3c2322ea3": {
             "href": "https://peps.cnes.fr/resto/api/collections/S2ST/search.json?&lang=en&q=S2ST",
             "name": "S2ST",
             "type": "collection"
            },
            "4b1f69fd85f2eff": {
             "href": "https://peps.cnes.fr/resto/api/collections/S2ST/search.json?&lang=en&q=Lot-et-Garonne",
             "name": "Lot-et-Garonne",
             "normalized": "lot-et-garonne",
             "parentHash": "db06f1d6088ec4f",
             "type": "state",
             "value": 11.31
            },
            "503f8f6199f3e44": {
             "href": "https://peps.cnes.fr/resto/api/collections/S2ST/search.json?&lang=en&q=msi",
             "name": "msi",
             "parentHash": "afe9ad14455c260",
             "type": "instrument"
            },
            "6219554ecf5905c": {
             "href": "https://peps.cnes.fr/resto/api/collections/S2ST/search.json?&lang=en&q=S2MSI1C",
             "name": "S2MSI1C",
             "type": "productType"
            },
            "936bcbcf5c43fbd": {
             "href": "https://peps.cnes.fr/resto/api/collections/S2ST/search.json?&lang=en&q=France",
             "name": "France",
             "normalized": "france",
             "parentHash": "bce097de57d1ab7",
             "type": "country",
             "value": 100
            },
            "a0e4a10aa754ab4": {
             "href": "https://peps.cnes.fr/resto/api/collections/S2ST/search.json?&lang=en&q=Northern",
             "name": "Northern",
             "type": "location"
            },
            "a0ee1300cfffc4d": {
             "href": "https://peps.cnes.fr/resto/api/collections/S2ST/search.json?&lang=en&q=Hautes-Pyr%C3%A9n%C3%A9es",
             "name": "Hautes-Pyrénées",
             "normalized": "hautes-pyrenees",
             "parentHash": "fa018f4f7b20706",
             "type": "state",
             "value": 8.33
            },
            "a5a24c795b91dd3": {
             "href": "https://peps.cnes.fr/resto/api/collections/S2ST/search.json?&lang=en&q=November",
             "name": "November",
             "parentHash": "429f9571d35a7f4",
             "type": "month"
            },
            "adbd1cc9d2fe94b": {
             "href": "https://peps.cnes.fr/resto/api/collections/S2ST/search.json?&lang=en&q=Nominal",
             "name": "Nominal",
             "parentHash": "c0706bb19e22342",
             "type": "realtime"
            },
            "afe9ad14455c260": {
             "href": "https://peps.cnes.fr/resto/api/collections/S2ST/search.json?&lang=en&q=s2A",
             "name": "s2A",
             "type": "platform"
            },
            "bce097de57d1ab7": {
             "href": "https://peps.cnes.fr/resto/api/collections/S2ST/search.json?&lang=en&q=Europe",
             "name": "Europe",
             "normalized": "europe",
             "type": "continent"
            },
            "c0706bb19e22342": {
             "href": "https://peps.cnes.fr/resto/api/collections/S2ST/search.json?&lang=en&q=0",
             "name": "0",
             "type": "isNrt"
            },
            "d5a7d91bc589eaf": {
             "href": "https://peps.cnes.fr/resto/api/collections/S2ST/search.json?&lang=en&q=Pyr%C3%A9n%C3%A9es-Atlantiques",
             "name": "Pyrénées-Atlantiques",
             "normalized": "pyrenees-atlantiques",
             "parentHash": "db06f1d6088ec4f",
             "type": "state",
             "value": 18.72
            },
            "d8c2acfe38c3ff4": {
             "href": "https://peps.cnes.fr/resto/api/collections/S2ST/search.json?&lang=en&q=Gers",
             "name": "Gers",
             "normalized": "gers",
             "parentHash": "fa018f4f7b20706",
             "type": "state",
             "value": 32.57
            },
            "db06f1d6088ec4f": {
             "href": "https://peps.cnes.fr/resto/api/collections/S2ST/search.json?&lang=en&q=Aquitaine",
             "name": "Aquitaine",
             "normalized": "aquitaine",
             "parentHash": "936bcbcf5c43fbd",
             "type": "region",
             "value": 59.11
            },
            "e8f96b7c46c0d54": {
             "href": "https://peps.cnes.fr/resto/api/collections/S2ST/search.json?&lang=en&q=Descending",
             "name": "Descending",
             "type": "orbitDirection"
            },
            "f3221bcc6ca49ca": {
             "href": "https://peps.cnes.fr/resto/api/collections/S2ST/search.json?&lang=en&q=Autumn",
             "name": "Autumn",
             "type": "season"
            },
            "fa018f4f7b20706": {
             "href": "https://peps.cnes.fr/resto/api/collections/S2ST/search.json?&lang=en&q=Midi-Pyr%C3%A9n%C3%A9es",
             "name": "Midi-Pyrénées",
             "normalized": "midi-pyrenees",
             "parentHash": "936bcbcf5c43fbd",
             "type": "region",
             "value": 40.79
            }
           },
           "license": "proprietary",
           "links": [
            {
             "href": "https://peps.cnes.fr/resto/collections/S2ST/afc8b011-9564-585d-859e-e279408c14ab.json?&lang=en",
             "rel": "alternate",
             "title": "GeoJSON link for afc8b011-9564-585d-859e-e279408c14ab",
             "type": "application/json"
            },
            {
             "href": "https://peps.cnes.fr/resto/collections/S2ST/afc8b011-9564-585d-859e-e279408c14ab.atom?&lang=en",
             "rel": "alternate",
             "title": "ATOM link for afc8b011-9564-585d-859e-e279408c14ab",
             "type": "application/atom+xml"
            }
           ],
           "lowProbaClouds": null,
           "mediumProbaClouds": null,
           "mgrs": "30TYP",
           "missionStartDate": "2015-06-23T00:00:00Z",
           "modificationDate": "2018-11-30T14:32:11.098Z",
           "newVersion": null,
           "orbitDirection": "descending",
           "orbitNumber": 17966,
           "organisationName": null,
           "parentIdentifier": "urn:ogc:def:EOP:ESA::SENTINEL-2:",
           "platform": "S2ST",
           "platformSerialIdentifier": "S2A",
           "processingLevel": "LEVEL1C",
           "productType": "S2MSI1C",
           "publicationDate": "2018-11-30T14:32:11.098Z",
           "quicklook": "https://peps.cnes.fr/quicklook/2018/11/30/S2A/S2A_MSIL1C_20181130T110411_N0207_R094_T30TYP_20181130T113958_quicklook.jpg",
           "realtime": "Nominal",
           "relativeOrbitNumber": 94,
           "resolution": null,
           "resourceChecksum": "4B860B92A8ECE250220971D285AE5BB9",
           "resourceSize": 564215821,
           "s2TakeId": "GS2A_20181130T110411_017966_N02.07",
           "sensorMode": "INS-NOBS",
           "sensorType": "OPTICAL",
           "services": {
            "browse": {
             "layer": {
              "layers": "",
              "type": "WMS",
              "url": "https://peps.cnes.fr/cgi-bin/mapserver?map=WMS_S2ST&data=2018/11/30/S2A/S2A_MSIL1C_20181130T110411_N0207_R094_T30TYP_20181130T113958"
             },
             "title": "Display full resolution product on map"
            },
            "download": {
             "checksum": "4B860B92A8ECE250220971D285AE5BB9",
             "mimeType": "application/zip",
             "size": 564215821,
             "url": "https://peps.cnes.fr/resto/collections/S2ST/afc8b011-9564-585d-859e-e279408c14ab/download"
            }
           },
           "snowCover": null,
           "snowIce": null,
           "startTimeFromAscendingNode": "2018-11-30T11:04:11.024Z",
           "storage": {
            "mode": "tape"
           },
           "storageStatus": "OFFLINE",
           "thumbnail": null,
           "title": "S2A_MSIL1C_20181130T110411_N0207_R094_T30TYP_20181130T113958",
           "uid": "afc8b011-9564-585d-859e-e279408c14ab",
           "vegetation": null,
           "visible": 1,
           "water": null
          },
          "type": "Feature"
         },
         {
          "geometry": {
           "coordinates": [
            [
             [
              0.96796554884063,
              45.133774700189
             ],
             [
              0.45686051699677,
              45.125513562024
             ],
             [
              0.49965161310688,
              44.137996748197
             ],
             [
              0.56509537438275,
              44.139036390197
             ],
             [
              0.58443321611484,
              44.187235765762
             ],
             [
              0.64226101634863,
              44.332925227282
             ],
             [
              0.7009346129259,
              44.478404678491
             ],
             [
              0.7594095682992,
              44.623949713686
             ],
             [
              0.81816354092022,
              44.769532631952
             ],
             [
              0.87776300482127,
              44.91505327747
             ],
             [
              0.93757086508817,
              45.060669985668
             ],
             [
              0.96796554884063,
              45.133774700189
             ]
            ]
           ],
           "type": "Polygon"
          },
          "id": "S2A_MSIL1C_20181130T110411_N0207_R094_T31TCK_20181130T113958",
          "properties": {
           "abstract": null,
           "bands": [
            {
             "center_wavelength": 0.4439,
             "common_name": "coastal",
             "full_width_half_max": 0.027,
             "gsd": 60,
             "name": "B01"
            },
            {
             "center_wavelength": 0.4966,
             "common_name": "blue",
             "full_width_half_max": 0.098,
             "gsd": 10,
             "name": "B02"
            },
            {
             "center_wavelength": 0.56,
             "common_name": "green",
             "full_width_half_max": 0.045,
             "gsd": 10,
             "name": "B03"
            },
            {
             "center_wavelength": 0.6645,
             "common_name": "red",
             "full_width_half_max": 0.038,
             "gsd": 10,
             "name": "B04"
            },
            {
             "center_wavelength": 0.7039,
             "full_width_half_max": 0.019,
             "gsd": 20,
             "name": "B05"
            },
            {
             "center_wavelength": 0.7402,
             "full_width_half_max": 0.018,
             "gsd": 20,
             "name": "B06"
            },
            {
             "center_wavelength": 0.7825,
             "full_width_half_max": 0.028,
             "gsd": 20,
             "name": "B07"
            },
            {
             "center_wavelength": 0.8351,
             "common_name": "nir",
             "full_width_half_max": 0.145,
             "gsd": 10,
             "name": "B08"
            },
            {
             "center_wavelength": 0.8648,
             "full_width_half_max": 0.033,
             "gsd": 20,
             "name": "B8A"
            },
            {
             "center_wavelength": 0.945,
             "full_width_half_max": 0.026,
             "gsd": 60,
             "name": "B09"
            },
            {
             "center_wavelength": 0.13735,
             "common_name": "cirrus",
             "full_width_half_max": 0.075,
             "gsd": 60,
             "name": "B10"
            },
            {
             "center_wavelength": 0.16137,
             "common_name": "swir16",
             "full_width_half_max": 0.075,
             "gsd": 20,
             "name": "B11"
            },
            {
             "center_wavelength": 0.22024,
             "common_name": "swir22",
             "full_width_half_max": 0.242,
             "gsd": 20,
             "name": "B12"
            }
           ],
           "bareSoil": null,
           "cloudCover": 58.4102,
           "completionTimeFromAscendingNode": "2018-11-30T11:04:11.024Z",
           "creationDate": "2018-11-30T14:11:24.612Z",
           "downloadLink": "https://peps.cnes.fr/resto/collections/S2ST/c9e920ec-8752-523e-beb6-b9c2bec1b843/download",
           "eodag_product_type": "S2_MSI_L1C",
           "eodag_provider": "peps",
           "eodag_search_intersection": {
            "coordinates": [
             [
              [
               0.9126524194638346,
               45
              ],
              [
               0.87776300482127,
               44.91505327747
              ],
              [
               0.81816354092022,
               44.769532631952
              ],
              [
               0.7594095682992,
               44.623949713686
              ],
              [
               0.7009346129259,
               44.478404678491
              ],
              [
               0.64226101634863,
               44.332925227282
              ],
              [
               0.58443321611484,
               44.187235765762
              ],
              [
               0.56509537438275,
               44.139036390197
              ],
              [
               0.49965161310688,
               44.137996748197
              ],
              [
               0.4622992728948868,
               45
              ],
              [
               0.9126524194638346,
               45
              ]
             ]
            ],
            "type": "Polygon"
           },
           "highProbaClouds": null,
           "instrument": "MSI",
           "isNrt": 0,
           "keyword": {
            "1c1c403216da1fd": {
             "href": "https://peps.cnes.fr/resto/api/collections/S2ST/search.json?&lang=en&q=30",
             "name": "30",
             "parentHash": "a5a24c795b91dd3",
             "type": "day"
            },
            "1eb8a6dcbdf3b74": {
             "href": "https://peps.cnes.fr/resto/api/collections/S2ST/search.json?&lang=en&q=Dordogne",
             "name": "Dordogne",
             "normalized": "dordogne",
             "parentHash": "db06f1d6088ec4f",
             "type": "state",
             "value": 64.24
            },
            "3f85bb5d775e1fc": {
             "href": "https://peps.cnes.fr/resto/api/collections/S2ST/search.json?&lang=en&q=INS-NOBS",
             "name": "INS-NOBS",
             "parentHash": "503f8f6199f3e44",
             "type": "sensorMode"
            },
            "429f9571d35a7f4": {
             "href": "https://peps.cnes.fr/resto/api/collections/S2ST/search.json?&lang=en&q=2018",
             "name": "2018",
             "type": "year"
            },
            "44b15c0a6e62129": {
             "href": "https://peps.cnes.fr/resto/api/collections/S2ST/search.json?&lang=en&q=LEVEL1C",
             "name": "LEVEL1C",
             "type": "processingLevel"
            },
            "45038f3c2322ea3": {
             "href": "https://peps.cnes.fr/resto/api/collections/S2ST/search.json?&lang=en&q=S2ST",
             "name": "S2ST",
             "type": "collection"
            },
            "4b1f69fd85f2eff": {
             "href": "https://peps.cnes.fr/resto/api/collections/S2ST/search.json?&lang=en&q=Lot-et-Garonne",
             "name": "Lot-et-Garonne",
             "normalized": "lot-et-garonne",
             "parentHash": "db06f1d6088ec4f",
             "type": "state",
             "value": 35.78
            },
            "503f8f6199f3e44": {
             "href": "https://peps.cnes.fr/resto/api/collections/S2ST/search.json?&lang=en&q=msi",
             "name": "msi",
             "parentHash": "afe9ad14455c260",
             "type": "instrument"
            },
            "6219554ecf5905c": {
             "href": "https://peps.cnes.fr/resto/api/collections/S2ST/search.json?&lang=en&q=S2MSI1C",
             "name": "S2MSI1C",
             "type": "productType"
            },
            "936bcbcf5c43fbd": {
             "href": "https://peps.cnes.fr/resto/api/collections/S2ST/search.json?&lang=en&q=France",
             "name": "France",
             "normalized": "france",
             "parentHash": "bce097de57d1ab7",
             "type": "country",
             "value": 99.99
            },
            "a0e4a10aa754ab4": {
             "href": "https://peps.cnes.fr/resto/api/collections/S2ST/search.json?&lang=en&q=Northern",
             "name": "Northern",
             "type": "location"
            },
            "a5a24c795b91dd3": {
             "href": "https://peps.cnes.fr/resto/api/collections/S2ST/search.json?&lang=en&q=November",
             "name": "November",
             "parentHash": "429f9571d35a7f4",
             "type": "month"
            },
            "adbd1cc9d2fe94b": {
             "href": "https://peps.cnes.fr/resto/api/collections/S2ST/search.json?&lang=en&q=Nominal",
             "name": "Nominal",
             "parentHash": "c0706bb19e22342",
             "type": "realtime"
            },
            "afe9ad14455c260": {
             "href": "https://peps.cnes.fr/resto/api/collections/S2ST/search.json?&lang=en&q=s2A",
             "name": "s2A",
             "type": "platform"
            },
            "bce097de57d1ab7": {
             "href": "https://peps.cnes.fr/resto/api/collections/S2ST/search.json?&lang=en&q=Europe",
             "name": "Europe",
             "normalized": "europe",
             "type": "continent"
            },
            "c0706bb19e22342": {
             "href": "https://peps.cnes.fr/resto/api/collections/S2ST/search.json?&lang=en&q=0",
             "name": "0",
             "type": "isNrt"
            },
            "db06f1d6088ec4f": {
             "href": "https://peps.cnes.fr/resto/api/collections/S2ST/search.json?&lang=en&q=Aquitaine",
             "name": "Aquitaine",
             "normalized": "aquitaine",
             "parentHash": "936bcbcf5c43fbd",
             "type": "region",
             "value": 99.99
            },
            "e8f96b7c46c0d54": {
             "href": "https://peps.cnes.fr/resto/api/collections/S2ST/search.json?&lang=en&q=Descending",
             "name": "Descending",
             "type": "orbitDirection"
            },
            "f3221bcc6ca49ca": {
             "href": "https://peps.cnes.fr/resto/api/collections/S2ST/search.json?&lang=en&q=Autumn",
             "name": "Autumn",
             "type": "season"
            }
           },
           "license": "proprietary",
           "links": [
            {
             "href": "https://peps.cnes.fr/resto/collections/S2ST/c9e920ec-8752-523e-beb6-b9c2bec1b843.json?&lang=en",
             "rel": "alternate",
             "title": "GeoJSON link for c9e920ec-8752-523e-beb6-b9c2bec1b843",
             "type": "application/json"
            },
            {
             "href": "https://peps.cnes.fr/resto/collections/S2ST/c9e920ec-8752-523e-beb6-b9c2bec1b843.atom?&lang=en",
             "rel": "alternate",
             "title": "ATOM link for c9e920ec-8752-523e-beb6-b9c2bec1b843",
             "type": "application/atom+xml"
            }
           ],
           "lowProbaClouds": null,
           "mediumProbaClouds": null,
           "mgrs": "31TCK",
           "missionStartDate": "2015-06-23T00:00:00Z",
           "modificationDate": "2018-11-30T14:17:05.681Z",
           "newVersion": null,
           "orbitDirection": "descending",
           "orbitNumber": 17966,
           "organisationName": null,
           "parentIdentifier": "urn:ogc:def:EOP:ESA::SENTINEL-2:",
           "platform": "S2ST",
           "platformSerialIdentifier": "S2A",
           "processingLevel": "LEVEL1C",
           "productType": "S2MSI1C",
           "publicationDate": "2018-11-30T14:17:05.681Z",
           "quicklook": "https://peps.cnes.fr/quicklook/2018/11/30/S2A/S2A_MSIL1C_20181130T110411_N0207_R094_T31TCK_20181130T113958_quicklook.jpg",
           "realtime": "Nominal",
           "relativeOrbitNumber": 94,
           "resolution": null,
           "resourceChecksum": "16E76AEDB7CC3C0A478C31DC84DF4826",
           "resourceSize": 191692463,
           "s2TakeId": "GS2A_20181130T110411_017966_N02.07",
           "sensorMode": "INS-NOBS",
           "sensorType": "OPTICAL",
           "services": {
            "browse": {
             "layer": {
              "layers": "",
              "type": "WMS",
              "url": "https://peps.cnes.fr/cgi-bin/mapserver?map=WMS_S2ST&data=2018/11/30/S2A/S2A_MSIL1C_20181130T110411_N0207_R094_T31TCK_20181130T113958"
             },
             "title": "Display full resolution product on map"
            },
            "download": {
             "checksum": "16E76AEDB7CC3C0A478C31DC84DF4826",
             "mimeType": "application/zip",
             "size": 191692463,
             "url": "https://peps.cnes.fr/resto/collections/S2ST/c9e920ec-8752-523e-beb6-b9c2bec1b843/download"
            }
           },
           "snowCover": null,
           "snowIce": null,
           "startTimeFromAscendingNode": "2018-11-30T11:04:11.024Z",
           "storage": {
            "mode": "disk"
           },
           "storageStatus": "ONLINE",
           "thumbnail": null,
           "title": "S2A_MSIL1C_20181130T110411_N0207_R094_T31TCK_20181130T113958",
           "uid": "c9e920ec-8752-523e-beb6-b9c2bec1b843",
           "vegetation": null,
           "visible": 1,
           "water": null
          },
          "type": "Feature"
         },
         {
          "geometry": {
           "coordinates": [
            [
             [
              1.4804991542111,
              43.253012300817
             ],
             [
              1.8886830141923,
              43.259391910537
             ],
             [
              1.8702372867615,
              44.247830683969
             ],
             [
              1.8079042187479,
              44.246838906897
             ],
             [
              1.7602402276802,
              44.102755370495
             ],
             [
              1.711368299772,
              43.956018763864
             ],
             [
              1.6626875540085,
              43.809207978886
             ],
             [
              1.6142391325129,
              43.662314097702
             ],
             [
              1.5659008217131,
              43.515408476703
             ],
             [
              1.5178822393442,
              43.368473475086
             ],
             [
              1.4804991542111,
              43.253012300817
             ]
            ]
           ],
           "type": "Polygon"
          },
          "id": "S2B_MSIL1C_20181129T104359_N0207_R008_T31TCJ_20181129T125151",
          "properties": {
           "abstract": null,
           "bands": [
            {
             "center_wavelength": 0.4439,
             "common_name": "coastal",
             "full_width_half_max": 0.027,
             "gsd": 60,
             "name": "B01"
            },
            {
             "center_wavelength": 0.4966,
             "common_name": "blue",
             "full_width_half_max": 0.098,
             "gsd": 10,
             "name": "B02"
            },
            {
             "center_wavelength": 0.56,
             "common_name": "green",
             "full_width_half_max": 0.045,
             "gsd": 10,
             "name": "B03"
            },
            {
             "center_wavelength": 0.6645,
             "common_name": "red",
             "full_width_half_max": 0.038,
             "gsd": 10,
             "name": "B04"
            },
            {
             "center_wavelength": 0.7039,
             "full_width_half_max": 0.019,
             "gsd": 20,
             "name": "B05"
            },
            {
             "center_wavelength": 0.7402,
             "full_width_half_max": 0.018,
             "gsd": 20,
             "name": "B06"
            },
            {
             "center_wavelength": 0.7825,
             "full_width_half_max": 0.028,
             "gsd": 20,
             "name": "B07"
            },
            {
             "center_wavelength": 0.8351,
             "common_name": "nir",
             "full_width_half_max": 0.145,
             "gsd": 10,
             "name": "B08"
            },
            {
             "center_wavelength": 0.8648,
             "full_width_half_max": 0.033,
             "gsd": 20,
             "name": "B8A"
            },
            {
             "center_wavelength": 0.945,
             "full_width_half_max": 0.026,
             "gsd": 60,
             "name": "B09"
            },
            {
             "center_wavelength": 0.13735,
             "common_name": "cirrus",
             "full_width_half_max": 0.075,
             "gsd": 60,
             "name": "B10"
            },
            {
             "center_wavelength": 0.16137,
             "common_name": "swir16",
             "full_width_half_max": 0.075,
             "gsd": 20,
             "name": "B11"
            },
            {
             "center_wavelength": 0.22024,
             "common_name": "swir22",
             "full_width_half_max": 0.242,
             "gsd": 20,
             "name": "B12"
            }
           ],
           "bareSoil": null,
           "cloudCover": 25.1742,
           "completionTimeFromAscendingNode": "2018-11-29T10:43:59.024Z",
           "creationDate": "2018-11-29T16:01:22.587Z",
           "downloadLink": "https://peps.cnes.fr/resto/collections/S2ST/7cb41e7e-f800-55dc-8f86-1cfa91a447ce/download",
           "eodag_product_type": "S2_MSI_L1C",
           "eodag_provider": "peps",
           "eodag_search_intersection": {
            "coordinates": [
             [
              [
               1.4804991542111,
               43.253012300817
              ],
              [
               1.5178822393442,
               43.368473475086
              ],
              [
               1.5659008217131,
               43.515408476703
              ],
              [
               1.6142391325129,
               43.662314097702
              ],
              [
               1.6626875540085,
               43.809207978886
              ],
              [
               1.711368299772,
               43.956018763864
              ],
              [
               1.7602402276802,
               44.102755370495
              ],
              [
               1.8079042187479,
               44.246838906897
              ],
              [
               1.8702372867615,
               44.247830683969
              ],
              [
               1.8886830141923,
               43.259391910537
              ],
              [
               1.4804991542111,
               43.253012300817
              ]
             ]
            ],
            "type": "Polygon"
           },
           "highProbaClouds": null,
           "instrument": "MSI",
           "isNrt": 0,
           "keyword": {
            "429f9571d35a7f4": {
             "href": "https://peps.cnes.fr/resto/api/collections/S2ST/search.json?&lang=en&q=2018",
             "name": "2018",
             "type": "year"
            },
            "44b15c0a6e62129": {
             "href": "https://peps.cnes.fr/resto/api/collections/S2ST/search.json?&lang=en&q=LEVEL1C",
             "name": "LEVEL1C",
             "type": "processingLevel"
            },
            "45038f3c2322ea3": {
             "href": "https://peps.cnes.fr/resto/api/collections/S2ST/search.json?&lang=en&q=S2ST",
             "name": "S2ST",
             "type": "collection"
            },
            "455ae3d75f982e8": {
             "href": "https://peps.cnes.fr/resto/api/collections/S2ST/search.json?&lang=en&q=Languedoc-Roussillon",
             "name": "Languedoc-Roussillon",
             "normalized": "languedoc-roussillon",
             "parentHash": "936bcbcf5c43fbd",
             "type": "region",
             "value": 8.01
            },
            "56bf819406cae6b": {
             "href": "https://peps.cnes.fr/resto/api/collections/S2ST/search.json?&lang=en&q=s2B",
             "name": "s2B",
             "type": "platform"
            },
            "6219554ecf5905c": {
             "href": "https://peps.cnes.fr/resto/api/collections/S2ST/search.json?&lang=en&q=S2MSI1C",
             "name": "S2MSI1C",
             "type": "productType"
            },
            "638f34fab02f39d": {
             "href": "https://peps.cnes.fr/resto/api/collections/S2ST/search.json?&lang=en&q=Haute-Garonne",
             "name": "Haute-Garonne",
             "normalized": "haute-garonne",
             "parentHash": "fa018f4f7b20706",
             "type": "state",
             "value": 45.84
            },
            "70db2751c3c6c3d": {
             "href": "https://peps.cnes.fr/resto/api/collections/S2ST/search.json?&lang=en&q=Aude",
             "name": "Aude",
             "normalized": "aude",
             "parentHash": "455ae3d75f982e8",
             "type": "state",
             "value": 8.02
            },
            "77ddbc33a771bb6": {
             "href": "https://peps.cnes.fr/resto/api/collections/S2ST/search.json?&lang=en&q=29",
             "name": "29",
             "parentHash": "a5a24c795b91dd3",
             "type": "day"
            },
            "936bcbcf5c43fbd": {
             "href": "https://peps.cnes.fr/resto/api/collections/S2ST/search.json?&lang=en&q=France",
             "name": "France",
             "normalized": "france",
             "parentHash": "bce097de57d1ab7",
             "type": "country",
             "value": 100
            },
            "a0e4a10aa754ab4": {
             "href": "https://peps.cnes.fr/resto/api/collections/S2ST/search.json?&lang=en&q=Northern",
             "name": "Northern",
             "type": "location"
            },
            "a5a24c795b91dd3": {
             "href": "https://peps.cnes.fr/resto/api/collections/S2ST/search.json?&lang=en&q=November",
             "name": "November",
             "parentHash": "429f9571d35a7f4",
             "type": "month"
            },
            "aca78422271631a": {
             "href": "https://peps.cnes.fr/resto/api/collections/S2ST/search.json?&lang=en&q=INS-NOBS",
             "name": "INS-NOBS",
             "parentHash": "f841767ba5c92d4",
             "type": "sensorMode"
            },
            "adbd1cc9d2fe94b": {
             "href": "https://peps.cnes.fr/resto/api/collections/S2ST/search.json?&lang=en&q=Nominal",
             "name": "Nominal",
             "parentHash": "c0706bb19e22342",
             "type": "realtime"
            },
            "b9f5eec8dcb2cb5": {
             "href": "https://peps.cnes.fr/resto/api/collections/S2ST/search.json?&lang=en&q=Ari%C3%A8ge",
             "name": "Ariège",
             "normalized": "ariege",
             "parentHash": "fa018f4f7b20706",
             "type": "state",
             "value": 1.43
            },
            "bce097de57d1ab7": {
             "href": "https://peps.cnes.fr/resto/api/collections/S2ST/search.json?&lang=en&q=Europe",
             "name": "Europe",
             "normalized": "europe",
             "type": "continent"
            },
            "c0706bb19e22342": {
             "href": "https://peps.cnes.fr/resto/api/collections/S2ST/search.json?&lang=en&q=0",
             "name": "0",
             "type": "isNrt"
            },
            "c6319beaa1b6cdd": {
             "href": "https://peps.cnes.fr/resto/api/collections/S2ST/search.json?&lang=en&q=Tarn-et-Garonne",
             "name": "Tarn-et-Garonne",
             "normalized": "tarn-et-garonne",
             "parentHash": "fa018f4f7b20706",
             "type": "state",
             "value": 4.29
            },
            "e8f96b7c46c0d54": {
             "href": "https://peps.cnes.fr/resto/api/collections/S2ST/search.json?&lang=en&q=Descending",
             "name": "Descending",
             "type": "orbitDirection"
            },
            "e966218f208fcca": {
             "href": "https://peps.cnes.fr/resto/api/collections/S2ST/search.json?&lang=en&q=Tarn",
             "name": "Tarn",
             "normalized": "tarn",
             "parentHash": "fa018f4f7b20706",
             "type": "state",
             "value": 40.4
            },
            "f3221bcc6ca49ca": {
             "href": "https://peps.cnes.fr/resto/api/collections/S2ST/search.json?&lang=en&q=Autumn",
             "name": "Autumn",
             "type": "season"
            },
            "f841767ba5c92d4": {
             "href": "https://peps.cnes.fr/resto/api/collections/S2ST/search.json?&lang=en&q=msi",
             "name": "msi",
             "parentHash": "56bf819406cae6b",
             "type": "instrument"
            },
            "fa018f4f7b20706": {
             "href": "https://peps.cnes.fr/resto/api/collections/S2ST/search.json?&lang=en&q=Midi-Pyr%C3%A9n%C3%A9es",
             "name": "Midi-Pyrénées",
             "normalized": "midi-pyrenees",
             "parentHash": "936bcbcf5c43fbd",
             "type": "region",
             "value": 92.06
            }
           },
           "license": "proprietary",
           "links": [
            {
             "href": "https://peps.cnes.fr/resto/collections/S2ST/7cb41e7e-f800-55dc-8f86-1cfa91a447ce.json?&lang=en",
             "rel": "alternate",
             "title": "GeoJSON link for 7cb41e7e-f800-55dc-8f86-1cfa91a447ce",
             "type": "application/json"
            },
            {
             "href": "https://peps.cnes.fr/resto/collections/S2ST/7cb41e7e-f800-55dc-8f86-1cfa91a447ce.atom?&lang=en",
             "rel": "alternate",
             "title": "ATOM link for 7cb41e7e-f800-55dc-8f86-1cfa91a447ce",
             "type": "application/atom+xml"
            }
           ],
           "lowProbaClouds": null,
           "mediumProbaClouds": null,
           "mgrs": "31TCJ",
           "missionStartDate": "2015-06-23T00:00:00Z",
           "modificationDate": "2018-11-29T16:07:09.316Z",
           "newVersion": null,
           "orbitDirection": "descending",
           "orbitNumber": 9043,
           "organisationName": null,
           "parentIdentifier": "urn:ogc:def:EOP:ESA::SENTINEL-2:",
           "platform": "S2ST",
           "platformSerialIdentifier": "S2B",
           "processingLevel": "LEVEL1C",
           "productType": "S2MSI1C",
           "publicationDate": "2018-11-29T16:07:09.316Z",
           "quicklook": "https://peps.cnes.fr/quicklook/2018/11/29/S2B/S2B_MSIL1C_20181129T104359_N0207_R008_T31TCJ_20181129T125151_quicklook.jpg",
           "realtime": "Nominal",
           "relativeOrbitNumber": 8,
           "resolution": null,
           "resourceChecksum": "C0752E152C88030EB23FBAEE898F0BB1",
           "resourceSize": 176982588,
           "s2TakeId": "GS2B_20181129T104359_009043_N02.07",
           "sensorMode": "INS-NOBS",
           "sensorType": "OPTICAL",
           "services": {
            "browse": {
             "layer": {
              "layers": "",
              "type": "WMS",
              "url": "https://peps.cnes.fr/cgi-bin/mapserver?map=WMS_S2ST&data=2018/11/29/S2B/S2B_MSIL1C_20181129T104359_N0207_R008_T31TCJ_20181129T125151"
             },
             "title": "Display full resolution product on map"
            },
            "download": {
             "checksum": "C0752E152C88030EB23FBAEE898F0BB1",
             "mimeType": "application/zip",
             "size": 176982588,
             "url": "https://peps.cnes.fr/resto/collections/S2ST/7cb41e7e-f800-55dc-8f86-1cfa91a447ce/download"
            }
           },
           "snowCover": null,
           "snowIce": null,
           "startTimeFromAscendingNode": "2018-11-29T10:43:59.024Z",
           "storage": {
            "mode": "disk"
           },
           "storageStatus": "ONLINE",
           "thumbnail": null,
           "title": "S2B_MSIL1C_20181129T104359_N0207_R008_T31TCJ_20181129T125151",
           "uid": "7cb41e7e-f800-55dc-8f86-1cfa91a447ce",
           "vegetation": null,
           "visible": 1,
           "water": null
          },
          "type": "Feature"
         },
         {
          "geometry": {
           "coordinates": [
            [
             [
              1.7505936532727,
              44.07379179867
             ],
             [
              1.7674745987137,
              43.25815001081
             ],
             [
              3.1202599002638,
              43.264727163899
             ],
             [
              3.1222564908653,
              44.253352160972
             ],
             [
              1.8079068326457,
              44.246846808452
             ],
             [
              1.7602402276802,
              44.102755370495
             ],
             [
              1.7505936532727,
              44.07379179867
             ]
            ]
           ],
           "type": "Polygon"
          },
          "id": "S2B_MSIL1C_20181129T104359_N0207_R008_T31TDJ_20181129T125151",
          "properties": {
           "abstract": null,
           "bands": [
            {
             "center_wavelength": 0.4439,
             "common_name": "coastal",
             "full_width_half_max": 0.027,
             "gsd": 60,
             "name": "B01"
            },
            {
             "center_wavelength": 0.4966,
             "common_name": "blue",
             "full_width_half_max": 0.098,
             "gsd": 10,
             "name": "B02"
            },
            {
             "center_wavelength": 0.56,
             "common_name": "green",
             "full_width_half_max": 0.045,
             "gsd": 10,
             "name": "B03"
            },
            {
             "center_wavelength": 0.6645,
             "common_name": "red",
             "full_width_half_max": 0.038,
             "gsd": 10,
             "name": "B04"
            },
            {
             "center_wavelength": 0.7039,
             "full_width_half_max": 0.019,
             "gsd": 20,
             "name": "B05"
            },
            {
             "center_wavelength": 0.7402,
             "full_width_half_max": 0.018,
             "gsd": 20,
             "name": "B06"
            },
            {
             "center_wavelength": 0.7825,
             "full_width_half_max": 0.028,
             "gsd": 20,
             "name": "B07"
            },
            {
             "center_wavelength": 0.8351,
             "common_name": "nir",
             "full_width_half_max": 0.145,
             "gsd": 10,
             "name": "B08"
            },
            {
             "center_wavelength": 0.8648,
             "full_width_half_max": 0.033,
             "gsd": 20,
             "name": "B8A"
            },
            {
             "center_wavelength": 0.945,
             "full_width_half_max": 0.026,
             "gsd": 60,
             "name": "B09"
            },
            {
             "center_wavelength": 0.13735,
             "common_name": "cirrus",
             "full_width_half_max": 0.075,
             "gsd": 60,
             "name": "B10"
            },
            {
             "center_wavelength": 0.16137,
             "common_name": "swir16",
             "full_width_half_max": 0.075,
             "gsd": 20,
             "name": "B11"
            },
            {
             "center_wavelength": 0.22024,
             "common_name": "swir22",
             "full_width_half_max": 0.242,
             "gsd": 20,
             "name": "B12"
            }
           ],
           "bareSoil": null,
           "cloudCover": 25.5628,
           "completionTimeFromAscendingNode": "2018-11-29T10:43:59.024Z",
           "creationDate": "2018-11-29T16:17:59.309Z",
           "downloadLink": "https://peps.cnes.fr/resto/collections/S2ST/ba7c5bf3-cc13-565a-b10a-b32c7a7d495b/download",
           "eodag_product_type": "S2_MSI_L1C",
           "eodag_provider": "peps",
           "eodag_search_intersection": {
            "coordinates": [
             [
              [
               2,
               43.259280534005065
              ],
              [
               1.7674745987137,
               43.25815001081
              ],
              [
               1.7505936532727,
               44.07379179867
              ],
              [
               1.7602402276802,
               44.102755370495
              ],
              [
               1.8079068326457,
               44.246846808452
              ],
              [
               2,
               44.247797570498086
              ],
              [
               2,
               43.259280534005065
              ]
             ]
            ],
            "type": "Polygon"
           },
           "highProbaClouds": null,
           "instrument": "MSI",
           "isNrt": 0,
           "keyword": {
            "429f9571d35a7f4": {
             "href": "https://peps.cnes.fr/resto/api/collections/S2ST/search.json?&lang=en&q=2018",
             "name": "2018",
             "type": "year"
            },
            "44b15c0a6e62129": {
             "href": "https://peps.cnes.fr/resto/api/collections/S2ST/search.json?&lang=en&q=LEVEL1C",
             "name": "LEVEL1C",
             "type": "processingLevel"
            },
            "45038f3c2322ea3": {
             "href": "https://peps.cnes.fr/resto/api/collections/S2ST/search.json?&lang=en&q=S2ST",
             "name": "S2ST",
             "type": "collection"
            },
            "455ae3d75f982e8": {
             "href": "https://peps.cnes.fr/resto/api/collections/S2ST/search.json?&lang=en&q=Languedoc-Roussillon",
             "name": "Languedoc-Roussillon",
             "normalized": "languedoc-roussillon",
             "parentHash": "936bcbcf5c43fbd",
             "type": "region",
             "value": 24.72
            },
            "4562ae7650b1934": {
             "href": "https://peps.cnes.fr/resto/api/collections/S2ST/search.json?&lang=en&q=H%C3%A9rault",
             "name": "Hérault",
             "normalized": "herault",
             "parentHash": "455ae3d75f982e8",
             "type": "state",
             "value": 14.18
            },
            "56bf819406cae6b": {
             "href": "https://peps.cnes.fr/resto/api/collections/S2ST/search.json?&lang=en&q=s2B",
             "name": "s2B",
             "type": "platform"
            },
            "6219554ecf5905c": {
             "href": "https://peps.cnes.fr/resto/api/collections/S2ST/search.json?&lang=en&q=S2MSI1C",
             "name": "S2MSI1C",
             "type": "productType"
            },
            "638f34fab02f39d": {
             "href": "https://peps.cnes.fr/resto/api/collections/S2ST/search.json?&lang=en&q=Haute-Garonne",
             "name": "Haute-Garonne",
             "normalized": "haute-garonne",
             "parentHash": "fa018f4f7b20706",
             "type": "state",
             "value": 2.69
            },
            "70db2751c3c6c3d": {
             "href": "https://peps.cnes.fr/resto/api/collections/S2ST/search.json?&lang=en&q=Aude",
             "name": "Aude",
             "normalized": "aude",
             "parentHash": "455ae3d75f982e8",
             "type": "state",
             "value": 10.67
            },
            "77ddbc33a771bb6": {
             "href": "https://peps.cnes.fr/resto/api/collections/S2ST/search.json?&lang=en&q=29",
             "name": "29",
             "parentHash": "a5a24c795b91dd3",
             "type": "day"
            },
            "936bcbcf5c43fbd": {
             "href": "https://peps.cnes.fr/resto/api/collections/S2ST/search.json?&lang=en&q=France",
             "name": "France",
             "normalized": "france",
             "parentHash": "bce097de57d1ab7",
             "type": "country",
             "value": 100
            },
            "a0e4a10aa754ab4": {
             "href": "https://peps.cnes.fr/resto/api/collections/S2ST/search.json?&lang=en&q=Northern",
             "name": "Northern",
             "type": "location"
            },
            "a507bd46cbf5398": {
             "href": "https://peps.cnes.fr/resto/api/collections/S2ST/search.json?&lang=en&q=Aveyron",
             "name": "Aveyron",
             "normalized": "aveyron",
             "parentHash": "fa018f4f7b20706",
             "type": "state",
             "value": 27.05
            },
            "a5a24c795b91dd3": {
             "href": "https://peps.cnes.fr/resto/api/collections/S2ST/search.json?&lang=en&q=November",
             "name": "November",
             "parentHash": "429f9571d35a7f4",
             "type": "month"
            },
            "aca78422271631a": {
             "href": "https://peps.cnes.fr/resto/api/collections/S2ST/search.json?&lang=en&q=INS-NOBS",
             "name": "INS-NOBS",
             "parentHash": "f841767ba5c92d4",
             "type": "sensorMode"
            },
            "adbd1cc9d2fe94b": {
             "href": "https://peps.cnes.fr/resto/api/collections/S2ST/search.json?&lang=en&q=Nominal",
             "name": "Nominal",
             "parentHash": "c0706bb19e22342",
             "type": "realtime"
            },
            "bce097de57d1ab7": {
             "href": "https://peps.cnes.fr/resto/api/collections/S2ST/search.json?&lang=en&q=Europe",
             "name": "Europe",
             "normalized": "europe",
             "type": "continent"
            },
            "c0706bb19e22342": {
             "href": "https://peps.cnes.fr/resto/api/collections/S2ST/search.json?&lang=en&q=0",
             "name": "0",
             "type": "isNrt"
            },
            "c6319beaa1b6cdd": {
             "href": "https://peps.cnes.fr/resto/api/collections/S2ST/search.json?&lang=en&q=Tarn-et-Garonne",
             "name": "Tarn-et-Garonne",
             "normalized": "tarn-et-garonne",
             "parentHash": "fa018f4f7b20706",
             "type": "state",
             "value": 1.17
            },
            "e8f96b7c46c0d54": {
             "href": "https://peps.cnes.fr/resto/api/collections/S2ST/search.json?&lang=en&q=Descending",
             "name": "Descending",
             "type": "orbitDirection"
            },
            "e966218f208fcca": {
             "href": "https://peps.cnes.fr/resto/api/collections/S2ST/search.json?&lang=en&q=Tarn",
             "name": "Tarn",
             "normalized": "tarn",
             "parentHash": "fa018f4f7b20706",
             "type": "state",
             "value": 44.27
            },
            "f3221bcc6ca49ca": {
             "href": "https://peps.cnes.fr/resto/api/collections/S2ST/search.json?&lang=en&q=Autumn",
             "name": "Autumn",
             "type": "season"
            },
            "f841767ba5c92d4": {
             "href": "https://peps.cnes.fr/resto/api/collections/S2ST/search.json?&lang=en&q=msi",
             "name": "msi",
             "parentHash": "56bf819406cae6b",
             "type": "instrument"
            },
            "fa018f4f7b20706": {
             "href": "https://peps.cnes.fr/resto/api/collections/S2ST/search.json?&lang=en&q=Midi-Pyr%C3%A9n%C3%A9es",
             "name": "Midi-Pyrénées",
             "normalized": "midi-pyrenees",
             "parentHash": "936bcbcf5c43fbd",
             "type": "region",
             "value": 75.29
            }
           },
           "license": "proprietary",
           "links": [
            {
             "href": "https://peps.cnes.fr/resto/collections/S2ST/ba7c5bf3-cc13-565a-b10a-b32c7a7d495b.json?&lang=en",
             "rel": "alternate",
             "title": "GeoJSON link for ba7c5bf3-cc13-565a-b10a-b32c7a7d495b",
             "type": "application/json"
            },
            {
             "href": "https://peps.cnes.fr/resto/collections/S2ST/ba7c5bf3-cc13-565a-b10a-b32c7a7d495b.atom?&lang=en",
             "rel": "alternate",
             "title": "ATOM link for ba7c5bf3-cc13-565a-b10a-b32c7a7d495b",
             "type": "application/atom+xml"
            }
           ],
           "lowProbaClouds": null,
           "mediumProbaClouds": null,
           "mgrs": "31TDJ",
           "missionStartDate": "2015-06-23T00:00:00Z",
           "modificationDate": "2018-11-29T16:30:56.058Z",
           "newVersion": null,
           "orbitDirection": "descending",
           "orbitNumber": 9043,
           "organisationName": null,
           "parentIdentifier": "urn:ogc:def:EOP:ESA::SENTINEL-2:",
           "platform": "S2ST",
           "platformSerialIdentifier": "S2B",
           "processingLevel": "LEVEL1C",
           "productType": "S2MSI1C",
           "publicationDate": "2018-11-29T16:30:56.058Z",
           "quicklook": "https://peps.cnes.fr/quicklook/2018/11/29/S2B/S2B_MSIL1C_20181129T104359_N0207_R008_T31TDJ_20181129T125151_quicklook.jpg",
           "realtime": "Nominal",
           "relativeOrbitNumber": 8,
           "resolution": null,
           "resourceChecksum": "771D3CAE91B443F13F3AA9C690BE4B72",
           "resourceSize": 856318584,
           "s2TakeId": "GS2B_20181129T104359_009043_N02.07",
           "sensorMode": "INS-NOBS",
           "sensorType": "OPTICAL",
           "services": {
            "browse": {
             "layer": {
              "layers": "",
              "type": "WMS",
              "url": "https://peps.cnes.fr/cgi-bin/mapserver?map=WMS_S2ST&data=2018/11/29/S2B/S2B_MSIL1C_20181129T104359_N0207_R008_T31TDJ_20181129T125151"
             },
             "title": "Display full resolution product on map"
            },
            "download": {
             "checksum": "771D3CAE91B443F13F3AA9C690BE4B72",
             "mimeType": "application/zip",
             "size": 856318584,
             "url": "https://peps.cnes.fr/resto/collections/S2ST/ba7c5bf3-cc13-565a-b10a-b32c7a7d495b/download"
            }
           },
           "snowCover": null,
           "snowIce": null,
           "startTimeFromAscendingNode": "2018-11-29T10:43:59.024Z",
           "storage": {
            "mode": "disk"
           },
           "storageStatus": "ONLINE",
           "thumbnail": null,
           "title": "S2B_MSIL1C_20181129T104359_N0207_R008_T31TDJ_20181129T125151",
           "uid": "ba7c5bf3-cc13-565a-b10a-b32c7a7d495b",
           "vegetation": null,
           "visible": 1,
           "water": null
          },
          "type": "Feature"
         },
         {
          "geometry": {
           "coordinates": [
            [
             [
              1.1943539733972,
              42.347923104083
             ],
             [
              1.904690752833,
              42.358839917707
             ],
             [
              1.8870778350223,
              43.347440388825
             ],
             [
              1.5091568240876,
              43.341524209451
             ],
             [
              1.4702920630918,
              43.221486739931
             ],
             [
              1.4230027156967,
              43.074507523722
             ],
             [
              1.3777790832892,
              42.927021484356
             ],
             [
              1.3302249605639,
              42.780256686164
             ],
             [
              1.2865920739451,
              42.632389351671
             ],
             [
              1.2383776046101,
              42.485898286615
             ],
             [
              1.1943539733972,
              42.347923104083
             ]
            ]
           ],
           "type": "Polygon"
          },
          "id": "S2B_MSIL1C_20181129T104359_N0207_R008_T31TCH_20181129T125151",
          "properties": {
           "abstract": null,
           "bands": [
            {
             "center_wavelength": 0.4439,
             "common_name": "coastal",
             "full_width_half_max": 0.027,
             "gsd": 60,
             "name": "B01"
            },
            {
             "center_wavelength": 0.4966,
             "common_name": "blue",
             "full_width_half_max": 0.098,
             "gsd": 10,
             "name": "B02"
            },
            {
             "center_wavelength": 0.56,
             "common_name": "green",
             "full_width_half_max": 0.045,
             "gsd": 10,
             "name": "B03"
            },
            {
             "center_wavelength": 0.6645,
             "common_name": "red",
             "full_width_half_max": 0.038,
             "gsd": 10,
             "name": "B04"
            },
            {
             "center_wavelength": 0.7039,
             "full_width_half_max": 0.019,
             "gsd": 20,
             "name": "B05"
            },
            {
             "center_wavelength": 0.7402,
             "full_width_half_max": 0.018,
             "gsd": 20,
             "name": "B06"
            },
            {
             "center_wavelength": 0.7825,
             "full_width_half_max": 0.028,
             "gsd": 20,
             "name": "B07"
            },
            {
             "center_wavelength": 0.8351,
             "common_name": "nir",
             "full_width_half_max": 0.145,
             "gsd": 10,
             "name": "B08"
            },
            {
             "center_wavelength": 0.8648,
             "full_width_half_max": 0.033,
             "gsd": 20,
             "name": "B8A"
            },
            {
             "center_wavelength": 0.945,
             "full_width_half_max": 0.026,
             "gsd": 60,
             "name": "B09"
            },
            {
             "center_wavelength": 0.13735,
             "common_name": "cirrus",
             "full_width_half_max": 0.075,
             "gsd": 60,
             "name": "B10"
            },
            {
             "center_wavelength": 0.16137,
             "common_name": "swir16",
             "full_width_half_max": 0.075,
             "gsd": 20,
             "name": "B11"
            },
            {
             "center_wavelength": 0.22024,
             "common_name": "swir22",
             "full_width_half_max": 0.242,
             "gsd": 20,
             "name": "B12"
            }
           ],
           "bareSoil": null,
           "cloudCover": 43.4026,
           "completionTimeFromAscendingNode": "2018-11-29T10:43:59.024Z",
           "creationDate": "2018-11-29T16:18:27.166Z",
           "downloadLink": "https://peps.cnes.fr/resto/collections/S2ST/e483b1c0-2188-5533-a9e7-db0d70fd42b3/download",
           "eodag_product_type": "S2_MSI_L1C",
           "eodag_provider": "peps",
           "eodag_search_intersection": {
            "coordinates": [
             [
              [
               1.4001564796808628,
               43
              ],
              [
               1.4230027156967,
               43.074507523722
              ],
              [
               1.4702920630918,
               43.221486739931
              ],
              [
               1.5091568240876,
               43.341524209451
              ],
              [
               1.8870778350223,
               43.347440388825
              ],
              [
               1.893267837142744,
               43
              ],
              [
               1.4001564796808628,
               43
              ]
             ]
            ],
            "type": "Polygon"
           },
           "highProbaClouds": null,
           "instrument": "MSI",
           "isNrt": 0,
           "keyword": {
            "3655904d8935c83": {
             "href": "https://peps.cnes.fr/resto/api/collections/S2ST/search.json?&lang=en&q=Pyr%C3%A9n%C3%A9es-Orientales",
             "name": "Pyrénées-Orientales",
             "normalized": "pyrenees-orientales",
             "parentHash": "455ae3d75f982e8",
             "type": "state",
             "value": 3.52
            },
            "429f9571d35a7f4": {
             "href": "https://peps.cnes.fr/resto/api/collections/S2ST/search.json?&lang=en&q=2018",
             "name": "2018",
             "type": "year"
            },
            "44b15c0a6e62129": {
             "href": "https://peps.cnes.fr/resto/api/collections/S2ST/search.json?&lang=en&q=LEVEL1C",
             "name": "LEVEL1C",
             "type": "processingLevel"
            },
            "45038f3c2322ea3": {
             "href": "https://peps.cnes.fr/resto/api/collections/S2ST/search.json?&lang=en&q=S2ST",
             "name": "S2ST",
             "type": "collection"
            },
            "45116aa2b037808": {
             "href": "https://peps.cnes.fr/resto/api/collections/S2ST/search.json?&lang=en&q=%22Sant%20Juli%C3%A0%20de%20L%C3%B2ria%22",
             "name": "Sant Julià de Lòria",
             "normalized": "sant-julia-de-loria",
             "parentHash": "a349829430acb13",
             "type": "state",
             "value": 1.57
            },
            "455ae3d75f982e8": {
             "href": "https://peps.cnes.fr/resto/api/collections/S2ST/search.json?&lang=en&q=Languedoc-Roussillon",
             "name": "Languedoc-Roussillon",
             "normalized": "languedoc-roussillon",
             "parentHash": "936bcbcf5c43fbd",
             "type": "region",
             "value": 9.63
            },
            "46be63b66d40300": {
             "href": "https://peps.cnes.fr/resto/api/collections/S2ST/search.json?&lang=en&q=%22La%20Massana%22",
             "name": "La Massana",
             "normalized": "la-massana",
             "parentHash": "a349829430acb13",
             "type": "state",
             "value": 1.48
            },
            "56bf819406cae6b": {
             "href": "https://peps.cnes.fr/resto/api/collections/S2ST/search.json?&lang=en&q=s2B",
             "name": "s2B",
             "type": "platform"
            },
            "6219554ecf5905c": {
             "href": "https://peps.cnes.fr/resto/api/collections/S2ST/search.json?&lang=en&q=S2MSI1C",
             "name": "S2MSI1C",
             "type": "productType"
            },
            "638f34fab02f39d": {
             "href": "https://peps.cnes.fr/resto/api/collections/S2ST/search.json?&lang=en&q=Haute-Garonne",
             "name": "Haute-Garonne",
             "normalized": "haute-garonne",
             "parentHash": "fa018f4f7b20706",
             "type": "state",
             "value": 3.38
            },
            "70db2751c3c6c3d": {
             "href": "https://peps.cnes.fr/resto/api/collections/S2ST/search.json?&lang=en&q=Aude",
             "name": "Aude",
             "normalized": "aude",
             "parentHash": "455ae3d75f982e8",
             "type": "state",
             "value": 6.39
            },
            "77ddbc33a771bb6": {
             "href": "https://peps.cnes.fr/resto/api/collections/S2ST/search.json?&lang=en&q=29",
             "name": "29",
             "parentHash": "a5a24c795b91dd3",
             "type": "day"
            },
            "897e7ca8057fcd4": {
             "href": "https://peps.cnes.fr/resto/api/collections/S2ST/search.json?&lang=en&q=Ordino",
             "name": "Ordino",
             "normalized": "ordino",
             "parentHash": "a349829430acb13",
             "type": "state",
             "value": 1.56
            },
            "936bcbcf5c43fbd": {
             "href": "https://peps.cnes.fr/resto/api/collections/S2ST/search.json?&lang=en&q=France",
             "name": "France",
             "normalized": "france",
             "parentHash": "bce097de57d1ab7",
             "type": "country",
             "value": 70.44
            },
            "9e8d9cf11d4f170": {
             "href": "https://peps.cnes.fr/resto/api/collections/S2ST/search.json?&lang=en&q=Gerona",
             "name": "Gerona",
             "normalized": "gerona",
             "parentHash": "a5eef88d9f8ffa2",
             "type": "state",
             "value": 2.56
            },
            "a0e4a10aa754ab4": {
             "href": "https://peps.cnes.fr/resto/api/collections/S2ST/search.json?&lang=en&q=Northern",
             "name": "Northern",
             "type": "location"
            },
            "a349829430acb13": {
             "href": "https://peps.cnes.fr/resto/api/collections/S2ST/search.json?&lang=en&q=_all",
             "name": "_all",
             "normalized": "_all",
             "parentHash": "a5120c86778181f",
             "type": "region"
            },
            "a5120c86778181f": {
             "href": "https://peps.cnes.fr/resto/api/collections/S2ST/search.json?&lang=en&q=Andorra",
             "name": "Andorra",
             "normalized": "andorra",
             "parentHash": "bce097de57d1ab7",
             "type": "country",
             "value": 9.24
            },
            "a5a24c795b91dd3": {
             "href": "https://peps.cnes.fr/resto/api/collections/S2ST/search.json?&lang=en&q=November",
             "name": "November",
             "parentHash": "429f9571d35a7f4",
             "type": "month"
            },
            "a5eef88d9f8ffa2": {
             "href": "https://peps.cnes.fr/resto/api/collections/S2ST/search.json?&lang=en&q=Catalu%C3%B1a",
             "name": "Cataluña",
             "normalized": "cataluna",
             "parentHash": "e95d1eb633b4dd1",
             "type": "region",
             "value": 20.43
            },
            "aca78422271631a": {
             "href": "https://peps.cnes.fr/resto/api/collections/S2ST/search.json?&lang=en&q=INS-NOBS",
             "name": "INS-NOBS",
             "parentHash": "f841767ba5c92d4",
             "type": "sensorMode"
            },
            "adbd1cc9d2fe94b": {
             "href": "https://peps.cnes.fr/resto/api/collections/S2ST/search.json?&lang=en&q=Nominal",
             "name": "Nominal",
             "parentHash": "c0706bb19e22342",
             "type": "realtime"
            },
            "b9f5eec8dcb2cb5": {
             "href": "https://peps.cnes.fr/resto/api/collections/S2ST/search.json?&lang=en&q=Ari%C3%A8ge",
             "name": "Ariège",
             "normalized": "ariege",
             "parentHash": "fa018f4f7b20706",
             "type": "state",
             "value": 57.12
            },
            "bce097de57d1ab7": {
             "href": "https://peps.cnes.fr/resto/api/collections/S2ST/search.json?&lang=en&q=Europe",
             "name": "Europe",
             "normalized": "europe",
             "type": "continent"
            },
            "c0706bb19e22342": {
             "href": "https://peps.cnes.fr/resto/api/collections/S2ST/search.json?&lang=en&q=0",
             "name": "0",
             "type": "isNrt"
            },
            "ca66c16a1ec7b1b": {
             "href": "https://peps.cnes.fr/resto/api/collections/S2ST/search.json?&lang=en&q=Escaldes-Engordany",
             "name": "Escaldes-Engordany",
             "normalized": "escaldes-engordany",
             "parentHash": "a349829430acb13",
             "type": "state",
             "value": 1.35
            },
            "d88039c4e772157": {
             "href": "https://peps.cnes.fr/resto/api/collections/S2ST/search.json?&lang=en&q=Canillo",
             "name": "Canillo",
             "normalized": "canillo",
             "parentHash": "a349829430acb13",
             "type": "state",
             "value": 1.51
            },
            "da8f2bebc0fe455": {
             "href": "https://peps.cnes.fr/resto/api/collections/S2ST/search.json?&lang=en&q=L%C3%A9rida",
             "name": "Lérida",
             "normalized": "lerida",
             "parentHash": "a5eef88d9f8ffa2",
             "type": "state",
             "value": 17.75
            },
            "e34aa3856477b00": {
             "href": "https://peps.cnes.fr/resto/api/collections/S2ST/search.json?&lang=en&q=%22Andorra%20la%20Vella%22",
             "name": "Andorra la Vella",
             "normalized": "andorra-la-vella",
             "parentHash": "a349829430acb13",
             "type": "state",
             "value": 0.29
            },
            "e80a5167d45e930": {
             "href": "https://peps.cnes.fr/resto/api/collections/S2ST/search.json?&lang=en&q=Encamp",
             "name": "Encamp",
             "normalized": "encamp",
             "parentHash": "a349829430acb13",
             "type": "state",
             "value": 1.46
            },
            "e8f96b7c46c0d54": {
             "href": "https://peps.cnes.fr/resto/api/collections/S2ST/search.json?&lang=en&q=Descending",
             "name": "Descending",
             "type": "orbitDirection"
            },
            "e95d1eb633b4dd1": {
             "href": "https://peps.cnes.fr/resto/api/collections/S2ST/search.json?&lang=en&q=Spain",
             "name": "Spain",
             "normalized": "spain",
             "parentHash": "bce097de57d1ab7",
             "type": "country",
             "value": 20.3
            },
            "f3221bcc6ca49ca": {
             "href": "https://peps.cnes.fr/resto/api/collections/S2ST/search.json?&lang=en&q=Autumn",
             "name": "Autumn",
             "type": "season"
            },
            "f841767ba5c92d4": {
             "href": "https://peps.cnes.fr/resto/api/collections/S2ST/search.json?&lang=en&q=msi",
             "name": "msi",
             "parentHash": "56bf819406cae6b",
             "type": "instrument"
            },
            "fa018f4f7b20706": {
             "href": "https://peps.cnes.fr/resto/api/collections/S2ST/search.json?&lang=en&q=Midi-Pyr%C3%A9n%C3%A9es",
             "name": "Midi-Pyrénées",
             "normalized": "midi-pyrenees",
             "parentHash": "936bcbcf5c43fbd",
             "type": "region",
             "value": 60.59
            }
           },
           "license": "proprietary",
           "links": [
            {
             "href": "https://peps.cnes.fr/resto/collections/S2ST/e483b1c0-2188-5533-a9e7-db0d70fd42b3.json?&lang=en",
             "rel": "alternate",
             "title": "GeoJSON link for e483b1c0-2188-5533-a9e7-db0d70fd42b3",
             "type": "application/json"
            },
            {
             "href": "https://peps.cnes.fr/resto/collections/S2ST/e483b1c0-2188-5533-a9e7-db0d70fd42b3.atom?&lang=en",
             "rel": "alternate",
             "title": "ATOM link for e483b1c0-2188-5533-a9e7-db0d70fd42b3",
             "type": "application/atom+xml"
            }
           ],
           "lowProbaClouds": null,
           "mediumProbaClouds": null,
           "mgrs": "31TCH",
           "missionStartDate": "2015-06-23T00:00:00Z",
           "modificationDate": "2018-11-29T16:26:25.799Z",
           "newVersion": null,
           "orbitDirection": "descending",
           "orbitNumber": 9043,
           "organisationName": null,
           "parentIdentifier": "urn:ogc:def:EOP:ESA::SENTINEL-2:",
           "platform": "S2ST",
           "platformSerialIdentifier": "S2B",
           "processingLevel": "LEVEL1C",
           "productType": "S2MSI1C",
           "publicationDate": "2018-11-29T16:26:25.799Z",
           "quicklook": "https://peps.cnes.fr/quicklook/2018/11/29/S2B/S2B_MSIL1C_20181129T104359_N0207_R008_T31TCH_20181129T125151_quicklook.jpg",
           "realtime": "Nominal",
           "relativeOrbitNumber": 8,
           "resolution": null,
           "resourceChecksum": "55B9B4B222BA0A4CAAC22CB720046475",
           "resourceSize": 384386687,
           "s2TakeId": "GS2B_20181129T104359_009043_N02.07",
           "sensorMode": "INS-NOBS",
           "sensorType": "OPTICAL",
           "services": {
            "browse": {
             "layer": {
              "layers": "",
              "type": "WMS",
              "url": "https://peps.cnes.fr/cgi-bin/mapserver?map=WMS_S2ST&data=2018/11/29/S2B/S2B_MSIL1C_20181129T104359_N0207_R008_T31TCH_20181129T125151"
             },
             "title": "Display full resolution product on map"
            },
            "download": {
             "checksum": "55B9B4B222BA0A4CAAC22CB720046475",
             "mimeType": "application/zip",
             "size": 384386687,
             "url": "https://peps.cnes.fr/resto/collections/S2ST/e483b1c0-2188-5533-a9e7-db0d70fd42b3/download"
            }
           },
           "snowCover": null,
           "snowIce": null,
           "startTimeFromAscendingNode": "2018-11-29T10:43:59.024Z",
           "storage": {
            "mode": "disk"
           },
           "storageStatus": "ONLINE",
           "thumbnail": null,
           "title": "S2B_MSIL1C_20181129T104359_N0207_R008_T31TCH_20181129T125151",
           "uid": "e483b1c0-2188-5533-a9e7-db0d70fd42b3",
           "vegetation": null,
           "visible": 1,
           "water": null
          },
          "type": "Feature"
         },
         {
          "geometry": {
           "coordinates": [
            [
             [
              1.7787348643894,
              44.158662830232
             ],
             [
              3.1220744909361,
              44.165301274897
             ],
             [
              3.1241663971878,
              45.153769755991
             ],
             [
              2.1110884779847,
              45.148676087377
             ],
             [
              2.1045909795685,
              45.129542367092
             ],
             [
              2.0547279967653,
              44.982831671484
             ],
             [
              2.0051315177485,
              44.836149172932
             ],
             [
              1.9553270389825,
              44.689615774444
             ],
             [
              1.9062218650341,
              44.542890263262
             ],
             [
              1.8574503381895,
              44.396159595523
             ],
             [
              1.8087734601138,
              44.249466537676
             ],
             [
              1.7787348643894,
              44.158662830232
             ]
            ]
           ],
           "type": "Polygon"
          },
          "id": "S2B_MSIL1C_20181129T104359_N0207_R008_T31TDK_20181129T125151",
          "properties": {
           "abstract": null,
           "bands": [
            {
             "center_wavelength": 0.4439,
             "common_name": "coastal",
             "full_width_half_max": 0.027,
             "gsd": 60,
             "name": "B01"
            },
            {
             "center_wavelength": 0.4966,
             "common_name": "blue",
             "full_width_half_max": 0.098,
             "gsd": 10,
             "name": "B02"
            },
            {
             "center_wavelength": 0.56,
             "common_name": "green",
             "full_width_half_max": 0.045,
             "gsd": 10,
             "name": "B03"
            },
            {
             "center_wavelength": 0.6645,
             "common_name": "red",
             "full_width_half_max": 0.038,
             "gsd": 10,
             "name": "B04"
            },
            {
             "center_wavelength": 0.7039,
             "full_width_half_max": 0.019,
             "gsd": 20,
             "name": "B05"
            },
            {
             "center_wavelength": 0.7402,
             "full_width_half_max": 0.018,
             "gsd": 20,
             "name": "B06"
            },
            {
             "center_wavelength": 0.7825,
             "full_width_half_max": 0.028,
             "gsd": 20,
             "name": "B07"
            },
            {
             "center_wavelength": 0.8351,
             "common_name": "nir",
             "full_width_half_max": 0.145,
             "gsd": 10,
             "name": "B08"
            },
            {
             "center_wavelength": 0.8648,
             "full_width_half_max": 0.033,
             "gsd": 20,
             "name": "B8A"
            },
            {
             "center_wavelength": 0.945,
             "full_width_half_max": 0.026,
             "gsd": 60,
             "name": "B09"
            },
            {
             "center_wavelength": 0.13735,
             "common_name": "cirrus",
             "full_width_half_max": 0.075,
             "gsd": 60,
             "name": "B10"
            },
            {
             "center_wavelength": 0.16137,
             "common_name": "swir16",
             "full_width_half_max": 0.075,
             "gsd": 20,
             "name": "B11"
            },
            {
             "center_wavelength": 0.22024,
             "common_name": "swir22",
             "full_width_half_max": 0.242,
             "gsd": 20,
             "name": "B12"
            }
           ],
           "bareSoil": null,
           "cloudCover": 19.0849,
           "completionTimeFromAscendingNode": "2018-11-29T10:43:59.024Z",
           "creationDate": "2018-11-29T16:18:07.351Z",
           "downloadLink": "https://peps.cnes.fr/resto/collections/S2ST/f098b2ee-3318-5323-bc6b-2552e67ce6b9/download",
           "eodag_product_type": "S2_MSI_L1C",
           "eodag_provider": "peps",
           "eodag_search_intersection": {
            "coordinates": [
             [
              [
               2,
               44.15975626656784
              ],
              [
               1.7787348643894,
               44.158662830232
              ],
              [
               1.8087734601138,
               44.249466537676
              ],
              [
               1.8574503381895,
               44.396159595523
              ],
              [
               1.9062218650341,
               44.542890263262
              ],
              [
               1.9553270389825,
               44.689615774444
              ],
              [
               2,
               44.82105135936744
              ],
              [
               2,
               44.15975626656784
              ]
             ]
            ],
            "type": "Polygon"
           },
           "highProbaClouds": null,
           "instrument": "MSI",
           "isNrt": 0,
           "keyword": {
            "2b6fe1d663541d5": {
             "href": "https://peps.cnes.fr/resto/api/collections/S2ST/search.json?&lang=en&q=Corr%C3%A8ze",
             "name": "Corrèze",
             "normalized": "correze",
             "parentHash": "595a2a0433fc5be",
             "type": "state",
             "value": 0.89
            },
            "36b380ec75fcb73": {
             "href": "https://peps.cnes.fr/resto/api/collections/S2ST/search.json?&lang=en&q=Cantal",
             "name": "Cantal",
             "normalized": "cantal",
             "parentHash": "c958f1cb7878712",
             "type": "state",
             "value": 33.87
            },
            "429f9571d35a7f4": {
             "href": "https://peps.cnes.fr/resto/api/collections/S2ST/search.json?&lang=en&q=2018",
             "name": "2018",
             "type": "year"
            },
            "44b15c0a6e62129": {
             "href": "https://peps.cnes.fr/resto/api/collections/S2ST/search.json?&lang=en&q=LEVEL1C",
             "name": "LEVEL1C",
             "type": "processingLevel"
            },
            "45038f3c2322ea3": {
             "href": "https://peps.cnes.fr/resto/api/collections/S2ST/search.json?&lang=en&q=S2ST",
             "name": "S2ST",
             "type": "collection"
            },
            "455ae3d75f982e8": {
             "href": "https://peps.cnes.fr/resto/api/collections/S2ST/search.json?&lang=en&q=Languedoc-Roussillon",
             "name": "Languedoc-Roussillon",
             "normalized": "languedoc-roussillon",
             "parentHash": "936bcbcf5c43fbd",
             "type": "region",
             "value": 2.67
            },
            "56bf819406cae6b": {
             "href": "https://peps.cnes.fr/resto/api/collections/S2ST/search.json?&lang=en&q=s2B",
             "name": "s2B",
             "type": "platform"
            },
            "595a2a0433fc5be": {
             "href": "https://peps.cnes.fr/resto/api/collections/S2ST/search.json?&lang=en&q=Limousin",
             "name": "Limousin",
             "normalized": "limousin",
             "parentHash": "936bcbcf5c43fbd",
             "type": "region",
             "value": 0.87
            },
            "6219554ecf5905c": {
             "href": "https://peps.cnes.fr/resto/api/collections/S2ST/search.json?&lang=en&q=S2MSI1C",
             "name": "S2MSI1C",
             "type": "productType"
            },
            "77ddbc33a771bb6": {
             "href": "https://peps.cnes.fr/resto/api/collections/S2ST/search.json?&lang=en&q=29",
             "name": "29",
             "parentHash": "a5a24c795b91dd3",
             "type": "day"
            },
            "936bcbcf5c43fbd": {
             "href": "https://peps.cnes.fr/resto/api/collections/S2ST/search.json?&lang=en&q=France",
             "name": "France",
             "normalized": "france",
             "parentHash": "bce097de57d1ab7",
             "type": "country",
             "value": 100
            },
            "a0e4a10aa754ab4": {
             "href": "https://peps.cnes.fr/resto/api/collections/S2ST/search.json?&lang=en&q=Northern",
             "name": "Northern",
             "type": "location"
            },
            "a507bd46cbf5398": {
             "href": "https://peps.cnes.fr/resto/api/collections/S2ST/search.json?&lang=en&q=Aveyron",
             "name": "Aveyron",
             "normalized": "aveyron",
             "parentHash": "fa018f4f7b20706",
             "type": "state",
             "value": 54.93
            },
            "a5a24c795b91dd3": {
             "href": "https://peps.cnes.fr/resto/api/collections/S2ST/search.json?&lang=en&q=November",
             "name": "November",
             "parentHash": "429f9571d35a7f4",
             "type": "month"
            },
            "aca78422271631a": {
             "href": "https://peps.cnes.fr/resto/api/collections/S2ST/search.json?&lang=en&q=INS-NOBS",
             "name": "INS-NOBS",
             "parentHash": "f841767ba5c92d4",
             "type": "sensorMode"
            },
            "adbd1cc9d2fe94b": {
             "href": "https://peps.cnes.fr/resto/api/collections/S2ST/search.json?&lang=en&q=Nominal",
             "name": "Nominal",
             "parentHash": "c0706bb19e22342",
             "type": "realtime"
            },
            "bce097de57d1ab7": {
             "href": "https://peps.cnes.fr/resto/api/collections/S2ST/search.json?&lang=en&q=Europe",
             "name": "Europe",
             "normalized": "europe",
             "type": "continent"
            },
            "bdd4a95707b0459": {
             "href": "https://peps.cnes.fr/resto/api/collections/S2ST/search.json?&lang=en&q=Lot",
             "name": "Lot",
             "normalized": "lot",
             "parentHash": "fa018f4f7b20706",
             "type": "state",
             "value": 5.59
            },
            "c0706bb19e22342": {
             "href": "https://peps.cnes.fr/resto/api/collections/S2ST/search.json?&lang=en&q=0",
             "name": "0",
             "type": "isNrt"
            },
            "c34df802ddfe137": {
             "href": "https://peps.cnes.fr/resto/api/collections/S2ST/search.json?&lang=en&q=Loz%C3%A8re",
             "name": "Lozère",
             "normalized": "lozere",
             "parentHash": "455ae3d75f982e8",
             "type": "state",
             "value": 2.74
            },
            "c6319beaa1b6cdd": {
             "href": "https://peps.cnes.fr/resto/api/collections/S2ST/search.json?&lang=en&q=Tarn-et-Garonne",
             "name": "Tarn-et-Garonne",
             "normalized": "tarn-et-garonne",
             "parentHash": "fa018f4f7b20706",
             "type": "state",
             "value": 1.69
            },
            "c958f1cb7878712": {
             "href": "https://peps.cnes.fr/resto/api/collections/S2ST/search.json?&lang=en&q=Auvergne",
             "name": "Auvergne",
             "normalized": "auvergne",
             "parentHash": "936bcbcf5c43fbd",
             "type": "region",
             "value": 34.01
            },
            "e8f96b7c46c0d54": {
             "href": "https://peps.cnes.fr/resto/api/collections/S2ST/search.json?&lang=en&q=Descending",
             "name": "Descending",
             "type": "orbitDirection"
            },
            "e966218f208fcca": {
             "href": "https://peps.cnes.fr/resto/api/collections/S2ST/search.json?&lang=en&q=Tarn",
             "name": "Tarn",
             "normalized": "tarn",
             "parentHash": "fa018f4f7b20706",
             "type": "state",
             "value": 0.34
            },
            "f3221bcc6ca49ca": {
             "href": "https://peps.cnes.fr/resto/api/collections/S2ST/search.json?&lang=en&q=Autumn",
             "name": "Autumn",
             "type": "season"
            },
            "f841767ba5c92d4": {
             "href": "https://peps.cnes.fr/resto/api/collections/S2ST/search.json?&lang=en&q=msi",
             "name": "msi",
             "parentHash": "56bf819406cae6b",
             "type": "instrument"
            },
            "fa018f4f7b20706": {
             "href": "https://peps.cnes.fr/resto/api/collections/S2ST/search.json?&lang=en&q=Midi-Pyr%C3%A9n%C3%A9es",
             "name": "Midi-Pyrénées",
             "normalized": "midi-pyrenees",
             "parentHash": "936bcbcf5c43fbd",
             "type": "region",
             "value": 62.26
            }
           },
           "license": "proprietary",
           "links": [
            {
             "href": "https://peps.cnes.fr/resto/collections/S2ST/f098b2ee-3318-5323-bc6b-2552e67ce6b9.json?&lang=en",
             "rel": "alternate",
             "title": "GeoJSON link for f098b2ee-3318-5323-bc6b-2552e67ce6b9",
             "type": "application/json"
            },
            {
             "href": "https://peps.cnes.fr/resto/collections/S2ST/f098b2ee-3318-5323-bc6b-2552e67ce6b9.atom?&lang=en",
             "rel": "alternate",
             "title": "ATOM link for f098b2ee-3318-5323-bc6b-2552e67ce6b9",
             "type": "application/atom+xml"
            }
           ],
           "lowProbaClouds": null,
           "mediumProbaClouds": null,
           "mgrs": "31TDK",
           "missionStartDate": "2015-06-23T00:00:00Z",
           "modificationDate": "2018-11-29T16:32:15.510Z",
           "newVersion": null,
           "orbitDirection": "descending",
           "orbitNumber": 9043,
           "organisationName": null,
           "parentIdentifier": "urn:ogc:def:EOP:ESA::SENTINEL-2:",
           "platform": "S2ST",
           "platformSerialIdentifier": "S2B",
           "processingLevel": "LEVEL1C",
           "productType": "S2MSI1C",
           "publicationDate": "2018-11-29T16:32:15.510Z",
           "quicklook": "https://peps.cnes.fr/quicklook/2018/11/29/S2B/S2B_MSIL1C_20181129T104359_N0207_R008_T31TDK_20181129T125151_quicklook.jpg",
           "realtime": "Nominal",
           "relativeOrbitNumber": 8,
           "resolution": null,
           "resourceChecksum": "BB8D2BA2017A08C896513F3800F0318E",
           "resourceSize": 780344867,
           "s2TakeId": "GS2B_20181129T104359_009043_N02.07",
           "sensorMode": "INS-NOBS",
           "sensorType": "OPTICAL",
           "services": {
            "browse": {
             "layer": {
              "layers": "",
              "type": "WMS",
              "url": "https://peps.cnes.fr/cgi-bin/mapserver?map=WMS_S2ST&data=2018/11/29/S2B/S2B_MSIL1C_20181129T104359_N0207_R008_T31TDK_20181129T125151"
             },
             "title": "Display full resolution product on map"
            },
            "download": {
             "checksum": "BB8D2BA2017A08C896513F3800F0318E",
             "mimeType": "application/zip",
             "size": 780344867,
             "url": "https://peps.cnes.fr/resto/collections/S2ST/f098b2ee-3318-5323-bc6b-2552e67ce6b9/download"
            }
           },
           "snowCover": null,
           "snowIce": null,
           "startTimeFromAscendingNode": "2018-11-29T10:43:59.024Z",
           "storage": {
            "mode": "disk"
           },
           "storageStatus": "ONLINE",
           "thumbnail": null,
           "title": "S2B_MSIL1C_20181129T104359_N0207_R008_T31TDK_20181129T125151",
           "uid": "f098b2ee-3318-5323-bc6b-2552e67ce6b9",
           "vegetation": null,
           "visible": 1,
           "water": null
          },
          "type": "Feature"
         },
         {
          "geometry": {
           "coordinates": [
            [
             [
              1.7656944498199,
              43.346194685302
             ],
             [
              1.785227256909,
              42.357636308559
             ],
             [
              3.1185272208715,
              42.364010656319
             ],
             [
              3.1204336460534,
              43.352791985218
             ],
             [
              1.7656944498199,
              43.346194685302
             ]
            ]
           ],
           "type": "Polygon"
          },
          "id": "S2B_MSIL1C_20181129T104359_N0207_R008_T31TDH_20181129T125151",
          "properties": {
           "abstract": null,
           "bands": [
            {
             "center_wavelength": 0.4439,
             "common_name": "coastal",
             "full_width_half_max": 0.027,
             "gsd": 60,
             "name": "B01"
            },
            {
             "center_wavelength": 0.4966,
             "common_name": "blue",
             "full_width_half_max": 0.098,
             "gsd": 10,
             "name": "B02"
            },
            {
             "center_wavelength": 0.56,
             "common_name": "green",
             "full_width_half_max": 0.045,
             "gsd": 10,
             "name": "B03"
            },
            {
             "center_wavelength": 0.6645,
             "common_name": "red",
             "full_width_half_max": 0.038,
             "gsd": 10,
             "name": "B04"
            },
            {
             "center_wavelength": 0.7039,
             "full_width_half_max": 0.019,
             "gsd": 20,
             "name": "B05"
            },
            {
             "center_wavelength": 0.7402,
             "full_width_half_max": 0.018,
             "gsd": 20,
             "name": "B06"
            },
            {
             "center_wavelength": 0.7825,
             "full_width_half_max": 0.028,
             "gsd": 20,
             "name": "B07"
            },
            {
             "center_wavelength": 0.8351,
             "common_name": "nir",
             "full_width_half_max": 0.145,
             "gsd": 10,
             "name": "B08"
            },
            {
             "center_wavelength": 0.8648,
             "full_width_half_max": 0.033,
             "gsd": 20,
             "name": "B8A"
            },
            {
             "center_wavelength": 0.945,
             "full_width_half_max": 0.026,
             "gsd": 60,
             "name": "B09"
            },
            {
             "center_wavelength": 0.13735,
             "common_name": "cirrus",
             "full_width_half_max": 0.075,
             "gsd": 60,
             "name": "B10"
            },
            {
             "center_wavelength": 0.16137,
             "common_name": "swir16",
             "full_width_half_max": 0.075,
             "gsd": 20,
             "name": "B11"
            },
            {
             "center_wavelength": 0.22024,
             "common_name": "swir22",
             "full_width_half_max": 0.242,
             "gsd": 20,
             "name": "B12"
            }
           ],
           "bareSoil": null,
           "cloudCover": 82.9471,
           "completionTimeFromAscendingNode": "2018-11-29T10:43:59.024Z",
           "creationDate": "2018-11-29T16:18:30.956Z",
           "downloadLink": "https://peps.cnes.fr/resto/collections/S2ST/f7df905b-af27-579d-a5d7-99109cf83e79/download",
           "eodag_product_type": "S2_MSI_L1C",
           "eodag_provider": "peps",
           "eodag_search_intersection": {
            "coordinates": [
             [
              [
               1.7725348693260854,
               43
              ],
              [
               1.7656944498199,
               43.346194685302
              ],
              [
               2,
               43.34733570490992
              ],
              [
               2,
               43
              ],
              [
               1.7725348693260854,
               43
              ]
             ]
            ],
            "type": "Polygon"
           },
           "highProbaClouds": null,
           "instrument": "MSI",
           "isNrt": 0,
           "keyword": {
            "3655904d8935c83": {
             "href": "https://peps.cnes.fr/resto/api/collections/S2ST/search.json?&lang=en&q=Pyr%C3%A9n%C3%A9es-Orientales",
             "name": "Pyrénées-Orientales",
             "normalized": "pyrenees-orientales",
             "parentHash": "455ae3d75f982e8",
             "type": "state",
             "value": 34.02
            },
            "429f9571d35a7f4": {
             "href": "https://peps.cnes.fr/resto/api/collections/S2ST/search.json?&lang=en&q=2018",
             "name": "2018",
             "type": "year"
            },
            "44b15c0a6e62129": {
             "href": "https://peps.cnes.fr/resto/api/collections/S2ST/search.json?&lang=en&q=LEVEL1C",
             "name": "LEVEL1C",
             "type": "processingLevel"
            },
            "45038f3c2322ea3": {
             "href": "https://peps.cnes.fr/resto/api/collections/S2ST/search.json?&lang=en&q=S2ST",
             "name": "S2ST",
             "type": "collection"
            },
            "455ae3d75f982e8": {
             "href": "https://peps.cnes.fr/resto/api/collections/S2ST/search.json?&lang=en&q=Languedoc-Roussillon",
             "name": "Languedoc-Roussillon",
             "normalized": "languedoc-roussillon",
             "parentHash": "936bcbcf5c43fbd",
             "type": "region",
             "value": 83.59
            },
            "4562ae7650b1934": {
             "href": "https://peps.cnes.fr/resto/api/collections/S2ST/search.json?&lang=en&q=H%C3%A9rault",
             "name": "Hérault",
             "normalized": "herault",
             "parentHash": "455ae3d75f982e8",
             "type": "state",
             "value": 2.11
            },
            "56bf819406cae6b": {
             "href": "https://peps.cnes.fr/resto/api/collections/S2ST/search.json?&lang=en&q=s2B",
             "name": "s2B",
             "type": "platform"
            },
            "6219554ecf5905c": {
             "href": "https://peps.cnes.fr/resto/api/collections/S2ST/search.json?&lang=en&q=S2MSI1C",
             "name": "S2MSI1C",
             "type": "productType"
            },
            "638f34fab02f39d": {
             "href": "https://peps.cnes.fr/resto/api/collections/S2ST/search.json?&lang=en&q=Haute-Garonne",
             "name": "Haute-Garonne",
             "normalized": "haute-garonne",
             "parentHash": "fa018f4f7b20706",
             "type": "state",
             "value": 0.04
            },
            "70db2751c3c6c3d": {
             "href": "https://peps.cnes.fr/resto/api/collections/S2ST/search.json?&lang=en&q=Aude",
             "name": "Aude",
             "normalized": "aude",
             "parentHash": "455ae3d75f982e8",
             "type": "state",
             "value": 47.41
            },
            "77ddbc33a771bb6": {
             "href": "https://peps.cnes.fr/resto/api/collections/S2ST/search.json?&lang=en&q=29",
             "name": "29",
             "parentHash": "a5a24c795b91dd3",
             "type": "day"
            },
            "8e973c5726ef929": {
             "href": "https://peps.cnes.fr/resto/api/collections/S2ST/search.json?&lang=en&q=Coastal",
             "name": "Coastal",
             "type": "location"
            },
            "936bcbcf5c43fbd": {
             "href": "https://peps.cnes.fr/resto/api/collections/S2ST/search.json?&lang=en&q=France",
             "name": "France",
             "normalized": "france",
             "parentHash": "bce097de57d1ab7",
             "type": "country",
             "value": 92.12
            },
            "9e8d9cf11d4f170": {
             "href": "https://peps.cnes.fr/resto/api/collections/S2ST/search.json?&lang=en&q=Gerona",
             "name": "Gerona",
             "normalized": "gerona",
             "parentHash": "a5eef88d9f8ffa2",
             "type": "state",
             "value": 5
            },
            "a0e4a10aa754ab4": {
             "href": "https://peps.cnes.fr/resto/api/collections/S2ST/search.json?&lang=en&q=Northern",
             "name": "Northern",
             "type": "location"
            },
            "a5a24c795b91dd3": {
             "href": "https://peps.cnes.fr/resto/api/collections/S2ST/search.json?&lang=en&q=November",
             "name": "November",
             "parentHash": "429f9571d35a7f4",
             "type": "month"
            },
            "a5eef88d9f8ffa2": {
             "href": "https://peps.cnes.fr/resto/api/collections/S2ST/search.json?&lang=en&q=Catalu%C3%B1a",
             "name": "Cataluña",
             "normalized": "cataluna",
             "parentHash": "e95d1eb633b4dd1",
             "type": "region",
             "value": 5.31
            },
            "aca78422271631a": {
             "href": "https://peps.cnes.fr/resto/api/collections/S2ST/search.json?&lang=en&q=INS-NOBS",
             "name": "INS-NOBS",
             "parentHash": "f841767ba5c92d4",
             "type": "sensorMode"
            },
            "adbd1cc9d2fe94b": {
             "href": "https://peps.cnes.fr/resto/api/collections/S2ST/search.json?&lang=en&q=Nominal",
             "name": "Nominal",
             "parentHash": "c0706bb19e22342",
             "type": "realtime"
            },
            "b9f5eec8dcb2cb5": {
             "href": "https://peps.cnes.fr/resto/api/collections/S2ST/search.json?&lang=en&q=Ari%C3%A8ge",
             "name": "Ariège",
             "normalized": "ariege",
             "parentHash": "fa018f4f7b20706",
             "type": "state",
             "value": 8.41
            },
            "bce097de57d1ab7": {
             "href": "https://peps.cnes.fr/resto/api/collections/S2ST/search.json?&lang=en&q=Europe",
             "name": "Europe",
             "normalized": "europe",
             "type": "continent"
            },
            "c0706bb19e22342": {
             "href": "https://peps.cnes.fr/resto/api/collections/S2ST/search.json?&lang=en&q=0",
             "name": "0",
             "type": "isNrt"
            },
            "da8f2bebc0fe455": {
             "href": "https://peps.cnes.fr/resto/api/collections/S2ST/search.json?&lang=en&q=L%C3%A9rida",
             "name": "Lérida",
             "normalized": "lerida",
             "parentHash": "a5eef88d9f8ffa2",
             "type": "state",
             "value": 0.14
            },
            "e8f96b7c46c0d54": {
             "href": "https://peps.cnes.fr/resto/api/collections/S2ST/search.json?&lang=en&q=Descending",
             "name": "Descending",
             "type": "orbitDirection"
            },
            "e95d1eb633b4dd1": {
             "href": "https://peps.cnes.fr/resto/api/collections/S2ST/search.json?&lang=en&q=Spain",
             "name": "Spain",
             "normalized": "spain",
             "parentHash": "bce097de57d1ab7",
             "type": "country",
             "value": 5.15
            },
            "f3221bcc6ca49ca": {
             "href": "https://peps.cnes.fr/resto/api/collections/S2ST/search.json?&lang=en&q=Autumn",
             "name": "Autumn",
             "type": "season"
            },
            "f841767ba5c92d4": {
             "href": "https://peps.cnes.fr/resto/api/collections/S2ST/search.json?&lang=en&q=msi",
             "name": "msi",
             "parentHash": "56bf819406cae6b",
             "type": "instrument"
            },
            "fa018f4f7b20706": {
             "href": "https://peps.cnes.fr/resto/api/collections/S2ST/search.json?&lang=en&q=Midi-Pyr%C3%A9n%C3%A9es",
             "name": "Midi-Pyrénées",
             "normalized": "midi-pyrenees",
             "parentHash": "936bcbcf5c43fbd",
             "type": "region",
             "value": 8.47
            }
           },
           "license": "proprietary",
           "links": [
            {
             "href": "https://peps.cnes.fr/resto/collections/S2ST/f7df905b-af27-579d-a5d7-99109cf83e79.json?&lang=en",
             "rel": "alternate",
             "title": "GeoJSON link for f7df905b-af27-579d-a5d7-99109cf83e79",
             "type": "application/json"
            },
            {
             "href": "https://peps.cnes.fr/resto/collections/S2ST/f7df905b-af27-579d-a5d7-99109cf83e79.atom?&lang=en",
             "rel": "alternate",
             "title": "ATOM link for f7df905b-af27-579d-a5d7-99109cf83e79",
             "type": "application/atom+xml"
            }
           ],
           "lowProbaClouds": null,
           "mediumProbaClouds": null,
           "mgrs": "31TDH",
           "missionStartDate": "2015-06-23T00:00:00Z",
           "modificationDate": "2018-11-29T16:30:34.771Z",
           "newVersion": null,
           "orbitDirection": "descending",
           "orbitNumber": 9043,
           "organisationName": null,
           "parentIdentifier": "urn:ogc:def:EOP:ESA::SENTINEL-2:",
           "platform": "S2ST",
           "platformSerialIdentifier": "S2B",
           "processingLevel": "LEVEL1C",
           "productType": "S2MSI1C",
           "publicationDate": "2018-11-29T16:30:34.771Z",
           "quicklook": "https://peps.cnes.fr/quicklook/2018/11/29/S2B/S2B_MSIL1C_20181129T104359_N0207_R008_T31TDH_20181129T125151_quicklook.jpg",
           "realtime": "Nominal",
           "relativeOrbitNumber": 8,
           "resolution": null,
           "resourceChecksum": "AAC78F3D3C7C1A7D4FDB95B543E72E40",
           "resourceSize": 812829872,
           "s2TakeId": "GS2B_20181129T104359_009043_N02.07",
           "sensorMode": "INS-NOBS",
           "sensorType": "OPTICAL",
           "services": {
            "browse": {
             "layer": {
              "layers": "",
              "type": "WMS",
              "url": "https://peps.cnes.fr/cgi-bin/mapserver?map=WMS_S2ST&data=2018/11/29/S2B/S2B_MSIL1C_20181129T104359_N0207_R008_T31TDH_20181129T125151"
             },
             "title": "Display full resolution product on map"
            },
            "download": {
             "checksum": "AAC78F3D3C7C1A7D4FDB95B543E72E40",
             "mimeType": "application/zip",
             "size": 812829872,
             "url": "https://peps.cnes.fr/resto/collections/S2ST/f7df905b-af27-579d-a5d7-99109cf83e79/download"
            }
           },
           "snowCover": null,
           "snowIce": null,
           "startTimeFromAscendingNode": "2018-11-29T10:43:59.024Z",
           "storage": {
            "mode": "tape"
           },
           "storageStatus": "OFFLINE",
           "thumbnail": null,
           "title": "S2B_MSIL1C_20181129T104359_N0207_R008_T31TDH_20181129T125151",
           "uid": "f7df905b-af27-579d-a5d7-99109cf83e79",
           "vegetation": null,
           "visible": 1,
           "water": null
          },
          "type": "Feature"
         },
         {
          "geometry": {
           "coordinates": [
            [
             [
              3.1222346781601,
              44.240993013861
             ],
             [
              3.1241663971878,
              45.153769755991
             ],
             [
              1.7274503416686,
              45.146747187836
             ],
             [
              1.7488829466404,
              44.158515309605
             ],
             [
              3.0922698640306,
              44.165153987969
             ],
             [
              3.0954356037936,
              44.172982188075
             ],
             [
              3.1222346781601,
              44.240993013861
             ]
            ]
           ],
           "type": "Polygon"
          },
          "id": "S2A_MSIL1C_20181127T105401_N0207_R051_T31TDK_20181127T112953",
          "properties": {
           "abstract": null,
           "bands": [
            {
             "center_wavelength": 0.4439,
             "common_name": "coastal",
             "full_width_half_max": 0.027,
             "gsd": 60,
             "name": "B01"
            },
            {
             "center_wavelength": 0.4966,
             "common_name": "blue",
             "full_width_half_max": 0.098,
             "gsd": 10,
             "name": "B02"
            },
            {
             "center_wavelength": 0.56,
             "common_name": "green",
             "full_width_half_max": 0.045,
             "gsd": 10,
             "name": "B03"
            },
            {
             "center_wavelength": 0.6645,
             "common_name": "red",
             "full_width_half_max": 0.038,
             "gsd": 10,
             "name": "B04"
            },
            {
             "center_wavelength": 0.7039,
             "full_width_half_max": 0.019,
             "gsd": 20,
             "name": "B05"
            },
            {
             "center_wavelength": 0.7402,
             "full_width_half_max": 0.018,
             "gsd": 20,
             "name": "B06"
            },
            {
             "center_wavelength": 0.7825,
             "full_width_half_max": 0.028,
             "gsd": 20,
             "name": "B07"
            },
            {
             "center_wavelength": 0.8351,
             "common_name": "nir",
             "full_width_half_max": 0.145,
             "gsd": 10,
             "name": "B08"
            },
            {
             "center_wavelength": 0.8648,
             "full_width_half_max": 0.033,
             "gsd": 20,
             "name": "B8A"
            },
            {
             "center_wavelength": 0.945,
             "full_width_half_max": 0.026,
             "gsd": 60,
             "name": "B09"
            },
            {
             "center_wavelength": 0.13735,
             "common_name": "cirrus",
             "full_width_half_max": 0.075,
             "gsd": 60,
             "name": "B10"
            },
            {
             "center_wavelength": 0.16137,
             "common_name": "swir16",
             "full_width_half_max": 0.075,
             "gsd": 20,
             "name": "B11"
            },
            {
             "center_wavelength": 0.22024,
             "common_name": "swir22",
             "full_width_half_max": 0.242,
             "gsd": 20,
             "name": "B12"
            }
           ],
           "bareSoil": null,
           "cloudCover": 54.8711,
           "completionTimeFromAscendingNode": "2018-11-27T10:54:01.024Z",
           "creationDate": "2018-11-27T14:57:28.019Z",
           "downloadLink": "https://peps.cnes.fr/resto/collections/S2ST/037dc786-a0b6-5853-bb13-54c311495e4f/download",
           "eodag_product_type": "S2_MSI_L1C",
           "eodag_provider": "peps",
           "eodag_search_intersection": {
            "coordinates": [
             [
              [
               2,
               44.159756266567875
              ],
              [
               1.7488829466404,
               44.158515309605
              ],
              [
               1.7306329697307927,
               45
              ],
              [
               2,
               45
              ],
              [
               2,
               44.159756266567875
              ]
             ]
            ],
            "type": "Polygon"
           },
           "highProbaClouds": null,
           "instrument": "MSI",
           "isNrt": 0,
           "keyword": {
            "2b6fe1d663541d5": {
             "href": "https://peps.cnes.fr/resto/api/collections/S2ST/search.json?&lang=en&q=Corr%C3%A8ze",
             "name": "Corrèze",
             "normalized": "correze",
             "parentHash": "595a2a0433fc5be",
             "type": "state",
             "value": 5.61
            },
            "36b380ec75fcb73": {
             "href": "https://peps.cnes.fr/resto/api/collections/S2ST/search.json?&lang=en&q=Cantal",
             "name": "Cantal",
             "normalized": "cantal",
             "parentHash": "c958f1cb7878712",
             "type": "state",
             "value": 28.85
            },
            "3f85bb5d775e1fc": {
             "href": "https://peps.cnes.fr/resto/api/collections/S2ST/search.json?&lang=en&q=INS-NOBS",
             "name": "INS-NOBS",
             "parentHash": "503f8f6199f3e44",
             "type": "sensorMode"
            },
            "429f9571d35a7f4": {
             "href": "https://peps.cnes.fr/resto/api/collections/S2ST/search.json?&lang=en&q=2018",
             "name": "2018",
             "type": "year"
            },
            "44b15c0a6e62129": {
             "href": "https://peps.cnes.fr/resto/api/collections/S2ST/search.json?&lang=en&q=LEVEL1C",
             "name": "LEVEL1C",
             "type": "processingLevel"
            },
            "45038f3c2322ea3": {
             "href": "https://peps.cnes.fr/resto/api/collections/S2ST/search.json?&lang=en&q=S2ST",
             "name": "S2ST",
             "type": "collection"
            },
            "455ae3d75f982e8": {
             "href": "https://peps.cnes.fr/resto/api/collections/S2ST/search.json?&lang=en&q=Languedoc-Roussillon",
             "name": "Languedoc-Roussillon",
             "normalized": "languedoc-roussillon",
             "parentHash": "936bcbcf5c43fbd",
             "type": "region",
             "value": 2.27
            },
            "503f8f6199f3e44": {
             "href": "https://peps.cnes.fr/resto/api/collections/S2ST/search.json?&lang=en&q=msi",
             "name": "msi",
             "parentHash": "afe9ad14455c260",
             "type": "instrument"
            },
            "595a2a0433fc5be": {
             "href": "https://peps.cnes.fr/resto/api/collections/S2ST/search.json?&lang=en&q=Limousin",
             "name": "Limousin",
             "normalized": "limousin",
             "parentHash": "936bcbcf5c43fbd",
             "type": "region",
             "value": 5.58
            },
            "6219554ecf5905c": {
             "href": "https://peps.cnes.fr/resto/api/collections/S2ST/search.json?&lang=en&q=S2MSI1C",
             "name": "S2MSI1C",
             "type": "productType"
            },
            "62d7a0087311a7e": {
             "href": "https://peps.cnes.fr/resto/api/collections/S2ST/search.json?&lang=en&q=27",
             "name": "27",
             "parentHash": "a5a24c795b91dd3",
             "type": "day"
            },
            "936bcbcf5c43fbd": {
             "href": "https://peps.cnes.fr/resto/api/collections/S2ST/search.json?&lang=en&q=France",
             "name": "France",
             "normalized": "france",
             "parentHash": "bce097de57d1ab7",
             "type": "country",
             "value": 100
            },
            "a0e4a10aa754ab4": {
             "href": "https://peps.cnes.fr/resto/api/collections/S2ST/search.json?&lang=en&q=Northern",
             "name": "Northern",
             "type": "location"
            },
            "a507bd46cbf5398": {
             "href": "https://peps.cnes.fr/resto/api/collections/S2ST/search.json?&lang=en&q=Aveyron",
             "name": "Aveyron",
             "normalized": "aveyron",
             "parentHash": "fa018f4f7b20706",
             "type": "state",
             "value": 46.89
            },
            "a5a24c795b91dd3": {
             "href": "https://peps.cnes.fr/resto/api/collections/S2ST/search.json?&lang=en&q=November",
             "name": "November",
             "parentHash": "429f9571d35a7f4",
             "type": "month"
            },
            "adbd1cc9d2fe94b": {
             "href": "https://peps.cnes.fr/resto/api/collections/S2ST/search.json?&lang=en&q=Nominal",
             "name": "Nominal",
             "parentHash": "c0706bb19e22342",
             "type": "realtime"
            },
            "afe9ad14455c260": {
             "href": "https://peps.cnes.fr/resto/api/collections/S2ST/search.json?&lang=en&q=s2A",
             "name": "s2A",
             "type": "platform"
            },
            "bce097de57d1ab7": {
             "href": "https://peps.cnes.fr/resto/api/collections/S2ST/search.json?&lang=en&q=Europe",
             "name": "Europe",
             "normalized": "europe",
             "type": "continent"
            },
            "bdd4a95707b0459": {
             "href": "https://peps.cnes.fr/resto/api/collections/S2ST/search.json?&lang=en&q=Lot",
             "name": "Lot",
             "normalized": "lot",
             "parentHash": "fa018f4f7b20706",
             "type": "state",
             "value": 13.81
            },
            "c0706bb19e22342": {
             "href": "https://peps.cnes.fr/resto/api/collections/S2ST/search.json?&lang=en&q=0",
             "name": "0",
             "type": "isNrt"
            },
            "c34df802ddfe137": {
             "href": "https://peps.cnes.fr/resto/api/collections/S2ST/search.json?&lang=en&q=Loz%C3%A8re",
             "name": "Lozère",
             "normalized": "lozere",
             "parentHash": "455ae3d75f982e8",
             "type": "state",
             "value": 2.33
            },
            "c6319beaa1b6cdd": {
             "href": "https://peps.cnes.fr/resto/api/collections/S2ST/search.json?&lang=en&q=Tarn-et-Garonne",
             "name": "Tarn-et-Garonne",
             "normalized": "tarn-et-garonne",
             "parentHash": "fa018f4f7b20706",
             "type": "state",
             "value": 2.18
            },
            "c958f1cb7878712": {
             "href": "https://peps.cnes.fr/resto/api/collections/S2ST/search.json?&lang=en&q=Auvergne",
             "name": "Auvergne",
             "normalized": "auvergne",
             "parentHash": "936bcbcf5c43fbd",
             "type": "region",
             "value": 28.97
            },
            "e8f96b7c46c0d54": {
             "href": "https://peps.cnes.fr/resto/api/collections/S2ST/search.json?&lang=en&q=Descending",
             "name": "Descending",
             "type": "orbitDirection"
            },
            "e966218f208fcca": {
             "href": "https://peps.cnes.fr/resto/api/collections/S2ST/search.json?&lang=en&q=Tarn",
             "name": "Tarn",
             "normalized": "tarn",
             "parentHash": "fa018f4f7b20706",
             "type": "state",
             "value": 0.29
            },
            "f3221bcc6ca49ca": {
             "href": "https://peps.cnes.fr/resto/api/collections/S2ST/search.json?&lang=en&q=Autumn",
             "name": "Autumn",
             "type": "season"
            },
            "fa018f4f7b20706": {
             "href": "https://peps.cnes.fr/resto/api/collections/S2ST/search.json?&lang=en&q=Midi-Pyr%C3%A9n%C3%A9es",
             "name": "Midi-Pyrénées",
             "normalized": "midi-pyrenees",
             "parentHash": "936bcbcf5c43fbd",
             "type": "region",
             "value": 62.95
            }
           },
           "license": "proprietary",
           "links": [
            {
             "href": "https://peps.cnes.fr/resto/collections/S2ST/037dc786-a0b6-5853-bb13-54c311495e4f.json?&lang=en",
             "rel": "alternate",
             "title": "GeoJSON link for 037dc786-a0b6-5853-bb13-54c311495e4f",
             "type": "application/json"
            },
            {
             "href": "https://peps.cnes.fr/resto/collections/S2ST/037dc786-a0b6-5853-bb13-54c311495e4f.atom?&lang=en",
             "rel": "alternate",
             "title": "ATOM link for 037dc786-a0b6-5853-bb13-54c311495e4f",
             "type": "application/atom+xml"
            }
           ],
           "lowProbaClouds": null,
           "mediumProbaClouds": null,
           "mgrs": "31TDK",
           "missionStartDate": "2015-06-23T00:00:00Z",
           "modificationDate": "2018-11-27T16:11:43.341Z",
           "newVersion": null,
           "orbitDirection": "descending",
           "orbitNumber": 17923,
           "organisationName": null,
           "parentIdentifier": "urn:ogc:def:EOP:ESA::SENTINEL-2:",
           "platform": "S2ST",
           "platformSerialIdentifier": "S2A",
           "processingLevel": "LEVEL1C",
           "productType": "S2MSI1C",
           "publicationDate": "2018-11-27T16:11:43.341Z",
           "quicklook": "https://peps.cnes.fr/quicklook/2018/11/27/S2A/S2A_MSIL1C_20181127T105401_N0207_R051_T31TDK_20181127T112953_quicklook.jpg",
           "realtime": "Nominal",
           "relativeOrbitNumber": 51,
           "resolution": null,
           "resourceChecksum": "36F5D162F55CAA4B12DCF72789CF8B60",
           "resourceSize": 843325534,
           "s2TakeId": "GS2A_20181127T105401_017923_N02.07",
           "sensorMode": "INS-NOBS",
           "sensorType": "OPTICAL",
           "services": {
            "browse": {
             "layer": {
              "layers": "",
              "type": "WMS",
              "url": "https://peps.cnes.fr/cgi-bin/mapserver?map=WMS_S2ST&data=2018/11/27/S2A/S2A_MSIL1C_20181127T105401_N0207_R051_T31TDK_20181127T112953"
             },
             "title": "Display full resolution product on map"
            },
            "download": {
             "checksum": "36F5D162F55CAA4B12DCF72789CF8B60",
             "mimeType": "application/zip",
             "size": 843325534,
             "url": "https://peps.cnes.fr/resto/collections/S2ST/037dc786-a0b6-5853-bb13-54c311495e4f/download"
            }
           },
           "snowCover": null,
           "snowIce": null,
           "startTimeFromAscendingNode": "2018-11-27T10:54:01.024Z",
           "storage": {
            "mode": "disk"
           },
           "storageStatus": "ONLINE",
           "thumbnail": null,
           "title": "S2A_MSIL1C_20181127T105401_N0207_R051_T31TDK_20181127T112953",
           "uid": "037dc786-a0b6-5853-bb13-54c311495e4f",
           "vegetation": null,
           "visible": 1,
           "water": null
          },
          "type": "Feature"
         },
         {
          "geometry": {
           "coordinates": [
            [
             [
              0.53321795122122,
              43.326246335866
             ],
             [
              0.57221931796898,
              42.338361825154
             ],
             [
              1.904690752833,
              42.358839917707
             ],
             [
              1.8870778350223,
              43.347440388825
             ],
             [
              0.53321795122122,
              43.326246335866
             ]
            ]
           ],
           "type": "Polygon"
          },
          "id": "S2A_MSIL1C_20181127T105401_N0207_R051_T31TCH_20181127T112953",
          "properties": {
           "abstract": null,
           "bands": [
            {
             "center_wavelength": 0.4439,
             "common_name": "coastal",
             "full_width_half_max": 0.027,
             "gsd": 60,
             "name": "B01"
            },
            {
             "center_wavelength": 0.4966,
             "common_name": "blue",
             "full_width_half_max": 0.098,
             "gsd": 10,
             "name": "B02"
            },
            {
             "center_wavelength": 0.56,
             "common_name": "green",
             "full_width_half_max": 0.045,
             "gsd": 10,
             "name": "B03"
            },
            {
             "center_wavelength": 0.6645,
             "common_name": "red",
             "full_width_half_max": 0.038,
             "gsd": 10,
             "name": "B04"
            },
            {
             "center_wavelength": 0.7039,
             "full_width_half_max": 0.019,
             "gsd": 20,
             "name": "B05"
            },
            {
             "center_wavelength": 0.7402,
             "full_width_half_max": 0.018,
             "gsd": 20,
             "name": "B06"
            },
            {
             "center_wavelength": 0.7825,
             "full_width_half_max": 0.028,
             "gsd": 20,
             "name": "B07"
            },
            {
             "center_wavelength": 0.8351,
             "common_name": "nir",
             "full_width_half_max": 0.145,
             "gsd": 10,
             "name": "B08"
            },
            {
             "center_wavelength": 0.8648,
             "full_width_half_max": 0.033,
             "gsd": 20,
             "name": "B8A"
            },
            {
             "center_wavelength": 0.945,
             "full_width_half_max": 0.026,
             "gsd": 60,
             "name": "B09"
            },
            {
             "center_wavelength": 0.13735,
             "common_name": "cirrus",
             "full_width_half_max": 0.075,
             "gsd": 60,
             "name": "B10"
            },
            {
             "center_wavelength": 0.16137,
             "common_name": "swir16",
             "full_width_half_max": 0.075,
             "gsd": 20,
             "name": "B11"
            },
            {
             "center_wavelength": 0.22024,
             "common_name": "swir22",
             "full_width_half_max": 0.242,
             "gsd": 20,
             "name": "B12"
            }
           ],
           "bareSoil": null,
           "cloudCover": 1.8979,
           "completionTimeFromAscendingNode": "2018-11-27T10:54:01.024Z",
           "creationDate": "2018-11-27T14:42:19.285Z",
           "downloadLink": "https://peps.cnes.fr/resto/collections/S2ST/2388660b-4a84-5faf-9239-6761951db8ef/download",
           "eodag_product_type": "S2_MSI_L1C",
           "eodag_provider": "peps",
           "eodag_search_intersection": {
            "coordinates": [
             [
              [
               0.546098052950978,
               43
              ],
              [
               0.53321795122122,
               43.326246335866
              ],
              [
               1.8870778350223,
               43.347440388825
              ],
              [
               1.893267837142744,
               43
              ],
              [
               0.546098052950978,
               43
              ]
             ]
            ],
            "type": "Polygon"
           },
           "highProbaClouds": null,
           "instrument": "MSI",
           "isNrt": 0,
           "keyword": {
            "3655904d8935c83": {
             "href": "https://peps.cnes.fr/resto/api/collections/S2ST/search.json?&lang=en&q=Pyr%C3%A9n%C3%A9es-Orientales",
             "name": "Pyrénées-Orientales",
             "normalized": "pyrenees-orientales",
             "parentHash": "455ae3d75f982e8",
             "type": "state",
             "value": 1.42
            },
            "3f85bb5d775e1fc": {
             "href": "https://peps.cnes.fr/resto/api/collections/S2ST/search.json?&lang=en&q=INS-NOBS",
             "name": "INS-NOBS",
             "parentHash": "503f8f6199f3e44",
             "type": "sensorMode"
            },
            "429f9571d35a7f4": {
             "href": "https://peps.cnes.fr/resto/api/collections/S2ST/search.json?&lang=en&q=2018",
             "name": "2018",
             "type": "year"
            },
            "44b15c0a6e62129": {
             "href": "https://peps.cnes.fr/resto/api/collections/S2ST/search.json?&lang=en&q=LEVEL1C",
             "name": "LEVEL1C",
             "type": "processingLevel"
            },
            "45038f3c2322ea3": {
             "href": "https://peps.cnes.fr/resto/api/collections/S2ST/search.json?&lang=en&q=S2ST",
             "name": "S2ST",
             "type": "collection"
            },
            "45116aa2b037808": {
             "href": "https://peps.cnes.fr/resto/api/collections/S2ST/search.json?&lang=en&q=%22Sant%20Juli%C3%A0%20de%20L%C3%B2ria%22",
             "name": "Sant Julià de Lòria",
             "normalized": "sant-julia-de-loria",
             "parentHash": "a349829430acb13",
             "type": "state",
             "value": 0.63
            },
            "455ae3d75f982e8": {
             "href": "https://peps.cnes.fr/resto/api/collections/S2ST/search.json?&lang=en&q=Languedoc-Roussillon",
             "name": "Languedoc-Roussillon",
             "normalized": "languedoc-roussillon",
             "parentHash": "936bcbcf5c43fbd",
             "type": "region",
             "value": 3.9
            },
            "46be63b66d40300": {
             "href": "https://peps.cnes.fr/resto/api/collections/S2ST/search.json?&lang=en&q=%22La%20Massana%22",
             "name": "La Massana",
             "normalized": "la-massana",
             "parentHash": "a349829430acb13",
             "type": "state",
             "value": 0.6
            },
            "503f8f6199f3e44": {
             "href": "https://peps.cnes.fr/resto/api/collections/S2ST/search.json?&lang=en&q=msi",
             "name": "msi",
             "parentHash": "afe9ad14455c260",
             "type": "instrument"
            },
            "6219554ecf5905c": {
             "href": "https://peps.cnes.fr/resto/api/collections/S2ST/search.json?&lang=en&q=S2MSI1C",
             "name": "S2MSI1C",
             "type": "productType"
            },
            "62d7a0087311a7e": {
             "href": "https://peps.cnes.fr/resto/api/collections/S2ST/search.json?&lang=en&q=27",
             "name": "27",
             "parentHash": "a5a24c795b91dd3",
             "type": "day"
            },
            "638f34fab02f39d": {
             "href": "https://peps.cnes.fr/resto/api/collections/S2ST/search.json?&lang=en&q=Haute-Garonne",
             "name": "Haute-Garonne",
             "normalized": "haute-garonne",
             "parentHash": "fa018f4f7b20706",
             "type": "state",
             "value": 22.47
            },
            "70db2751c3c6c3d": {
             "href": "https://peps.cnes.fr/resto/api/collections/S2ST/search.json?&lang=en&q=Aude",
             "name": "Aude",
             "normalized": "aude",
             "parentHash": "455ae3d75f982e8",
             "type": "state",
             "value": 2.59
            },
            "897e7ca8057fcd4": {
             "href": "https://peps.cnes.fr/resto/api/collections/S2ST/search.json?&lang=en&q=Ordino",
             "name": "Ordino",
             "normalized": "ordino",
             "parentHash": "a349829430acb13",
             "type": "state",
             "value": 0.63
            },
            "936bcbcf5c43fbd": {
             "href": "https://peps.cnes.fr/resto/api/collections/S2ST/search.json?&lang=en&q=France",
             "name": "France",
             "normalized": "france",
             "parentHash": "bce097de57d1ab7",
             "type": "country",
             "value": 65.77
            },
            "9e8d9cf11d4f170": {
             "href": "https://peps.cnes.fr/resto/api/collections/S2ST/search.json?&lang=en&q=Gerona",
             "name": "Gerona",
             "normalized": "gerona",
             "parentHash": "a5eef88d9f8ffa2",
             "type": "state",
             "value": 1.03
            },
            "a0e4a10aa754ab4": {
             "href": "https://peps.cnes.fr/resto/api/collections/S2ST/search.json?&lang=en&q=Northern",
             "name": "Northern",
             "type": "location"
            },
            "a0ee1300cfffc4d": {
             "href": "https://peps.cnes.fr/resto/api/collections/S2ST/search.json?&lang=en&q=Hautes-Pyr%C3%A9n%C3%A9es",
             "name": "Hautes-Pyrénées",
             "normalized": "hautes-pyrenees",
             "parentHash": "fa018f4f7b20706",
             "type": "state",
             "value": 1.2
            },
            "a349829430acb13": {
             "href": "https://peps.cnes.fr/resto/api/collections/S2ST/search.json?&lang=en&q=_all",
             "name": "_all",
             "normalized": "_all",
             "parentHash": "a5120c86778181f",
             "type": "region"
            },
            "a5120c86778181f": {
             "href": "https://peps.cnes.fr/resto/api/collections/S2ST/search.json?&lang=en&q=Andorra",
             "name": "Andorra",
             "normalized": "andorra",
             "parentHash": "bce097de57d1ab7",
             "type": "country",
             "value": 3.75
            },
            "a5a24c795b91dd3": {
             "href": "https://peps.cnes.fr/resto/api/collections/S2ST/search.json?&lang=en&q=November",
             "name": "November",
             "parentHash": "429f9571d35a7f4",
             "type": "month"
            },
            "a5eef88d9f8ffa2": {
             "href": "https://peps.cnes.fr/resto/api/collections/S2ST/search.json?&lang=en&q=Catalu%C3%B1a",
             "name": "Cataluña",
             "normalized": "cataluna",
             "parentHash": "e95d1eb633b4dd1",
             "type": "region",
             "value": 26.23
            },
            "adbd1cc9d2fe94b": {
             "href": "https://peps.cnes.fr/resto/api/collections/S2ST/search.json?&lang=en&q=Nominal",
             "name": "Nominal",
             "parentHash": "c0706bb19e22342",
             "type": "realtime"
            },
            "afe9ad14455c260": {
             "href": "https://peps.cnes.fr/resto/api/collections/S2ST/search.json?&lang=en&q=s2A",
             "name": "s2A",
             "type": "platform"
            },
            "b9f5eec8dcb2cb5": {
             "href": "https://peps.cnes.fr/resto/api/collections/S2ST/search.json?&lang=en&q=Ari%C3%A8ge",
             "name": "Ariège",
             "normalized": "ariege",
             "parentHash": "fa018f4f7b20706",
             "type": "state",
             "value": 37.91
            },
            "bce097de57d1ab7": {
             "href": "https://peps.cnes.fr/resto/api/collections/S2ST/search.json?&lang=en&q=Europe",
             "name": "Europe",
             "normalized": "europe",
             "type": "continent"
            },
            "c0706bb19e22342": {
             "href": "https://peps.cnes.fr/resto/api/collections/S2ST/search.json?&lang=en&q=0",
             "name": "0",
             "type": "isNrt"
            },
            "ca66c16a1ec7b1b": {
             "href": "https://peps.cnes.fr/resto/api/collections/S2ST/search.json?&lang=en&q=Escaldes-Engordany",
             "name": "Escaldes-Engordany",
             "normalized": "escaldes-engordany",
             "parentHash": "a349829430acb13",
             "type": "state",
             "value": 0.54
            },
            "d4d5543bfdf20e1": {
             "href": "https://peps.cnes.fr/resto/api/collections/S2ST/search.json?&lang=en&q=Arag%C3%B3n",
             "name": "Aragón",
             "normalized": "aragon",
             "parentHash": "e95d1eb633b4dd1",
             "type": "region",
             "value": 4.33
            },
            "d88039c4e772157": {
             "href": "https://peps.cnes.fr/resto/api/collections/S2ST/search.json?&lang=en&q=Canillo",
             "name": "Canillo",
             "normalized": "canillo",
             "parentHash": "a349829430acb13",
             "type": "state",
             "value": 0.61
            },
            "d8c2acfe38c3ff4": {
             "href": "https://peps.cnes.fr/resto/api/collections/S2ST/search.json?&lang=en&q=Gers",
             "name": "Gers",
             "normalized": "gers",
             "parentHash": "fa018f4f7b20706",
             "type": "state",
             "value": 0.1
            },
            "da8f2bebc0fe455": {
             "href": "https://peps.cnes.fr/resto/api/collections/S2ST/search.json?&lang=en&q=L%C3%A9rida",
             "name": "Lérida",
             "normalized": "lerida",
             "parentHash": "a5eef88d9f8ffa2",
             "type": "state",
             "value": 25.13
            },
            "e34aa3856477b00": {
             "href": "https://peps.cnes.fr/resto/api/collections/S2ST/search.json?&lang=en&q=%22Andorra%20la%20Vella%22",
             "name": "Andorra la Vella",
             "normalized": "andorra-la-vella",
             "parentHash": "a349829430acb13",
             "type": "state",
             "value": 0.12
            },
            "e710bcc83eae505": {
             "href": "https://peps.cnes.fr/resto/api/collections/S2ST/search.json?&lang=en&q=Huesca",
             "name": "Huesca",
             "normalized": "huesca",
             "parentHash": "d4d5543bfdf20e1",
             "type": "state",
             "value": 4.36
            },
            "e80a5167d45e930": {
             "href": "https://peps.cnes.fr/resto/api/collections/S2ST/search.json?&lang=en&q=Encamp",
             "name": "Encamp",
             "normalized": "encamp",
             "parentHash": "a349829430acb13",
             "type": "state",
             "value": 0.59
            },
            "e8f96b7c46c0d54": {
             "href": "https://peps.cnes.fr/resto/api/collections/S2ST/search.json?&lang=en&q=Descending",
             "name": "Descending",
             "type": "orbitDirection"
            },
            "e95d1eb633b4dd1": {
             "href": "https://peps.cnes.fr/resto/api/collections/S2ST/search.json?&lang=en&q=Spain",
             "name": "Spain",
             "normalized": "spain",
             "parentHash": "bce097de57d1ab7",
             "type": "country",
             "value": 30.47
            },
            "f3221bcc6ca49ca": {
             "href": "https://peps.cnes.fr/resto/api/collections/S2ST/search.json?&lang=en&q=Autumn",
             "name": "Autumn",
             "type": "season"
            },
            "fa018f4f7b20706": {
             "href": "https://peps.cnes.fr/resto/api/collections/S2ST/search.json?&lang=en&q=Midi-Pyr%C3%A9n%C3%A9es",
             "name": "Midi-Pyrénées",
             "normalized": "midi-pyrenees",
             "parentHash": "936bcbcf5c43fbd",
             "type": "region",
             "value": 61.77
            }
           },
           "license": "proprietary",
           "links": [
            {
             "href": "https://peps.cnes.fr/resto/collections/S2ST/2388660b-4a84-5faf-9239-6761951db8ef.json?&lang=en",
             "rel": "alternate",
             "title": "GeoJSON link for 2388660b-4a84-5faf-9239-6761951db8ef",
             "type": "application/json"
            },
            {
             "href": "https://peps.cnes.fr/resto/collections/S2ST/2388660b-4a84-5faf-9239-6761951db8ef.atom?&lang=en",
             "rel": "alternate",
             "title": "ATOM link for 2388660b-4a84-5faf-9239-6761951db8ef",
             "type": "application/atom+xml"
            }
           ],
           "lowProbaClouds": null,
           "mediumProbaClouds": null,
           "mgrs": "31TCH",
           "missionStartDate": "2015-06-23T00:00:00Z",
           "modificationDate": "2018-11-27T14:52:50.531Z",
           "newVersion": null,
           "orbitDirection": "descending",
           "orbitNumber": 17923,
           "organisationName": null,
           "parentIdentifier": "urn:ogc:def:EOP:ESA::SENTINEL-2:",
           "platform": "S2ST",
           "platformSerialIdentifier": "S2A",
           "processingLevel": "LEVEL1C",
           "productType": "S2MSI1C",
           "publicationDate": "2018-11-27T14:52:50.531Z",
           "quicklook": "https://peps.cnes.fr/quicklook/2018/11/27/S2A/S2A_MSIL1C_20181127T105401_N0207_R051_T31TCH_20181127T112953_quicklook.jpg",
           "realtime": "Nominal",
           "relativeOrbitNumber": 51,
           "resolution": null,
           "resourceChecksum": "5657C29D5BAB2A27D310CD4E1C8BE0D7",
           "resourceSize": 880334500,
           "s2TakeId": "GS2A_20181127T105401_017923_N02.07",
           "sensorMode": "INS-NOBS",
           "sensorType": "OPTICAL",
           "services": {
            "browse": {
             "layer": {
              "layers": "",
              "type": "WMS",
              "url": "https://peps.cnes.fr/cgi-bin/mapserver?map=WMS_S2ST&data=2018/11/27/S2A/S2A_MSIL1C_20181127T105401_N0207_R051_T31TCH_20181127T112953"
             },
             "title": "Display full resolution product on map"
            },
            "download": {
             "checksum": "5657C29D5BAB2A27D310CD4E1C8BE0D7",
             "mimeType": "application/zip",
             "size": 880334500,
             "url": "https://peps.cnes.fr/resto/collections/S2ST/2388660b-4a84-5faf-9239-6761951db8ef/download"
            }
           },
           "snowCover": null,
           "snowIce": null,
           "startTimeFromAscendingNode": "2018-11-27T10:54:01.024Z",
           "storage": {
            "mode": "disk"
           },
           "storageStatus": "ONLINE",
           "thumbnail": null,
           "title": "S2A_MSIL1C_20181127T105401_N0207_R051_T31TCH_20181127T112953",
           "uid": "2388660b-4a84-5faf-9239-6761951db8ef",
           "vegetation": null,
           "visible": 1,
           "water": null
          },
          "type": "Feature"
         },
         {
          "geometry": {
           "coordinates": [
            [
             [
              -0.42645263999998,
              45.036046523595
             ],
             [
              0.93003339104157,
              44.997587612457
             ],
             [
              0.99932055993755,
              45.983545206926
             ],
             [
              -0.090057370000011,
              46.014954327714
             ],
             [
              -0.13766479999998,
              45.877104241583
             ],
             [
              -0.18841552999999,
              45.730638657893
             ],
             [
              -0.23892211999998,
              45.584031827541
             ],
             [
              -0.28930664000001,
              45.437437150569
             ],
             [
              -0.33920288000002,
              45.290743702615
             ],
             [
              -0.38952637,
              45.144124560128
             ],
             [
              -0.42645263999998,
              45.036046523595
             ]
            ]
           ],
           "type": "Polygon"
          },
          "id": "S2A_MSIL1C_20181127T105401_N0207_R051_T30TYR_20181127T112953",
          "properties": {
           "abstract": null,
           "bands": [
            {
             "center_wavelength": 0.4439,
             "common_name": "coastal",
             "full_width_half_max": 0.027,
             "gsd": 60,
             "name": "B01"
            },
            {
             "center_wavelength": 0.4966,
             "common_name": "blue",
             "full_width_half_max": 0.098,
             "gsd": 10,
             "name": "B02"
            },
            {
             "center_wavelength": 0.56,
             "common_name": "green",
             "full_width_half_max": 0.045,
             "gsd": 10,
             "name": "B03"
            },
            {
             "center_wavelength": 0.6645,
             "common_name": "red",
             "full_width_half_max": 0.038,
             "gsd": 10,
             "name": "B04"
            },
            {
             "center_wavelength": 0.7039,
             "full_width_half_max": 0.019,
             "gsd": 20,
             "name": "B05"
            },
            {
             "center_wavelength": 0.7402,
             "full_width_half_max": 0.018,
             "gsd": 20,
             "name": "B06"
            },
            {
             "center_wavelength": 0.7825,
             "full_width_half_max": 0.028,
             "gsd": 20,
             "name": "B07"
            },
            {
             "center_wavelength": 0.8351,
             "common_name": "nir",
             "full_width_half_max": 0.145,
             "gsd": 10,
             "name": "B08"
            },
            {
             "center_wavelength": 0.8648,
             "full_width_half_max": 0.033,
             "gsd": 20,
             "name": "B8A"
            },
            {
             "center_wavelength": 0.945,
             "full_width_half_max": 0.026,
             "gsd": 60,
             "name": "B09"
            },
            {
             "center_wavelength": 0.13735,
             "common_name": "cirrus",
             "full_width_half_max": 0.075,
             "gsd": 60,
             "name": "B10"
            },
            {
             "center_wavelength": 0.16137,
             "common_name": "swir16",
             "full_width_half_max": 0.075,
             "gsd": 20,
             "name": "B11"
            },
            {
             "center_wavelength": 0.22024,
             "common_name": "swir22",
             "full_width_half_max": 0.242,
             "gsd": 20,
             "name": "B12"
            }
           ],
           "bareSoil": null,
           "cloudCover": 60.5297,
           "completionTimeFromAscendingNode": "2018-11-27T10:54:01.024Z",
           "creationDate": "2018-11-27T14:43:07.398Z",
           "downloadLink": "https://peps.cnes.fr/resto/collections/S2ST/2b9a3e37-63f6-5687-9953-ca18b0852c43/download",
           "eodag_product_type": "S2_MSI_L1C",
           "eodag_provider": "peps",
           "eodag_search_intersection": {
            "coordinates": [
             [
              [
               0.9302029191268267,
               45
              ],
              [
               0.93003339104157,
               44.997587612457
              ],
              [
               0.8449459585918886,
               45
              ],
              [
               0.9302029191268267,
               45
              ]
             ]
            ],
            "type": "Polygon"
           },
           "highProbaClouds": null,
           "instrument": "MSI",
           "isNrt": 0,
           "keyword": {
            "1eb8a6dcbdf3b74": {
             "href": "https://peps.cnes.fr/resto/api/collections/S2ST/search.json?&lang=en&q=Dordogne",
             "name": "Dordogne",
             "normalized": "dordogne",
             "parentHash": "db06f1d6088ec4f",
             "type": "state",
             "value": 37.61
            },
            "34144f336d27e53": {
             "href": "https://peps.cnes.fr/resto/api/collections/S2ST/search.json?&lang=en&q=Charente-Maritime",
             "name": "Charente-Maritime",
             "normalized": "charente-maritime",
             "parentHash": "f0e6a6daa0e9f47",
             "type": "state",
             "value": 5.36
            },
            "3be01aa3157cfbf": {
             "href": "https://peps.cnes.fr/resto/api/collections/S2ST/search.json?&lang=en&q=Gironde",
             "name": "Gironde",
             "normalized": "gironde",
             "parentHash": "db06f1d6088ec4f",
             "type": "state",
             "value": 3.77
            },
            "3f85bb5d775e1fc": {
             "href": "https://peps.cnes.fr/resto/api/collections/S2ST/search.json?&lang=en&q=INS-NOBS",
             "name": "INS-NOBS",
             "parentHash": "503f8f6199f3e44",
             "type": "sensorMode"
            },
            "429f9571d35a7f4": {
             "href": "https://peps.cnes.fr/resto/api/collections/S2ST/search.json?&lang=en&q=2018",
             "name": "2018",
             "type": "year"
            },
            "44b15c0a6e62129": {
             "href": "https://peps.cnes.fr/resto/api/collections/S2ST/search.json?&lang=en&q=LEVEL1C",
             "name": "LEVEL1C",
             "type": "processingLevel"
            },
            "44d2e150997e6d7": {
             "href": "https://peps.cnes.fr/resto/api/collections/S2ST/search.json?&lang=en&q=Haute-Vienne",
             "name": "Haute-Vienne",
             "normalized": "haute-vienne",
             "parentHash": "595a2a0433fc5be",
             "type": "state",
             "value": 6.66
            },
            "45038f3c2322ea3": {
             "href": "https://peps.cnes.fr/resto/api/collections/S2ST/search.json?&lang=en&q=S2ST",
             "name": "S2ST",
             "type": "collection"
            },
            "503f8f6199f3e44": {
             "href": "https://peps.cnes.fr/resto/api/collections/S2ST/search.json?&lang=en&q=msi",
             "name": "msi",
             "parentHash": "afe9ad14455c260",
             "type": "instrument"
            },
            "595a2a0433fc5be": {
             "href": "https://peps.cnes.fr/resto/api/collections/S2ST/search.json?&lang=en&q=Limousin",
             "name": "Limousin",
             "normalized": "limousin",
             "parentHash": "936bcbcf5c43fbd",
             "type": "region",
             "value": 6.68
            },
            "6219554ecf5905c": {
             "href": "https://peps.cnes.fr/resto/api/collections/S2ST/search.json?&lang=en&q=S2MSI1C",
             "name": "S2MSI1C",
             "type": "productType"
            },
            "62d7a0087311a7e": {
             "href": "https://peps.cnes.fr/resto/api/collections/S2ST/search.json?&lang=en&q=27",
             "name": "27",
             "parentHash": "a5a24c795b91dd3",
             "type": "day"
            },
            "936bcbcf5c43fbd": {
             "href": "https://peps.cnes.fr/resto/api/collections/S2ST/search.json?&lang=en&q=France",
             "name": "France",
             "normalized": "france",
             "parentHash": "bce097de57d1ab7",
             "type": "country",
             "value": 99.99
            },
            "a0e4a10aa754ab4": {
             "href": "https://peps.cnes.fr/resto/api/collections/S2ST/search.json?&lang=en&q=Northern",
             "name": "Northern",
             "type": "location"
            },
            "a5a24c795b91dd3": {
             "href": "https://peps.cnes.fr/resto/api/collections/S2ST/search.json?&lang=en&q=November",
             "name": "November",
             "parentHash": "429f9571d35a7f4",
             "type": "month"
            },
            "adbd1cc9d2fe94b": {
             "href": "https://peps.cnes.fr/resto/api/collections/S2ST/search.json?&lang=en&q=Nominal",
             "name": "Nominal",
             "parentHash": "c0706bb19e22342",
             "type": "realtime"
            },
            "afe9ad14455c260": {
             "href": "https://peps.cnes.fr/resto/api/collections/S2ST/search.json?&lang=en&q=s2A",
             "name": "s2A",
             "type": "platform"
            },
            "b2da689507e17c1": {
             "href": "https://peps.cnes.fr/resto/api/collections/S2ST/search.json?&lang=en&q=Charente",
             "name": "Charente",
             "normalized": "charente",
             "parentHash": "f0e6a6daa0e9f47",
             "type": "state",
             "value": 46.52
            },
            "bce097de57d1ab7": {
             "href": "https://peps.cnes.fr/resto/api/collections/S2ST/search.json?&lang=en&q=Europe",
             "name": "Europe",
             "normalized": "europe",
             "type": "continent"
            },
            "c0706bb19e22342": {
             "href": "https://peps.cnes.fr/resto/api/collections/S2ST/search.json?&lang=en&q=0",
             "name": "0",
             "type": "isNrt"
            },
            "db06f1d6088ec4f": {
             "href": "https://peps.cnes.fr/resto/api/collections/S2ST/search.json?&lang=en&q=Aquitaine",
             "name": "Aquitaine",
             "normalized": "aquitaine",
             "parentHash": "936bcbcf5c43fbd",
             "type": "region",
             "value": 41.36
            },
            "e8f96b7c46c0d54": {
             "href": "https://peps.cnes.fr/resto/api/collections/S2ST/search.json?&lang=en&q=Descending",
             "name": "Descending",
             "type": "orbitDirection"
            },
            "f0e6a6daa0e9f47": {
             "href": "https://peps.cnes.fr/resto/api/collections/S2ST/search.json?&lang=en&q=Poitou-Charentes",
             "name": "Poitou-Charentes",
             "normalized": "poitou-charentes",
             "parentHash": "936bcbcf5c43fbd",
             "type": "region",
             "value": 51.89
            },
            "f1b1991da466f5c": {
             "href": "https://peps.cnes.fr/resto/api/collections/S2ST/search.json?&lang=en&q=Deux-S%C3%A8vres",
             "name": "Deux-Sèvres",
             "normalized": "deux-sevres",
             "parentHash": "f0e6a6daa0e9f47",
             "type": "state",
             "value": 0.14
            },
            "f3221bcc6ca49ca": {
             "href": "https://peps.cnes.fr/resto/api/collections/S2ST/search.json?&lang=en&q=Autumn",
             "name": "Autumn",
             "type": "season"
            }
           },
           "license": "proprietary",
           "links": [
            {
             "href": "https://peps.cnes.fr/resto/collections/S2ST/2b9a3e37-63f6-5687-9953-ca18b0852c43.json?&lang=en",
             "rel": "alternate",
             "title": "GeoJSON link for 2b9a3e37-63f6-5687-9953-ca18b0852c43",
             "type": "application/json"
            },
            {
             "href": "https://peps.cnes.fr/resto/collections/S2ST/2b9a3e37-63f6-5687-9953-ca18b0852c43.atom?&lang=en",
             "rel": "alternate",
             "title": "ATOM link for 2b9a3e37-63f6-5687-9953-ca18b0852c43",
             "type": "application/atom+xml"
            }
           ],
           "lowProbaClouds": null,
           "mediumProbaClouds": null,
           "mgrs": "30TYR",
           "missionStartDate": "2015-06-23T00:00:00Z",
           "modificationDate": "2018-11-27T14:56:31.444Z",
           "newVersion": null,
           "orbitDirection": "descending",
           "orbitNumber": 17923,
           "organisationName": null,
           "parentIdentifier": "urn:ogc:def:EOP:ESA::SENTINEL-2:",
           "platform": "S2ST",
           "platformSerialIdentifier": "S2A",
           "processingLevel": "LEVEL1C",
           "productType": "S2MSI1C",
           "publicationDate": "2018-11-27T14:56:31.444Z",
           "quicklook": "https://peps.cnes.fr/quicklook/2018/11/27/S2A/S2A_MSIL1C_20181127T105401_N0207_R051_T30TYR_20181127T112953_quicklook.jpg",
           "realtime": "Nominal",
           "relativeOrbitNumber": 51,
           "resolution": null,
           "resourceChecksum": "D175AA784F2EC20CD2594C9718800DA7",
           "resourceSize": 712798346,
           "s2TakeId": "GS2A_20181127T105401_017923_N02.07",
           "sensorMode": "INS-NOBS",
           "sensorType": "OPTICAL",
           "services": {
            "browse": {
             "layer": {
              "layers": "",
              "type": "WMS",
              "url": "https://peps.cnes.fr/cgi-bin/mapserver?map=WMS_S2ST&data=2018/11/27/S2A/S2A_MSIL1C_20181127T105401_N0207_R051_T30TYR_20181127T112953"
             },
             "title": "Display full resolution product on map"
            },
            "download": {
             "checksum": "D175AA784F2EC20CD2594C9718800DA7",
             "mimeType": "application/zip",
             "size": 712798346,
             "url": "https://peps.cnes.fr/resto/collections/S2ST/2b9a3e37-63f6-5687-9953-ca18b0852c43/download"
            }
           },
           "snowCover": null,
           "snowIce": null,
           "startTimeFromAscendingNode": "2018-11-27T10:54:01.024Z",
           "storage": {
            "mode": "tape"
           },
           "storageStatus": "OFFLINE",
           "thumbnail": null,
           "title": "S2A_MSIL1C_20181127T105401_N0207_R051_T30TYR_20181127T112953",
           "uid": "2b9a3e37-63f6-5687-9953-ca18b0852c43",
           "vegetation": null,
           "visible": 1,
           "water": null
          },
          "type": "Feature"
         },
         {
          "geometry": {
           "coordinates": [
            [
             [
              -0.46630859999999,
              44.918891332647
             ],
             [
              -0.50015259999998,
              44.138007688027
             ],
             [
              0.86998676642133,
              44.09977091821
             ],
             [
              0.93609755608639,
              45.0859569605
             ],
             [
              -0.39648438,
              45.123795854231
             ],
             [
              -0.43963623000002,
              44.997437709561
             ],
             [
              -0.46630859999999,
              44.918891332647
             ]
            ]
           ],
           "type": "Polygon"
          },
          "id": "S2A_MSIL1C_20181127T105401_N0207_R051_T30TYQ_20181127T112953",
          "properties": {
           "abstract": null,
           "bands": [
            {
             "center_wavelength": 0.4439,
             "common_name": "coastal",
             "full_width_half_max": 0.027,
             "gsd": 60,
             "name": "B01"
            },
            {
             "center_wavelength": 0.4966,
             "common_name": "blue",
             "full_width_half_max": 0.098,
             "gsd": 10,
             "name": "B02"
            },
            {
             "center_wavelength": 0.56,
             "common_name": "green",
             "full_width_half_max": 0.045,
             "gsd": 10,
             "name": "B03"
            },
            {
             "center_wavelength": 0.6645,
             "common_name": "red",
             "full_width_half_max": 0.038,
             "gsd": 10,
             "name": "B04"
            },
            {
             "center_wavelength": 0.7039,
             "full_width_half_max": 0.019,
             "gsd": 20,
             "name": "B05"
            },
            {
             "center_wavelength": 0.7402,
             "full_width_half_max": 0.018,
             "gsd": 20,
             "name": "B06"
            },
            {
             "center_wavelength": 0.7825,
             "full_width_half_max": 0.028,
             "gsd": 20,
             "name": "B07"
            },
            {
             "center_wavelength": 0.8351,
             "common_name": "nir",
             "full_width_half_max": 0.145,
             "gsd": 10,
             "name": "B08"
            },
            {
             "center_wavelength": 0.8648,
             "full_width_half_max": 0.033,
             "gsd": 20,
             "name": "B8A"
            },
            {
             "center_wavelength": 0.945,
             "full_width_half_max": 0.026,
             "gsd": 60,
             "name": "B09"
            },
            {
             "center_wavelength": 0.13735,
             "common_name": "cirrus",
             "full_width_half_max": 0.075,
             "gsd": 60,
             "name": "B10"
            },
            {
             "center_wavelength": 0.16137,
             "common_name": "swir16",
             "full_width_half_max": 0.075,
             "gsd": 20,
             "name": "B11"
            },
            {
             "center_wavelength": 0.22024,
             "common_name": "swir22",
             "full_width_half_max": 0.242,
             "gsd": 20,
             "name": "B12"
            }
           ],
           "bareSoil": null,
           "cloudCover": 21.0736,
           "completionTimeFromAscendingNode": "2018-11-27T10:54:01.024Z",
           "creationDate": "2018-11-27T14:39:47.546Z",
           "downloadLink": "https://peps.cnes.fr/resto/collections/S2ST/45600a2c-e4ec-51ad-8f9c-26cccc15a0d8/download",
           "eodag_product_type": "S2_MSI_L1C",
           "eodag_provider": "peps",
           "eodag_search_intersection": {
            "coordinates": [
             [
              [
               0.930335273624282,
               45
              ],
              [
               0.86998676642133,
               44.09977091821
              ],
              [
               0,
               44.12404982336866
              ],
              [
               0,
               45
              ],
              [
               0.930335273624282,
               45
              ]
             ]
            ],
            "type": "Polygon"
           },
           "highProbaClouds": null,
           "instrument": "MSI",
           "isNrt": 0,
           "keyword": {
            "1eb8a6dcbdf3b74": {
             "href": "https://peps.cnes.fr/resto/api/collections/S2ST/search.json?&lang=en&q=Dordogne",
             "name": "Dordogne",
             "normalized": "dordogne",
             "parentHash": "db06f1d6088ec4f",
             "type": "state",
             "value": 24.56
            },
            "34144f336d27e53": {
             "href": "https://peps.cnes.fr/resto/api/collections/S2ST/search.json?&lang=en&q=Charente-Maritime",
             "name": "Charente-Maritime",
             "normalized": "charente-maritime",
             "parentHash": "f0e6a6daa0e9f47",
             "type": "state",
             "value": 0.09
            },
            "3af7f479d8e1e5a": {
             "href": "https://peps.cnes.fr/resto/api/collections/S2ST/search.json?&lang=en&q=Landes",
             "name": "Landes",
             "normalized": "landes",
             "parentHash": "db06f1d6088ec4f",
             "type": "state",
             "value": 3.41
            },
            "3be01aa3157cfbf": {
             "href": "https://peps.cnes.fr/resto/api/collections/S2ST/search.json?&lang=en&q=Gironde",
             "name": "Gironde",
             "normalized": "gironde",
             "parentHash": "db06f1d6088ec4f",
             "type": "state",
             "value": 34.17
            },
            "3f85bb5d775e1fc": {
             "href": "https://peps.cnes.fr/resto/api/collections/S2ST/search.json?&lang=en&q=INS-NOBS",
             "name": "INS-NOBS",
             "parentHash": "503f8f6199f3e44",
             "type": "sensorMode"
            },
            "429f9571d35a7f4": {
             "href": "https://peps.cnes.fr/resto/api/collections/S2ST/search.json?&lang=en&q=2018",
             "name": "2018",
             "type": "year"
            },
            "44b15c0a6e62129": {
             "href": "https://peps.cnes.fr/resto/api/collections/S2ST/search.json?&lang=en&q=LEVEL1C",
             "name": "LEVEL1C",
             "type": "processingLevel"
            },
            "45038f3c2322ea3": {
             "href": "https://peps.cnes.fr/resto/api/collections/S2ST/search.json?&lang=en&q=S2ST",
             "name": "S2ST",
             "type": "collection"
            },
            "4b1f69fd85f2eff": {
             "href": "https://peps.cnes.fr/resto/api/collections/S2ST/search.json?&lang=en&q=Lot-et-Garonne",
             "name": "Lot-et-Garonne",
             "normalized": "lot-et-garonne",
             "parentHash": "db06f1d6088ec4f",
             "type": "state",
             "value": 37.5
            },
            "503f8f6199f3e44": {
             "href": "https://peps.cnes.fr/resto/api/collections/S2ST/search.json?&lang=en&q=msi",
             "name": "msi",
             "parentHash": "afe9ad14455c260",
             "type": "instrument"
            },
            "6219554ecf5905c": {
             "href": "https://peps.cnes.fr/resto/api/collections/S2ST/search.json?&lang=en&q=S2MSI1C",
             "name": "S2MSI1C",
             "type": "productType"
            },
            "62d7a0087311a7e": {
             "href": "https://peps.cnes.fr/resto/api/collections/S2ST/search.json?&lang=en&q=27",
             "name": "27",
             "parentHash": "a5a24c795b91dd3",
             "type": "day"
            },
            "936bcbcf5c43fbd": {
             "href": "https://peps.cnes.fr/resto/api/collections/S2ST/search.json?&lang=en&q=France",
             "name": "France",
             "normalized": "france",
             "parentHash": "bce097de57d1ab7",
             "type": "country",
             "value": 99.99
            },
            "a0e4a10aa754ab4": {
             "href": "https://peps.cnes.fr/resto/api/collections/S2ST/search.json?&lang=en&q=Northern",
             "name": "Northern",
             "type": "location"
            },
            "a5a24c795b91dd3": {
             "href": "https://peps.cnes.fr/resto/api/collections/S2ST/search.json?&lang=en&q=November",
             "name": "November",
             "parentHash": "429f9571d35a7f4",
             "type": "month"
            },
            "adbd1cc9d2fe94b": {
             "href": "https://peps.cnes.fr/resto/api/collections/S2ST/search.json?&lang=en&q=Nominal",
             "name": "Nominal",
             "parentHash": "c0706bb19e22342",
             "type": "realtime"
            },
            "afe9ad14455c260": {
             "href": "https://peps.cnes.fr/resto/api/collections/S2ST/search.json?&lang=en&q=s2A",
             "name": "s2A",
             "type": "platform"
            },
            "bce097de57d1ab7": {
             "href": "https://peps.cnes.fr/resto/api/collections/S2ST/search.json?&lang=en&q=Europe",
             "name": "Europe",
             "normalized": "europe",
             "type": "continent"
            },
            "c0706bb19e22342": {
             "href": "https://peps.cnes.fr/resto/api/collections/S2ST/search.json?&lang=en&q=0",
             "name": "0",
             "type": "isNrt"
            },
            "c6319beaa1b6cdd": {
             "href": "https://peps.cnes.fr/resto/api/collections/S2ST/search.json?&lang=en&q=Tarn-et-Garonne",
             "name": "Tarn-et-Garonne",
             "normalized": "tarn-et-garonne",
             "parentHash": "fa018f4f7b20706",
             "type": "state",
             "value": 0.27
            },
            "db06f1d6088ec4f": {
             "href": "https://peps.cnes.fr/resto/api/collections/S2ST/search.json?&lang=en&q=Aquitaine",
             "name": "Aquitaine",
             "normalized": "aquitaine",
             "parentHash": "936bcbcf5c43fbd",
             "type": "region",
             "value": 99.58
            },
            "e8f96b7c46c0d54": {
             "href": "https://peps.cnes.fr/resto/api/collections/S2ST/search.json?&lang=en&q=Descending",
             "name": "Descending",
             "type": "orbitDirection"
            },
            "f0e6a6daa0e9f47": {
             "href": "https://peps.cnes.fr/resto/api/collections/S2ST/search.json?&lang=en&q=Poitou-Charentes",
             "name": "Poitou-Charentes",
             "normalized": "poitou-charentes",
             "parentHash": "936bcbcf5c43fbd",
             "type": "region",
             "value": 0.06
            },
            "f3221bcc6ca49ca": {
             "href": "https://peps.cnes.fr/resto/api/collections/S2ST/search.json?&lang=en&q=Autumn",
             "name": "Autumn",
             "type": "season"
            },
            "fa018f4f7b20706": {
             "href": "https://peps.cnes.fr/resto/api/collections/S2ST/search.json?&lang=en&q=Midi-Pyr%C3%A9n%C3%A9es",
             "name": "Midi-Pyrénées",
             "normalized": "midi-pyrenees",
             "parentHash": "936bcbcf5c43fbd",
             "type": "region",
             "value": 0.29
            }
           },
           "license": "proprietary",
           "links": [
            {
             "href": "https://peps.cnes.fr/resto/collections/S2ST/45600a2c-e4ec-51ad-8f9c-26cccc15a0d8.json?&lang=en",
             "rel": "alternate",
             "title": "GeoJSON link for 45600a2c-e4ec-51ad-8f9c-26cccc15a0d8",
             "type": "application/json"
            },
            {
             "href": "https://peps.cnes.fr/resto/collections/S2ST/45600a2c-e4ec-51ad-8f9c-26cccc15a0d8.atom?&lang=en",
             "rel": "alternate",
             "title": "ATOM link for 45600a2c-e4ec-51ad-8f9c-26cccc15a0d8",
             "type": "application/atom+xml"
            }
           ],
           "lowProbaClouds": null,
           "mediumProbaClouds": null,
           "mgrs": "30TYQ",
           "missionStartDate": "2015-06-23T00:00:00Z",
           "modificationDate": "2018-11-27T14:44:36.765Z",
           "newVersion": null,
           "orbitDirection": "descending",
           "orbitNumber": 17923,
           "organisationName": null,
           "parentIdentifier": "urn:ogc:def:EOP:ESA::SENTINEL-2:",
           "platform": "S2ST",
           "platformSerialIdentifier": "S2A",
           "processingLevel": "LEVEL1C",
           "productType": "S2MSI1C",
           "publicationDate": "2018-11-27T14:44:36.765Z",
           "quicklook": "https://peps.cnes.fr/quicklook/2018/11/27/S2A/S2A_MSIL1C_20181127T105401_N0207_R051_T30TYQ_20181127T112953_quicklook.jpg",
           "realtime": "Nominal",
           "relativeOrbitNumber": 51,
           "resolution": null,
           "resourceChecksum": "16542F742DE5608E50B1B66A79825730",
           "resourceSize": 840315711,
           "s2TakeId": "GS2A_20181127T105401_017923_N02.07",
           "sensorMode": "INS-NOBS",
           "sensorType": "OPTICAL",
           "services": {
            "browse": {
             "layer": {
              "layers": "",
              "type": "WMS",
              "url": "https://peps.cnes.fr/cgi-bin/mapserver?map=WMS_S2ST&data=2018/11/27/S2A/S2A_MSIL1C_20181127T105401_N0207_R051_T30TYQ_20181127T112953"
             },
             "title": "Display full resolution product on map"
            },
            "download": {
             "checksum": "16542F742DE5608E50B1B66A79825730",
             "mimeType": "application/zip",
             "size": 840315711,
             "url": "https://peps.cnes.fr/resto/collections/S2ST/45600a2c-e4ec-51ad-8f9c-26cccc15a0d8/download"
            }
           },
           "snowCover": null,
           "snowIce": null,
           "startTimeFromAscendingNode": "2018-11-27T10:54:01.024Z",
           "storage": {
            "mode": "tape"
           },
           "storageStatus": "OFFLINE",
           "thumbnail": null,
           "title": "S2A_MSIL1C_20181127T105401_N0207_R051_T30TYQ_20181127T112953",
           "uid": "45600a2c-e4ec-51ad-8f9c-26cccc15a0d8",
           "vegetation": null,
           "visible": 1,
           "water": null
          },
          "type": "Feature"
         },
         {
          "geometry": {
           "coordinates": [
            [
             [
              2.7706949780228,
              43.351088830181
             ],
             [
              1.7656944498199,
              43.346194685302
             ],
             [
              1.785227256909,
              42.357636308559
             ],
             [
              2.3871859054148,
              42.360514200906
             ],
             [
              2.4107885432272,
              42.423862041785
             ],
             [
              2.4675091017647,
              42.56959537332
             ],
             [
              2.5245562459277,
              42.715287523965
             ],
             [
              2.581497743658,
              42.860944899996
             ],
             [
              2.6372979824473,
              43.006856548018
             ],
             [
              2.6943815794826,
              43.152444961159
             ],
             [
              2.7506980948172,
              43.298161706033
             ],
             [
              2.7706949780228,
              43.351088830181
             ]
            ]
           ],
           "type": "Polygon"
          },
          "id": "S2A_MSIL1C_20181127T105401_N0207_R051_T31TDH_20181127T112953",
          "properties": {
           "abstract": null,
           "bands": [
            {
             "center_wavelength": 0.4439,
             "common_name": "coastal",
             "full_width_half_max": 0.027,
             "gsd": 60,
             "name": "B01"
            },
            {
             "center_wavelength": 0.4966,
             "common_name": "blue",
             "full_width_half_max": 0.098,
             "gsd": 10,
             "name": "B02"
            },
            {
             "center_wavelength": 0.56,
             "common_name": "green",
             "full_width_half_max": 0.045,
             "gsd": 10,
             "name": "B03"
            },
            {
             "center_wavelength": 0.6645,
             "common_name": "red",
             "full_width_half_max": 0.038,
             "gsd": 10,
             "name": "B04"
            },
            {
             "center_wavelength": 0.7039,
             "full_width_half_max": 0.019,
             "gsd": 20,
             "name": "B05"
            },
            {
             "center_wavelength": 0.7402,
             "full_width_half_max": 0.018,
             "gsd": 20,
             "name": "B06"
            },
            {
             "center_wavelength": 0.7825,
             "full_width_half_max": 0.028,
             "gsd": 20,
             "name": "B07"
            },
            {
             "center_wavelength": 0.8351,
             "common_name": "nir",
             "full_width_half_max": 0.145,
             "gsd": 10,
             "name": "B08"
            },
            {
             "center_wavelength": 0.8648,
             "full_width_half_max": 0.033,
             "gsd": 20,
             "name": "B8A"
            },
            {
             "center_wavelength": 0.945,
             "full_width_half_max": 0.026,
             "gsd": 60,
             "name": "B09"
            },
            {
             "center_wavelength": 0.13735,
             "common_name": "cirrus",
             "full_width_half_max": 0.075,
             "gsd": 60,
             "name": "B10"
            },
            {
             "center_wavelength": 0.16137,
             "common_name": "swir16",
             "full_width_half_max": 0.075,
             "gsd": 20,
             "name": "B11"
            },
            {
             "center_wavelength": 0.22024,
             "common_name": "swir22",
             "full_width_half_max": 0.242,
             "gsd": 20,
             "name": "B12"
            }
           ],
           "bareSoil": null,
           "cloudCover": 2.0171,
           "completionTimeFromAscendingNode": "2018-11-27T10:54:01.024Z",
           "creationDate": "2018-11-27T14:52:55.467Z",
           "downloadLink": "https://peps.cnes.fr/resto/collections/S2ST/53ecef7c-3c5f-5218-b362-decd755c7318/download",
           "eodag_product_type": "S2_MSI_L1C",
           "eodag_provider": "peps",
           "eodag_search_intersection": {
            "coordinates": [
             [
              [
               1.7725348693260854,
               43
              ],
              [
               1.7656944498199,
               43.346194685302
              ],
              [
               2,
               43.34733570490981
              ],
              [
               2,
               43
              ],
              [
               1.7725348693260854,
               43
              ]
             ]
            ],
            "type": "Polygon"
           },
           "highProbaClouds": null,
           "instrument": "MSI",
           "isNrt": 0,
           "keyword": {
            "3655904d8935c83": {
             "href": "https://peps.cnes.fr/resto/api/collections/S2ST/search.json?&lang=en&q=Pyr%C3%A9n%C3%A9es-Orientales",
             "name": "Pyrénées-Orientales",
             "normalized": "pyrenees-orientales",
             "parentHash": "455ae3d75f982e8",
             "type": "state",
             "value": 24.18
            },
            "3f85bb5d775e1fc": {
             "href": "https://peps.cnes.fr/resto/api/collections/S2ST/search.json?&lang=en&q=INS-NOBS",
             "name": "INS-NOBS",
             "parentHash": "503f8f6199f3e44",
             "type": "sensorMode"
            },
            "429f9571d35a7f4": {
             "href": "https://peps.cnes.fr/resto/api/collections/S2ST/search.json?&lang=en&q=2018",
             "name": "2018",
             "type": "year"
            },
            "44b15c0a6e62129": {
             "href": "https://peps.cnes.fr/resto/api/collections/S2ST/search.json?&lang=en&q=LEVEL1C",
             "name": "LEVEL1C",
             "type": "processingLevel"
            },
            "45038f3c2322ea3": {
             "href": "https://peps.cnes.fr/resto/api/collections/S2ST/search.json?&lang=en&q=S2ST",
             "name": "S2ST",
             "type": "collection"
            },
            "455ae3d75f982e8": {
             "href": "https://peps.cnes.fr/resto/api/collections/S2ST/search.json?&lang=en&q=Languedoc-Roussillon",
             "name": "Languedoc-Roussillon",
             "normalized": "languedoc-roussillon",
             "parentHash": "936bcbcf5c43fbd",
             "type": "region",
             "value": 81.55
            },
            "4562ae7650b1934": {
             "href": "https://peps.cnes.fr/resto/api/collections/S2ST/search.json?&lang=en&q=H%C3%A9rault",
             "name": "Hérault",
             "normalized": "herault",
             "parentHash": "455ae3d75f982e8",
             "type": "state",
             "value": 1.21
            },
            "503f8f6199f3e44": {
             "href": "https://peps.cnes.fr/resto/api/collections/S2ST/search.json?&lang=en&q=msi",
             "name": "msi",
             "parentHash": "afe9ad14455c260",
             "type": "instrument"
            },
            "6219554ecf5905c": {
             "href": "https://peps.cnes.fr/resto/api/collections/S2ST/search.json?&lang=en&q=S2MSI1C",
             "name": "S2MSI1C",
             "type": "productType"
            },
            "62d7a0087311a7e": {
             "href": "https://peps.cnes.fr/resto/api/collections/S2ST/search.json?&lang=en&q=27",
             "name": "27",
             "parentHash": "a5a24c795b91dd3",
             "type": "day"
            },
            "638f34fab02f39d": {
             "href": "https://peps.cnes.fr/resto/api/collections/S2ST/search.json?&lang=en&q=Haute-Garonne",
             "name": "Haute-Garonne",
             "normalized": "haute-garonne",
             "parentHash": "fa018f4f7b20706",
             "type": "state",
             "value": 0.06
            },
            "70db2751c3c6c3d": {
             "href": "https://peps.cnes.fr/resto/api/collections/S2ST/search.json?&lang=en&q=Aude",
             "name": "Aude",
             "normalized": "aude",
             "parentHash": "455ae3d75f982e8",
             "type": "state",
             "value": 56.23
            },
            "936bcbcf5c43fbd": {
             "href": "https://peps.cnes.fr/resto/api/collections/S2ST/search.json?&lang=en&q=France",
             "name": "France",
             "normalized": "france",
             "parentHash": "bce097de57d1ab7",
             "type": "country",
             "value": 95.83
            },
            "9e8d9cf11d4f170": {
             "href": "https://peps.cnes.fr/resto/api/collections/S2ST/search.json?&lang=en&q=Gerona",
             "name": "Gerona",
             "normalized": "gerona",
             "parentHash": "a5eef88d9f8ffa2",
             "type": "state",
             "value": 3.93
            },
            "a0e4a10aa754ab4": {
             "href": "https://peps.cnes.fr/resto/api/collections/S2ST/search.json?&lang=en&q=Northern",
             "name": "Northern",
             "type": "location"
            },
            "a5a24c795b91dd3": {
             "href": "https://peps.cnes.fr/resto/api/collections/S2ST/search.json?&lang=en&q=November",
             "name": "November",
             "parentHash": "429f9571d35a7f4",
             "type": "month"
            },
            "a5eef88d9f8ffa2": {
             "href": "https://peps.cnes.fr/resto/api/collections/S2ST/search.json?&lang=en&q=Catalu%C3%B1a",
             "name": "Cataluña",
             "normalized": "cataluna",
             "parentHash": "e95d1eb633b4dd1",
             "type": "region",
             "value": 4.32
            },
            "adbd1cc9d2fe94b": {
             "href": "https://peps.cnes.fr/resto/api/collections/S2ST/search.json?&lang=en&q=Nominal",
             "name": "Nominal",
             "parentHash": "c0706bb19e22342",
             "type": "realtime"
            },
            "afe9ad14455c260": {
             "href": "https://peps.cnes.fr/resto/api/collections/S2ST/search.json?&lang=en&q=s2A",
             "name": "s2A",
             "type": "platform"
            },
            "b9f5eec8dcb2cb5": {
             "href": "https://peps.cnes.fr/resto/api/collections/S2ST/search.json?&lang=en&q=Ari%C3%A8ge",
             "name": "Ariège",
             "normalized": "ariege",
             "parentHash": "fa018f4f7b20706",
             "type": "state",
             "value": 14.07
            },
            "bce097de57d1ab7": {
             "href": "https://peps.cnes.fr/resto/api/collections/S2ST/search.json?&lang=en&q=Europe",
             "name": "Europe",
             "normalized": "europe",
             "type": "continent"
            },
            "c0706bb19e22342": {
             "href": "https://peps.cnes.fr/resto/api/collections/S2ST/search.json?&lang=en&q=0",
             "name": "0",
             "type": "isNrt"
            },
            "da8f2bebc0fe455": {
             "href": "https://peps.cnes.fr/resto/api/collections/S2ST/search.json?&lang=en&q=L%C3%A9rida",
             "name": "Lérida",
             "normalized": "lerida",
             "parentHash": "a5eef88d9f8ffa2",
             "type": "state",
             "value": 0.24
            },
            "e8f96b7c46c0d54": {
             "href": "https://peps.cnes.fr/resto/api/collections/S2ST/search.json?&lang=en&q=Descending",
             "name": "Descending",
             "type": "orbitDirection"
            },
            "e95d1eb633b4dd1": {
             "href": "https://peps.cnes.fr/resto/api/collections/S2ST/search.json?&lang=en&q=Spain",
             "name": "Spain",
             "normalized": "spain",
             "parentHash": "bce097de57d1ab7",
             "type": "country",
             "value": 4.18
            },
            "f3221bcc6ca49ca": {
             "href": "https://peps.cnes.fr/resto/api/collections/S2ST/search.json?&lang=en&q=Autumn",
             "name": "Autumn",
             "type": "season"
            },
            "fa018f4f7b20706": {
             "href": "https://peps.cnes.fr/resto/api/collections/S2ST/search.json?&lang=en&q=Midi-Pyr%C3%A9n%C3%A9es",
             "name": "Midi-Pyrénées",
             "normalized": "midi-pyrenees",
             "parentHash": "936bcbcf5c43fbd",
             "type": "region",
             "value": 14.17
            }
           },
           "license": "proprietary",
           "links": [
            {
             "href": "https://peps.cnes.fr/resto/collections/S2ST/53ecef7c-3c5f-5218-b362-decd755c7318.json?&lang=en",
             "rel": "alternate",
             "title": "GeoJSON link for 53ecef7c-3c5f-5218-b362-decd755c7318",
             "type": "application/json"
            },
            {
             "href": "https://peps.cnes.fr/resto/collections/S2ST/53ecef7c-3c5f-5218-b362-decd755c7318.atom?&lang=en",
             "rel": "alternate",
             "title": "ATOM link for 53ecef7c-3c5f-5218-b362-decd755c7318",
             "type": "application/atom+xml"
            }
           ],
           "lowProbaClouds": null,
           "mediumProbaClouds": null,
           "mgrs": "31TDH",
           "missionStartDate": "2015-06-23T00:00:00Z",
           "modificationDate": "2018-11-27T15:00:41.843Z",
           "newVersion": null,
           "orbitDirection": "descending",
           "orbitNumber": 17923,
           "organisationName": null,
           "parentIdentifier": "urn:ogc:def:EOP:ESA::SENTINEL-2:",
           "platform": "S2ST",
           "platformSerialIdentifier": "S2A",
           "processingLevel": "LEVEL1C",
           "productType": "S2MSI1C",
           "publicationDate": "2018-11-27T15:00:41.843Z",
           "quicklook": "https://peps.cnes.fr/quicklook/2018/11/27/S2A/S2A_MSIL1C_20181127T105401_N0207_R051_T31TDH_20181127T112953_quicklook.jpg",
           "realtime": "Nominal",
           "relativeOrbitNumber": 51,
           "resolution": null,
           "resourceChecksum": "CB0E8A66328FE882E2933E4B9B176D97",
           "resourceSize": 548352460,
           "s2TakeId": "GS2A_20181127T105401_017923_N02.07",
           "sensorMode": "INS-NOBS",
           "sensorType": "OPTICAL",
           "services": {
            "browse": {
             "layer": {
              "layers": "",
              "type": "WMS",
              "url": "https://peps.cnes.fr/cgi-bin/mapserver?map=WMS_S2ST&data=2018/11/27/S2A/S2A_MSIL1C_20181127T105401_N0207_R051_T31TDH_20181127T112953"
             },
             "title": "Display full resolution product on map"
            },
            "download": {
             "checksum": "CB0E8A66328FE882E2933E4B9B176D97",
             "mimeType": "application/zip",
             "size": 548352460,
             "url": "https://peps.cnes.fr/resto/collections/S2ST/53ecef7c-3c5f-5218-b362-decd755c7318/download"
            }
           },
           "snowCover": null,
           "snowIce": null,
           "startTimeFromAscendingNode": "2018-11-27T10:54:01.024Z",
           "storage": {
            "mode": "disk"
           },
           "storageStatus": "ONLINE",
           "thumbnail": null,
           "title": "S2A_MSIL1C_20181127T105401_N0207_R051_T31TDH_20181127T112953",
           "uid": "53ecef7c-3c5f-5218-b362-decd755c7318",
           "vegetation": null,
           "visible": 1,
           "water": null
          },
          "type": "Feature"
         },
         {
          "geometry": {
           "coordinates": [
            [
             [
              -0.53372189999999,
              43.326256971778
             ],
             [
              -0.57269289999999,
              42.338372101891
             ],
             [
              0.75785844532151,
              42.302451615552
             ],
             [
              0.81812370368638,
              43.289081799159
             ],
             [
              -0.53372189999999,
              43.326256971778
             ]
            ]
           ],
           "type": "Polygon"
          },
          "id": "S2A_MSIL1C_20181127T105401_N0207_R051_T30TYN_20181127T112953",
          "properties": {
           "abstract": null,
           "bands": [
            {
             "center_wavelength": 0.4439,
             "common_name": "coastal",
             "full_width_half_max": 0.027,
             "gsd": 60,
             "name": "B01"
            },
            {
             "center_wavelength": 0.4966,
             "common_name": "blue",
             "full_width_half_max": 0.098,
             "gsd": 10,
             "name": "B02"
            },
            {
             "center_wavelength": 0.56,
             "common_name": "green",
             "full_width_half_max": 0.045,
             "gsd": 10,
             "name": "B03"
            },
            {
             "center_wavelength": 0.6645,
             "common_name": "red",
             "full_width_half_max": 0.038,
             "gsd": 10,
             "name": "B04"
            },
            {
             "center_wavelength": 0.7039,
             "full_width_half_max": 0.019,
             "gsd": 20,
             "name": "B05"
            },
            {
             "center_wavelength": 0.7402,
             "full_width_half_max": 0.018,
             "gsd": 20,
             "name": "B06"
            },
            {
             "center_wavelength": 0.7825,
             "full_width_half_max": 0.028,
             "gsd": 20,
             "name": "B07"
            },
            {
             "center_wavelength": 0.8351,
             "common_name": "nir",
             "full_width_half_max": 0.145,
             "gsd": 10,
             "name": "B08"
            },
            {
             "center_wavelength": 0.8648,
             "full_width_half_max": 0.033,
             "gsd": 20,
             "name": "B8A"
            },
            {
             "center_wavelength": 0.945,
             "full_width_half_max": 0.026,
             "gsd": 60,
             "name": "B09"
            },
            {
             "center_wavelength": 0.13735,
             "common_name": "cirrus",
             "full_width_half_max": 0.075,
             "gsd": 60,
             "name": "B10"
            },
            {
             "center_wavelength": 0.16137,
             "common_name": "swir16",
             "full_width_half_max": 0.075,
             "gsd": 20,
             "name": "B11"
            },
            {
             "center_wavelength": 0.22024,
             "common_name": "swir22",
             "full_width_half_max": 0.242,
             "gsd": 20,
             "name": "B12"
            }
           ],
           "bareSoil": null,
           "cloudCover": 12.6659,
           "completionTimeFromAscendingNode": "2018-11-27T10:54:01.024Z",
           "creationDate": "2018-11-27T14:40:00.484Z",
           "downloadLink": "https://peps.cnes.fr/resto/collections/S2ST/6fd136fd-d43b-59ac-95db-d38195672363/download",
           "eodag_product_type": "S2_MSI_L1C",
           "eodag_provider": "peps",
           "eodag_search_intersection": {
            "coordinates": [
             [
              [
               0,
               43.31157984910294
              ],
              [
               0.81812370368638,
               43.289081799159
              ],
              [
               0.8004660345775683,
               43
              ],
              [
               0,
               43
              ],
              [
               0,
               43.31157984910294
              ]
             ]
            ],
            "type": "Polygon"
           },
           "highProbaClouds": null,
           "instrument": "MSI",
           "isNrt": 0,
           "keyword": {
            "3f85bb5d775e1fc": {
             "href": "https://peps.cnes.fr/resto/api/collections/S2ST/search.json?&lang=en&q=INS-NOBS",
             "name": "INS-NOBS",
             "parentHash": "503f8f6199f3e44",
             "type": "sensorMode"
            },
            "429f9571d35a7f4": {
             "href": "https://peps.cnes.fr/resto/api/collections/S2ST/search.json?&lang=en&q=2018",
             "name": "2018",
             "type": "year"
            },
            "44b15c0a6e62129": {
             "href": "https://peps.cnes.fr/resto/api/collections/S2ST/search.json?&lang=en&q=LEVEL1C",
             "name": "LEVEL1C",
             "type": "processingLevel"
            },
            "45038f3c2322ea3": {
             "href": "https://peps.cnes.fr/resto/api/collections/S2ST/search.json?&lang=en&q=S2ST",
             "name": "S2ST",
             "type": "collection"
            },
            "503f8f6199f3e44": {
             "href": "https://peps.cnes.fr/resto/api/collections/S2ST/search.json?&lang=en&q=msi",
             "name": "msi",
             "parentHash": "afe9ad14455c260",
             "type": "instrument"
            },
            "6219554ecf5905c": {
             "href": "https://peps.cnes.fr/resto/api/collections/S2ST/search.json?&lang=en&q=S2MSI1C",
             "name": "S2MSI1C",
             "type": "productType"
            },
            "62d7a0087311a7e": {
             "href": "https://peps.cnes.fr/resto/api/collections/S2ST/search.json?&lang=en&q=27",
             "name": "27",
             "parentHash": "a5a24c795b91dd3",
             "type": "day"
            },
            "638f34fab02f39d": {
             "href": "https://peps.cnes.fr/resto/api/collections/S2ST/search.json?&lang=en&q=Haute-Garonne",
             "name": "Haute-Garonne",
             "normalized": "haute-garonne",
             "parentHash": "fa018f4f7b20706",
             "type": "state",
             "value": 10.69
            },
            "936bcbcf5c43fbd": {
             "href": "https://peps.cnes.fr/resto/api/collections/S2ST/search.json?&lang=en&q=France",
             "name": "France",
             "normalized": "france",
             "parentHash": "bce097de57d1ab7",
             "type": "country",
             "value": 57.18
            },
            "a0e4a10aa754ab4": {
             "href": "https://peps.cnes.fr/resto/api/collections/S2ST/search.json?&lang=en&q=Northern",
             "name": "Northern",
             "type": "location"
            },
            "a0ee1300cfffc4d": {
             "href": "https://peps.cnes.fr/resto/api/collections/S2ST/search.json?&lang=en&q=Hautes-Pyr%C3%A9n%C3%A9es",
             "name": "Hautes-Pyrénées",
             "normalized": "hautes-pyrenees",
             "parentHash": "fa018f4f7b20706",
             "type": "state",
             "value": 32.81
            },
            "a5a24c795b91dd3": {
             "href": "https://peps.cnes.fr/resto/api/collections/S2ST/search.json?&lang=en&q=November",
             "name": "November",
             "parentHash": "429f9571d35a7f4",
             "type": "month"
            },
            "a5eef88d9f8ffa2": {
             "href": "https://peps.cnes.fr/resto/api/collections/S2ST/search.json?&lang=en&q=Catalu%C3%B1a",
             "name": "Cataluña",
             "normalized": "cataluna",
             "parentHash": "e95d1eb633b4dd1",
             "type": "region",
             "value": 2.67
            },
            "adbd1cc9d2fe94b": {
             "href": "https://peps.cnes.fr/resto/api/collections/S2ST/search.json?&lang=en&q=Nominal",
             "name": "Nominal",
             "parentHash": "c0706bb19e22342",
             "type": "realtime"
            },
            "afe9ad14455c260": {
             "href": "https://peps.cnes.fr/resto/api/collections/S2ST/search.json?&lang=en&q=s2A",
             "name": "s2A",
             "type": "platform"
            },
            "bce097de57d1ab7": {
             "href": "https://peps.cnes.fr/resto/api/collections/S2ST/search.json?&lang=en&q=Europe",
             "name": "Europe",
             "normalized": "europe",
             "type": "continent"
            },
            "c0706bb19e22342": {
             "href": "https://peps.cnes.fr/resto/api/collections/S2ST/search.json?&lang=en&q=0",
             "name": "0",
             "type": "isNrt"
            },
            "d4d5543bfdf20e1": {
             "href": "https://peps.cnes.fr/resto/api/collections/S2ST/search.json?&lang=en&q=Arag%C3%B3n",
             "name": "Aragón",
             "normalized": "aragon",
             "parentHash": "e95d1eb633b4dd1",
             "type": "region",
             "value": 40.19
            },
            "d5a7d91bc589eaf": {
             "href": "https://peps.cnes.fr/resto/api/collections/S2ST/search.json?&lang=en&q=Pyr%C3%A9n%C3%A9es-Atlantiques",
             "name": "Pyrénées-Atlantiques",
             "normalized": "pyrenees-atlantiques",
             "parentHash": "db06f1d6088ec4f",
             "type": "state",
             "value": 13.56
            },
            "da8f2bebc0fe455": {
             "href": "https://peps.cnes.fr/resto/api/collections/S2ST/search.json?&lang=en&q=L%C3%A9rida",
             "name": "Lérida",
             "normalized": "lerida",
             "parentHash": "a5eef88d9f8ffa2",
             "type": "state",
             "value": 2.61
            },
            "db06f1d6088ec4f": {
             "href": "https://peps.cnes.fr/resto/api/collections/S2ST/search.json?&lang=en&q=Aquitaine",
             "name": "Aquitaine",
             "normalized": "aquitaine",
             "parentHash": "936bcbcf5c43fbd",
             "type": "region",
             "value": 13.62
            },
            "e710bcc83eae505": {
             "href": "https://peps.cnes.fr/resto/api/collections/S2ST/search.json?&lang=en&q=Huesca",
             "name": "Huesca",
             "normalized": "huesca",
             "parentHash": "d4d5543bfdf20e1",
             "type": "state",
             "value": 40.2
            },
            "e8f96b7c46c0d54": {
             "href": "https://peps.cnes.fr/resto/api/collections/S2ST/search.json?&lang=en&q=Descending",
             "name": "Descending",
             "type": "orbitDirection"
            },
            "e95d1eb633b4dd1": {
             "href": "https://peps.cnes.fr/resto/api/collections/S2ST/search.json?&lang=en&q=Spain",
             "name": "Spain",
             "normalized": "spain",
             "parentHash": "bce097de57d1ab7",
             "type": "country",
             "value": 42.81
            },
            "f3221bcc6ca49ca": {
             "href": "https://peps.cnes.fr/resto/api/collections/S2ST/search.json?&lang=en&q=Autumn",
             "name": "Autumn",
             "type": "season"
            },
            "fa018f4f7b20706": {
             "href": "https://peps.cnes.fr/resto/api/collections/S2ST/search.json?&lang=en&q=Midi-Pyr%C3%A9n%C3%A9es",
             "name": "Midi-Pyrénées",
             "normalized": "midi-pyrenees",
             "parentHash": "936bcbcf5c43fbd",
             "type": "region",
             "value": 43.45
            }
           },
           "license": "proprietary",
           "links": [
            {
             "href": "https://peps.cnes.fr/resto/collections/S2ST/6fd136fd-d43b-59ac-95db-d38195672363.json?&lang=en",
             "rel": "alternate",
             "title": "GeoJSON link for 6fd136fd-d43b-59ac-95db-d38195672363",
             "type": "application/json"
            },
            {
             "href": "https://peps.cnes.fr/resto/collections/S2ST/6fd136fd-d43b-59ac-95db-d38195672363.atom?&lang=en",
             "rel": "alternate",
             "title": "ATOM link for 6fd136fd-d43b-59ac-95db-d38195672363",
             "type": "application/atom+xml"
            }
           ],
           "lowProbaClouds": null,
           "mediumProbaClouds": null,
           "mgrs": "30TYN",
           "missionStartDate": "2015-06-23T00:00:00Z",
           "modificationDate": "2018-11-27T14:48:00.022Z",
           "newVersion": null,
           "orbitDirection": "descending",
           "orbitNumber": 17923,
           "organisationName": null,
           "parentIdentifier": "urn:ogc:def:EOP:ESA::SENTINEL-2:",
           "platform": "S2ST",
           "platformSerialIdentifier": "S2A",
           "processingLevel": "LEVEL1C",
           "productType": "S2MSI1C",
           "publicationDate": "2018-11-27T14:48:00.022Z",
           "quicklook": "https://peps.cnes.fr/quicklook/2018/11/27/S2A/S2A_MSIL1C_20181127T105401_N0207_R051_T30TYN_20181127T112953_quicklook.jpg",
           "realtime": "Nominal",
           "relativeOrbitNumber": 51,
           "resolution": null,
           "resourceChecksum": "35FC01AE1302E6573D0C29C8E2055887",
           "resourceSize": 882913874,
           "s2TakeId": "GS2A_20181127T105401_017923_N02.07",
           "sensorMode": "INS-NOBS",
           "sensorType": "OPTICAL",
           "services": {
            "browse": {
             "layer": {
              "layers": "",
              "type": "WMS",
              "url": "https://peps.cnes.fr/cgi-bin/mapserver?map=WMS_S2ST&data=2018/11/27/S2A/S2A_MSIL1C_20181127T105401_N0207_R051_T30TYN_20181127T112953"
             },
             "title": "Display full resolution product on map"
            },
            "download": {
             "checksum": "35FC01AE1302E6573D0C29C8E2055887",
             "mimeType": "application/zip",
             "size": 882913874,
             "url": "https://peps.cnes.fr/resto/collections/S2ST/6fd136fd-d43b-59ac-95db-d38195672363/download"
            }
           },
           "snowCover": null,
           "snowIce": null,
           "startTimeFromAscendingNode": "2018-11-27T10:54:01.024Z",
           "storage": {
            "mode": "tape"
           },
           "storageStatus": "OFFLINE",
           "thumbnail": null,
           "title": "S2A_MSIL1C_20181127T105401_N0207_R051_T30TYN_20181127T112953",
           "uid": "6fd136fd-d43b-59ac-95db-d38195672363",
           "vegetation": null,
           "visible": 1,
           "water": null
          },
          "type": "Feature"
         },
         {
          "geometry": {
           "coordinates": [
            [
             [
              3.1222315145732,
              44.240984985294
             ],
             [
              3.1222564908653,
              44.253352160972
             ],
             [
              1.7470182542909,
              44.246545441412
             ],
             [
              1.7674745987137,
              43.25815001081
             ],
             [
              2.7370562802605,
              43.262864053123
             ],
             [
              2.7506980948172,
              43.298161706033
             ],
             [
              2.8058873025152,
              43.444234772393
             ],
             [
              2.8625370866291,
              43.590038537851
             ],
             [
              2.9198323695786,
              43.735891737022
             ],
             [
              2.9788500516044,
              43.88143559036
             ],
             [
              3.0365609649561,
              44.027397747001
             ],
             [
              3.0954356037936,
              44.172982188075
             ],
             [
              3.1222315145732,
              44.240984985294
             ]
            ]
           ],
           "type": "Polygon"
          },
          "id": "S2A_MSIL1C_20181127T105401_N0207_R051_T31TDJ_20181127T112953",
          "properties": {
           "abstract": null,
           "bands": [
            {
             "center_wavelength": 0.4439,
             "common_name": "coastal",
             "full_width_half_max": 0.027,
             "gsd": 60,
             "name": "B01"
            },
            {
             "center_wavelength": 0.4966,
             "common_name": "blue",
             "full_width_half_max": 0.098,
             "gsd": 10,
             "name": "B02"
            },
            {
             "center_wavelength": 0.56,
             "common_name": "green",
             "full_width_half_max": 0.045,
             "gsd": 10,
             "name": "B03"
            },
            {
             "center_wavelength": 0.6645,
             "common_name": "red",
             "full_width_half_max": 0.038,
             "gsd": 10,
             "name": "B04"
            },
            {
             "center_wavelength": 0.7039,
             "full_width_half_max": 0.019,
             "gsd": 20,
             "name": "B05"
            },
            {
             "center_wavelength": 0.7402,
             "full_width_half_max": 0.018,
             "gsd": 20,
             "name": "B06"
            },
            {
             "center_wavelength": 0.7825,
             "full_width_half_max": 0.028,
             "gsd": 20,
             "name": "B07"
            },
            {
             "center_wavelength": 0.8351,
             "common_name": "nir",
             "full_width_half_max": 0.145,
             "gsd": 10,
             "name": "B08"
            },
            {
             "center_wavelength": 0.8648,
             "full_width_half_max": 0.033,
             "gsd": 20,
             "name": "B8A"
            },
            {
             "center_wavelength": 0.945,
             "full_width_half_max": 0.026,
             "gsd": 60,
             "name": "B09"
            },
            {
             "center_wavelength": 0.13735,
             "common_name": "cirrus",
             "full_width_half_max": 0.075,
             "gsd": 60,
             "name": "B10"
            },
            {
             "center_wavelength": 0.16137,
             "common_name": "swir16",
             "full_width_half_max": 0.075,
             "gsd": 20,
             "name": "B11"
            },
            {
             "center_wavelength": 0.22024,
             "common_name": "swir22",
             "full_width_half_max": 0.242,
             "gsd": 20,
             "name": "B12"
            }
           ],
           "bareSoil": null,
           "cloudCover": 46.7477,
           "completionTimeFromAscendingNode": "2018-11-27T10:54:01.024Z",
           "creationDate": "2018-11-27T14:53:10.948Z",
           "downloadLink": "https://peps.cnes.fr/resto/collections/S2ST/7c1caf54-307f-5a7a-84c0-9449c800e0e2/download",
           "eodag_product_type": "S2_MSI_L1C",
           "eodag_provider": "peps",
           "eodag_search_intersection": {
            "coordinates": [
             [
              [
               2,
               43.25928053400508
              ],
              [
               1.7674745987137,
               43.25815001081
              ],
              [
               1.7470182542909,
               44.246545441412
              ],
              [
               2,
               44.24779757049847
              ],
              [
               2,
               43.25928053400508
              ]
             ]
            ],
            "type": "Polygon"
           },
           "highProbaClouds": null,
           "instrument": "MSI",
           "isNrt": 0,
           "keyword": {
            "3f85bb5d775e1fc": {
             "href": "https://peps.cnes.fr/resto/api/collections/S2ST/search.json?&lang=en&q=INS-NOBS",
             "name": "INS-NOBS",
             "parentHash": "503f8f6199f3e44",
             "type": "sensorMode"
            },
            "429f9571d35a7f4": {
             "href": "https://peps.cnes.fr/resto/api/collections/S2ST/search.json?&lang=en&q=2018",
             "name": "2018",
             "type": "year"
            },
            "44b15c0a6e62129": {
             "href": "https://peps.cnes.fr/resto/api/collections/S2ST/search.json?&lang=en&q=LEVEL1C",
             "name": "LEVEL1C",
             "type": "processingLevel"
            },
            "45038f3c2322ea3": {
             "href": "https://peps.cnes.fr/resto/api/collections/S2ST/search.json?&lang=en&q=S2ST",
             "name": "S2ST",
             "type": "collection"
            },
            "455ae3d75f982e8": {
             "href": "https://peps.cnes.fr/resto/api/collections/S2ST/search.json?&lang=en&q=Languedoc-Roussillon",
             "name": "Languedoc-Roussillon",
             "normalized": "languedoc-roussillon",
             "parentHash": "936bcbcf5c43fbd",
             "type": "region",
             "value": 16.86
            },
            "4562ae7650b1934": {
             "href": "https://peps.cnes.fr/resto/api/collections/S2ST/search.json?&lang=en&q=H%C3%A9rault",
             "name": "Hérault",
             "normalized": "herault",
             "parentHash": "455ae3d75f982e8",
             "type": "state",
             "value": 5.83
            },
            "503f8f6199f3e44": {
             "href": "https://peps.cnes.fr/resto/api/collections/S2ST/search.json?&lang=en&q=msi",
             "name": "msi",
             "parentHash": "afe9ad14455c260",
             "type": "instrument"
            },
            "6219554ecf5905c": {
             "href": "https://peps.cnes.fr/resto/api/collections/S2ST/search.json?&lang=en&q=S2MSI1C",
             "name": "S2MSI1C",
             "type": "productType"
            },
            "62d7a0087311a7e": {
             "href": "https://peps.cnes.fr/resto/api/collections/S2ST/search.json?&lang=en&q=27",
             "name": "27",
             "parentHash": "a5a24c795b91dd3",
             "type": "day"
            },
            "638f34fab02f39d": {
             "href": "https://peps.cnes.fr/resto/api/collections/S2ST/search.json?&lang=en&q=Haute-Garonne",
             "name": "Haute-Garonne",
             "normalized": "haute-garonne",
             "parentHash": "fa018f4f7b20706",
             "type": "state",
             "value": 3.11
            },
            "70db2751c3c6c3d": {
             "href": "https://peps.cnes.fr/resto/api/collections/S2ST/search.json?&lang=en&q=Aude",
             "name": "Aude",
             "normalized": "aude",
             "parentHash": "455ae3d75f982e8",
             "type": "state",
             "value": 11.03
            },
            "936bcbcf5c43fbd": {
             "href": "https://peps.cnes.fr/resto/api/collections/S2ST/search.json?&lang=en&q=France",
             "name": "France",
             "normalized": "france",
             "parentHash": "bce097de57d1ab7",
             "type": "country",
             "value": 99.99
            },
            "a0e4a10aa754ab4": {
             "href": "https://peps.cnes.fr/resto/api/collections/S2ST/search.json?&lang=en&q=Northern",
             "name": "Northern",
             "type": "location"
            },
            "a507bd46cbf5398": {
             "href": "https://peps.cnes.fr/resto/api/collections/S2ST/search.json?&lang=en&q=Aveyron",
             "name": "Aveyron",
             "normalized": "aveyron",
             "parentHash": "fa018f4f7b20706",
             "type": "state",
             "value": 26.99
            },
            "a5a24c795b91dd3": {
             "href": "https://peps.cnes.fr/resto/api/collections/S2ST/search.json?&lang=en&q=November",
             "name": "November",
             "parentHash": "429f9571d35a7f4",
             "type": "month"
            },
            "adbd1cc9d2fe94b": {
             "href": "https://peps.cnes.fr/resto/api/collections/S2ST/search.json?&lang=en&q=Nominal",
             "name": "Nominal",
             "parentHash": "c0706bb19e22342",
             "type": "realtime"
            },
            "afe9ad14455c260": {
             "href": "https://peps.cnes.fr/resto/api/collections/S2ST/search.json?&lang=en&q=s2A",
             "name": "s2A",
             "type": "platform"
            },
            "bce097de57d1ab7": {
             "href": "https://peps.cnes.fr/resto/api/collections/S2ST/search.json?&lang=en&q=Europe",
             "name": "Europe",
             "normalized": "europe",
             "type": "continent"
            },
            "c0706bb19e22342": {
             "href": "https://peps.cnes.fr/resto/api/collections/S2ST/search.json?&lang=en&q=0",
             "name": "0",
             "type": "isNrt"
            },
            "c6319beaa1b6cdd": {
             "href": "https://peps.cnes.fr/resto/api/collections/S2ST/search.json?&lang=en&q=Tarn-et-Garonne",
             "name": "Tarn-et-Garonne",
             "normalized": "tarn-et-garonne",
             "parentHash": "fa018f4f7b20706",
             "type": "state",
             "value": 1.79
            },
            "e8f96b7c46c0d54": {
             "href": "https://peps.cnes.fr/resto/api/collections/S2ST/search.json?&lang=en&q=Descending",
             "name": "Descending",
             "type": "orbitDirection"
            },
            "e966218f208fcca": {
             "href": "https://peps.cnes.fr/resto/api/collections/S2ST/search.json?&lang=en&q=Tarn",
             "name": "Tarn",
             "normalized": "tarn",
             "parentHash": "fa018f4f7b20706",
             "type": "state",
             "value": 51.16
            },
            "f3221bcc6ca49ca": {
             "href": "https://peps.cnes.fr/resto/api/collections/S2ST/search.json?&lang=en&q=Autumn",
             "name": "Autumn",
             "type": "season"
            },
            "fa018f4f7b20706": {
             "href": "https://peps.cnes.fr/resto/api/collections/S2ST/search.json?&lang=en&q=Midi-Pyr%C3%A9n%C3%A9es",
             "name": "Midi-Pyrénées",
             "normalized": "midi-pyrenees",
             "parentHash": "936bcbcf5c43fbd",
             "type": "region",
             "value": 83.15
            }
           },
           "license": "proprietary",
           "links": [
            {
             "href": "https://peps.cnes.fr/resto/collections/S2ST/7c1caf54-307f-5a7a-84c0-9449c800e0e2.json?&lang=en",
             "rel": "alternate",
             "title": "GeoJSON link for 7c1caf54-307f-5a7a-84c0-9449c800e0e2",
             "type": "application/json"
            },
            {
             "href": "https://peps.cnes.fr/resto/collections/S2ST/7c1caf54-307f-5a7a-84c0-9449c800e0e2.atom?&lang=en",
             "rel": "alternate",
             "title": "ATOM link for 7c1caf54-307f-5a7a-84c0-9449c800e0e2",
             "type": "application/atom+xml"
            }
           ],
           "lowProbaClouds": null,
           "mediumProbaClouds": null,
           "mgrs": "31TDJ",
           "missionStartDate": "2015-06-23T00:00:00Z",
           "modificationDate": "2018-11-27T15:03:56.695Z",
           "newVersion": null,
           "orbitDirection": "descending",
           "orbitNumber": 17923,
           "organisationName": null,
           "parentIdentifier": "urn:ogc:def:EOP:ESA::SENTINEL-2:",
           "platform": "S2ST",
           "platformSerialIdentifier": "S2A",
           "processingLevel": "LEVEL1C",
           "productType": "S2MSI1C",
           "publicationDate": "2018-11-27T15:03:56.695Z",
           "quicklook": "https://peps.cnes.fr/quicklook/2018/11/27/S2A/S2A_MSIL1C_20181127T105401_N0207_R051_T31TDJ_20181127T112953_quicklook.jpg",
           "realtime": "Nominal",
           "relativeOrbitNumber": 51,
           "resolution": null,
           "resourceChecksum": "D861408CD46E84254AC05E20E4D8DE56",
           "resourceSize": 749577657,
           "s2TakeId": "GS2A_20181127T105401_017923_N02.07",
           "sensorMode": "INS-NOBS",
           "sensorType": "OPTICAL",
           "services": {
            "browse": {
             "layer": {
              "layers": "",
              "type": "WMS",
              "url": "https://peps.cnes.fr/cgi-bin/mapserver?map=WMS_S2ST&data=2018/11/27/S2A/S2A_MSIL1C_20181127T105401_N0207_R051_T31TDJ_20181127T112953"
             },
             "title": "Display full resolution product on map"
            },
            "download": {
             "checksum": "D861408CD46E84254AC05E20E4D8DE56",
             "mimeType": "application/zip",
             "size": 749577657,
             "url": "https://peps.cnes.fr/resto/collections/S2ST/7c1caf54-307f-5a7a-84c0-9449c800e0e2/download"
            }
           },
           "snowCover": null,
           "snowIce": null,
           "startTimeFromAscendingNode": "2018-11-27T10:54:01.024Z",
           "storage": {
            "mode": "disk"
           },
           "storageStatus": "ONLINE",
           "thumbnail": null,
           "title": "S2A_MSIL1C_20181127T105401_N0207_R051_T31TDJ_20181127T112953",
           "uid": "7c1caf54-307f-5a7a-84c0-9449c800e0e2",
           "vegetation": null,
           "visible": 1,
           "water": null
          },
          "type": "Feature"
         },
         {
          "geometry": {
           "coordinates": [
            [
             [
              -0.49642943999999,
              44.225975128025
             ],
             [
              -0.53726196000002,
              43.238273156784
             ],
             [
              0.8126316594684,
              43.201211355404
             ],
             [
              0.8757389462752,
              44.187621584272
             ],
             [
              -0.49642943999999,
              44.225975128025
             ]
            ]
           ],
           "type": "Polygon"
          },
          "id": "S2A_MSIL1C_20181127T105401_N0207_R051_T30TYP_20181127T112953",
          "properties": {
           "abstract": null,
           "bands": [
            {
             "center_wavelength": 0.4439,
             "common_name": "coastal",
             "full_width_half_max": 0.027,
             "gsd": 60,
             "name": "B01"
            },
            {
             "center_wavelength": 0.4966,
             "common_name": "blue",
             "full_width_half_max": 0.098,
             "gsd": 10,
             "name": "B02"
            },
            {
             "center_wavelength": 0.56,
             "common_name": "green",
             "full_width_half_max": 0.045,
             "gsd": 10,
             "name": "B03"
            },
            {
             "center_wavelength": 0.6645,
             "common_name": "red",
             "full_width_half_max": 0.038,
             "gsd": 10,
             "name": "B04"
            },
            {
             "center_wavelength": 0.7039,
             "full_width_half_max": 0.019,
             "gsd": 20,
             "name": "B05"
            },
            {
             "center_wavelength": 0.7402,
             "full_width_half_max": 0.018,
             "gsd": 20,
             "name": "B06"
            },
            {
             "center_wavelength": 0.7825,
             "full_width_half_max": 0.028,
             "gsd": 20,
             "name": "B07"
            },
            {
             "center_wavelength": 0.8351,
             "common_name": "nir",
             "full_width_half_max": 0.145,
             "gsd": 10,
             "name": "B08"
            },
            {
             "center_wavelength": 0.8648,
             "full_width_half_max": 0.033,
             "gsd": 20,
             "name": "B8A"
            },
            {
             "center_wavelength": 0.945,
             "full_width_half_max": 0.026,
             "gsd": 60,
             "name": "B09"
            },
            {
             "center_wavelength": 0.13735,
             "common_name": "cirrus",
             "full_width_half_max": 0.075,
             "gsd": 60,
             "name": "B10"
            },
            {
             "center_wavelength": 0.16137,
             "common_name": "swir16",
             "full_width_half_max": 0.075,
             "gsd": 20,
             "name": "B11"
            },
            {
             "center_wavelength": 0.22024,
             "common_name": "swir22",
             "full_width_half_max": 0.242,
             "gsd": 20,
             "name": "B12"
            }
           ],
           "bareSoil": null,
           "cloudCover": 14.4847,
           "completionTimeFromAscendingNode": "2018-11-27T10:54:01.024Z",
           "creationDate": "2018-11-27T14:45:55.573Z",
           "downloadLink": "https://peps.cnes.fr/resto/collections/S2ST/926cdd77-c263-51fe-9ac0-779d67dddb80/download",
           "eodag_product_type": "S2_MSI_L1C",
           "eodag_provider": "peps",
           "eodag_search_intersection": {
            "coordinates": [
             [
              [
               0,
               44.212099405163464
              ],
              [
               0.8757389462752,
               44.187621584272
              ],
              [
               0.8126316594684,
               43.201211355404
              ],
              [
               0,
               43.22352244179181
              ],
              [
               0,
               44.212099405163464
              ]
             ]
            ],
            "type": "Polygon"
           },
           "highProbaClouds": null,
           "instrument": "MSI",
           "isNrt": 0,
           "keyword": {
            "3af7f479d8e1e5a": {
             "href": "https://peps.cnes.fr/resto/api/collections/S2ST/search.json?&lang=en&q=Landes",
             "name": "Landes",
             "normalized": "landes",
             "parentHash": "db06f1d6088ec4f",
             "type": "state",
             "value": 19.19
            },
            "3be01aa3157cfbf": {
             "href": "https://peps.cnes.fr/resto/api/collections/S2ST/search.json?&lang=en&q=Gironde",
             "name": "Gironde",
             "normalized": "gironde",
             "parentHash": "db06f1d6088ec4f",
             "type": "state",
             "value": 0.2
            },
            "3f85bb5d775e1fc": {
             "href": "https://peps.cnes.fr/resto/api/collections/S2ST/search.json?&lang=en&q=INS-NOBS",
             "name": "INS-NOBS",
             "parentHash": "503f8f6199f3e44",
             "type": "sensorMode"
            },
            "429f9571d35a7f4": {
             "href": "https://peps.cnes.fr/resto/api/collections/S2ST/search.json?&lang=en&q=2018",
             "name": "2018",
             "type": "year"
            },
            "44b15c0a6e62129": {
             "href": "https://peps.cnes.fr/resto/api/collections/S2ST/search.json?&lang=en&q=LEVEL1C",
             "name": "LEVEL1C",
             "type": "processingLevel"
            },
            "45038f3c2322ea3": {
             "href": "https://peps.cnes.fr/resto/api/collections/S2ST/search.json?&lang=en&q=S2ST",
             "name": "S2ST",
             "type": "collection"
            },
            "4b1f69fd85f2eff": {
             "href": "https://peps.cnes.fr/resto/api/collections/S2ST/search.json?&lang=en&q=Lot-et-Garonne",
             "name": "Lot-et-Garonne",
             "normalized": "lot-et-garonne",
             "parentHash": "db06f1d6088ec4f",
             "type": "state",
             "value": 10.03
            },
            "503f8f6199f3e44": {
             "href": "https://peps.cnes.fr/resto/api/collections/S2ST/search.json?&lang=en&q=msi",
             "name": "msi",
             "parentHash": "afe9ad14455c260",
             "type": "instrument"
            },
            "6219554ecf5905c": {
             "href": "https://peps.cnes.fr/resto/api/collections/S2ST/search.json?&lang=en&q=S2MSI1C",
             "name": "S2MSI1C",
             "type": "productType"
            },
            "62d7a0087311a7e": {
             "href": "https://peps.cnes.fr/resto/api/collections/S2ST/search.json?&lang=en&q=27",
             "name": "27",
             "parentHash": "a5a24c795b91dd3",
             "type": "day"
            },
            "638f34fab02f39d": {
             "href": "https://peps.cnes.fr/resto/api/collections/S2ST/search.json?&lang=en&q=Haute-Garonne",
             "name": "Haute-Garonne",
             "normalized": "haute-garonne",
             "parentHash": "fa018f4f7b20706",
             "type": "state",
             "value": 2.72
            },
            "936bcbcf5c43fbd": {
             "href": "https://peps.cnes.fr/resto/api/collections/S2ST/search.json?&lang=en&q=France",
             "name": "France",
             "normalized": "france",
             "parentHash": "bce097de57d1ab7",
             "type": "country",
             "value": 100
            },
            "a0e4a10aa754ab4": {
             "href": "https://peps.cnes.fr/resto/api/collections/S2ST/search.json?&lang=en&q=Northern",
             "name": "Northern",
             "type": "location"
            },
            "a0ee1300cfffc4d": {
             "href": "https://peps.cnes.fr/resto/api/collections/S2ST/search.json?&lang=en&q=Hautes-Pyr%C3%A9n%C3%A9es",
             "name": "Hautes-Pyrénées",
             "normalized": "hautes-pyrenees",
             "parentHash": "fa018f4f7b20706",
             "type": "state",
             "value": 9.1
            },
            "a5a24c795b91dd3": {
             "href": "https://peps.cnes.fr/resto/api/collections/S2ST/search.json?&lang=en&q=November",
             "name": "November",
             "parentHash": "429f9571d35a7f4",
             "type": "month"
            },
            "adbd1cc9d2fe94b": {
             "href": "https://peps.cnes.fr/resto/api/collections/S2ST/search.json?&lang=en&q=Nominal",
             "name": "Nominal",
             "parentHash": "c0706bb19e22342",
             "type": "realtime"
            },
            "afe9ad14455c260": {
             "href": "https://peps.cnes.fr/resto/api/collections/S2ST/search.json?&lang=en&q=s2A",
             "name": "s2A",
             "type": "platform"
            },
            "bce097de57d1ab7": {
             "href": "https://peps.cnes.fr/resto/api/collections/S2ST/search.json?&lang=en&q=Europe",
             "name": "Europe",
             "normalized": "europe",
             "type": "continent"
            },
            "c0706bb19e22342": {
             "href": "https://peps.cnes.fr/resto/api/collections/S2ST/search.json?&lang=en&q=0",
             "name": "0",
             "type": "isNrt"
            },
            "c6319beaa1b6cdd": {
             "href": "https://peps.cnes.fr/resto/api/collections/S2ST/search.json?&lang=en&q=Tarn-et-Garonne",
             "name": "Tarn-et-Garonne",
             "normalized": "tarn-et-garonne",
             "parentHash": "fa018f4f7b20706",
             "type": "state",
             "value": 1.24
            },
            "d5a7d91bc589eaf": {
             "href": "https://peps.cnes.fr/resto/api/collections/S2ST/search.json?&lang=en&q=Pyr%C3%A9n%C3%A9es-Atlantiques",
             "name": "Pyrénées-Atlantiques",
             "normalized": "pyrenees-atlantiques",
             "parentHash": "db06f1d6088ec4f",
             "type": "state",
             "value": 12.52
            },
            "d8c2acfe38c3ff4": {
             "href": "https://peps.cnes.fr/resto/api/collections/S2ST/search.json?&lang=en&q=Gers",
             "name": "Gers",
             "normalized": "gers",
             "parentHash": "fa018f4f7b20706",
             "type": "state",
             "value": 45
            },
            "db06f1d6088ec4f": {
             "href": "https://peps.cnes.fr/resto/api/collections/S2ST/search.json?&lang=en&q=Aquitaine",
             "name": "Aquitaine",
             "normalized": "aquitaine",
             "parentHash": "936bcbcf5c43fbd",
             "type": "region",
             "value": 41.99
            },
            "e8f96b7c46c0d54": {
             "href": "https://peps.cnes.fr/resto/api/collections/S2ST/search.json?&lang=en&q=Descending",
             "name": "Descending",
             "type": "orbitDirection"
            },
            "f3221bcc6ca49ca": {
             "href": "https://peps.cnes.fr/resto/api/collections/S2ST/search.json?&lang=en&q=Autumn",
             "name": "Autumn",
             "type": "season"
            },
            "fa018f4f7b20706": {
             "href": "https://peps.cnes.fr/resto/api/collections/S2ST/search.json?&lang=en&q=Midi-Pyr%C3%A9n%C3%A9es",
             "name": "Midi-Pyrénées",
             "normalized": "midi-pyrenees",
             "parentHash": "936bcbcf5c43fbd",
             "type": "region",
             "value": 58.01
            }
           },
           "license": "proprietary",
           "links": [
            {
             "href": "https://peps.cnes.fr/resto/collections/S2ST/926cdd77-c263-51fe-9ac0-779d67dddb80.json?&lang=en",
             "rel": "alternate",
             "title": "GeoJSON link for 926cdd77-c263-51fe-9ac0-779d67dddb80",
             "type": "application/json"
            },
            {
             "href": "https://peps.cnes.fr/resto/collections/S2ST/926cdd77-c263-51fe-9ac0-779d67dddb80.atom?&lang=en",
             "rel": "alternate",
             "title": "ATOM link for 926cdd77-c263-51fe-9ac0-779d67dddb80",
             "type": "application/atom+xml"
            }
           ],
           "lowProbaClouds": null,
           "mediumProbaClouds": null,
           "mgrs": "30TYP",
           "missionStartDate": "2015-06-23T00:00:00Z",
           "modificationDate": "2018-11-27T14:59:25.366Z",
           "newVersion": null,
           "orbitDirection": "descending",
           "orbitNumber": 17923,
           "organisationName": null,
           "parentIdentifier": "urn:ogc:def:EOP:ESA::SENTINEL-2:",
           "platform": "S2ST",
           "platformSerialIdentifier": "S2A",
           "processingLevel": "LEVEL1C",
           "productType": "S2MSI1C",
           "publicationDate": "2018-11-27T14:59:25.366Z",
           "quicklook": "https://peps.cnes.fr/quicklook/2018/11/27/S2A/S2A_MSIL1C_20181127T105401_N0207_R051_T30TYP_20181127T112953_quicklook.jpg",
           "realtime": "Nominal",
           "relativeOrbitNumber": 51,
           "resolution": null,
           "resourceChecksum": "03E55D26F95EF19012D2F375070631C7",
           "resourceSize": 839167846,
           "s2TakeId": "GS2A_20181127T105401_017923_N02.07",
           "sensorMode": "INS-NOBS",
           "sensorType": "OPTICAL",
           "services": {
            "browse": {
             "layer": {
              "layers": "",
              "type": "WMS",
              "url": "https://peps.cnes.fr/cgi-bin/mapserver?map=WMS_S2ST&data=2018/11/27/S2A/S2A_MSIL1C_20181127T105401_N0207_R051_T30TYP_20181127T112953"
             },
             "title": "Display full resolution product on map"
            },
            "download": {
             "checksum": "03E55D26F95EF19012D2F375070631C7",
             "mimeType": "application/zip",
             "size": 839167846,
             "url": "https://peps.cnes.fr/resto/collections/S2ST/926cdd77-c263-51fe-9ac0-779d67dddb80/download"
            }
           },
           "snowCover": null,
           "snowIce": null,
           "startTimeFromAscendingNode": "2018-11-27T10:54:01.024Z",
           "storage": {
            "mode": "tape"
           },
           "storageStatus": "OFFLINE",
           "thumbnail": null,
           "title": "S2A_MSIL1C_20181127T105401_N0207_R051_T30TYP_20181127T112953",
           "uid": "926cdd77-c263-51fe-9ac0-779d67dddb80",
           "vegetation": null,
           "visible": 1,
           "water": null
          },
          "type": "Feature"
         },
         {
          "geometry": {
           "coordinates": [
            [
             [
              0.45686051699677,
              45.125513562024
             ],
             [
              0.49965161310688,
              44.137996748197
             ],
             [
              1.8719187041001,
              44.159796633711
             ],
             [
              1.8525926183827,
              45.148073182871
             ],
             [
              0.45686051699677,
              45.125513562024
             ]
            ]
           ],
           "type": "Polygon"
          },
          "id": "S2A_MSIL1C_20181127T105401_N0207_R051_T31TCK_20181127T112953",
          "properties": {
           "abstract": null,
           "bands": [
            {
             "center_wavelength": 0.4439,
             "common_name": "coastal",
             "full_width_half_max": 0.027,
             "gsd": 60,
             "name": "B01"
            },
            {
             "center_wavelength": 0.4966,
             "common_name": "blue",
             "full_width_half_max": 0.098,
             "gsd": 10,
             "name": "B02"
            },
            {
             "center_wavelength": 0.56,
             "common_name": "green",
             "full_width_half_max": 0.045,
             "gsd": 10,
             "name": "B03"
            },
            {
             "center_wavelength": 0.6645,
             "common_name": "red",
             "full_width_half_max": 0.038,
             "gsd": 10,
             "name": "B04"
            },
            {
             "center_wavelength": 0.7039,
             "full_width_half_max": 0.019,
             "gsd": 20,
             "name": "B05"
            },
            {
             "center_wavelength": 0.7402,
             "full_width_half_max": 0.018,
             "gsd": 20,
             "name": "B06"
            },
            {
             "center_wavelength": 0.7825,
             "full_width_half_max": 0.028,
             "gsd": 20,
             "name": "B07"
            },
            {
             "center_wavelength": 0.8351,
             "common_name": "nir",
             "full_width_half_max": 0.145,
             "gsd": 10,
             "name": "B08"
            },
            {
             "center_wavelength": 0.8648,
             "full_width_half_max": 0.033,
             "gsd": 20,
             "name": "B8A"
            },
            {
             "center_wavelength": 0.945,
             "full_width_half_max": 0.026,
             "gsd": 60,
             "name": "B09"
            },
            {
             "center_wavelength": 0.13735,
             "common_name": "cirrus",
             "full_width_half_max": 0.075,
             "gsd": 60,
             "name": "B10"
            },
            {
             "center_wavelength": 0.16137,
             "common_name": "swir16",
             "full_width_half_max": 0.075,
             "gsd": 20,
             "name": "B11"
            },
            {
             "center_wavelength": 0.22024,
             "common_name": "swir22",
             "full_width_half_max": 0.242,
             "gsd": 20,
             "name": "B12"
            }
           ],
           "bareSoil": null,
           "cloudCover": 46.4289,
           "completionTimeFromAscendingNode": "2018-11-27T10:54:01.024Z",
           "creationDate": "2018-11-27T14:46:10.905Z",
           "downloadLink": "https://peps.cnes.fr/resto/collections/S2ST/a084e7ff-95d6-5410-baff-f79e7038866c/download",
           "eodag_product_type": "S2_MSI_L1C",
           "eodag_provider": "peps",
           "eodag_search_intersection": {
            "coordinates": [
             [
              [
               1.855488240086003,
               45
              ],
              [
               1.8719187041001,
               44.159796633711
              ],
              [
               0.49965161310688,
               44.137996748197
              ],
              [
               0.4622992728948868,
               45
              ],
              [
               1.855488240086003,
               45
              ]
             ]
            ],
            "type": "Polygon"
           },
           "highProbaClouds": null,
           "instrument": "MSI",
           "isNrt": 0,
           "keyword": {
            "1eb8a6dcbdf3b74": {
             "href": "https://peps.cnes.fr/resto/api/collections/S2ST/search.json?&lang=en&q=Dordogne",
             "name": "Dordogne",
             "normalized": "dordogne",
             "parentHash": "db06f1d6088ec4f",
             "type": "state",
             "value": 31.73
            },
            "2b6fe1d663541d5": {
             "href": "https://peps.cnes.fr/resto/api/collections/S2ST/search.json?&lang=en&q=Corr%C3%A8ze",
             "name": "Corrèze",
             "normalized": "correze",
             "parentHash": "595a2a0433fc5be",
             "type": "state",
             "value": 4.86
            },
            "3f85bb5d775e1fc": {
             "href": "https://peps.cnes.fr/resto/api/collections/S2ST/search.json?&lang=en&q=INS-NOBS",
             "name": "INS-NOBS",
             "parentHash": "503f8f6199f3e44",
             "type": "sensorMode"
            },
            "429f9571d35a7f4": {
             "href": "https://peps.cnes.fr/resto/api/collections/S2ST/search.json?&lang=en&q=2018",
             "name": "2018",
             "type": "year"
            },
            "44b15c0a6e62129": {
             "href": "https://peps.cnes.fr/resto/api/collections/S2ST/search.json?&lang=en&q=LEVEL1C",
             "name": "LEVEL1C",
             "type": "processingLevel"
            },
            "45038f3c2322ea3": {
             "href": "https://peps.cnes.fr/resto/api/collections/S2ST/search.json?&lang=en&q=S2ST",
             "name": "S2ST",
             "type": "collection"
            },
            "4b1f69fd85f2eff": {
             "href": "https://peps.cnes.fr/resto/api/collections/S2ST/search.json?&lang=en&q=Lot-et-Garonne",
             "name": "Lot-et-Garonne",
             "normalized": "lot-et-garonne",
             "parentHash": "db06f1d6088ec4f",
             "type": "state",
             "value": 18.83
            },
            "503f8f6199f3e44": {
             "href": "https://peps.cnes.fr/resto/api/collections/S2ST/search.json?&lang=en&q=msi",
             "name": "msi",
             "parentHash": "afe9ad14455c260",
             "type": "instrument"
            },
            "595a2a0433fc5be": {
             "href": "https://peps.cnes.fr/resto/api/collections/S2ST/search.json?&lang=en&q=Limousin",
             "name": "Limousin",
             "normalized": "limousin",
             "parentHash": "936bcbcf5c43fbd",
             "type": "region",
             "value": 4.89
            },
            "6219554ecf5905c": {
             "href": "https://peps.cnes.fr/resto/api/collections/S2ST/search.json?&lang=en&q=S2MSI1C",
             "name": "S2MSI1C",
             "type": "productType"
            },
            "62d7a0087311a7e": {
             "href": "https://peps.cnes.fr/resto/api/collections/S2ST/search.json?&lang=en&q=27",
             "name": "27",
             "parentHash": "a5a24c795b91dd3",
             "type": "day"
            },
            "936bcbcf5c43fbd": {
             "href": "https://peps.cnes.fr/resto/api/collections/S2ST/search.json?&lang=en&q=France",
             "name": "France",
             "normalized": "france",
             "parentHash": "bce097de57d1ab7",
             "type": "country",
             "value": 100
            },
            "a0e4a10aa754ab4": {
             "href": "https://peps.cnes.fr/resto/api/collections/S2ST/search.json?&lang=en&q=Northern",
             "name": "Northern",
             "type": "location"
            },
            "a507bd46cbf5398": {
             "href": "https://peps.cnes.fr/resto/api/collections/S2ST/search.json?&lang=en&q=Aveyron",
             "name": "Aveyron",
             "normalized": "aveyron",
             "parentHash": "fa018f4f7b20706",
             "type": "state",
             "value": 0.11
            },
            "a5a24c795b91dd3": {
             "href": "https://peps.cnes.fr/resto/api/collections/S2ST/search.json?&lang=en&q=November",
             "name": "November",
             "parentHash": "429f9571d35a7f4",
             "type": "month"
            },
            "adbd1cc9d2fe94b": {
             "href": "https://peps.cnes.fr/resto/api/collections/S2ST/search.json?&lang=en&q=Nominal",
             "name": "Nominal",
             "parentHash": "c0706bb19e22342",
             "type": "realtime"
            },
            "afe9ad14455c260": {
             "href": "https://peps.cnes.fr/resto/api/collections/S2ST/search.json?&lang=en&q=s2A",
             "name": "s2A",
             "type": "platform"
            },
            "bce097de57d1ab7": {
             "href": "https://peps.cnes.fr/resto/api/collections/S2ST/search.json?&lang=en&q=Europe",
             "name": "Europe",
             "normalized": "europe",
             "type": "continent"
            },
            "bdd4a95707b0459": {
             "href": "https://peps.cnes.fr/resto/api/collections/S2ST/search.json?&lang=en&q=Lot",
             "name": "Lot",
             "normalized": "lot",
             "parentHash": "fa018f4f7b20706",
             "type": "state",
             "value": 33.95
            },
            "c0706bb19e22342": {
             "href": "https://peps.cnes.fr/resto/api/collections/S2ST/search.json?&lang=en&q=0",
             "name": "0",
             "type": "isNrt"
            },
            "c6319beaa1b6cdd": {
             "href": "https://peps.cnes.fr/resto/api/collections/S2ST/search.json?&lang=en&q=Tarn-et-Garonne",
             "name": "Tarn-et-Garonne",
             "normalized": "tarn-et-garonne",
             "parentHash": "fa018f4f7b20706",
             "type": "state",
             "value": 10.47
            },
            "db06f1d6088ec4f": {
             "href": "https://peps.cnes.fr/resto/api/collections/S2ST/search.json?&lang=en&q=Aquitaine",
             "name": "Aquitaine",
             "normalized": "aquitaine",
             "parentHash": "936bcbcf5c43fbd",
             "type": "region",
             "value": 50.56
            },
            "e8f96b7c46c0d54": {
             "href": "https://peps.cnes.fr/resto/api/collections/S2ST/search.json?&lang=en&q=Descending",
             "name": "Descending",
             "type": "orbitDirection"
            },
            "f3221bcc6ca49ca": {
             "href": "https://peps.cnes.fr/resto/api/collections/S2ST/search.json?&lang=en&q=Autumn",
             "name": "Autumn",
             "type": "season"
            },
            "fa018f4f7b20706": {
             "href": "https://peps.cnes.fr/resto/api/collections/S2ST/search.json?&lang=en&q=Midi-Pyr%C3%A9n%C3%A9es",
             "name": "Midi-Pyrénées",
             "normalized": "midi-pyrenees",
             "parentHash": "936bcbcf5c43fbd",
             "type": "region",
             "value": 44.6
            }
           },
           "license": "proprietary",
           "links": [
            {
             "href": "https://peps.cnes.fr/resto/collections/S2ST/a084e7ff-95d6-5410-baff-f79e7038866c.json?&lang=en",
             "rel": "alternate",
             "title": "GeoJSON link for a084e7ff-95d6-5410-baff-f79e7038866c",
             "type": "application/json"
            },
            {
             "href": "https://peps.cnes.fr/resto/collections/S2ST/a084e7ff-95d6-5410-baff-f79e7038866c.atom?&lang=en",
             "rel": "alternate",
             "title": "ATOM link for a084e7ff-95d6-5410-baff-f79e7038866c",
             "type": "application/atom+xml"
            }
           ],
           "lowProbaClouds": null,
           "mediumProbaClouds": null,
           "mgrs": "31TCK",
           "missionStartDate": "2015-06-23T00:00:00Z",
           "modificationDate": "2018-11-27T14:56:46.619Z",
           "newVersion": null,
           "orbitDirection": "descending",
           "orbitNumber": 17923,
           "organisationName": null,
           "parentIdentifier": "urn:ogc:def:EOP:ESA::SENTINEL-2:",
           "platform": "S2ST",
           "platformSerialIdentifier": "S2A",
           "processingLevel": "LEVEL1C",
           "productType": "S2MSI1C",
           "publicationDate": "2018-11-27T14:56:46.619Z",
           "quicklook": "https://peps.cnes.fr/quicklook/2018/11/27/S2A/S2A_MSIL1C_20181127T105401_N0207_R051_T31TCK_20181127T112953_quicklook.jpg",
           "realtime": "Nominal",
           "relativeOrbitNumber": 51,
           "resolution": null,
           "resourceChecksum": "E0E7F5D4FA7CC7D32D758608DFC36DD1",
           "resourceSize": 857585133,
           "s2TakeId": "GS2A_20181127T105401_017923_N02.07",
           "sensorMode": "INS-NOBS",
           "sensorType": "OPTICAL",
           "services": {
            "browse": {
             "layer": {
              "layers": "",
              "type": "WMS",
              "url": "https://peps.cnes.fr/cgi-bin/mapserver?map=WMS_S2ST&data=2018/11/27/S2A/S2A_MSIL1C_20181127T105401_N0207_R051_T31TCK_20181127T112953"
             },
             "title": "Display full resolution product on map"
            },
            "download": {
             "checksum": "E0E7F5D4FA7CC7D32D758608DFC36DD1",
             "mimeType": "application/zip",
             "size": 857585133,
             "url": "https://peps.cnes.fr/resto/collections/S2ST/a084e7ff-95d6-5410-baff-f79e7038866c/download"
            }
           },
           "snowCover": null,
           "snowIce": null,
           "startTimeFromAscendingNode": "2018-11-27T10:54:01.024Z",
           "storage": {
            "mode": "disk"
           },
           "storageStatus": "ONLINE",
           "thumbnail": null,
           "title": "S2A_MSIL1C_20181127T105401_N0207_R051_T31TCK_20181127T112953",
           "uid": "a084e7ff-95d6-5410-baff-f79e7038866c",
           "vegetation": null,
           "visible": 1,
           "water": null
          },
          "type": "Feature"
         }
        ],
        "type": "FeatureCollection"
       },
       "hover_style": {
        "fillColor": "yellow"
       },
       "name": "",
       "options": [],
       "popup": null,
       "popup_max_height": null,
       "popup_max_width": 300,
       "popup_min_width": 50
      }
     },
     "bd860481081540c99ab9b81199b1f882": {
      "model_module": "@jupyter-widgets/controls",
      "model_module_version": "1.5.0",
      "model_name": "DescriptionStyleModel",
      "state": {
       "description_width": ""
      }
     },
     "be6cd809ec604b238c321107976c38ca": {
      "model_module": "jupyter-leaflet",
      "model_module_version": "^0.13.5",
      "model_name": "LeafletAttributionControlModel",
      "state": {
       "_model_module_version": "^0.13.5",
       "_view_module_version": "^0.13.5",
       "options": [
        "position",
        "prefix"
       ],
       "position": "bottomright",
       "prefix": "ipyleaflet"
      }
     },
     "c8213b947924430ba04bbf9b6dc48696": {
      "model_module": "@jupyter-widgets/controls",
      "model_module_version": "1.5.0",
      "model_name": "HTMLModel",
      "state": {
       "layout": "IPY_MODEL_0e5615b19620499c8b7ea4535fa3f5e6",
       "style": "IPY_MODEL_085ee26efb8a41abbd0685bf7dd768db",
       "value": "100%"
      }
     },
     "ca6302a09d83464dbd3b2b6d74270718": {
      "model_module": "@jupyter-widgets/base",
      "model_module_version": "1.2.0",
      "model_name": "LayoutModel",
      "state": {}
     },
     "cadd2ace6ec249cf90ed88861f32ccbe": {
      "model_module": "jupyter-leaflet",
      "model_module_version": "^0.13.5",
      "model_name": "LeafletDrawControlModel",
      "state": {
       "_model_module_version": "^0.13.5",
       "_view_module_version": "^0.13.5",
       "options": [
        "position"
       ],
       "polygon": {
        "shapeOptions": {
         "color": "#00F"
        }
       },
       "polyline": {}
      }
     },
     "d0468e4e36664a3b9f8aedb2f01bcd78": {
      "model_module": "@jupyter-widgets/base",
      "model_module_version": "1.2.0",
      "model_name": "LayoutModel",
      "state": {}
     },
     "d33a052b9e9046d9814182349455be0e": {
      "model_module": "jupyter-leaflet",
      "model_module_version": "^0.13.5",
      "model_name": "LeafletMapStyleModel",
      "state": {
       "_model_module_version": "^0.13.5"
      }
     },
     "d478f9df15b94d6893f8a1206452c2ee": {
      "model_module": "@jupyter-widgets/base",
      "model_module_version": "1.2.0",
      "model_name": "LayoutModel",
      "state": {}
     },
     "d519a94f9aeb4c7a821e6953e2b20094": {
      "model_module": "@jupyter-widgets/controls",
      "model_module_version": "1.5.0",
      "model_name": "FloatProgressModel",
      "state": {
       "bar_style": "success",
       "layout": "IPY_MODEL_b82f4b8912424294bc86f9acfc8d7bf2",
       "max": 2244913,
       "style": "IPY_MODEL_e76e5a1abce14d15bf4e12556924f8b8",
       "value": 2244913
      }
     },
     "d6b6af1205274e7188df534d6742c759": {
      "model_module": "jupyter-leaflet",
      "model_module_version": "^0.13.5",
      "model_name": "LeafletMapModel",
      "state": {
       "_model_module_version": "^0.13.5",
       "_view_module_version": "^0.13.5",
       "bottom": 3191,
       "center": [
        43.6,
        1.5
       ],
       "controls": [
        "IPY_MODEL_00097cf0c1a04d4192b08f5c7db58336",
        "IPY_MODEL_be6cd809ec604b238c321107976c38ca"
       ],
       "default_style": "IPY_MODEL_db027f6c0a194a71998ecc854f8afad1",
       "dragging_style": "IPY_MODEL_019f9b4bc1034a978f056917f38df26e",
       "east": 22.67578125,
       "fullscreen": false,
       "interpolation": "bilinear",
       "layers": [
        "IPY_MODEL_9e96e563f75b4fc5ad3bcffb40f2fde3",
        "IPY_MODEL_b99d773330634909a66233b68494908c"
       ],
       "layout": "IPY_MODEL_d0468e4e36664a3b9f8aedb2f01bcd78",
       "left": 3649,
       "modisdate": "yesterday",
       "north": 49.63917719651036,
       "options": [
        "bounce_at_zoom_limits",
        "box_zoom",
        "center",
        "close_popup_on_click",
        "double_click_zoom",
        "dragging",
        "fullscreen",
        "inertia",
        "inertia_deceleration",
        "inertia_max_speed",
        "interpolation",
        "keyboard",
        "keyboard_pan_offset",
        "keyboard_zoom_offset",
        "max_zoom",
        "min_zoom",
        "scroll_wheel_zoom",
        "tap",
        "tap_tolerance",
        "touch_zoom",
        "world_copy_jump",
        "zoom",
        "zoom_animation_threshold",
        "zoom_delta",
        "zoom_snap",
        "zoom_start"
       ],
       "right": 4612,
       "south": 36.914764288955936,
       "style": "IPY_MODEL_98631b29b4484c41aba79874c5f98d42",
       "top": 2791,
       "west": -19.643554687500004,
       "window_url": "http://localhost:8888/notebooks/tuto_cop_dem.ipynb",
       "zoom": 5
      }
     },
     "db027f6c0a194a71998ecc854f8afad1": {
      "model_module": "jupyter-leaflet",
      "model_module_version": "^0.13.5",
      "model_name": "LeafletMapStyleModel",
      "state": {
       "_model_module_version": "^0.13.5"
      }
     },
     "db717fcb9db14edc970642a3c5ee4ccf": {
      "model_module": "@jupyter-widgets/controls",
      "model_module_version": "1.5.0",
      "model_name": "DescriptionStyleModel",
      "state": {
       "description_width": ""
      }
     },
     "e102b825e0e2412892ac64f9d10b60f1": {
      "model_module": "@jupyter-widgets/controls",
      "model_module_version": "1.5.0",
      "model_name": "ProgressStyleModel",
      "state": {
       "description_width": ""
      }
     },
     "e74ada9b66ef4b8c93ddaa418ee25109": {
      "model_module": "@jupyter-widgets/controls",
      "model_module_version": "1.5.0",
      "model_name": "FloatProgressModel",
      "state": {
       "bar_style": "success",
       "layout": "IPY_MODEL_f75f814480e74016b45b0ce8211fa48f",
       "max": 3,
       "style": "IPY_MODEL_9e5a62f3ab114cc5a685aafed1cff52c",
       "value": 3
      }
     },
     "e76e5a1abce14d15bf4e12556924f8b8": {
      "model_module": "@jupyter-widgets/controls",
      "model_module_version": "1.5.0",
      "model_name": "ProgressStyleModel",
      "state": {
       "description_width": ""
      }
     },
     "f0cea6321e80404c83f99cb347aebd4f": {
      "model_module": "@jupyter-widgets/controls",
      "model_module_version": "1.5.0",
      "model_name": "HTMLModel",
      "state": {
       "layout": "IPY_MODEL_ca6302a09d83464dbd3b2b6d74270718",
       "style": "IPY_MODEL_bd860481081540c99ab9b81199b1f882",
       "value": "Downloaded products: 100%"
      }
     },
     "f75f814480e74016b45b0ce8211fa48f": {
      "model_module": "@jupyter-widgets/base",
      "model_module_version": "1.2.0",
      "model_name": "LayoutModel",
      "state": {
       "flex": "2"
      }
     },
     "fc65f8e7b90344b5b247e51ad36bce14": {
      "model_module": "@jupyter-widgets/base",
      "model_module_version": "1.2.0",
      "model_name": "LayoutModel",
      "state": {}
     },
     "fd4a27df60fc4770ba53870dc9582560": {
      "model_module": "jupyter-leaflet",
      "model_module_version": "^0.13.5",
      "model_name": "LeafletTileLayerModel",
      "state": {
       "_model_module_version": "^0.13.5",
       "_view_module_version": "^0.13.5",
       "base": true,
       "max_native_zoom": 18,
       "max_zoom": 19,
       "min_native_zoom": 0,
       "min_zoom": 1,
       "options": [
        "attribution",
        "detect_retina",
        "max_native_zoom",
        "max_zoom",
        "min_native_zoom",
        "min_zoom",
        "no_wrap",
        "tile_size",
        "tms"
       ]
      }
     }
    },
    "version_major": 2,
    "version_minor": 0
   }
  }
 },
 "nbformat": 4,
 "nbformat_minor": 4
}
