{
 "cells": [
  {
   "attachments": {},
   "cell_type": "markdown",
   "id": "629eec3f-340b-4d47-9269-e1206bca24bf",
   "metadata": {},
   "source": [
    "# How to add a new product type to EODag?\n",
    "\n",
    "To add a new product type to EODag, you need to add an entry to the file `eodag/resources/product_types.yml`. Here is an example:"
   ]
  },
  {
   "cell_type": "markdown",
   "id": "aeb3ba7b-6f2d-4897-b1ee-baf19bacd841",
   "metadata": {},
   "source": [
    "```yaml\n",
    "CBERS4_AWFI_L2:\n",
    "  abstract: |\n",
    "    China-Brazil Earth Resources Satellite, CBERS-4 AWFI camera Level-2 product. System corrected images, expect some\n",
    "    translation error.\n",
    "  instrument: AWFI\n",
    "  platform: CBERS\n",
    "  platformSerialIdentifier: CBERS-4\n",
    "  processingLevel: L2\n",
    "  keywords: AWFI,CBERS,CBERS-4,L2\n",
    "  sensorType: OPTICAL\n",
    "  license: proprietary\n",
    "  missionStartDate: \"2014-12-07T00:00:00Z\"\n",
    "  title: CBERS-4 AWFI Level-2\n",
    "```"
   ]
  },
  {
   "cell_type": "markdown",
   "id": "56080fa1-4c1d-4184-a632-c90b251fe282",
   "metadata": {},
   "source": [
    "The first line `CBERS4_AWFI_L2:` is a YAML key corresponding to the name by which the product will be referred to within EODag. Note the use of uppercase and underscores to separate words. This name will be used when searching for products of the corresponging type.\n",
    "\n",
    "The following lines need to be indented because they make a dictionnary of configuration information for the product type we are defining. Each bit of information can usually be found on the provider's catalogue. Note that the value used for `keywords` entry puts together values from other entries such as `instrument`, `processingLevel`, `platform`, etc."
   ]
  }
 ],
 "metadata": {
  "kernelspec": {
   "display_name": "Python 3 (ipykernel)",
   "language": "python",
   "name": "python3"
  },
  "language_info": {
   "codemirror_mode": {
    "name": "ipython",
    "version": 3
   },
   "file_extension": ".py",
   "mimetype": "text/x-python",
   "name": "python",
   "nbconvert_exporter": "python",
   "pygments_lexer": "ipython3",
   "version": "3.13.0"
  }
 },
 "nbformat": 4,
 "nbformat_minor": 5
}
