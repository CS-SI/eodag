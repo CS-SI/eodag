{
 "cells": [
  {
   "cell_type": "markdown",
   "id": "439f1c6a",
   "metadata": {},
   "source": [
    "# Get data from fedeo_ceda using EODAG\n",
    "\n",
    "This tutorial will show you how to use EODAG to search and download data from the [fedeo_ceda](https://fedeo.ceda.ac.uk/) provider."
   ]
  },
  {
   "cell_type": "code",
   "execution_count": null,
   "id": "71f57a4c",
   "metadata": {},
   "outputs": [],
   "source": [
    "from eodag import EODataAccessGateway, setup_logging\n",
    "\n",
    "setup_logging(2)  # 0: nothing, 1: only progress bars, 2: INFO, 3: DEBUG\n",
    "dag = EODataAccessGateway()\n",
    "dag.set_preferred_provider(\"fedeo_ceda\")"
   ]
  },
  {
   "cell_type": "markdown",
   "id": "18f0038d",
   "metadata": {},
   "source": [
    "## List product types\n",
    "\n",
    "list all the product types available from the fedeo_ceda provider."
   ]
  },
  {
   "cell_type": "code",
   "execution_count": null,
   "id": "9723098e",
   "metadata": {},
   "outputs": [],
   "source": [
    "product_types = dag.list_product_types(provider=\"fedeo_ceda\")\n",
    "product_types"
   ]
  },
  {
   "cell_type": "markdown",
   "id": "35092781",
   "metadata": {},
   "source": [
    "## Search data\n",
    "\n",
    "With one of the product types listed above, you can search for data."
   ]
  },
  {
   "cell_type": "code",
   "execution_count": null,
   "id": "1e318190",
   "metadata": {},
   "outputs": [],
   "source": [
    "fedeo_ceda_params = {\n",
    "    \"product_types\": \"AATSR_ENS_L2_V2.6\",\n",
    "    \"start\": \"2006-01-01\",\n",
    "    \"end\": \"2008-12-31\",\n",
    "    \"format\": \"netCDF\",\n",
    "}\n",
    "\n",
    "products = dag.search(\n",
    "    provider=\"fedeo_ceda\",\n",
    "    **fedeo_ceda_params\n",
    ")\n",
    "products"
   ]
  },
  {
   "cell_type": "markdown",
   "id": "21b2e2f9",
   "metadata": {},
   "source": [
    "## Open dataset with `to_xarray` from [eodag-cube](https://github.com/CS-SI/eodag-cube) and plot over a map using `cartopy`"
   ]
  },
  {
   "cell_type": "code",
   "execution_count": null,
   "id": "bd5bc50c",
   "metadata": {},
   "outputs": [],
   "source": [
    "# Get XarrayDict\n",
    "xd = products[2].to_xarray()\n",
    "xd"
   ]
  },
  {
   "cell_type": "code",
   "execution_count": null,
   "id": "6ef858c6",
   "metadata": {},
   "outputs": [],
   "source": [
    "# Dataset from XarrayDict first value\n",
    "ds = next(iter(xd.values()))\n",
    "ds"
   ]
  },
  {
   "cell_type": "code",
   "execution_count": null,
   "id": "533f12f5",
   "metadata": {},
   "outputs": [],
   "source": [
    "from datetime import datetime, UTC\n",
    "import matplotlib.pyplot as plt\n",
    "import cartopy.crs as ccrs\n",
    "\n",
    "# data and coordinates from dataset\n",
    "lats = ds[\"latitude\"].values.ravel()\n",
    "lons = ds[\"longitude\"].values.ravel()\n",
    "cct = ds[\"orbit\"].values.ravel()\n",
    "\n",
    "dt = datetime.strptime(ds.date_created, \"%Y%m%dT%H%M%SZ\").replace(tzinfo=UTC)\n",
    "title = dt.isoformat()\n",
    "\n",
    "fig, ax = plt.subplots(subplot_kw={'projection': ccrs.PlateCarree()})\n",
    "\n",
    "# filled contour plot\n",
    "tcf = ax.tricontourf(lons, lats, cct)\n",
    "ax.set_title(title)\n",
    "ax.coastlines()\n",
    "\n",
    "# colorbar\n",
    "cbar = plt.colorbar(tcf, ax=ax, shrink=0.7, label=\"orbit\")\n",
    "\n",
    "# gridlines\n",
    "gridlines = ax.gridlines(draw_labels=True)\n",
    "gridlines.right_labels = False\n",
    "gridlines.top_labels = False\n",
    "\n",
    "plt.show()"
   ]
  },
  {
   "cell_type": "markdown",
   "id": "73e21781",
   "metadata": {},
   "source": [
    "## Download data\n",
    "\n",
    "You can download one or all of the products found during the search step."
   ]
  },
  {
   "cell_type": "code",
   "execution_count": null,
   "id": "4d198dc7",
   "metadata": {},
   "outputs": [],
   "source": [
    "# Download one product\n",
    "product = products[2]\n",
    "download_info = dag.download(product)\n",
    "download_info\n",
    "\n",
    "# Download all products\n",
    "download_infos = dag.download_all(products)\n",
    "download_infos"
   ]
  }
 ],
 "metadata": {
  "kernelspec": {
   "display_name": "ox",
   "language": "python",
   "name": "python3"
  },
  "language_info": {
   "codemirror_mode": {
    "name": "ipython",
    "version": 3
   },
   "file_extension": ".py",
   "mimetype": "text/x-python",
   "name": "python",
   "nbconvert_exporter": "python",
   "pygments_lexer": "ipython3",
   "version": "3.12.7"
  }
 },
 "nbformat": 4,
 "nbformat_minor": 5
}
