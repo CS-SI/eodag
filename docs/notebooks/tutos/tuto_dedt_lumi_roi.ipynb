{
 "cells": [
  {
   "cell_type": "markdown",
   "id": "5d2a1d05",
   "metadata": {},
   "source": [
    "# ECMWF Polytope Region of Interest (DEDT Lumi)\n",
    "\n",
    "The EMCWF Polytope API now supports bespoke geometry definions in queries.\n",
    "\n",
    "`eodag` supports this feature via de `geom` parameter for the `dedt_lumi` provider."
   ]
  },
  {
   "cell_type": "code",
   "execution_count": null,
   "id": "3dbc47b1",
   "metadata": {},
   "outputs": [],
   "source": [
    "from eodag import EODataAccessGateway\n",
    "import json\n",
    "\n",
    "dag = EODataAccessGateway()\n",
    "\n",
    "result = dag.search(\n",
    "    raise_errors=True,\n",
    "    start=\"20210101\",\n",
    "    productType=\"DT_CLIMATE_ADAPTATION\",\n",
    "    geom={'lonmin': 1, 'latmin': 43, 'lonmax': 2, 'latmax': 44},\n",
    ")\n",
    "\n",
    "print(json.dumps(result.as_geojson_object(), indent=2, default= str))"
   ]
  },
  {
   "cell_type": "markdown",
   "id": "d744af44",
   "metadata": {},
   "source": [
    "The `geom` parameter is translated into a polygon using Polytope's syntax.\n",
    "All the the `geom` types are supported, `bbox` as shown above, `shapely polygon` and `WKT`.\n",
    "The following examples are all equivalent."
   ]
  },
  {
   "cell_type": "code",
   "execution_count": null,
   "id": "47f8b317",
   "metadata": {},
   "outputs": [],
   "source": [
    "from eodag import EODataAccessGateway\n",
    "import json\n",
    "\n",
    "dag = EODataAccessGateway()\n",
    "\n",
    "result = dag.search(\n",
    "    raise_errors=True,\n",
    "    start=\"20210101\",\n",
    "    productType=\"DT_CLIMATE_ADAPTATION\",\n",
    "    geom=\"POLYGON ((1 43, 1 44, 2 44, 2 43, 1 43))\"\n",
    ")\n",
    "\n",
    "print(json.dumps(result.as_geojson_object(), indent=2, default= str))"
   ]
  },
  {
   "cell_type": "code",
   "execution_count": null,
   "id": "6679b966",
   "metadata": {},
   "outputs": [],
   "source": [
    "from eodag import EODataAccessGateway\n",
    "from shapely.geometry import Polygon\n",
    "import json\n",
    "\n",
    "dag = EODataAccessGateway()\n",
    "\n",
    "result = dag.search(\n",
    "    raise_errors=True,\n",
    "    start=\"20210101\",\n",
    "    productType=\"DT_CLIMATE_ADAPTATION\",\n",
    "    geom=Polygon([\n",
    "        (1, 43),\n",
    "        (1, 44),\n",
    "        (2, 44),\n",
    "        (2, 43),  \n",
    "        (1, 43)   \n",
    "    ])\n",
    ")\n",
    "\n",
    "print(json.dumps(result.as_geojson_object(), indent=2, default= str))"
   ]
  }
 ],
 "metadata": {
  "kernelspec": {
   "display_name": "Python EODAG",
   "language": "python",
   "name": "eodag"
  },
  "language_info": {
   "codemirror_mode": {
    "name": "ipython",
    "version": 3
   },
   "file_extension": ".py",
   "mimetype": "text/x-python",
   "name": "python",
   "nbconvert_exporter": "python",
   "pygments_lexer": "ipython3",
   "version": "3.13.2"
  }
 },
 "nbformat": 4,
 "nbformat_minor": 5
}
