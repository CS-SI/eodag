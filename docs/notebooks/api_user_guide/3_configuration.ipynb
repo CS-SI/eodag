{
 "metadata": {
  "nbsphinx": {
   "execute": "always"
  },
  "language_info": {
   "codemirror_mode": {
    "name": "ipython",
    "version": 3
   },
   "file_extension": ".py",
   "mimetype": "text/x-python",
   "name": "python",
   "nbconvert_exporter": "python",
   "pygments_lexer": "ipython3",
   "version": "3.8.6"
  },
  "orig_nbformat": 2,
  "kernelspec": {
   "name": "python3",
   "display_name": "Python 3.8.6 64-bit",
   "metadata": {
    "interpreter": {
     "hash": "0cf725079c7d16f2cba0a185a776402bb287255802a557bed9d05e4eed5bfa43"
    }
   }
  }
 },
 "nbformat": 4,
 "nbformat_minor": 2,
 "cells": [
  {
   "source": [
    "# Configuration"
   ],
   "cell_type": "markdown",
   "metadata": {}
  },
  {
   "cell_type": "code",
   "execution_count": 2,
   "metadata": {},
   "outputs": [],
   "source": [
    "from eodag import EODataAccessGateway"
   ]
  },
  {
   "source": [
    "## Add or update a provider"
   ],
   "cell_type": "markdown",
   "metadata": {}
  },
  {
   "source": [
    "An [EODataAccessGateway](../../api_reference/core.rst#eodag.api.core.EODataAccessGateway) object has a method [update_providers_config()](../../api_reference/core.rst#eodag.api.core.EODataAccessGateway.update_providers_config) that allows to either add a new provider or to update an existing one. The example below shows how to add a STAC provider."
   ],
   "cell_type": "markdown",
   "metadata": {}
  },
  {
   "cell_type": "code",
   "execution_count": 5,
   "metadata": {},
   "outputs": [
    {
     "output_type": "execute_result",
     "data": {
      "text/plain": [
       "['astraea_eod',\n",
       " 'aws_eos',\n",
       " 'creodias',\n",
       " 'earth_search',\n",
       " 'mundi',\n",
       " 'onda',\n",
       " 'peps',\n",
       " 'sobloo',\n",
       " 'theia',\n",
       " 'usgs',\n",
       " 'usgs_satapi_aws']"
      ]
     },
     "metadata": {},
     "execution_count": 5
    }
   ],
   "source": [
    "dag = EODataAccessGateway()\n",
    "dag.available_providers()"
   ]
  },
  {
   "cell_type": "code",
   "execution_count": 6,
   "metadata": {},
   "outputs": [],
   "source": [
    "dag.update_providers_config(\"\"\"\n",
    "    tamn:\n",
    "        search:\n",
    "            type: StacSearch\n",
    "            api_endpoint: https://tamn.snapplanet.io/search\n",
    "        products:\n",
    "            S2_MSI_L1C:\n",
    "                productType: S2\n",
    "            GENERIC_PRODUCT_TYPE:\n",
    "                productType: '{productType}'\n",
    "        download:\n",
    "            type: AwsDownload\n",
    "            base_uri: https://tamn.snapplanet.io\n",
    "            flatten_top_dirs: True\n",
    "        auth:\n",
    "            type: AwsAuth\n",
    "            credentials:\n",
    "                aws_access_key_id: PLEASE_CHANGE_ME\n",
    "                aws_secret_access_key: PLEASE_CHANGE_ME\n",
    "\"\"\")"
   ]
  },
  {
   "cell_type": "code",
   "execution_count": 7,
   "metadata": {},
   "outputs": [
    {
     "output_type": "execute_result",
     "data": {
      "text/plain": [
       "True"
      ]
     },
     "metadata": {},
     "execution_count": 7
    }
   ],
   "source": [
    "\"tamn\" in dag.available_providers()"
   ]
  },
  {
   "source": [
    "## Set a provider's priority"
   ],
   "cell_type": "markdown",
   "metadata": {}
  },
  {
   "source": [
    "The method [set_preferred_provider()](../../api_reference/core.rst#eodag.api.core.EODataAccessGateway.set_preferred_provider) can be used to dynamically set the preferred provider/prioritary and the method [get_preferred_provider()](../../api_reference/core.rst#eodag.api.core.EODataAccessGateway.get_preferred_provider) to return the current preferred/prioritary provider."
   ],
   "cell_type": "markdown",
   "metadata": {}
  },
  {
   "cell_type": "code",
   "execution_count": 8,
   "metadata": {},
   "outputs": [
    {
     "output_type": "execute_result",
     "data": {
      "text/plain": [
       "('tamn', 2)"
      ]
     },
     "metadata": {},
     "execution_count": 8
    }
   ],
   "source": [
    "dag.set_preferred_provider(\"tamn\")\n",
    "dag.get_preferred_provider()"
   ]
  },
  {
   "source": [
    "## Logging"
   ],
   "cell_type": "markdown",
   "metadata": {}
  },
  {
   "source": [
    "Logging is activated with the [setup_logging()](../../api_reference/utils.rst#eodag.utils.logging.setup_logging) method. It's a useful way to see what `eodag` does under the hood (e.g. requesting the provider, adapting the response, etc.). It's also useful to detect when things go wrong and create an [issue on GitHub](https://github.com/CS-SI/eodag/issues) if relevant."
   ],
   "cell_type": "markdown",
   "metadata": {}
  },
  {
   "source": [
    "The method accepts the following values for its `verbose` parameter:\n",
    "\n",
    "* `0`: no logging\n",
    "* `1` or `2`: log at the *INFO* level\n",
    "* `3`: log at the *DEBUG* level (even more information)"
   ],
   "cell_type": "markdown",
   "metadata": {}
  },
  {
   "cell_type": "code",
   "execution_count": 5,
   "metadata": {},
   "outputs": [],
   "source": [
    "from eodag import setup_logging\n",
    "setup_logging(verbose=3)"
   ]
  },
  {
   "cell_type": "code",
   "execution_count": 6,
   "metadata": {},
   "outputs": [
    {
     "output_type": "stream",
     "name": "stderr",
     "text": [
      "2021-04-12 10:04:26,903-15s eodag.config                     [INFO    ] (config           ) Loading user configuration from: /home/maxime/.config/eodag/eodag.yml\n",
      "2021-04-12 10:04:27,045-15s eodag.core                       [DEBUG   ] (core             ) Opening product types index in /home/maxime/.config/eodag/.index\n",
      "2021-04-12 10:04:27,056-15s eodag.core                       [INFO    ] (core             ) Locations configuration loaded from /home/maxime/.config/eodag/locations.yml\n"
     ]
    },
    {
     "output_type": "execute_result",
     "data": {
      "text/plain": [
       "<eodag.api.core.EODataAccessGateway at 0x7efda88a6c40>"
      ]
     },
     "metadata": {},
     "execution_count": 6
    }
   ],
   "source": [
    "EODataAccessGateway()"
   ]
  }
 ]
}
