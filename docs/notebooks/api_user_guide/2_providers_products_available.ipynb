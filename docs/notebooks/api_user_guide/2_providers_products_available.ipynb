{
 "cells": [
  {
   "cell_type": "markdown",
   "metadata": {},
   "source": [
    "# Providers and products\n",
    "\n",
    "Only providers that do not need authentication for search will be listed here. This notebook is executed in CI/CD without providers credentials, and EODAG hides providers needing authentication for search that do not have credentials set."
   ]
  },
  {
   "cell_type": "code",
   "execution_count": 1,
   "metadata": {},
   "outputs": [
    {
     "name": "stderr",
     "output_type": "stream",
     "text": [
      "2024-08-09 09:14:18,559 eodag.config                     [INFO    ] Loading user configuration from: /home/sylvain/workspace/eodag/eodag/resources/user_conf_template.yml\n",
      "2024-08-09 09:14:18,611 eodag.core                       [INFO    ] usgs: provider needing auth for search has been pruned because no credentials could be found\n",
      "2024-08-09 09:14:18,613 eodag.core                       [INFO    ] aws_eos: provider needing auth for search has been pruned because no credentials could be found\n",
      "2024-08-09 09:14:18,614 eodag.core                       [INFO    ] meteoblue: provider needing auth for search has been pruned because no credentials could be found\n",
      "2024-08-09 09:14:18,615 eodag.core                       [INFO    ] hydroweb_next: provider needing auth for search has been pruned because no credentials could be found\n",
      "2024-08-09 09:14:18,618 eodag.core                       [INFO    ] wekeo_main: provider needing auth for search has been pruned because no credentials could be found\n",
      "2024-08-09 09:14:18,619 eodag.core                       [INFO    ] wekeo_ecmwf: provider needing auth for search has been pruned because no credentials could be found\n",
      "2024-08-09 09:14:18,621 eodag.core                       [INFO    ] wekeo_cmems: provider needing auth for search has been pruned because no credentials could be found\n",
      "2024-08-09 09:14:18,622 eodag.core                       [INFO    ] creodias_s3: provider needing auth for search has been pruned because no credentials could be found\n",
      "2024-08-09 09:14:18,624 eodag.core                       [INFO    ] dedl: provider needing auth for search has been pruned because no credentials could be found\n",
      "2024-08-09 09:14:18,658 eodag.core                       [INFO    ] Locations configuration loaded from /home/sylvain/.config/eodag/locations.yml\n"
     ]
    }
   ],
   "source": [
    "from eodag import EODataAccessGateway, setup_logging\n",
    "setup_logging(2)\n",
    "\n",
    "dag = EODataAccessGateway()"
   ]
  },
  {
   "cell_type": "markdown",
   "metadata": {},
   "source": [
    "## Providers available"
   ]
  },
  {
   "cell_type": "markdown",
   "metadata": {},
   "source": [
    "The method [available_providers()](../../api_reference/core.rst#eodag.api.core.EODataAccessGateway.available_providers) returns a list of the pre-configured providers."
   ]
  },
  {
   "cell_type": "code",
   "execution_count": 2,
   "metadata": {},
   "outputs": [
    {
     "data": {
      "text/plain": [
       "['peps',\n",
       " 'astraea_eod',\n",
       " 'cop_ads',\n",
       " 'cop_cds',\n",
       " 'cop_dataspace',\n",
       " 'cop_marine',\n",
       " 'creodias',\n",
       " 'dedt_lumi',\n",
       " 'earth_search',\n",
       " 'earth_search_cog',\n",
       " 'earth_search_gcs',\n",
       " 'ecmwf',\n",
       " 'eumetsat_ds',\n",
       " 'onda',\n",
       " 'planetary_computer',\n",
       " 'sara',\n",
       " 'theia',\n",
       " 'usgs_satapi_aws']"
      ]
     },
     "execution_count": 2,
     "metadata": {},
     "output_type": "execute_result"
    }
   ],
   "source": [
    "available_providers = dag.available_providers()\n",
    "available_providers"
   ]
  },
  {
   "cell_type": "code",
   "execution_count": 3,
   "metadata": {},
   "outputs": [
    {
     "name": "stdout",
     "output_type": "stream",
     "text": [
      "eodag has 18 providers already configured.\n"
     ]
    }
   ],
   "source": [
    "print(f\"eodag has {len(available_providers)} providers already configured.\")"
   ]
  },
  {
   "cell_type": "markdown",
   "metadata": {},
   "source": [
    "It can take a product type as an argument and will return the providers known to `eodag` that offer this product."
   ]
  },
  {
   "cell_type": "code",
   "execution_count": 4,
   "metadata": {},
   "outputs": [
    {
     "data": {
      "text/plain": [
       "['peps',\n",
       " 'astraea_eod',\n",
       " 'cop_dataspace',\n",
       " 'creodias',\n",
       " 'earth_search',\n",
       " 'earth_search_gcs',\n",
       " 'onda',\n",
       " 'sara']"
      ]
     },
     "execution_count": 4,
     "metadata": {},
     "output_type": "execute_result"
    }
   ],
   "source": [
    "dag.available_providers(\"S2_MSI_L1C\")"
   ]
  },
  {
   "cell_type": "markdown",
   "metadata": {},
   "source": [
    "<div class=\"alert alert-warning\">\n",
    "\n",
    "Note\n",
    "\n",
    "If a provider is configured to need authentication for search, and has no credentials set, it will be pruned on EODAG initialization, and will not appear in available providers list.\n",
    "\n",
    "</div>"
   ]
  },
  {
   "cell_type": "markdown",
   "metadata": {},
   "source": [
    "## Product types available"
   ]
  },
  {
   "cell_type": "markdown",
   "metadata": {},
   "source": [
    "The method [list_product_types()](../../api_reference/core.rst#eodag.api.core.EODataAccessGateway.list_product_types) returns a dictionary that represents `eodag`'s internal product type catalog if used with `fetch_providers=False`. It will fetch providers for new product types and return an extended list if used with `fetch_providers=True` (default behavior)."
   ]
  },
  {
   "cell_type": "code",
   "execution_count": 5,
   "metadata": {},
   "outputs": [
    {
     "name": "stdout",
     "output_type": "stream",
     "text": [
      "EODAG has 216 product types stored in its internal catalog.\n"
     ]
    }
   ],
   "source": [
    "internal_catalog = dag.list_product_types(fetch_providers=False)\n",
    "print(f\"EODAG has {len(internal_catalog)} product types stored in its internal catalog.\")"
   ]
  },
  {
   "cell_type": "code",
   "execution_count": 6,
   "metadata": {},
   "outputs": [
    {
     "name": "stderr",
     "output_type": "stream",
     "text": [
      "2024-08-09 09:14:18,749 eodag.config                     [INFO    ] Fetching external product types from https://cs-si.github.io/eodag/eodag/resources/ext_product_types.json\n"
     ]
    },
    {
     "name": "stdout",
     "output_type": "stream",
     "text": [
      "EODAG has 687 product types stored in its extended catalog, after having fetched providers.\n"
     ]
    }
   ],
   "source": [
    "extended_catalog = dag.list_product_types()\n",
    "print(f\"EODAG has {len(extended_catalog)} product types stored in its extended catalog, after having fetched providers.\")"
   ]
  },
  {
   "cell_type": "markdown",
   "metadata": {},
   "source": [
    "When providers are fetched for new product types, `eodag`'s product types configuration is updated in `EODataAccessGateway` instance. Extended product types list is then returned independantly of `fetch_providers` option in [list_product_types()](../../api_reference/core.rst#eodag.api.core.EODataAccessGateway.list_product_types):"
   ]
  },
  {
   "cell_type": "code",
   "execution_count": 7,
   "metadata": {},
   "outputs": [
    {
     "name": "stdout",
     "output_type": "stream",
     "text": [
      "list_product_types() keeps returning 687 product types.\n"
     ]
    }
   ],
   "source": [
    "called_again_catalog = dag.list_product_types(fetch_providers=False)\n",
    "print(f\"list_product_types() keeps returning {len(called_again_catalog)} product types.\")"
   ]
  },
  {
   "cell_type": "code",
   "execution_count": 8,
   "metadata": {},
   "outputs": [
    {
     "data": {
      "text/plain": [
       "{'ID': 'AG_ERA5',\n",
       " 'abstract': \"This dataset provides daily surface meteorological data for the period from 1979 to present as input for agriculture\\nand agro-ecological studies. This dataset is based on the hourly ECMWF ERA5 data at surface level and is referred to\\nas AgERA5. Acquisition and pre-processing of the original ERA5 data is a complex and specialized job. By providing\\nthe AgERA5 dataset, users are freed from this work and can directly start with meaningful input for their analyses\\nand modelling. To this end, the variables provided in this dataset match the input needs of most agriculture and\\nagro-ecological models.\\nData were aggregated to daily time steps at the local time zone and corrected towards a finer topography at a 0.1°\\nspatial resolution. The correction to the 0.1° grid was realized by applying grid and variable-specific regression\\nequations to the ERA5 dataset interpolated at 0.1° grid. The equations were trained on ECMWF's operational\\nhigh-resolution atmospheric model (HRES) at a 0.1° resolution. This way the data is tuned to the finer topography,\\nfiner land use pattern and finer land-sea delineation of the ECMWF HRES model.\\nThe data was produced on behalf of the Copernicus Climate Change Service.\\n\",\n",
       " 'platform': 'ERA5',\n",
       " 'instrument': None,\n",
       " 'platformSerialIdentifier': 'ERA5',\n",
       " 'processingLevel': None,\n",
       " 'keywords': 'ECMWF,Reanalysis,ERA5,CDS,Atmospheric,climate,land,agriculture,AgERA5,surface',\n",
       " 'sensorType': 'ATMOSPHERIC',\n",
       " 'license': 'proprietary',\n",
       " 'title': 'Agrometeorological indicators from 1979 to present derived from reanalysis',\n",
       " 'missionStartDate': '1979-01-01T00:00:00Z',\n",
       " '_id': 'AG_ERA5'}"
      ]
     },
     "execution_count": 8,
     "metadata": {},
     "output_type": "execute_result"
    }
   ],
   "source": [
    "internal_catalog[0]"
   ]
  },
  {
   "cell_type": "code",
   "execution_count": 9,
   "metadata": {},
   "outputs": [
    {
     "data": {
      "text/plain": [
       "['AG_ERA5',\n",
       " 'CAMS_EAC4',\n",
       " 'CAMS_EAC4_MONTHLY',\n",
       " 'CAMS_EU_AIR_QUALITY_FORECAST',\n",
       " 'CAMS_EU_AIR_QUALITY_RE',\n",
       " 'CAMS_GAC_FORECAST',\n",
       " 'CAMS_GFE_GFAS',\n",
       " 'CAMS_GLOBAL_EMISSIONS',\n",
       " 'CAMS_GREENHOUSE_EGG4',\n",
       " 'CAMS_GREENHOUSE_EGG4_MONTHLY',\n",
       " 'CAMS_GREENHOUSE_INVERSION',\n",
       " 'CAMS_GRF',\n",
       " 'CAMS_GRF_AUX',\n",
       " 'CAMS_SOLAR_RADIATION',\n",
       " 'COP_DEM_GLO30_DGED',\n",
       " 'COP_DEM_GLO30_DTED',\n",
       " 'COP_DEM_GLO90_DGED',\n",
       " 'COP_DEM_GLO90_DTED',\n",
       " 'DT_CLIMATE_ADAPTATION',\n",
       " 'DT_EXTREMES',\n",
       " 'EFAS_FORECAST',\n",
       " 'EFAS_HISTORICAL',\n",
       " 'EFAS_REFORECAST',\n",
       " 'EFAS_SEASONAL',\n",
       " 'EFAS_SEASONAL_REFORECAST',\n",
       " 'ERA5_LAND',\n",
       " 'ERA5_LAND_MONTHLY',\n",
       " 'ERA5_PL',\n",
       " 'ERA5_PL_MONTHLY',\n",
       " 'ERA5_SL',\n",
       " 'ERA5_SL_MONTHLY',\n",
       " 'FIRE_HISTORICAL',\n",
       " 'GLACIERS_DIST_RANDOLPH',\n",
       " 'GLOFAS_FORECAST',\n",
       " 'GLOFAS_HISTORICAL',\n",
       " 'GLOFAS_REFORECAST',\n",
       " 'GLOFAS_SEASONAL',\n",
       " 'GLOFAS_SEASONAL_REFORECAST',\n",
       " 'GRIDDED_GLACIERS_MASS_CHANGE',\n",
       " 'L57_REFLECTANCE',\n",
       " 'L8_OLI_TIRS_C1L1',\n",
       " 'L8_REFLECTANCE',\n",
       " 'LANDSAT_C2L1',\n",
       " 'LANDSAT_C2L2',\n",
       " 'LANDSAT_C2L2ALB_BT',\n",
       " 'LANDSAT_C2L2ALB_SR',\n",
       " 'LANDSAT_C2L2ALB_ST',\n",
       " 'LANDSAT_C2L2ALB_TA',\n",
       " 'LANDSAT_C2L2_SR',\n",
       " 'LANDSAT_C2L2_ST',\n",
       " 'METOP_AMSU_L1',\n",
       " 'METOP_ASCSZF1B',\n",
       " 'METOP_ASCSZFR02',\n",
       " 'METOP_ASCSZO1B',\n",
       " 'METOP_ASCSZOR02',\n",
       " 'METOP_ASCSZR1B',\n",
       " 'METOP_ASCSZRR02',\n",
       " 'METOP_AVHRRGACR02',\n",
       " 'METOP_AVHRRL1',\n",
       " 'METOP_GLB_SST_NC',\n",
       " 'METOP_GOMEL1',\n",
       " 'METOP_GOMEL1R03',\n",
       " 'METOP_HIRSL1',\n",
       " 'METOP_IASIL1C_ALL',\n",
       " 'METOP_IASSND02',\n",
       " 'METOP_IASTHR011',\n",
       " 'METOP_LSA_002',\n",
       " 'METOP_MHSL1',\n",
       " 'METOP_OSI_104',\n",
       " 'METOP_OSI_150A',\n",
       " 'METOP_OSI_150B',\n",
       " 'METOP_SOMO12',\n",
       " 'METOP_SOMO25',\n",
       " 'MODIS_MCD43A4',\n",
       " 'MO_GLOBAL_ANALYSISFORECAST_BGC_001_028',\n",
       " 'MO_GLOBAL_ANALYSISFORECAST_PHY_001_024',\n",
       " 'MO_GLOBAL_ANALYSISFORECAST_WAV_001_027',\n",
       " 'MO_GLOBAL_MULTIYEAR_BGC_001_033',\n",
       " 'MO_GLOBAL_MULTIYEAR_PHY_ENS_001_031',\n",
       " 'MO_GLOBAL_MULTIYEAR_WAV_001_032',\n",
       " 'MO_INSITU_GLO_PHY_TS_OA_MY_013_052',\n",
       " 'MO_INSITU_GLO_PHY_TS_OA_NRT_013_002',\n",
       " 'MO_INSITU_GLO_PHY_UV_DISCRETE_NRT_013_048',\n",
       " 'MO_MULTIOBS_GLO_BGC_NUTRIENTS_CARBON_PROFILES_MYNRT_015_009',\n",
       " 'MO_MULTIOBS_GLO_BIO_BGC_3D_REP_015_010',\n",
       " 'MO_MULTIOBS_GLO_BIO_CARBON_SURFACE_REP_015_008',\n",
       " 'MO_MULTIOBS_GLO_PHY_MYNRT_015_003',\n",
       " 'MO_MULTIOBS_GLO_PHY_S_SURFACE_MYNRT_015_013',\n",
       " 'MO_MULTIOBS_GLO_PHY_TSUV_3D_MYNRT_015_012',\n",
       " 'MO_MULTIOBS_GLO_PHY_W_3D_REP_015_007',\n",
       " 'MO_OCEANCOLOUR_GLO_BGC_L3_MY_009_103',\n",
       " 'MO_OCEANCOLOUR_GLO_BGC_L3_MY_009_107',\n",
       " 'MO_OCEANCOLOUR_GLO_BGC_L3_NRT_009_101',\n",
       " 'MO_OCEANCOLOUR_GLO_BGC_L4_MY_009_104',\n",
       " 'MO_OCEANCOLOUR_GLO_BGC_L4_MY_009_108',\n",
       " 'MO_OCEANCOLOUR_GLO_BGC_L4_NRT_009_102',\n",
       " 'MO_SEAICE_GLO_SEAICE_L4_NRT_OBSERVATIONS_011_001',\n",
       " 'MO_SEAICE_GLO_SEAICE_L4_NRT_OBSERVATIONS_011_006',\n",
       " 'MO_SEAICE_GLO_SEAICE_L4_REP_OBSERVATIONS_011_009',\n",
       " 'MO_SEALEVEL_GLO_PHY_L4_NRT_008_046',\n",
       " 'MO_SEALEVEL_GLO_PHY_MDT_008_063',\n",
       " 'MO_SST_GLO_SST_L3S_NRT_OBSERVATIONS_010_010',\n",
       " 'MO_SST_GLO_SST_L4_NRT_OBSERVATIONS_010_001',\n",
       " 'MO_SST_GLO_SST_L4_REP_OBSERVATIONS_010_011',\n",
       " 'MO_SST_GLO_SST_L4_REP_OBSERVATIONS_010_024',\n",
       " 'MO_WAVE_GLO_PHY_SWH_L3_NRT_014_001',\n",
       " 'MO_WAVE_GLO_PHY_SWH_L4_NRT_014_003',\n",
       " 'MO_WAVE_GLO_WAV_L3_SPC_NRT_OBSERVATIONS_014_002',\n",
       " 'MO_WIND_GLO_PHY_CLIMATE_L4_MY_012_003',\n",
       " 'MO_WIND_GLO_PHY_L3_MY_012_005',\n",
       " 'MO_WIND_GLO_PHY_L3_NRT_012_002',\n",
       " 'MO_WIND_GLO_PHY_L4_MY_012_006',\n",
       " 'MO_WIND_GLO_PHY_L4_NRT_012_004',\n",
       " 'NAIP',\n",
       " 'OSO',\n",
       " 'PLD_BUNDLE',\n",
       " 'PLD_PAN',\n",
       " 'PLD_PANSHARPENED',\n",
       " 'PLD_XS',\n",
       " 'S1_SAR_GRD',\n",
       " 'S1_SAR_GRD_COG',\n",
       " 'S1_SAR_OCN',\n",
       " 'S1_SAR_RAW',\n",
       " 'S1_SAR_SLC',\n",
       " 'S2_MSI_L1C',\n",
       " 'S2_MSI_L2A',\n",
       " 'S2_MSI_L2A_COG',\n",
       " 'S2_MSI_L2A_MAJA',\n",
       " 'S2_MSI_L2B_MAJA_SNOW',\n",
       " 'S2_MSI_L2B_MAJA_WATER',\n",
       " 'S2_MSI_L3A_WASP',\n",
       " 'S3_EFR',\n",
       " 'S3_EFR_BC002',\n",
       " 'S3_ERR',\n",
       " 'S3_ERR_BC002',\n",
       " 'S3_LAN',\n",
       " 'S3_LAN_HY',\n",
       " 'S3_LAN_LI',\n",
       " 'S3_LAN_SI',\n",
       " 'S3_OLCI_L2LFR',\n",
       " 'S3_OLCI_L2LRR',\n",
       " 'S3_OLCI_L2WFR',\n",
       " 'S3_OLCI_L2WFR_BC003',\n",
       " 'S3_OLCI_L2WRR',\n",
       " 'S3_OLCI_L2WRR_BC003',\n",
       " 'S3_RAC',\n",
       " 'S3_SLSTR_L1RBT',\n",
       " 'S3_SLSTR_L1RBT_BC003',\n",
       " 'S3_SLSTR_L1RBT_BC004',\n",
       " 'S3_SLSTR_L2AOD',\n",
       " 'S3_SLSTR_L2FRP',\n",
       " 'S3_SLSTR_L2LST',\n",
       " 'S3_SLSTR_L2WST',\n",
       " 'S3_SLSTR_L2WST_BC003',\n",
       " 'S3_SRA',\n",
       " 'S3_SRA_1A_BC004',\n",
       " 'S3_SRA_1A_BC005',\n",
       " 'S3_SRA_1B_BC004',\n",
       " 'S3_SRA_1B_BC005',\n",
       " 'S3_SRA_A',\n",
       " 'S3_SRA_BS',\n",
       " 'S3_SRA_BS_BC004',\n",
       " 'S3_SRA_BS_BC005',\n",
       " 'S3_SY_AOD',\n",
       " 'S3_SY_SYN',\n",
       " 'S3_SY_V10',\n",
       " 'S3_SY_VG1',\n",
       " 'S3_SY_VGP',\n",
       " 'S3_WAT',\n",
       " 'S3_WAT_BC004',\n",
       " 'S3_WAT_BC005',\n",
       " 'S5P_L1B_IR_SIR',\n",
       " 'S5P_L1B_IR_UVN',\n",
       " 'S5P_L1B_RA_BD1',\n",
       " 'S5P_L1B_RA_BD2',\n",
       " 'S5P_L1B_RA_BD3',\n",
       " 'S5P_L1B_RA_BD4',\n",
       " 'S5P_L1B_RA_BD5',\n",
       " 'S5P_L1B_RA_BD6',\n",
       " 'S5P_L1B_RA_BD7',\n",
       " 'S5P_L1B_RA_BD8',\n",
       " 'S5P_L2_AER_AI',\n",
       " 'S5P_L2_AER_LH',\n",
       " 'S5P_L2_CH4',\n",
       " 'S5P_L2_CLOUD',\n",
       " 'S5P_L2_CO',\n",
       " 'S5P_L2_HCHO',\n",
       " 'S5P_L2_IR_ALL',\n",
       " 'S5P_L2_NO2',\n",
       " 'S5P_L2_NP_BD3',\n",
       " 'S5P_L2_NP_BD6',\n",
       " 'S5P_L2_NP_BD7',\n",
       " 'S5P_L2_O3',\n",
       " 'S5P_L2_O3_PR',\n",
       " 'S5P_L2_O3_TCL',\n",
       " 'S5P_L2_SO2',\n",
       " 'SATELLITE_CARBON_DIOXIDE',\n",
       " 'SATELLITE_FIRE_BURNED_AREA',\n",
       " 'SATELLITE_METHANE',\n",
       " 'SATELLITE_SEA_ICE_CONCENTRATION',\n",
       " 'SATELLITE_SEA_ICE_EDGE_TYPE',\n",
       " 'SATELLITE_SEA_ICE_THICKNESS',\n",
       " 'SATELLITE_SEA_LEVEL_BLACK_SEA',\n",
       " 'SATELLITE_SEA_LEVEL_GLOBAL',\n",
       " 'SATELLITE_SEA_LEVEL_MEDITERRANEAN',\n",
       " 'SEASONAL_MONTHLY_PL',\n",
       " 'SEASONAL_MONTHLY_SL',\n",
       " 'SEASONAL_ORIGINAL_PL',\n",
       " 'SEASONAL_ORIGINAL_SL',\n",
       " 'SEASONAL_POSTPROCESSED_PL',\n",
       " 'SEASONAL_POSTPROCESSED_SL',\n",
       " 'SIS_HYDRO_MET_PROJ',\n",
       " 'SPOT5_SPIRIT',\n",
       " 'SPOT_SWH',\n",
       " 'SPOT_SWH_OLD',\n",
       " 'TIGGE_CF_SFC',\n",
       " 'UERRA_EUROPE_SL',\n",
       " 'VENUS_L1C',\n",
       " 'VENUS_L2A_MAJA',\n",
       " 'VENUS_L3A_MAJA']"
      ]
     },
     "execution_count": 9,
     "metadata": {},
     "output_type": "execute_result"
    }
   ],
   "source": [
    "products_id = [p[\"ID\"] for p in internal_catalog]\n",
    "products_id"
   ]
  },
  {
   "cell_type": "markdown",
   "metadata": {},
   "source": [
    "The method can take a provider name as an argument and will return the product types known to `eodag` that are offered by this provider."
   ]
  },
  {
   "cell_type": "code",
   "execution_count": 10,
   "metadata": {},
   "outputs": [
    {
     "data": {
      "text/plain": [
       "['S1_SAR_GRD', 'S1_SAR_OCN', 'S1_SAR_SLC', 'S2_MSI_L1C']"
      ]
     },
     "execution_count": 10,
     "metadata": {},
     "output_type": "execute_result"
    }
   ],
   "source": [
    "peps_products = dag.list_product_types(\"peps\")\n",
    "[p[\"ID\"] for p in peps_products]"
   ]
  },
  {
   "cell_type": "markdown",
   "metadata": {},
   "source": [
    "## Combine these two methods"
   ]
  },
  {
   "cell_type": "markdown",
   "metadata": {},
   "source": [
    "These two methods can be combined to find which product type is the most common in `eodag`'s catalog among all the providers."
   ]
  },
  {
   "cell_type": "code",
   "execution_count": 11,
   "metadata": {},
   "outputs": [
    {
     "name": "stdout",
     "output_type": "stream",
     "text": [
      "The most common product type is 'S1_SAR_GRD' with 8 providers offering it.\n"
     ]
    }
   ],
   "source": [
    "availability_per_product = []\n",
    "for product in products_id:\n",
    "    providers = dag.available_providers(product)\n",
    "    availability_per_product.append((product, len(providers)))\n",
    "availability_per_product = sorted(availability_per_product, key=lambda x: x[1], reverse=True)\n",
    "most_common_p_type, nb_providers = availability_per_product[0]\n",
    "print(f\"The most common product type is '{most_common_p_type}' with {nb_providers} providers offering it.\")"
   ]
  },
  {
   "cell_type": "markdown",
   "metadata": {},
   "source": [
    "These can be also used to find out which provider (as configured by `eodag`) offers the hights number of different product types."
   ]
  },
  {
   "cell_type": "code",
   "execution_count": 12,
   "metadata": {},
   "outputs": [
    {
     "name": "stdout",
     "output_type": "stream",
     "text": [
      "The provider with the largest number of product types is 'cop_marine' with 324.\n"
     ]
    }
   ],
   "source": [
    "availability_per_provider = []\n",
    "for provider in dag.available_providers():\n",
    "    provider_products_id = [\n",
    "        p[\"ID\"]\n",
    "        for p in dag.list_product_types(provider, fetch_providers=False)\n",
    "    ]\n",
    "    availability_per_provider.append(\n",
    "        (provider, len(provider_products_id))\n",
    "    )\n",
    "availability_per_provider = sorted(availability_per_provider, key=lambda x: x[1], reverse=True)\n",
    "provider, nb_p_types = availability_per_provider[0]\n",
    "print(f\"The provider with the largest number of product types is '{provider}' with {nb_p_types}.\")"
   ]
  },
  {
   "cell_type": "markdown",
   "metadata": {},
   "source": [
    "## Product types discovery"
   ]
  },
  {
   "cell_type": "markdown",
   "metadata": {},
   "source": [
    "EODAG comes with a large list of pre-configured product types. Some others are available from providers catalogs but will not be configured, or are not yet configured in EODAG.\n",
    "\n",
    "Some providers, like STAC providers, come in EODAG with a configuration describing how to discover these not-already-configured product types.\n",
    "\n",
    "With the method [discover_product_types()](../../api_reference/core.rst#eodag.api.core.EODataAccessGateway.discover_product_types) \n",
    "or CLI command [eodag discover](../../cli_user_guide.rst) we can obtain a JSON configuration file that will be used as *EODAG \n",
    "external product types configuration file*.\n",
    "\n",
    "In EODAG, the discovered *EODAG external product types configuration file* can be set to:\n",
    "\n",
    "* a file automatically built from github actions and stored in [eodag/resources/ext_product_types.json](https://raw.githubusercontent.com/CS-SI/eodag/develop/eodag/resources/ext_product_types.json) (default settings)\n",
    "* a custom remote or local file by setting its path in `EODAG_EXT_PRODUCT_TYPES_CFG_FILE` environment variable (if the file is not readable, only user-modified providers will be fetched).\n",
    "\n",
    "Then, when listing product types using [list_product_types(fetch_providers=True)](../../api_reference/core.rst#eodag.api.core.EODataAccessGateway.list_product_types), EODAG will first read the content of the *EODAG external product types configuration file* using [fetch_product_types_list()](../../api_reference/core.rst#eodag.api.core.EODataAccessGateway.fetch_product_types_list) \n",
    "then update [EODataAccessGateway](../../api_reference/core.rst#eodag.api.core.EODataAccessGateway) instance product types configuration, if needed.\n",
    "\n",
    "The obtained product types list will contain both pre-configured and discovered product types.\n",
    "\n",
    "![Fetch product types schema](../../_static/eodag_fetch_product_types.png \"Fetch product types schema\")"
   ]
  }
 ],
 "metadata": {
  "kernelspec": {
   "display_name": "Python 3 (ipykernel)",
   "language": "python",
   "name": "python3"
  },
  "language_info": {
   "codemirror_mode": {
    "name": "ipython",
    "version": 3
   },
   "file_extension": ".py",
   "mimetype": "text/x-python",
   "name": "python",
   "nbconvert_exporter": "python",
   "pygments_lexer": "ipython3",
   "version": "3.10.12"
  },
  "nbsphinx": {
   "execute": "always"
  },
  "vscode": {
   "interpreter": {
    "hash": "946c0635d97db016b4c650c0f14014bdbd70e0aaae6a8f4b82f75907772dbc16"
   }
  },
  "widgets": {
   "application/vnd.jupyter.widget-state+json": {
    "state": {},
    "version_major": 2,
    "version_minor": 0
   }
  }
 },
 "nbformat": 4,
 "nbformat_minor": 4
}
