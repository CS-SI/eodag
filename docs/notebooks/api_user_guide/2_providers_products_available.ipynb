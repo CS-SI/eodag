{
 "metadata": {
  "nbsphinx": {
   "execute": "always"
  },
  "language_info": {
   "codemirror_mode": {
    "name": "ipython",
    "version": 3
   },
   "file_extension": ".py",
   "mimetype": "text/x-python",
   "name": "python",
   "nbconvert_exporter": "python",
   "pygments_lexer": "ipython3",
   "version": "3.8.6"
  },
  "orig_nbformat": 2,
  "kernelspec": {
   "name": "python3",
   "display_name": "Python 3.8.6 64-bit",
   "metadata": {
    "interpreter": {
     "hash": "0cf725079c7d16f2cba0a185a776402bb287255802a557bed9d05e4eed5bfa43"
    }
   }
  }
 },
 "nbformat": 4,
 "nbformat_minor": 2,
 "cells": [
  {
   "source": [
    "# Providers and products"
   ],
   "cell_type": "markdown",
   "metadata": {}
  },
  {
   "source": [
    "from eodag import EODataAccessGateway\n",
    "dag = EODataAccessGateway()"
   ],
   "cell_type": "code",
   "metadata": {},
   "execution_count": 44,
   "outputs": []
  },
  {
   "source": [
    "## Providers available"
   ],
   "cell_type": "markdown",
   "metadata": {}
  },
  {
   "source": [
    "The method [available_providers()](../../api_reference/core.rst#eodag.api.core.EODataAccessGateway.available_providers) returns a list of the pre-configured providers."
   ],
   "cell_type": "markdown",
   "metadata": {}
  },
  {
   "cell_type": "code",
   "execution_count": 45,
   "metadata": {},
   "outputs": [
    {
     "output_type": "execute_result",
     "data": {
      "text/plain": [
       "['astraea_eod',\n",
       " 'aws_eos',\n",
       " 'creodias',\n",
       " 'earth_search',\n",
       " 'mundi',\n",
       " 'onda',\n",
       " 'peps',\n",
       " 'sobloo',\n",
       " 'theia',\n",
       " 'usgs',\n",
       " 'usgs_satapi_aws']"
      ]
     },
     "metadata": {},
     "execution_count": 45
    }
   ],
   "source": [
    "available_providers = dag.available_providers()\n",
    "available_providers"
   ]
  },
  {
   "cell_type": "code",
   "execution_count": 46,
   "metadata": {},
   "outputs": [
    {
     "output_type": "stream",
     "name": "stdout",
     "text": [
      "eodag has 12 providers already configured.\n"
     ]
    }
   ],
   "source": [
    "print(f\"eodag has {len(available_providers)} providers already configured.\")"
   ]
  },
  {
   "source": [
    "It can take a product type as an argument and will return the providers known to `eodag` that offer this product."
   ],
   "cell_type": "markdown",
   "metadata": {}
  },
  {
   "cell_type": "code",
   "execution_count": 47,
   "metadata": {},
   "outputs": [
    {
     "output_type": "execute_result",
     "data": {
      "text/plain": [
       "['astraea_eod',\n",
       " 'aws_eos',\n",
       " 'creodias',\n",
       " 'earth_search',\n",
       " 'mundi',\n",
       " 'onda',\n",
       " 'peps',\n",
       " 'sobloo']"
      ]
     },
     "metadata": {},
     "execution_count": 47
    }
   ],
   "source": [
    "dag.available_providers(\"S2_MSI_L1C\")"
   ]
  },
  {
   "source": [
    "## Product types available"
   ],
   "cell_type": "markdown",
   "metadata": {}
  },
  {
   "source": [
    "The method [list_product_types()](../../api_reference/core.rst#eodag.api.core.EODataAccessGateway.list_product_types) returns a dictionary that represents `eodag`'s internal product type catalog."
   ],
   "cell_type": "markdown",
   "metadata": {}
  },
  {
   "cell_type": "code",
   "execution_count": 51,
   "metadata": {},
   "outputs": [],
   "source": [
    "catalog = dag.list_product_types()"
   ]
  },
  {
   "cell_type": "code",
   "execution_count": 52,
   "metadata": {},
   "outputs": [
    {
     "output_type": "execute_result",
     "data": {
      "text/plain": [
       "{'ID': 'CBERS4_AWFI_L2',\n",
       " 'abstract': 'CBERS-4 AWFI camera Level-2 product. System corrected images, expect some\\ntranslation error.\\n',\n",
       " 'instrument': 'AWFI',\n",
       " 'platform': 'China-Brazil Earth Resources Satellite',\n",
       " 'platformSerialIdentifier': 'CBERS-4',\n",
       " 'processingLevel': 'L2',\n",
       " 'sensorType': 'OPTICAL',\n",
       " 'license': 'proprietary',\n",
       " 'missionStartDate': '2014-12-07T00:00:00Z',\n",
       " 'title': 'CBERS-4 AWFI Level-2'}"
      ]
     },
     "metadata": {},
     "execution_count": 52
    }
   ],
   "source": [
    "catalog[0]"
   ]
  },
  {
   "cell_type": "code",
   "execution_count": 62,
   "metadata": {},
   "outputs": [
    {
     "output_type": "execute_result",
     "data": {
      "text/plain": [
       "['CBERS4_AWFI_L2',\n",
       " 'CBERS4_AWFI_L4',\n",
       " 'CBERS4_MUX_L2',\n",
       " 'CBERS4_MUX_L4',\n",
       " 'CBERS4_PAN10M_L2',\n",
       " 'CBERS4_PAN10M_L4',\n",
       " 'CBERS4_PAN5M_L2',\n",
       " 'CBERS4_PAN5M_L4',\n",
       " 'L57_REFLECTANCE',\n",
       " 'L8_OLI_TIRS_C1L1',\n",
       " 'L8_REFLECTANCE',\n",
       " 'LANDSAT_C2L1',\n",
       " 'LANDSAT_C2L2ALB_BT',\n",
       " 'LANDSAT_C2L2ALB_SR',\n",
       " 'LANDSAT_C2L2ALB_ST',\n",
       " 'LANDSAT_C2L2ALB_TA',\n",
       " 'LANDSAT_C2L2_SR',\n",
       " 'LANDSAT_C2L2_ST',\n",
       " 'MODIS_MCD43A4',\n",
       " 'NAIP',\n",
       " 'OSO',\n",
       " 'PLD_BUNDLE',\n",
       " 'PLD_PAN',\n",
       " 'PLD_PANSHARPENED',\n",
       " 'PLD_XS',\n",
       " 'S1_SAR_GRD',\n",
       " 'S1_SAR_OCN',\n",
       " 'S1_SAR_RAW',\n",
       " 'S1_SAR_SLC',\n",
       " 'S2_MSI_L1C',\n",
       " 'S2_MSI_L2A',\n",
       " 'S2_MSI_L2A_MAJA',\n",
       " 'S2_MSI_L2B_MAJA_SNOW',\n",
       " 'S2_MSI_L2B_MAJA_WATER',\n",
       " 'S2_MSI_L3A_WASP',\n",
       " 'S3_EFR',\n",
       " 'S3_ERR',\n",
       " 'S3_LAN',\n",
       " 'S3_OLCI_L2LFR',\n",
       " 'S3_OLCI_L2LRR',\n",
       " 'S3_SLSTR_L1RBT',\n",
       " 'S3_SLSTR_L2LST',\n",
       " 'S3_SRA',\n",
       " 'S3_SRA_A_BS',\n",
       " 'S3_SRA_BS',\n",
       " 'S3_WAT',\n",
       " 'SPOT5_SPIRIT',\n",
       " 'SPOT_SWH',\n",
       " 'SPOT_SWH_OLD',\n",
       " 'VENUS_L1C',\n",
       " 'VENUS_L2A_MAJA',\n",
       " 'VENUS_L3A_MAJA']"
      ]
     },
     "metadata": {},
     "execution_count": 62
    }
   ],
   "source": [
    "products_id = [p[\"ID\"] for p in catalog]\n",
    "products_id"
   ]
  },
  {
   "cell_type": "code",
   "execution_count": 68,
   "metadata": {},
   "outputs": [
    {
     "output_type": "stream",
     "name": "stdout",
     "text": [
      "EODAG has 52 product types stored in its internal catalog.\n"
     ]
    }
   ],
   "source": [
    "print(f\"EODAG has {len(products_id)} product types stored in its internal catalog.\")"
   ]
  },
  {
   "source": [
    "The method can take a provider name as an argument and will return the product types known to `eodag` that are offered by this provider."
   ],
   "cell_type": "markdown",
   "metadata": {}
  },
  {
   "cell_type": "code",
   "execution_count": 64,
   "metadata": {},
   "outputs": [
    {
     "output_type": "execute_result",
     "data": {
      "text/plain": [
       "['S1_SAR_GRD',\n",
       " 'S1_SAR_OCN',\n",
       " 'S1_SAR_SLC',\n",
       " 'S2_MSI_L1C',\n",
       " 'S2_MSI_L2A',\n",
       " 'S3_EFR',\n",
       " 'S3_ERR',\n",
       " 'S3_LAN',\n",
       " 'S3_OLCI_L2LFR',\n",
       " 'S3_OLCI_L2LRR',\n",
       " 'S3_SLSTR_L1RBT',\n",
       " 'S3_SLSTR_L2LST']"
      ]
     },
     "metadata": {},
     "execution_count": 64
    }
   ],
   "source": [
    "peps_products = dag.list_product_types(\"peps\")\n",
    "[p[\"ID\"] for p in peps_products]"
   ]
  },
  {
   "source": [
    "## Combine these two methods"
   ],
   "cell_type": "markdown",
   "metadata": {}
  },
  {
   "source": [
    "These two methods can be combined to find which product type is the most common in `eodag`'s catalog among all the providers."
   ],
   "cell_type": "markdown",
   "metadata": {}
  },
  {
   "cell_type": "code",
   "execution_count": 65,
   "metadata": {},
   "outputs": [
    {
     "output_type": "execute_result",
     "data": {
      "text/plain": [
       "('S2_MSI_L1C', 9)"
      ]
     },
     "metadata": {},
     "execution_count": 65
    }
   ],
   "source": [
    "availability_per_product = []\n",
    "for product in products_id:\n",
    "    providers = dag.available_providers(product)\n",
    "    availability_per_product.append((product, len(providers)))\n",
    "availability_per_product = sorted(availability_per_product, key=lambda x: x[1], reverse=True)\n",
    "most_common_p_type, nb_providers = availability_per_product[0]\n",
    "print(f\"The most common product type is '{most_common_p_type}' with {nb_providers} providers offering it.\")"
   ]
  },
  {
   "source": [
    "These can be also used to find out which provider (as configured by `eodag`) offers the hights number of different product types."
   ],
   "cell_type": "markdown",
   "metadata": {}
  },
  {
   "cell_type": "code",
   "execution_count": 71,
   "metadata": {},
   "outputs": [
    {
     "output_type": "stream",
     "name": "stdout",
     "text": [
      "The provider with the largest number of product types is 'onda' with 18.\n"
     ]
    }
   ],
   "source": [
    "availability_per_provider = []\n",
    "for provider in dag.available_providers():\n",
    "    provider_products_id = [\n",
    "        p[\"ID\"]\n",
    "        for p in dag.list_product_types(provider)\n",
    "    ]\n",
    "    availability_per_provider.append(\n",
    "        (provider, len(provider_products_id))\n",
    "    )\n",
    "availability_per_provider = sorted(availability_per_provider, key=lambda x: x[1], reverse=True)\n",
    "provider, nb_p_types = availability_per_provider[0]\n",
    "print(f\"The provider with the largest number of product types is '{provider}' with {nb_p_types}.\")"
   ]
  }
 ]
}
