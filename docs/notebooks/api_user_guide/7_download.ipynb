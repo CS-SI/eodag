{
 "cells": [
  {
   "cell_type": "markdown",
   "metadata": {},
   "source": [
    "# Download"
   ]
  },
  {
   "cell_type": "markdown",
   "metadata": {},
   "source": [
    "Downloading products is after searching one of the most important features of `eodag`. This page describes the different methods available to download products and the parameters that these methods accept."
   ]
  },
  {
   "cell_type": "markdown",
   "metadata": {},
   "source": [
    "<div class=\"alert alert-warning\">\n",
    "\n",
    "Warning\n",
    "\n",
    "Downloading products from a provider whose storage is based on AWS may incur some cost.\n",
    "\n",
    "</div>"
   ]
  },
  {
   "cell_type": "markdown",
   "metadata": {},
   "source": [
    "## Setup"
   ]
  },
  {
   "cell_type": "markdown",
   "metadata": {},
   "source": [
    "Results obtained from *PEPS* after a search of *Sentinel 2 Level-1C* products over France in March 2021 will be loaded in a [SearchResult](../../api_reference/searchresult.rst#eodag.api.search_result.SearchResult). But first, the credentials need to be set in order to be able to download anything."
   ]
  },
  {
   "cell_type": "code",
   "execution_count": 1,
   "metadata": {},
   "outputs": [],
   "source": [
    "import os\n",
    "# os.environ[\"EODAG__PEPS__AUTH__CREDENTIALS__USERNAME\"] = \"PLEASE_CHANGE_ME\"\n",
    "# os.environ[\"EODAG__PEPS__AUTH__CREDENTIALS__PASSWORD\"] = \"PLEASE_CHANGE_ME\""
   ]
  },
  {
   "cell_type": "markdown",
   "metadata": {},
   "source": [
    "A workspace directory is created to store the downloaded products."
   ]
  },
  {
   "cell_type": "code",
   "execution_count": 2,
   "metadata": {},
   "outputs": [],
   "source": [
    "workspace = 'eodag_workspace_download'\n",
    "if not os.path.isdir(workspace):\n",
    "    os.mkdir(workspace)"
   ]
  },
  {
   "cell_type": "markdown",
   "metadata": {},
   "source": [
    "By default `eodag` saves products in the directory set by `outputs_prefix` which is by default the system temporary folder (`/tmp` on Linux) and quicklooks in a `quicklooks `subfolder of `outputs_prefix` (`tmp/quicklooks` on Linux). Here `eodag` is configured to download products in this workspace directory."
   ]
  },
  {
   "cell_type": "code",
   "execution_count": 3,
   "metadata": {},
   "outputs": [],
   "source": [
    "os.environ[\"EODAG__PEPS__DOWNLOAD__OUTPUTS_PREFIX\"] = os.path.abspath(workspace)"
   ]
  },
  {
   "cell_type": "markdown",
   "metadata": {},
   "source": [
    "Another setting that could be defined here is whether or not products need to be automatically extracted from their archive. They are extracted by default, this setting is not going to be altered here. The search result is finally loaded with [deserialize_and_register()](../../api_reference/core.rst#eodag.api.core.EODataAccessGateway.deserialize_and_register)."
   ]
  },
  {
   "cell_type": "code",
   "execution_count": 4,
   "metadata": {},
   "outputs": [
    {
     "name": "stdout",
     "output_type": "stream",
     "text": [
      "This SearchResult stores 10 S2_MSI_L1C products.\n"
     ]
    }
   ],
   "source": [
    "from eodag import EODataAccessGateway\n",
    "dag = EODataAccessGateway()\n",
    "search_results = dag.deserialize_and_register(\"data/download_search_results.geojson\")\n",
    "print(f\"This SearchResult stores {len(search_results)} {search_results[0].product_type} products.\")"
   ]
  },
  {
   "cell_type": "markdown",
   "metadata": {},
   "source": [
    "Logging is set to see more about what `eodag` does when it downloads products."
   ]
  },
  {
   "cell_type": "code",
   "execution_count": 5,
   "metadata": {},
   "outputs": [],
   "source": [
    "from eodag import setup_logging\n",
    "setup_logging(2)"
   ]
  },
  {
   "cell_type": "code",
   "execution_count": 6,
   "metadata": {
    "nbsphinx": "hidden"
   },
   "outputs": [],
   "source": [
    "# # This code cell has a special metadata entry: \"nbsphinx\": \"hidden\"\n",
    "# # That hides it when the documentation is built with nbsphinx/sphinx.\n",
    "\n",
    "# # Uncomment these lines to regenerate the GeoJSON file used in this notebook.\n",
    "\n",
    "# from eodag.api.search_result import SearchResult\n",
    "\n",
    "# search_results = dag.search_all(\n",
    "#    productType=\"S2_MSI_L1C\",\n",
    "#    start=\"2018-01-01\",\n",
    "#    end=\"2021-01-01\",\n",
    "#    geom={\"lonmin\": 1, \"latmin\": 45, \"lonmax\": 1.5, \"latmax\": 45.5},\n",
    "# )\n",
    "# combined_search_results = SearchResult([])\n",
    "# offline_prods = [p for p in search_results if p.properties[\"storageStatus\"] == \"OFFLINE\"]\n",
    "# online_prods = [p for p in search_results if p.properties[\"storageStatus\"] == \"ONLINE\"]\n",
    "# if len(offline_prods) == 0 or len(online_prods) == 0:\n",
    "#    raise ValueError(\"This search result must contain both ONLINE and OFFLINE products for the #notebook to be run correctly\")\n",
    "# combined_search_results.extend(online_prods[:5])\n",
    "# combined_search_results.extend(offline_prods[:5])\n",
    "# combined_search_results\n",
    "# dag.serialize(combined_search_results, \"data/download_search_results.geojson\")"
   ]
  },
  {
   "cell_type": "markdown",
   "metadata": {},
   "source": [
    "## Progress bar"
   ]
  },
  {
   "cell_type": "markdown",
   "metadata": {},
   "source": [
    "`eodag` displays a progress bar every time it downloads products or quicklooks. It uses `tqdm.auto` to create a\n",
    " progress bar adapted to the context (Notebook, terminal).\n",
    " \n",
    "### Cutomize progress bar\n",
    "\n",
    "Progress bars can be customized, using the `progress_callback` parameter of the download methods. Create your own instance of [ProgressCallback](../../api_reference/utils.rst#eodag.utils.ProgressCallback) class, customize it to pass it later to [download](./7_download.ipynb#Download-EO-products) methods:"
   ]
  },
  {
   "cell_type": "code",
   "execution_count": 7,
   "metadata": {},
   "outputs": [
    {
     "data": {
      "application/vnd.jupyter.widget-view+json": {
       "model_id": "f1fbb8e667ea4f85a22303514788c234",
       "version_major": 2,
       "version_minor": 0
      },
      "text/plain": [
       "Eating carrots:   0%|          | 0/3 [00:00<?, ?carrots/s]"
      ]
     },
     "metadata": {},
     "output_type": "display_data"
    }
   ],
   "source": [
    "from eodag.utils import ProgressCallback\n",
    "\n",
    "with ProgressCallback(total=3, unit=\"carrots\", unit_scale=False, desc=\"Eating carrots\") as progress_callback:\n",
    "    progress_callback(1)\n",
    "    progress_callback(2)"
   ]
  },
  {
   "cell_type": "markdown",
   "metadata": {},
   "source": [
    "Keep another progress bar opened, and customize it changing `ProgressCallback` [attributes inherited from tqdm](https://github.com/tqdm/tqdm/#documentation):"
   ]
  },
  {
   "cell_type": "code",
   "execution_count": 8,
   "metadata": {},
   "outputs": [
    {
     "data": {
      "application/vnd.jupyter.widget-view+json": {
       "model_id": "10090630957349eab6a987405d9aa8c5",
       "version_major": 2,
       "version_minor": 0
      },
      "text/plain": [
       "0.00B [00:00, ?B/s]"
      ]
     },
     "metadata": {},
     "output_type": "display_data"
    }
   ],
   "source": [
    "another_bar = ProgressCallback(dynamic_ncols=False, ncols=300)\n",
    "another_bar.colour = \"purple\""
   ]
  },
  {
   "cell_type": "code",
   "execution_count": 9,
   "metadata": {},
   "outputs": [],
   "source": [
    "another_bar(1)"
   ]
  },
  {
   "cell_type": "markdown",
   "metadata": {},
   "source": [
    "### Mute progress bar\n",
    "\n",
    "Progress bars can be muted using `setup_logging` and `0` as verbosity level, or `no_progress_bar` parameter."
   ]
  },
  {
   "cell_type": "code",
   "execution_count": 10,
   "metadata": {},
   "outputs": [
    {
     "data": {
      "application/vnd.jupyter.widget-view+json": {
       "model_id": "1fa040c68d4c485aaa765e8b75b3b1fa",
       "version_major": 2,
       "version_minor": 0
      },
      "text/plain": [
       "  0%|          | 0.00/2.00 [00:00<?, ?B/s]"
      ]
     },
     "metadata": {},
     "output_type": "display_data"
    },
    {
     "data": {
      "application/vnd.jupyter.widget-view+json": {
       "model_id": "c94db8bcfcec4543aacf46bb9bb8b2b8",
       "version_major": 2,
       "version_minor": 0
      },
      "text/plain": [
       "0.00B [00:00, ?B/s]"
      ]
     },
     "metadata": {},
     "output_type": "display_data"
    }
   ],
   "source": [
    "with ProgressCallback(total=2) as progress_callback:\n",
    "    progress_callback.desc = \"This will be displayed\"\n",
    "    progress_callback.position = 0\n",
    "    progress_callback(1)\n",
    "    \n",
    "setup_logging(verbose=0)\n",
    "\n",
    "with ProgressCallback() as progress_callback:\n",
    "    progress_callback.desc = \"This will be hidden\"\n",
    "    progress_callback.position = 1\n",
    "    progress_callback(1)\n",
    "\n",
    "setup_logging(verbose=2, no_progress_bar=True)\n",
    "\n",
    "with ProgressCallback() as progress_callback:\n",
    "    progress_callback.desc = \"This will be hidden\"\n",
    "    progress_callback.position = 2\n",
    "    progress_callback(1)\n",
    "    \n",
    "setup_logging(verbose=2)\n",
    "\n",
    "with ProgressCallback() as progress_callback:\n",
    "    progress_callback.desc = \"This will be also displayed\"\n",
    "    progress_callback.position = 3\n",
    "    progress_callback(1)\n",
    "    \n",
    "with ProgressCallback(disable=True) as progress_callback:\n",
    "    progress_callback.desc = \"This will be hidden\"\n",
    "    progress_callback.position = 4\n",
    "    progress_callback(1)"
   ]
  },
  {
   "cell_type": "markdown",
   "metadata": {},
   "source": [
    "## Already downloaded product"
   ]
  },
  {
   "cell_type": "markdown",
   "metadata": {},
   "source": [
    "An [EOProduct](../../api_reference/eoproduct.rst#eodag.api.product._product.EOProduct) has a `location` attribute that stores either its remote location (before being downloaded) or its local location (after being downloaded). The download methods of `eodag` checks first wheter the product/quicklook to download has been already downloaded. If so, it just returns its path and does not try to download it again."
   ]
  },
  {
   "cell_type": "markdown",
   "metadata": {},
   "source": [
    "## Download quicklooks"
   ]
  },
  {
   "cell_type": "markdown",
   "metadata": {},
   "source": [
    "EO products usually offer a *quicklook* image, a low resolution by-product of the original data. An [EOProduct](../../api_reference/eoproduct.rst#eodag.api.product._product.EOProduct) has a [get_quicklook()](../../api_reference/eoproduct.rst#eodag.api.product._product.EOProduct.get_quicklook) method that takes care of downloading the quicklook image and returns its path. It accepts a `base_dir` (optional) parameter to specify an output directory and a `filename` (optional) parameter to specify an output filename. By default, `eodag` saves a quicklook with its ID as filename.\n",
    "\n",
    "[get_quicklook()](../../api_reference/eoproduct.rst#eodag.api.product._product.EOProduct.get_quicklook) returns the local absolute path to the image downloaded. This is useful to precess it afterwards. Here `matplotlib` is used here to display 4 quicklooks."
   ]
  },
  {
   "cell_type": "code",
   "execution_count": 11,
   "metadata": {},
   "outputs": [
    {
     "data": {
      "application/vnd.jupyter.widget-view+json": {
       "model_id": "6be28f31ff9745108093212ce6dedfdc",
       "version_major": 2,
       "version_minor": 0
      },
      "text/plain": [
       "0.00B [00:00, ?B/s]"
      ]
     },
     "metadata": {},
     "output_type": "display_data"
    },
    {
     "name": "stderr",
     "output_type": "stream",
     "text": [
      "2021-05-18 15:53:36,297-15s eodag.api.product                [INFO    ] Download recorded in /home/sylvain/workspace/eodag/docs/notebooks/api_user_guide/eodag_workspace_download/quicklooks/S2B_MSIL1C_20201231T105349_N0209_R051_T31TCK_20201231T120402\n"
     ]
    },
    {
     "data": {
      "application/vnd.jupyter.widget-view+json": {
       "model_id": "b17b293c653148ffafdcf1cca9b8c820",
       "version_major": 2,
       "version_minor": 0
      },
      "text/plain": [
       "0.00B [00:00, ?B/s]"
      ]
     },
     "metadata": {},
     "output_type": "display_data"
    },
    {
     "name": "stderr",
     "output_type": "stream",
     "text": [
      "2021-05-18 15:53:36,860-15s eodag.api.product                [INFO    ] Download recorded in /home/sylvain/workspace/eodag/docs/notebooks/api_user_guide/eodag_workspace_download/quicklooks/S2B_MSIL1C_20201231T105349_N0209_R051_T31TCL_20201231T120402\n"
     ]
    },
    {
     "data": {
      "application/vnd.jupyter.widget-view+json": {
       "model_id": "e1310103b37240b3b96f00504aed1fb6",
       "version_major": 2,
       "version_minor": 0
      },
      "text/plain": [
       "0.00B [00:00, ?B/s]"
      ]
     },
     "metadata": {},
     "output_type": "display_data"
    },
    {
     "name": "stderr",
     "output_type": "stream",
     "text": [
      "2021-05-18 15:53:37,628-15s eodag.api.product                [INFO    ] Download recorded in /home/sylvain/workspace/eodag/docs/notebooks/api_user_guide/eodag_workspace_download/quicklooks/S2A_MSIL1C_20201229T110451_N0209_R094_T31TCL_20201229T131620\n"
     ]
    },
    {
     "data": {
      "application/vnd.jupyter.widget-view+json": {
       "model_id": "e6f0b799d36e46a6bb529a17984ef7a1",
       "version_major": 2,
       "version_minor": 0
      },
      "text/plain": [
       "0.00B [00:00, ?B/s]"
      ]
     },
     "metadata": {},
     "output_type": "display_data"
    },
    {
     "name": "stderr",
     "output_type": "stream",
     "text": [
      "2021-05-18 15:53:38,276-15s eodag.api.product                [INFO    ] Download recorded in /home/sylvain/workspace/eodag/docs/notebooks/api_user_guide/eodag_workspace_download/quicklooks/S2A_MSIL1C_20201226T105451_N0209_R051_T31TCK_20201226T130209\n"
     ]
    },
    {
     "data": {
      "application/vnd.jupyter.widget-view+json": {
       "model_id": "6946468fcf3d4f5db4445e83fe2c758b",
       "version_major": 2,
       "version_minor": 0
      },
      "text/plain": [
       "0.00B [00:00, ?B/s]"
      ]
     },
     "metadata": {},
     "output_type": "display_data"
    },
    {
     "name": "stderr",
     "output_type": "stream",
     "text": [
      "2021-05-18 15:53:38,843-15s eodag.api.product                [INFO    ] Download recorded in /home/sylvain/workspace/eodag/docs/notebooks/api_user_guide/eodag_workspace_download/quicklooks/S2A_MSIL1C_20201226T105451_N0209_R051_T31TCL_20201226T130209\n"
     ]
    },
    {
     "data": {
      "application/vnd.jupyter.widget-view+json": {
       "model_id": "40d77e0163074d4888606cd4e0bfe001",
       "version_major": 2,
       "version_minor": 0
      },
      "text/plain": [
       "0.00B [00:00, ?B/s]"
      ]
     },
     "metadata": {},
     "output_type": "display_data"
    },
    {
     "name": "stderr",
     "output_type": "stream",
     "text": [
      "2021-05-18 15:53:39,354-15s eodag.api.product                [INFO    ] Download recorded in /home/sylvain/workspace/eodag/docs/notebooks/api_user_guide/eodag_workspace_download/quicklooks/S2A_MSIL1C_20201119T110341_N0209_R094_T31TCL_20201119T131255\n"
     ]
    },
    {
     "data": {
      "application/vnd.jupyter.widget-view+json": {
       "model_id": "f9006c9cb3914908a0822081edcf9d3d",
       "version_major": 2,
       "version_minor": 0
      },
      "text/plain": [
       "0.00B [00:00, ?B/s]"
      ]
     },
     "metadata": {},
     "output_type": "display_data"
    },
    {
     "name": "stderr",
     "output_type": "stream",
     "text": [
      "2021-05-18 15:53:40,024-15s eodag.api.product                [INFO    ] Download recorded in /home/sylvain/workspace/eodag/docs/notebooks/api_user_guide/eodag_workspace_download/quicklooks/S2A_MSIL1C_20201116T105331_N0209_R051_T31TCK_20201116T130215\n"
     ]
    },
    {
     "data": {
      "application/vnd.jupyter.widget-view+json": {
       "model_id": "e1462a75fc5746f8b2665fb669861945",
       "version_major": 2,
       "version_minor": 0
      },
      "text/plain": [
       "0.00B [00:00, ?B/s]"
      ]
     },
     "metadata": {},
     "output_type": "display_data"
    },
    {
     "name": "stderr",
     "output_type": "stream",
     "text": [
      "2021-05-18 15:53:40,657-15s eodag.api.product                [INFO    ] Download recorded in /home/sylvain/workspace/eodag/docs/notebooks/api_user_guide/eodag_workspace_download/quicklooks/S2A_MSIL1C_20201116T105331_N0209_R051_T31TCL_20201116T130215\n"
     ]
    },
    {
     "data": {
      "application/vnd.jupyter.widget-view+json": {
       "model_id": "db9a46b90c7640ee906189a5981cde64",
       "version_major": 2,
       "version_minor": 0
      },
      "text/plain": [
       "0.00B [00:00, ?B/s]"
      ]
     },
     "metadata": {},
     "output_type": "display_data"
    },
    {
     "name": "stderr",
     "output_type": "stream",
     "text": [
      "2021-05-18 15:53:41,151-15s eodag.api.product                [INFO    ] Download recorded in /home/sylvain/workspace/eodag/docs/notebooks/api_user_guide/eodag_workspace_download/quicklooks/S2B_MSIL1C_20201114T110319_N0209_R094_T31TCL_20201114T120840\n"
     ]
    },
    {
     "data": {
      "application/vnd.jupyter.widget-view+json": {
       "model_id": "21b2328036e946929a68e99d432251d9",
       "version_major": 2,
       "version_minor": 0
      },
      "text/plain": [
       "0.00B [00:00, ?B/s]"
      ]
     },
     "metadata": {},
     "output_type": "display_data"
    },
    {
     "name": "stderr",
     "output_type": "stream",
     "text": [
      "2021-05-18 15:53:41,709-15s eodag.api.product                [INFO    ] Download recorded in /home/sylvain/workspace/eodag/docs/notebooks/api_user_guide/eodag_workspace_download/quicklooks/S2B_MSIL1C_20201111T105259_N0209_R051_T31TCK_20201111T130651\n"
     ]
    },
    {
     "data": {
      "image/png": "[encoded data removed]",
      "text/plain": [
       "<Figure size 720x576 with 10 Axes>"
      ]
     },
     "metadata": {
      "needs_background": "light"
     },
     "output_type": "display_data"
    }
   ],
   "source": [
    "import matplotlib.pyplot as plt\n",
    "import matplotlib.image as mpimg\n",
    "\n",
    "fig = plt.figure(figsize=(10, 8))\n",
    "for i, product in enumerate(search_results, start=1):\n",
    "    # This line takes care of downloading the quicklook\n",
    "    quicklook_path = product.get_quicklook()\n",
    "    \n",
    "    # Plot the quicklook\n",
    "    img = mpimg.imread(quicklook_path)\n",
    "    ax = fig.add_subplot(3, 4, i)\n",
    "    ax.set_title(i - 1)\n",
    "    plt.imshow(img)\n",
    "plt.tight_layout()"
   ]
  },
  {
   "cell_type": "markdown",
   "metadata": {},
   "source": [
    "## Download EO products"
   ]
  },
  {
   "cell_type": "markdown",
   "metadata": {},
   "source": [
    "### Dynamically configure some download options"
   ]
  },
  {
   "cell_type": "markdown",
   "metadata": {},
   "source": [
    "The 3 download methods introduced below accept the following optional kwargs that temporarily override the global configuration:\n",
    "\n",
    "* `outputs_prefix` (`str`): absolute path to a folder where the products should be saved\n",
    "* `extract` (`bool`): whether to automatically extract or not the downloaded product archive\n",
    "* `dl_url_params` (`dict`): additional parameters to pass over to the download url as an url parameter\n",
    "* `delete_archive` (`bool`): whether to delete the downloaded archives"
   ]
  },
  {
   "cell_type": "markdown",
   "metadata": {},
   "source": [
    "### Order OFFLINE products"
   ]
  },
  {
   "cell_type": "markdown",
   "metadata": {},
   "source": [
    "As introduced in the [getting started guide](../../getting_started_guide/product_storage_status.rst) an EO product may not be available for download immediately. If the product status is `OFFLINE`, the download methods will request an order of the product and, by default, retry to download it every 2 minutes during 20 minutes. These two durations can be set with the `wait` (in minutes) and `timeout` (in minutes) optional parameters of all the download methods."
   ]
  },
  {
   "cell_type": "markdown",
   "metadata": {},
   "source": [
    "The storage status of a product can be obtained from its `storageStatus` field. The status of an `OFFLINE` product is updated by `eodag` to `STAGING` when ordered and to `ONLINE` when found available."
   ]
  },
  {
   "cell_type": "code",
   "execution_count": 12,
   "metadata": {},
   "outputs": [
    {
     "data": {
      "text/plain": [
       "['ONLINE',\n",
       " 'ONLINE',\n",
       " 'ONLINE',\n",
       " 'ONLINE',\n",
       " 'ONLINE',\n",
       " 'OFFLINE',\n",
       " 'OFFLINE',\n",
       " 'OFFLINE',\n",
       " 'OFFLINE',\n",
       " 'OFFLINE']"
      ]
     },
     "execution_count": 12,
     "metadata": {},
     "output_type": "execute_result"
    }
   ],
   "source": [
    "[p.properties[\"storageStatus\"] for p in search_results]"
   ]
  },
  {
   "cell_type": "markdown",
   "metadata": {},
   "source": [
    "A `FilterProperty` can be used to filter out `OFFLINE` products to avoid triggering any product order. "
   ]
  },
  {
   "cell_type": "code",
   "execution_count": 14,
   "metadata": {},
   "outputs": [
    {
     "name": "stderr",
     "output_type": "stream",
     "text": [
      "2021-05-18 15:53:55,220-15s eodag.plugins.crunch.filter_property [INFO    ] Finished filtering products. 5 resulting products\n"
     ]
    },
    {
     "data": {
      "text/plain": [
       "['ONLINE', 'ONLINE', 'ONLINE', 'ONLINE', 'ONLINE']"
      ]
     },
     "execution_count": 14,
     "metadata": {},
     "output_type": "execute_result"
    }
   ],
   "source": [
    "online_search_results = search_results.filter_property(\n",
    "    storageStatus=\"ONLINE\"\n",
    ")\n",
    "[p.properties[\"storageStatus\"] for p in online_search_results]"
   ]
  },
  {
   "cell_type": "markdown",
   "metadata": {},
   "source": [
    "### Download multiple products at once"
   ]
  },
  {
   "cell_type": "markdown",
   "metadata": {},
   "source": [
    "[EODataAccessGateway](../../api_reference/core.rst#eodag.api.core.EODataAccessGateway) offers a [download_all()](../../api_reference/core.rst#eodag.api.core.EODataAccessGateway.download_all) method that takes a [SearchResult](../../api_reference/searchresult.rst#eodag.api.search_result.SearchResult) argument and will try to download each [EOProduct](../../api_reference/eoproduct.rst#eodag.api.product._product.EOProduct) it contains. It returns a list of absolute paths to the downloaded products. For the purpose of this user guide only 2 products will be downloaded."
   ]
  },
  {
   "cell_type": "code",
   "execution_count": 15,
   "metadata": {},
   "outputs": [
    {
     "name": "stderr",
     "output_type": "stream",
     "text": [
      "2021-05-18 15:53:57,558-15s eodag.core                       [INFO    ] Downloading 2 products\n"
     ]
    },
    {
     "data": {
      "application/vnd.jupyter.widget-view+json": {
       "model_id": "2a46ccd2f87649e6899a26d07aedcad8",
       "version_major": 2,
       "version_minor": 0
      },
      "text/plain": [
       "Downloaded products:   0%|          | 0/2 [00:00<?, ?product/s]"
      ]
     },
     "metadata": {},
     "output_type": "display_data"
    },
    {
     "data": {
      "application/vnd.jupyter.widget-view+json": {
       "model_id": "ccf12fa726af4e32abfd15d20fb1e0b1",
       "version_major": 2,
       "version_minor": 0
      },
      "text/plain": [
       "0.00B [00:00, ?B/s]"
      ]
     },
     "metadata": {},
     "output_type": "display_data"
    },
    {
     "name": "stderr",
     "output_type": "stream",
     "text": [
      "2021-05-18 15:53:57,642-15s eodag.plugins.download.base      [INFO    ] Download url: https://peps.cnes.fr/resto/collections/S2ST/86440880-7f7d-50f0-87a7-ac1bc2bd8fbd/download\n",
      "2021-05-18 15:56:13,034-15s eodag.plugins.download.base      [INFO    ] Extraction activated\n",
      "2021-05-18 15:56:15,056-15s eodag.api.product                [INFO    ] Remote location of the product is still available through its 'remote_location' property: https://peps.cnes.fr/resto/collections/S2ST/86440880-7f7d-50f0-87a7-ac1bc2bd8fbd/download\n"
     ]
    },
    {
     "data": {
      "application/vnd.jupyter.widget-view+json": {
       "model_id": "19822930690b497893863b9e99f3a241",
       "version_major": 2,
       "version_minor": 0
      },
      "text/plain": [
       "0.00B [00:00, ?B/s]"
      ]
     },
     "metadata": {},
     "output_type": "display_data"
    },
    {
     "name": "stderr",
     "output_type": "stream",
     "text": [
      "2021-05-18 15:56:15,103-15s eodag.plugins.download.base      [INFO    ] Download url: https://peps.cnes.fr/resto/collections/S2ST/c51639e0-18ab-55a4-bc7c-7757a64911fa/download\n",
      "2021-05-18 16:00:46,615-15s eodag.plugins.download.base      [INFO    ] Extraction activated\n",
      "2021-05-18 16:00:50,326-15s eodag.api.product                [INFO    ] Remote location of the product is still available through its 'remote_location' property: https://peps.cnes.fr/resto/collections/S2ST/c51639e0-18ab-55a4-bc7c-7757a64911fa/download\n"
     ]
    }
   ],
   "source": [
    "products_to_download = online_search_results[2:4]\n",
    "paths = dag.download_all(products_to_download)"
   ]
  },
  {
   "cell_type": "code",
   "execution_count": 16,
   "metadata": {},
   "outputs": [
    {
     "data": {
      "text/plain": [
       "['/home/sylvain/workspace/eodag/docs/notebooks/api_user_guide/eodag_workspace_download/S2A_MSIL1C_20201229T110451_N0209_R094_T31TCL_20201229T131620/S2A_MSIL1C_20201229T110451_N0209_R094_T31TCL_20201229T131620.SAFE',\n",
       " '/home/sylvain/workspace/eodag/docs/notebooks/api_user_guide/eodag_workspace_download/S2A_MSIL1C_20201226T105451_N0209_R051_T31TCK_20201226T130209/S2A_MSIL1C_20201226T105451_N0209_R051_T31TCK_20201226T130209.SAFE']"
      ]
     },
     "execution_count": 16,
     "metadata": {},
     "output_type": "execute_result"
    }
   ],
   "source": [
    "paths"
   ]
  },
  {
   "cell_type": "markdown",
   "metadata": {},
   "source": [
    "The command below shows that the products have been downloaded as archived files (*Sentinel* products are distributed in the [SAFE format](https://sentinel.esa.int/web/sentinel/user-guides/sentinel-2-msi/data-formats)). `eodag` then took care of extracting them to their own directory."
   ]
  },
  {
   "cell_type": "code",
   "execution_count": 17,
   "metadata": {},
   "outputs": [
    {
     "name": "stdout",
     "output_type": "stream",
     "text": [
      "quicklooks\n",
      "S2A_MSIL1C_20201226T105451_N0209_R051_T31TCK_20201226T130209\n",
      "S2A_MSIL1C_20201226T105451_N0209_R051_T31TCK_20201226T130209.zip\n",
      "S2A_MSIL1C_20201229T110451_N0209_R094_T31TCL_20201229T131620\n",
      "S2A_MSIL1C_20201229T110451_N0209_R094_T31TCL_20201229T131620.zip\n"
     ]
    }
   ],
   "source": [
    "!ls {workspace}"
   ]
  },
  {
   "cell_type": "code",
   "execution_count": 18,
   "metadata": {},
   "outputs": [
    {
     "name": "stdout",
     "output_type": "stream",
     "text": [
      "AUX_DATA   GRANULE  INSPIRE.xml    MTD_MSIL1C.xml\n",
      "DATASTRIP  HTML     manifest.safe  rep_info\n"
     ]
    }
   ],
   "source": [
    "!ls {paths[0]}"
   ]
  },
  {
   "cell_type": "markdown",
   "metadata": {},
   "source": [
    "`eodag` saves a file in the `outputs_prefix` folder that contains a hash list of the products downloaded. Before downloading products, this file is read and it is checked whether the products to download were already downloaded or not. If they were, their download is skipped."
   ]
  },
  {
   "cell_type": "code",
   "execution_count": 19,
   "metadata": {},
   "outputs": [
    {
     "name": "stderr",
     "output_type": "stream",
     "text": [
      "2021-05-18 16:10:58,354-15s eodag.core                       [INFO    ] Downloading 2 products\n"
     ]
    },
    {
     "data": {
      "application/vnd.jupyter.widget-view+json": {
       "model_id": "d712e591f1c841d29e07865dfe94bc05",
       "version_major": 2,
       "version_minor": 0
      },
      "text/plain": [
       "Downloaded products:   0%|          | 0/2 [00:00<?, ?product/s]"
      ]
     },
     "metadata": {},
     "output_type": "display_data"
    },
    {
     "data": {
      "application/vnd.jupyter.widget-view+json": {
       "model_id": "70f39c06c0934426a3e978eadbe01ccf",
       "version_major": 2,
       "version_minor": 0
      },
      "text/plain": [
       "0.00B [00:00, ?B/s]"
      ]
     },
     "metadata": {},
     "output_type": "display_data"
    },
    {
     "name": "stderr",
     "output_type": "stream",
     "text": [
      "2021-05-18 16:10:58,438-15s eodag.plugins.download.base      [INFO    ] Product already present on this platform. Identifier: /home/sylvain/workspace/eodag/docs/notebooks/api_user_guide/eodag_workspace_download/S2A_MSIL1C_20201229T110451_N0209_R094_T31TCL_20201229T131620/S2A_MSIL1C_20201229T110451_N0209_R094_T31TCL_20201229T131620.SAFE\n",
      "2021-05-18 16:10:58,440-15s eodag.api.product                [INFO    ] Remote location of the product is still available through its 'remote_location' property: https://peps.cnes.fr/resto/collections/S2ST/86440880-7f7d-50f0-87a7-ac1bc2bd8fbd/download\n"
     ]
    },
    {
     "data": {
      "application/vnd.jupyter.widget-view+json": {
       "model_id": "8ddead9fd363442399080031ff27a935",
       "version_major": 2,
       "version_minor": 0
      },
      "text/plain": [
       "0.00B [00:00, ?B/s]"
      ]
     },
     "metadata": {},
     "output_type": "display_data"
    },
    {
     "name": "stderr",
     "output_type": "stream",
     "text": [
      "2021-05-18 16:10:58,479-15s eodag.plugins.download.base      [INFO    ] Product already present on this platform. Identifier: /home/sylvain/workspace/eodag/docs/notebooks/api_user_guide/eodag_workspace_download/S2A_MSIL1C_20201226T105451_N0209_R051_T31TCK_20201226T130209/S2A_MSIL1C_20201226T105451_N0209_R051_T31TCK_20201226T130209.SAFE\n",
      "2021-05-18 16:10:58,481-15s eodag.api.product                [INFO    ] Remote location of the product is still available through its 'remote_location' property: https://peps.cnes.fr/resto/collections/S2ST/c51639e0-18ab-55a4-bc7c-7757a64911fa/download\n"
     ]
    },
    {
     "data": {
      "text/plain": [
       "['/home/sylvain/workspace/eodag/docs/notebooks/api_user_guide/eodag_workspace_download/S2A_MSIL1C_20201229T110451_N0209_R094_T31TCL_20201229T131620/S2A_MSIL1C_20201229T110451_N0209_R094_T31TCL_20201229T131620.SAFE',\n",
       " '/home/sylvain/workspace/eodag/docs/notebooks/api_user_guide/eodag_workspace_download/S2A_MSIL1C_20201226T105451_N0209_R051_T31TCK_20201226T130209/S2A_MSIL1C_20201226T105451_N0209_R051_T31TCK_20201226T130209.SAFE']"
      ]
     },
     "execution_count": 19,
     "metadata": {},
     "output_type": "execute_result"
    }
   ],
   "source": [
    "products_to_download = online_search_results[2:4]\n",
    "dag.download_all(products_to_download)"
   ]
  },
  {
   "cell_type": "markdown",
   "metadata": {},
   "source": [
    "### Download a single product"
   ]
  },
  {
   "cell_type": "markdown",
   "metadata": {},
   "source": [
    "[EODataAccessGateway](../../api_reference/core.rst#eodag.api.core.EODataAccessGateway) also offers a [download()](../../api_reference/core.rst#eodag.api.core.EODataAccessGateway.download) method that takes an [EOProduct](../../api_reference/eoproduct.rst#eodag.api.product._product.EOProduct) argument and will try to download it. It is a wrapper around the [download()](../../api_reference/eoproduct.rst#eodag.api.product._product.EOProduct.download) method that each [EOProduct](../../api_reference/eoproduct.rst#eodag.api.product._product.EOProduct) has. Its advantage over the latter is that, similarly to what does [deserialize_and_register()](../../api_reference/core.rst#eodag.api.core.EODataAccessGateway.deserialize_and_register), it adds the information required for a product to download itself if it was missing. It does so by extracting the product's provider and getting the right authentication and download plugins. Both methods return the absolute path to the downloaded product."
   ]
  },
  {
   "cell_type": "markdown",
   "metadata": {},
   "source": [
    "### Download an OFFLINE product"
   ]
  },
  {
   "cell_type": "markdown",
   "metadata": {},
   "source": [
    "This examples shows what logs `eodag` emits when it tries to download a product that is originally `OFFLINE`. It is set to retry downloading the product every 1 minute after ordering it, and to stop trying (skip it if [download_all()](../../api_reference/core.rst#eodag.api.core.EODataAccessGateway.download_all) is used) after 5 minutes."
   ]
  },
  {
   "cell_type": "code",
   "execution_count": 20,
   "metadata": {},
   "outputs": [
    {
     "name": "stderr",
     "output_type": "stream",
     "text": [
      "2021-05-18 16:11:17,493-15s eodag.plugins.crunch.filter_property [INFO    ] Finished filtering products. 5 resulting products\n"
     ]
    },
    {
     "data": {
      "text/plain": [
       "'OFFLINE'"
      ]
     },
     "execution_count": 20,
     "metadata": {},
     "output_type": "execute_result"
    }
   ],
   "source": [
    "offline_product = search_results.crunch(\n",
    "    FilterProperty(dict(storageStatus=\"OFFLINE\"))\n",
    ")[1]\n",
    "offline_product.properties[\"storageStatus\"]"
   ]
  },
  {
   "cell_type": "code",
   "execution_count": 21,
   "metadata": {
    "tags": []
   },
   "outputs": [
    {
     "data": {
      "application/vnd.jupyter.widget-view+json": {
       "model_id": "6cab70ca773d492f91e28b04cfaeacc0",
       "version_major": 2,
       "version_minor": 0
      },
      "text/plain": [
       "0.00B [00:00, ?B/s]"
      ]
     },
     "metadata": {},
     "output_type": "display_data"
    },
    {
     "name": "stderr",
     "output_type": "stream",
     "text": [
      "2021-05-18 16:11:18,974-15s eodag.plugins.download.base      [INFO    ] Download url: https://peps.cnes.fr/resto/collections/S2ST/0b57ac26-d487-5367-aa86-9101dac07271/download\n",
      "2021-05-18 16:15:39,370-15s eodag.plugins.download.base      [INFO    ] Extraction activated\n",
      "2021-05-18 16:15:43,101-15s eodag.api.product                [INFO    ] Remote location of the product is still available through its 'remote_location' property: https://peps.cnes.fr/resto/collections/S2ST/0b57ac26-d487-5367-aa86-9101dac07271/download\n"
     ]
    }
   ],
   "source": [
    "path = dag.download(\n",
    "    offline_product,\n",
    "    wait=1,\n",
    "    timeout=5,\n",
    ")"
   ]
  },
  {
   "cell_type": "code",
   "execution_count": 22,
   "metadata": {},
   "outputs": [
    {
     "data": {
      "text/plain": [
       "'/home/sylvain/workspace/eodag/docs/notebooks/api_user_guide/eodag_workspace_download/S2A_MSIL1C_20201116T105331_N0209_R051_T31TCK_20201116T130215/S2A_MSIL1C_20201116T105331_N0209_R051_T31TCK_20201116T130215.SAFE'"
      ]
     },
     "execution_count": 22,
     "metadata": {},
     "output_type": "execute_result"
    }
   ],
   "source": [
    "path"
   ]
  },
  {
   "cell_type": "markdown",
   "metadata": {},
   "source": [
    "Now the `location` attribute rightfully points to its local path."
   ]
  },
  {
   "cell_type": "code",
   "execution_count": 23,
   "metadata": {},
   "outputs": [
    {
     "data": {
      "text/plain": [
       "'file:///home/sylvain/workspace/eodag/docs/notebooks/api_user_guide/eodag_workspace_download/S2A_MSIL1C_20201116T105331_N0209_R051_T31TCK_20201116T130215/S2A_MSIL1C_20201116T105331_N0209_R051_T31TCK_20201116T130215.SAFE'"
      ]
     },
     "execution_count": 23,
     "metadata": {},
     "output_type": "execute_result"
    }
   ],
   "source": [
    "offline_product.location"
   ]
  },
  {
   "cell_type": "code",
   "execution_count": null,
   "metadata": {},
   "outputs": [],
   "source": []
  }
 ],
 "metadata": {
  "kernelspec": {
   "display_name": "Python 3.8.10 64-bit",
   "language": "python",
   "name": "python3"
  },
  "language_info": {
   "codemirror_mode": {
    "name": "ipython",
    "version": 3
   },
   "file_extension": ".py",
   "mimetype": "text/x-python",
   "name": "python",
   "nbconvert_exporter": "python",
   "pygments_lexer": "ipython3",
   "version": "3.8.10"
  },
  "vscode": {
   "interpreter": {
    "hash": "916dbcbb3f70747c44a77c7bcd40155683ae19c65e1c03b4aa3499c5328201f1"
   }
  },
  "widgets": {
   "application/vnd.jupyter.widget-state+json": {
    "state": {
     "00f74c9afcee41f781080736e4b1b2bb": {
      "model_module": "@jupyter-widgets/controls",
      "model_module_version": "1.5.0",
      "model_name": "DescriptionStyleModel",
      "state": {
       "description_width": ""
      }
     },
     "01fe9acbf32c4e9f85fe4808dc168a7a": {
      "model_module": "@jupyter-widgets/controls",
      "model_module_version": "1.5.0",
      "model_name": "DescriptionStyleModel",
      "state": {
       "description_width": ""
      }
     },
     "02f22b40afa244f58e3af27e9fc77886": {
      "model_module": "@jupyter-widgets/base",
      "model_module_version": "1.2.0",
      "model_name": "LayoutModel",
      "state": {}
     },
     "03e06789065b4af2af8cbeebaf8fcd8d": {
      "model_module": "@jupyter-widgets/controls",
      "model_module_version": "1.5.0",
      "model_name": "HTMLModel",
      "state": {
       "layout": "IPY_MODEL_4cef95ea6f3c4b57966f14bfd05443ac",
       "style": "IPY_MODEL_5e08ebacc2e547869cc52977b723cc0c",
       "value": "Extracting files from S2A_MSIL1C_20201226T105451_N0209_R051_T31TCK_20201226T130209.zip: 100%"
      }
     },
     "04a03a9173fb4bbfbc23410f3adce072": {
      "model_module": "@jupyter-widgets/controls",
      "model_module_version": "1.5.0",
      "model_name": "DescriptionStyleModel",
      "state": {
       "description_width": ""
      }
     },
     "0655c8b70af64a26b25bf7326b78d82e": {
      "model_module": "@jupyter-widgets/controls",
      "model_module_version": "1.5.0",
      "model_name": "HTMLModel",
      "state": {
       "layout": "IPY_MODEL_17ae13e6a8a6446db465bcc94c8bc39b",
       "style": "IPY_MODEL_763143b8898945969c8effe0a64b09a4",
       "value": " 34.8k/34.8k [00:00&lt;00:00, 293kB/s]"
      }
     },
     "07909752099f404eb16272abde2c49de": {
      "model_module": "@jupyter-widgets/controls",
      "model_module_version": "1.5.0",
      "model_name": "HTMLModel",
      "state": {
       "layout": "IPY_MODEL_0f77844e8f274624a3a444b59dc647a0",
       "style": "IPY_MODEL_bb193001221f4c609dfe808ac234ed48",
       "value": "quicklooks/S2B_MSIL1C_20201111T105259_N0209_R051_T31TCK_20201111T130651: 100%"
      }
     },
     "09ed254fab5948e788dbf109df540e47": {
      "model_module": "@jupyter-widgets/base",
      "model_module_version": "1.2.0",
      "model_name": "LayoutModel",
      "state": {}
     },
     "0d2e58c337ba419a8f57cba7ee7edaaa": {
      "model_module": "@jupyter-widgets/base",
      "model_module_version": "1.2.0",
      "model_name": "LayoutModel",
      "state": {}
     },
     "0e4a22a56c35441787891e03a4d82f84": {
      "model_module": "@jupyter-widgets/base",
      "model_module_version": "1.2.0",
      "model_name": "LayoutModel",
      "state": {
       "flex": "2"
      }
     },
     "0f77844e8f274624a3a444b59dc647a0": {
      "model_module": "@jupyter-widgets/base",
      "model_module_version": "1.2.0",
      "model_name": "LayoutModel",
      "state": {}
     },
     "0ff348ae46564d968020db92ca112bda": {
      "model_module": "@jupyter-widgets/controls",
      "model_module_version": "1.5.0",
      "model_name": "HTMLModel",
      "state": {
       "layout": "IPY_MODEL_d7d98c90410e405fb06ca685a4e110d7",
       "style": "IPY_MODEL_5a8509581a6043e68f68fa66e43727e2",
       "value": "quicklooks/S2A_MSIL1C_20201229T110451_N0209_R094_T31TCL_20201229T131620: 100%"
      }
     },
     "10090630957349eab6a987405d9aa8c5": {
      "model_module": "@jupyter-widgets/controls",
      "model_module_version": "1.5.0",
      "model_name": "HBoxModel",
      "state": {
       "children": [
        "IPY_MODEL_22d94bd1aec24f3da650e0cc29dac906",
        "IPY_MODEL_e79bd3627dc54cf8ad30dc99ed906dd4",
        "IPY_MODEL_d09a2f4728cc4550b1a54f8805d9b599"
       ],
       "layout": "IPY_MODEL_fb659e31419940758f6495224b0c556b"
      }
     },
     "1030ffa146c54cafb45d8f44bbee952a": {
      "model_module": "@jupyter-widgets/controls",
      "model_module_version": "1.5.0",
      "model_name": "DescriptionStyleModel",
      "state": {
       "description_width": ""
      }
     },
     "117ca44508454e2d8688ec994a1e4de0": {
      "model_module": "@jupyter-widgets/controls",
      "model_module_version": "1.5.0",
      "model_name": "HTMLModel",
      "state": {
       "layout": "IPY_MODEL_d680ca0387114bec8b7d8db3fc69ce75",
       "style": "IPY_MODEL_04a03a9173fb4bbfbc23410f3adce072",
       "value": " 0.00/? [00:00&lt;?, ?B/s]"
      }
     },
     "1429f1fdbbe84d9b993b910e600516ff": {
      "model_module": "@jupyter-widgets/controls",
      "model_module_version": "1.5.0",
      "model_name": "DescriptionStyleModel",
      "state": {
       "description_width": ""
      }
     },
     "16de0fec1e8e428eb2d447371233bbea": {
      "model_module": "@jupyter-widgets/base",
      "model_module_version": "1.2.0",
      "model_name": "LayoutModel",
      "state": {
       "flex": "2"
      }
     },
     "1772512a86e547dabd6e04d4efd3c34e": {
      "model_module": "@jupyter-widgets/controls",
      "model_module_version": "1.5.0",
      "model_name": "HTMLModel",
      "state": {
       "layout": "IPY_MODEL_8c2d666a4f514e4ab9d27d1f75fa76d1",
       "style": "IPY_MODEL_423d59f141b1415aae4239116e4080a0",
       "value": "quicklooks/S2A_MSIL1C_20201226T105451_N0209_R051_T31TCK_20201226T130209: 100%"
      }
     },
     "17ae13e6a8a6446db465bcc94c8bc39b": {
      "model_module": "@jupyter-widgets/base",
      "model_module_version": "1.2.0",
      "model_name": "LayoutModel",
      "state": {}
     },
     "17b2ffad2f654ad58d6252635ac48dcb": {
      "model_module": "@jupyter-widgets/base",
      "model_module_version": "1.2.0",
      "model_name": "LayoutModel",
      "state": {
       "flex": "2"
      }
     },
     "17bf04fa819b40219e9beadabb29b7c5": {
      "model_module": "@jupyter-widgets/controls",
      "model_module_version": "1.5.0",
      "model_name": "HTMLModel",
      "state": {
       "layout": "IPY_MODEL_ff22fadc6c5f45b0b0a3b5f66675972e",
       "style": "IPY_MODEL_2f57d7b1ff074bf5b3b38f85935a8385",
       "value": "quicklooks/S2A_MSIL1C_20201116T105331_N0209_R051_T31TCL_20201116T130215: 100%"
      }
     },
     "183a21f5ddfb4dc38c02884e5304b958": {
      "model_module": "@jupyter-widgets/base",
      "model_module_version": "1.2.0",
      "model_name": "LayoutModel",
      "state": {}
     },
     "18db9b4f07684178aa762e848300efdd": {
      "model_module": "@jupyter-widgets/controls",
      "model_module_version": "1.5.0",
      "model_name": "FloatProgressModel",
      "state": {
       "bar_style": "success",
       "layout": "IPY_MODEL_e1af015f87604c1da38e9b239e2cb245",
       "max": 31027,
       "style": "IPY_MODEL_467f80b29a6649778f074cc9415d13fe",
       "value": 31027
      }
     },
     "196653d86ddb488690b2ac1c22e9ad62": {
      "model_module": "@jupyter-widgets/base",
      "model_module_version": "1.2.0",
      "model_name": "LayoutModel",
      "state": {
       "display": "inline-flex",
       "flex_flow": "row wrap",
       "width": "100%"
      }
     },
     "19822930690b497893863b9e99f3a241": {
      "model_module": "@jupyter-widgets/controls",
      "model_module_version": "1.5.0",
      "model_name": "HBoxModel",
      "state": {
       "children": [
        "IPY_MODEL_03e06789065b4af2af8cbeebaf8fcd8d",
        "IPY_MODEL_647afe974789478d80398973b73e85af",
        "IPY_MODEL_d0a814b63c6142b9b719fe15eddbff08"
       ],
       "layout": "IPY_MODEL_e40f15bb04334d218372168c6cca289a"
      }
     },
     "1aedf149d7024a77983ffa6f98273a77": {
      "model_module": "@jupyter-widgets/controls",
      "model_module_version": "1.5.0",
      "model_name": "DescriptionStyleModel",
      "state": {
       "description_width": ""
      }
     },
     "1b4dc95217cf4b4f8b2504330cb59737": {
      "model_module": "@jupyter-widgets/controls",
      "model_module_version": "1.5.0",
      "model_name": "FloatProgressModel",
      "state": {
       "bar_style": "success",
       "layout": "IPY_MODEL_7dca97d9546e42659b1c9c5d39c5c538",
       "max": 59709,
       "style": "IPY_MODEL_6721216acd9943cb8db0e9a90556e429",
       "value": 59709
      }
     },
     "1cef912b3ce946719ce39005deeaf6b1": {
      "model_module": "@jupyter-widgets/controls",
      "model_module_version": "1.5.0",
      "model_name": "HTMLModel",
      "state": {
       "layout": "IPY_MODEL_469f00f2dabc488ba416390c34ffeec4",
       "style": "IPY_MODEL_8b6e207b90d64b2e930880d7126fe7da",
       "value": "Downloaded products: 100%"
      }
     },
     "1d069dea16364e8e90ee3d0e0c7545f3": {
      "model_module": "@jupyter-widgets/controls",
      "model_module_version": "1.5.0",
      "model_name": "HTMLModel",
      "state": {
       "layout": "IPY_MODEL_69813a07faed41a193b488f17a39652a",
       "style": "IPY_MODEL_00f74c9afcee41f781080736e4b1b2bb",
       "value": "quicklooks/S2A_MSIL1C_20201119T110341_N0209_R094_T31TCL_20201119T131255: 100%"
      }
     },
     "1f42625a6b974229a7904fbc6dff7b90": {
      "model_module": "@jupyter-widgets/controls",
      "model_module_version": "1.5.0",
      "model_name": "DescriptionStyleModel",
      "state": {
       "description_width": ""
      }
     },
     "1fa040c68d4c485aaa765e8b75b3b1fa": {
      "model_module": "@jupyter-widgets/controls",
      "model_module_version": "1.5.0",
      "model_name": "HBoxModel",
      "state": {
       "children": [
        "IPY_MODEL_262cee5dc0714675aa4b96a10eec5d69",
        "IPY_MODEL_cb510d4f2af346b49443e75d5594f645",
        "IPY_MODEL_34e4abd13c064f37891a10e6c7478c83"
       ],
       "layout": "IPY_MODEL_633e812d87144aa2a1b9ad445d8bc19b"
      }
     },
     "219820c194b843e78067877129a0c3a1": {
      "model_module": "@jupyter-widgets/controls",
      "model_module_version": "1.5.0",
      "model_name": "DescriptionStyleModel",
      "state": {
       "description_width": ""
      }
     },
     "21b2328036e946929a68e99d432251d9": {
      "model_module": "@jupyter-widgets/controls",
      "model_module_version": "1.5.0",
      "model_name": "HBoxModel",
      "state": {
       "children": [
        "IPY_MODEL_07909752099f404eb16272abde2c49de",
        "IPY_MODEL_9966a4cf14d4446ca4ede9c0ed788343",
        "IPY_MODEL_568e21db9e87479697943fe919ec3013"
       ],
       "layout": "IPY_MODEL_6c7a04f5d93c4f928997b285d31f5a8f"
      }
     },
     "22d94bd1aec24f3da650e0cc29dac906": {
      "model_module": "@jupyter-widgets/controls",
      "model_module_version": "1.5.0",
      "model_name": "HTMLModel",
      "state": {
       "layout": "IPY_MODEL_85508941196c49d29cce45b5331cbe56",
       "style": "IPY_MODEL_c3a6159390414ae98dfa57c983bccc8b"
      }
     },
     "244bae2d8b5340cb8af3f6f39d9e92ce": {
      "model_module": "@jupyter-widgets/controls",
      "model_module_version": "1.5.0",
      "model_name": "DescriptionStyleModel",
      "state": {
       "description_width": ""
      }
     },
     "24aada7c6196411988ccc56032f72f50": {
      "model_module": "@jupyter-widgets/base",
      "model_module_version": "1.2.0",
      "model_name": "LayoutModel",
      "state": {}
     },
     "262cee5dc0714675aa4b96a10eec5d69": {
      "model_module": "@jupyter-widgets/controls",
      "model_module_version": "1.5.0",
      "model_name": "HTMLModel",
      "state": {
       "layout": "IPY_MODEL_beb1dd42c7534718814f736fb88e27a9",
       "style": "IPY_MODEL_5e6a11e680454c6a98c412df1a40cd13",
       "value": "This will be displayed:  50%"
      }
     },
     "271171c6018d468ab8ed7b10aa40a590": {
      "model_module": "@jupyter-widgets/controls",
      "model_module_version": "1.5.0",
      "model_name": "DescriptionStyleModel",
      "state": {
       "description_width": ""
      }
     },
     "291884d7015249aa8c319ffeebbab550": {
      "model_module": "@jupyter-widgets/controls",
      "model_module_version": "1.5.0",
      "model_name": "FloatProgressModel",
      "state": {
       "bar_style": "success",
       "layout": "IPY_MODEL_9a9113ea4e3746f7a271fe941a2d06d8",
       "max": 2,
       "style": "IPY_MODEL_c51adc32d6014f3a8364637c5db3b460",
       "value": 2
      }
     },
     "29af2523e95c4d5dbaa9adb76b492817": {
      "model_module": "@jupyter-widgets/base",
      "model_module_version": "1.2.0",
      "model_name": "LayoutModel",
      "state": {}
     },
     "2a46ccd2f87649e6899a26d07aedcad8": {
      "model_module": "@jupyter-widgets/controls",
      "model_module_version": "1.5.0",
      "model_name": "HBoxModel",
      "state": {
       "children": [
        "IPY_MODEL_1cef912b3ce946719ce39005deeaf6b1",
        "IPY_MODEL_453fc9821906409fadeb299d4e019e9e",
        "IPY_MODEL_5d3ccd320d2a4ec09478f4a9b6f2f641"
       ],
       "layout": "IPY_MODEL_6d4c95edeb814b6f889c64d2ffccb3f4"
      }
     },
     "2a8c51f87edd4f5390baccd3c3598b0b": {
      "model_module": "@jupyter-widgets/controls",
      "model_module_version": "1.5.0",
      "model_name": "ProgressStyleModel",
      "state": {
       "description_width": ""
      }
     },
     "2ac768193be742dcbb21d451eb315444": {
      "model_module": "@jupyter-widgets/controls",
      "model_module_version": "1.5.0",
      "model_name": "DescriptionStyleModel",
      "state": {
       "description_width": ""
      }
     },
     "2aee8cada4644f5b999c901717bd8738": {
      "model_module": "@jupyter-widgets/controls",
      "model_module_version": "1.5.0",
      "model_name": "FloatProgressModel",
      "state": {
       "bar_style": "success",
       "layout": "IPY_MODEL_0e4a22a56c35441787891e03a4d82f84",
       "max": 42572,
       "style": "IPY_MODEL_653e24b71d3d413584c6fcfe53c6491d",
       "value": 42572
      }
     },
     "2ea68e5c5f9c43078d92d6c6f647af0e": {
      "model_module": "@jupyter-widgets/controls",
      "model_module_version": "1.5.0",
      "model_name": "ProgressStyleModel",
      "state": {
       "description_width": ""
      }
     },
     "2f57d7b1ff074bf5b3b38f85935a8385": {
      "model_module": "@jupyter-widgets/controls",
      "model_module_version": "1.5.0",
      "model_name": "DescriptionStyleModel",
      "state": {
       "description_width": ""
      }
     },
     "305f43107aa14767acbf1dbb13346807": {
      "model_module": "@jupyter-widgets/base",
      "model_module_version": "1.2.0",
      "model_name": "LayoutModel",
      "state": {
       "display": "inline-flex",
       "flex_flow": "row wrap",
       "width": "100%"
      }
     },
     "30f9dc5197754e75a8876bbb71d8f5e8": {
      "model_module": "@jupyter-widgets/base",
      "model_module_version": "1.2.0",
      "model_name": "LayoutModel",
      "state": {
       "display": "inline-flex",
       "flex_flow": "row wrap",
       "width": "100%"
      }
     },
     "327873754896413ab5405ed2b7806929": {
      "model_module": "@jupyter-widgets/controls",
      "model_module_version": "1.5.0",
      "model_name": "FloatProgressModel",
      "state": {
       "bar_style": "success",
       "layout": "IPY_MODEL_17b2ffad2f654ad58d6252635ac48dcb",
       "max": 74912,
       "style": "IPY_MODEL_e29ee39192ff46f88283e71ff431a230",
       "value": 74912
      }
     },
     "32dafad1ddd3406d9bd5b63401f8c5da": {
      "model_module": "@jupyter-widgets/controls",
      "model_module_version": "1.5.0",
      "model_name": "ProgressStyleModel",
      "state": {
       "description_width": ""
      }
     },
     "34e4abd13c064f37891a10e6c7478c83": {
      "model_module": "@jupyter-widgets/controls",
      "model_module_version": "1.5.0",
      "model_name": "HTMLModel",
      "state": {
       "layout": "IPY_MODEL_df40ca64039946c8a5b4ffe39368b108",
       "style": "IPY_MODEL_39e9af7de34641838c6c8697ad250f33",
       "value": " 1.00/2.00 [00:00&lt;00:00, 21.0B/s]"
      }
     },
     "3796a6c56004488695fd34f1afb0e7a9": {
      "model_module": "@jupyter-widgets/base",
      "model_module_version": "1.2.0",
      "model_name": "LayoutModel",
      "state": {}
     },
     "380cbc0470cf47cd821b014c1cd6217c": {
      "model_module": "@jupyter-widgets/controls",
      "model_module_version": "1.5.0",
      "model_name": "DescriptionStyleModel",
      "state": {
       "description_width": ""
      }
     },
     "38edd85961d74c818defdcb64537bc96": {
      "model_module": "@jupyter-widgets/controls",
      "model_module_version": "1.5.0",
      "model_name": "DescriptionStyleModel",
      "state": {
       "description_width": ""
      }
     },
     "3992b9075025477fb04563159c7c7bd6": {
      "model_module": "@jupyter-widgets/base",
      "model_module_version": "1.2.0",
      "model_name": "LayoutModel",
      "state": {}
     },
     "39e9af7de34641838c6c8697ad250f33": {
      "model_module": "@jupyter-widgets/controls",
      "model_module_version": "1.5.0",
      "model_name": "DescriptionStyleModel",
      "state": {
       "description_width": ""
      }
     },
     "3d99bda929054df2b820476f0c82d4e9": {
      "model_module": "@jupyter-widgets/controls",
      "model_module_version": "1.5.0",
      "model_name": "HTMLModel",
      "state": {
       "layout": "IPY_MODEL_d8a77bdbda5040ee9622c50eda3cb028",
       "style": "IPY_MODEL_bc05430de9944e8598b226b573283653",
       "value": " 115/115 [00:03&lt;00:00, 30.89file/s]"
      }
     },
     "3e868360b7374cc9989c323a0fd11dd2": {
      "model_module": "@jupyter-widgets/controls",
      "model_module_version": "1.5.0",
      "model_name": "ProgressStyleModel",
      "state": {
       "description_width": ""
      }
     },
     "3f4a4c1b6411425fac29c4cee5a60017": {
      "model_module": "@jupyter-widgets/controls",
      "model_module_version": "1.5.0",
      "model_name": "HTMLModel",
      "state": {
       "layout": "IPY_MODEL_d1ad41f5d8c745daa87fa01040f39f81",
       "style": "IPY_MODEL_a6b4a137291f4a47a1c7a60510cb93bd",
       "value": " 52.9k/52.9k [00:00&lt;00:00, 367kB/s]"
      }
     },
     "40d77e0163074d4888606cd4e0bfe001": {
      "model_module": "@jupyter-widgets/controls",
      "model_module_version": "1.5.0",
      "model_name": "HBoxModel",
      "state": {
       "children": [
        "IPY_MODEL_1d069dea16364e8e90ee3d0e0c7545f3",
        "IPY_MODEL_b5341318f45a401693961d59df314378",
        "IPY_MODEL_b108c9a755cf45918f1c52794bc87a00"
       ],
       "layout": "IPY_MODEL_8b52c95044fb4166befc4129abf7d9f7"
      }
     },
     "423d59f141b1415aae4239116e4080a0": {
      "model_module": "@jupyter-widgets/controls",
      "model_module_version": "1.5.0",
      "model_name": "DescriptionStyleModel",
      "state": {
       "description_width": ""
      }
     },
     "43136fd323c940dea9c1ae793e46ad18": {
      "model_module": "@jupyter-widgets/controls",
      "model_module_version": "1.5.0",
      "model_name": "DescriptionStyleModel",
      "state": {
       "description_width": ""
      }
     },
     "43ff9d824e6d400b833c8b00b80e1abb": {
      "model_module": "@jupyter-widgets/base",
      "model_module_version": "1.2.0",
      "model_name": "LayoutModel",
      "state": {}
     },
     "453fc9821906409fadeb299d4e019e9e": {
      "model_module": "@jupyter-widgets/controls",
      "model_module_version": "1.5.0",
      "model_name": "FloatProgressModel",
      "state": {
       "bar_style": "success",
       "layout": "IPY_MODEL_95f30579e5e048a6be63dac3dd30ef08",
       "max": 2,
       "style": "IPY_MODEL_fc3e5a300d8b4889930d2bb0e16d95c9",
       "value": 2
      }
     },
     "467f80b29a6649778f074cc9415d13fe": {
      "model_module": "@jupyter-widgets/controls",
      "model_module_version": "1.5.0",
      "model_name": "ProgressStyleModel",
      "state": {
       "description_width": ""
      }
     },
     "469f00f2dabc488ba416390c34ffeec4": {
      "model_module": "@jupyter-widgets/base",
      "model_module_version": "1.2.0",
      "model_name": "LayoutModel",
      "state": {}
     },
     "4a1f7023a808454d8b773ba80d5af471": {
      "model_module": "@jupyter-widgets/controls",
      "model_module_version": "1.5.0",
      "model_name": "HTMLModel",
      "state": {
       "layout": "IPY_MODEL_f3eb570e7b594a4f9e8d9ef35fe64cf8",
       "style": "IPY_MODEL_923a18a82c8c4a89b96ab1efafa0066b",
       "value": "S2A_MSIL1C_20201229T110451_N0209_R094_T31TCL_20201229T131620: "
      }
     },
     "4a85e182af6c407b824cc9d4858ae610": {
      "model_module": "@jupyter-widgets/base",
      "model_module_version": "1.2.0",
      "model_name": "LayoutModel",
      "state": {}
     },
     "4aafddc26bc148e08383e043cc377f05": {
      "model_module": "@jupyter-widgets/controls",
      "model_module_version": "1.5.0",
      "model_name": "HTMLModel",
      "state": {
       "layout": "IPY_MODEL_8aa1f40dda0542d9853e50f7aefd36fa",
       "style": "IPY_MODEL_e1462a2b6de348cc8f33d8a89899638f",
       "value": "quicklooks/S2A_MSIL1C_20201226T105451_N0209_R051_T31TCL_20201226T130209: 100%"
      }
     },
     "4cef95ea6f3c4b57966f14bfd05443ac": {
      "model_module": "@jupyter-widgets/base",
      "model_module_version": "1.2.0",
      "model_name": "LayoutModel",
      "state": {}
     },
     "4de63a52aaf648c884a6a64b3579f511": {
      "model_module": "@jupyter-widgets/base",
      "model_module_version": "1.2.0",
      "model_name": "LayoutModel",
      "state": {}
     },
     "4e0c490a8eb74c86a4256f5969a965ae": {
      "model_module": "@jupyter-widgets/base",
      "model_module_version": "1.2.0",
      "model_name": "LayoutModel",
      "state": {
       "display": "inline-flex",
       "flex_flow": "row wrap",
       "width": "100%"
      }
     },
     "537aff289e3e42af89557bd5604b555f": {
      "model_module": "@jupyter-widgets/base",
      "model_module_version": "1.2.0",
      "model_name": "LayoutModel",
      "state": {
       "flex": "2"
      }
     },
     "53e42af2060247eea722a9f51c31e1f2": {
      "model_module": "@jupyter-widgets/controls",
      "model_module_version": "1.5.0",
      "model_name": "HTMLModel",
      "state": {
       "layout": "IPY_MODEL_3992b9075025477fb04563159c7c7bd6",
       "style": "IPY_MODEL_1aedf149d7024a77983ffa6f98273a77",
       "value": "S2A_MSIL1C_20201226T105451_N0209_R051_T31TCK_20201226T130209: "
      }
     },
     "568e21db9e87479697943fe919ec3013": {
      "model_module": "@jupyter-widgets/controls",
      "model_module_version": "1.5.0",
      "model_name": "HTMLModel",
      "state": {
       "layout": "IPY_MODEL_d1b8e9aa118c434baea4ce3fed2fd41e",
       "style": "IPY_MODEL_ed73c4698dc14453b87fc7969bf2dc2f",
       "value": " 44.5k/44.5k [00:00&lt;00:00, 624kB/s]"
      }
     },
     "5711172ea3ed4d1e85191a0239a9b591": {
      "model_module": "@jupyter-widgets/controls",
      "model_module_version": "1.5.0",
      "model_name": "DescriptionStyleModel",
      "state": {
       "description_width": ""
      }
     },
     "57741e62b5c7426292ad04776bc517fd": {
      "model_module": "@jupyter-widgets/base",
      "model_module_version": "1.2.0",
      "model_name": "LayoutModel",
      "state": {
       "display": "inline-flex",
       "flex_flow": "row wrap",
       "width": "100%"
      }
     },
     "5a8509581a6043e68f68fa66e43727e2": {
      "model_module": "@jupyter-widgets/controls",
      "model_module_version": "1.5.0",
      "model_name": "DescriptionStyleModel",
      "state": {
       "description_width": ""
      }
     },
     "5d02707ed9dd4e04abe112d64a628b32": {
      "model_module": "@jupyter-widgets/controls",
      "model_module_version": "1.5.0",
      "model_name": "DescriptionStyleModel",
      "state": {
       "description_width": ""
      }
     },
     "5d3ccd320d2a4ec09478f4a9b6f2f641": {
      "model_module": "@jupyter-widgets/controls",
      "model_module_version": "1.5.0",
      "model_name": "HTMLModel",
      "state": {
       "layout": "IPY_MODEL_4de63a52aaf648c884a6a64b3579f511",
       "style": "IPY_MODEL_1429f1fdbbe84d9b993b910e600516ff",
       "value": " 2/2 [06:52&lt;00:00, 218.54s/product]"
      }
     },
     "5e08ebacc2e547869cc52977b723cc0c": {
      "model_module": "@jupyter-widgets/controls",
      "model_module_version": "1.5.0",
      "model_name": "DescriptionStyleModel",
      "state": {
       "description_width": ""
      }
     },
     "5e6a11e680454c6a98c412df1a40cd13": {
      "model_module": "@jupyter-widgets/controls",
      "model_module_version": "1.5.0",
      "model_name": "DescriptionStyleModel",
      "state": {
       "description_width": ""
      }
     },
     "5e91084fed10434faa41c5f526a112c0": {
      "model_module": "@jupyter-widgets/base",
      "model_module_version": "1.2.0",
      "model_name": "LayoutModel",
      "state": {
       "flex": "2"
      }
     },
     "6057fe1d2b4f4a63ac381bdb00f9f3ac": {
      "model_module": "@jupyter-widgets/controls",
      "model_module_version": "1.5.0",
      "model_name": "DescriptionStyleModel",
      "state": {
       "description_width": ""
      }
     },
     "6108654b209c4914b3def12ccd3ab861": {
      "model_module": "@jupyter-widgets/base",
      "model_module_version": "1.2.0",
      "model_name": "LayoutModel",
      "state": {
       "flex": "2"
      }
     },
     "61bdd92fb2334ac58ad23d70fade3968": {
      "model_module": "@jupyter-widgets/base",
      "model_module_version": "1.2.0",
      "model_name": "LayoutModel",
      "state": {
       "display": "inline-flex",
       "flex_flow": "row wrap",
       "width": "100%"
      }
     },
     "633e812d87144aa2a1b9ad445d8bc19b": {
      "model_module": "@jupyter-widgets/base",
      "model_module_version": "1.2.0",
      "model_name": "LayoutModel",
      "state": {
       "display": "inline-flex",
       "flex_flow": "row wrap",
       "width": "100%"
      }
     },
     "647afe974789478d80398973b73e85af": {
      "model_module": "@jupyter-widgets/controls",
      "model_module_version": "1.5.0",
      "model_name": "FloatProgressModel",
      "state": {
       "bar_style": "success",
       "layout": "IPY_MODEL_a243ca5f69584f4589b61bc9ae7cdaf8",
       "max": 115,
       "style": "IPY_MODEL_7b9e16093a8f4cb69422d655fd3fe4db",
       "value": 115
      }
     },
     "653e24b71d3d413584c6fcfe53c6491d": {
      "model_module": "@jupyter-widgets/controls",
      "model_module_version": "1.5.0",
      "model_name": "ProgressStyleModel",
      "state": {
       "description_width": ""
      }
     },
     "6721216acd9943cb8db0e9a90556e429": {
      "model_module": "@jupyter-widgets/controls",
      "model_module_version": "1.5.0",
      "model_name": "ProgressStyleModel",
      "state": {
       "description_width": ""
      }
     },
     "6946468fcf3d4f5db4445e83fe2c758b": {
      "model_module": "@jupyter-widgets/controls",
      "model_module_version": "1.5.0",
      "model_name": "HBoxModel",
      "state": {
       "children": [
        "IPY_MODEL_4aafddc26bc148e08383e043cc377f05",
        "IPY_MODEL_1b4dc95217cf4b4f8b2504330cb59737",
        "IPY_MODEL_9d382c1b2f6e4cfbbcdce072a7c77b49"
       ],
       "layout": "IPY_MODEL_57741e62b5c7426292ad04776bc517fd"
      }
     },
     "69813a07faed41a193b488f17a39652a": {
      "model_module": "@jupyter-widgets/base",
      "model_module_version": "1.2.0",
      "model_name": "LayoutModel",
      "state": {}
     },
     "69b6401afcfc4489b652038bb1e658c2": {
      "model_module": "@jupyter-widgets/base",
      "model_module_version": "1.2.0",
      "model_name": "LayoutModel",
      "state": {}
     },
     "6a986a0d90e2472cbc303acfbf30e5e0": {
      "model_module": "@jupyter-widgets/controls",
      "model_module_version": "1.5.0",
      "model_name": "HTMLModel",
      "state": {
       "layout": "IPY_MODEL_db7c123e3cd142e2b4813c6e3a960fa4",
       "style": "IPY_MODEL_b53fb4232fe7496891ef2765c9328a8d",
       "value": " 74.9k/74.9k [00:00&lt;00:00, 602kB/s]"
      }
     },
     "6be28f31ff9745108093212ce6dedfdc": {
      "model_module": "@jupyter-widgets/controls",
      "model_module_version": "1.5.0",
      "model_name": "HBoxModel",
      "state": {
       "children": [
        "IPY_MODEL_fb52dc0b1568450fa88389e4962955ab",
        "IPY_MODEL_18db9b4f07684178aa762e848300efdd",
        "IPY_MODEL_7e835bce4cb64430a1b7998a1fc9eb1d"
       ],
       "layout": "IPY_MODEL_196653d86ddb488690b2ac1c22e9ad62"
      }
     },
     "6c05528d741e41f5adb4a90353b5ef53": {
      "model_module": "@jupyter-widgets/controls",
      "model_module_version": "1.5.0",
      "model_name": "FloatProgressModel",
      "state": {
       "bar_style": "success",
       "layout": "IPY_MODEL_afe75eb3f8954c14aaa6f8bedcb255b0",
       "max": 25159,
       "style": "IPY_MODEL_3e868360b7374cc9989c323a0fd11dd2",
       "value": 25159
      }
     },
     "6c7a04f5d93c4f928997b285d31f5a8f": {
      "model_module": "@jupyter-widgets/base",
      "model_module_version": "1.2.0",
      "model_name": "LayoutModel",
      "state": {
       "display": "inline-flex",
       "flex_flow": "row wrap",
       "width": "100%"
      }
     },
     "6cab70ca773d492f91e28b04cfaeacc0": {
      "model_module": "@jupyter-widgets/controls",
      "model_module_version": "1.5.0",
      "model_name": "HBoxModel",
      "state": {
       "children": [
        "IPY_MODEL_93250f4992a447b882fa86981875f801",
        "IPY_MODEL_dbaf5b346f674c0a858ef6a848bec165",
        "IPY_MODEL_3d99bda929054df2b820476f0c82d4e9"
       ],
       "layout": "IPY_MODEL_e09230db12fc49c4aa9b1cc4132579ff"
      }
     },
     "6cb651aedc51425fbec47f27a6be9ae7": {
      "model_module": "@jupyter-widgets/base",
      "model_module_version": "1.2.0",
      "model_name": "LayoutModel",
      "state": {
       "flex": "2"
      }
     },
     "6d4c95edeb814b6f889c64d2ffccb3f4": {
      "model_module": "@jupyter-widgets/base",
      "model_module_version": "1.2.0",
      "model_name": "LayoutModel",
      "state": {
       "display": "inline-flex",
       "flex_flow": "row wrap",
       "width": "100%"
      }
     },
     "6da46c359b144e90873b48f934030125": {
      "model_module": "@jupyter-widgets/controls",
      "model_module_version": "1.5.0",
      "model_name": "ProgressStyleModel",
      "state": {
       "description_width": ""
      }
     },
     "6eb037657e4e47cfa08d92ef1aff5b3d": {
      "model_module": "@jupyter-widgets/controls",
      "model_module_version": "1.5.0",
      "model_name": "ProgressStyleModel",
      "state": {
       "description_width": ""
      }
     },
     "6f46281c8a0f4de1a0c77d763556ee86": {
      "model_module": "@jupyter-widgets/controls",
      "model_module_version": "1.5.0",
      "model_name": "FloatProgressModel",
      "state": {
       "bar_style": "success",
       "layout": "IPY_MODEL_6108654b209c4914b3def12ccd3ab861",
       "max": 1,
       "style": "IPY_MODEL_2a8c51f87edd4f5390baccd3c3598b0b",
       "value": 1
      }
     },
     "70f39c06c0934426a3e978eadbe01ccf": {
      "model_module": "@jupyter-widgets/controls",
      "model_module_version": "1.5.0",
      "model_name": "HBoxModel",
      "state": {
       "children": [
        "IPY_MODEL_4a1f7023a808454d8b773ba80d5af471",
        "IPY_MODEL_dde500cb7b8242fab6e440a9396831d9",
        "IPY_MODEL_e563fc133b25432bb2c2adf5fe702eb6"
       ],
       "layout": "IPY_MODEL_8373ec08012c4b8ca3656fd644eb51af"
      }
     },
     "759a7904c1764b55811cc6b9389af4ac": {
      "model_module": "@jupyter-widgets/base",
      "model_module_version": "1.2.0",
      "model_name": "LayoutModel",
      "state": {}
     },
     "763143b8898945969c8effe0a64b09a4": {
      "model_module": "@jupyter-widgets/controls",
      "model_module_version": "1.5.0",
      "model_name": "DescriptionStyleModel",
      "state": {
       "description_width": ""
      }
     },
     "79c9f30f27cf4ce59dbfd6586d89d0b7": {
      "model_module": "@jupyter-widgets/controls",
      "model_module_version": "1.5.0",
      "model_name": "FloatProgressModel",
      "state": {
       "bar_style": "success",
       "layout": "IPY_MODEL_16de0fec1e8e428eb2d447371233bbea",
       "max": 34820,
       "style": "IPY_MODEL_9db50f66074e4a06bc02552d9e17fc9a",
       "value": 34820
      }
     },
     "7ad860a453894c48bb11adee1c6b87a1": {
      "model_module": "@jupyter-widgets/controls",
      "model_module_version": "1.5.0",
      "model_name": "FloatProgressModel",
      "state": {
       "bar_style": "success",
       "layout": "IPY_MODEL_5e91084fed10434faa41c5f526a112c0",
       "max": 69185,
       "style": "IPY_MODEL_83a9ef2bfc0c48a7b920d0fe0274373f",
       "value": 69185
      }
     },
     "7b52af387bf645948ebdf25e04af668a": {
      "model_module": "@jupyter-widgets/base",
      "model_module_version": "1.2.0",
      "model_name": "LayoutModel",
      "state": {
       "flex": "2"
      }
     },
     "7b9e16093a8f4cb69422d655fd3fe4db": {
      "model_module": "@jupyter-widgets/controls",
      "model_module_version": "1.5.0",
      "model_name": "ProgressStyleModel",
      "state": {
       "description_width": ""
      }
     },
     "7dca97d9546e42659b1c9c5d39c5c538": {
      "model_module": "@jupyter-widgets/base",
      "model_module_version": "1.2.0",
      "model_name": "LayoutModel",
      "state": {
       "flex": "2"
      }
     },
     "7e835bce4cb64430a1b7998a1fc9eb1d": {
      "model_module": "@jupyter-widgets/controls",
      "model_module_version": "1.5.0",
      "model_name": "HTMLModel",
      "state": {
       "layout": "IPY_MODEL_09ed254fab5948e788dbf109df540e47",
       "style": "IPY_MODEL_5711172ea3ed4d1e85191a0239a9b591",
       "value": " 31.0k/31.0k [00:00&lt;00:00, 198kB/s]"
      }
     },
     "81f3d64165f14f66baf8a9e86386bf02": {
      "model_module": "@jupyter-widgets/controls",
      "model_module_version": "1.5.0",
      "model_name": "DescriptionStyleModel",
      "state": {
       "description_width": ""
      }
     },
     "820742df10c54b21b2051bdb2c7a9bae": {
      "model_module": "@jupyter-widgets/controls",
      "model_module_version": "1.5.0",
      "model_name": "DescriptionStyleModel",
      "state": {
       "description_width": ""
      }
     },
     "8373ec08012c4b8ca3656fd644eb51af": {
      "model_module": "@jupyter-widgets/base",
      "model_module_version": "1.2.0",
      "model_name": "LayoutModel",
      "state": {
       "display": "inline-flex",
       "flex_flow": "row wrap",
       "width": "100%"
      }
     },
     "83a9ef2bfc0c48a7b920d0fe0274373f": {
      "model_module": "@jupyter-widgets/controls",
      "model_module_version": "1.5.0",
      "model_name": "ProgressStyleModel",
      "state": {
       "description_width": ""
      }
     },
     "83d277cb7bb04b97b12313b01f7ed2e6": {
      "model_module": "@jupyter-widgets/controls",
      "model_module_version": "1.5.0",
      "model_name": "DescriptionStyleModel",
      "state": {
       "description_width": ""
      }
     },
     "8468c2a9b6114623aa155b2c59ceeaa5": {
      "model_module": "@jupyter-widgets/base",
      "model_module_version": "1.2.0",
      "model_name": "LayoutModel",
      "state": {
       "flex": "2"
      }
     },
     "85508941196c49d29cce45b5331cbe56": {
      "model_module": "@jupyter-widgets/base",
      "model_module_version": "1.2.0",
      "model_name": "LayoutModel",
      "state": {}
     },
     "8942010860f947888d5965798ee45afc": {
      "model_module": "@jupyter-widgets/base",
      "model_module_version": "1.2.0",
      "model_name": "LayoutModel",
      "state": {
       "display": "inline-flex",
       "flex_flow": "row wrap",
       "width": "100%"
      }
     },
     "89cd99569f774d3b825a5318beca64b7": {
      "model_module": "@jupyter-widgets/base",
      "model_module_version": "1.2.0",
      "model_name": "LayoutModel",
      "state": {
       "display": "inline-flex",
       "flex_flow": "row wrap",
       "width": "100%"
      }
     },
     "8a61e9f8cd4d4d6592946cae74efbad0": {
      "model_module": "@jupyter-widgets/controls",
      "model_module_version": "1.5.0",
      "model_name": "HTMLModel",
      "state": {
       "layout": "IPY_MODEL_f8d37b2d5b3e4173b2948c1733e079de",
       "style": "IPY_MODEL_1f42625a6b974229a7904fbc6dff7b90",
       "value": "quicklooks/S2B_MSIL1C_20201114T110319_N0209_R094_T31TCL_20201114T120840: 100%"
      }
     },
     "8aa1f40dda0542d9853e50f7aefd36fa": {
      "model_module": "@jupyter-widgets/base",
      "model_module_version": "1.2.0",
      "model_name": "LayoutModel",
      "state": {}
     },
     "8b52c95044fb4166befc4129abf7d9f7": {
      "model_module": "@jupyter-widgets/base",
      "model_module_version": "1.2.0",
      "model_name": "LayoutModel",
      "state": {
       "display": "inline-flex",
       "flex_flow": "row wrap",
       "width": "100%"
      }
     },
     "8b6e207b90d64b2e930880d7126fe7da": {
      "model_module": "@jupyter-widgets/controls",
      "model_module_version": "1.5.0",
      "model_name": "DescriptionStyleModel",
      "state": {
       "description_width": ""
      }
     },
     "8c193e75fb464c47b1214ebd94ebbaff": {
      "model_module": "@jupyter-widgets/controls",
      "model_module_version": "1.5.0",
      "model_name": "HTMLModel",
      "state": {
       "layout": "IPY_MODEL_bcc14a89d764416386ec6d59b5505a46",
       "style": "IPY_MODEL_83d277cb7bb04b97b12313b01f7ed2e6",
       "value": " 25.2k/25.2k [00:00&lt;00:00, 1.56MB/s]"
      }
     },
     "8c2d666a4f514e4ab9d27d1f75fa76d1": {
      "model_module": "@jupyter-widgets/base",
      "model_module_version": "1.2.0",
      "model_name": "LayoutModel",
      "state": {}
     },
     "8c93479c548e422f80ece4ab82230c60": {
      "model_module": "@jupyter-widgets/base",
      "model_module_version": "1.2.0",
      "model_name": "LayoutModel",
      "state": {
       "display": "inline-flex",
       "flex_flow": "row wrap",
       "width": "100%"
      }
     },
     "8ddead9fd363442399080031ff27a935": {
      "model_module": "@jupyter-widgets/controls",
      "model_module_version": "1.5.0",
      "model_name": "HBoxModel",
      "state": {
       "children": [
        "IPY_MODEL_53e42af2060247eea722a9f51c31e1f2",
        "IPY_MODEL_ccb1fcd06dcc4d6db3f76f6de45d7a57",
        "IPY_MODEL_117ca44508454e2d8688ec994a1e4de0"
       ],
       "layout": "IPY_MODEL_89cd99569f774d3b825a5318beca64b7"
      }
     },
     "902870969f25419dbcd664d9e8436096": {
      "model_module": "@jupyter-widgets/controls",
      "model_module_version": "1.5.0",
      "model_name": "HTMLModel",
      "state": {
       "layout": "IPY_MODEL_4a85e182af6c407b824cc9d4858ae610",
       "style": "IPY_MODEL_d78f00ee13ea477a8ab73eec4d28431c",
       "value": "Extracting files from S2A_MSIL1C_20201229T110451_N0209_R094_T31TCL_20201229T131620.zip: 100%"
      }
     },
     "9229a49e42494e979d82b203ecf1791f": {
      "model_module": "@jupyter-widgets/base",
      "model_module_version": "1.2.0",
      "model_name": "LayoutModel",
      "state": {}
     },
     "923a18a82c8c4a89b96ab1efafa0066b": {
      "model_module": "@jupyter-widgets/controls",
      "model_module_version": "1.5.0",
      "model_name": "DescriptionStyleModel",
      "state": {
       "description_width": ""
      }
     },
     "93250f4992a447b882fa86981875f801": {
      "model_module": "@jupyter-widgets/controls",
      "model_module_version": "1.5.0",
      "model_name": "HTMLModel",
      "state": {
       "layout": "IPY_MODEL_a9056f384e7d45b5b677e2de78c98dec",
       "style": "IPY_MODEL_38edd85961d74c818defdcb64537bc96",
       "value": "Extracting files from S2A_MSIL1C_20201116T105331_N0209_R051_T31TCK_20201116T130215.zip: 100%"
      }
     },
     "937e9ea300ab4447b78a13effec6c492": {
      "model_module": "@jupyter-widgets/controls",
      "model_module_version": "1.5.0",
      "model_name": "ProgressStyleModel",
      "state": {
       "description_width": ""
      }
     },
     "95b0991836ff42e3b094b13ffdfaffae": {
      "model_module": "@jupyter-widgets/controls",
      "model_module_version": "1.5.0",
      "model_name": "HTMLModel",
      "state": {
       "layout": "IPY_MODEL_c574e7d53d034842b4f7a7ceee91d0fd",
       "style": "IPY_MODEL_6057fe1d2b4f4a63ac381bdb00f9f3ac",
       "value": " 2/2 [00:00&lt;00:00, 16.06product/s]"
      }
     },
     "95f30579e5e048a6be63dac3dd30ef08": {
      "model_module": "@jupyter-widgets/base",
      "model_module_version": "1.2.0",
      "model_name": "LayoutModel",
      "state": {
       "flex": "2"
      }
     },
     "9966a4cf14d4446ca4ede9c0ed788343": {
      "model_module": "@jupyter-widgets/controls",
      "model_module_version": "1.5.0",
      "model_name": "FloatProgressModel",
      "state": {
       "bar_style": "success",
       "layout": "IPY_MODEL_9c34f40fb5a947f0be3bf9b7346a8a56",
       "max": 44538,
       "style": "IPY_MODEL_d8f1ca3388a24da1b11ca6c3a92d4b5b",
       "value": 44538
      }
     },
     "9a5ba9ed24b846cb9cc1c0a0421ba9a0": {
      "model_module": "@jupyter-widgets/controls",
      "model_module_version": "1.5.0",
      "model_name": "ProgressStyleModel",
      "state": {
       "description_width": ""
      }
     },
     "9a9113ea4e3746f7a271fe941a2d06d8": {
      "model_module": "@jupyter-widgets/base",
      "model_module_version": "1.2.0",
      "model_name": "LayoutModel",
      "state": {
       "flex": "2"
      }
     },
     "9b57cb5be33146a2bd4000e377f3883c": {
      "model_module": "@jupyter-widgets/controls",
      "model_module_version": "1.5.0",
      "model_name": "HTMLModel",
      "state": {
       "layout": "IPY_MODEL_ac4ba49caaae4f1d8374c4408e57cd72",
       "style": "IPY_MODEL_820742df10c54b21b2051bdb2c7a9bae",
       "value": " 69.2k/69.2k [00:00&lt;00:00, 497kB/s]"
      }
     },
     "9bf4a38a541242fea78eefc7fa72de07": {
      "model_module": "@jupyter-widgets/controls",
      "model_module_version": "1.5.0",
      "model_name": "DescriptionStyleModel",
      "state": {
       "description_width": ""
      }
     },
     "9c02540b8038464094375e39f05d6369": {
      "model_module": "@jupyter-widgets/base",
      "model_module_version": "1.2.0",
      "model_name": "LayoutModel",
      "state": {
       "display": "inline-flex",
       "flex_flow": "row wrap",
       "width": "100%"
      }
     },
     "9c34f40fb5a947f0be3bf9b7346a8a56": {
      "model_module": "@jupyter-widgets/base",
      "model_module_version": "1.2.0",
      "model_name": "LayoutModel",
      "state": {
       "flex": "2"
      }
     },
     "9c52e67acb594733928a16672fb66c3a": {
      "model_module": "@jupyter-widgets/controls",
      "model_module_version": "1.5.0",
      "model_name": "ProgressStyleModel",
      "state": {
       "bar_color": "purple",
       "description_width": ""
      }
     },
     "9d382c1b2f6e4cfbbcdce072a7c77b49": {
      "model_module": "@jupyter-widgets/controls",
      "model_module_version": "1.5.0",
      "model_name": "HTMLModel",
      "state": {
       "layout": "IPY_MODEL_24aada7c6196411988ccc56032f72f50",
       "style": "IPY_MODEL_43136fd323c940dea9c1ae793e46ad18",
       "value": " 59.7k/59.7k [00:00&lt;00:00, 441kB/s]"
      }
     },
     "9db50f66074e4a06bc02552d9e17fc9a": {
      "model_module": "@jupyter-widgets/controls",
      "model_module_version": "1.5.0",
      "model_name": "ProgressStyleModel",
      "state": {
       "description_width": ""
      }
     },
     "9db842c9e7d54eb1b85831fa450aa367": {
      "model_module": "@jupyter-widgets/controls",
      "model_module_version": "1.5.0",
      "model_name": "HTMLModel",
      "state": {
       "layout": "IPY_MODEL_43ff9d824e6d400b833c8b00b80e1abb",
       "style": "IPY_MODEL_b5d1a593f9934df88a65e374560a4d4e",
       "value": " 115/115 [00:02&lt;00:00, 57.15file/s]"
      }
     },
     "9f26eea696724aedb1b4ca0594efc65c": {
      "model_module": "@jupyter-widgets/base",
      "model_module_version": "1.2.0",
      "model_name": "LayoutModel",
      "state": {
       "flex": "2"
      }
     },
     "a1336165c66b4c2aa434c1a3fec3f64c": {
      "model_module": "@jupyter-widgets/base",
      "model_module_version": "1.2.0",
      "model_name": "LayoutModel",
      "state": {
       "flex": "2"
      }
     },
     "a22e380414424faa81abc918334decf4": {
      "model_module": "@jupyter-widgets/base",
      "model_module_version": "1.2.0",
      "model_name": "LayoutModel",
      "state": {
       "flex": "2"
      }
     },
     "a243ca5f69584f4589b61bc9ae7cdaf8": {
      "model_module": "@jupyter-widgets/base",
      "model_module_version": "1.2.0",
      "model_name": "LayoutModel",
      "state": {
       "flex": "2"
      }
     },
     "a36cc750caed485da743a68e269f73e8": {
      "model_module": "@jupyter-widgets/base",
      "model_module_version": "1.2.0",
      "model_name": "LayoutModel",
      "state": {}
     },
     "a626306a00ca4710a9044d2f697fcae3": {
      "model_module": "@jupyter-widgets/base",
      "model_module_version": "1.2.0",
      "model_name": "LayoutModel",
      "state": {
       "flex": "2"
      }
     },
     "a6b4a137291f4a47a1c7a60510cb93bd": {
      "model_module": "@jupyter-widgets/controls",
      "model_module_version": "1.5.0",
      "model_name": "DescriptionStyleModel",
      "state": {
       "description_width": ""
      }
     },
     "a9056f384e7d45b5b677e2de78c98dec": {
      "model_module": "@jupyter-widgets/base",
      "model_module_version": "1.2.0",
      "model_name": "LayoutModel",
      "state": {}
     },
     "aafa0a3dbe8b415ebafbaed2c8947a3b": {
      "model_module": "@jupyter-widgets/base",
      "model_module_version": "1.2.0",
      "model_name": "LayoutModel",
      "state": {}
     },
     "ac4ba49caaae4f1d8374c4408e57cd72": {
      "model_module": "@jupyter-widgets/base",
      "model_module_version": "1.2.0",
      "model_name": "LayoutModel",
      "state": {}
     },
     "ae684630e6744654b7e470539dde03b2": {
      "model_module": "@jupyter-widgets/base",
      "model_module_version": "1.2.0",
      "model_name": "LayoutModel",
      "state": {
       "display": "inline-flex",
       "flex_flow": "row wrap",
       "width": "100%"
      }
     },
     "afe75eb3f8954c14aaa6f8bedcb255b0": {
      "model_module": "@jupyter-widgets/base",
      "model_module_version": "1.2.0",
      "model_name": "LayoutModel",
      "state": {
       "flex": "2"
      }
     },
     "b108c9a755cf45918f1c52794bc87a00": {
      "model_module": "@jupyter-widgets/controls",
      "model_module_version": "1.5.0",
      "model_name": "HTMLModel",
      "state": {
       "layout": "IPY_MODEL_3796a6c56004488695fd34f1afb0e7a9",
       "style": "IPY_MODEL_ceba04b837714aeaac109a633fbe3277",
       "value": " 26.2k/26.2k [00:00&lt;00:00, 609kB/s]"
      }
     },
     "b17b293c653148ffafdcf1cca9b8c820": {
      "model_module": "@jupyter-widgets/controls",
      "model_module_version": "1.5.0",
      "model_name": "HBoxModel",
      "state": {
       "children": [
        "IPY_MODEL_b535ae02f7274b7d98f1e000a952b6c2",
        "IPY_MODEL_79c9f30f27cf4ce59dbfd6586d89d0b7",
        "IPY_MODEL_0655c8b70af64a26b25bf7326b78d82e"
       ],
       "layout": "IPY_MODEL_feff37ac49ab455db2692829d288f2bd"
      }
     },
     "b453a291ecb6475796dacd159268dbb8": {
      "model_module": "@jupyter-widgets/controls",
      "model_module_version": "1.5.0",
      "model_name": "ProgressStyleModel",
      "state": {
       "description_width": ""
      }
     },
     "b5341318f45a401693961d59df314378": {
      "model_module": "@jupyter-widgets/controls",
      "model_module_version": "1.5.0",
      "model_name": "FloatProgressModel",
      "state": {
       "bar_style": "success",
       "layout": "IPY_MODEL_a22e380414424faa81abc918334decf4",
       "max": 26177,
       "style": "IPY_MODEL_2ea68e5c5f9c43078d92d6c6f647af0e",
       "value": 26177
      }
     },
     "b535ae02f7274b7d98f1e000a952b6c2": {
      "model_module": "@jupyter-widgets/controls",
      "model_module_version": "1.5.0",
      "model_name": "HTMLModel",
      "state": {
       "layout": "IPY_MODEL_69b6401afcfc4489b652038bb1e658c2",
       "style": "IPY_MODEL_bd31817f2f5d46fe93f9d0c65408d4df",
       "value": "quicklooks/S2B_MSIL1C_20201231T105349_N0209_R051_T31TCL_20201231T120402: 100%"
      }
     },
     "b53fb4232fe7496891ef2765c9328a8d": {
      "model_module": "@jupyter-widgets/controls",
      "model_module_version": "1.5.0",
      "model_name": "DescriptionStyleModel",
      "state": {
       "description_width": ""
      }
     },
     "b5d1a593f9934df88a65e374560a4d4e": {
      "model_module": "@jupyter-widgets/controls",
      "model_module_version": "1.5.0",
      "model_name": "DescriptionStyleModel",
      "state": {
       "description_width": ""
      }
     },
     "b80a0b834b0141b6ad4d0b107e2711ce": {
      "model_module": "@jupyter-widgets/controls",
      "model_module_version": "1.5.0",
      "model_name": "ProgressStyleModel",
      "state": {
       "description_width": ""
      }
     },
     "bb193001221f4c609dfe808ac234ed48": {
      "model_module": "@jupyter-widgets/controls",
      "model_module_version": "1.5.0",
      "model_name": "DescriptionStyleModel",
      "state": {
       "description_width": ""
      }
     },
     "bc05430de9944e8598b226b573283653": {
      "model_module": "@jupyter-widgets/controls",
      "model_module_version": "1.5.0",
      "model_name": "DescriptionStyleModel",
      "state": {
       "description_width": ""
      }
     },
     "bcc14a89d764416386ec6d59b5505a46": {
      "model_module": "@jupyter-widgets/base",
      "model_module_version": "1.2.0",
      "model_name": "LayoutModel",
      "state": {}
     },
     "bd31817f2f5d46fe93f9d0c65408d4df": {
      "model_module": "@jupyter-widgets/controls",
      "model_module_version": "1.5.0",
      "model_name": "DescriptionStyleModel",
      "state": {
       "description_width": ""
      }
     },
     "beb1dd42c7534718814f736fb88e27a9": {
      "model_module": "@jupyter-widgets/base",
      "model_module_version": "1.2.0",
      "model_name": "LayoutModel",
      "state": {}
     },
     "bff2e9acb0f14a2b9b861637fcabca23": {
      "model_module": "@jupyter-widgets/controls",
      "model_module_version": "1.5.0",
      "model_name": "DescriptionStyleModel",
      "state": {
       "description_width": ""
      }
     },
     "c3a6159390414ae98dfa57c983bccc8b": {
      "model_module": "@jupyter-widgets/controls",
      "model_module_version": "1.5.0",
      "model_name": "DescriptionStyleModel",
      "state": {
       "description_width": ""
      }
     },
     "c4d2e6939a674cc6893de18514a4e708": {
      "model_module": "@jupyter-widgets/base",
      "model_module_version": "1.2.0",
      "model_name": "LayoutModel",
      "state": {}
     },
     "c51adc32d6014f3a8364637c5db3b460": {
      "model_module": "@jupyter-widgets/controls",
      "model_module_version": "1.5.0",
      "model_name": "ProgressStyleModel",
      "state": {
       "description_width": ""
      }
     },
     "c574e7d53d034842b4f7a7ceee91d0fd": {
      "model_module": "@jupyter-widgets/base",
      "model_module_version": "1.2.0",
      "model_name": "LayoutModel",
      "state": {}
     },
     "c7f9c5c92ea0496481f279da544b6d0b": {
      "model_module": "@jupyter-widgets/base",
      "model_module_version": "1.2.0",
      "model_name": "LayoutModel",
      "state": {
       "display": "inline-flex",
       "flex_flow": "row wrap",
       "width": "100%"
      }
     },
     "c84044d9182c4a079b5e6544984f275e": {
      "model_module": "@jupyter-widgets/controls",
      "model_module_version": "1.5.0",
      "model_name": "HTMLModel",
      "state": {
       "layout": "IPY_MODEL_183a21f5ddfb4dc38c02884e5304b958",
       "style": "IPY_MODEL_2ac768193be742dcbb21d451eb315444",
       "value": " 42.6k/42.6k [00:00&lt;00:00, 269kB/s]"
      }
     },
     "c8c953e4721f4c5ba4c5b887a0677040": {
      "model_module": "@jupyter-widgets/controls",
      "model_module_version": "1.5.0",
      "model_name": "FloatProgressModel",
      "state": {
       "bar_style": "success",
       "layout": "IPY_MODEL_8468c2a9b6114623aa155b2c59ceeaa5",
       "max": 115,
       "style": "IPY_MODEL_32dafad1ddd3406d9bd5b63401f8c5da",
       "value": 115
      }
     },
     "c94db8bcfcec4543aacf46bb9bb8b2b8": {
      "model_module": "@jupyter-widgets/controls",
      "model_module_version": "1.5.0",
      "model_name": "HBoxModel",
      "state": {
       "children": [
        "IPY_MODEL_f71b8ecf5faa40598267a71a222b731e",
        "IPY_MODEL_6f46281c8a0f4de1a0c77d763556ee86",
        "IPY_MODEL_d9e1075a05034b2daf5ae4af1022aa94"
       ],
       "layout": "IPY_MODEL_c7f9c5c92ea0496481f279da544b6d0b"
      }
     },
     "cb510d4f2af346b49443e75d5594f645": {
      "model_module": "@jupyter-widgets/controls",
      "model_module_version": "1.5.0",
      "model_name": "FloatProgressModel",
      "state": {
       "bar_style": "danger",
       "layout": "IPY_MODEL_7b52af387bf645948ebdf25e04af668a",
       "max": 2,
       "style": "IPY_MODEL_9a5ba9ed24b846cb9cc1c0a0421ba9a0",
       "value": 1
      }
     },
     "cbc05aeb9102482fb012e888d154cdab": {
      "model_module": "@jupyter-widgets/base",
      "model_module_version": "1.2.0",
      "model_name": "LayoutModel",
      "state": {}
     },
     "ccb1fcd06dcc4d6db3f76f6de45d7a57": {
      "model_module": "@jupyter-widgets/controls",
      "model_module_version": "1.5.0",
      "model_name": "FloatProgressModel",
      "state": {
       "bar_style": "success",
       "layout": "IPY_MODEL_9f26eea696724aedb1b4ca0594efc65c",
       "max": 1,
       "style": "IPY_MODEL_b453a291ecb6475796dacd159268dbb8"
      }
     },
     "ccf12fa726af4e32abfd15d20fb1e0b1": {
      "model_module": "@jupyter-widgets/controls",
      "model_module_version": "1.5.0",
      "model_name": "HBoxModel",
      "state": {
       "children": [
        "IPY_MODEL_902870969f25419dbcd664d9e8436096",
        "IPY_MODEL_c8c953e4721f4c5ba4c5b887a0677040",
        "IPY_MODEL_9db842c9e7d54eb1b85831fa450aa367"
       ],
       "layout": "IPY_MODEL_305f43107aa14767acbf1dbb13346807"
      }
     },
     "ceba04b837714aeaac109a633fbe3277": {
      "model_module": "@jupyter-widgets/controls",
      "model_module_version": "1.5.0",
      "model_name": "DescriptionStyleModel",
      "state": {
       "description_width": ""
      }
     },
     "d09a2f4728cc4550b1a54f8805d9b599": {
      "model_module": "@jupyter-widgets/controls",
      "model_module_version": "1.5.0",
      "model_name": "HTMLModel",
      "state": {
       "layout": "IPY_MODEL_759a7904c1764b55811cc6b9389af4ac",
       "style": "IPY_MODEL_1030ffa146c54cafb45d8f44bbee952a",
       "value": " 1.00/? [00:01&lt;00:00, 1.37s/B]"
      }
     },
     "d0a814b63c6142b9b719fe15eddbff08": {
      "model_module": "@jupyter-widgets/controls",
      "model_module_version": "1.5.0",
      "model_name": "HTMLModel",
      "state": {
       "layout": "IPY_MODEL_a36cc750caed485da743a68e269f73e8",
       "style": "IPY_MODEL_bff2e9acb0f14a2b9b861637fcabca23",
       "value": " 115/115 [00:03&lt;00:00, 31.10file/s]"
      }
     },
     "d1ad41f5d8c745daa87fa01040f39f81": {
      "model_module": "@jupyter-widgets/base",
      "model_module_version": "1.2.0",
      "model_name": "LayoutModel",
      "state": {}
     },
     "d1b8e9aa118c434baea4ce3fed2fd41e": {
      "model_module": "@jupyter-widgets/base",
      "model_module_version": "1.2.0",
      "model_name": "LayoutModel",
      "state": {}
     },
     "d644b0b5219743c38fbc79ec5f2a413e": {
      "model_module": "@jupyter-widgets/base",
      "model_module_version": "1.2.0",
      "model_name": "LayoutModel",
      "state": {
       "flex": "2"
      }
     },
     "d680ca0387114bec8b7d8db3fc69ce75": {
      "model_module": "@jupyter-widgets/base",
      "model_module_version": "1.2.0",
      "model_name": "LayoutModel",
      "state": {}
     },
     "d712e591f1c841d29e07865dfe94bc05": {
      "model_module": "@jupyter-widgets/controls",
      "model_module_version": "1.5.0",
      "model_name": "HBoxModel",
      "state": {
       "children": [
        "IPY_MODEL_fd45fe078ae142b7becc36f21ab7b455",
        "IPY_MODEL_291884d7015249aa8c319ffeebbab550",
        "IPY_MODEL_95b0991836ff42e3b094b13ffdfaffae"
       ],
       "layout": "IPY_MODEL_8c93479c548e422f80ece4ab82230c60"
      }
     },
     "d78f00ee13ea477a8ab73eec4d28431c": {
      "model_module": "@jupyter-widgets/controls",
      "model_module_version": "1.5.0",
      "model_name": "DescriptionStyleModel",
      "state": {
       "description_width": ""
      }
     },
     "d7d98c90410e405fb06ca685a4e110d7": {
      "model_module": "@jupyter-widgets/base",
      "model_module_version": "1.2.0",
      "model_name": "LayoutModel",
      "state": {}
     },
     "d8a77bdbda5040ee9622c50eda3cb028": {
      "model_module": "@jupyter-widgets/base",
      "model_module_version": "1.2.0",
      "model_name": "LayoutModel",
      "state": {}
     },
     "d8f1ca3388a24da1b11ca6c3a92d4b5b": {
      "model_module": "@jupyter-widgets/controls",
      "model_module_version": "1.5.0",
      "model_name": "ProgressStyleModel",
      "state": {
       "description_width": ""
      }
     },
     "d9e1075a05034b2daf5ae4af1022aa94": {
      "model_module": "@jupyter-widgets/controls",
      "model_module_version": "1.5.0",
      "model_name": "HTMLModel",
      "state": {
       "layout": "IPY_MODEL_29af2523e95c4d5dbaa9adb76b492817",
       "style": "IPY_MODEL_271171c6018d468ab8ed7b10aa40a590",
       "value": " 1.00/? [00:00&lt;00:00, 24.9B/s]"
      }
     },
     "db7c123e3cd142e2b4813c6e3a960fa4": {
      "model_module": "@jupyter-widgets/base",
      "model_module_version": "1.2.0",
      "model_name": "LayoutModel",
      "state": {}
     },
     "db9a46b90c7640ee906189a5981cde64": {
      "model_module": "@jupyter-widgets/controls",
      "model_module_version": "1.5.0",
      "model_name": "HBoxModel",
      "state": {
       "children": [
        "IPY_MODEL_8a61e9f8cd4d4d6592946cae74efbad0",
        "IPY_MODEL_6c05528d741e41f5adb4a90353b5ef53",
        "IPY_MODEL_8c193e75fb464c47b1214ebd94ebbaff"
       ],
       "layout": "IPY_MODEL_8942010860f947888d5965798ee45afc"
      }
     },
     "dbaf5b346f674c0a858ef6a848bec165": {
      "model_module": "@jupyter-widgets/controls",
      "model_module_version": "1.5.0",
      "model_name": "FloatProgressModel",
      "state": {
       "bar_style": "success",
       "layout": "IPY_MODEL_6cb651aedc51425fbec47f27a6be9ae7",
       "max": 115,
       "style": "IPY_MODEL_937e9ea300ab4447b78a13effec6c492",
       "value": 115
      }
     },
     "dde500cb7b8242fab6e440a9396831d9": {
      "model_module": "@jupyter-widgets/controls",
      "model_module_version": "1.5.0",
      "model_name": "FloatProgressModel",
      "state": {
       "bar_style": "success",
       "layout": "IPY_MODEL_a1336165c66b4c2aa434c1a3fec3f64c",
       "max": 1,
       "style": "IPY_MODEL_6da46c359b144e90873b48f934030125"
      }
     },
     "df40ca64039946c8a5b4ffe39368b108": {
      "model_module": "@jupyter-widgets/base",
      "model_module_version": "1.2.0",
      "model_name": "LayoutModel",
      "state": {}
     },
     "e09230db12fc49c4aa9b1cc4132579ff": {
      "model_module": "@jupyter-widgets/base",
      "model_module_version": "1.2.0",
      "model_name": "LayoutModel",
      "state": {
       "display": "inline-flex",
       "flex_flow": "row wrap",
       "width": "100%"
      }
     },
     "e1310103b37240b3b96f00504aed1fb6": {
      "model_module": "@jupyter-widgets/controls",
      "model_module_version": "1.5.0",
      "model_name": "HBoxModel",
      "state": {
       "children": [
        "IPY_MODEL_0ff348ae46564d968020db92ca112bda",
        "IPY_MODEL_2aee8cada4644f5b999c901717bd8738",
        "IPY_MODEL_c84044d9182c4a079b5e6544984f275e"
       ],
       "layout": "IPY_MODEL_30f9dc5197754e75a8876bbb71d8f5e8"
      }
     },
     "e1462a2b6de348cc8f33d8a89899638f": {
      "model_module": "@jupyter-widgets/controls",
      "model_module_version": "1.5.0",
      "model_name": "DescriptionStyleModel",
      "state": {
       "description_width": ""
      }
     },
     "e1462a75fc5746f8b2665fb669861945": {
      "model_module": "@jupyter-widgets/controls",
      "model_module_version": "1.5.0",
      "model_name": "HBoxModel",
      "state": {
       "children": [
        "IPY_MODEL_17bf04fa819b40219e9beadabb29b7c5",
        "IPY_MODEL_327873754896413ab5405ed2b7806929",
        "IPY_MODEL_6a986a0d90e2472cbc303acfbf30e5e0"
       ],
       "layout": "IPY_MODEL_61bdd92fb2334ac58ad23d70fade3968"
      }
     },
     "e1af015f87604c1da38e9b239e2cb245": {
      "model_module": "@jupyter-widgets/base",
      "model_module_version": "1.2.0",
      "model_name": "LayoutModel",
      "state": {
       "flex": "2"
      }
     },
     "e29ee39192ff46f88283e71ff431a230": {
      "model_module": "@jupyter-widgets/controls",
      "model_module_version": "1.5.0",
      "model_name": "ProgressStyleModel",
      "state": {
       "description_width": ""
      }
     },
     "e40f15bb04334d218372168c6cca289a": {
      "model_module": "@jupyter-widgets/base",
      "model_module_version": "1.2.0",
      "model_name": "LayoutModel",
      "state": {
       "display": "inline-flex",
       "flex_flow": "row wrap",
       "width": "100%"
      }
     },
     "e563fc133b25432bb2c2adf5fe702eb6": {
      "model_module": "@jupyter-widgets/controls",
      "model_module_version": "1.5.0",
      "model_name": "HTMLModel",
      "state": {
       "layout": "IPY_MODEL_aafa0a3dbe8b415ebafbaed2c8947a3b",
       "style": "IPY_MODEL_01fe9acbf32c4e9f85fe4808dc168a7a",
       "value": " 0.00/? [00:00&lt;?, ?B/s]"
      }
     },
     "e566de2185874613b49505c7bfa726d5": {
      "model_module": "@jupyter-widgets/controls",
      "model_module_version": "1.5.0",
      "model_name": "FloatProgressModel",
      "state": {
       "bar_style": "success",
       "layout": "IPY_MODEL_d644b0b5219743c38fbc79ec5f2a413e",
       "max": 52886,
       "style": "IPY_MODEL_b80a0b834b0141b6ad4d0b107e2711ce",
       "value": 52886
      }
     },
     "e6f0b799d36e46a6bb529a17984ef7a1": {
      "model_module": "@jupyter-widgets/controls",
      "model_module_version": "1.5.0",
      "model_name": "HBoxModel",
      "state": {
       "children": [
        "IPY_MODEL_1772512a86e547dabd6e04d4efd3c34e",
        "IPY_MODEL_e566de2185874613b49505c7bfa726d5",
        "IPY_MODEL_3f4a4c1b6411425fac29c4cee5a60017"
       ],
       "layout": "IPY_MODEL_4e0c490a8eb74c86a4256f5969a965ae"
      }
     },
     "e79bd3627dc54cf8ad30dc99ed906dd4": {
      "model_module": "@jupyter-widgets/controls",
      "model_module_version": "1.5.0",
      "model_name": "FloatProgressModel",
      "state": {
       "bar_style": "info",
       "layout": "IPY_MODEL_a626306a00ca4710a9044d2f697fcae3",
       "max": 1,
       "style": "IPY_MODEL_9c52e67acb594733928a16672fb66c3a",
       "value": 1
      }
     },
     "ebe893f80b9d47819bf914a4ba064a53": {
      "model_module": "@jupyter-widgets/controls",
      "model_module_version": "1.5.0",
      "model_name": "HTMLModel",
      "state": {
       "layout": "IPY_MODEL_02f22b40afa244f58e3af27e9fc77886",
       "style": "IPY_MODEL_81f3d64165f14f66baf8a9e86386bf02",
       "value": " 3/3 [00:00&lt;00:00, 69.06carrots/s]"
      }
     },
     "ed73c4698dc14453b87fc7969bf2dc2f": {
      "model_module": "@jupyter-widgets/controls",
      "model_module_version": "1.5.0",
      "model_name": "DescriptionStyleModel",
      "state": {
       "description_width": ""
      }
     },
     "ef0b8dcba1224b96909517a948065519": {
      "model_module": "@jupyter-widgets/base",
      "model_module_version": "1.2.0",
      "model_name": "LayoutModel",
      "state": {}
     },
     "f07dea83351848c990a11322e82a5478": {
      "model_module": "@jupyter-widgets/controls",
      "model_module_version": "1.5.0",
      "model_name": "FloatProgressModel",
      "state": {
       "bar_style": "success",
       "layout": "IPY_MODEL_537aff289e3e42af89557bd5604b555f",
       "max": 3,
       "style": "IPY_MODEL_6eb037657e4e47cfa08d92ef1aff5b3d",
       "value": 3
      }
     },
     "f1fbb8e667ea4f85a22303514788c234": {
      "model_module": "@jupyter-widgets/controls",
      "model_module_version": "1.5.0",
      "model_name": "HBoxModel",
      "state": {
       "children": [
        "IPY_MODEL_ff7272062b0d44f6a7f6481d2164f25e",
        "IPY_MODEL_f07dea83351848c990a11322e82a5478",
        "IPY_MODEL_ebe893f80b9d47819bf914a4ba064a53"
       ],
       "layout": "IPY_MODEL_ae684630e6744654b7e470539dde03b2"
      }
     },
     "f2523b74e59e4205b0ec0ebd2e765940": {
      "model_module": "@jupyter-widgets/controls",
      "model_module_version": "1.5.0",
      "model_name": "HTMLModel",
      "state": {
       "layout": "IPY_MODEL_c4d2e6939a674cc6893de18514a4e708",
       "style": "IPY_MODEL_9bf4a38a541242fea78eefc7fa72de07",
       "value": "quicklooks/S2A_MSIL1C_20201116T105331_N0209_R051_T31TCK_20201116T130215: 100%"
      }
     },
     "f3eb570e7b594a4f9e8d9ef35fe64cf8": {
      "model_module": "@jupyter-widgets/base",
      "model_module_version": "1.2.0",
      "model_name": "LayoutModel",
      "state": {}
     },
     "f71b8ecf5faa40598267a71a222b731e": {
      "model_module": "@jupyter-widgets/controls",
      "model_module_version": "1.5.0",
      "model_name": "HTMLModel",
      "state": {
       "layout": "IPY_MODEL_cbc05aeb9102482fb012e888d154cdab",
       "style": "IPY_MODEL_244bae2d8b5340cb8af3f6f39d9e92ce",
       "value": "This will be also displayed: "
      }
     },
     "f8d37b2d5b3e4173b2948c1733e079de": {
      "model_module": "@jupyter-widgets/base",
      "model_module_version": "1.2.0",
      "model_name": "LayoutModel",
      "state": {}
     },
     "f9006c9cb3914908a0822081edcf9d3d": {
      "model_module": "@jupyter-widgets/controls",
      "model_module_version": "1.5.0",
      "model_name": "HBoxModel",
      "state": {
       "children": [
        "IPY_MODEL_f2523b74e59e4205b0ec0ebd2e765940",
        "IPY_MODEL_7ad860a453894c48bb11adee1c6b87a1",
        "IPY_MODEL_9b57cb5be33146a2bd4000e377f3883c"
       ],
       "layout": "IPY_MODEL_9c02540b8038464094375e39f05d6369"
      }
     },
     "fb52dc0b1568450fa88389e4962955ab": {
      "model_module": "@jupyter-widgets/controls",
      "model_module_version": "1.5.0",
      "model_name": "HTMLModel",
      "state": {
       "layout": "IPY_MODEL_ef0b8dcba1224b96909517a948065519",
       "style": "IPY_MODEL_219820c194b843e78067877129a0c3a1",
       "value": "quicklooks/S2B_MSIL1C_20201231T105349_N0209_R051_T31TCK_20201231T120402: 100%"
      }
     },
     "fb659e31419940758f6495224b0c556b": {
      "model_module": "@jupyter-widgets/base",
      "model_module_version": "1.2.0",
      "model_name": "LayoutModel",
      "state": {
       "display": "inline-flex",
       "flex_flow": "row wrap",
       "width": "300px"
      }
     },
     "fc3e5a300d8b4889930d2bb0e16d95c9": {
      "model_module": "@jupyter-widgets/controls",
      "model_module_version": "1.5.0",
      "model_name": "ProgressStyleModel",
      "state": {
       "description_width": ""
      }
     },
     "fd45fe078ae142b7becc36f21ab7b455": {
      "model_module": "@jupyter-widgets/controls",
      "model_module_version": "1.5.0",
      "model_name": "HTMLModel",
      "state": {
       "layout": "IPY_MODEL_0d2e58c337ba419a8f57cba7ee7edaaa",
       "style": "IPY_MODEL_5d02707ed9dd4e04abe112d64a628b32",
       "value": "Downloaded products: 100%"
      }
     },
     "feff37ac49ab455db2692829d288f2bd": {
      "model_module": "@jupyter-widgets/base",
      "model_module_version": "1.2.0",
      "model_name": "LayoutModel",
      "state": {
       "display": "inline-flex",
       "flex_flow": "row wrap",
       "width": "100%"
      }
     },
     "ff22fadc6c5f45b0b0a3b5f66675972e": {
      "model_module": "@jupyter-widgets/base",
      "model_module_version": "1.2.0",
      "model_name": "LayoutModel",
      "state": {}
     },
     "ff7272062b0d44f6a7f6481d2164f25e": {
      "model_module": "@jupyter-widgets/controls",
      "model_module_version": "1.5.0",
      "model_name": "HTMLModel",
      "state": {
       "layout": "IPY_MODEL_9229a49e42494e979d82b203ecf1791f",
       "style": "IPY_MODEL_380cbc0470cf47cd821b014c1cd6217c",
       "value": "Eating carrots: 100%"
      }
     }
    },
    "version_major": 2,
    "version_minor": 0
   }
  }
 },
 "nbformat": 4,
 "nbformat_minor": 4
}
