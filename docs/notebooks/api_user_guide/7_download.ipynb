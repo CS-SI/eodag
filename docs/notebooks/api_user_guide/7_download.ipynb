{
 "metadata": {
  "language_info": {
   "codemirror_mode": {
    "name": "ipython",
    "version": 3
   },
   "file_extension": ".py",
   "mimetype": "text/x-python",
   "name": "python",
   "nbconvert_exporter": "python",
   "pygments_lexer": "ipython3",
   "version": "3.8.6"
  },
  "orig_nbformat": 2,
  "kernelspec": {
   "name": "python3",
   "display_name": "Python 3.8.6 64-bit",
   "metadata": {
    "interpreter": {
     "hash": "0cf725079c7d16f2cba0a185a776402bb287255802a557bed9d05e4eed5bfa43"
    }
   }
  }
 },
 "nbformat": 4,
 "nbformat_minor": 2,
 "cells": [
  {
   "source": [
    "# Download"
   ],
   "cell_type": "markdown",
   "metadata": {}
  },
  {
   "source": [
    "Downloading products is after searching one of the most important features of `eodag`. This page describes the different methods available to download products and the parameters that these methods accept."
   ],
   "cell_type": "markdown",
   "metadata": {}
  },
  {
   "source": [
    "<div class=\"alert alert-warning\">\n",
    "\n",
    "Warning\n",
    "\n",
    "Downloading products from a provider whose storage is based on AWS may incur some cost.\n",
    "\n",
    "</div>"
   ],
   "cell_type": "markdown",
   "metadata": {}
  },
  {
   "source": [
    "## Setup"
   ],
   "cell_type": "markdown",
   "metadata": {}
  },
  {
   "source": [
    "Results obtained from *PEPS* after a search of *Sentinel 2 Level-1C* products over France in March 2021 will be loaded in a `SearchResult`. But first, the credentials need to be set in order to be able to download anything."
   ],
   "cell_type": "markdown",
   "metadata": {}
  },
  {
   "cell_type": "code",
   "execution_count": 1,
   "metadata": {},
   "outputs": [],
   "source": [
    "import os\n",
    "os.environ[\"EODAG__PEPS__AUTH__CREDENTIALS__USERNAME\"] = \"PLEASE_CHANGE_ME\"\n",
    "os.environ[\"EODAG__PEPS__AUTH__CREDENTIALS__PASSWORD\"] = \"PLEASE_CHANGE_ME\""
   ]
  },
  {
   "source": [
    "A workspace directory is created to store the downloaded products."
   ],
   "cell_type": "markdown",
   "metadata": {}
  },
  {
   "cell_type": "code",
   "execution_count": 2,
   "metadata": {},
   "outputs": [],
   "source": [
    "workspace = 'eodag_workspace_download'\n",
    "if not os.path.isdir(workspace):\n",
    "    os.mkdir(workspace)"
   ]
  },
  {
   "source": [
    "By default `eodag` saves products in the directory set by `outputs_prefix` which is by default the system temporary folder (`/tmp` on Linux) and quicklooks in a `quicklooks `subfolder of `outputs_prefix` (`tmp/quicklooks` on Linux). Here `eodag` is configured to download products in this workspace directory."
   ],
   "cell_type": "markdown",
   "metadata": {}
  },
  {
   "cell_type": "code",
   "execution_count": 3,
   "metadata": {},
   "outputs": [],
   "source": [
    "os.environ[\"EODAG__PEPS__DOWNLOAD__OUTPUTS_PREFIX\"] = os.path.abspath(workspace)"
   ]
  },
  {
   "source": [
    "Another setting that could be defined here is whether or not products need to be automatically extracted from their archive. They are extracted by default, this setting is not going to be altered here. The search result is finally loaded with `serialize_and_register`."
   ],
   "cell_type": "markdown",
   "metadata": {}
  },
  {
   "cell_type": "code",
   "execution_count": 4,
   "metadata": {},
   "outputs": [
    {
     "output_type": "stream",
     "name": "stdout",
     "text": [
      "This SearchResult stores 10 S2_MSI_L1C products.\n"
     ]
    }
   ],
   "source": [
    "from eodag import EODataAccessGateway\n",
    "dag = EODataAccessGateway()\n",
    "search_results = dag.deserialize_and_register(\"data/download_search_results.geojson\")\n",
    "print(f\"This SearchResult stores {len(search_results)} {search_results[0].product_type} products.\")"
   ]
  },
  {
   "source": [
    "Logging is set to see more about what `eodag` does when it downloads products."
   ],
   "cell_type": "markdown",
   "metadata": {}
  },
  {
   "cell_type": "code",
   "execution_count": 46,
   "metadata": {},
   "outputs": [],
   "source": [
    "from eodag import setup_logging\n",
    "setup_logging(1)"
   ]
  },
  {
   "cell_type": "code",
   "execution_count": 58,
   "metadata": {
    "nbsphinx": "hidden"
   },
   "outputs": [],
   "source": [
    "# This code cell has a special metadata entry: \"nbsphinx\": \"hidden\"\n",
    "# That hides it when the documentation is built with nbsphinx/sphinx.\n",
    "\n",
    "# Uncomment these lines to regenerate the GeoJSON file used in this notebook.\n",
    "\n",
    "#from eodag.api.search_result import SearchResult\n",
    "\n",
    "#search_results = dag.search_all(\n",
    "#    productType=\"S2_MSI_L1C\",\n",
    "#    start=\"2018-01-01\",\n",
    "#    end=\"2021-01-01\",\n",
    "#    geom={\"lonmin\": 1, \"latmin\": 45, \"lonmax\": 1.5, \"latmax\": 45.5},\n",
    "#)\n",
    "#combined_search_results = SearchResult([])\n",
    "#offline_prods = [p for p in search_results if p.properties[\"storageStatus\"] == \"OFFLINE\"]\n",
    "#online_prods = [p for p in search_results if p.properties[\"storageStatus\"] == \"ONLINE\"]\n",
    "#if len(offline_prods) == 0 or len(online_prods) == 0:\n",
    "#    raise ValueError(\"This search result must contain both ONLINE and OFFLINE products for the #notebook to be run correctly\")\n",
    "#combined_search_results.extend(online_prods[:5])\n",
    "#combined_search_results.extend(offline_prods[:5])\n",
    "#combined_search_results\n",
    "#dag.serialize(combined_search_results, \"data/download_search_results.geojson\")"
   ]
  },
  {
   "source": [
    "## Notebook progress bar"
   ],
   "cell_type": "markdown",
   "metadata": {}
  },
  {
   "source": [
    "`eodag` displays a progress bar every time it downloads products or quicklooks. In the context of a Jupyter Notebook, an instance of the [NotebookProgressCallback](../../api_reference/utils.rst#eodag.utils.NotebookProgressCallback) class should be used instead of the default one which is more appropriate for command line usage. It should be passed to the `progress_callback` parameter of the download methods."
   ],
   "cell_type": "markdown",
   "metadata": {}
  },
  {
   "cell_type": "code",
   "execution_count": 7,
   "metadata": {},
   "outputs": [],
   "source": [
    "from eodag.utils import NotebookProgressCallback"
   ]
  },
  {
   "source": [
    "## Already downloaded product"
   ],
   "cell_type": "markdown",
   "metadata": {}
  },
  {
   "source": [
    "An `EOProduct` has a `location` attribute that stores either its remote location (before being downloaded) or its local location (after being downloaded). The download methods of `eodag` checks first wheter the product/quicklook to download has been already downloaded. If so, it just returns its path and does not try to download it again."
   ],
   "cell_type": "markdown",
   "metadata": {}
  },
  {
   "source": [
    "## Download quicklooks"
   ],
   "cell_type": "markdown",
   "metadata": {}
  },
  {
   "source": [
    "EO products usually offer a *quicklook* image, a low resolution by-product of the original data. An `EOProduct` has a [get_quicklook](../../api_reference/eoproduct.rst#eodag.api.product._product.EOProduct.get_quicklook) method that takes care of downloading the quicklook image and returns its path. It accepts a `base_dir` (optional) parameter to specify an output directory and a `filename` (optional) parameter to specify an output filename. By default, `eodag` saves a quicklook with its ID as filename.\n",
    "\n",
    "`get_quicklook` returns the local absolute path to the image downloaded. This is useful to precess it afterwards. Here `matplotlib` is used here to display 4 quicklooks."
   ],
   "cell_type": "markdown",
   "metadata": {}
  },
  {
   "cell_type": "code",
   "execution_count": null,
   "metadata": {},
   "outputs": [],
   "source": [
    "import matplotlib.pyplot as plt\n",
    "import matplotlib.image as mpimg\n",
    "\n",
    "fig = plt.figure(figsize=(10, 8))\n",
    "for i, product in enumerate(search_results, start=1):\n",
    "    # This line takes care of downloading the quicklook\n",
    "    quicklook_path = product.get_quicklook(progress_callback=NotebookProgressCallback())\n",
    "    \n",
    "    # Plot the quicklook\n",
    "    img = mpimg.imread(quicklook_path)\n",
    "    ax = fig.add_subplot(3, 4, i)\n",
    "    ax.set_title(i - 1)\n",
    "    plt.imshow(img)\n",
    "plt.tight_layout()"
   ]
  },
  {
   "source": [
    "## Download EO products"
   ],
   "cell_type": "markdown",
   "metadata": {}
  },
  {
   "source": [
    "### Dynamically configure some download options"
   ],
   "cell_type": "markdown",
   "metadata": {}
  },
  {
   "source": [
    "The 3 download methods introduced below accept the following optional kwargs that temporarily override the global configuration:\n",
    "\n",
    "* `outputs_prefix` (str): absolute path to a folder where the products should be saved\n",
    "* `extract` (bool): whether to automatically extract or not the downloaded product archive\n",
    "* `dl_url_params` (dict): additional parameters to pass over to the download url as an url parameter"
   ],
   "cell_type": "markdown",
   "metadata": {}
  },
  {
   "source": [
    "### Order OFFLINE products"
   ],
   "cell_type": "markdown",
   "metadata": {}
  },
  {
   "source": [
    "As introduced in the [getting started guide](../../getting_started_guide/product_storage_status.rst) an EO product may not be available for download immediately. If the product status is `OFFLINE`, the download methods will request an order of the product and, by default, retry to download it every 2 minutes during 20 minutes. These two durations can be set with the `wait` (in minutes) and `retry` (in minutes) optional parameters of all the download methods."
   ],
   "cell_type": "markdown",
   "metadata": {}
  },
  {
   "source": [
    "The storage status of a product can be obtained from its `storageStatus` field. The status of an `OFFLINE` product is updated by `eodag` to `STAGING` when ordered and to `ONLINE` when found available."
   ],
   "cell_type": "markdown",
   "metadata": {}
  },
  {
   "cell_type": "code",
   "execution_count": 8,
   "metadata": {},
   "outputs": [
    {
     "output_type": "execute_result",
     "data": {
      "text/plain": [
       "['ONLINE',\n",
       " 'ONLINE',\n",
       " 'ONLINE',\n",
       " 'ONLINE',\n",
       " 'ONLINE',\n",
       " 'OFFLINE',\n",
       " 'OFFLINE',\n",
       " 'OFFLINE',\n",
       " 'OFFLINE',\n",
       " 'OFFLINE']"
      ]
     },
     "metadata": {},
     "execution_count": 8
    }
   ],
   "source": [
    "[p.properties[\"storageStatus\"] for p in search_results]"
   ]
  },
  {
   "source": [
    "A `FilterProperty` can be used to filter out `OFFLINE` products to avoid triggering any product order. "
   ],
   "cell_type": "markdown",
   "metadata": {}
  },
  {
   "cell_type": "code",
   "execution_count": 9,
   "metadata": {},
   "outputs": [],
   "source": [
    "from eodag.plugins.crunch.filter_property import FilterProperty"
   ]
  },
  {
   "cell_type": "code",
   "execution_count": 10,
   "metadata": {},
   "outputs": [
    {
     "output_type": "stream",
     "name": "stderr",
     "text": [
      "2021-04-13 11:16:48,768-15s eodag.plugins.crunch.filter_property [DEBUG   ] (filter_property  ) Start filtering for products matching operator.eq(product.properties['storageStatus'], ONLINE)\n",
      "2021-04-13 11:16:48,771-15s eodag.plugins.crunch.filter_property [INFO    ] (filter_property  ) Finished filtering products. 5 resulting products\n"
     ]
    },
    {
     "output_type": "execute_result",
     "data": {
      "text/plain": [
       "['ONLINE', 'ONLINE', 'ONLINE', 'ONLINE', 'ONLINE']"
      ]
     },
     "metadata": {},
     "execution_count": 10
    }
   ],
   "source": [
    "online_search_results = search_results.crunch(\n",
    "    FilterProperty(dict(storageStatus=\"ONLINE\"))\n",
    ")\n",
    "[p.properties[\"storageStatus\"] for p in online_search_results]"
   ]
  },
  {
   "source": [
    "### Download multiple products at once"
   ],
   "cell_type": "markdown",
   "metadata": {}
  },
  {
   "source": [
    "`EODataAccessGateway` offers a [download_all](../../api_reference/core.rst#eodag.api.core.EODataAccessGateway.download_all) method that takes a `SearchResult` argument and will try to download each `EOProduct` it contains. It returns a list of absolute paths to the downloaded products. For the purpose of this user guide only 2 products will be downloaded."
   ],
   "cell_type": "markdown",
   "metadata": {}
  },
  {
   "cell_type": "code",
   "execution_count": 13,
   "metadata": {},
   "outputs": [
    {
     "output_type": "stream",
     "name": "stderr",
     "text": [
      "2021-04-13 11:22:32,521-15s eodag.core                       [INFO    ] (core             ) Downloading 2 products\n"
     ]
    },
    {
     "output_type": "display_data",
     "data": {
      "text/plain": "HBox(children=(HTML(value='Downloaded products'), FloatProgress(value=0.0, layout=Layout(flex='2'), max=2.0), …",
      "application/vnd.jupyter.widget-view+json": {
       "version_major": 2,
       "version_minor": 0,
       "model_id": "726e384085f04948aa4a54a505ff035d"
      }
     },
     "metadata": {}
    },
    {
     "output_type": "stream",
     "name": "stderr",
     "text": [
      "2021-04-13 11:22:32,651-15s eodag.plugins.download.base      [INFO    ] (base             ) Download url: https://peps.cnes.fr/resto/collections/S2ST/86440880-7f7d-50f0-87a7-ac1bc2bd8fbd/download\n"
     ]
    },
    {
     "output_type": "display_data",
     "data": {
      "text/plain": "HBox(children=(HTML(value='S2A_MSIL1C_20201229T110451_N0209_R094_T31TCL_20201229T131620'), FloatProgress(value…",
      "application/vnd.jupyter.widget-view+json": {
       "version_major": 2,
       "version_minor": 0,
       "model_id": "5942320efbb24d58aeb2ac9db6fce352"
      }
     },
     "metadata": {}
    },
    {
     "output_type": "stream",
     "name": "stderr",
     "text": [
      "2021-04-13 11:35:12,878-15s eodag.plugins.download.http      [DEBUG   ] (http             ) Download recorded in /home/maxime/TRAVAIL/06_EODAG/01_eodag/eodag/docs/notebooks/api_user_guide/eodag_workspace_download/.downloaded/a5d8e3fb7be3e74cbdd0bbe0497417ce\n",
      "2021-04-13 11:35:12,887-15s eodag.plugins.download.base      [INFO    ] (base             ) Extraction activated\n"
     ]
    },
    {
     "output_type": "display_data",
     "data": {
      "text/plain": "HBox(children=(HTML(value='Extracting files from S2A_MSIL1C_20201229T110451_N0209_R094_T31TCL_20201229T131620.…",
      "application/vnd.jupyter.widget-view+json": {
       "version_major": 2,
       "version_minor": 0,
       "model_id": "2ac7a62b429c42bfa07a1b6c028513d6"
      }
     },
     "metadata": {}
    },
    {
     "output_type": "stream",
     "name": "stderr",
     "text": [
      "2021-04-13 11:35:15,337-15s eodag.plugins.download.base      [INFO    ] (base             ) Download url: https://peps.cnes.fr/resto/collections/S2ST/c51639e0-18ab-55a4-bc7c-7757a64911fa/download\n",
      "\n",
      "2021-04-13 12:04:34,814-15s eodag.plugins.download.http      [DEBUG   ] (http             ) Download recorded in /home/maxime/TRAVAIL/06_EODAG/01_eodag/eodag/docs/notebooks/api_user_guide/eodag_workspace_download/.downloaded/7ec32b9e6e6a253fa76fb278390c48d9\n",
      "2021-04-13 12:04:34,823-15s eodag.plugins.download.base      [INFO    ] (base             ) Extraction activated\n"
     ]
    },
    {
     "output_type": "display_data",
     "data": {
      "text/plain": "HBox(children=(HTML(value='Extracting files from S2A_MSIL1C_20201226T105451_N0209_R051_T31TCK_20201226T130209.…",
      "application/vnd.jupyter.widget-view+json": {
       "version_major": 2,
       "version_minor": 0,
       "model_id": "a0ef6b845283405db8e2996bd8f73918"
      }
     },
     "metadata": {}
    },
    {
     "output_type": "stream",
     "name": "stdout",
     "text": [
      "\n\n\n"
     ]
    }
   ],
   "source": [
    "products_to_download = online_search_results[2:4]\n",
    "paths = dag.download_all(products_to_download, progress_callback=NotebookProgressCallback())"
   ]
  },
  {
   "cell_type": "code",
   "execution_count": 14,
   "metadata": {},
   "outputs": [
    {
     "output_type": "execute_result",
     "data": {
      "text/plain": [
       "['/home/maxime/TRAVAIL/06_EODAG/01_eodag/eodag/docs/notebooks/api_user_guide/eodag_workspace_download/S2A_MSIL1C_20201229T110451_N0209_R094_T31TCL_20201229T131620/S2A_MSIL1C_20201229T110451_N0209_R094_T31TCL_20201229T131620.SAFE',\n",
       " '/home/maxime/TRAVAIL/06_EODAG/01_eodag/eodag/docs/notebooks/api_user_guide/eodag_workspace_download/S2A_MSIL1C_20201226T105451_N0209_R051_T31TCK_20201226T130209/S2A_MSIL1C_20201226T105451_N0209_R051_T31TCK_20201226T130209.SAFE']"
      ]
     },
     "metadata": {},
     "execution_count": 14
    }
   ],
   "source": [
    "paths"
   ]
  },
  {
   "source": [
    "The command below shows that the products have been downloaded as archived files (*Sentinel* products are distributed in the [SAFE format](https://sentinel.esa.int/web/sentinel/user-guides/sentinel-2-msi/data-formats)). `eodag` then took care of extracting them to their own directory."
   ],
   "cell_type": "markdown",
   "metadata": {}
  },
  {
   "cell_type": "code",
   "execution_count": 15,
   "metadata": {},
   "outputs": [
    {
     "output_type": "stream",
     "name": "stdout",
     "text": [
      "quicklooks\nS2A_MSIL1C_20201226T105451_N0209_R051_T31TCK_20201226T130209\nS2A_MSIL1C_20201226T105451_N0209_R051_T31TCK_20201226T130209.zip\nS2A_MSIL1C_20201229T110451_N0209_R094_T31TCL_20201229T131620\nS2A_MSIL1C_20201229T110451_N0209_R094_T31TCL_20201229T131620.zip\n"
     ]
    }
   ],
   "source": [
    "!ls {workspace}"
   ]
  },
  {
   "cell_type": "code",
   "execution_count": 21,
   "metadata": {},
   "outputs": [
    {
     "output_type": "stream",
     "name": "stdout",
     "text": [
      "AUX_DATA   GRANULE  INSPIRE.xml    MTD_MSIL1C.xml\nDATASTRIP  HTML     manifest.safe  rep_info\n"
     ]
    }
   ],
   "source": [
    "!ls {paths[0]}"
   ]
  },
  {
   "source": [
    "`eodag` saves a file in the `outputs_prefix` folder that contains a hash list of the products downloaded. Before downloading products, this file is read and it is checked whether the products to download were already downloaded or not. If they were, their download is skipped."
   ],
   "cell_type": "markdown",
   "metadata": {}
  },
  {
   "cell_type": "code",
   "execution_count": 62,
   "metadata": {},
   "outputs": [
    {
     "output_type": "stream",
     "name": "stderr",
     "text": [
      "2021-04-13 15:27:44,258-15s eodag.core                       [INFO    ] Downloading 2 products\n"
     ]
    },
    {
     "output_type": "display_data",
     "data": {
      "text/plain": "HBox(children=(HTML(value='Downloaded products'), FloatProgress(value=0.0, layout=Layout(flex='2'), max=2.0), …",
      "application/vnd.jupyter.widget-view+json": {
       "version_major": 2,
       "version_minor": 0,
       "model_id": "4bae3815f3cc4780917407629669ad01"
      }
     },
     "metadata": {}
    },
    {
     "output_type": "stream",
     "name": "stderr",
     "text": [
      "2021-04-13 15:27:44,335-15s eodag.plugins.download.base      [INFO    ] Download url: https://peps.cnes.fr/resto/collections/S2ST/86440880-7f7d-50f0-87a7-ac1bc2bd8fbd/download\n",
      "2021-04-13 15:27:44,340-15s eodag.plugins.download.base      [INFO    ] Product already downloaded: /home/maxime/TRAVAIL/06_EODAG/01_eodag/eodag/docs/notebooks/api_user_guide/eodag_workspace_download/S2A_MSIL1C_20201229T110451_N0209_R094_T31TCL_20201229T131620.zip\n",
      "2021-04-13 15:27:44,343-15s eodag.plugins.download.base      [INFO    ] Extraction cancelled, destination directory already exists and is not empty: /home/maxime/TRAVAIL/06_EODAG/01_eodag/eodag/docs/notebooks/api_user_guide/eodag_workspace_download/S2A_MSIL1C_20201229T110451_N0209_R094_T31TCL_20201229T131620\n",
      "2021-04-13 15:27:44,347-15s eodag.plugins.download.base      [INFO    ] Download url: https://peps.cnes.fr/resto/collections/S2ST/c51639e0-18ab-55a4-bc7c-7757a64911fa/download\n",
      "2021-04-13 15:27:44,352-15s eodag.plugins.download.base      [INFO    ] Product already downloaded: /home/maxime/TRAVAIL/06_EODAG/01_eodag/eodag/docs/notebooks/api_user_guide/eodag_workspace_download/S2A_MSIL1C_20201226T105451_N0209_R051_T31TCK_20201226T130209.zip\n",
      "2021-04-13 15:27:44,354-15s eodag.plugins.download.base      [INFO    ] Extraction cancelled, destination directory already exists and is not empty: /home/maxime/TRAVAIL/06_EODAG/01_eodag/eodag/docs/notebooks/api_user_guide/eodag_workspace_download/S2A_MSIL1C_20201226T105451_N0209_R051_T31TCK_20201226T130209\n",
      "\n"
     ]
    },
    {
     "output_type": "execute_result",
     "data": {
      "text/plain": [
       "['/home/maxime/TRAVAIL/06_EODAG/01_eodag/eodag/docs/notebooks/api_user_guide/eodag_workspace_download/S2A_MSIL1C_20201229T110451_N0209_R094_T31TCL_20201229T131620',\n",
       " '/home/maxime/TRAVAIL/06_EODAG/01_eodag/eodag/docs/notebooks/api_user_guide/eodag_workspace_download/S2A_MSIL1C_20201226T105451_N0209_R051_T31TCK_20201226T130209']"
      ]
     },
     "metadata": {},
     "execution_count": 62
    }
   ],
   "source": [
    "products_to_download = online_search_results[2:4]\n",
    "dag.download_all(products_to_download, progress_callback=NotebookProgressCallback())"
   ]
  },
  {
   "source": [
    "### Download a single product"
   ],
   "cell_type": "markdown",
   "metadata": {}
  },
  {
   "source": [
    "`EODataAccessGateway` also offers a [download](../../api_reference/core.rst#eodag.api.core.EODataAccessGateway.download) method that takes an `EOProduct` argument and will try to download it. It is a wrapper around the [download](../../api_reference/eoproduct.rst#eodag.api.product._product.EOProduct.download) method that each `EOProduct` has. Its advantage over the latter is that, similarly to what does `deserialize_and_register`, it adds the information required for a product to download itself if it was missing. It does so by extracting the product's provider and getting the right authentication and download plugins. Both methods return the absolute path to the downloaded product."
   ],
   "cell_type": "markdown",
   "metadata": {}
  },
  {
   "source": [
    "### Download an OFFLINE product"
   ],
   "cell_type": "markdown",
   "metadata": {}
  },
  {
   "source": [
    "This examples shows what logs `eodag` emits when it tries to download a product that is originally `OFFLINE`. It is set to retry downloading the product every 1 minute after ordering it, and to stop trying (skip it if `download_all` is used) after 5 minutes."
   ],
   "cell_type": "markdown",
   "metadata": {}
  },
  {
   "cell_type": "code",
   "execution_count": 51,
   "metadata": {},
   "outputs": [
    {
     "output_type": "stream",
     "name": "stderr",
     "text": [
      "2021-04-13 14:12:55,035-15s eodag.plugins.crunch.filter_property [INFO    ] Finished filtering products. 551 resulting products\n"
     ]
    },
    {
     "output_type": "execute_result",
     "data": {
      "text/plain": [
       "'OFFLINE'"
      ]
     },
     "metadata": {},
     "execution_count": 51
    }
   ],
   "source": [
    "offline_product = search_results.crunch(\n",
    "    FilterProperty(dict(storageStatus=\"OFFLINE\"))\n",
    ")[1]\n",
    "offline_product.properties[\"storageStatus\"]"
   ]
  },
  {
   "cell_type": "code",
   "execution_count": 52,
   "metadata": {
    "tags": []
   },
   "outputs": [
    {
     "output_type": "stream",
     "name": "stderr",
     "text": [
      "2021-04-13 14:13:00,963-15s eodag.plugins.download.base      [INFO    ] Download url: https://peps.cnes.fr/resto/collections/S2ST/342f1704-8931-5411-8812-d96b343e2da5/download\n",
      "2021-04-13 14:13:09,814-15s eodag.plugins.download.http      [INFO    ] [Retry #1] Waiting 51s until next download try (retry every 1' for 5')\n"
     ]
    },
    {
     "output_type": "display_data",
     "data": {
      "text/plain": "<IPython.core.display.HTML object>",
      "text/html": "[Retry #1] Waiting 51s until next download try (retry every 1' for 5')"
     },
     "metadata": {}
    },
    {
     "output_type": "stream",
     "name": "stderr",
     "text": [
      "2021-04-13 14:14:07,466-15s eodag.plugins.download.http      [INFO    ] [Retry #2] Waiting 53s until next download try (retry every 1' for 5')\n",
      "2021-04-13 14:15:02,877-15s eodag.plugins.download.http      [INFO    ] [Retry #3] Waiting 58s until next download try (retry every 1' for 5')\n"
     ]
    },
    {
     "output_type": "display_data",
     "data": {
      "text/plain": "HBox(children=(HTML(value='S2A_MSIL1C_20201116T105331_N0209_R051_T31TCL_20201116T130215'), FloatProgress(value…",
      "application/vnd.jupyter.widget-view+json": {
       "version_major": 2,
       "version_minor": 0,
       "model_id": "59073c597662403097dacb1b92d5e21d"
      }
     },
     "metadata": {}
    },
    {
     "output_type": "stream",
     "name": "stderr",
     "text": [
      "2021-04-13 14:47:04,527-15s eodag.plugins.download.base      [INFO    ] Extraction activated\n"
     ]
    },
    {
     "output_type": "display_data",
     "data": {
      "text/plain": "HBox(children=(HTML(value='Extracting files from S2A_MSIL1C_20201116T105331_N0209_R051_T31TCL_20201116T130215.…",
      "application/vnd.jupyter.widget-view+json": {
       "version_major": 2,
       "version_minor": 0,
       "model_id": "8cdbec4e664b4841a8b1833834bf37d5"
      }
     },
     "metadata": {}
    },
    {
     "output_type": "stream",
     "name": "stderr",
     "text": [
      "2021-04-13 14:47:06,448-15s eodag.api.product                [INFO    ] Remote location of the product is still available through its 'remote_location' property: https://peps.cnes.fr/resto/collections/S2ST/342f1704-8931-5411-8812-d96b343e2da5/download\n",
      "\n",
      "\n"
     ]
    }
   ],
   "source": [
    "path = dag.download(\n",
    "    offline_product,\n",
    "    wait=1,\n",
    "    timeout=5,\n",
    "    progress_callback=NotebookProgressCallback()\n",
    ")"
   ]
  },
  {
   "cell_type": "code",
   "execution_count": 53,
   "metadata": {},
   "outputs": [
    {
     "output_type": "execute_result",
     "data": {
      "text/plain": [
       "'file:///home/maxime/TRAVAIL/06_EODAG/01_eodag/eodag/docs/notebooks/api_user_guide/eodag_workspace_download/S2A_MSIL1C_20201116T105331_N0209_R051_T31TCL_20201116T130215/S2A_MSIL1C_20201116T105331_N0209_R051_T31TCL_20201116T130215.SAFE'"
      ]
     },
     "metadata": {},
     "execution_count": 53
    }
   ],
   "source": [
    "path"
   ]
  },
  {
   "source": [
    "Now the `location` attribute rightfully points to its local path."
   ],
   "cell_type": "markdown",
   "metadata": {}
  },
  {
   "cell_type": "code",
   "execution_count": 57,
   "metadata": {},
   "outputs": [
    {
     "output_type": "execute_result",
     "data": {
      "text/plain": [
       "'file:///home/maxime/TRAVAIL/06_EODAG/01_eodag/eodag/docs/notebooks/api_user_guide/eodag_workspace_download/S2A_MSIL1C_20201116T105331_N0209_R051_T31TCL_20201116T130215/S2A_MSIL1C_20201116T105331_N0209_R051_T31TCL_20201116T130215.SAFE'"
      ]
     },
     "metadata": {},
     "execution_count": 57
    }
   ],
   "source": [
    "offline_product.location"
   ]
  }
 ]
}
