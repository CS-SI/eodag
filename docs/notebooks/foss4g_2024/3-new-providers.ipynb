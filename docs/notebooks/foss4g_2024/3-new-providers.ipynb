{
 "cells": [
  {
   "cell_type": "markdown",
   "id": "5b1f9470-c442-479d-9fc5-7a55e91b3a33",
   "metadata": {},
   "source": [
    "# Add your own providers to EODAG"
   ]
  },
  {
   "cell_type": "code",
   "execution_count": null,
   "id": "b8a7df34-7c94-4e3c-932a-03ab36889c38",
   "metadata": {},
   "outputs": [],
   "source": []
  }
 ],
 "metadata": {
  "kernelspec": {
   "display_name": "Python 3 (ipykernel)",
   "language": "python",
   "name": "python3"
  },
  "language_info": {
   "codemirror_mode": {
    "name": "ipython",
    "version": 3
   },
   "file_extension": ".py",
   "mimetype": "text/x-python",
   "name": "python",
   "nbconvert_exporter": "python",
   "pygments_lexer": "ipython3",
   "version": "3.10.12"
  },
  "widgets": {
   "application/vnd.jupyter.widget-state+json": {
    "state": {},
    "version_major": 2,
    "version_minor": 0
   }
  }
 },
 "nbformat": 4,
 "nbformat_minor": 5
}
