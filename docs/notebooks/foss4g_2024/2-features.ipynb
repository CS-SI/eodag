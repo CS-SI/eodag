{
 "cells": [
  {
   "cell_type": "markdown",
   "metadata": {},
   "source": [
    "# EODAG features overview"
   ]
  },
  {
   "cell_type": "markdown",
   "metadata": {},
   "source": [
    "- [EODAG ecosystem](#EODAG-ecosystem)\n",
    "- [Installation](#Installation)\n",
    "- [Configuration](#Configuration)\n",
    "    - [Logging and init](#Logging-and-init)\n",
    "- [Labextension usage](#Labextension-usage): see how to quicky generated EODAG snippets\n",
    "- [Providers and product types](#Providers-and-product-types)\n",
    "- [Search](#Search)\n",
    "- [Serialize](#Serialize)\n",
    "- [Crunch](#Crunch)\n",
    "- [Download](#Download)\n",
    "    - [Download quicklooks](#Download-quicklooks)\n",
    "    - [Download products](#Download-products)\n",
    "    - [Download an asset](#Download-an-asset)\n",
    "- [Xarray data access](#Xarray-data-access) using [eodag-cube](https://github.com/CS-SI/eodag-cube)"
   ]
  },
  {
   "cell_type": "markdown",
   "metadata": {
    "tags": []
   },
   "source": [
    "## EODAG eocosystem\n",
    "\n",
    "- `eodag-cube`: Data access functionalities have been split to a separate project to avoid conflicts with unneeded libraries when using only EODAG basic functionalities.\n",
    "\n",
    "  EODAG-cube is available on [github](https://github.com/CS-SI/eodag-cube) and [pypi](https://pypi.org/project/eodag-cube/).\n",
    "- `eodag-labextension` : Jupyterlab extension that brings a friendly UI to your notebook and helps you search and browse for EO products using EODAG.\n",
    "\n",
    "  EODAG-labextension is available on [github](https://github.com/CS-SI/eodag-labextension) and [pypi](https://pypi.org/project/eodag-labextension).\n",
    "\n",
    "\n",
    "## Installation\n",
    "\n",
    "EODAG is really simple to install with `pip`:\n",
    "```sh\n",
    "pip install eodag\n",
    "```\n",
    "Or with `conda` from the conda-forge channel:\n",
    "```\n",
    "conda install -c conda-forge eodag\n",
    "```\n",
    "\n",
    "**_NOTE:_**  Since v3.0, EODAG comes with a minimal set of dependencies. If you want more features, please install using one of the following extras:\n",
    "- `eodag[all]`, includes everything that would be needed to run EODAG and associated tutorials with all features\n",
    "- `eodag[all-providers]`, includes dependencies required to have all providers available\n",
    "- `eodag[csw]`, includes dependencies for plugins using CSW\n",
    "- `eodag[ecmwf]`, includes dependencies for EcmwfApi (ecmwf provider)\n",
    "- `eodag[usgs]`, includes dependencies for UsgsApi (usgs provider)\n",
    "- `eodag[server]`, includes dependencies for server-mode\n",
    "\n",
    "> For the workshop, we will use the latest pre-releases (`eodag[tutorials]` includes `eodag-cube` and other dependencies needed for the tutorials additionally to `eodag` basic install):\n",
    "> ```sh\n",
    "> pip install --pre \"eodag[tutorials]\" \"eodag-labextension\"\n",
    "> ```"
   ]
  },
  {
   "cell_type": "markdown",
   "metadata": {},
   "source": [
    "## Configuration\n",
    "\n",
    "&rarr; We will configure `eodag` to be able to download using `cop_dataspace`. For that we need to fill our credentials. Check [Provider registration](https://eodag.readthedocs.io/en/latest/getting_started_guide/register.html) if you don't already have an account."
   ]
  },
  {
   "cell_type": "code",
   "execution_count": null,
   "metadata": {},
   "outputs": [],
   "source": [
    "\n",
    "\n"
   ]
  },
  {
   "cell_type": "markdown",
   "metadata": {},
   "source": [
    "Credentials and other providers settings can be set:\n",
    "- by editing the user configuration file `~/.config/eodag/eodag.yml` that was automatically created, and will contain:\n",
    "```yaml\n",
    "cop_dataspace:\n",
    "    priority: # Lower value means lower priority (Default: 0)\n",
    "    search:  # Search parameters configuration\n",
    "    download:\n",
    "        extract:  # whether to extract the downloaded products (true or false, Default: true).\n",
    "        outputs_prefix: # where to store downloaded products.\n",
    "        delete_archive: # whether to delete the downloaded archives (true or false, Default: true).\n",
    "    auth:\n",
    "        credentials:\n",
    "            username: PLEASE_CHANGE_ME\n",
    "            password: PLEASE_CHANGE_ME\n",
    "```\n",
    "\n",
    "- by setting environment variables following the pattern `EODAG__KEY1__KEY2__[...]__KEYN` (note the double underscore between the keys). For example, `EODAG__COP_DATASPACE__DOWNLOAD__OUTPUTS_PREFIX` can be used to change the download directory.\n",
    "\n",
    "Check [documentation](https://eodag.readthedocs.io/en/latest/getting_started_guide/configure.html) for more information on how to configure EODAG."
   ]
  },
  {
   "cell_type": "markdown",
   "metadata": {},
   "source": [
    "### Logging and init\n",
    "\n",
    "Logging is then activated with the [setup_logging()](https://eodag.readthedocs.io/en/latest/api_reference/utils.html#eodag.utils.logging.setup_logging) method. It's a useful way to see what `eodag` does under the hood, e.g. requesting the provider, adapting the response. It's also useful to detect when things go wrong, and, if relevant, create an [issue on GitHub](https://github.com/CS-SI/eodag/issues) with the log messages.\n",
    "\n",
    "After setting the logging, the next object to import, and this is certainly one of the most important objects provided by `eodag`, is the [EODataAccessGateway](https://eodag.readthedocs.io/en/latest/api_reference/core.html#eodag.api.core.EODataAccessGateway) class. The creation of a single instance of this class is enough in a workflow, it is going to take care of configuring the providers, exposing the products configured off-the-shelf by `eodag`, and many more things.\n",
    "\n",
    "&rarr; Try setting different levels of logging and instanciate `EODataAccessGateway` in a `dag` variable, to check the different displayed information"
   ]
  },
  {
   "cell_type": "code",
   "execution_count": null,
   "metadata": {},
   "outputs": [],
   "source": [
    "\n",
    "\n",
    "\n",
    "\n",
    "\n"
   ]
  },
  {
   "cell_type": "markdown",
   "metadata": {},
   "source": [
    "- - -\n",
    "## Labextension usage"
   ]
  },
  {
   "cell_type": "markdown",
   "metadata": {
    "tags": []
   },
   "source": [
    "![extension logo](https://raw.githubusercontent.com/CS-SI/eodag-labextension/develop/notebooks/images/eodag_labext_icon.png)\n",
    "Click on this icon in the left of JupyterLab interface to open EODAG-Labextension tab.\n",
    "\n",
    "Please refer to [eodag-labextension user manual](https://github.com/CS-SI/eodag-labextension/blob/develop/notebooks/user_manual.ipynb).\n",
    "\n",
    "&rarr; Configure map to be centered on Tartu, Estonia (Lat: 58.38, Lon: 26.73)\n",
    "\n",
    "&rarr; Change providers priority in [EODAG configuration](#Configuration), reload environment through labextension button, and observe the providers order change in the dropdown list\n",
    "\n",
    "&rarr; Search and preview results for last week `Sentinel-2 L2A` on `cop_dataspace` over Estonia having less than 50% over cloud coverage\n",
    "\n",
    "&rarr; Same search as previous but on tile `35VME`, using parameter `tileIdentifier`"
   ]
  },
  {
   "cell_type": "code",
   "execution_count": null,
   "metadata": {},
   "outputs": [],
   "source": [
    "\n",
    "\n",
    "\n",
    "\n",
    "\n",
    "\n",
    "\n"
   ]
  },
  {
   "cell_type": "markdown",
   "metadata": {},
   "source": [
    "- - -\n",
    "## Providers and product types"
   ]
  },
  {
   "cell_type": "markdown",
   "metadata": {
    "tags": []
   },
   "source": [
    "See [Python API User Guide / Providers and products](https://eodag.readthedocs.io/en/latest/notebooks/api_user_guide/2_providers_products_available.html) for documentation.\n",
    "\n",
    "The method `EODataAccessGateway` [available_providers()](https://eodag.readthedocs.io/en/latest/api_reference/core.html#eodag.api.core.EODataAccessGateway.available_providers) returns a list of the pre-configured providers.\n",
    "\n",
    "Note that if a provider is configured to need authentication for search, and has no credentials set, it will be pruned on EODAG initialization, and will not appear in available providers list.\n",
    "\n",
    "\n",
    "&rarr; List all available providers from your previous `dag` (`EODataAccessGateway`) object, then the list of providers supporting `S1_SAR_GRD` product type"
   ]
  },
  {
   "cell_type": "code",
   "execution_count": null,
   "metadata": {},
   "outputs": [],
   "source": [
    "\n",
    "\n",
    "\n",
    "\n"
   ]
  },
  {
   "cell_type": "markdown",
   "metadata": {},
   "source": [
    "The method [list_product_types()](https://eodag.readthedocs.io/en/latest/api_reference/core.html#eodag.api.core.EODataAccessGateway.list_product_types) returns a dictionary that represents `eodag`'s internal product type catalog if used with `fetch_providers=False`. It will fetch providers for new product types and return an extended list if used with `fetch_providers=True` (default behavior).\n",
    "\n",
    "&rarr; Check how many product types are available from internal catalog, then from extended catalog when fetching from providers. Check how many product types are available for provider `planetary_computer`."
   ]
  },
  {
   "cell_type": "code",
   "execution_count": null,
   "metadata": {},
   "outputs": [],
   "source": [
    "\n",
    "\n",
    "\n",
    "\n"
   ]
  },
  {
   "cell_type": "markdown",
   "metadata": {},
   "source": [
    "- - -\n",
    "## Search\n",
    "\n",
    "See [Python API User Guide / Search](https://eodag.readthedocs.io/en/latest/notebooks/api_user_guide/4_search.html) for documentation."
   ]
  },
  {
   "cell_type": "markdown",
   "metadata": {},
   "source": [
    "The [EODataAccessGateway](https://eodag.readthedocs.io/en/latest/api_reference/core.html#eodag.api.core.EODataAccessGateway) class provides three search methods which have a similar signature but behave in different ways:\n",
    "\n",
    "- [search()](https://eodag.readthedocs.io/en/latest/api_reference/core.html#eodag.api.core.EODataAccessGateway.search) returns a [SearchResult](https://eodag.readthedocs.io/en/latest/api_reference/searchresult.html#eodag.api.search_result.SearchResult) that stores the products obtained from a given **page** (default: `page=1`) and a given maximum **number of items per page** (default: `items_per_page=20`). The attribute [SearchResult.number_matched](https://eodag.readthedocs.io/en/latest/api_reference/searchresult.html#eodag.api.search_result.SearchResult) optionally stores the **estimated** total number of products matching the search criteria.\n",
    "- [search_all()](https://eodag.readthedocs.io/en/latest/api_reference/core.html#eodag.api.core.EODataAccessGateway.search_all) returns a [SearchResult](https://eodag.readthedocs.io/en/latest/api_reference/searchresult.html#eodag.api.search_result.SearchResult) that contains **all** the products matching the search criteria. It takes the pain away from thinking about pagination.\n",
    "- [search_iter_page()](https://eodag.readthedocs.io/en/latest/api_reference/core.html#eodag.api.core.EODataAccessGateway.search_iter_page) is a generator that returns a [SearchResult](https://eodag.readthedocs.io/en/latest/api_reference/searchresult.html#eodag.api.search_result.SearchResult) page per page.\n",
    "\n",
    "&rarr; search (1st page), **without** count, for `S2_MSI_L2A` products on `creodias` provider during May 2024 over a given bbox\n",
    "\n",
    "&rarr; search (2nd page), **with** count, for `S2_MSI_L2A` products on `creodias` provider during May 2024 over a given bbox\n",
    "\n",
    "&rarr; search (all) for `S2_MSI_L2A` products on `creodias` provider during May 2024 over a given bbox\n",
    "\n",
    "&rarr; search (1st page) for `S2_MSI_L2A` products on `creodias` provider during May 2024 over Estonia (using `locations` and `EST` country code)\n",
    "\n",
    "&rarr; plot search result geometries on a map using `folium`"
   ]
  },
  {
   "cell_type": "code",
   "execution_count": null,
   "metadata": {},
   "outputs": [],
   "source": [
    "\n",
    "\n",
    "\n",
    "\n",
    "\n",
    "\n"
   ]
  },
  {
   "cell_type": "markdown",
   "metadata": {},
   "source": [
    "- - -\n",
    "## Serialize\n",
    "\n",
    "See [Python API User Guide / Serialize/Deserialize](https://eodag.readthedocs.io/en/latest/notebooks/api_user_guide/5_serialize_deserialize.html) for documentation.\n",
    "\n",
    "&rarr; Serialize/Deserialize previous results"
   ]
  },
  {
   "cell_type": "code",
   "execution_count": null,
   "metadata": {},
   "outputs": [],
   "source": [
    "\n",
    "\n",
    "\n",
    "\n"
   ]
  },
  {
   "cell_type": "markdown",
   "metadata": {},
   "source": [
    "- - -\n",
    "## Crunch\n",
    "\n",
    "See [Python API User Guide / Crunch](https://eodag.readthedocs.io/en/latest/notebooks/api_user_guide/6_crunch.html) for documentation.\n",
    "\n",
    "&rarr; Use [SearchResult.filter_property()](https://eodag.readthedocs.io/en/latest/api_reference/searchresult.html#eodag.api.search_result.SearchResult.filter_property) to filter previous results and only keep products having `relativeOrbitNumber` greater than 80"
   ]
  },
  {
   "cell_type": "code",
   "execution_count": null,
   "metadata": {},
   "outputs": [],
   "source": [
    "\n",
    "\n",
    "\n"
   ]
  },
  {
   "cell_type": "code",
   "execution_count": 80,
   "metadata": {
    "tags": []
   },
   "outputs": [
    {
     "data": {
      "image/svg+xml": [
       "<svg xmlns=\"http://www.w3.org/2000/svg\" xmlns:xlink=\"http://www.w3.org/1999/xlink\" width=\"100.0\" height=\"100.0\" viewBox=\"23.148119207458922 57.28285215110411 5.17525620119255 2.5199144043069452\" preserveAspectRatio=\"xMinYMin meet\"><g transform=\"matrix(1,0,0,-1,0,117.08561870651516)\"><path fill-rule=\"evenodd\" fill=\"#66cc99\" stroke=\"#555555\" stroke-width=\"0.103505124023851\" opacity=\"0.6\" d=\"M 27.981126857000987,59.47537333432527 L 27.981120000000033,59.47537000000011 L 28.13169925305175,59.300825100330925 L 27.42015000000015,58.72457000000014 L 27.71668582531572,57.79189911562436 L 27.288184848751513,57.47452830670383 L 26.463532342237787,57.47638865826633 L 25.60280968598437,57.84752879498657 L 25.16459354014927,57.97015696881519 L 24.312862583114622,57.79342357037697 L 24.42892785004216,58.38341339785329 L 24.061198357853186,58.25737457949341 L 23.426560092876684,58.612753404364625 L 23.339795363058645,59.187240302153384 L 24.604214308376186,59.46585378685502 L 25.86418908051664,59.61109039981133 L 26.949135776484525,59.445803331125774 L 27.981114129353244,59.475388088612874 L 27.981126857000987,59.47537333432527 z\" /></g></svg>"
      ],
      "text/plain": [
       "<POLYGON ((27.981 59.475, 27.981 59.475, 28.132 59.301, 27.42 58.725, 27.717...>"
      ]
     },
     "execution_count": 80,
     "metadata": {},
     "output_type": "execute_result"
    }
   ],
   "source": [
    "# Get Estonia geometry\n",
    "from eodag.utils import get_geometry_from_various\n",
    "\n",
    "est_geom = get_geometry_from_various(dag.locations_config, locations={\"country\": \"EST\"})\n",
    "est_geom"
   ]
  },
  {
   "cell_type": "markdown",
   "metadata": {},
   "source": [
    "&rarr; Filter `search_all` results using [SearchResult.filter_latest_intersect()](https://eodag.readthedocs.io/en/latest/api_reference/searchresult.html#eodag.api.search_result.SearchResult.filter_latest_intersect) to only keep latest products that intersect Estonia geometry and plot them on a map"
   ]
  },
  {
   "cell_type": "code",
   "execution_count": null,
   "metadata": {},
   "outputs": [],
   "source": [
    "\n",
    "\n"
   ]
  },
  {
   "cell_type": "markdown",
   "metadata": {
    "tags": []
   },
   "source": [
    "&rarr; Filter previous crunched results using [SearchResult.filter_overlap()](https://eodag.readthedocs.io/en/latest/api_reference/searchresult.html#eodag.api.search_result.SearchResult.filter_overlap) to only products that overlap at least of 90% Estonia geometry and plot them on a map"
   ]
  },
  {
   "cell_type": "code",
   "execution_count": null,
   "metadata": {},
   "outputs": [],
   "source": [
    "\n",
    "\n"
   ]
  },
  {
   "cell_type": "markdown",
   "metadata": {},
   "source": [
    "- - -\n",
    "## Download\n",
    "\n",
    "See [Python API User Guide / Download](https://eodag.readthedocs.io/en/latest/notebooks/api_user_guide/7_download.html) for documentation.\n",
    "\n",
    "*Make sure that you configured EODAG with `cop_dataspace` credentials.*\n",
    "\n",
    "&rarr; perform a new search on `cop_dataspace`"
   ]
  },
  {
   "cell_type": "code",
   "execution_count": null,
   "metadata": {},
   "outputs": [],
   "source": [
    "\n",
    "\n",
    "\n"
   ]
  },
  {
   "cell_type": "markdown",
   "metadata": {},
   "source": [
    "### Download quicklooks\n",
    "\n",
    "&rarr; Download and display quicklooks using [EOProduct.get_quicklook()](https://eodag.readthedocs.io/en/latest/api_reference/eoproduct.html#eodag.api.product._product.EOProduct.get_quicklook) and `matplotlib.image` (see [Download quicklooks documentation](https://eodag.readthedocs.io/en/latest/notebooks/api_user_guide/7_download.html#Download-quicklooks))"
   ]
  },
  {
   "cell_type": "code",
   "execution_count": null,
   "metadata": {},
   "outputs": [],
   "source": [
    "\n",
    "\n",
    "\n"
   ]
  },
  {
   "cell_type": "markdown",
   "metadata": {},
   "source": [
    "### Download products\n",
    "\n",
    "&rarr; download a single product, using [EODataAccessGateway.download()](https://eodag.readthedocs.io/en/latest/api_reference/core.html#eodag.api.core.EODataAccessGateway.download) or [EOProduct.download()](https://eodag.readthedocs.io/en/latest/api_reference/eoproduct.html#eodag.api.product._product.EOProduct.download)\n",
    "\n",
    "&rarr; try downloading it again at the same place and see that EODAG will not download it again: it will be skipped as the successful download was recorded in the `.downloaded` directory created in the download directory\n",
    "\n",
    "&rarr; check that `EOProduct.location` was changed to downloaded directory after its download"
   ]
  },
  {
   "cell_type": "code",
   "execution_count": null,
   "metadata": {},
   "outputs": [],
   "source": [
    "\n",
    "\n",
    "\n"
   ]
  },
  {
   "cell_type": "markdown",
   "metadata": {},
   "source": [
    "&rarr; download several products, using [EODataAccessGateway.download_all()](https://eodag.readthedocs.io/en/latest/api_reference/core.html#eodag.api.core.EODataAccessGateway.download_all). Slice search result before downloading it, in order to avoid waiting for ages. See [documentation](https://eodag.readthedocs.io/en/latest/notebooks/api_user_guide/7_download.html#Download-multiple-products-at-once)"
   ]
  },
  {
   "cell_type": "code",
   "execution_count": null,
   "metadata": {},
   "outputs": [],
   "source": [
    "\n"
   ]
  },
  {
   "cell_type": "markdown",
   "metadata": {},
   "source": [
    "### Download an asset\n",
    "\n",
    "Searching on some providers (mainly STAC providers) returns products having an `assets` attribute listing single files that can be individually donwloaded. See [documentation](https://eodag.readthedocs.io/en/latest/notebooks/api_user_guide/7_download.html#Download-assets).\n",
    "\n",
    "&rarr; search for `S2_MSI_L2A_COG` product type and check first product `assests` attribute (no authentication needed for it, you will not need another account)"
   ]
  },
  {
   "cell_type": "code",
   "execution_count": null,
   "metadata": {},
   "outputs": [],
   "source": [
    "\n"
   ]
  },
  {
   "cell_type": "markdown",
   "metadata": {},
   "source": [
    "&rarr; download an asset by executing\n",
    "```py\n",
    "search_results[0].assets[\"some-key\"].download()\n",
    "```"
   ]
  },
  {
   "cell_type": "code",
   "execution_count": null,
   "metadata": {},
   "outputs": [],
   "source": [
    "\n"
   ]
  },
  {
   "cell_type": "markdown",
   "metadata": {},
   "source": [
    "## Xarray data access"
   ]
  },
  {
   "cell_type": "markdown",
   "metadata": {},
   "source": [
    "At some point `eodag` had some capabilities to directly post-process a product, i.e. to access its data. These capabilities, which relied on [rasterio](https://rasterio.readthedocs.io/en/latest/), have been ported to the Python package [eodag-cube](https://github.com/CS-SI/eodag-cube) to avoid the heavy dependencies associated with  *GDAL* in particular. Installing this package is enough to benefit from its capabilities, it is going to extend [EOProduct](../../api_reference/eoproduct.rst#eodag.api.product._product.EOProduct) with a `get_data()` method which returns a product's image band as a `xarray.DataArray`.\n",
    "\n",
    "The capabilities of [eodag-cube](https://github.com/CS-SI/eodag-cube) are used hereafter to compute the NDVI of the downloaded product over a sub-extent of the original product (this is actually Tartu, Estonia).\n",
    "\n",
    "&rarr; Search for `S2_MSI_L2A_COG` (bands are directly available as individual assets) with less than 10% of cloud cover and using the following geometry (bbox over Tartu):\n",
    "```py\n",
    "geometry = \"POLYGON ((26.663818 58.323866, 26.663818 58.390869, 26.802521 58.390869, 26.802521 58.323866, 26.663818 58.323866))\"\n",
    "```"
   ]
  },
  {
   "cell_type": "code",
   "execution_count": null,
   "metadata": {},
   "outputs": [],
   "source": [
    "\n"
   ]
  },
  {
   "cell_type": "markdown",
   "metadata": {},
   "source": [
    "&rarr; Follow [documentation example](https://eodag.readthedocs.io/en/latest/notebooks/api_user_guide/8_post_process.html#Data-access-with-eodag-cube) to compute and plot a NDVI using similar `common_params`, with Tartu bbox as `extent`, `VIR band` as `r\"red$\"` and `NIR band` as `r\"nir$\"` (regex used in order to prevent matching other bands `nir08`, `rededge1`,...)"
   ]
  },
  {
   "cell_type": "code",
   "execution_count": null,
   "metadata": {},
   "outputs": [],
   "source": [
    "\n",
    "\n",
    "\n"
   ]
  }
 ],
 "metadata": {
  "kernelspec": {
   "display_name": "Python 3 (ipykernel)",
   "language": "python",
   "name": "python3"
  },
  "language_info": {
   "codemirror_mode": {
    "name": "ipython",
    "version": 3
   },
   "file_extension": ".py",
   "mimetype": "text/x-python",
   "name": "python",
   "nbconvert_exporter": "python",
   "pygments_lexer": "ipython3",
   "version": "3.10.12"
  },
  "widgets": {
   "application/vnd.jupyter.widget-state+json": {
    "state": {
     "0038c6090fb149628be8d484dd1305bf": {
      "model_module": "@jupyter-widgets/controls",
      "model_module_version": "2.0.0",
      "model_name": "HTMLModel",
      "state": {
       "layout": "IPY_MODEL_b285cd39c7d342468a0eacf70faf2125",
       "style": "IPY_MODEL_a84241cf586a41f39919975ce406a543",
       "value": "quicklooks/S2B_MSIL2A_20240526T094549_N0510_R079_T35VMF_20240526T112501: "
      }
     },
     "0079933d69de4f55ab57ac8bb42c2e68": {
      "model_module": "@jupyter-widgets/controls",
      "model_module_version": "2.0.0",
      "model_name": "HTMLStyleModel",
      "state": {
       "description_width": "",
       "font_size": null,
       "text_color": null
      }
     },
     "00d7958219bd4285ab6189c02e56ef43": {
      "model_module": "@jupyter-widgets/base",
      "model_module_version": "2.0.0",
      "model_name": "LayoutModel",
      "state": {}
     },
     "01140dc42ee14640943a8651610097ec": {
      "model_module": "@jupyter-widgets/controls",
      "model_module_version": "2.0.0",
      "model_name": "ProgressStyleModel",
      "state": {
       "description_width": ""
      }
     },
     "014d238bedc34158a9e0026743ed2569": {
      "model_module": "@jupyter-widgets/base",
      "model_module_version": "2.0.0",
      "model_name": "LayoutModel",
      "state": {}
     },
     "026a3dbb21534e90bbdf6a4676d4135d": {
      "model_module": "@jupyter-widgets/controls",
      "model_module_version": "2.0.0",
      "model_name": "HTMLModel",
      "state": {
       "layout": "IPY_MODEL_63c38c02587b4454a1372da717ef9319",
       "style": "IPY_MODEL_3718a3536ac24150bafd4a1ac6cdd2ec",
       "value": "quicklooks/S2B_MSIL2A_20240526T094549_N0510_R079_T35VLE_20240526T112501: 100%"
      }
     },
     "027ac8eb529f4a86839484b5cb76772c": {
      "model_module": "@jupyter-widgets/controls",
      "model_module_version": "2.0.0",
      "model_name": "HBoxModel",
      "state": {
       "children": [
        "IPY_MODEL_9d60f16c4dd0474dae3af979f582786d",
        "IPY_MODEL_4c34e8d5e3e242c8848a66d56c8c6287",
        "IPY_MODEL_6f21ba5c9a12445bab889d40655e6683"
       ],
       "layout": "IPY_MODEL_d6c0f3200e004d59b5c05f8036fa1fdc"
      }
     },
     "02a748ab406c4a919d3bc553bd240f1a": {
      "model_module": "@jupyter-widgets/controls",
      "model_module_version": "2.0.0",
      "model_name": "HTMLModel",
      "state": {
       "layout": "IPY_MODEL_6ced7f942d334fa19464cfa3363c16de",
       "style": "IPY_MODEL_094317a125ac4fa68b4dc19b7894e3de",
       "value": " 21.8k/21.8k [00:00&lt;00:00, 182kB/s]"
      }
     },
     "02eb7a15568c4f82b940f4c67036fb05": {
      "model_module": "@jupyter-widgets/controls",
      "model_module_version": "2.0.0",
      "model_name": "HTMLStyleModel",
      "state": {
       "description_width": "",
       "font_size": null,
       "text_color": null
      }
     },
     "02ebe416cbe14820a70447cad5bc51a4": {
      "model_module": "@jupyter-widgets/base",
      "model_module_version": "2.0.0",
      "model_name": "LayoutModel",
      "state": {
       "display": "inline-flex",
       "flex_flow": "row wrap",
       "width": "100%"
      }
     },
     "0446f984852e4b55b025cebe767a3fb9": {
      "model_module": "@jupyter-widgets/controls",
      "model_module_version": "2.0.0",
      "model_name": "HTMLModel",
      "state": {
       "layout": "IPY_MODEL_5146831861d1435f9b5fd8d83f33542d",
       "style": "IPY_MODEL_a0ae1b5c5a31402399270a2e37286de7",
       "value": "quicklooks/S2B_MSIL2A_20240526T094549_N0510_R079_T35VMG_20240526T112501: "
      }
     },
     "0546017b66dc400fbe1caa4f6928d0e0": {
      "model_module": "@jupyter-widgets/base",
      "model_module_version": "2.0.0",
      "model_name": "LayoutModel",
      "state": {
       "display": "inline-flex",
       "flex_flow": "row wrap",
       "width": "100%"
      }
     },
     "0565fb81c7b0472fb67b27e825c55b1f": {
      "model_module": "@jupyter-widgets/controls",
      "model_module_version": "2.0.0",
      "model_name": "ProgressStyleModel",
      "state": {
       "description_width": ""
      }
     },
     "077701ded9af419ca6d008d1325ae052": {
      "model_module": "@jupyter-widgets/base",
      "model_module_version": "2.0.0",
      "model_name": "LayoutModel",
      "state": {
       "flex": "2"
      }
     },
     "0864923911244e4d84d9d23b8411f954": {
      "model_module": "@jupyter-widgets/base",
      "model_module_version": "2.0.0",
      "model_name": "LayoutModel",
      "state": {
       "flex": "2"
      }
     },
     "08a93306f252430eaa8c3194e9ca29a8": {
      "model_module": "@jupyter-widgets/controls",
      "model_module_version": "2.0.0",
      "model_name": "HTMLStyleModel",
      "state": {
       "description_width": "",
       "font_size": null,
       "text_color": null
      }
     },
     "094317a125ac4fa68b4dc19b7894e3de": {
      "model_module": "@jupyter-widgets/controls",
      "model_module_version": "2.0.0",
      "model_name": "HTMLStyleModel",
      "state": {
       "description_width": "",
       "font_size": null,
       "text_color": null
      }
     },
     "09ed5246ce584fd79c8091d3693075a2": {
      "model_module": "@jupyter-widgets/base",
      "model_module_version": "2.0.0",
      "model_name": "LayoutModel",
      "state": {}
     },
     "0a57f13fc0854b4c9df844592c37a9db": {
      "model_module": "@jupyter-widgets/controls",
      "model_module_version": "2.0.0",
      "model_name": "HTMLStyleModel",
      "state": {
       "description_width": "",
       "font_size": null,
       "text_color": null
      }
     },
     "0afb08ea418242bb93023e1d977eb157": {
      "model_module": "@jupyter-widgets/controls",
      "model_module_version": "2.0.0",
      "model_name": "HTMLStyleModel",
      "state": {
       "description_width": "",
       "font_size": null,
       "text_color": null
      }
     },
     "0c87e186ef174e4d93ff60a66d096861": {
      "model_module": "@jupyter-widgets/base",
      "model_module_version": "2.0.0",
      "model_name": "LayoutModel",
      "state": {}
     },
     "0df90637e0464aed9de88d83047b0681": {
      "model_module": "@jupyter-widgets/controls",
      "model_module_version": "2.0.0",
      "model_name": "HTMLStyleModel",
      "state": {
       "description_width": "",
       "font_size": null,
       "text_color": null
      }
     },
     "0e02acf0d113420a87d5bc835bbb3c81": {
      "model_module": "@jupyter-widgets/controls",
      "model_module_version": "2.0.0",
      "model_name": "HBoxModel",
      "state": {
       "children": [
        "IPY_MODEL_b74cf496da6f4b87b4f685bb880488db",
        "IPY_MODEL_2191c573fdf74e9f9b789e3eda445ff0",
        "IPY_MODEL_269417e0406243d2874bbdb475671271"
       ],
       "layout": "IPY_MODEL_d1e99ff6af704330abdc7c8136ad3b86"
      }
     },
     "0eef996298c04db1a2b3ca81f9fec3fb": {
      "model_module": "@jupyter-widgets/controls",
      "model_module_version": "2.0.0",
      "model_name": "HBoxModel",
      "state": {
       "children": [
        "IPY_MODEL_501a38c4982d4531891c142c3147fb70",
        "IPY_MODEL_2a693634c3f74d0999eaa0625d67fe63",
        "IPY_MODEL_c8cb1374e2da482d824957cf4bea9fb2"
       ],
       "layout": "IPY_MODEL_a0d435870f3f42408bbab4f03049f3d6"
      }
     },
     "0f6669db366247a88c74a8a24ac205a9": {
      "model_module": "@jupyter-widgets/base",
      "model_module_version": "2.0.0",
      "model_name": "LayoutModel",
      "state": {}
     },
     "0ff8f9bfb636411eaa2a3c5a1d0fb1d4": {
      "model_module": "@jupyter-widgets/base",
      "model_module_version": "2.0.0",
      "model_name": "LayoutModel",
      "state": {}
     },
     "111c0ddb263c4769af758864fcb80c16": {
      "model_module": "@jupyter-widgets/base",
      "model_module_version": "2.0.0",
      "model_name": "LayoutModel",
      "state": {
       "display": "inline-flex",
       "flex_flow": "row wrap",
       "width": "100%"
      }
     },
     "121a3f3829954522b05e89fa5772be8e": {
      "model_module": "@jupyter-widgets/base",
      "model_module_version": "2.0.0",
      "model_name": "LayoutModel",
      "state": {
       "flex": "2"
      }
     },
     "125471f4e7524225a1b20baf3cfd930e": {
      "model_module": "@jupyter-widgets/controls",
      "model_module_version": "2.0.0",
      "model_name": "HTMLStyleModel",
      "state": {
       "description_width": "",
       "font_size": null,
       "text_color": null
      }
     },
     "1344d4183c134f058c71be56d19d76e8": {
      "model_module": "@jupyter-widgets/controls",
      "model_module_version": "2.0.0",
      "model_name": "HBoxModel",
      "state": {
       "children": [
        "IPY_MODEL_13e6e764c50c43448b55a92a63976882",
        "IPY_MODEL_c62c1a76015b462c955487baf567cb23",
        "IPY_MODEL_e5d6a2356f43485fbd46412b95058f9b"
       ],
       "layout": "IPY_MODEL_0546017b66dc400fbe1caa4f6928d0e0"
      }
     },
     "134afc2e21fe468c968f5a71eaddb869": {
      "model_module": "@jupyter-widgets/base",
      "model_module_version": "2.0.0",
      "model_name": "LayoutModel",
      "state": {
       "display": "inline-flex",
       "flex_flow": "row wrap",
       "width": "100%"
      }
     },
     "136d913759234408b7be7730eb6b91ad": {
      "model_module": "@jupyter-widgets/controls",
      "model_module_version": "2.0.0",
      "model_name": "ProgressStyleModel",
      "state": {
       "description_width": ""
      }
     },
     "13de011ce30048e7b23790d2bb879589": {
      "model_module": "@jupyter-widgets/controls",
      "model_module_version": "2.0.0",
      "model_name": "ProgressStyleModel",
      "state": {
       "description_width": ""
      }
     },
     "13e6e764c50c43448b55a92a63976882": {
      "model_module": "@jupyter-widgets/controls",
      "model_module_version": "2.0.0",
      "model_name": "HTMLModel",
      "state": {
       "layout": "IPY_MODEL_fb04cd4ac42548c18b01fba70d57f159",
       "style": "IPY_MODEL_125471f4e7524225a1b20baf3cfd930e",
       "value": "quicklooks/S2B_MSIL2A_20240526T094549_N0510_R079_T35VLE_20240526T112501: "
      }
     },
     "144990089ea6499fb58bc5f2d9b49594": {
      "model_module": "@jupyter-widgets/base",
      "model_module_version": "2.0.0",
      "model_name": "LayoutModel",
      "state": {}
     },
     "14b806f87de14f9d8d603f328b694aff": {
      "model_module": "@jupyter-widgets/base",
      "model_module_version": "2.0.0",
      "model_name": "LayoutModel",
      "state": {
       "display": "inline-flex",
       "flex_flow": "row wrap",
       "width": "100%"
      }
     },
     "155208e2963f42b8b783958ee7ab3478": {
      "model_module": "@jupyter-widgets/base",
      "model_module_version": "2.0.0",
      "model_name": "LayoutModel",
      "state": {
       "flex": "2"
      }
     },
     "1766a35be0f44a5e9a177de10d172171": {
      "model_module": "@jupyter-widgets/base",
      "model_module_version": "2.0.0",
      "model_name": "LayoutModel",
      "state": {
       "display": "inline-flex",
       "flex_flow": "row wrap",
       "width": "100%"
      }
     },
     "176a51503f534003b525b4206be87667": {
      "model_module": "@jupyter-widgets/controls",
      "model_module_version": "2.0.0",
      "model_name": "HBoxModel",
      "state": {
       "children": [
        "IPY_MODEL_34cd37f8a57f4118b5bc0bc5c9e4eecf",
        "IPY_MODEL_ba77a3e326d74c30be692e977c3c6b3f",
        "IPY_MODEL_71fdad8b39bf4f19bac2fe02f59bc7ba"
       ],
       "layout": "IPY_MODEL_744feab4184f43c6a1712cf0f6b7896f"
      }
     },
     "18c7dde59184479b892e37eb53fb94fd": {
      "model_module": "@jupyter-widgets/base",
      "model_module_version": "2.0.0",
      "model_name": "LayoutModel",
      "state": {
       "display": "inline-flex",
       "flex_flow": "row wrap",
       "width": "100%"
      }
     },
     "190cf466757b488ba37e18e9df9f4afb": {
      "model_module": "@jupyter-widgets/controls",
      "model_module_version": "2.0.0",
      "model_name": "HTMLStyleModel",
      "state": {
       "description_width": "",
       "font_size": null,
       "text_color": null
      }
     },
     "19b697bf5df34812aefc58880b0276cf": {
      "model_module": "@jupyter-widgets/base",
      "model_module_version": "2.0.0",
      "model_name": "LayoutModel",
      "state": {}
     },
     "1bcaa653ed2640ae91d56340122c4a02": {
      "model_module": "@jupyter-widgets/base",
      "model_module_version": "2.0.0",
      "model_name": "LayoutModel",
      "state": {
       "display": "inline-flex",
       "flex_flow": "row wrap",
       "width": "100%"
      }
     },
     "1c0823a5240a4eae84d225fcfb7e6079": {
      "model_module": "@jupyter-widgets/controls",
      "model_module_version": "2.0.0",
      "model_name": "ProgressStyleModel",
      "state": {
       "description_width": ""
      }
     },
     "1c7d43b7b33e4d249776a60e8031d7cb": {
      "model_module": "@jupyter-widgets/controls",
      "model_module_version": "2.0.0",
      "model_name": "HBoxModel",
      "state": {
       "children": [
        "IPY_MODEL_c9b8f07c013e4ce884d1a214eb77c3e4",
        "IPY_MODEL_abd7b18bea2648b1aaed627a89ff21e7",
        "IPY_MODEL_cd3168550af340b99ad02369b74e702f"
       ],
       "layout": "IPY_MODEL_2b89962a72ff47c4a25a1cc3e1cad243"
      }
     },
     "1d6e6fb211ed4931a276b907eb444aad": {
      "model_module": "@jupyter-widgets/controls",
      "model_module_version": "2.0.0",
      "model_name": "HTMLStyleModel",
      "state": {
       "description_width": "",
       "font_size": null,
       "text_color": null
      }
     },
     "1d8db47a2c8b4b9c825a61b30083a4b9": {
      "model_module": "@jupyter-widgets/controls",
      "model_module_version": "2.0.0",
      "model_name": "FloatProgressModel",
      "state": {
       "bar_style": "success",
       "layout": "IPY_MODEL_30931e52c8a3402abbc0dabd7d7a5501",
       "max": 21599,
       "style": "IPY_MODEL_01140dc42ee14640943a8651610097ec",
       "value": 21599
      }
     },
     "1d98730e2d274750b7d657b63e854e15": {
      "model_module": "@jupyter-widgets/base",
      "model_module_version": "2.0.0",
      "model_name": "LayoutModel",
      "state": {
       "flex": "2"
      }
     },
     "1f1e795c6c414f509193a2a3f650e6c9": {
      "model_module": "@jupyter-widgets/controls",
      "model_module_version": "2.0.0",
      "model_name": "ProgressStyleModel",
      "state": {
       "description_width": ""
      }
     },
     "1f590143b51e4794920d6cc9f6f74d54": {
      "model_module": "@jupyter-widgets/base",
      "model_module_version": "2.0.0",
      "model_name": "LayoutModel",
      "state": {}
     },
     "20309a51fbc3413c846fa63a6dd0a98f": {
      "model_module": "@jupyter-widgets/controls",
      "model_module_version": "2.0.0",
      "model_name": "HTMLModel",
      "state": {
       "layout": "IPY_MODEL_d6fda693155847ae85a5ae9dc2f0daa4",
       "style": "IPY_MODEL_0df90637e0464aed9de88d83047b0681",
       "value": "quicklooks/S2B_MSIL2A_20240526T094549_N0510_R079_T35VLD_20240526T112501: "
      }
     },
     "216649ae736148778aabfc9111ecbcea": {
      "model_module": "@jupyter-widgets/controls",
      "model_module_version": "2.0.0",
      "model_name": "HTMLModel",
      "state": {
       "layout": "IPY_MODEL_b9d2be3d283c442693f017be52363c17",
       "style": "IPY_MODEL_b52c106978a24db89e3a2f98150182f7",
       "value": " 363M/? [04:25&lt;00:00, 2.08MB/s]"
      }
     },
     "216b29b8a2eb4fa285e6bc3c50b92bab": {
      "model_module": "@jupyter-widgets/controls",
      "model_module_version": "2.0.0",
      "model_name": "HTMLModel",
      "state": {
       "layout": "IPY_MODEL_3241e80343a746c293b6da1884748702",
       "style": "IPY_MODEL_8207623a298a4284b2784dd2f599f838",
       "value": "quicklooks/S2B_MSIL2A_20240526T094549_N0510_R079_T35VLG_20240526T112501: 100%"
      }
     },
     "2191c573fdf74e9f9b789e3eda445ff0": {
      "model_module": "@jupyter-widgets/controls",
      "model_module_version": "2.0.0",
      "model_name": "FloatProgressModel",
      "state": {
       "bar_style": "success",
       "layout": "IPY_MODEL_e4b7b5aca25543a4920e7a085152bd02",
       "max": 14603,
       "style": "IPY_MODEL_136d913759234408b7be7730eb6b91ad",
       "value": 14603
      }
     },
     "2254f9b1d363441e9c5fca6aafa5d18b": {
      "model_module": "@jupyter-widgets/controls",
      "model_module_version": "2.0.0",
      "model_name": "FloatProgressModel",
      "state": {
       "bar_style": "success",
       "layout": "IPY_MODEL_9a01186770934e8fb80516e02a393a76",
       "max": 1,
       "style": "IPY_MODEL_669d05291fb348a4a165ffd783715a2d"
      }
     },
     "234b243c5ca34e9db3051a28da67d630": {
      "model_module": "@jupyter-widgets/controls",
      "model_module_version": "2.0.0",
      "model_name": "HTMLModel",
      "state": {
       "layout": "IPY_MODEL_d6c3fbbaee444decbde5e78feaafae65",
       "style": "IPY_MODEL_5f7f934b451a480a8316d6fbaf660d74",
       "value": "quicklooks/S2B_MSIL2A_20240526T094549_N0510_R079_T34VFK_20240526T112501: "
      }
     },
     "23e14c2fff8041008c106340722a7dbc": {
      "model_module": "@jupyter-widgets/controls",
      "model_module_version": "2.0.0",
      "model_name": "FloatProgressModel",
      "state": {
       "bar_style": "success",
       "layout": "IPY_MODEL_e12a4e6c259749308d64f5d079ed20de",
       "max": 9791,
       "style": "IPY_MODEL_f83283041ebd4d299a17778afb5404f6",
       "value": 9791
      }
     },
     "242662d8eef5411e858d2d3eedbe0b58": {
      "model_module": "@jupyter-widgets/controls",
      "model_module_version": "2.0.0",
      "model_name": "FloatProgressModel",
      "state": {
       "bar_style": "success",
       "layout": "IPY_MODEL_251f65e78bb64cf7b61cf13ecc6cab92",
       "max": 16500,
       "style": "IPY_MODEL_7e4a3dea8803421599a831e95c9d871c",
       "value": 16500
      }
     },
     "248335260ce0415b8fe1d506aa9586f2": {
      "model_module": "@jupyter-widgets/controls",
      "model_module_version": "2.0.0",
      "model_name": "HBoxModel",
      "state": {
       "children": [
        "IPY_MODEL_0446f984852e4b55b025cebe767a3fb9",
        "IPY_MODEL_74f00a79601d4e5bae20aecd5b8746ed",
        "IPY_MODEL_c4086219326743afbdbcd2cf6491fb72"
       ],
       "layout": "IPY_MODEL_ee1d6b67b7e648079be00f2a9d14c26b"
      }
     },
     "24918ac5729146edb41b6c265788f4f8": {
      "model_module": "@jupyter-widgets/controls",
      "model_module_version": "2.0.0",
      "model_name": "HTMLStyleModel",
      "state": {
       "description_width": "",
       "font_size": null,
       "text_color": null
      }
     },
     "251f65e78bb64cf7b61cf13ecc6cab92": {
      "model_module": "@jupyter-widgets/base",
      "model_module_version": "2.0.0",
      "model_name": "LayoutModel",
      "state": {
       "flex": "2"
      }
     },
     "258357da2353493393983835dfdbc8bb": {
      "model_module": "@jupyter-widgets/base",
      "model_module_version": "2.0.0",
      "model_name": "LayoutModel",
      "state": {
       "flex": "2"
      }
     },
     "25a1993c477f4d3d9b44e5fdcf895fbe": {
      "model_module": "@jupyter-widgets/controls",
      "model_module_version": "2.0.0",
      "model_name": "HTMLStyleModel",
      "state": {
       "description_width": "",
       "font_size": null,
       "text_color": null
      }
     },
     "269417e0406243d2874bbdb475671271": {
      "model_module": "@jupyter-widgets/controls",
      "model_module_version": "2.0.0",
      "model_name": "HTMLModel",
      "state": {
       "layout": "IPY_MODEL_596a4fa0ba40401ead041a59f3fb4108",
       "style": "IPY_MODEL_02eb7a15568c4f82b940f4c67036fb05",
       "value": " 14.6k/14.6k [00:00&lt;00:00, 364kB/s]"
      }
     },
     "276f7e377ff443e18d567f857b75ebcb": {
      "model_module": "@jupyter-widgets/controls",
      "model_module_version": "2.0.0",
      "model_name": "HTMLModel",
      "state": {
       "layout": "IPY_MODEL_a0756ab5bae04a94b58ede7df52fe50e",
       "style": "IPY_MODEL_2ae6ca8704e54cc0b0f59bf252df88b7",
       "value": "quicklooks/S2B_MSIL2A_20240526T094549_N0510_R079_T34VFK_20240526T112501: 100%"
      }
     },
     "2838a4e5a1314afd93f1204b1a5796af": {
      "model_module": "@jupyter-widgets/controls",
      "model_module_version": "2.0.0",
      "model_name": "HTMLModel",
      "state": {
       "layout": "IPY_MODEL_ba427852cb3046058e13b27f7a93efbd",
       "style": "IPY_MODEL_b076cb81ef6d45b9bf49d7398c91cf8c",
       "value": " 0.00/? [00:00&lt;?, ?B/s]"
      }
     },
     "28c71502a017406ca24db418effc46ca": {
      "model_module": "@jupyter-widgets/base",
      "model_module_version": "2.0.0",
      "model_name": "LayoutModel",
      "state": {
       "display": "inline-flex",
       "flex_flow": "row wrap",
       "width": "100%"
      }
     },
     "28e5d407dd604c4392f8a96e9a3f214d": {
      "model_module": "@jupyter-widgets/controls",
      "model_module_version": "2.0.0",
      "model_name": "HTMLStyleModel",
      "state": {
       "description_width": "",
       "font_size": null,
       "text_color": null
      }
     },
     "2918808f91c846889412e25aa81c96e0": {
      "model_module": "@jupyter-widgets/controls",
      "model_module_version": "2.0.0",
      "model_name": "ProgressStyleModel",
      "state": {
       "description_width": ""
      }
     },
     "29348ca8a18d4833b3c65be249b599e5": {
      "model_module": "@jupyter-widgets/base",
      "model_module_version": "2.0.0",
      "model_name": "LayoutModel",
      "state": {}
     },
     "29b381a07e094fb9b2791babdd1b76f8": {
      "model_module": "@jupyter-widgets/controls",
      "model_module_version": "2.0.0",
      "model_name": "HTMLModel",
      "state": {
       "layout": "IPY_MODEL_e1dcbe1182224325948ad72e72b50c67",
       "style": "IPY_MODEL_4af65b8cb79f4bea92a0a4a4503358d2",
       "value": "quicklooks/S2B_MSIL2A_20240526T094549_N0510_R079_T34VEM_20240526T112501: 100%"
      }
     },
     "2a5bb23f93ed4f5b86adc8dc7f953f62": {
      "model_module": "@jupyter-widgets/controls",
      "model_module_version": "2.0.0",
      "model_name": "ProgressStyleModel",
      "state": {
       "description_width": ""
      }
     },
     "2a693634c3f74d0999eaa0625d67fe63": {
      "model_module": "@jupyter-widgets/controls",
      "model_module_version": "2.0.0",
      "model_name": "FloatProgressModel",
      "state": {
       "bar_style": "success",
       "layout": "IPY_MODEL_1d98730e2d274750b7d657b63e854e15",
       "max": 28014,
       "style": "IPY_MODEL_2a5bb23f93ed4f5b86adc8dc7f953f62",
       "value": 28014
      }
     },
     "2ae6ca8704e54cc0b0f59bf252df88b7": {
      "model_module": "@jupyter-widgets/controls",
      "model_module_version": "2.0.0",
      "model_name": "HTMLStyleModel",
      "state": {
       "description_width": "",
       "font_size": null,
       "text_color": null
      }
     },
     "2b81cbe8be8a49168d3f12df860f5124": {
      "model_module": "@jupyter-widgets/base",
      "model_module_version": "2.0.0",
      "model_name": "LayoutModel",
      "state": {}
     },
     "2b89962a72ff47c4a25a1cc3e1cad243": {
      "model_module": "@jupyter-widgets/base",
      "model_module_version": "2.0.0",
      "model_name": "LayoutModel",
      "state": {
       "display": "inline-flex",
       "flex_flow": "row wrap",
       "width": "100%"
      }
     },
     "2b9598d4916748a18280aaa94bd794b9": {
      "model_module": "@jupyter-widgets/base",
      "model_module_version": "2.0.0",
      "model_name": "LayoutModel",
      "state": {
       "display": "inline-flex",
       "flex_flow": "row wrap",
       "width": "100%"
      }
     },
     "2c486cf0b0b248f88a47996c9f9030f9": {
      "model_module": "@jupyter-widgets/base",
      "model_module_version": "2.0.0",
      "model_name": "LayoutModel",
      "state": {
       "flex": "2"
      }
     },
     "2d54dc908da5493ca4a73e5bee160d6c": {
      "model_module": "@jupyter-widgets/controls",
      "model_module_version": "2.0.0",
      "model_name": "HBoxModel",
      "state": {
       "children": [
        "IPY_MODEL_ba0d92fadf3b4e4aa36c950d1c5a539d",
        "IPY_MODEL_23e14c2fff8041008c106340722a7dbc",
        "IPY_MODEL_31e9a473a6aa4490a10647ecdbcdd4a4"
       ],
       "layout": "IPY_MODEL_cdb4876ce56643be80bd980d20804f6d"
      }
     },
     "2dd5a227354649a286bb930f3625b70c": {
      "model_module": "@jupyter-widgets/controls",
      "model_module_version": "2.0.0",
      "model_name": "HTMLStyleModel",
      "state": {
       "description_width": "",
       "font_size": null,
       "text_color": null
      }
     },
     "2e37b0ba19dd4c20826ee22c5f959c59": {
      "model_module": "@jupyter-widgets/base",
      "model_module_version": "2.0.0",
      "model_name": "LayoutModel",
      "state": {
       "display": "inline-flex",
       "flex_flow": "row wrap",
       "width": "100%"
      }
     },
     "2f47048d44b248a0a82f2b244b3e42f1": {
      "model_module": "@jupyter-widgets/controls",
      "model_module_version": "2.0.0",
      "model_name": "HTMLStyleModel",
      "state": {
       "description_width": "",
       "font_size": null,
       "text_color": null
      }
     },
     "2fd7b952adfb40fd9ec75ae89401dfc3": {
      "model_module": "@jupyter-widgets/controls",
      "model_module_version": "2.0.0",
      "model_name": "HTMLModel",
      "state": {
       "layout": "IPY_MODEL_784f59c7c7634f29b018ba6e528780cb",
       "style": "IPY_MODEL_9b1aea43636d43169367ea480d8f3a50",
       "value": "quicklooks/S2B_MSIL2A_20240527T091549_N0510_R093_T35VND_20240527T104756: 100%"
      }
     },
     "300170bfcae142cab88acebc7fd33d62": {
      "model_module": "@jupyter-widgets/controls",
      "model_module_version": "2.0.0",
      "model_name": "HTMLStyleModel",
      "state": {
       "description_width": "",
       "font_size": null,
       "text_color": null
      }
     },
     "3004c72ae9d24892a2debca94178b1c0": {
      "model_module": "@jupyter-widgets/controls",
      "model_module_version": "2.0.0",
      "model_name": "HBoxModel",
      "state": {
       "children": [
        "IPY_MODEL_bf1406734c0f43ec86730422448a9efc",
        "IPY_MODEL_99bf0956c9c24b649aca0f3fb948b457",
        "IPY_MODEL_d787751ec6694958b5233fdc4dbc2226"
       ],
       "layout": "IPY_MODEL_18c7dde59184479b892e37eb53fb94fd"
      }
     },
     "3007c3c8ef5a492a8b60c3d4cea69a83": {
      "model_module": "@jupyter-widgets/base",
      "model_module_version": "2.0.0",
      "model_name": "LayoutModel",
      "state": {}
     },
     "30931e52c8a3402abbc0dabd7d7a5501": {
      "model_module": "@jupyter-widgets/base",
      "model_module_version": "2.0.0",
      "model_name": "LayoutModel",
      "state": {
       "flex": "2"
      }
     },
     "315d1dfd944e43568fbf4af961e1e756": {
      "model_module": "@jupyter-widgets/base",
      "model_module_version": "2.0.0",
      "model_name": "LayoutModel",
      "state": {
       "flex": "2"
      }
     },
     "31bbcd90723a4a87892c881d8520ab83": {
      "model_module": "@jupyter-widgets/controls",
      "model_module_version": "2.0.0",
      "model_name": "HBoxModel",
      "state": {
       "children": [
        "IPY_MODEL_756a9c35e7c44c148efa53a0451f3178",
        "IPY_MODEL_8ef70a552b3a4133b75dee55950cd76a",
        "IPY_MODEL_8502e6e6319f4be59dfe4983e83d2c26"
       ],
       "layout": "IPY_MODEL_ebd079029bcd4b6db7c47dbe328bbf72"
      }
     },
     "31e9a473a6aa4490a10647ecdbcdd4a4": {
      "model_module": "@jupyter-widgets/controls",
      "model_module_version": "2.0.0",
      "model_name": "HTMLModel",
      "state": {
       "layout": "IPY_MODEL_9ddb5329e736477caf7fd845cf56dbaa",
       "style": "IPY_MODEL_6d3c50ebcece4ef986e5862fa0223ebe",
       "value": " 9.79k/9.79k [00:00&lt;00:00, 2.50MB/s]"
      }
     },
     "321061a729df4029aa8b83153496d20f": {
      "model_module": "@jupyter-widgets/controls",
      "model_module_version": "2.0.0",
      "model_name": "HBoxModel",
      "state": {
       "children": [
        "IPY_MODEL_af3fe599647c442788164a74c476bb8b",
        "IPY_MODEL_d01b580fec14463eb8daabeb18a1068c",
        "IPY_MODEL_cc578548798d4d16b28e6a3dc2f706a7"
       ],
       "layout": "IPY_MODEL_e7abb2ed60c44451a9846be639a50686"
      }
     },
     "3241e80343a746c293b6da1884748702": {
      "model_module": "@jupyter-widgets/base",
      "model_module_version": "2.0.0",
      "model_name": "LayoutModel",
      "state": {}
     },
     "324fe976e16d47e598543932721a68ca": {
      "model_module": "@jupyter-widgets/controls",
      "model_module_version": "2.0.0",
      "model_name": "HTMLModel",
      "state": {
       "layout": "IPY_MODEL_9710ad6870114619993621d574cfb713",
       "style": "IPY_MODEL_b9bbf2636e624914bf353ad02e494ade",
       "value": " 0.00/? [00:00&lt;?, ?B/s]"
      }
     },
     "327c010cecd64ee8b106824f629b899c": {
      "model_module": "@jupyter-widgets/controls",
      "model_module_version": "2.0.0",
      "model_name": "HTMLStyleModel",
      "state": {
       "description_width": "",
       "font_size": null,
       "text_color": null
      }
     },
     "32c01de5c1a44d91acd64333f5f6cf85": {
      "model_module": "@jupyter-widgets/base",
      "model_module_version": "2.0.0",
      "model_name": "LayoutModel",
      "state": {
       "display": "inline-flex",
       "flex_flow": "row wrap",
       "width": "100%"
      }
     },
     "32d0a39a0d09467897736aeb370574f6": {
      "model_module": "@jupyter-widgets/controls",
      "model_module_version": "2.0.0",
      "model_name": "HTMLModel",
      "state": {
       "layout": "IPY_MODEL_376b9efb0c3149bebac9fc756b4c0589",
       "style": "IPY_MODEL_512a69bbca444bd9a4dd1aa3e287e479",
       "value": " 21.0k/21.0k [00:00&lt;00:00, 177kB/s]"
      }
     },
     "33e6177a57754f74ba0add7bd06456c4": {
      "model_module": "@jupyter-widgets/base",
      "model_module_version": "2.0.0",
      "model_name": "LayoutModel",
      "state": {
       "display": "inline-flex",
       "flex_flow": "row wrap",
       "width": "100%"
      }
     },
     "34cd37f8a57f4118b5bc0bc5c9e4eecf": {
      "model_module": "@jupyter-widgets/controls",
      "model_module_version": "2.0.0",
      "model_name": "HTMLModel",
      "state": {
       "layout": "IPY_MODEL_9c26398aca3648fe9d9817731be44da0",
       "style": "IPY_MODEL_ac1c94e36b474fe8bad9ee10b7da203c",
       "value": "quicklooks/S2B_MSIL2A_20240526T094549_N0510_R079_T35VME_20240526T112501: "
      }
     },
     "366162ed83a34a9481c27fa1db8bc305": {
      "model_module": "@jupyter-widgets/base",
      "model_module_version": "2.0.0",
      "model_name": "LayoutModel",
      "state": {}
     },
     "3718a3536ac24150bafd4a1ac6cdd2ec": {
      "model_module": "@jupyter-widgets/controls",
      "model_module_version": "2.0.0",
      "model_name": "HTMLStyleModel",
      "state": {
       "description_width": "",
       "font_size": null,
       "text_color": null
      }
     },
     "376b9efb0c3149bebac9fc756b4c0589": {
      "model_module": "@jupyter-widgets/base",
      "model_module_version": "2.0.0",
      "model_name": "LayoutModel",
      "state": {}
     },
     "37d5bea4d460484ebb3b0d2a8614cc58": {
      "model_module": "@jupyter-widgets/controls",
      "model_module_version": "2.0.0",
      "model_name": "HBoxModel",
      "state": {
       "children": [
        "IPY_MODEL_40341d5a648a4ffebe5b7d9529e4b4bd",
        "IPY_MODEL_3f3d5ffa7c3643ac8516fe9a75ecadd6",
        "IPY_MODEL_324fe976e16d47e598543932721a68ca"
       ],
       "layout": "IPY_MODEL_98b8e95f145a49a7b47e6913809f10e9"
      }
     },
     "38476fbb4bc6497c94c7194ab8542e5a": {
      "model_module": "@jupyter-widgets/base",
      "model_module_version": "2.0.0",
      "model_name": "LayoutModel",
      "state": {}
     },
     "38663df717bc4ee2a08a51df13aaa248": {
      "model_module": "@jupyter-widgets/base",
      "model_module_version": "2.0.0",
      "model_name": "LayoutModel",
      "state": {}
     },
     "388f0a9bf5c544a0b4763350cc990566": {
      "model_module": "@jupyter-widgets/base",
      "model_module_version": "2.0.0",
      "model_name": "LayoutModel",
      "state": {}
     },
     "394bb6b1e61d41d290efdbca799fe560": {
      "model_module": "@jupyter-widgets/controls",
      "model_module_version": "2.0.0",
      "model_name": "HTMLStyleModel",
      "state": {
       "description_width": "",
       "font_size": null,
       "text_color": null
      }
     },
     "39d7c6e0222e467eab8e72270b6bec35": {
      "model_module": "@jupyter-widgets/base",
      "model_module_version": "2.0.0",
      "model_name": "LayoutModel",
      "state": {}
     },
     "3a31b28727cc43d4a71053707513367f": {
      "model_module": "@jupyter-widgets/base",
      "model_module_version": "2.0.0",
      "model_name": "LayoutModel",
      "state": {
       "flex": "2"
      }
     },
     "3a6a2cc07d1a4d049b8a7b05567ee081": {
      "model_module": "@jupyter-widgets/controls",
      "model_module_version": "2.0.0",
      "model_name": "HTMLStyleModel",
      "state": {
       "description_width": "",
       "font_size": null,
       "text_color": null
      }
     },
     "3b2efa4b94744469aae1755c2d83310b": {
      "model_module": "@jupyter-widgets/controls",
      "model_module_version": "2.0.0",
      "model_name": "HBoxModel",
      "state": {
       "children": [
        "IPY_MODEL_026a3dbb21534e90bbdf6a4676d4135d",
        "IPY_MODEL_fbb69d43fa0e4f019c2da2c37d7cea43",
        "IPY_MODEL_57bbd9efa8614a57b7a0099ab18280bc"
       ],
       "layout": "IPY_MODEL_02ebe416cbe14820a70447cad5bc51a4"
      }
     },
     "3bbeded509364daeb47887b2b0847853": {
      "model_module": "@jupyter-widgets/controls",
      "model_module_version": "2.0.0",
      "model_name": "HTMLStyleModel",
      "state": {
       "description_width": "",
       "font_size": null,
       "text_color": null
      }
     },
     "3be301afba604f91b4f2bda034f8ad25": {
      "model_module": "@jupyter-widgets/controls",
      "model_module_version": "2.0.0",
      "model_name": "HTMLStyleModel",
      "state": {
       "description_width": "",
       "font_size": null,
       "text_color": null
      }
     },
     "3e946638a13041a6a5876bb35c0cf484": {
      "model_module": "@jupyter-widgets/controls",
      "model_module_version": "2.0.0",
      "model_name": "ProgressStyleModel",
      "state": {
       "description_width": ""
      }
     },
     "3f3d5ffa7c3643ac8516fe9a75ecadd6": {
      "model_module": "@jupyter-widgets/controls",
      "model_module_version": "2.0.0",
      "model_name": "FloatProgressModel",
      "state": {
       "bar_style": "success",
       "layout": "IPY_MODEL_0864923911244e4d84d9d23b8411f954",
       "max": 1,
       "style": "IPY_MODEL_2918808f91c846889412e25aa81c96e0"
      }
     },
     "40341d5a648a4ffebe5b7d9529e4b4bd": {
      "model_module": "@jupyter-widgets/controls",
      "model_module_version": "2.0.0",
      "model_name": "HTMLModel",
      "state": {
       "layout": "IPY_MODEL_9e36cf4367814aca9e3c5f4decb28a41",
       "style": "IPY_MODEL_58a0a18959af47efac02abf448403cd1",
       "value": "quicklooks/S2B_MSIL2A_20240526T094549_N0510_R079_T34VEK_20240526T112501: "
      }
     },
     "4099448419ae465ab82228365fb92a5a": {
      "model_module": "@jupyter-widgets/controls",
      "model_module_version": "2.0.0",
      "model_name": "HTMLModel",
      "state": {
       "layout": "IPY_MODEL_9e6136b0cfd34b8cbc355310bc67abb0",
       "style": "IPY_MODEL_3bbeded509364daeb47887b2b0847853",
       "value": " 0.00/? [00:00&lt;?, ?B/s]"
      }
     },
     "42122da5c2e249898cffa1ebd20aae02": {
      "model_module": "@jupyter-widgets/controls",
      "model_module_version": "2.0.0",
      "model_name": "HBoxModel",
      "state": {
       "children": [
        "IPY_MODEL_fcab8d90b3bb45ff81b502bc3322bee9",
        "IPY_MODEL_4bb0d6fdbe714d7b886fd2aedfdf00b0",
        "IPY_MODEL_7772b294af044422b4e8762d3528c6fd"
       ],
       "layout": "IPY_MODEL_8a6cfe8c3cfd4aa2b8621c2bea872855"
      }
     },
     "424dcb49cfda4bf4abeaff0343729256": {
      "model_module": "@jupyter-widgets/base",
      "model_module_version": "2.0.0",
      "model_name": "LayoutModel",
      "state": {
       "flex": "2"
      }
     },
     "42525fe6c2ff4bc7b86d7b6e56cc979c": {
      "model_module": "@jupyter-widgets/base",
      "model_module_version": "2.0.0",
      "model_name": "LayoutModel",
      "state": {
       "flex": "2"
      }
     },
     "42770576d49e4545a568a6f3741afb8a": {
      "model_module": "@jupyter-widgets/base",
      "model_module_version": "2.0.0",
      "model_name": "LayoutModel",
      "state": {
       "flex": "2"
      }
     },
     "4383a49fe73e4cb28e7de1aaf443c7a4": {
      "model_module": "@jupyter-widgets/controls",
      "model_module_version": "2.0.0",
      "model_name": "ProgressStyleModel",
      "state": {
       "description_width": ""
      }
     },
     "440368503926493ea288ddd88569308a": {
      "model_module": "@jupyter-widgets/base",
      "model_module_version": "2.0.0",
      "model_name": "LayoutModel",
      "state": {
       "display": "inline-flex",
       "flex_flow": "row wrap",
       "width": "100%"
      }
     },
     "454b4b56cec04dc48d53359c96f527d3": {
      "model_module": "@jupyter-widgets/base",
      "model_module_version": "2.0.0",
      "model_name": "LayoutModel",
      "state": {}
     },
     "4559f2cd78a942fc9db80136586d5ba8": {
      "model_module": "@jupyter-widgets/controls",
      "model_module_version": "2.0.0",
      "model_name": "HTMLStyleModel",
      "state": {
       "description_width": "",
       "font_size": null,
       "text_color": null
      }
     },
     "45c35f6e65d4479caf8752075ed5f2bc": {
      "model_module": "@jupyter-widgets/base",
      "model_module_version": "2.0.0",
      "model_name": "LayoutModel",
      "state": {}
     },
     "4686918e8e7d4591a4e463448fb49a81": {
      "model_module": "@jupyter-widgets/controls",
      "model_module_version": "2.0.0",
      "model_name": "HTMLStyleModel",
      "state": {
       "description_width": "",
       "font_size": null,
       "text_color": null
      }
     },
     "4716435712994694a496ac1edd50cfd7": {
      "model_module": "@jupyter-widgets/controls",
      "model_module_version": "2.0.0",
      "model_name": "ProgressStyleModel",
      "state": {
       "description_width": ""
      }
     },
     "477bb55ae5db41aa889fcab74f21f9c8": {
      "model_module": "@jupyter-widgets/controls",
      "model_module_version": "2.0.0",
      "model_name": "HTMLStyleModel",
      "state": {
       "description_width": "",
       "font_size": null,
       "text_color": null
      }
     },
     "47adca79e6084d1db65ea54187088a97": {
      "model_module": "@jupyter-widgets/base",
      "model_module_version": "2.0.0",
      "model_name": "LayoutModel",
      "state": {
       "display": "inline-flex",
       "flex_flow": "row wrap",
       "width": "100%"
      }
     },
     "48f490fbed61457585c1468d3575bf47": {
      "model_module": "@jupyter-widgets/controls",
      "model_module_version": "2.0.0",
      "model_name": "ProgressStyleModel",
      "state": {
       "description_width": ""
      }
     },
     "49acf433fd074de5ab34e4373b5d4930": {
      "model_module": "@jupyter-widgets/controls",
      "model_module_version": "2.0.0",
      "model_name": "HTMLStyleModel",
      "state": {
       "description_width": "",
       "font_size": null,
       "text_color": null
      }
     },
     "4af65b8cb79f4bea92a0a4a4503358d2": {
      "model_module": "@jupyter-widgets/controls",
      "model_module_version": "2.0.0",
      "model_name": "HTMLStyleModel",
      "state": {
       "description_width": "",
       "font_size": null,
       "text_color": null
      }
     },
     "4b86d582ebf24faea0786e59db097984": {
      "model_module": "@jupyter-widgets/base",
      "model_module_version": "2.0.0",
      "model_name": "LayoutModel",
      "state": {
       "flex": "2"
      }
     },
     "4bb0d6fdbe714d7b886fd2aedfdf00b0": {
      "model_module": "@jupyter-widgets/controls",
      "model_module_version": "2.0.0",
      "model_name": "FloatProgressModel",
      "state": {
       "bar_style": "success",
       "layout": "IPY_MODEL_561a17e125c14b92a7e079a5d11331a3",
       "max": 10576,
       "style": "IPY_MODEL_a653e94f2c33428fb56fb0e2297d93e0",
       "value": 10576
      }
     },
     "4c34e8d5e3e242c8848a66d56c8c6287": {
      "model_module": "@jupyter-widgets/controls",
      "model_module_version": "2.0.0",
      "model_name": "FloatProgressModel",
      "state": {
       "bar_style": "success",
       "layout": "IPY_MODEL_9038ae4e21814adfb2e70104f82cf157",
       "max": 1,
       "style": "IPY_MODEL_b17350f6ad89451384c40a3340f8fb4d"
      }
     },
     "4e077e1890dc411fbc9977d1bd24fcea": {
      "model_module": "@jupyter-widgets/controls",
      "model_module_version": "2.0.0",
      "model_name": "HTMLStyleModel",
      "state": {
       "description_width": "",
       "font_size": null,
       "text_color": null
      }
     },
     "4eca2cd9be5b4be8bc2e25cd48e4b2d0": {
      "model_module": "@jupyter-widgets/controls",
      "model_module_version": "2.0.0",
      "model_name": "FloatProgressModel",
      "state": {
       "bar_style": "success",
       "layout": "IPY_MODEL_7b79f8192caa4f7f923c43750622ae7c",
       "max": 11664,
       "style": "IPY_MODEL_7b3dd4096d9241f9a02be4859c457f1e",
       "value": 11664
      }
     },
     "4f17f39d41394f529a4f8dcba2a84976": {
      "model_module": "@jupyter-widgets/base",
      "model_module_version": "2.0.0",
      "model_name": "LayoutModel",
      "state": {}
     },
     "4f8b950176d54d509b15b77f68886530": {
      "model_module": "@jupyter-widgets/controls",
      "model_module_version": "2.0.0",
      "model_name": "HTMLStyleModel",
      "state": {
       "description_width": "",
       "font_size": null,
       "text_color": null
      }
     },
     "501a38c4982d4531891c142c3147fb70": {
      "model_module": "@jupyter-widgets/controls",
      "model_module_version": "2.0.0",
      "model_name": "HTMLModel",
      "state": {
       "layout": "IPY_MODEL_144990089ea6499fb58bc5f2d9b49594",
       "style": "IPY_MODEL_190cf466757b488ba37e18e9df9f4afb",
       "value": "quicklooks/S2B_MSIL2A_20240526T094549_N0510_R079_T35VLF_20240526T112501: 100%"
      }
     },
     "512a69bbca444bd9a4dd1aa3e287e479": {
      "model_module": "@jupyter-widgets/controls",
      "model_module_version": "2.0.0",
      "model_name": "HTMLStyleModel",
      "state": {
       "description_width": "",
       "font_size": null,
       "text_color": null
      }
     },
     "5146831861d1435f9b5fd8d83f33542d": {
      "model_module": "@jupyter-widgets/base",
      "model_module_version": "2.0.0",
      "model_name": "LayoutModel",
      "state": {}
     },
     "51a9f653df2e4242ac3c4a06f589ffb3": {
      "model_module": "@jupyter-widgets/controls",
      "model_module_version": "2.0.0",
      "model_name": "HBoxModel",
      "state": {
       "children": [
        "IPY_MODEL_9103ad52d4f244e49b615a7c7a8bc490",
        "IPY_MODEL_645e5650dcc64ef9ac2e7625a7d8dd5b",
        "IPY_MODEL_32d0a39a0d09467897736aeb370574f6"
       ],
       "layout": "IPY_MODEL_bdbd80be5c284461885e0bcbd7830b49"
      }
     },
     "5368e18a1ff44932868354ad12e9fef5": {
      "model_module": "@jupyter-widgets/controls",
      "model_module_version": "2.0.0",
      "model_name": "HBoxModel",
      "state": {
       "children": [
        "IPY_MODEL_e3f2001e8f574ec0a539fcdf69d07e92",
        "IPY_MODEL_ad62335083294805b9d11465608a1c18",
        "IPY_MODEL_5416a94b21a745ab9e086eafba522b9c"
       ],
       "layout": "IPY_MODEL_47adca79e6084d1db65ea54187088a97"
      }
     },
     "5416a94b21a745ab9e086eafba522b9c": {
      "model_module": "@jupyter-widgets/controls",
      "model_module_version": "2.0.0",
      "model_name": "HTMLModel",
      "state": {
       "layout": "IPY_MODEL_722b382423ce4892a113dba886db6b85",
       "style": "IPY_MODEL_80c827fa75ed41d2afeac59c6ee2cbf4",
       "value": " 0.00/? [00:00&lt;?, ?B/s]"
      }
     },
     "5498c0d1b0a94177a37cb8c8ee80b4b5": {
      "model_module": "@jupyter-widgets/controls",
      "model_module_version": "2.0.0",
      "model_name": "HTMLStyleModel",
      "state": {
       "description_width": "",
       "font_size": null,
       "text_color": null
      }
     },
     "561a17e125c14b92a7e079a5d11331a3": {
      "model_module": "@jupyter-widgets/base",
      "model_module_version": "2.0.0",
      "model_name": "LayoutModel",
      "state": {
       "flex": "2"
      }
     },
     "564c4d733643413985ec6335704e4cc7": {
      "model_module": "@jupyter-widgets/controls",
      "model_module_version": "2.0.0",
      "model_name": "HBoxModel",
      "state": {
       "children": [
        "IPY_MODEL_2fd7b952adfb40fd9ec75ae89401dfc3",
        "IPY_MODEL_fc1cb832ab144beb9d585b4c9e5cc68c",
        "IPY_MODEL_9b48e58c231f46a380482e905118b5d3"
       ],
       "layout": "IPY_MODEL_ef6d87e31235432c84b1acdd066c9ff0"
      }
     },
     "56f146151efb456d9508ebf5be31197f": {
      "model_module": "@jupyter-widgets/base",
      "model_module_version": "2.0.0",
      "model_name": "LayoutModel",
      "state": {
       "display": "inline-flex",
       "flex_flow": "row wrap",
       "width": "100%"
      }
     },
     "57635079a4a04510805d909c93bbee67": {
      "model_module": "@jupyter-widgets/controls",
      "model_module_version": "2.0.0",
      "model_name": "FloatProgressModel",
      "state": {
       "bar_style": "success",
       "layout": "IPY_MODEL_2c486cf0b0b248f88a47996c9f9030f9",
       "max": 6539,
       "style": "IPY_MODEL_b2d44c5af2c44e20af9e08c442b32da9",
       "value": 6539
      }
     },
     "57b1cd3b9f93412cb4ebae8d90723856": {
      "model_module": "@jupyter-widgets/controls",
      "model_module_version": "2.0.0",
      "model_name": "HTMLStyleModel",
      "state": {
       "description_width": "",
       "font_size": null,
       "text_color": null
      }
     },
     "57bbd9efa8614a57b7a0099ab18280bc": {
      "model_module": "@jupyter-widgets/controls",
      "model_module_version": "2.0.0",
      "model_name": "HTMLModel",
      "state": {
       "layout": "IPY_MODEL_610b4a30df3040fdaa809140cf668b09",
       "style": "IPY_MODEL_0afb08ea418242bb93023e1d977eb157",
       "value": " 19.3k/19.3k [00:00&lt;00:00, 130kB/s]"
      }
     },
     "58a0a18959af47efac02abf448403cd1": {
      "model_module": "@jupyter-widgets/controls",
      "model_module_version": "2.0.0",
      "model_name": "HTMLStyleModel",
      "state": {
       "description_width": "",
       "font_size": null,
       "text_color": null
      }
     },
     "591be8bdf107438d8575358d72fafeb9": {
      "model_module": "@jupyter-widgets/controls",
      "model_module_version": "2.0.0",
      "model_name": "HTMLStyleModel",
      "state": {
       "description_width": "",
       "font_size": null,
       "text_color": null
      }
     },
     "596a4fa0ba40401ead041a59f3fb4108": {
      "model_module": "@jupyter-widgets/base",
      "model_module_version": "2.0.0",
      "model_name": "LayoutModel",
      "state": {}
     },
     "59760519c6cf437baa24aa96e8905864": {
      "model_module": "@jupyter-widgets/base",
      "model_module_version": "2.0.0",
      "model_name": "LayoutModel",
      "state": {
       "flex": "2"
      }
     },
     "5a55a413ecdc485896ad33a0ddf59e46": {
      "model_module": "@jupyter-widgets/base",
      "model_module_version": "2.0.0",
      "model_name": "LayoutModel",
      "state": {
       "display": "inline-flex",
       "flex_flow": "row wrap",
       "width": "100%"
      }
     },
     "5a80d985eb8949f4bfe13d20ad8c8d74": {
      "model_module": "@jupyter-widgets/controls",
      "model_module_version": "2.0.0",
      "model_name": "HTMLModel",
      "state": {
       "layout": "IPY_MODEL_38476fbb4bc6497c94c7194ab8542e5a",
       "style": "IPY_MODEL_968aa60bdda94250b8db9172159155b6",
       "value": " 0.00/? [10:18&lt;?, ?B/s]"
      }
     },
     "5a8901b9c0f041a99071be6ad0ec1437": {
      "model_module": "@jupyter-widgets/controls",
      "model_module_version": "2.0.0",
      "model_name": "HTMLModel",
      "state": {
       "layout": "IPY_MODEL_0ff8f9bfb636411eaa2a3c5a1d0fb1d4",
       "style": "IPY_MODEL_888730d3b8a542c3942850d32a79bff4",
       "value": "quicklooks/S2B_MSIL2A_20240526T094549_N0510_R079_T34VFM_20240526T112501: 100%"
      }
     },
     "5d3dc87d2a664a5e890fb66e24f15a3e": {
      "model_module": "@jupyter-widgets/controls",
      "model_module_version": "2.0.0",
      "model_name": "HBoxModel",
      "state": {
       "children": [
        "IPY_MODEL_234b243c5ca34e9db3051a28da67d630",
        "IPY_MODEL_e01a97a747df4201be0a9d82c8fef025",
        "IPY_MODEL_ca2293c674af4ebaa22db2e321f1578c"
       ],
       "layout": "IPY_MODEL_56f146151efb456d9508ebf5be31197f"
      }
     },
     "5f410ec2073241a6996cea725067b475": {
      "model_module": "@jupyter-widgets/base",
      "model_module_version": "2.0.0",
      "model_name": "LayoutModel",
      "state": {
       "flex": "2"
      }
     },
     "5f7f934b451a480a8316d6fbaf660d74": {
      "model_module": "@jupyter-widgets/controls",
      "model_module_version": "2.0.0",
      "model_name": "HTMLStyleModel",
      "state": {
       "description_width": "",
       "font_size": null,
       "text_color": null
      }
     },
     "610b4a30df3040fdaa809140cf668b09": {
      "model_module": "@jupyter-widgets/base",
      "model_module_version": "2.0.0",
      "model_name": "LayoutModel",
      "state": {}
     },
     "629de55aeb8f4a0ea865df9975e3c7d8": {
      "model_module": "@jupyter-widgets/base",
      "model_module_version": "2.0.0",
      "model_name": "LayoutModel",
      "state": {}
     },
     "62c31df9c6ff4cf987b4bac8c66b6579": {
      "model_module": "@jupyter-widgets/controls",
      "model_module_version": "2.0.0",
      "model_name": "HTMLModel",
      "state": {
       "layout": "IPY_MODEL_29348ca8a18d4833b3c65be249b599e5",
       "style": "IPY_MODEL_0079933d69de4f55ab57ac8bb42c2e68",
       "value": " 11.7k/11.7k [00:00&lt;00:00, 359kB/s]"
      }
     },
     "63c38c02587b4454a1372da717ef9319": {
      "model_module": "@jupyter-widgets/base",
      "model_module_version": "2.0.0",
      "model_name": "LayoutModel",
      "state": {}
     },
     "63f425d4eaf644108f5ab49396f64d61": {
      "model_module": "@jupyter-widgets/base",
      "model_module_version": "2.0.0",
      "model_name": "LayoutModel",
      "state": {
       "display": "inline-flex",
       "flex_flow": "row wrap",
       "width": "100%"
      }
     },
     "645e5650dcc64ef9ac2e7625a7d8dd5b": {
      "model_module": "@jupyter-widgets/controls",
      "model_module_version": "2.0.0",
      "model_name": "FloatProgressModel",
      "state": {
       "bar_style": "success",
       "layout": "IPY_MODEL_8fbb4da8961943a0971ef94fadf88c57",
       "max": 20962,
       "style": "IPY_MODEL_1c0823a5240a4eae84d225fcfb7e6079",
       "value": 20962
      }
     },
     "64b3236d10f54e0685afe5a249c999d2": {
      "model_module": "@jupyter-widgets/controls",
      "model_module_version": "2.0.0",
      "model_name": "ProgressStyleModel",
      "state": {
       "description_width": ""
      }
     },
     "669d05291fb348a4a165ffd783715a2d": {
      "model_module": "@jupyter-widgets/controls",
      "model_module_version": "2.0.0",
      "model_name": "ProgressStyleModel",
      "state": {
       "description_width": ""
      }
     },
     "69072711699e458cb258c6bc708156b6": {
      "model_module": "@jupyter-widgets/base",
      "model_module_version": "2.0.0",
      "model_name": "LayoutModel",
      "state": {}
     },
     "6a0d2955a7d04459a8987505cb39e950": {
      "model_module": "@jupyter-widgets/controls",
      "model_module_version": "2.0.0",
      "model_name": "HTMLStyleModel",
      "state": {
       "description_width": "",
       "font_size": null,
       "text_color": null
      }
     },
     "6ab78d71850c4c1493318e14a9de4a12": {
      "model_module": "@jupyter-widgets/controls",
      "model_module_version": "2.0.0",
      "model_name": "FloatProgressModel",
      "state": {
       "bar_style": "success",
       "layout": "IPY_MODEL_315d1dfd944e43568fbf4af961e1e756",
       "max": 21753,
       "style": "IPY_MODEL_8050efb907494a48acddaf409d963af8",
       "value": 21753
      }
     },
     "6be47b174b1643ef93556006da600602": {
      "model_module": "@jupyter-widgets/controls",
      "model_module_version": "2.0.0",
      "model_name": "ProgressStyleModel",
      "state": {
       "description_width": ""
      }
     },
     "6c99d114b4d64310a38741256b31691f": {
      "model_module": "@jupyter-widgets/controls",
      "model_module_version": "2.0.0",
      "model_name": "HTMLStyleModel",
      "state": {
       "description_width": "",
       "font_size": null,
       "text_color": null
      }
     },
     "6ced7f942d334fa19464cfa3363c16de": {
      "model_module": "@jupyter-widgets/base",
      "model_module_version": "2.0.0",
      "model_name": "LayoutModel",
      "state": {}
     },
     "6d3c50ebcece4ef986e5862fa0223ebe": {
      "model_module": "@jupyter-widgets/controls",
      "model_module_version": "2.0.0",
      "model_name": "HTMLStyleModel",
      "state": {
       "description_width": "",
       "font_size": null,
       "text_color": null
      }
     },
     "6da626f90ee544feb2aa0b7ac976d57f": {
      "model_module": "@jupyter-widgets/controls",
      "model_module_version": "2.0.0",
      "model_name": "HTMLModel",
      "state": {
       "layout": "IPY_MODEL_366162ed83a34a9481c27fa1db8bc305",
       "style": "IPY_MODEL_28e5d407dd604c4392f8a96e9a3f214d",
       "value": "quicklooks/S2B_MSIL2A_20240526T094549_N0510_R079_T34VEM_20240526T112501: "
      }
     },
     "6e6ea0c7cf274e74a9a48ab9270a2c14": {
      "model_module": "@jupyter-widgets/controls",
      "model_module_version": "2.0.0",
      "model_name": "HTMLModel",
      "state": {
       "layout": "IPY_MODEL_39d7c6e0222e467eab8e72270b6bec35",
       "style": "IPY_MODEL_08a93306f252430eaa8c3194e9ca29a8",
       "value": "quicklooks/S2B_MSIL2A_20240526T094549_N0510_R079_T34VEM_20240526T112501: "
      }
     },
     "6f21ba5c9a12445bab889d40655e6683": {
      "model_module": "@jupyter-widgets/controls",
      "model_module_version": "2.0.0",
      "model_name": "HTMLModel",
      "state": {
       "layout": "IPY_MODEL_19b697bf5df34812aefc58880b0276cf",
       "style": "IPY_MODEL_e8e1836b47794f81952f5ddd84e45259",
       "value": " 0.00/? [00:00&lt;?, ?B/s]"
      }
     },
     "6f6457ac8abc408c93e01ba705329251": {
      "model_module": "@jupyter-widgets/controls",
      "model_module_version": "2.0.0",
      "model_name": "FloatProgressModel",
      "state": {
       "bar_style": "success",
       "layout": "IPY_MODEL_d17c2b4c21644ba29f2f8f516d22ee4e",
       "max": 14274,
       "style": "IPY_MODEL_3e946638a13041a6a5876bb35c0cf484",
       "value": 14274
      }
     },
     "70987282d82e4081afbccbfb03ee35bb": {
      "model_module": "@jupyter-widgets/controls",
      "model_module_version": "2.0.0",
      "model_name": "HTMLStyleModel",
      "state": {
       "description_width": "",
       "font_size": null,
       "text_color": null
      }
     },
     "710f2f8cca6048bb98e3d66f1cd4eb9c": {
      "model_module": "@jupyter-widgets/base",
      "model_module_version": "2.0.0",
      "model_name": "LayoutModel",
      "state": {
       "flex": "2"
      }
     },
     "711f0d82f6034039a7bf29674962cdc9": {
      "model_module": "@jupyter-widgets/controls",
      "model_module_version": "2.0.0",
      "model_name": "HBoxModel",
      "state": {
       "children": [
        "IPY_MODEL_20309a51fbc3413c846fa63a6dd0a98f",
        "IPY_MODEL_93aec40317a849e0936f4dc988b48737",
        "IPY_MODEL_92e31bfe936c48dc9767c4d1e58d9520"
       ],
       "layout": "IPY_MODEL_111c0ddb263c4769af758864fcb80c16"
      }
     },
     "71ba83e8d5444f0f85be9ec187b29cf8": {
      "model_module": "@jupyter-widgets/base",
      "model_module_version": "2.0.0",
      "model_name": "LayoutModel",
      "state": {}
     },
     "71fdad8b39bf4f19bac2fe02f59bc7ba": {
      "model_module": "@jupyter-widgets/controls",
      "model_module_version": "2.0.0",
      "model_name": "HTMLModel",
      "state": {
       "layout": "IPY_MODEL_d9a6cf5ff2c4429c8a5ce055d2719dfd",
       "style": "IPY_MODEL_a50d7260dbd74225926e89d9e76d72ee",
       "value": " 0.00/? [00:00&lt;?, ?B/s]"
      }
     },
     "722b382423ce4892a113dba886db6b85": {
      "model_module": "@jupyter-widgets/base",
      "model_module_version": "2.0.0",
      "model_name": "LayoutModel",
      "state": {}
     },
     "7440e9d28fe34de99b4613178aef54d9": {
      "model_module": "@jupyter-widgets/controls",
      "model_module_version": "2.0.0",
      "model_name": "HBoxModel",
      "state": {
       "children": [
        "IPY_MODEL_0038c6090fb149628be8d484dd1305bf",
        "IPY_MODEL_8450cad589ad4cec865fab365f4cb04e",
        "IPY_MODEL_2838a4e5a1314afd93f1204b1a5796af"
       ],
       "layout": "IPY_MODEL_1766a35be0f44a5e9a177de10d172171"
      }
     },
     "744feab4184f43c6a1712cf0f6b7896f": {
      "model_module": "@jupyter-widgets/base",
      "model_module_version": "2.0.0",
      "model_name": "LayoutModel",
      "state": {
       "display": "inline-flex",
       "flex_flow": "row wrap",
       "width": "100%"
      }
     },
     "74f00a79601d4e5bae20aecd5b8746ed": {
      "model_module": "@jupyter-widgets/controls",
      "model_module_version": "2.0.0",
      "model_name": "FloatProgressModel",
      "state": {
       "bar_style": "success",
       "layout": "IPY_MODEL_befce4c49fdd4c9d8b728c7e1f062f6a",
       "max": 1,
       "style": "IPY_MODEL_b9b66ecfa9fc4b29a0e97fd175ec6ad0"
      }
     },
     "7556fee88b034bf7b094983b16d37f49": {
      "model_module": "@jupyter-widgets/controls",
      "model_module_version": "2.0.0",
      "model_name": "HTMLModel",
      "state": {
       "layout": "IPY_MODEL_1f590143b51e4794920d6cc9f6f74d54",
       "style": "IPY_MODEL_b73acfc665d445d98a36c5dfca129506",
       "value": " 21.8k/21.8k [00:00&lt;00:00, 200kB/s]"
      }
     },
     "756a9c35e7c44c148efa53a0451f3178": {
      "model_module": "@jupyter-widgets/controls",
      "model_module_version": "2.0.0",
      "model_name": "HTMLModel",
      "state": {
       "layout": "IPY_MODEL_71ba83e8d5444f0f85be9ec187b29cf8",
       "style": "IPY_MODEL_db75c4490a3c4692aae35d552b54cf62",
       "value": "quicklooks/S2B_MSIL2A_20240526T094549_N0510_R079_T34VFL_20240526T112501: 100%"
      }
     },
     "7634ad479b0e46d99a54f7d4d2e2743d": {
      "model_module": "@jupyter-widgets/controls",
      "model_module_version": "2.0.0",
      "model_name": "ProgressStyleModel",
      "state": {
       "description_width": ""
      }
     },
     "766b0203b5bb4b47ba97a19a77e5498c": {
      "model_module": "@jupyter-widgets/controls",
      "model_module_version": "2.0.0",
      "model_name": "HTMLModel",
      "state": {
       "layout": "IPY_MODEL_eb7fe17f454844bc979d01f94d03f6d3",
       "style": "IPY_MODEL_982c74c24c594d179ee9d889136136d6",
       "value": "quicklooks/S2B_MSIL2A_20240526T094549_N0510_R079_T34VFM_20240526T112501: "
      }
     },
     "7670537d97484ed19ec99fd8b8cdcc5a": {
      "model_module": "@jupyter-widgets/base",
      "model_module_version": "2.0.0",
      "model_name": "LayoutModel",
      "state": {
       "display": "inline-flex",
       "flex_flow": "row wrap",
       "width": "100%"
      }
     },
     "7734d1a564544706a6cb4f6290b3a35b": {
      "model_module": "@jupyter-widgets/controls",
      "model_module_version": "2.0.0",
      "model_name": "HTMLStyleModel",
      "state": {
       "description_width": "",
       "font_size": null,
       "text_color": null
      }
     },
     "7772b294af044422b4e8762d3528c6fd": {
      "model_module": "@jupyter-widgets/controls",
      "model_module_version": "2.0.0",
      "model_name": "HTMLModel",
      "state": {
       "layout": "IPY_MODEL_fe60ae2383df4a968b9002459f6a9265",
       "style": "IPY_MODEL_c21f5296bc2d46dc85ee709146702760",
       "value": " 10.6k/10.6k [00:00&lt;00:00, 850kB/s]"
      }
     },
     "77cd5a8a66ac4bb7b49a6b71f759fb8c": {
      "model_module": "@jupyter-widgets/controls",
      "model_module_version": "2.0.0",
      "model_name": "HBoxModel",
      "state": {
       "children": [
        "IPY_MODEL_aadb45d4267a4844af2ac3d5996199c6",
        "IPY_MODEL_99260cee19fa4d7680f3fd80cddbd058",
        "IPY_MODEL_b4ec4352d4ef47ec98c609c58bbccb60"
       ],
       "layout": "IPY_MODEL_9357929d6a564da7ad38311a7756d861"
      }
     },
     "784f59c7c7634f29b018ba6e528780cb": {
      "model_module": "@jupyter-widgets/base",
      "model_module_version": "2.0.0",
      "model_name": "LayoutModel",
      "state": {}
     },
     "7a3df00f1bbb473b8eef6c72886b779c": {
      "model_module": "@jupyter-widgets/base",
      "model_module_version": "2.0.0",
      "model_name": "LayoutModel",
      "state": {
       "display": "inline-flex",
       "flex_flow": "row wrap",
       "width": "100%"
      }
     },
     "7aba5a41738a41bea70338f6cf0f0068": {
      "model_module": "@jupyter-widgets/controls",
      "model_module_version": "2.0.0",
      "model_name": "HTMLStyleModel",
      "state": {
       "description_width": "",
       "font_size": null,
       "text_color": null
      }
     },
     "7b3dd4096d9241f9a02be4859c457f1e": {
      "model_module": "@jupyter-widgets/controls",
      "model_module_version": "2.0.0",
      "model_name": "ProgressStyleModel",
      "state": {
       "description_width": ""
      }
     },
     "7b636456d6034ecca2a539cfde4025f4": {
      "model_module": "@jupyter-widgets/controls",
      "model_module_version": "2.0.0",
      "model_name": "FloatProgressModel",
      "state": {
       "bar_style": "success",
       "layout": "IPY_MODEL_9fb19c8e8456456698b03f7513845b4c",
       "max": 11742,
       "style": "IPY_MODEL_e6adf5cc1afd4d8ea7fefac6c59e5f95",
       "value": 11742
      }
     },
     "7b79f8192caa4f7f923c43750622ae7c": {
      "model_module": "@jupyter-widgets/base",
      "model_module_version": "2.0.0",
      "model_name": "LayoutModel",
      "state": {
       "flex": "2"
      }
     },
     "7d9faf5c6a2f4bbdad829d23566ace4f": {
      "model_module": "@jupyter-widgets/controls",
      "model_module_version": "2.0.0",
      "model_name": "HTMLStyleModel",
      "state": {
       "description_width": "",
       "font_size": null,
       "text_color": null
      }
     },
     "7e401d7df0304611b9346da279fcb189": {
      "model_module": "@jupyter-widgets/base",
      "model_module_version": "2.0.0",
      "model_name": "LayoutModel",
      "state": {}
     },
     "7e4a3dea8803421599a831e95c9d871c": {
      "model_module": "@jupyter-widgets/controls",
      "model_module_version": "2.0.0",
      "model_name": "ProgressStyleModel",
      "state": {
       "description_width": ""
      }
     },
     "7e6dd626da4c4a2397c62bc6ed17b983": {
      "model_module": "@jupyter-widgets/controls",
      "model_module_version": "2.0.0",
      "model_name": "ProgressStyleModel",
      "state": {
       "description_width": ""
      }
     },
     "7f85e8a9b8224218b25c1d57e8e0f5c0": {
      "model_module": "@jupyter-widgets/controls",
      "model_module_version": "2.0.0",
      "model_name": "ProgressStyleModel",
      "state": {
       "description_width": ""
      }
     },
     "8050efb907494a48acddaf409d963af8": {
      "model_module": "@jupyter-widgets/controls",
      "model_module_version": "2.0.0",
      "model_name": "ProgressStyleModel",
      "state": {
       "description_width": ""
      }
     },
     "80c827fa75ed41d2afeac59c6ee2cbf4": {
      "model_module": "@jupyter-widgets/controls",
      "model_module_version": "2.0.0",
      "model_name": "HTMLStyleModel",
      "state": {
       "description_width": "",
       "font_size": null,
       "text_color": null
      }
     },
     "813de475e1bf4f509a3e92862add5478": {
      "model_module": "@jupyter-widgets/controls",
      "model_module_version": "2.0.0",
      "model_name": "HTMLModel",
      "state": {
       "layout": "IPY_MODEL_993d35de3d0c4258983dac280d85f63d",
       "style": "IPY_MODEL_49acf433fd074de5ab34e4373b5d4930",
       "value": " 21.6k/21.6k [00:00&lt;00:00, 191kB/s]"
      }
     },
     "8171c9ffab434ab1babc747432e9808d": {
      "model_module": "@jupyter-widgets/controls",
      "model_module_version": "2.0.0",
      "model_name": "HTMLModel",
      "state": {
       "layout": "IPY_MODEL_f3f1ae596d6944248f86d997086ace01",
       "style": "IPY_MODEL_3be301afba604f91b4f2bda034f8ad25",
       "value": "quicklooks/S2B_MSIL2A_20240527T091549_N0510_R093_T35VNF_20240527T104756: 100%"
      }
     },
     "8207623a298a4284b2784dd2f599f838": {
      "model_module": "@jupyter-widgets/controls",
      "model_module_version": "2.0.0",
      "model_name": "HTMLStyleModel",
      "state": {
       "description_width": "",
       "font_size": null,
       "text_color": null
      }
     },
     "8224adbc3dd94ac6bc0db9e76259ea9b": {
      "model_module": "@jupyter-widgets/base",
      "model_module_version": "2.0.0",
      "model_name": "LayoutModel",
      "state": {}
     },
     "828e2058ffa4462e9c05deda777ae623": {
      "model_module": "@jupyter-widgets/controls",
      "model_module_version": "2.0.0",
      "model_name": "ProgressStyleModel",
      "state": {
       "description_width": ""
      }
     },
     "82b3b612029d4702ae58cddf10e2cceb": {
      "model_module": "@jupyter-widgets/controls",
      "model_module_version": "2.0.0",
      "model_name": "ProgressStyleModel",
      "state": {
       "description_width": ""
      }
     },
     "8450cad589ad4cec865fab365f4cb04e": {
      "model_module": "@jupyter-widgets/controls",
      "model_module_version": "2.0.0",
      "model_name": "FloatProgressModel",
      "state": {
       "bar_style": "success",
       "layout": "IPY_MODEL_9d694c13fece428a8b2083d77b5c6c6d",
       "max": 1,
       "style": "IPY_MODEL_b6e6dbe654fb4cd481c55570f79ca09a"
      }
     },
     "8502e6e6319f4be59dfe4983e83d2c26": {
      "model_module": "@jupyter-widgets/controls",
      "model_module_version": "2.0.0",
      "model_name": "HTMLModel",
      "state": {
       "layout": "IPY_MODEL_f46fe7a4a70b41c3b333ba0d68af97f7",
       "style": "IPY_MODEL_4e077e1890dc411fbc9977d1bd24fcea",
       "value": " 23.6k/23.6k [00:00&lt;00:00, 196kB/s]"
      }
     },
     "87650e9bce1349559d24c44167ad54c3": {
      "model_module": "@jupyter-widgets/controls",
      "model_module_version": "2.0.0",
      "model_name": "HTMLModel",
      "state": {
       "layout": "IPY_MODEL_8974d971b09a42a08560edf9e28d5942",
       "style": "IPY_MODEL_4686918e8e7d4591a4e463448fb49a81",
       "value": "S2A_34VEM_20161102_0_L2A: "
      }
     },
     "888730d3b8a542c3942850d32a79bff4": {
      "model_module": "@jupyter-widgets/controls",
      "model_module_version": "2.0.0",
      "model_name": "HTMLStyleModel",
      "state": {
       "description_width": "",
       "font_size": null,
       "text_color": null
      }
     },
     "8974d971b09a42a08560edf9e28d5942": {
      "model_module": "@jupyter-widgets/base",
      "model_module_version": "2.0.0",
      "model_name": "LayoutModel",
      "state": {}
     },
     "89792ba570c744e7afbc81989fd6b6b3": {
      "model_module": "@jupyter-widgets/controls",
      "model_module_version": "2.0.0",
      "model_name": "HBoxModel",
      "state": {
       "children": [
        "IPY_MODEL_a9c875cc8ead4ff9817f2a995b24ca4a",
        "IPY_MODEL_c672d8e136264323b6b7f71caaf7995f",
        "IPY_MODEL_d42d16a39ff149308d6d52dbc2bf2090"
       ],
       "layout": "IPY_MODEL_2e37b0ba19dd4c20826ee22c5f959c59"
      }
     },
     "8a20a683522e49ffb7ea4213aa992c75": {
      "model_module": "@jupyter-widgets/base",
      "model_module_version": "2.0.0",
      "model_name": "LayoutModel",
      "state": {
       "flex": "2"
      }
     },
     "8a6cfe8c3cfd4aa2b8621c2bea872855": {
      "model_module": "@jupyter-widgets/base",
      "model_module_version": "2.0.0",
      "model_name": "LayoutModel",
      "state": {
       "display": "inline-flex",
       "flex_flow": "row wrap",
       "width": "100%"
      }
     },
     "8ad90a815f844f34ac3119db8ff90f7c": {
      "model_module": "@jupyter-widgets/base",
      "model_module_version": "2.0.0",
      "model_name": "LayoutModel",
      "state": {
       "flex": "2"
      }
     },
     "8d90f48d324748a688e8ab01a2b0974d": {
      "model_module": "@jupyter-widgets/controls",
      "model_module_version": "2.0.0",
      "model_name": "HTMLStyleModel",
      "state": {
       "description_width": "",
       "font_size": null,
       "text_color": null
      }
     },
     "8ef70a552b3a4133b75dee55950cd76a": {
      "model_module": "@jupyter-widgets/controls",
      "model_module_version": "2.0.0",
      "model_name": "FloatProgressModel",
      "state": {
       "bar_style": "success",
       "layout": "IPY_MODEL_59760519c6cf437baa24aa96e8905864",
       "max": 23597,
       "style": "IPY_MODEL_e17896bb26c549e7a14ecbc4b5192d01",
       "value": 23597
      }
     },
     "8f659441bc044b1b93a5e830106bc8d0": {
      "model_module": "@jupyter-widgets/controls",
      "model_module_version": "2.0.0",
      "model_name": "ProgressStyleModel",
      "state": {
       "description_width": ""
      }
     },
     "8fa16d6bb2454e25a659c2927885331f": {
      "model_module": "@jupyter-widgets/controls",
      "model_module_version": "2.0.0",
      "model_name": "HTMLModel",
      "state": {
       "layout": "IPY_MODEL_cab106fc7a0b41b082eeeed296b8dfd5",
       "style": "IPY_MODEL_97b4a94238cd4b68b674e44283cecb37",
       "value": "quicklooks/S2B_MSIL2A_20240526T094549_N0510_R079_T34VEM_20240526T112501: "
      }
     },
     "8fbb4da8961943a0971ef94fadf88c57": {
      "model_module": "@jupyter-widgets/base",
      "model_module_version": "2.0.0",
      "model_name": "LayoutModel",
      "state": {
       "flex": "2"
      }
     },
     "901dfdd77c0049c9b4a29017faa304b6": {
      "model_module": "@jupyter-widgets/controls",
      "model_module_version": "2.0.0",
      "model_name": "HTMLStyleModel",
      "state": {
       "description_width": "",
       "font_size": null,
       "text_color": null
      }
     },
     "9038ae4e21814adfb2e70104f82cf157": {
      "model_module": "@jupyter-widgets/base",
      "model_module_version": "2.0.0",
      "model_name": "LayoutModel",
      "state": {
       "flex": "2"
      }
     },
     "90781aca063e415992ad17da1252545b": {
      "model_module": "@jupyter-widgets/controls",
      "model_module_version": "2.0.0",
      "model_name": "FloatProgressModel",
      "state": {
       "bar_style": "success",
       "layout": "IPY_MODEL_b812a163a43a40d19dedf5891e5d9e9c",
       "max": 1,
       "style": "IPY_MODEL_e94f015b1fbc40d68293e11d88cd0329"
      }
     },
     "9103ad52d4f244e49b615a7c7a8bc490": {
      "model_module": "@jupyter-widgets/controls",
      "model_module_version": "2.0.0",
      "model_name": "HTMLModel",
      "state": {
       "layout": "IPY_MODEL_00d7958219bd4285ab6189c02e56ef43",
       "style": "IPY_MODEL_70987282d82e4081afbccbfb03ee35bb",
       "value": "quicklooks/S2B_MSIL2A_20240527T091549_N0510_R093_T35VNE_20240527T104756: 100%"
      }
     },
     "91255cd22faf43c5834ed4951a403f41": {
      "model_module": "@jupyter-widgets/controls",
      "model_module_version": "2.0.0",
      "model_name": "HTMLStyleModel",
      "state": {
       "description_width": "",
       "font_size": null,
       "text_color": null
      }
     },
     "92e31bfe936c48dc9767c4d1e58d9520": {
      "model_module": "@jupyter-widgets/controls",
      "model_module_version": "2.0.0",
      "model_name": "HTMLModel",
      "state": {
       "layout": "IPY_MODEL_3007c3c8ef5a492a8b60c3d4cea69a83",
       "style": "IPY_MODEL_91255cd22faf43c5834ed4951a403f41",
       "value": " 0.00/? [00:00&lt;?, ?B/s]"
      }
     },
     "9306c1bb35d54049a9e4b482cc337f9c": {
      "model_module": "@jupyter-widgets/controls",
      "model_module_version": "2.0.0",
      "model_name": "HBoxModel",
      "state": {
       "children": [
        "IPY_MODEL_8171c9ffab434ab1babc747432e9808d",
        "IPY_MODEL_242662d8eef5411e858d2d3eedbe0b58",
        "IPY_MODEL_d6587ffd628f489fae217837256b9903"
       ],
       "layout": "IPY_MODEL_bcb9a4c18dfb401eaf2798d4ada7aad5"
      }
     },
     "9357929d6a564da7ad38311a7756d861": {
      "model_module": "@jupyter-widgets/base",
      "model_module_version": "2.0.0",
      "model_name": "LayoutModel",
      "state": {
       "display": "inline-flex",
       "flex_flow": "row wrap",
       "width": "100%"
      }
     },
     "93710a3de2764050ac7b4ad468071b3a": {
      "model_module": "@jupyter-widgets/base",
      "model_module_version": "2.0.0",
      "model_name": "LayoutModel",
      "state": {
       "flex": "2"
      }
     },
     "93aec40317a849e0936f4dc988b48737": {
      "model_module": "@jupyter-widgets/controls",
      "model_module_version": "2.0.0",
      "model_name": "FloatProgressModel",
      "state": {
       "bar_style": "success",
       "layout": "IPY_MODEL_e6946640806b4fe9bb2ede3e175376c4",
       "max": 1,
       "style": "IPY_MODEL_ca34e8faaf2a4a0d925faa2f7ed9e7ed"
      }
     },
     "93dfd4b647154ddab25126706503469b": {
      "model_module": "@jupyter-widgets/base",
      "model_module_version": "2.0.0",
      "model_name": "LayoutModel",
      "state": {}
     },
     "968aa60bdda94250b8db9172159155b6": {
      "model_module": "@jupyter-widgets/controls",
      "model_module_version": "2.0.0",
      "model_name": "HTMLStyleModel",
      "state": {
       "description_width": "",
       "font_size": null,
       "text_color": null
      }
     },
     "9710ad6870114619993621d574cfb713": {
      "model_module": "@jupyter-widgets/base",
      "model_module_version": "2.0.0",
      "model_name": "LayoutModel",
      "state": {}
     },
     "97b4a94238cd4b68b674e44283cecb37": {
      "model_module": "@jupyter-widgets/controls",
      "model_module_version": "2.0.0",
      "model_name": "HTMLStyleModel",
      "state": {
       "description_width": "",
       "font_size": null,
       "text_color": null
      }
     },
     "982c74c24c594d179ee9d889136136d6": {
      "model_module": "@jupyter-widgets/controls",
      "model_module_version": "2.0.0",
      "model_name": "HTMLStyleModel",
      "state": {
       "description_width": "",
       "font_size": null,
       "text_color": null
      }
     },
     "98b8e95f145a49a7b47e6913809f10e9": {
      "model_module": "@jupyter-widgets/base",
      "model_module_version": "2.0.0",
      "model_name": "LayoutModel",
      "state": {
       "display": "inline-flex",
       "flex_flow": "row wrap",
       "width": "100%"
      }
     },
     "99260cee19fa4d7680f3fd80cddbd058": {
      "model_module": "@jupyter-widgets/controls",
      "model_module_version": "2.0.0",
      "model_name": "FloatProgressModel",
      "state": {
       "bar_style": "success",
       "layout": "IPY_MODEL_077701ded9af419ca6d008d1325ae052",
       "max": 10496,
       "style": "IPY_MODEL_48f490fbed61457585c1468d3575bf47",
       "value": 10496
      }
     },
     "993d35de3d0c4258983dac280d85f63d": {
      "model_module": "@jupyter-widgets/base",
      "model_module_version": "2.0.0",
      "model_name": "LayoutModel",
      "state": {}
     },
     "9989f65ea78048f0adacdd48eeff75a1": {
      "model_module": "@jupyter-widgets/base",
      "model_module_version": "2.0.0",
      "model_name": "LayoutModel",
      "state": {}
     },
     "99bf0956c9c24b649aca0f3fb948b457": {
      "model_module": "@jupyter-widgets/controls",
      "model_module_version": "2.0.0",
      "model_name": "FloatProgressModel",
      "state": {
       "bar_style": "success",
       "layout": "IPY_MODEL_42525fe6c2ff4bc7b86d7b6e56cc979c",
       "max": 17695,
       "style": "IPY_MODEL_b16340cb39aa49c9834f4fb13569408c",
       "value": 17695
      }
     },
     "9a01186770934e8fb80516e02a393a76": {
      "model_module": "@jupyter-widgets/base",
      "model_module_version": "2.0.0",
      "model_name": "LayoutModel",
      "state": {
       "flex": "2"
      }
     },
     "9b1aea43636d43169367ea480d8f3a50": {
      "model_module": "@jupyter-widgets/controls",
      "model_module_version": "2.0.0",
      "model_name": "HTMLStyleModel",
      "state": {
       "description_width": "",
       "font_size": null,
       "text_color": null
      }
     },
     "9b48e58c231f46a380482e905118b5d3": {
      "model_module": "@jupyter-widgets/controls",
      "model_module_version": "2.0.0",
      "model_name": "HTMLModel",
      "state": {
       "layout": "IPY_MODEL_edb728d160fe451a956ea163ad5eecb0",
       "style": "IPY_MODEL_ec09bf83d8d7459db640b5622dc08849",
       "value": " 28.2k/28.2k [00:00&lt;00:00, 341kB/s]"
      }
     },
     "9c26398aca3648fe9d9817731be44da0": {
      "model_module": "@jupyter-widgets/base",
      "model_module_version": "2.0.0",
      "model_name": "LayoutModel",
      "state": {}
     },
     "9d5d5d3ca2464c3997672996e4f4ee67": {
      "model_module": "@jupyter-widgets/controls",
      "model_module_version": "2.0.0",
      "model_name": "ProgressStyleModel",
      "state": {
       "description_width": ""
      }
     },
     "9d60f16c4dd0474dae3af979f582786d": {
      "model_module": "@jupyter-widgets/controls",
      "model_module_version": "2.0.0",
      "model_name": "HTMLModel",
      "state": {
       "layout": "IPY_MODEL_cd713110e9054d6e80cfd8fac22325dd",
       "style": "IPY_MODEL_4559f2cd78a942fc9db80136586d5ba8",
       "value": "quicklooks/S2B_MSIL2A_20240526T094549_N0510_R079_T35VLF_20240526T112501: "
      }
     },
     "9d694c13fece428a8b2083d77b5c6c6d": {
      "model_module": "@jupyter-widgets/base",
      "model_module_version": "2.0.0",
      "model_name": "LayoutModel",
      "state": {
       "flex": "2"
      }
     },
     "9ddb5329e736477caf7fd845cf56dbaa": {
      "model_module": "@jupyter-widgets/base",
      "model_module_version": "2.0.0",
      "model_name": "LayoutModel",
      "state": {}
     },
     "9e36cf4367814aca9e3c5f4decb28a41": {
      "model_module": "@jupyter-widgets/base",
      "model_module_version": "2.0.0",
      "model_name": "LayoutModel",
      "state": {}
     },
     "9e6136b0cfd34b8cbc355310bc67abb0": {
      "model_module": "@jupyter-widgets/base",
      "model_module_version": "2.0.0",
      "model_name": "LayoutModel",
      "state": {}
     },
     "9fb19c8e8456456698b03f7513845b4c": {
      "model_module": "@jupyter-widgets/base",
      "model_module_version": "2.0.0",
      "model_name": "LayoutModel",
      "state": {
       "flex": "2"
      }
     },
     "a0756ab5bae04a94b58ede7df52fe50e": {
      "model_module": "@jupyter-widgets/base",
      "model_module_version": "2.0.0",
      "model_name": "LayoutModel",
      "state": {}
     },
     "a0ae1b5c5a31402399270a2e37286de7": {
      "model_module": "@jupyter-widgets/controls",
      "model_module_version": "2.0.0",
      "model_name": "HTMLStyleModel",
      "state": {
       "description_width": "",
       "font_size": null,
       "text_color": null
      }
     },
     "a0d435870f3f42408bbab4f03049f3d6": {
      "model_module": "@jupyter-widgets/base",
      "model_module_version": "2.0.0",
      "model_name": "LayoutModel",
      "state": {
       "display": "inline-flex",
       "flex_flow": "row wrap",
       "width": "100%"
      }
     },
     "a32b0da541fc408592fa7f4ac4f4e025": {
      "model_module": "@jupyter-widgets/base",
      "model_module_version": "2.0.0",
      "model_name": "LayoutModel",
      "state": {}
     },
     "a4547f4025024f2b87308f7097a71e70": {
      "model_module": "@jupyter-widgets/base",
      "model_module_version": "2.0.0",
      "model_name": "LayoutModel",
      "state": {}
     },
     "a50d7260dbd74225926e89d9e76d72ee": {
      "model_module": "@jupyter-widgets/controls",
      "model_module_version": "2.0.0",
      "model_name": "HTMLStyleModel",
      "state": {
       "description_width": "",
       "font_size": null,
       "text_color": null
      }
     },
     "a653e94f2c33428fb56fb0e2297d93e0": {
      "model_module": "@jupyter-widgets/controls",
      "model_module_version": "2.0.0",
      "model_name": "ProgressStyleModel",
      "state": {
       "description_width": ""
      }
     },
     "a6a8cabe810a4b91832cbc28a3edc09d": {
      "model_module": "@jupyter-widgets/controls",
      "model_module_version": "2.0.0",
      "model_name": "HBoxModel",
      "state": {
       "children": [
        "IPY_MODEL_f6f511ec3ba94fdc9afce342341f3fa0",
        "IPY_MODEL_f65679bbca354fcda975d6a3317c991d",
        "IPY_MODEL_dd5a4cda30834a9ba6c18a3ba9d13c44"
       ],
       "layout": "IPY_MODEL_e0c4c15722a14232964c5442dee966af"
      }
     },
     "a7636b209299463585d756841cc323ce": {
      "model_module": "@jupyter-widgets/controls",
      "model_module_version": "2.0.0",
      "model_name": "HBoxModel",
      "state": {
       "children": [
        "IPY_MODEL_5a8901b9c0f041a99071be6ad0ec1437",
        "IPY_MODEL_b30b6ce2e1da4ebc887cb3e7c8fd6a44",
        "IPY_MODEL_d939c47599714b51bdd5693928ab7ac4"
       ],
       "layout": "IPY_MODEL_28c71502a017406ca24db418effc46ca"
      }
     },
     "a84241cf586a41f39919975ce406a543": {
      "model_module": "@jupyter-widgets/controls",
      "model_module_version": "2.0.0",
      "model_name": "HTMLStyleModel",
      "state": {
       "description_width": "",
       "font_size": null,
       "text_color": null
      }
     },
     "a8f9ba440aa44756bd2c3de3f819d886": {
      "model_module": "@jupyter-widgets/controls",
      "model_module_version": "2.0.0",
      "model_name": "FloatProgressModel",
      "state": {
       "bar_style": "success",
       "layout": "IPY_MODEL_c48401a679b34b4ca045377443448ec8",
       "max": 181688302,
       "style": "IPY_MODEL_82b3b612029d4702ae58cddf10e2cceb",
       "value": 181688302
      }
     },
     "a920e2b6704448ea9dba73bb8bd81ccf": {
      "model_module": "@jupyter-widgets/base",
      "model_module_version": "2.0.0",
      "model_name": "LayoutModel",
      "state": {}
     },
     "a9c875cc8ead4ff9817f2a995b24ca4a": {
      "model_module": "@jupyter-widgets/controls",
      "model_module_version": "2.0.0",
      "model_name": "HTMLModel",
      "state": {
       "layout": "IPY_MODEL_4f17f39d41394f529a4f8dcba2a84976",
       "style": "IPY_MODEL_f4089debcc894e66bc7eac0ac76829f9",
       "value": "quicklooks/S2B_MSIL2A_20240526T094549_N0510_R079_T35VLG_20240526T112501: "
      }
     },
     "aa84cf4fee6e4292849d46168edb5242": {
      "model_module": "@jupyter-widgets/controls",
      "model_module_version": "2.0.0",
      "model_name": "HBoxModel",
      "state": {
       "children": [
        "IPY_MODEL_29b381a07e094fb9b2791babdd1b76f8",
        "IPY_MODEL_cc37544878bf402f838481ff03887316",
        "IPY_MODEL_02a748ab406c4a919d3bc553bd240f1a"
       ],
       "layout": "IPY_MODEL_14b806f87de14f9d8d603f328b694aff"
      }
     },
     "aadb45d4267a4844af2ac3d5996199c6": {
      "model_module": "@jupyter-widgets/controls",
      "model_module_version": "2.0.0",
      "model_name": "HTMLModel",
      "state": {
       "layout": "IPY_MODEL_f7bd1ba390464be082c370cbaf0c29d5",
       "style": "IPY_MODEL_0a57f13fc0854b4c9df844592c37a9db",
       "value": "quicklooks/S2B_MSIL2A_20240526T094549_N0510_R079_T34VEK_20240526T112501: 100%"
      }
     },
     "abd7b18bea2648b1aaed627a89ff21e7": {
      "model_module": "@jupyter-widgets/controls",
      "model_module_version": "2.0.0",
      "model_name": "FloatProgressModel",
      "state": {
       "bar_style": "success",
       "layout": "IPY_MODEL_8a20a683522e49ffb7ea4213aa992c75",
       "max": 18229,
       "style": "IPY_MODEL_9d5d5d3ca2464c3997672996e4f4ee67",
       "value": 18229
      }
     },
     "ac1c94e36b474fe8bad9ee10b7da203c": {
      "model_module": "@jupyter-widgets/controls",
      "model_module_version": "2.0.0",
      "model_name": "HTMLStyleModel",
      "state": {
       "description_width": "",
       "font_size": null,
       "text_color": null
      }
     },
     "ad62335083294805b9d11465608a1c18": {
      "model_module": "@jupyter-widgets/controls",
      "model_module_version": "2.0.0",
      "model_name": "FloatProgressModel",
      "state": {
       "bar_style": "success",
       "layout": "IPY_MODEL_121a3f3829954522b05e89fa5772be8e",
       "max": 1,
       "style": "IPY_MODEL_4383a49fe73e4cb28e7de1aaf443c7a4"
      }
     },
     "ada72bdca9c14d8ba829fd7366009195": {
      "model_module": "@jupyter-widgets/base",
      "model_module_version": "2.0.0",
      "model_name": "LayoutModel",
      "state": {}
     },
     "ada976713ebd4a1cbe26a1f42e924608": {
      "model_module": "@jupyter-widgets/controls",
      "model_module_version": "2.0.0",
      "model_name": "FloatProgressModel",
      "state": {
       "bar_style": "success",
       "layout": "IPY_MODEL_5f410ec2073241a6996cea725067b475",
       "max": 1,
       "style": "IPY_MODEL_7634ad479b0e46d99a54f7d4d2e2743d"
      }
     },
     "adaeecbdb40b46c6a312c28120f4ee6d": {
      "model_module": "@jupyter-widgets/controls",
      "model_module_version": "2.0.0",
      "model_name": "HTMLModel",
      "state": {
       "layout": "IPY_MODEL_c844d09a6eb045879c72dd3ac762987d",
       "style": "IPY_MODEL_2f47048d44b248a0a82f2b244b3e42f1",
       "value": " 0.00/? [00:00&lt;?, ?B/s]"
      }
     },
     "aedd6afbf8f54eb794f82fc0a4a8ef7a": {
      "model_module": "@jupyter-widgets/base",
      "model_module_version": "2.0.0",
      "model_name": "LayoutModel",
      "state": {
       "flex": "2"
      }
     },
     "af3fe599647c442788164a74c476bb8b": {
      "model_module": "@jupyter-widgets/controls",
      "model_module_version": "2.0.0",
      "model_name": "HTMLModel",
      "state": {
       "layout": "IPY_MODEL_fb15e5c30ab64303a3324a75702979b6",
       "style": "IPY_MODEL_25a1993c477f4d3d9b44e5fdcf895fbe",
       "value": "quicklooks/S2B_MSIL2A_20240526T094549_N0510_R079_T34VFJ_20240526T112501: 100%"
      }
     },
     "afae5ed865fa4a1cbd21f1d2fe510e19": {
      "model_module": "@jupyter-widgets/base",
      "model_module_version": "2.0.0",
      "model_name": "LayoutModel",
      "state": {}
     },
     "b076cb81ef6d45b9bf49d7398c91cf8c": {
      "model_module": "@jupyter-widgets/controls",
      "model_module_version": "2.0.0",
      "model_name": "HTMLStyleModel",
      "state": {
       "description_width": "",
       "font_size": null,
       "text_color": null
      }
     },
     "b16340cb39aa49c9834f4fb13569408c": {
      "model_module": "@jupyter-widgets/controls",
      "model_module_version": "2.0.0",
      "model_name": "ProgressStyleModel",
      "state": {
       "description_width": ""
      }
     },
     "b17350f6ad89451384c40a3340f8fb4d": {
      "model_module": "@jupyter-widgets/controls",
      "model_module_version": "2.0.0",
      "model_name": "ProgressStyleModel",
      "state": {
       "description_width": ""
      }
     },
     "b2762ac97f924f93bc34e644749a38b4": {
      "model_module": "@jupyter-widgets/controls",
      "model_module_version": "2.0.0",
      "model_name": "HTMLModel",
      "state": {
       "layout": "IPY_MODEL_c6fc91fa87b241ad8467e2bcfe96eb28",
       "style": "IPY_MODEL_ccd6898b4bea47fbbc563c5bd30500c0",
       "value": "quicklooks/S2B_MSIL2A_20240526T094549_N0510_R079_T35VMG_20240526T112501: 100%"
      }
     },
     "b285cd39c7d342468a0eacf70faf2125": {
      "model_module": "@jupyter-widgets/base",
      "model_module_version": "2.0.0",
      "model_name": "LayoutModel",
      "state": {}
     },
     "b2d44c5af2c44e20af9e08c442b32da9": {
      "model_module": "@jupyter-widgets/controls",
      "model_module_version": "2.0.0",
      "model_name": "ProgressStyleModel",
      "state": {
       "description_width": ""
      }
     },
     "b2d84528b19446e9a390de96a3398c65": {
      "model_module": "@jupyter-widgets/controls",
      "model_module_version": "2.0.0",
      "model_name": "HBoxModel",
      "state": {
       "children": [
        "IPY_MODEL_c166f2f8dd794aec979aa70af5c36b31",
        "IPY_MODEL_6ab78d71850c4c1493318e14a9de4a12",
        "IPY_MODEL_7556fee88b034bf7b094983b16d37f49"
       ],
       "layout": "IPY_MODEL_440368503926493ea288ddd88569308a"
      }
     },
     "b30b6ce2e1da4ebc887cb3e7c8fd6a44": {
      "model_module": "@jupyter-widgets/controls",
      "model_module_version": "2.0.0",
      "model_name": "FloatProgressModel",
      "state": {
       "bar_style": "success",
       "layout": "IPY_MODEL_42770576d49e4545a568a6f3741afb8a",
       "max": 23737,
       "style": "IPY_MODEL_e3a72f1a3d584f19a68cd68973657a5a",
       "value": 23737
      }
     },
     "b4ec4352d4ef47ec98c609c58bbccb60": {
      "model_module": "@jupyter-widgets/controls",
      "model_module_version": "2.0.0",
      "model_name": "HTMLModel",
      "state": {
       "layout": "IPY_MODEL_d35285dd54b34fb1af5086e5a4df47e0",
       "style": "IPY_MODEL_4f8b950176d54d509b15b77f68886530",
       "value": " 10.5k/10.5k [00:00&lt;00:00, 264kB/s]"
      }
     },
     "b52c106978a24db89e3a2f98150182f7": {
      "model_module": "@jupyter-widgets/controls",
      "model_module_version": "2.0.0",
      "model_name": "HTMLStyleModel",
      "state": {
       "description_width": "",
       "font_size": null,
       "text_color": null
      }
     },
     "b65d2a4d5fb44dd1ab60c9eeb0023935": {
      "model_module": "@jupyter-widgets/controls",
      "model_module_version": "2.0.0",
      "model_name": "HTMLStyleModel",
      "state": {
       "description_width": "",
       "font_size": null,
       "text_color": null
      }
     },
     "b69ec91e92e244aba57c92f4a383d216": {
      "model_module": "@jupyter-widgets/base",
      "model_module_version": "2.0.0",
      "model_name": "LayoutModel",
      "state": {}
     },
     "b6e6dbe654fb4cd481c55570f79ca09a": {
      "model_module": "@jupyter-widgets/controls",
      "model_module_version": "2.0.0",
      "model_name": "ProgressStyleModel",
      "state": {
       "description_width": ""
      }
     },
     "b73acfc665d445d98a36c5dfca129506": {
      "model_module": "@jupyter-widgets/controls",
      "model_module_version": "2.0.0",
      "model_name": "HTMLStyleModel",
      "state": {
       "description_width": "",
       "font_size": null,
       "text_color": null
      }
     },
     "b74cf496da6f4b87b4f685bb880488db": {
      "model_module": "@jupyter-widgets/controls",
      "model_module_version": "2.0.0",
      "model_name": "HTMLModel",
      "state": {
       "layout": "IPY_MODEL_d8edde637e134fcc97613cb2d6aef2ae",
       "style": "IPY_MODEL_327c010cecd64ee8b106824f629b899c",
       "value": "quicklooks/S2B_MSIL2A_20240526T094549_N0510_R079_T35VLD_20240526T112501: 100%"
      }
     },
     "b7fb43aad904485397f2b5ed8f32be59": {
      "model_module": "@jupyter-widgets/controls",
      "model_module_version": "2.0.0",
      "model_name": "HBoxModel",
      "state": {
       "children": [
        "IPY_MODEL_e2b5cf7539544026bb8a3c06c6f9ec40",
        "IPY_MODEL_2254f9b1d363441e9c5fca6aafa5d18b",
        "IPY_MODEL_4099448419ae465ab82228365fb92a5a"
       ],
       "layout": "IPY_MODEL_134afc2e21fe468c968f5a71eaddb869"
      }
     },
     "b812a163a43a40d19dedf5891e5d9e9c": {
      "model_module": "@jupyter-widgets/base",
      "model_module_version": "2.0.0",
      "model_name": "LayoutModel",
      "state": {
       "flex": "2"
      }
     },
     "b86c7e7bafdd47f696d848c15cb836f5": {
      "model_module": "@jupyter-widgets/controls",
      "model_module_version": "2.0.0",
      "model_name": "HBoxModel",
      "state": {
       "children": [
        "IPY_MODEL_8fa16d6bb2454e25a659c2927885331f",
        "IPY_MODEL_90781aca063e415992ad17da1252545b",
        "IPY_MODEL_5a80d985eb8949f4bfe13d20ad8c8d74"
       ],
       "layout": "IPY_MODEL_2b9598d4916748a18280aaa94bd794b9"
      }
     },
     "b88353c6f5894b638fb55881a3d8ff6a": {
      "model_module": "@jupyter-widgets/controls",
      "model_module_version": "2.0.0",
      "model_name": "HTMLStyleModel",
      "state": {
       "description_width": "",
       "font_size": null,
       "text_color": null
      }
     },
     "b9b66ecfa9fc4b29a0e97fd175ec6ad0": {
      "model_module": "@jupyter-widgets/controls",
      "model_module_version": "2.0.0",
      "model_name": "ProgressStyleModel",
      "state": {
       "description_width": ""
      }
     },
     "b9bbf2636e624914bf353ad02e494ade": {
      "model_module": "@jupyter-widgets/controls",
      "model_module_version": "2.0.0",
      "model_name": "HTMLStyleModel",
      "state": {
       "description_width": "",
       "font_size": null,
       "text_color": null
      }
     },
     "b9d2be3d283c442693f017be52363c17": {
      "model_module": "@jupyter-widgets/base",
      "model_module_version": "2.0.0",
      "model_name": "LayoutModel",
      "state": {}
     },
     "ba0d92fadf3b4e4aa36c950d1c5a539d": {
      "model_module": "@jupyter-widgets/controls",
      "model_module_version": "2.0.0",
      "model_name": "HTMLModel",
      "state": {
       "layout": "IPY_MODEL_b69ec91e92e244aba57c92f4a383d216",
       "style": "IPY_MODEL_591be8bdf107438d8575358d72fafeb9",
       "value": "quicklooks/S2A_MSIL2A_20240528T094031_N0510_R036_T34VFM_20240528T125152: 100%"
      }
     },
     "ba427852cb3046058e13b27f7a93efbd": {
      "model_module": "@jupyter-widgets/base",
      "model_module_version": "2.0.0",
      "model_name": "LayoutModel",
      "state": {}
     },
     "ba77a3e326d74c30be692e977c3c6b3f": {
      "model_module": "@jupyter-widgets/controls",
      "model_module_version": "2.0.0",
      "model_name": "FloatProgressModel",
      "state": {
       "bar_style": "success",
       "layout": "IPY_MODEL_aedd6afbf8f54eb794f82fc0a4a8ef7a",
       "max": 1,
       "style": "IPY_MODEL_13de011ce30048e7b23790d2bb879589"
      }
     },
     "bc133ce0bac1431f9553e0925ac0ec55": {
      "model_module": "@jupyter-widgets/base",
      "model_module_version": "2.0.0",
      "model_name": "LayoutModel",
      "state": {}
     },
     "bcb9a4c18dfb401eaf2798d4ada7aad5": {
      "model_module": "@jupyter-widgets/base",
      "model_module_version": "2.0.0",
      "model_name": "LayoutModel",
      "state": {
       "display": "inline-flex",
       "flex_flow": "row wrap",
       "width": "100%"
      }
     },
     "bdbd80be5c284461885e0bcbd7830b49": {
      "model_module": "@jupyter-widgets/base",
      "model_module_version": "2.0.0",
      "model_name": "LayoutModel",
      "state": {
       "display": "inline-flex",
       "flex_flow": "row wrap",
       "width": "100%"
      }
     },
     "befce4c49fdd4c9d8b728c7e1f062f6a": {
      "model_module": "@jupyter-widgets/base",
      "model_module_version": "2.0.0",
      "model_name": "LayoutModel",
      "state": {
       "flex": "2"
      }
     },
     "bf1406734c0f43ec86730422448a9efc": {
      "model_module": "@jupyter-widgets/controls",
      "model_module_version": "2.0.0",
      "model_name": "HTMLModel",
      "state": {
       "layout": "IPY_MODEL_0c87e186ef174e4d93ff60a66d096861",
       "style": "IPY_MODEL_7aba5a41738a41bea70338f6cf0f0068",
       "value": "quicklooks/S2B_MSIL2A_20240526T094549_N0510_R079_T35VMF_20240526T112501: 100%"
      }
     },
     "c01ac4444c1c4e6381c92e6e8da327a2": {
      "model_module": "@jupyter-widgets/base",
      "model_module_version": "2.0.0",
      "model_name": "LayoutModel",
      "state": {}
     },
     "c166f2f8dd794aec979aa70af5c36b31": {
      "model_module": "@jupyter-widgets/controls",
      "model_module_version": "2.0.0",
      "model_name": "HTMLModel",
      "state": {
       "layout": "IPY_MODEL_9989f65ea78048f0adacdd48eeff75a1",
       "style": "IPY_MODEL_6a0d2955a7d04459a8987505cb39e950",
       "value": "quicklooks/S2B_MSIL2A_20240526T094549_N0510_R079_T34VEM_20240526T112501: 100%"
      }
     },
     "c21f5296bc2d46dc85ee709146702760": {
      "model_module": "@jupyter-widgets/controls",
      "model_module_version": "2.0.0",
      "model_name": "HTMLStyleModel",
      "state": {
       "description_width": "",
       "font_size": null,
       "text_color": null
      }
     },
     "c4086219326743afbdbcd2cf6491fb72": {
      "model_module": "@jupyter-widgets/controls",
      "model_module_version": "2.0.0",
      "model_name": "HTMLModel",
      "state": {
       "layout": "IPY_MODEL_a920e2b6704448ea9dba73bb8bd81ccf",
       "style": "IPY_MODEL_3a6a2cc07d1a4d049b8a7b05567ee081",
       "value": " 0.00/? [47:55&lt;?, ?B/s]"
      }
     },
     "c48401a679b34b4ca045377443448ec8": {
      "model_module": "@jupyter-widgets/base",
      "model_module_version": "2.0.0",
      "model_name": "LayoutModel",
      "state": {
       "flex": "2"
      }
     },
     "c503ed3c2aee47208bf05b68a7f72995": {
      "model_module": "@jupyter-widgets/controls",
      "model_module_version": "2.0.0",
      "model_name": "HTMLModel",
      "state": {
       "layout": "IPY_MODEL_629de55aeb8f4a0ea865df9975e3c7d8",
       "style": "IPY_MODEL_1d6e6fb211ed4931a276b907eb444aad",
       "value": " 14.3k/14.3k [00:00&lt;00:00, 183kB/s]"
      }
     },
     "c62c1a76015b462c955487baf567cb23": {
      "model_module": "@jupyter-widgets/controls",
      "model_module_version": "2.0.0",
      "model_name": "FloatProgressModel",
      "state": {
       "bar_style": "success",
       "layout": "IPY_MODEL_258357da2353493393983835dfdbc8bb",
       "max": 1,
       "style": "IPY_MODEL_7f85e8a9b8224218b25c1d57e8e0f5c0"
      }
     },
     "c672d8e136264323b6b7f71caaf7995f": {
      "model_module": "@jupyter-widgets/controls",
      "model_module_version": "2.0.0",
      "model_name": "FloatProgressModel",
      "state": {
       "bar_style": "success",
       "layout": "IPY_MODEL_93710a3de2764050ac7b4ad468071b3a",
       "max": 1,
       "style": "IPY_MODEL_7e6dd626da4c4a2397c62bc6ed17b983"
      }
     },
     "c6fc91fa87b241ad8467e2bcfe96eb28": {
      "model_module": "@jupyter-widgets/base",
      "model_module_version": "2.0.0",
      "model_name": "LayoutModel",
      "state": {}
     },
     "c844d09a6eb045879c72dd3ac762987d": {
      "model_module": "@jupyter-widgets/base",
      "model_module_version": "2.0.0",
      "model_name": "LayoutModel",
      "state": {}
     },
     "c854f1b7ac0f43fdb4ea4fb7588fb285": {
      "model_module": "@jupyter-widgets/controls",
      "model_module_version": "2.0.0",
      "model_name": "HBoxModel",
      "state": {
       "children": [
        "IPY_MODEL_216b29b8a2eb4fa285e6bc3c50b92bab",
        "IPY_MODEL_1d8db47a2c8b4b9c825a61b30083a4b9",
        "IPY_MODEL_813de475e1bf4f509a3e92862add5478"
       ],
       "layout": "IPY_MODEL_7a3df00f1bbb473b8eef6c72886b779c"
      }
     },
     "c8cb1374e2da482d824957cf4bea9fb2": {
      "model_module": "@jupyter-widgets/controls",
      "model_module_version": "2.0.0",
      "model_name": "HTMLModel",
      "state": {
       "layout": "IPY_MODEL_69072711699e458cb258c6bc708156b6",
       "style": "IPY_MODEL_b65d2a4d5fb44dd1ab60c9eeb0023935",
       "value": " 28.0k/28.0k [00:00&lt;00:00, 230kB/s]"
      }
     },
     "c9b8f07c013e4ce884d1a214eb77c3e4": {
      "model_module": "@jupyter-widgets/controls",
      "model_module_version": "2.0.0",
      "model_name": "HTMLModel",
      "state": {
       "layout": "IPY_MODEL_09ed5246ce584fd79c8091d3693075a2",
       "style": "IPY_MODEL_901dfdd77c0049c9b4a29017faa304b6",
       "value": "quicklooks/S2B_MSIL2A_20240526T094549_N0510_R079_T34VEJ_20240526T112501: 100%"
      }
     },
     "ca2293c674af4ebaa22db2e321f1578c": {
      "model_module": "@jupyter-widgets/controls",
      "model_module_version": "2.0.0",
      "model_name": "HTMLModel",
      "state": {
       "layout": "IPY_MODEL_f09916d7457d4e249882c64083a0909a",
       "style": "IPY_MODEL_394bb6b1e61d41d290efdbca799fe560",
       "value": " 0.00/? [00:00&lt;?, ?B/s]"
      }
     },
     "ca34e8faaf2a4a0d925faa2f7ed9e7ed": {
      "model_module": "@jupyter-widgets/controls",
      "model_module_version": "2.0.0",
      "model_name": "ProgressStyleModel",
      "state": {
       "description_width": ""
      }
     },
     "cab106fc7a0b41b082eeeed296b8dfd5": {
      "model_module": "@jupyter-widgets/base",
      "model_module_version": "2.0.0",
      "model_name": "LayoutModel",
      "state": {}
     },
     "cc37544878bf402f838481ff03887316": {
      "model_module": "@jupyter-widgets/controls",
      "model_module_version": "2.0.0",
      "model_name": "FloatProgressModel",
      "state": {
       "bar_style": "success",
       "layout": "IPY_MODEL_155208e2963f42b8b783958ee7ab3478",
       "max": 21753,
       "style": "IPY_MODEL_0565fb81c7b0472fb67b27e825c55b1f",
       "value": 21753
      }
     },
     "cc578548798d4d16b28e6a3dc2f706a7": {
      "model_module": "@jupyter-widgets/controls",
      "model_module_version": "2.0.0",
      "model_name": "HTMLModel",
      "state": {
       "layout": "IPY_MODEL_c01ac4444c1c4e6381c92e6e8da327a2",
       "style": "IPY_MODEL_24918ac5729146edb41b6c265788f4f8",
       "value": " 15.3k/15.3k [00:00&lt;00:00, 299kB/s]"
      }
     },
     "ccd6898b4bea47fbbc563c5bd30500c0": {
      "model_module": "@jupyter-widgets/controls",
      "model_module_version": "2.0.0",
      "model_name": "HTMLStyleModel",
      "state": {
       "description_width": "",
       "font_size": null,
       "text_color": null
      }
     },
     "cd3168550af340b99ad02369b74e702f": {
      "model_module": "@jupyter-widgets/controls",
      "model_module_version": "2.0.0",
      "model_name": "HTMLModel",
      "state": {
       "layout": "IPY_MODEL_ec63dbba826340ca9a52990910faf842",
       "style": "IPY_MODEL_e0ee111a2dd74e5096ad4ff6dc14278c",
       "value": " 18.2k/18.2k [00:00&lt;00:00, 272kB/s]"
      }
     },
     "cd713110e9054d6e80cfd8fac22325dd": {
      "model_module": "@jupyter-widgets/base",
      "model_module_version": "2.0.0",
      "model_name": "LayoutModel",
      "state": {}
     },
     "cdb4876ce56643be80bd980d20804f6d": {
      "model_module": "@jupyter-widgets/base",
      "model_module_version": "2.0.0",
      "model_name": "LayoutModel",
      "state": {
       "display": "inline-flex",
       "flex_flow": "row wrap",
       "width": "100%"
      }
     },
     "cdcda8533c6e46c1812c92904a491a04": {
      "model_module": "@jupyter-widgets/controls",
      "model_module_version": "2.0.0",
      "model_name": "HTMLStyleModel",
      "state": {
       "description_width": "",
       "font_size": null,
       "text_color": null
      }
     },
     "d01b580fec14463eb8daabeb18a1068c": {
      "model_module": "@jupyter-widgets/controls",
      "model_module_version": "2.0.0",
      "model_name": "FloatProgressModel",
      "state": {
       "bar_style": "success",
       "layout": "IPY_MODEL_fd680d119ca440e2aa794a2f9539bb38",
       "max": 15253,
       "style": "IPY_MODEL_1f1e795c6c414f509193a2a3f650e6c9",
       "value": 15253
      }
     },
     "d0f6d9a3b1f447b4819a2cc0cd9c49cf": {
      "model_module": "@jupyter-widgets/controls",
      "model_module_version": "2.0.0",
      "model_name": "HBoxModel",
      "state": {
       "children": [
        "IPY_MODEL_276f7e377ff443e18d567f857b75ebcb",
        "IPY_MODEL_7b636456d6034ecca2a539cfde4025f4",
        "IPY_MODEL_62c31df9c6ff4cf987b4bac8c66b6579"
       ],
       "layout": "IPY_MODEL_5a55a413ecdc485896ad33a0ddf59e46"
      }
     },
     "d17c2b4c21644ba29f2f8f516d22ee4e": {
      "model_module": "@jupyter-widgets/base",
      "model_module_version": "2.0.0",
      "model_name": "LayoutModel",
      "state": {
       "flex": "2"
      }
     },
     "d1e99ff6af704330abdc7c8136ad3b86": {
      "model_module": "@jupyter-widgets/base",
      "model_module_version": "2.0.0",
      "model_name": "LayoutModel",
      "state": {
       "display": "inline-flex",
       "flex_flow": "row wrap",
       "width": "100%"
      }
     },
     "d35285dd54b34fb1af5086e5a4df47e0": {
      "model_module": "@jupyter-widgets/base",
      "model_module_version": "2.0.0",
      "model_name": "LayoutModel",
      "state": {}
     },
     "d397bbc357654c5b9ec7ffca3fc894cc": {
      "model_module": "@jupyter-widgets/base",
      "model_module_version": "2.0.0",
      "model_name": "LayoutModel",
      "state": {
       "display": "inline-flex",
       "flex_flow": "row wrap",
       "width": "100%"
      }
     },
     "d42d16a39ff149308d6d52dbc2bf2090": {
      "model_module": "@jupyter-widgets/controls",
      "model_module_version": "2.0.0",
      "model_name": "HTMLModel",
      "state": {
       "layout": "IPY_MODEL_ada72bdca9c14d8ba829fd7366009195",
       "style": "IPY_MODEL_5498c0d1b0a94177a37cb8c8ee80b4b5",
       "value": " 0.00/? [00:00&lt;?, ?B/s]"
      }
     },
     "d607782ab8d4400081361fc41e798e81": {
      "model_module": "@jupyter-widgets/controls",
      "model_module_version": "2.0.0",
      "model_name": "ProgressStyleModel",
      "state": {
       "description_width": ""
      }
     },
     "d6587ffd628f489fae217837256b9903": {
      "model_module": "@jupyter-widgets/controls",
      "model_module_version": "2.0.0",
      "model_name": "HTMLModel",
      "state": {
       "layout": "IPY_MODEL_db2eb4c540a14f6c9e3dbc5ac9ebbcce",
       "style": "IPY_MODEL_f82db2f04fae421da1ccece7ff2a132a",
       "value": " 16.5k/16.5k [00:00&lt;00:00, 330kB/s]"
      }
     },
     "d6c0f3200e004d59b5c05f8036fa1fdc": {
      "model_module": "@jupyter-widgets/base",
      "model_module_version": "2.0.0",
      "model_name": "LayoutModel",
      "state": {
       "display": "inline-flex",
       "flex_flow": "row wrap",
       "width": "100%"
      }
     },
     "d6c3fbbaee444decbde5e78feaafae65": {
      "model_module": "@jupyter-widgets/base",
      "model_module_version": "2.0.0",
      "model_name": "LayoutModel",
      "state": {}
     },
     "d6fda693155847ae85a5ae9dc2f0daa4": {
      "model_module": "@jupyter-widgets/base",
      "model_module_version": "2.0.0",
      "model_name": "LayoutModel",
      "state": {}
     },
     "d787751ec6694958b5233fdc4dbc2226": {
      "model_module": "@jupyter-widgets/controls",
      "model_module_version": "2.0.0",
      "model_name": "HTMLModel",
      "state": {
       "layout": "IPY_MODEL_93dfd4b647154ddab25126706503469b",
       "style": "IPY_MODEL_f3e2d36ce39d412bbdf3e0f6d569b897",
       "value": " 17.7k/17.7k [00:00&lt;00:00, 113kB/s]"
      }
     },
     "d84e79fd991e4c41812e848e09a37bb7": {
      "model_module": "@jupyter-widgets/controls",
      "model_module_version": "2.0.0",
      "model_name": "HBoxModel",
      "state": {
       "children": [
        "IPY_MODEL_f94568664b244bd5a8d2223019c70b27",
        "IPY_MODEL_57635079a4a04510805d909c93bbee67",
        "IPY_MODEL_fa869c8f5fa44076afa190d55bf23e89"
       ],
       "layout": "IPY_MODEL_d895ada2de8a44d2aa8e325dcb3c71e3"
      }
     },
     "d895ada2de8a44d2aa8e325dcb3c71e3": {
      "model_module": "@jupyter-widgets/base",
      "model_module_version": "2.0.0",
      "model_name": "LayoutModel",
      "state": {
       "display": "inline-flex",
       "flex_flow": "row wrap",
       "width": "100%"
      }
     },
     "d8edde637e134fcc97613cb2d6aef2ae": {
      "model_module": "@jupyter-widgets/base",
      "model_module_version": "2.0.0",
      "model_name": "LayoutModel",
      "state": {}
     },
     "d939c47599714b51bdd5693928ab7ac4": {
      "model_module": "@jupyter-widgets/controls",
      "model_module_version": "2.0.0",
      "model_name": "HTMLModel",
      "state": {
       "layout": "IPY_MODEL_38663df717bc4ee2a08a51df13aaa248",
       "style": "IPY_MODEL_fb80369563bd4a589f6766ffb6dde740",
       "value": " 23.7k/23.7k [00:00&lt;00:00, 188kB/s]"
      }
     },
     "d9a6cf5ff2c4429c8a5ce055d2719dfd": {
      "model_module": "@jupyter-widgets/base",
      "model_module_version": "2.0.0",
      "model_name": "LayoutModel",
      "state": {}
     },
     "d9de08bc0fa046a0b815d4d75f219787": {
      "model_module": "@jupyter-widgets/controls",
      "model_module_version": "2.0.0",
      "model_name": "HBoxModel",
      "state": {
       "children": [
        "IPY_MODEL_766b0203b5bb4b47ba97a19a77e5498c",
        "IPY_MODEL_fb2fe55dea824683bbb724652c4e9827",
        "IPY_MODEL_adaeecbdb40b46c6a312c28120f4ee6d"
       ],
       "layout": "IPY_MODEL_7670537d97484ed19ec99fd8b8cdcc5a"
      }
     },
     "db2eb4c540a14f6c9e3dbc5ac9ebbcce": {
      "model_module": "@jupyter-widgets/base",
      "model_module_version": "2.0.0",
      "model_name": "LayoutModel",
      "state": {}
     },
     "db75c4490a3c4692aae35d552b54cf62": {
      "model_module": "@jupyter-widgets/controls",
      "model_module_version": "2.0.0",
      "model_name": "HTMLStyleModel",
      "state": {
       "description_width": "",
       "font_size": null,
       "text_color": null
      }
     },
     "dd5a4cda30834a9ba6c18a3ba9d13c44": {
      "model_module": "@jupyter-widgets/controls",
      "model_module_version": "2.0.0",
      "model_name": "HTMLModel",
      "state": {
       "layout": "IPY_MODEL_a32b0da541fc408592fa7f4ac4f4e025",
       "style": "IPY_MODEL_fcd8d4904d804159bfded0a5cde249c7",
       "value": " 0.00/? [00:00&lt;?, ?B/s]"
      }
     },
     "e01a97a747df4201be0a9d82c8fef025": {
      "model_module": "@jupyter-widgets/controls",
      "model_module_version": "2.0.0",
      "model_name": "FloatProgressModel",
      "state": {
       "bar_style": "success",
       "layout": "IPY_MODEL_3a31b28727cc43d4a71053707513367f",
       "max": 1,
       "style": "IPY_MODEL_8f659441bc044b1b93a5e830106bc8d0"
      }
     },
     "e0c4c15722a14232964c5442dee966af": {
      "model_module": "@jupyter-widgets/base",
      "model_module_version": "2.0.0",
      "model_name": "LayoutModel",
      "state": {
       "display": "inline-flex",
       "flex_flow": "row wrap",
       "width": "100%"
      }
     },
     "e0ee111a2dd74e5096ad4ff6dc14278c": {
      "model_module": "@jupyter-widgets/controls",
      "model_module_version": "2.0.0",
      "model_name": "HTMLStyleModel",
      "state": {
       "description_width": "",
       "font_size": null,
       "text_color": null
      }
     },
     "e12a4e6c259749308d64f5d079ed20de": {
      "model_module": "@jupyter-widgets/base",
      "model_module_version": "2.0.0",
      "model_name": "LayoutModel",
      "state": {
       "flex": "2"
      }
     },
     "e17896bb26c549e7a14ecbc4b5192d01": {
      "model_module": "@jupyter-widgets/controls",
      "model_module_version": "2.0.0",
      "model_name": "ProgressStyleModel",
      "state": {
       "description_width": ""
      }
     },
     "e1dcbe1182224325948ad72e72b50c67": {
      "model_module": "@jupyter-widgets/base",
      "model_module_version": "2.0.0",
      "model_name": "LayoutModel",
      "state": {}
     },
     "e218ec630db34a50a27e2673569d191c": {
      "model_module": "@jupyter-widgets/controls",
      "model_module_version": "2.0.0",
      "model_name": "HBoxModel",
      "state": {
       "children": [
        "IPY_MODEL_6da626f90ee544feb2aa0b7ac976d57f",
        "IPY_MODEL_f5b620b3f35b4d159c7f65b7a01fe41d",
        "IPY_MODEL_eef6107bcf2c4e7289aab868c1d98442"
       ],
       "layout": "IPY_MODEL_1bcaa653ed2640ae91d56340122c4a02"
      }
     },
     "e2b5cf7539544026bb8a3c06c6f9ec40": {
      "model_module": "@jupyter-widgets/controls",
      "model_module_version": "2.0.0",
      "model_name": "HTMLModel",
      "state": {
       "layout": "IPY_MODEL_0f6669db366247a88c74a8a24ac205a9",
       "style": "IPY_MODEL_6c99d114b4d64310a38741256b31691f",
       "value": "quicklooks/S2B_MSIL2A_20240526T094549_N0510_R079_T34VEJ_20240526T112501: "
      }
     },
     "e313edcce1194d38b0e00d086f9de759": {
      "model_module": "@jupyter-widgets/controls",
      "model_module_version": "2.0.0",
      "model_name": "HTMLStyleModel",
      "state": {
       "description_width": "",
       "font_size": null,
       "text_color": null
      }
     },
     "e3a72f1a3d584f19a68cd68973657a5a": {
      "model_module": "@jupyter-widgets/controls",
      "model_module_version": "2.0.0",
      "model_name": "ProgressStyleModel",
      "state": {
       "description_width": ""
      }
     },
     "e3f2001e8f574ec0a539fcdf69d07e92": {
      "model_module": "@jupyter-widgets/controls",
      "model_module_version": "2.0.0",
      "model_name": "HTMLModel",
      "state": {
       "layout": "IPY_MODEL_8224adbc3dd94ac6bc0db9e76259ea9b",
       "style": "IPY_MODEL_8d90f48d324748a688e8ab01a2b0974d",
       "value": "quicklooks/S2B_MSIL2A_20240526T094549_N0510_R079_T34VFJ_20240526T112501: "
      }
     },
     "e3f8ef188db4429983b65d8841338533": {
      "model_module": "@jupyter-widgets/controls",
      "model_module_version": "2.0.0",
      "model_name": "HBoxModel",
      "state": {
       "children": [
        "IPY_MODEL_6e6ea0c7cf274e74a9a48ab9270a2c14",
        "IPY_MODEL_ada976713ebd4a1cbe26a1f42e924608",
        "IPY_MODEL_e7b92e9ed68b4e0eb6b9a40a6e78ddb8"
       ],
       "layout": "IPY_MODEL_32c01de5c1a44d91acd64333f5f6cf85"
      }
     },
     "e4027fc3defd419a863f36f03a8d7147": {
      "model_module": "@jupyter-widgets/controls",
      "model_module_version": "2.0.0",
      "model_name": "HTMLModel",
      "state": {
       "layout": "IPY_MODEL_afae5ed865fa4a1cbd21f1d2fe510e19",
       "style": "IPY_MODEL_e313edcce1194d38b0e00d086f9de759",
       "value": " 11.7k/11.7k [00:00&lt;00:00, 153kB/s]"
      }
     },
     "e45eaf43ffa940bb966d091927bd4bf9": {
      "model_module": "@jupyter-widgets/controls",
      "model_module_version": "2.0.0",
      "model_name": "HTMLModel",
      "state": {
       "layout": "IPY_MODEL_a4547f4025024f2b87308f7097a71e70",
       "style": "IPY_MODEL_57b1cd3b9f93412cb4ebae8d90723856",
       "value": "quicklooks/S2B_MSIL2A_20240526T094549_N0510_R079_T34VEL_20240526T112501: 100%"
      }
     },
     "e4b7b5aca25543a4920e7a085152bd02": {
      "model_module": "@jupyter-widgets/base",
      "model_module_version": "2.0.0",
      "model_name": "LayoutModel",
      "state": {
       "flex": "2"
      }
     },
     "e5d6a2356f43485fbd46412b95058f9b": {
      "model_module": "@jupyter-widgets/controls",
      "model_module_version": "2.0.0",
      "model_name": "HTMLModel",
      "state": {
       "layout": "IPY_MODEL_7e401d7df0304611b9346da279fcb189",
       "style": "IPY_MODEL_477bb55ae5db41aa889fcab74f21f9c8",
       "value": " 0.00/? [00:00&lt;?, ?B/s]"
      }
     },
     "e6946640806b4fe9bb2ede3e175376c4": {
      "model_module": "@jupyter-widgets/base",
      "model_module_version": "2.0.0",
      "model_name": "LayoutModel",
      "state": {
       "flex": "2"
      }
     },
     "e6adf5cc1afd4d8ea7fefac6c59e5f95": {
      "model_module": "@jupyter-widgets/controls",
      "model_module_version": "2.0.0",
      "model_name": "ProgressStyleModel",
      "state": {
       "description_width": ""
      }
     },
     "e7abb2ed60c44451a9846be639a50686": {
      "model_module": "@jupyter-widgets/base",
      "model_module_version": "2.0.0",
      "model_name": "LayoutModel",
      "state": {
       "display": "inline-flex",
       "flex_flow": "row wrap",
       "width": "100%"
      }
     },
     "e7b92e9ed68b4e0eb6b9a40a6e78ddb8": {
      "model_module": "@jupyter-widgets/controls",
      "model_module_version": "2.0.0",
      "model_name": "HTMLModel",
      "state": {
       "layout": "IPY_MODEL_bc133ce0bac1431f9553e0925ac0ec55",
       "style": "IPY_MODEL_cdcda8533c6e46c1812c92904a491a04",
       "value": " 0.00/? [00:03&lt;?, ?B/s]"
      }
     },
     "e8e1836b47794f81952f5ddd84e45259": {
      "model_module": "@jupyter-widgets/controls",
      "model_module_version": "2.0.0",
      "model_name": "HTMLStyleModel",
      "state": {
       "description_width": "",
       "font_size": null,
       "text_color": null
      }
     },
     "e94f015b1fbc40d68293e11d88cd0329": {
      "model_module": "@jupyter-widgets/controls",
      "model_module_version": "2.0.0",
      "model_name": "ProgressStyleModel",
      "state": {
       "description_width": ""
      }
     },
     "e9b73111b1c84fd4810b098e0713bf4d": {
      "model_module": "@jupyter-widgets/controls",
      "model_module_version": "2.0.0",
      "model_name": "HBoxModel",
      "state": {
       "children": [
        "IPY_MODEL_e45eaf43ffa940bb966d091927bd4bf9",
        "IPY_MODEL_6f6457ac8abc408c93e01ba705329251",
        "IPY_MODEL_c503ed3c2aee47208bf05b68a7f72995"
       ],
       "layout": "IPY_MODEL_63f425d4eaf644108f5ab49396f64d61"
      }
     },
     "eabe279bd45d4e2ab5280e8064616866": {
      "model_module": "@jupyter-widgets/controls",
      "model_module_version": "2.0.0",
      "model_name": "HBoxModel",
      "state": {
       "children": [
        "IPY_MODEL_87650e9bce1349559d24c44167ad54c3",
        "IPY_MODEL_a8f9ba440aa44756bd2c3de3f819d886",
        "IPY_MODEL_216649ae736148778aabfc9111ecbcea"
       ],
       "layout": "IPY_MODEL_d397bbc357654c5b9ec7ffca3fc894cc"
      }
     },
     "eb7fe17f454844bc979d01f94d03f6d3": {
      "model_module": "@jupyter-widgets/base",
      "model_module_version": "2.0.0",
      "model_name": "LayoutModel",
      "state": {}
     },
     "ebd079029bcd4b6db7c47dbe328bbf72": {
      "model_module": "@jupyter-widgets/base",
      "model_module_version": "2.0.0",
      "model_name": "LayoutModel",
      "state": {
       "display": "inline-flex",
       "flex_flow": "row wrap",
       "width": "100%"
      }
     },
     "ec09bf83d8d7459db640b5622dc08849": {
      "model_module": "@jupyter-widgets/controls",
      "model_module_version": "2.0.0",
      "model_name": "HTMLStyleModel",
      "state": {
       "description_width": "",
       "font_size": null,
       "text_color": null
      }
     },
     "ec63dbba826340ca9a52990910faf842": {
      "model_module": "@jupyter-widgets/base",
      "model_module_version": "2.0.0",
      "model_name": "LayoutModel",
      "state": {}
     },
     "edb728d160fe451a956ea163ad5eecb0": {
      "model_module": "@jupyter-widgets/base",
      "model_module_version": "2.0.0",
      "model_name": "LayoutModel",
      "state": {}
     },
     "ee1d6b67b7e648079be00f2a9d14c26b": {
      "model_module": "@jupyter-widgets/base",
      "model_module_version": "2.0.0",
      "model_name": "LayoutModel",
      "state": {
       "display": "inline-flex",
       "flex_flow": "row wrap",
       "width": "100%"
      }
     },
     "eef6107bcf2c4e7289aab868c1d98442": {
      "model_module": "@jupyter-widgets/controls",
      "model_module_version": "2.0.0",
      "model_name": "HTMLModel",
      "state": {
       "layout": "IPY_MODEL_2b81cbe8be8a49168d3f12df860f5124",
       "style": "IPY_MODEL_2dd5a227354649a286bb930f3625b70c",
       "value": " 0.00/? [08:49&lt;?, ?B/s]"
      }
     },
     "ef6d87e31235432c84b1acdd066c9ff0": {
      "model_module": "@jupyter-widgets/base",
      "model_module_version": "2.0.0",
      "model_name": "LayoutModel",
      "state": {
       "display": "inline-flex",
       "flex_flow": "row wrap",
       "width": "100%"
      }
     },
     "f029b8b4040041839033bdf184062c42": {
      "model_module": "@jupyter-widgets/base",
      "model_module_version": "2.0.0",
      "model_name": "LayoutModel",
      "state": {
       "flex": "2"
      }
     },
     "f09916d7457d4e249882c64083a0909a": {
      "model_module": "@jupyter-widgets/base",
      "model_module_version": "2.0.0",
      "model_name": "LayoutModel",
      "state": {}
     },
     "f3e2d36ce39d412bbdf3e0f6d569b897": {
      "model_module": "@jupyter-widgets/controls",
      "model_module_version": "2.0.0",
      "model_name": "HTMLStyleModel",
      "state": {
       "description_width": "",
       "font_size": null,
       "text_color": null
      }
     },
     "f3f1ae596d6944248f86d997086ace01": {
      "model_module": "@jupyter-widgets/base",
      "model_module_version": "2.0.0",
      "model_name": "LayoutModel",
      "state": {}
     },
     "f4089debcc894e66bc7eac0ac76829f9": {
      "model_module": "@jupyter-widgets/controls",
      "model_module_version": "2.0.0",
      "model_name": "HTMLStyleModel",
      "state": {
       "description_width": "",
       "font_size": null,
       "text_color": null
      }
     },
     "f46fe7a4a70b41c3b333ba0d68af97f7": {
      "model_module": "@jupyter-widgets/base",
      "model_module_version": "2.0.0",
      "model_name": "LayoutModel",
      "state": {}
     },
     "f5b620b3f35b4d159c7f65b7a01fe41d": {
      "model_module": "@jupyter-widgets/controls",
      "model_module_version": "2.0.0",
      "model_name": "FloatProgressModel",
      "state": {
       "bar_style": "success",
       "layout": "IPY_MODEL_710f2f8cca6048bb98e3d66f1cd4eb9c",
       "max": 1,
       "style": "IPY_MODEL_828e2058ffa4462e9c05deda777ae623"
      }
     },
     "f65679bbca354fcda975d6a3317c991d": {
      "model_module": "@jupyter-widgets/controls",
      "model_module_version": "2.0.0",
      "model_name": "FloatProgressModel",
      "state": {
       "bar_style": "success",
       "layout": "IPY_MODEL_4b86d582ebf24faea0786e59db097984",
       "max": 1,
       "style": "IPY_MODEL_4716435712994694a496ac1edd50cfd7"
      }
     },
     "f6f511ec3ba94fdc9afce342341f3fa0": {
      "model_module": "@jupyter-widgets/controls",
      "model_module_version": "2.0.0",
      "model_name": "HTMLModel",
      "state": {
       "layout": "IPY_MODEL_388f0a9bf5c544a0b4763350cc990566",
       "style": "IPY_MODEL_7d9faf5c6a2f4bbdad829d23566ace4f",
       "value": "quicklooks/S2B_MSIL2A_20240526T094549_N0510_R079_T34VEM_20240526T112501: "
      }
     },
     "f74b120673a9434fa7df6b0dbc9174a8": {
      "model_module": "@jupyter-widgets/controls",
      "model_module_version": "2.0.0",
      "model_name": "HBoxModel",
      "state": {
       "children": [
        "IPY_MODEL_b2762ac97f924f93bc34e644749a38b4",
        "IPY_MODEL_4eca2cd9be5b4be8bc2e25cd48e4b2d0",
        "IPY_MODEL_e4027fc3defd419a863f36f03a8d7147"
       ],
       "layout": "IPY_MODEL_33e6177a57754f74ba0add7bd06456c4"
      }
     },
     "f7bd1ba390464be082c370cbaf0c29d5": {
      "model_module": "@jupyter-widgets/base",
      "model_module_version": "2.0.0",
      "model_name": "LayoutModel",
      "state": {}
     },
     "f82db2f04fae421da1ccece7ff2a132a": {
      "model_module": "@jupyter-widgets/controls",
      "model_module_version": "2.0.0",
      "model_name": "HTMLStyleModel",
      "state": {
       "description_width": "",
       "font_size": null,
       "text_color": null
      }
     },
     "f83283041ebd4d299a17778afb5404f6": {
      "model_module": "@jupyter-widgets/controls",
      "model_module_version": "2.0.0",
      "model_name": "ProgressStyleModel",
      "state": {
       "description_width": ""
      }
     },
     "f94568664b244bd5a8d2223019c70b27": {
      "model_module": "@jupyter-widgets/controls",
      "model_module_version": "2.0.0",
      "model_name": "HTMLModel",
      "state": {
       "layout": "IPY_MODEL_454b4b56cec04dc48d53359c96f527d3",
       "style": "IPY_MODEL_7734d1a564544706a6cb4f6290b3a35b",
       "value": "quicklooks/S2B_MSIL2A_20240526T094549_N0510_R079_T35VME_20240526T112501: 100%"
      }
     },
     "fa869c8f5fa44076afa190d55bf23e89": {
      "model_module": "@jupyter-widgets/controls",
      "model_module_version": "2.0.0",
      "model_name": "HTMLModel",
      "state": {
       "layout": "IPY_MODEL_45c35f6e65d4479caf8752075ed5f2bc",
       "style": "IPY_MODEL_300170bfcae142cab88acebc7fd33d62",
       "value": " 6.54k/6.54k [00:00&lt;00:00, 89.9kB/s]"
      }
     },
     "fb04cd4ac42548c18b01fba70d57f159": {
      "model_module": "@jupyter-widgets/base",
      "model_module_version": "2.0.0",
      "model_name": "LayoutModel",
      "state": {}
     },
     "fb15e5c30ab64303a3324a75702979b6": {
      "model_module": "@jupyter-widgets/base",
      "model_module_version": "2.0.0",
      "model_name": "LayoutModel",
      "state": {}
     },
     "fb2fe55dea824683bbb724652c4e9827": {
      "model_module": "@jupyter-widgets/controls",
      "model_module_version": "2.0.0",
      "model_name": "FloatProgressModel",
      "state": {
       "bar_style": "success",
       "layout": "IPY_MODEL_8ad90a815f844f34ac3119db8ff90f7c",
       "max": 1,
       "style": "IPY_MODEL_64b3236d10f54e0685afe5a249c999d2"
      }
     },
     "fb80369563bd4a589f6766ffb6dde740": {
      "model_module": "@jupyter-widgets/controls",
      "model_module_version": "2.0.0",
      "model_name": "HTMLStyleModel",
      "state": {
       "description_width": "",
       "font_size": null,
       "text_color": null
      }
     },
     "fbb69d43fa0e4f019c2da2c37d7cea43": {
      "model_module": "@jupyter-widgets/controls",
      "model_module_version": "2.0.0",
      "model_name": "FloatProgressModel",
      "state": {
       "bar_style": "success",
       "layout": "IPY_MODEL_f029b8b4040041839033bdf184062c42",
       "max": 19253,
       "style": "IPY_MODEL_d607782ab8d4400081361fc41e798e81",
       "value": 19253
      }
     },
     "fc1cb832ab144beb9d585b4c9e5cc68c": {
      "model_module": "@jupyter-widgets/controls",
      "model_module_version": "2.0.0",
      "model_name": "FloatProgressModel",
      "state": {
       "bar_style": "success",
       "layout": "IPY_MODEL_424dcb49cfda4bf4abeaff0343729256",
       "max": 28211,
       "style": "IPY_MODEL_6be47b174b1643ef93556006da600602",
       "value": 28211
      }
     },
     "fcab8d90b3bb45ff81b502bc3322bee9": {
      "model_module": "@jupyter-widgets/controls",
      "model_module_version": "2.0.0",
      "model_name": "HTMLModel",
      "state": {
       "layout": "IPY_MODEL_014d238bedc34158a9e0026743ed2569",
       "style": "IPY_MODEL_b88353c6f5894b638fb55881a3d8ff6a",
       "value": "quicklooks/S2A_MSIL2A_20240528T094031_N0510_R036_T34VEJ_20240528T125152: 100%"
      }
     },
     "fcd8d4904d804159bfded0a5cde249c7": {
      "model_module": "@jupyter-widgets/controls",
      "model_module_version": "2.0.0",
      "model_name": "HTMLStyleModel",
      "state": {
       "description_width": "",
       "font_size": null,
       "text_color": null
      }
     },
     "fd680d119ca440e2aa794a2f9539bb38": {
      "model_module": "@jupyter-widgets/base",
      "model_module_version": "2.0.0",
      "model_name": "LayoutModel",
      "state": {
       "flex": "2"
      }
     },
     "fe60ae2383df4a968b9002459f6a9265": {
      "model_module": "@jupyter-widgets/base",
      "model_module_version": "2.0.0",
      "model_name": "LayoutModel",
      "state": {}
     }
    },
    "version_major": 2,
    "version_minor": 0
   }
  }
 },
 "nbformat": 4,
 "nbformat_minor": 4
}
