{
 "cells": [
  {
   "cell_type": "markdown",
   "id": "6bfa496c-68f1-4625-8722-a2836489d636",
   "metadata": {},
   "source": [
    "# EODAG features overview\n",
    "\n",
    "## EODAG eocosystem\n",
    "\n",
    "- `eodag-cube`: Data access functionalities have been split to a separate project to avoid conflicts with unneeded libraries when using only EODAG basic functionalities.\n",
    "\n",
    "  EODAG-cube is available on [github](https://github.com/CS-SI/eodag-cube) and [pypi](https://pypi.org/project/eodag-cube/).\n",
    "- `eodag-labextension` : Jupyterlab extension that brings a friendly UI to your notebook and helps you search and browse for EO products using EODAG.\n",
    "\n",
    "  EODAG-labextension is available on [github](https://github.com/CS-SI/eodag-labextension) and [pypi](https://pypi.org/project/eodag-labextension).\n",
    "\n",
    "\n",
    "## Installation\n",
    "\n",
    "EODAG is really simple to install with `pip`:\n",
    "```sh\n",
    "pip install eodag\n",
    "```\n",
    "Or with `conda` from the conda-forge channel:\n",
    "```\n",
    "conda install -c conda-forge eodag\n",
    "```\n",
    "\n",
    "**_NOTE:_**  Since v3.0, EODAG comes with a minimal set of dependencies. If you want more features, please install using one of the following extras:\n",
    "- `eodag[all]`, includes everything that would be needed to run EODAG and associated tutorials with all features\n",
    "- `eodag[all-providers]`, includes dependencies required to have all providers available\n",
    "- `eodag[csw]`, includes dependencies for plugins using CSW\n",
    "- `eodag[ecmwf]`, includes dependencies for EcmwfApi (ecmwf provider)\n",
    "- `eodag[usgs]`, includes dependencies for UsgsApi (usgs provider)\n",
    "- `eodag[server]`, includes dependencies for server-mode\n",
    "\n",
    "> For the workshop, we will use `eodag[tutorials]==3.0.0b1`, `eodag-cube==0.5.0b1`, and `eodag-labextension==3.7.0b1`\n"
   ]
  },
  {
   "cell_type": "markdown",
   "id": "8ba82784-2c7a-441b-b4f0-5f2db57cfd37",
   "metadata": {},
   "source": []
  }
 ],
 "metadata": {
  "kernelspec": {
   "display_name": "Python 3 (ipykernel)",
   "language": "python",
   "name": "python3"
  },
  "language_info": {
   "codemirror_mode": {
    "name": "ipython",
    "version": 3
   },
   "file_extension": ".py",
   "mimetype": "text/x-python",
   "name": "python",
   "nbconvert_exporter": "python",
   "pygments_lexer": "ipython3",
   "version": "3.10.12"
  },
  "widgets": {
   "application/vnd.jupyter.widget-state+json": {
    "state": {},
    "version_major": 2,
    "version_minor": 0
   }
  }
 },
 "nbformat": 4,
 "nbformat_minor": 5
}
