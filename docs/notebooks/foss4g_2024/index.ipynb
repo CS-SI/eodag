{
 "cells": [
  {
   "cell_type": "markdown",
   "id": "79a5343b-3eb0-42de-9b02-fc03d1091ad4",
   "metadata": {},
   "source": [
    "# FOSS4G 2024 - Use of EODAG library for cross providers Earth Observation\n",
    "\n",
    "<img src=\"https://2024.europe.foss4g.org/images/logo.png\" alt=\"FOSS4G\" style=\"height: 200px;\"><img src=\"https://eodag.readthedocs.io/en/stable/_static/eodag_logo.png\" alt=\"EODAG\" style=\"height: 150px; margin-left: 50px;\">"
   ]
  },
  {
   "cell_type": "markdown",
   "id": "3d2e967b-c9c3-4fc7-b939-e7cf9bd0e4e2",
   "metadata": {},
   "source": [
    "## 1. [Introduction to EODAG](1-intro.ipynb)\n",
    "## 2. [EODAG features overview](2-features.ipynb)\n",
    "## 3. [Add your own providers](3-new-providers.ipynb)"
   ]
  },
  {
   "cell_type": "code",
   "execution_count": null,
   "id": "888d46d3-d258-4840-8dc3-37c61e22a74f",
   "metadata": {},
   "outputs": [],
   "source": []
  }
 ],
 "metadata": {
  "kernelspec": {
   "display_name": "Python 3 (ipykernel)",
   "language": "python",
   "name": "python3"
  },
  "language_info": {
   "codemirror_mode": {
    "name": "ipython",
    "version": 3
   },
   "file_extension": ".py",
   "mimetype": "text/x-python",
   "name": "python",
   "nbconvert_exporter": "python",
   "pygments_lexer": "ipython3",
   "version": "3.10.12"
  },
  "widgets": {
   "application/vnd.jupyter.widget-state+json": {
    "state": {},
    "version_major": 2,
    "version_minor": 0
   }
  }
 },
 "nbformat": 4,
 "nbformat_minor": 5
}
