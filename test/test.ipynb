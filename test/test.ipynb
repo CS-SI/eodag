{
 "cells": [
  {
   "cell_type": "code",
   "execution_count": null,
   "id": "b19b9593",
   "metadata": {},
   "outputs": [],
   "source": [
    "import os\n",
    "from getpass import getpass\n",
    "\n",
    "os.environ[\"EODAG__DEDL__PRIORITY\"]=\"10\"\n",
    "os.environ[\"EODAG__DEDL__SEARCH__TIMEOUT\"]=\"60\"\n",
    "\n",
    "DESP_USERNAME = input(\"Please input your DESP username or email: \")\n",
    "DESP_PASSWORD = getpass(\"Please input your DESP password: \")\n",
    "\n",
    "os.environ[\"EODAG__DEDL__AUTH__CREDENTIALS__USERNAME\"]=DESP_USERNAME\n",
    "os.environ[\"EODAG__DEDL__AUTH__CREDENTIALS__PASSWORD\"]=DESP_PASSWORD\n",
    "\n",
    "import matplotlib.pyplot as plt\n",
    "import matplotlib.image as mpimg\n",
    "\n",
    "from eodag import EODataAccessGateway\n",
    "\n",
    "dag = EODataAccessGateway()\n",
    "\n",
    "search_criteria = {\n",
    "    \"provider\":\"eumetsat_ds\",\n",
    "    \"productType\": \"S3_SLSTR_L1RBT\",\n",
    "    \"start\": \"2024-07-06\",\n",
    "    \"end\": \"2024-07-08\",\n",
    "    \"geom\": {\"lonmin\": 14.5, \"latmin\": 37, \"lonmax\": 15.5, \"latmax\": 38},\n",
    "    \"count\": True\n",
    "}\n",
    "\n",
    "products_first_page = dag.search(**search_criteria)\n",
    "\n",
    "fig = plt.figure(figsize=(20, 16))\n",
    "print(f\"Got now {len(products_first_page)} products after filtering by cloud coverage.\")\n",
    "for i, product in enumerate(products_first_page, start=1):\n",
    "    # This line takes care of downloading the quicklook\n",
    "    quicklook_path = product.get_quicklook()\n",
    "    img = mpimg.imread(quicklook_path)\n",
    "    ax = fig.add_subplot(5,4, i)\n",
    "#     ax.set_title(product.properties['dedl:beginningDateTime']+\"\\n\"+product.properties['modificationDate'])\n",
    "    plt.imshow(img)\n",
    "plt.tight_layout()\n"
   ]
  }
 ],
 "metadata": {
  "kernelspec": {
   "display_name": "venv",
   "language": "python",
   "name": "python3"
  },
  "language_info": {
   "codemirror_mode": {
    "name": "ipython",
    "version": 3
   },
   "file_extension": ".py",
   "mimetype": "text/x-python",
   "name": "python",
   "nbconvert_exporter": "python",
   "pygments_lexer": "ipython3",
   "version": "3.12.3"
  }
 },
 "nbformat": 4,
 "nbformat_minor": 5
}
